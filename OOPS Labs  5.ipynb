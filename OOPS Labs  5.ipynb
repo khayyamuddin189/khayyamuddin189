{
 "cells": [
  {
   "cell_type": "markdown",
   "id": "90706756-5752-41fd-8bb3-4ff2756c782d",
   "metadata": {},
   "source": [
    "# ***Name : khayyam***\n",
    "# ***Reg No : 23jzele0548***\n",
    "# **Lab : 05**"
   ]
  },
  {
   "cell_type": "markdown",
   "id": "a3161fda-1a34-4d21-a8be-a3f77d231d62",
   "metadata": {},
   "source": [
    "# Lab Report"
   ]
  },
  {
   "cell_type": "code",
   "execution_count": 22,
   "id": "64957294-9f62-489a-8c00-a2d7fc6e4caa",
   "metadata": {},
   "outputs": [],
   "source": [
    "class Circle:\n",
    "    \"\"\"A class to represent a circle and perform related calculations.\n",
    "    \n",
    "    Attributes:\n",
    "    radius : float\n",
    "        The radius of the circle with a default value 1.0.\n",
    "    \n",
    "    Methods:\n",
    "    area():\n",
    "        Returns the area of the circle.\n",
    "    circumference():\n",
    "        Returns the circumference of the circle.\n",
    "    diameter():\n",
    "        Returns the diameter of the circle.\n",
    "    cylinder_volume(height: float):\n",
    "        Returns the volume of a cylinder with the circle as its area and a given height.\n",
    "    \"\"\"\n",
    "    def __init__(self,radius: float = 1.0):\n",
    "        \"\"\"Initializes the Circle with a radius.\n",
    "\n",
    "        Parameters:\n",
    "        radius:\n",
    "            The radius of the circle with a default value of 1.0.\n",
    "        \"\"\"\n",
    "        self.radius = radius\n",
    "    def area(self)-> float :\n",
    "        \"\"\"Calculates the area of the circle.\n",
    "    Return:\n",
    "        Return area in float\n",
    "    \"\"\"\n",
    "        return math.pi * self.radius**2\n",
    "    def circumference(self) -> float:\n",
    "        \"\"\"Calculates the circumference of the circle.\n",
    "    Return:\n",
    "        Return circumference in float\n",
    "    \"\"\"\n",
    "        return math.pi * 2 * self.radius\n",
    "    def diameter(self) -> float:\n",
    "        \"\"\"Calculates the diameter of the circle.\n",
    "    Return:\n",
    "        Return diameter in float\n",
    "    \"\"\"\n",
    "        return  2 * self.radius\n",
    "    def Volume_of_cylinder(self, height: float) -> float:\n",
    "        \"\"\"Calculates the volume of cylinder with the area of the circle.\n",
    "    Parameters:\n",
    "        height : float\n",
    "            The height of the cylinder.\n",
    "        Return:\n",
    "        float\n",
    "            The volume of the cylinder.\n",
    "        \"\"\"\n",
    "        return self.area * height\n",
    "    def __repr__(self) -> str:\n",
    "        \"\"\"This representation is intended for developers,\n",
    "        showing the class name and radius attribute in a format suitable for\n",
    "        recreating the object.\"\"\"\n",
    "        return f\"{type(self).__name__} ({self.radius})\"\n",
    "    def __str__(self) -> str:\n",
    "        \"\"\" This representation provides a simple description of the circle's\n",
    "        radius and is intended for end-users or general display purposes.\"\"\"\n",
    "        return f\"Circle with Radius: {self.radius}\""
   ]
  },
  {
   "cell_type": "code",
   "execution_count": 23,
   "id": "a09e7577-538d-41c9-b3f5-2062ddeb6463",
   "metadata": {},
   "outputs": [],
   "source": [
    "inst_1 = Circle(4)\n",
    "inst_2 = Circle(8)"
   ]
  },
  {
   "cell_type": "code",
   "execution_count": 24,
   "id": "f2956c9e-cae9-452d-aaba-3719ad84e350",
   "metadata": {},
   "outputs": [
    {
     "name": "stdout",
     "output_type": "stream",
     "text": [
      "Circle with Radius: 4\n",
      "Circle with Radius: 8\n"
     ]
    }
   ],
   "source": [
    "print(inst_1)\n",
    "print(inst_2)"
   ]
  },
  {
   "cell_type": "code",
   "execution_count": 25,
   "id": "e1bf9b64-0fcc-4864-8f38-59346a892531",
   "metadata": {},
   "outputs": [
    {
     "name": "stdout",
     "output_type": "stream",
     "text": [
      "mappingproxy({'Volume_of_cylinder': <function Circle.Volume_of_cylinder at 0x0000019B3C6DFDC0>,\n",
      "              '__dict__': <attribute '__dict__' of 'Circle' objects>,\n",
      "              '__doc__': 'A class to represent a circle and perform related '\n",
      "                         'calculations.\\n'\n",
      "                         '    \\n'\n",
      "                         '    Attributes:\\n'\n",
      "                         '    radius : float\\n'\n",
      "                         '        The radius of the circle with a default '\n",
      "                         'value 1.0.\\n'\n",
      "                         '    \\n'\n",
      "                         '    Methods:\\n'\n",
      "                         '    area():\\n'\n",
      "                         '        Returns the area of the circle.\\n'\n",
      "                         '    circumference():\\n'\n",
      "                         '        Returns the circumference of the circle.\\n'\n",
      "                         '    diameter():\\n'\n",
      "                         '        Returns the diameter of the circle.\\n'\n",
      "                         '    cylinder_volume(height: float):\\n'\n",
      "                         '        Returns the volume of a cylinder with the '\n",
      "                         'circle as its area and a given height.\\n'\n",
      "                         '    ',\n",
      "              '__init__': <function Circle.__init__ at 0x0000019B3C6DFB80>,\n",
      "              '__module__': '__main__',\n",
      "              '__repr__': <function Circle.__repr__ at 0x0000019B3C6DFE50>,\n",
      "              '__str__': <function Circle.__str__ at 0x0000019B3C6DFEE0>,\n",
      "              '__weakref__': <attribute '__weakref__' of 'Circle' objects>,\n",
      "              'area': <function Circle.area at 0x0000019B3C6DFC10>,\n",
      "              'circumference': <function Circle.circumference at 0x0000019B3C6DFCA0>,\n",
      "              'diameter': <function Circle.diameter at 0x0000019B3C6DFD30>})\n"
     ]
    }
   ],
   "source": [
    "from pprint import pprint\n",
    "pprint(Circle.__dict__)"
   ]
  },
  {
   "cell_type": "code",
   "execution_count": 26,
   "id": "6e2bcfe3-ffd8-4d3c-a426-fd32e65ba0d0",
   "metadata": {},
   "outputs": [
    {
     "name": "stdout",
     "output_type": "stream",
     "text": [
      "mappingproxy({'Volume_of_cylinder': <function Circle.Volume_of_cylinder at 0x0000019B3C6DFDC0>,\n",
      "              '__dict__': <attribute '__dict__' of 'Circle' objects>,\n",
      "              '__doc__': 'A class to represent a circle and perform related '\n",
      "                         'calculations.\\n'\n",
      "                         '    \\n'\n",
      "                         '    Attributes:\\n'\n",
      "                         '    radius : float\\n'\n",
      "                         '        The radius of the circle with a default '\n",
      "                         'value 1.0.\\n'\n",
      "                         '    \\n'\n",
      "                         '    Methods:\\n'\n",
      "                         '    area():\\n'\n",
      "                         '        Returns the area of the circle.\\n'\n",
      "                         '    circumference():\\n'\n",
      "                         '        Returns the circumference of the circle.\\n'\n",
      "                         '    diameter():\\n'\n",
      "                         '        Returns the diameter of the circle.\\n'\n",
      "                         '    cylinder_volume(height: float):\\n'\n",
      "                         '        Returns the volume of a cylinder with the '\n",
      "                         'circle as its area and a given height.\\n'\n",
      "                         '    ',\n",
      "              '__init__': <function Circle.__init__ at 0x0000019B3C6DFB80>,\n",
      "              '__module__': '__main__',\n",
      "              '__repr__': <function Circle.__repr__ at 0x0000019B3C6DFE50>,\n",
      "              '__str__': <function Circle.__str__ at 0x0000019B3C6DFEE0>,\n",
      "              '__weakref__': <attribute '__weakref__' of 'Circle' objects>,\n",
      "              'area': <function Circle.area at 0x0000019B3C6DFC10>,\n",
      "              'circumference': <function Circle.circumference at 0x0000019B3C6DFCA0>,\n",
      "              'diameter': <function Circle.diameter at 0x0000019B3C6DFD30>})\n"
     ]
    }
   ],
   "source": [
    "pprint(vars(Circle))"
   ]
  },
  {
   "cell_type": "code",
   "execution_count": 27,
   "id": "03d89779-3cf5-43dc-915b-93d428e7b9ee",
   "metadata": {},
   "outputs": [
    {
     "name": "stdout",
     "output_type": "stream",
     "text": [
      "{'radius': 4}\n"
     ]
    }
   ],
   "source": [
    "print(inst_1.__dict__)"
   ]
  },
  {
   "cell_type": "code",
   "execution_count": 28,
   "id": "06d9316c-5d08-43d7-8ac7-11d6fa5674ab",
   "metadata": {},
   "outputs": [
    {
     "name": "stdout",
     "output_type": "stream",
     "text": [
      "{'radius': 8}\n"
     ]
    }
   ],
   "source": [
    "print(inst_2.__dict__)"
   ]
  },
  {
   "cell_type": "code",
   "execution_count": 29,
   "id": "67302ed0-be4c-47f9-a609-2fb39e1ca3ab",
   "metadata": {},
   "outputs": [
    {
     "name": "stdout",
     "output_type": "stream",
     "text": [
      "Help on class Circle in module __main__:\n",
      "\n",
      "class Circle(builtins.object)\n",
      " |  Circle(radius: float = 1.0)\n",
      " |  \n",
      " |  A class to represent a circle and perform related calculations.\n",
      " |  \n",
      " |  Attributes:\n",
      " |  radius : float\n",
      " |      The radius of the circle with a default value 1.0.\n",
      " |  \n",
      " |  Methods:\n",
      " |  area():\n",
      " |      Returns the area of the circle.\n",
      " |  circumference():\n",
      " |      Returns the circumference of the circle.\n",
      " |  diameter():\n",
      " |      Returns the diameter of the circle.\n",
      " |  cylinder_volume(height: float):\n",
      " |      Returns the volume of a cylinder with the circle as its area and a given height.\n",
      " |  \n",
      " |  Methods defined here:\n",
      " |  \n",
      " |  Volume_of_cylinder(self, height: float) -> float\n",
      " |      Calculates the volume of cylinder with the area of the circle.\n",
      " |      Parameters:\n",
      " |          height : float\n",
      " |              The height of the cylinder.\n",
      " |          Return:\n",
      " |          float\n",
      " |              The volume of the cylinder.\n",
      " |  \n",
      " |  __init__(self, radius: float = 1.0)\n",
      " |      Initializes the Circle with a radius.\n",
      " |      \n",
      " |      Parameters:\n",
      " |      radius:\n",
      " |          The radius of the circle with a default value of 1.0.\n",
      " |  \n",
      " |  __repr__(self) -> str\n",
      " |      This representation is intended for developers,\n",
      " |      showing the class name and radius attribute in a format suitable for\n",
      " |      recreating the object.\n",
      " |  \n",
      " |  __str__(self) -> str\n",
      " |      This representation provides a simple description of the circle's\n",
      " |      radius and is intended for end-users or general display purposes.\n",
      " |  \n",
      " |  area(self) -> float\n",
      " |      Calculates the area of the circle.\n",
      " |      Return:\n",
      " |          Return area in float\n",
      " |  \n",
      " |  circumference(self) -> float\n",
      " |      Calculates the circumference of the circle.\n",
      " |      Return:\n",
      " |          Return circumference in float\n",
      " |  \n",
      " |  diameter(self) -> float\n",
      " |      Calculates the diameter of the circle.\n",
      " |      Return:\n",
      " |          Return diameter in float\n",
      " |  \n",
      " |  ----------------------------------------------------------------------\n",
      " |  Data descriptors defined here:\n",
      " |  \n",
      " |  __dict__\n",
      " |      dictionary for instance variables (if defined)\n",
      " |  \n",
      " |  __weakref__\n",
      " |      list of weak references to the object (if defined)\n",
      "\n"
     ]
    }
   ],
   "source": [
    "help(Circle)"
   ]
  },
  {
   "cell_type": "code",
   "execution_count": 30,
   "id": "2ff8587b-107b-4491-9eda-a384974a8597",
   "metadata": {},
   "outputs": [
    {
     "name": "stdout",
     "output_type": "stream",
     "text": [
      "A class to represent a circle and perform related calculations.\n",
      "    \n",
      "    Attributes:\n",
      "    radius : float\n",
      "        The radius of the circle with a default value 1.0.\n",
      "    \n",
      "    Methods:\n",
      "    area():\n",
      "        Returns the area of the circle.\n",
      "    circumference():\n",
      "        Returns the circumference of the circle.\n",
      "    diameter():\n",
      "        Returns the diameter of the circle.\n",
      "    cylinder_volume(height: float):\n",
      "        Returns the volume of a cylinder with the circle as its area and a given height.\n",
      "    \n",
      "\n",
      "{'radius': <class 'float'>}\n",
      "Initializes the Circle with a radius.\n",
      "\n",
      "        Parameters:\n",
      "        radius:\n",
      "            The radius of the circle with a default value of 1.0.\n",
      "        \n",
      "\n",
      "Calculates the area of the circle.\n",
      "    Return:\n",
      "        Return area in float\n",
      "    \n",
      "Calculates the circumference of the circle.\n",
      "    Return:\n",
      "        Return circumference in float\n",
      "    \n",
      "\n",
      "Calculates the diameter of the circle.\n",
      "    Return:\n",
      "        Return diameter in float\n",
      "    \n",
      "\n",
      "This representation is intended for developers,\n",
      "        showing the class name and radius attribute in a format suitable for\n",
      "        recreating the object.\n",
      " This representation provides a simple description of the circle's\n",
      "        radius and is intended for end-users or general display purposes.\n"
     ]
    }
   ],
   "source": [
    "print(Circle.__doc__)\n",
    "print()\n",
    "print(Circle.__init__.__annotations__)\n",
    "print(Circle.__init__.__doc__)\n",
    "print()\n",
    "print(Circle.area.__doc__)\n",
    "print(Circle.circumference.__doc__)\n",
    "print()\n",
    "print(Circle.diameter.__doc__)\n",
    "\n",
    "print()\n",
    "print(Circle.__repr__.__doc__)\n",
    "print(Circle.__str__.__doc__)"
   ]
  },
  {
   "cell_type": "code",
   "execution_count": 31,
   "id": "240efd92-1c85-4bba-bf55-4a93a8305588",
   "metadata": {},
   "outputs": [
    {
     "name": "stdout",
     "output_type": "stream",
     "text": [
      "Circle with Radius: 1.0\n"
     ]
    },
    {
     "data": {
      "text/plain": [
       "Circle (1.0)"
      ]
     },
     "execution_count": 31,
     "metadata": {},
     "output_type": "execute_result"
    }
   ],
   "source": [
    "inst_3 = Circle()\n",
    "print(inst_3)\n",
    "inst_3"
   ]
  },
  {
   "cell_type": "markdown",
   "id": "67176d4b-443b-4d20-95a6-6d433bb63356",
   "metadata": {},
   "source": [
    "# Lab Task"
   ]
  },
  {
   "cell_type": "markdown",
   "id": "3920b0be-42a7-498d-83fa-c0b6757a9bf3",
   "metadata": {},
   "source": [
    "1. Define a class circle. Your class must have the appropriate __init__ method.\n",
    "* In addition, add an instance method for the volume of a cylinder with the given\n",
    "radius.\n",
    "* Add property method for area, circumference, and diameter.\n",
    "*  Add __repr__ and __str__ to the class.\n",
    "* Add proper annotation and doc string to every class and instance method."
   ]
  },
  {
   "cell_type": "code",
   "execution_count": null,
   "id": "553189fe-b065-4b18-a17a-35f113ecec0b",
   "metadata": {},
   "outputs": [],
   "source": [
    "import math"
   ]
  },
  {
   "cell_type": "code",
   "execution_count": null,
   "id": "2c64d644-3af1-4d96-81d7-ed72030b2a1c",
   "metadata": {},
   "outputs": [],
   "source": [
    "class Circle:\n",
    "    pass"
   ]
  },
  {
   "cell_type": "code",
   "execution_count": 212,
   "id": "589aaeb9-b98d-40aa-bc93-9ccf4d00d1dc",
   "metadata": {},
   "outputs": [],
   "source": [
    "class Circle:\n",
    "    \"\"\"A class to represent a circle and perform related calculations.\n",
    "    \n",
    "    Attributes:\n",
    "    radius : float\n",
    "        The radius of the circle with a default value 1.0.\n",
    "    \n",
    "    Methods:\n",
    "    area():\n",
    "        Returns the area of the circle.\n",
    "    circumference():\n",
    "        Returns the circumference of the circle.\n",
    "    diameter():\n",
    "        Returns the diameter of the circle.\n",
    "    cylinder_volume(height: float):\n",
    "        Returns the volume of a cylinder with the circle as its area and a given height.\n",
    "    \"\"\"\n",
    "    def __init__(self,radius: float = 1.0):\n",
    "        \"\"\"Initializes the Circle with a radius.\n",
    "\n",
    "        Parameters:\n",
    "        radius:\n",
    "            The radius of the circle with a default value of 1.0.\n",
    "        \"\"\"\n",
    "        self.radius = radius\n",
    "    def area(self)-> float :\n",
    "        \"\"\"Calculates the area of the circle.\n",
    "    Return:\n",
    "        Return area in float\n",
    "    \"\"\"\n",
    "        return math.pi * self.radius**2\n",
    "    def circumference(self) -> float:\n",
    "        \"\"\"Calculates the circumference of the circle.\n",
    "    Return:\n",
    "        Return circumference in float\n",
    "    \"\"\"\n",
    "        return math.pi * 2 * self.radius\n",
    "    def diameter(self) -> float:\n",
    "        \"\"\"Calculates the diameter of the circle.\n",
    "    Return:\n",
    "        Return diameter in float\n",
    "    \"\"\"\n",
    "        return  2 * self.radius\n",
    "    def Volume_of_cylinder(self, height: float) -> float:\n",
    "        \"\"\"Calculates the volume of cylinder with the area of the circle.\n",
    "    Parameters:\n",
    "        height : float\n",
    "            The height of the cylinder.\n",
    "        Return:\n",
    "        float\n",
    "            The volume of the cylinder.\n",
    "        \"\"\"\n",
    "        return self.area * height\n",
    "    def __repr__(self) -> str:\n",
    "        \"\"\"This representation is intended for developers,\n",
    "        showing the class name and radius attribute in a format suitable for\n",
    "        recreating the object.\"\"\"\n",
    "        return f\"{type(self).__name__} ({self.radius})\"\n",
    "    def __str__(self) -> str:\n",
    "        \"\"\" This representation provides a simple description of the circle's\n",
    "        radius and is intended for end-users or general display purposes.\"\"\"\n",
    "        return f\"Circle with Radius: {self.radius}\""
   ]
  },
  {
   "cell_type": "markdown",
   "id": "e1a69d58-7fb6-42a6-aa0a-733985ff7246",
   "metadata": {},
   "source": [
    "a. Define inst_1 and pass two numbers. \n"
   ]
  },
  {
   "cell_type": "code",
   "execution_count": 213,
   "id": "e8b35dfa-25cb-46aa-aab0-ee8635c2639a",
   "metadata": {},
   "outputs": [],
   "source": [
    "inst_1 = Circle(4)"
   ]
  },
  {
   "cell_type": "markdown",
   "id": "ae5565ae-78cb-4499-b7ff-3223396777c7",
   "metadata": {},
   "source": [
    "b. Make another instance inst2"
   ]
  },
  {
   "cell_type": "code",
   "execution_count": 214,
   "id": "681d0010-41b0-4e5c-a7d2-23a9a7c6c9ba",
   "metadata": {},
   "outputs": [],
   "source": [
    "inst_2 = Circle(8)"
   ]
  },
  {
   "cell_type": "markdown",
   "id": "7dd78f2a-be9c-4f11-bfe3-4b2d7e9a1991",
   "metadata": {},
   "source": [
    "c. Print inst_1 and inst_2, for this use the print command and pass the inst_1 and inst_2."
   ]
  },
  {
   "cell_type": "code",
   "execution_count": 215,
   "id": "8395ce66-afdd-47a0-a447-411efe0a1a11",
   "metadata": {},
   "outputs": [
    {
     "name": "stdout",
     "output_type": "stream",
     "text": [
      "Circle with Radius: 4\n",
      "Circle with Radius: 8\n"
     ]
    }
   ],
   "source": [
    "print(inst_1)\n",
    "print(inst_2)"
   ]
  },
  {
   "cell_type": "markdown",
   "id": "f8973b8d-38d0-4d13-b3db-baf51f1b08a5",
   "metadata": {},
   "source": [
    "d. Call the __dict__ by the class name. "
   ]
  },
  {
   "cell_type": "code",
   "execution_count": 216,
   "id": "7c9d530b-6e68-45a5-be5e-03487ea7b04d",
   "metadata": {},
   "outputs": [
    {
     "name": "stdout",
     "output_type": "stream",
     "text": [
      "mappingproxy({'Volume_of_cylinder': <function Circle.Volume_of_cylinder at 0x00000200442FC9D0>,\n",
      "              '__dict__': <attribute '__dict__' of 'Circle' objects>,\n",
      "              '__doc__': 'A class to represent a circle and perform related '\n",
      "                         'calculations.\\n'\n",
      "                         '    \\n'\n",
      "                         '    Attributes:\\n'\n",
      "                         '    radius : float\\n'\n",
      "                         '        The radius of the circle with a default '\n",
      "                         'value 1.0.\\n'\n",
      "                         '    \\n'\n",
      "                         '    Methods:\\n'\n",
      "                         '    area():\\n'\n",
      "                         '        Returns the area of the circle.\\n'\n",
      "                         '    circumference():\\n'\n",
      "                         '        Returns the circumference of the circle.\\n'\n",
      "                         '    diameter():\\n'\n",
      "                         '        Returns the diameter of the circle.\\n'\n",
      "                         '    cylinder_volume(height: float):\\n'\n",
      "                         '        Returns the volume of a cylinder with the '\n",
      "                         'circle as its area and a given height.\\n'\n",
      "                         '    ',\n",
      "              '__init__': <function Circle.__init__ at 0x00000200441B4160>,\n",
      "              '__module__': '__main__',\n",
      "              '__repr__': <function Circle.__repr__ at 0x00000200442FC280>,\n",
      "              '__str__': <function Circle.__str__ at 0x00000200442FC820>,\n",
      "              '__weakref__': <attribute '__weakref__' of 'Circle' objects>,\n",
      "              'area': <function Circle.area at 0x00000200441B44C0>,\n",
      "              'circumference': <function Circle.circumference at 0x00000200441B49D0>,\n",
      "              'diameter': <function Circle.diameter at 0x00000200441B4940>})\n"
     ]
    }
   ],
   "source": [
    "from pprint import pprint\n",
    "pprint(Circle.__dict__)"
   ]
  },
  {
   "cell_type": "markdown",
   "id": "09bccefe-5ff9-4b11-b5ad-b1fe7533b461",
   "metadata": {},
   "source": [
    "e. Also pass the class name to the vars built-in function."
   ]
  },
  {
   "cell_type": "code",
   "execution_count": 217,
   "id": "977f808d-4d16-436a-a29a-ae7404ce0abf",
   "metadata": {},
   "outputs": [
    {
     "name": "stdout",
     "output_type": "stream",
     "text": [
      "mappingproxy({'Volume_of_cylinder': <function Circle.Volume_of_cylinder at 0x00000200442FC9D0>,\n",
      "              '__dict__': <attribute '__dict__' of 'Circle' objects>,\n",
      "              '__doc__': 'A class to represent a circle and perform related '\n",
      "                         'calculations.\\n'\n",
      "                         '    \\n'\n",
      "                         '    Attributes:\\n'\n",
      "                         '    radius : float\\n'\n",
      "                         '        The radius of the circle with a default '\n",
      "                         'value 1.0.\\n'\n",
      "                         '    \\n'\n",
      "                         '    Methods:\\n'\n",
      "                         '    area():\\n'\n",
      "                         '        Returns the area of the circle.\\n'\n",
      "                         '    circumference():\\n'\n",
      "                         '        Returns the circumference of the circle.\\n'\n",
      "                         '    diameter():\\n'\n",
      "                         '        Returns the diameter of the circle.\\n'\n",
      "                         '    cylinder_volume(height: float):\\n'\n",
      "                         '        Returns the volume of a cylinder with the '\n",
      "                         'circle as its area and a given height.\\n'\n",
      "                         '    ',\n",
      "              '__init__': <function Circle.__init__ at 0x00000200441B4160>,\n",
      "              '__module__': '__main__',\n",
      "              '__repr__': <function Circle.__repr__ at 0x00000200442FC280>,\n",
      "              '__str__': <function Circle.__str__ at 0x00000200442FC820>,\n",
      "              '__weakref__': <attribute '__weakref__' of 'Circle' objects>,\n",
      "              'area': <function Circle.area at 0x00000200441B44C0>,\n",
      "              'circumference': <function Circle.circumference at 0x00000200441B49D0>,\n",
      "              'diameter': <function Circle.diameter at 0x00000200441B4940>})\n"
     ]
    }
   ],
   "source": [
    "pprint(vars(Circle))"
   ]
  },
  {
   "cell_type": "code",
   "execution_count": 218,
   "id": "a206fbab-5c8d-4d80-80cc-b315b4539b29",
   "metadata": {},
   "outputs": [
    {
     "name": "stdout",
     "output_type": "stream",
     "text": [
      "{'radius': 4}\n"
     ]
    }
   ],
   "source": [
    "print(inst_1.__dict__)"
   ]
  },
  {
   "cell_type": "code",
   "execution_count": 219,
   "id": "f5eeef91-99b3-42ac-9703-c2a7c4f2c75a",
   "metadata": {},
   "outputs": [
    {
     "name": "stdout",
     "output_type": "stream",
     "text": [
      "{'radius': 8}\n"
     ]
    }
   ],
   "source": [
    "print(inst_2.__dict__)"
   ]
  },
  {
   "cell_type": "markdown",
   "id": "b171e8bc-44e7-496e-9fa4-4f44fd8b54fa",
   "metadata": {},
   "source": [
    "g. Pass the class name to help. "
   ]
  },
  {
   "cell_type": "code",
   "execution_count": 220,
   "id": "c8244d81-bbfe-4262-ae5a-465892c2a1cb",
   "metadata": {},
   "outputs": [
    {
     "name": "stdout",
     "output_type": "stream",
     "text": [
      "Help on class Circle in module __main__:\n",
      "\n",
      "class Circle(builtins.object)\n",
      " |  Circle(radius: float = 1.0)\n",
      " |  \n",
      " |  A class to represent a circle and perform related calculations.\n",
      " |  \n",
      " |  Attributes:\n",
      " |  radius : float\n",
      " |      The radius of the circle with a default value 1.0.\n",
      " |  \n",
      " |  Methods:\n",
      " |  area():\n",
      " |      Returns the area of the circle.\n",
      " |  circumference():\n",
      " |      Returns the circumference of the circle.\n",
      " |  diameter():\n",
      " |      Returns the diameter of the circle.\n",
      " |  cylinder_volume(height: float):\n",
      " |      Returns the volume of a cylinder with the circle as its area and a given height.\n",
      " |  \n",
      " |  Methods defined here:\n",
      " |  \n",
      " |  Volume_of_cylinder(self, height: float) -> float\n",
      " |      Calculates the volume of cylinder with the area of the circle.\n",
      " |      Parameters:\n",
      " |          height : float\n",
      " |              The height of the cylinder.\n",
      " |          Return:\n",
      " |          float\n",
      " |              The volume of the cylinder.\n",
      " |  \n",
      " |  __init__(self, radius: float = 1.0)\n",
      " |      Initializes the Circle with a radius.\n",
      " |      \n",
      " |      Parameters:\n",
      " |      radius:\n",
      " |          The radius of the circle with a default value of 1.0.\n",
      " |  \n",
      " |  __repr__(self) -> str\n",
      " |      This representation is intended for developers,\n",
      " |      showing the class name and radius attribute in a format suitable for\n",
      " |      recreating the object.\n",
      " |  \n",
      " |  __str__(self) -> str\n",
      " |      This representation provides a simple description of the circle's\n",
      " |      radius and is intended for end-users or general display purposes.\n",
      " |  \n",
      " |  area(self) -> float\n",
      " |      Calculates the area of the circle.\n",
      " |      Return:\n",
      " |          Return area in float\n",
      " |  \n",
      " |  circumference(self) -> float\n",
      " |      Calculates the circumference of the circle.\n",
      " |      Return:\n",
      " |          Return circumference in float\n",
      " |  \n",
      " |  diameter(self) -> float\n",
      " |      Calculates the diameter of the circle.\n",
      " |      Return:\n",
      " |          Return diameter in float\n",
      " |  \n",
      " |  ----------------------------------------------------------------------\n",
      " |  Data descriptors defined here:\n",
      " |  \n",
      " |  __dict__\n",
      " |      dictionary for instance variables (if defined)\n",
      " |  \n",
      " |  __weakref__\n",
      " |      list of weak references to the object (if defined)\n",
      "\n"
     ]
    }
   ],
   "source": [
    "help(Circle)"
   ]
  },
  {
   "cell_type": "code",
   "execution_count": 221,
   "id": "be164709-53da-453a-b7b4-554a89782c3c",
   "metadata": {},
   "outputs": [
    {
     "name": "stdout",
     "output_type": "stream",
     "text": [
      "A class to represent a circle and perform related calculations.\n",
      "    \n",
      "    Attributes:\n",
      "    radius : float\n",
      "        The radius of the circle with a default value 1.0.\n",
      "    \n",
      "    Methods:\n",
      "    area():\n",
      "        Returns the area of the circle.\n",
      "    circumference():\n",
      "        Returns the circumference of the circle.\n",
      "    diameter():\n",
      "        Returns the diameter of the circle.\n",
      "    cylinder_volume(height: float):\n",
      "        Returns the volume of a cylinder with the circle as its area and a given height.\n",
      "    \n",
      "\n",
      "{'radius': <class 'float'>}\n",
      "Initializes the Circle with a radius.\n",
      "\n",
      "        Parameters:\n",
      "        radius:\n",
      "            The radius of the circle with a default value of 1.0.\n",
      "        \n",
      "\n",
      "Calculates the area of the circle.\n",
      "    Return:\n",
      "        Return area in float\n",
      "    \n",
      "Calculates the circumference of the circle.\n",
      "    Return:\n",
      "        Return circumference in float\n",
      "    \n",
      "\n",
      "Calculates the diameter of the circle.\n",
      "    Return:\n",
      "        Return diameter in float\n",
      "    \n",
      "\n",
      "This representation is intended for developers,\n",
      "        showing the class name and radius attribute in a format suitable for\n",
      "        recreating the object.\n",
      " This representation provides a simple description of the circle's\n",
      "        radius and is intended for end-users or general display purposes.\n"
     ]
    }
   ],
   "source": [
    "print(Circle.__doc__)\n",
    "print()\n",
    "print(Circle.__init__.__annotations__)\n",
    "print(Circle.__init__.__doc__)\n",
    "print()\n",
    "print(Circle.area.__doc__)\n",
    "print(Circle.circumference.__doc__)\n",
    "print()\n",
    "print(Circle.diameter.__doc__)\n",
    "\n",
    "print()\n",
    "print(Circle.__repr__.__doc__)\n",
    "print(Circle.__str__.__doc__)"
   ]
  },
  {
   "cell_type": "markdown",
   "id": "10cbf0c7-0425-41b4-a534-2859249d48a8",
   "metadata": {},
   "source": [
    "i. Modify the __init__ by making its parameters default and verify by instances"
   ]
  },
  {
   "cell_type": "code",
   "execution_count": 222,
   "id": "ce6aa8eb-1892-4b02-a572-767603a39398",
   "metadata": {},
   "outputs": [],
   "source": [
    "inst_3 = Circle()"
   ]
  },
  {
   "cell_type": "code",
   "execution_count": 223,
   "id": "1bc8c7e3-053a-4bf6-9736-492e17ce8a45",
   "metadata": {},
   "outputs": [
    {
     "name": "stdout",
     "output_type": "stream",
     "text": [
      "Circle with Radius: 1.0\n"
     ]
    }
   ],
   "source": [
    "print(inst_3)"
   ]
  },
  {
   "cell_type": "markdown",
   "id": "f3312051-31c9-4160-8744-122eea332b02",
   "metadata": {},
   "source": [
    "**1.** Define a class point in 2 dimension coordinate system. Your class must have the appropriate\n",
    "__init__ method.\n",
    "* In addition, add instance method for the distance between points.\n",
    "* Add another instance method for calculating the distance from origin.\n",
    "* Add another method with the name locate to display the coordinate in which\n",
    "the point is located.\n",
    "* Add __repr__ and __str__ to the class.\n",
    "* Add proper annotation and doc string to every class and instance method. "
   ]
  },
  {
   "cell_type": "code",
   "execution_count": 224,
   "id": "993ba87d-2138-4a25-935b-7afa1ff5720b",
   "metadata": {},
   "outputs": [],
   "source": [
    "class Point:\n",
    "    pass"
   ]
  },
  {
   "cell_type": "code",
   "execution_count": 225,
   "id": "708b1b2c-5c91-4f05-91f7-266a7bb4f8b0",
   "metadata": {},
   "outputs": [],
   "source": [
    "import math\n",
    "class Point:\n",
    "    \"\"\"A 2D coordinates system which has following parameters\n",
    "            x and y\n",
    "    \"\"\"\n",
    "    def __init__(self, x = 1, y = 1):\n",
    "        \"\"\"Initiate the class with attributes of x and y\n",
    "        \"\"\"\n",
    "        self.x = x\n",
    "        self.y = y\n",
    "    def distance(self,point)  -> float:\n",
    "        \"\"\"To calculate the distance between two points\n",
    "        \"\"\"\n",
    "        return math.sqrt((self.x - point.x)**2 + (self.y - point.y)**2 )\n",
    "    def distanceFromOrigin(self) -> float:\n",
    "        \"\"\"To calculate the distance from origin\n",
    "        \"\"\"\n",
    "        return math.sqrt(self.x**2 + self.y**2)\n",
    "    def display(self) -> str:\n",
    "        \"\"\"To display where is the points are locate or in which quadrant is that points\n",
    "        \"\"\"\n",
    "        if self.x > 0 and self.y > 0:\n",
    "            return \"Point is in the first quadrant.\"\n",
    "        elif self.x < 0 and self.y > 0:\n",
    "            return \"Point is in the second quadrant.\"\n",
    "        elif self.x < 0 and self.y < 0:\n",
    "            return \"Point is in the third quadrant.\"\n",
    "        elif self.x > 0 and self.y < 0:\n",
    "            return \"Point is in the fourth quadrant.\"\n",
    "        elif self.x == 0 and self.y == 0:\n",
    "            return \"Point is at the origin.\"\n",
    "        elif self.x == 0:\n",
    "            return \"Point is on the y-axis.\"\n",
    "        else:\n",
    "            return \"Point is on the x-axis.\"\n",
    "    def __repr__(self):\n",
    "        \"\"\"Use to display the class name and the parameters in the class and we can reuse it  as object\n",
    "        \"\"\"\n",
    "        return f\"{type(self).__name__} ({self.x},{self.y})\"\n",
    "    def __str__(self):\n",
    "        \"\"\"Use to display the class attributes only\n",
    "        \"\"\"\n",
    "        return f\"Points are ({self.x},{self.y})\""
   ]
  },
  {
   "cell_type": "markdown",
   "id": "ed2ccd3e-094d-48a3-b5d4-3ff173cd4c92",
   "metadata": {},
   "source": [
    "**a**. Define inst_1 and pass two numbers. \n",
    "- **b**. Make another instance inst2"
   ]
  },
  {
   "cell_type": "code",
   "execution_count": 226,
   "id": "9f2d56c2-dba5-4835-804d-5fc3c06ed6a8",
   "metadata": {},
   "outputs": [],
   "source": [
    "inst_1 = Point(3,5)\n",
    "inst_2 = Point(7,-2)"
   ]
  },
  {
   "cell_type": "markdown",
   "id": "2cb6127d-2d4e-4a7a-b0a8-b253cbb1d690",
   "metadata": {},
   "source": [
    "**c.** Print inst_1 and inst_2, for this use the print command and pass theinst_1 and inst_2. "
   ]
  },
  {
   "cell_type": "code",
   "execution_count": 227,
   "id": "af795fa3-87c7-4511-b435-daf1cf821d67",
   "metadata": {},
   "outputs": [
    {
     "name": "stdout",
     "output_type": "stream",
     "text": [
      "Points are (3,5)\n",
      "Points are (7,-2)\n"
     ]
    }
   ],
   "source": [
    "print(inst_1)\n",
    "print(inst_2)"
   ]
  },
  {
   "cell_type": "code",
   "execution_count": 228,
   "id": "42e69228-fd16-411f-bff6-2b0c3f97df0d",
   "metadata": {},
   "outputs": [
    {
     "data": {
      "text/plain": [
       "Point (3,5)"
      ]
     },
     "execution_count": 228,
     "metadata": {},
     "output_type": "execute_result"
    }
   ],
   "source": [
    "inst_1"
   ]
  },
  {
   "cell_type": "code",
   "execution_count": 229,
   "id": "cfa57d39-4488-4c41-8ae1-468692c61fb7",
   "metadata": {},
   "outputs": [
    {
     "data": {
      "text/plain": [
       "Point (7,-2)"
      ]
     },
     "execution_count": 229,
     "metadata": {},
     "output_type": "execute_result"
    }
   ],
   "source": [
    "inst_2"
   ]
  },
  {
   "cell_type": "markdown",
   "id": "a8fc2b28-3b80-4845-a5f4-4713afc63dc0",
   "metadata": {},
   "source": [
    "**d.** Also print the location of both points. (Add a display method)."
   ]
  },
  {
   "cell_type": "code",
   "execution_count": 230,
   "id": "8519d705-d0ee-4770-9047-ae858f9757b1",
   "metadata": {},
   "outputs": [
    {
     "name": "stdout",
     "output_type": "stream",
     "text": [
      "Point is in the first quadrant.\n",
      "Point is in the fourth quadrant.\n"
     ]
    }
   ],
   "source": [
    "print(inst_1.display())\n",
    "print(inst_2.display())"
   ]
  },
  {
   "cell_type": "markdown",
   "id": "8ab29742-33de-4191-b5f3-acbaaf410e24",
   "metadata": {},
   "source": [
    "**e.** Calculate the distance between these two pints. "
   ]
  },
  {
   "cell_type": "code",
   "execution_count": 231,
   "id": "428c5d27-378b-480e-b17b-56c65445da00",
   "metadata": {},
   "outputs": [
    {
     "data": {
      "text/plain": [
       "8.06225774829855"
      ]
     },
     "execution_count": 231,
     "metadata": {},
     "output_type": "execute_result"
    }
   ],
   "source": [
    "inst_1.distance(inst_2)"
   ]
  },
  {
   "cell_type": "markdown",
   "id": "b351b167-7082-4d68-aa44-1b6b43c4475c",
   "metadata": {},
   "source": [
    "f. Call the __dict__ by the class name. "
   ]
  },
  {
   "cell_type": "code",
   "execution_count": 232,
   "id": "1fa05e54-4710-47cb-aeac-bca20bb62957",
   "metadata": {},
   "outputs": [
    {
     "name": "stdout",
     "output_type": "stream",
     "text": [
      "mappingproxy({'__dict__': <attribute '__dict__' of 'Point' objects>,\n",
      "              '__doc__': 'A 2D coordinates system which has following '\n",
      "                         'parameters\\n'\n",
      "                         '            x and y\\n'\n",
      "                         '    ',\n",
      "              '__init__': <function Point.__init__ at 0x0000020044319D30>,\n",
      "              '__module__': '__main__',\n",
      "              '__repr__': <function Point.__repr__ at 0x00000200442FC160>,\n",
      "              '__str__': <function Point.__str__ at 0x00000200442FC940>,\n",
      "              '__weakref__': <attribute '__weakref__' of 'Point' objects>,\n",
      "              'display': <function Point.display at 0x00000200442FC790>,\n",
      "              'distance': <function Point.distance at 0x00000200442FC310>,\n",
      "              'distanceFromOrigin': <function Point.distanceFromOrigin at 0x00000200442FCB80>})\n"
     ]
    }
   ],
   "source": [
    "from pprint import pprint\n",
    "pprint(Point.__dict__)"
   ]
  },
  {
   "cell_type": "markdown",
   "id": "8ca64161-7de4-4a67-a63a-c57bc64a29b9",
   "metadata": {},
   "source": [
    "g. Also pass the class name to the vars built-in function"
   ]
  },
  {
   "cell_type": "code",
   "execution_count": 233,
   "id": "bbf3dbc1-f400-4028-98a0-04e64844b737",
   "metadata": {},
   "outputs": [
    {
     "name": "stdout",
     "output_type": "stream",
     "text": [
      "mappingproxy({'__dict__': <attribute '__dict__' of 'Point' objects>,\n",
      "              '__doc__': 'A 2D coordinates system which has following '\n",
      "                         'parameters\\n'\n",
      "                         '            x and y\\n'\n",
      "                         '    ',\n",
      "              '__init__': <function Point.__init__ at 0x0000020044319D30>,\n",
      "              '__module__': '__main__',\n",
      "              '__repr__': <function Point.__repr__ at 0x00000200442FC160>,\n",
      "              '__str__': <function Point.__str__ at 0x00000200442FC940>,\n",
      "              '__weakref__': <attribute '__weakref__' of 'Point' objects>,\n",
      "              'display': <function Point.display at 0x00000200442FC790>,\n",
      "              'distance': <function Point.distance at 0x00000200442FC310>,\n",
      "              'distanceFromOrigin': <function Point.distanceFromOrigin at 0x00000200442FCB80>})\n"
     ]
    }
   ],
   "source": [
    "pprint(vars(Point))"
   ]
  },
  {
   "cell_type": "markdown",
   "id": "2da63da8-1477-4166-a630-6d57e0e78381",
   "metadata": {},
   "source": [
    "h. Call the __dict__ on the object of the class. "
   ]
  },
  {
   "cell_type": "code",
   "execution_count": 234,
   "id": "02f42691-2633-46e2-980a-b602cabb3b88",
   "metadata": {},
   "outputs": [
    {
     "name": "stdout",
     "output_type": "stream",
     "text": [
      "{'x': 3, 'y': 5}\n"
     ]
    }
   ],
   "source": [
    "print(inst_1.__dict__)"
   ]
  },
  {
   "cell_type": "code",
   "execution_count": 235,
   "id": "2d76091e-42c7-4433-a53a-cdfb9cca339d",
   "metadata": {},
   "outputs": [
    {
     "name": "stdout",
     "output_type": "stream",
     "text": [
      "{'x': 7, 'y': -2}\n"
     ]
    }
   ],
   "source": [
    "print(inst_2.__dict__)"
   ]
  },
  {
   "cell_type": "markdown",
   "id": "034b2da5-1b50-4649-9097-9c7bfea4e4f4",
   "metadata": {},
   "source": [
    "i. Pass the class name to help. "
   ]
  },
  {
   "cell_type": "code",
   "execution_count": 236,
   "id": "27754e78-cb83-4e56-9abc-a299c4f6e5da",
   "metadata": {},
   "outputs": [
    {
     "name": "stdout",
     "output_type": "stream",
     "text": [
      "Help on class Point in module __main__:\n",
      "\n",
      "class Point(builtins.object)\n",
      " |  Point(x=1, y=1)\n",
      " |  \n",
      " |  A 2D coordinates system which has following parameters\n",
      " |  x and y\n",
      " |  \n",
      " |  Methods defined here:\n",
      " |  \n",
      " |  __init__(self, x=1, y=1)\n",
      " |      Initiate the class with attributes of x and y\n",
      " |  \n",
      " |  __repr__(self)\n",
      " |      Use to display the class name and the parameters in the class and we can reuse it  as object\n",
      " |  \n",
      " |  __str__(self)\n",
      " |      Use to display the class attributes only\n",
      " |  \n",
      " |  display(self) -> str\n",
      " |      To display where is the points are locate or in which quadrant is that points\n",
      " |  \n",
      " |  distance(self, point) -> float\n",
      " |      To calculate the distance between two points\n",
      " |  \n",
      " |  distanceFromOrigin(self) -> float\n",
      " |      To calculate the distance from origin\n",
      " |  \n",
      " |  ----------------------------------------------------------------------\n",
      " |  Data descriptors defined here:\n",
      " |  \n",
      " |  __dict__\n",
      " |      dictionary for instance variables (if defined)\n",
      " |  \n",
      " |  __weakref__\n",
      " |      list of weak references to the object (if defined)\n",
      "\n"
     ]
    }
   ],
   "source": [
    "help(Point)"
   ]
  },
  {
   "cell_type": "markdown",
   "id": "8f92c9a7-eb7e-4bd2-b69a-0acd0b337503",
   "metadata": {},
   "source": [
    "j. Print the doc-string and annotations of both the class and each instance method. "
   ]
  },
  {
   "cell_type": "code",
   "execution_count": 237,
   "id": "c7338079-d92e-417b-99a6-5c506d501b1d",
   "metadata": {},
   "outputs": [
    {
     "name": "stdout",
     "output_type": "stream",
     "text": [
      "A 2D coordinates system which has following parameters\n",
      "            x and y\n",
      "    \n",
      "Initiate the class with attributes of x and y\n",
      "        \n",
      "{'return': <class 'float'>}\n",
      "To calculate the distance between two points\n",
      "        \n",
      "{'return': <class 'float'>}\n",
      "To calculate the distance from origin\n",
      "        \n",
      "To display where is the points are locate or in which quadrant is that points\n",
      "        \n",
      "{'return': <class 'str'>}\n"
     ]
    }
   ],
   "source": [
    "print(Point.__doc__)\n",
    "print(Point.__init__.__doc__)\n",
    "print(Point.distance.__annotations__)\n",
    "print(Point.distance.__doc__)\n",
    "print(Point.distanceFromOrigin.__annotations__)\n",
    "print(Point.distanceFromOrigin.__doc__)\n",
    "print(Point.display.__doc__)\n",
    "print(Point.display.__annotations__)"
   ]
  },
  {
   "cell_type": "markdown",
   "id": "f22a9caf-e3e8-4d25-9c25-01e0c676a691",
   "metadata": {},
   "source": [
    "k. Modify the __init__ by by making its parameters default and verify by instances."
   ]
  },
  {
   "cell_type": "code",
   "execution_count": 238,
   "id": "771252fa-c48b-4eba-9bac-b548bc54016f",
   "metadata": {},
   "outputs": [
    {
     "name": "stdout",
     "output_type": "stream",
     "text": [
      "Points are (1,1)\n"
     ]
    },
    {
     "data": {
      "text/plain": [
       "Point (1,1)"
      ]
     },
     "execution_count": 238,
     "metadata": {},
     "output_type": "execute_result"
    }
   ],
   "source": [
    "p3 = Point()\n",
    "print(p3)\n",
    "p3"
   ]
  },
  {
   "cell_type": "markdown",
   "id": "440e6d05-7813-4f73-b8ea-ac56b1d22541",
   "metadata": {},
   "source": [
    "**2.** Define a class circle. Your class must have the appropriate __init__ method.\n",
    "* In addition, add an instance method for the volume of a cylinder with the given\n",
    "radius.\n",
    "* Add property method for area, circumference, and diameter.\n",
    "* Add __repr__ and __str__ to the class.\n",
    "*  Add proper annotation and doc string to every class and instance method. "
   ]
  },
  {
   "cell_type": "code",
   "execution_count": 239,
   "id": "06734a0f-2678-4a89-ba57-0cadb5694b4e",
   "metadata": {},
   "outputs": [],
   "source": [
    "import math\n",
    "class Circle:\n",
    "    \"\"\"A class representing a circle in a 2D space.\n",
    "    \"\"\"\n",
    "    def __init__(self, radius: float):\n",
    "        \"\"\"\n",
    "        Initializes a Circle instance.\n",
    "        \n",
    "        Parameters:\n",
    "        - radius: The radius of the circle in float.\n",
    "        \"\"\"\n",
    "        self.radius = radius\n",
    "    def area(self) -> float:\n",
    "        \"\"\"\n",
    "        Calculates the area of the circle.\n",
    "        Returns: The area of the circle in float.\n",
    "        \"\"\"\n",
    "        return pi * self.radius ** 2\n",
    "    def circumference(self) -> float:\n",
    "        \"\"\"\n",
    "        Calculates the circumference of the circle.  \n",
    "        Returns: The circumference of the circle in float.\n",
    "        \"\"\"\n",
    "        return 2 * pi * self.radius\n",
    "    \n",
    "    def diameter(self) -> float:\n",
    "        \"\"\"\n",
    "        Calculates the diameter of the circle.\n",
    "        Returns: The diameter of the circle in  float.\n",
    "        \"\"\"\n",
    "        return 2 * self.radius\n",
    "    \n",
    "    def cylinder_volume(self, height: float) -> float:\n",
    "        \"\"\"\n",
    "        Calculates the volume of a cylinder with the circle as the base.\n",
    "        \n",
    "        Parameters:\n",
    "                    Height\n",
    "        \"\"\"\n",
    "    def __repr__(self):\n",
    "        return f\"{type(self).__name__}({self.radius})\"\n",
    "    def __str__(self):\n",
    "        return f\"Circle of Radius ({self.radius})\""
   ]
  },
  {
   "cell_type": "markdown",
   "id": "bb90176f-907c-4ba8-ab5d-29de5f1a9c5a",
   "metadata": {},
   "source": [
    "j. Define inst_1 \n",
    "-  Make another instance inst2. "
   ]
  },
  {
   "cell_type": "code",
   "execution_count": 240,
   "id": "fdd1a552-cddc-4992-8b9e-fde1c2dfdb4f",
   "metadata": {},
   "outputs": [],
   "source": [
    "inst_1 = Circle(8)\n",
    "inst_2 = Circle(4)"
   ]
  },
  {
   "cell_type": "markdown",
   "id": "6130cafb-4310-4617-bab4-46e5415ff95a",
   "metadata": {},
   "source": [
    "l. Print inst_1 and inst_2, for this use the print command and pass the inst_1 and inst_2. "
   ]
  },
  {
   "cell_type": "code",
   "execution_count": 241,
   "id": "54b2dce9-6f9f-4cea-a5bf-c13699995253",
   "metadata": {},
   "outputs": [
    {
     "name": "stdout",
     "output_type": "stream",
     "text": [
      "Circle of Radius (8)\n",
      "Circle of Radius (4)\n"
     ]
    }
   ],
   "source": [
    "print(inst_1)\n",
    "print(inst_2)"
   ]
  },
  {
   "cell_type": "code",
   "execution_count": 242,
   "id": "7c35e6cf-90b5-4998-8f21-3190bf14c640",
   "metadata": {},
   "outputs": [
    {
     "data": {
      "text/plain": [
       "Circle(8)"
      ]
     },
     "execution_count": 242,
     "metadata": {},
     "output_type": "execute_result"
    }
   ],
   "source": [
    "inst_1"
   ]
  },
  {
   "cell_type": "code",
   "execution_count": 243,
   "id": "2b8aa2b1-eb1b-493f-9cf6-588ba68c48b3",
   "metadata": {},
   "outputs": [
    {
     "data": {
      "text/plain": [
       "Circle(4)"
      ]
     },
     "execution_count": 243,
     "metadata": {},
     "output_type": "execute_result"
    }
   ],
   "source": [
    "inst_2"
   ]
  },
  {
   "cell_type": "markdown",
   "id": "f952bf81-e77d-4ddb-9c54-5fe22e14c4a1",
   "metadata": {},
   "source": [
    "m. Call the __dict__ by the class name"
   ]
  },
  {
   "cell_type": "code",
   "execution_count": 244,
   "id": "58f61053-663b-4358-bb2e-e44fa8c7550e",
   "metadata": {},
   "outputs": [
    {
     "name": "stdout",
     "output_type": "stream",
     "text": [
      "mappingproxy({'__dict__': <attribute '__dict__' of 'Circle' objects>,\n",
      "              '__doc__': 'A class representing a circle in a 2D space.\\n    ',\n",
      "              '__init__': <function Circle.__init__ at 0x0000020044319CA0>,\n",
      "              '__module__': '__main__',\n",
      "              '__repr__': <function Circle.__repr__ at 0x000002004424F4C0>,\n",
      "              '__str__': <function Circle.__str__ at 0x000002004424F820>,\n",
      "              '__weakref__': <attribute '__weakref__' of 'Circle' objects>,\n",
      "              'area': <function Circle.area at 0x000002004424F3A0>,\n",
      "              'circumference': <function Circle.circumference at 0x000002004424F790>,\n",
      "              'cylinder_volume': <function Circle.cylinder_volume at 0x000002004424F0D0>,\n",
      "              'diameter': <function Circle.diameter at 0x000002004424F280>})\n"
     ]
    }
   ],
   "source": [
    "from pprint import pprint\n",
    "pprint(Circle.__dict__)"
   ]
  },
  {
   "cell_type": "markdown",
   "id": "fa69c0b3-3299-4060-9ab6-11320b49fc3c",
   "metadata": {},
   "source": [
    "n. Also pass the class name to the vars built-in function."
   ]
  },
  {
   "cell_type": "code",
   "execution_count": 245,
   "id": "51e7b77b-3717-4e34-8a92-71e432a38d80",
   "metadata": {},
   "outputs": [
    {
     "name": "stdout",
     "output_type": "stream",
     "text": [
      "mappingproxy({'__dict__': <attribute '__dict__' of 'Circle' objects>,\n",
      "              '__doc__': 'A class representing a circle in a 2D space.\\n    ',\n",
      "              '__init__': <function Circle.__init__ at 0x0000020044319CA0>,\n",
      "              '__module__': '__main__',\n",
      "              '__repr__': <function Circle.__repr__ at 0x000002004424F4C0>,\n",
      "              '__str__': <function Circle.__str__ at 0x000002004424F820>,\n",
      "              '__weakref__': <attribute '__weakref__' of 'Circle' objects>,\n",
      "              'area': <function Circle.area at 0x000002004424F3A0>,\n",
      "              'circumference': <function Circle.circumference at 0x000002004424F790>,\n",
      "              'cylinder_volume': <function Circle.cylinder_volume at 0x000002004424F0D0>,\n",
      "              'diameter': <function Circle.diameter at 0x000002004424F280>})\n"
     ]
    }
   ],
   "source": [
    "pprint(vars(Circle))"
   ]
  },
  {
   "cell_type": "markdown",
   "id": "7e0ced8c-a74f-4956-8ece-d69176ec2a53",
   "metadata": {},
   "source": [
    "o. Call the __dict__ on the object of the class. "
   ]
  },
  {
   "cell_type": "code",
   "execution_count": 246,
   "id": "4eb55c5d-8a6e-4945-84fb-9ed32cd32c78",
   "metadata": {},
   "outputs": [
    {
     "name": "stdout",
     "output_type": "stream",
     "text": [
      "{'radius': 8}\n",
      "{'radius': 4}\n"
     ]
    }
   ],
   "source": [
    "print(inst_1.__dict__)\n",
    "print(inst_2.__dict__)"
   ]
  },
  {
   "cell_type": "markdown",
   "id": "0772261f-a5f9-443f-ba8a-263d02e785ac",
   "metadata": {},
   "source": [
    "p. Pass the class name to help. "
   ]
  },
  {
   "cell_type": "code",
   "execution_count": 247,
   "id": "ba926723-60c5-4366-96b7-aae598a3cc01",
   "metadata": {},
   "outputs": [
    {
     "name": "stdout",
     "output_type": "stream",
     "text": [
      "Help on class Circle in module __main__:\n",
      "\n",
      "class Circle(builtins.object)\n",
      " |  Circle(radius: float)\n",
      " |  \n",
      " |  A class representing a circle in a 2D space.\n",
      " |  \n",
      " |  Methods defined here:\n",
      " |  \n",
      " |  __init__(self, radius: float)\n",
      " |      Initializes a Circle instance.\n",
      " |      \n",
      " |      Parameters:\n",
      " |      - radius: The radius of the circle in float.\n",
      " |  \n",
      " |  __repr__(self)\n",
      " |      Return repr(self).\n",
      " |  \n",
      " |  __str__(self)\n",
      " |      Return str(self).\n",
      " |  \n",
      " |  area(self) -> float\n",
      " |      Calculates the area of the circle.\n",
      " |      Returns: The area of the circle in float.\n",
      " |  \n",
      " |  circumference(self) -> float\n",
      " |      Calculates the circumference of the circle.  \n",
      " |      Returns: The circumference of the circle in float.\n",
      " |  \n",
      " |  cylinder_volume(self, height: float) -> float\n",
      " |      Calculates the volume of a cylinder with the circle as the base.\n",
      " |      \n",
      " |      Parameters:\n",
      " |                  Height\n",
      " |  \n",
      " |  diameter(self) -> float\n",
      " |      Calculates the diameter of the circle.\n",
      " |      Returns: The diameter of the circle in  float.\n",
      " |  \n",
      " |  ----------------------------------------------------------------------\n",
      " |  Data descriptors defined here:\n",
      " |  \n",
      " |  __dict__\n",
      " |      dictionary for instance variables (if defined)\n",
      " |  \n",
      " |  __weakref__\n",
      " |      list of weak references to the object (if defined)\n",
      "\n"
     ]
    }
   ],
   "source": [
    "help(Circle)"
   ]
  },
  {
   "cell_type": "markdown",
   "id": "3a2c770c-2909-4491-a417-58fbe5e087a4",
   "metadata": {},
   "source": [
    "q. Print the doc-string and annotations of both the class and each instance method."
   ]
  },
  {
   "cell_type": "code",
   "execution_count": 248,
   "id": "b1b2e69d-6305-41de-98e2-91e208b8d7ba",
   "metadata": {},
   "outputs": [
    {
     "name": "stdout",
     "output_type": "stream",
     "text": [
      "A class representing a circle in a 2D space.\n",
      "    \n",
      "\n",
      "        Initializes a Circle instance.\n",
      "        \n",
      "        Parameters:\n",
      "        - radius: The radius of the circle in float.\n",
      "        \n",
      "\n",
      "{'return': <class 'float'>}\n",
      "\n",
      "        Calculates the area of the circle.\n",
      "        Returns: The area of the circle in float.\n",
      "        \n",
      "\n",
      "{'return': <class 'float'>}\n",
      "\n",
      "        Calculates the circumference of the circle.  \n",
      "        Returns: The circumference of the circle in float.\n",
      "        \n",
      "\n",
      "\n",
      "        Calculates the diameter of the circle.\n",
      "        Returns: The diameter of the circle in  float.\n",
      "        \n",
      "{'return': <class 'float'>}\n",
      "\n",
      "\n",
      "        Calculates the volume of a cylinder with the circle as the base.\n",
      "        \n",
      "        Parameters:\n",
      "                    Height\n",
      "        \n",
      "{'height': <class 'float'>, 'return': <class 'float'>}\n"
     ]
    }
   ],
   "source": [
    "print(Circle.__doc__)\n",
    "print(Circle.__init__.__doc__)\n",
    "print()\n",
    "print(Circle.area.__annotations__)\n",
    "print(Circle.area.__doc__)\n",
    "print()\n",
    "print(Circle.circumference.__annotations__)\n",
    "print(Circle.circumference.__doc__)\n",
    "\n",
    "print()\n",
    "print(Circle.diameter.__doc__)\n",
    "print(Circle.diameter.__annotations__)\n",
    "print()\n",
    "print(Circle.cylinder_volume.__doc__)\n",
    "print(Circle.cylinder_volume.__annotations__)"
   ]
  },
  {
   "cell_type": "markdown",
   "id": "2eb4508d-7890-4c81-93cd-9224fa5d6497",
   "metadata": {},
   "source": [
    "**3.** Define a class RLC for a series RLC circuit. Your class must have the appropriate __init__ method.\n",
    "* Add property method for impedance, phase, and power factor.\n",
    "* In addition, add an instance method for the current in the circuit with a given\n",
    "input voltage.\n",
    "* Add __repr__ and __str__ to the class.\n",
    "* Add proper annotation and doc string to every class and instance method. "
   ]
  },
  {
   "cell_type": "code",
   "execution_count": 249,
   "id": "2bc128c7-34d2-4eb4-b31f-d8f621071d73",
   "metadata": {},
   "outputs": [],
   "source": [
    "import math\n",
    "class RLC:\n",
    "    \"\"\"A class representing a series RLC circuit with resistance (R), inductance (L), and capacitance (C).\"\"\"\n",
    "\n",
    "    def __init__(self, R: float = 1, XL: float = 1, XC: float = 1, F: float = 100):\n",
    "        \"\"\"\n",
    "        Initializes an RLC circuit instance.\n",
    "        \n",
    "        Parameters:\n",
    "        - resistance : Resistance (R) in ohms.\n",
    "        - inductance : Inductance (L) in henrys.\n",
    "        - capacitance : Capacitance (C) in farads.\n",
    "        - frequency : Frequency (f) of the AC source in hertz.\n",
    "        \"\"\"\n",
    "        self.R = R\n",
    "        self.XL = XL\n",
    "        self.XC = XC\n",
    "        self.F = F\n",
    "    def Z(self) -> float:\n",
    "        \"\"\"\n",
    "        Calculates the impedance of the RLC circuit.\n",
    "        Returns: The impedance in ohms in float.\n",
    "        \"\"\"\n",
    "        Frequency = math.pi * 2 *  self.F\n",
    "        reactance_inductive = Frequency * self.XL\n",
    "        reactance_capacitive = 1 / (Frequency * self.XC)\n",
    "        return sqrt(self.R ** 2 + (reactance_inductive - reactance_capacitive) ** 2)\n",
    "    def phase(self) -> float:\n",
    "        \"\"\"\n",
    "        Calculates the phase angle (in degrees) of the RLC circuit.\n",
    "        \n",
    "        Returns:\n",
    "        - float: The phase angle in degrees.\n",
    "        \"\"\"\n",
    "        return atan((reactance_inductive - reactance_capacitive) / self.R) * (180 / math.pi)\n",
    "    def power_factor(self) -> float:\n",
    "        \"\"\"\n",
    "        Calculates the power factor of the RLC circuit.\n",
    "        \n",
    "        Returns: The power factor.\n",
    "        \"\"\"\n",
    "        return math.cos(math.radians(self.phase))\n",
    "    def current(self, voltage: float) -> float:\n",
    "        \"\"\"\n",
    "        Calculates the current in the RLC circuit for a given input voltage.\n",
    "        \n",
    "        Parameters:\n",
    "        - voltage : The input voltage in volts.\n",
    "        \n",
    "        Returns: The current in amperes.\n",
    "        \"\"\"\n",
    "        return voltage / self.Z\n",
    "        \n",
    "    def __repr__(self) -> str:\n",
    "        \"\"\"\n",
    "        Returns a formal string representation of the RLC instance. \n",
    "        Returns: A representation of the RLC circuit with R, L, C, and frequency.\n",
    "        \"\"\"\n",
    "        return (f\"{type(self).__name__}(Resistance={self.R} ohm, \"\n",
    "                f\"Inductance={self.XL} H, Capacitance={self.XC} F, \"\n",
    "                f\"Frequency={self.F} Hz)\")\n",
    "\n",
    "    def __str__(self) -> str:\n",
    "        \"\"\"\n",
    "        Returns an informal string representation of the RLC instance.\n",
    "        \n",
    "        Returns:  A description of the RLC circuit components and properties.\n",
    "        \"\"\"\n",
    "        return (f\"Series RLC Circuit with R = {self.R} ohm, L = {self.XL} H, \"\n",
    "                f\"C = {self.XC} F, f = {self.F} Hz\")\n"
   ]
  },
  {
   "cell_type": "markdown",
   "id": "be026180-6846-4118-b8e0-ba6b79ce2a7c",
   "metadata": {},
   "source": [
    "a. Define inst_1\n",
    "* Make another instance inst2. "
   ]
  },
  {
   "cell_type": "code",
   "execution_count": 250,
   "id": "6177b1cc-8a79-4d41-bace-648f14ec103b",
   "metadata": {},
   "outputs": [],
   "source": [
    "inst_1 = RLC(10,13,15,2800)\n",
    "inst_2 = RLC(13, 17, 20, 4000)"
   ]
  },
  {
   "cell_type": "markdown",
   "id": "11149ad7-2b5b-4b6e-837b-3df773e7cef8",
   "metadata": {},
   "source": [
    "c. Print inst_1 and inst_2, for this use the print command and pass theinst_1 and inst_2."
   ]
  },
  {
   "cell_type": "code",
   "execution_count": 251,
   "id": "e0667eac-b3a8-4e7c-b45b-891e02d17037",
   "metadata": {},
   "outputs": [
    {
     "name": "stdout",
     "output_type": "stream",
     "text": [
      "Series RLC Circuit with R = 10 ohm, L = 13 H, C = 15 F, f = 2800 Hz\n",
      "Series RLC Circuit with R = 13 ohm, L = 17 H, C = 20 F, f = 4000 Hz\n"
     ]
    }
   ],
   "source": [
    "print(inst_1)\n",
    "print(inst_2)"
   ]
  },
  {
   "cell_type": "code",
   "execution_count": 252,
   "id": "081f9fdb-0f65-473b-9bcb-caa0e7d8c4d4",
   "metadata": {},
   "outputs": [
    {
     "data": {
      "text/plain": [
       "RLC(Resistance=10 ohm, Inductance=13 H, Capacitance=15 F, Frequency=2800 Hz)"
      ]
     },
     "execution_count": 252,
     "metadata": {},
     "output_type": "execute_result"
    }
   ],
   "source": [
    "inst_1"
   ]
  },
  {
   "cell_type": "code",
   "execution_count": 253,
   "id": "51cfe79e-2a22-40be-82be-19b0f65f8dbd",
   "metadata": {},
   "outputs": [
    {
     "data": {
      "text/plain": [
       "RLC(Resistance=13 ohm, Inductance=17 H, Capacitance=20 F, Frequency=4000 Hz)"
      ]
     },
     "execution_count": 253,
     "metadata": {},
     "output_type": "execute_result"
    }
   ],
   "source": [
    "inst_2"
   ]
  },
  {
   "cell_type": "markdown",
   "id": "b0c775c7-17d2-43c3-927f-eca467171168",
   "metadata": {},
   "source": [
    "d. Call the __dict__ by the class name. "
   ]
  },
  {
   "cell_type": "code",
   "execution_count": 254,
   "id": "c6c5c66a-9a02-4b66-a41e-714faa23dd72",
   "metadata": {},
   "outputs": [
    {
     "name": "stdout",
     "output_type": "stream",
     "text": [
      "mappingproxy({'Z': <function RLC.Z at 0x0000020044198A60>,\n",
      "              '__dict__': <attribute '__dict__' of 'RLC' objects>,\n",
      "              '__doc__': 'A class representing a series RLC circuit with '\n",
      "                         'resistance (R), inductance (L), and capacitance (C).',\n",
      "              '__init__': <function RLC.__init__ at 0x0000020044198D30>,\n",
      "              '__module__': '__main__',\n",
      "              '__repr__': <function RLC.__repr__ at 0x000002004424FF70>,\n",
      "              '__str__': <function RLC.__str__ at 0x000002004424FC10>,\n",
      "              '__weakref__': <attribute '__weakref__' of 'RLC' objects>,\n",
      "              'current': <function RLC.current at 0x00000200441B4040>,\n",
      "              'phase': <function RLC.phase at 0x00000200443B8CA0>,\n",
      "              'power_factor': <function RLC.power_factor at 0x0000020044319820>})\n"
     ]
    }
   ],
   "source": [
    "from pprint import pprint\n",
    "pprint(RLC.__dict__)"
   ]
  },
  {
   "cell_type": "markdown",
   "id": "dfd7540d-1834-4a66-ab5f-2939ee953226",
   "metadata": {},
   "source": [
    "e. Also pass the class name to the vars built-in function.\n"
   ]
  },
  {
   "cell_type": "code",
   "execution_count": 255,
   "id": "91b5d894-cb13-4eec-810e-1f936bc2fa8f",
   "metadata": {},
   "outputs": [
    {
     "name": "stdout",
     "output_type": "stream",
     "text": [
      "mappingproxy({'Z': <function RLC.Z at 0x0000020044198A60>,\n",
      "              '__dict__': <attribute '__dict__' of 'RLC' objects>,\n",
      "              '__doc__': 'A class representing a series RLC circuit with '\n",
      "                         'resistance (R), inductance (L), and capacitance (C).',\n",
      "              '__init__': <function RLC.__init__ at 0x0000020044198D30>,\n",
      "              '__module__': '__main__',\n",
      "              '__repr__': <function RLC.__repr__ at 0x000002004424FF70>,\n",
      "              '__str__': <function RLC.__str__ at 0x000002004424FC10>,\n",
      "              '__weakref__': <attribute '__weakref__' of 'RLC' objects>,\n",
      "              'current': <function RLC.current at 0x00000200441B4040>,\n",
      "              'phase': <function RLC.phase at 0x00000200443B8CA0>,\n",
      "              'power_factor': <function RLC.power_factor at 0x0000020044319820>})\n"
     ]
    }
   ],
   "source": [
    "pprint(vars(RLC))"
   ]
  },
  {
   "cell_type": "markdown",
   "id": "0fa1f9a7-ee60-41fd-a6ba-fa1684a09206",
   "metadata": {},
   "source": [
    "f. Call the __dict__ on the object of the class. "
   ]
  },
  {
   "cell_type": "code",
   "execution_count": 256,
   "id": "f456e995-6948-4a60-8aed-66c88bfa47fb",
   "metadata": {},
   "outputs": [
    {
     "name": "stdout",
     "output_type": "stream",
     "text": [
      "{'R': 10, 'XL': 13, 'XC': 15, 'F': 2800}\n"
     ]
    }
   ],
   "source": [
    "print(inst_1.__dict__)"
   ]
  },
  {
   "cell_type": "code",
   "execution_count": 257,
   "id": "900d2dc5-0541-4d12-9c53-7ad961d0385e",
   "metadata": {},
   "outputs": [
    {
     "name": "stdout",
     "output_type": "stream",
     "text": [
      "{'R': 13, 'XL': 17, 'XC': 20, 'F': 4000}\n"
     ]
    }
   ],
   "source": [
    "print(inst_2.__dict__)"
   ]
  },
  {
   "cell_type": "markdown",
   "id": "f31cf356-2ad3-4209-adae-2a7d438120a9",
   "metadata": {},
   "source": [
    "g. Pass the class name to help. /"
   ]
  },
  {
   "cell_type": "code",
   "execution_count": 258,
   "id": "e0901e68-4f6b-4fda-912e-ec93d7ef1f02",
   "metadata": {},
   "outputs": [
    {
     "name": "stdout",
     "output_type": "stream",
     "text": [
      "Help on class RLC in module __main__:\n",
      "\n",
      "class RLC(builtins.object)\n",
      " |  RLC(R: float = 1, XL: float = 1, XC: float = 1, F: float = 100)\n",
      " |  \n",
      " |  A class representing a series RLC circuit with resistance (R), inductance (L), and capacitance (C).\n",
      " |  \n",
      " |  Methods defined here:\n",
      " |  \n",
      " |  Z(self) -> float\n",
      " |      Calculates the impedance of the RLC circuit.\n",
      " |      Returns: The impedance in ohms in float.\n",
      " |  \n",
      " |  __init__(self, R: float = 1, XL: float = 1, XC: float = 1, F: float = 100)\n",
      " |      Initializes an RLC circuit instance.\n",
      " |      \n",
      " |      Parameters:\n",
      " |      - resistance : Resistance (R) in ohms.\n",
      " |      - inductance : Inductance (L) in henrys.\n",
      " |      - capacitance : Capacitance (C) in farads.\n",
      " |      - frequency : Frequency (f) of the AC source in hertz.\n",
      " |  \n",
      " |  __repr__(self) -> str\n",
      " |      Returns a formal string representation of the RLC instance. \n",
      " |      Returns: A representation of the RLC circuit with R, L, C, and frequency.\n",
      " |  \n",
      " |  __str__(self) -> str\n",
      " |      Returns an informal string representation of the RLC instance.\n",
      " |      \n",
      " |      Returns:  A description of the RLC circuit components and properties.\n",
      " |  \n",
      " |  current(self, voltage: float) -> float\n",
      " |      Calculates the current in the RLC circuit for a given input voltage.\n",
      " |      \n",
      " |      Parameters:\n",
      " |      - voltage : The input voltage in volts.\n",
      " |      \n",
      " |      Returns: The current in amperes.\n",
      " |  \n",
      " |  phase(self) -> float\n",
      " |      Calculates the phase angle (in degrees) of the RLC circuit.\n",
      " |      \n",
      " |      Returns:\n",
      " |      - float: The phase angle in degrees.\n",
      " |  \n",
      " |  power_factor(self) -> float\n",
      " |      Calculates the power factor of the RLC circuit.\n",
      " |      \n",
      " |      Returns: The power factor.\n",
      " |  \n",
      " |  ----------------------------------------------------------------------\n",
      " |  Data descriptors defined here:\n",
      " |  \n",
      " |  __dict__\n",
      " |      dictionary for instance variables (if defined)\n",
      " |  \n",
      " |  __weakref__\n",
      " |      list of weak references to the object (if defined)\n",
      "\n"
     ]
    }
   ],
   "source": [
    "help(RLC)"
   ]
  },
  {
   "cell_type": "markdown",
   "id": "ddef9701-6fa2-4b06-98a9-c3feb3a4e00a",
   "metadata": {},
   "source": [
    "h. Print the doc-string and annotations of both the class and each instance method. "
   ]
  },
  {
   "cell_type": "code",
   "execution_count": 259,
   "id": "4685484f-8963-4279-a82d-21d5b03caf6f",
   "metadata": {},
   "outputs": [
    {
     "name": "stdout",
     "output_type": "stream",
     "text": [
      "A class representing a series RLC circuit with resistance (R), inductance (L), and capacitance (C).\n",
      "{'R': <class 'float'>, 'XL': <class 'float'>, 'XC': <class 'float'>, 'F': <class 'float'>}\n",
      "\n",
      "\n",
      "        Calculates the impedance of the RLC circuit.\n",
      "        Returns: The impedance in ohms in float.\n",
      "        \n",
      "{'return': <class 'float'>}\n",
      "\n",
      "\n",
      "        Calculates the phase angle (in degrees) of the RLC circuit.\n",
      "        \n",
      "        Returns:\n",
      "        - float: The phase angle in degrees.\n",
      "        \n",
      "{'return': <class 'float'>}\n",
      "\n",
      "\n",
      "        Calculates the current in the RLC circuit for a given input voltage.\n",
      "        \n",
      "        Parameters:\n",
      "        - voltage : The input voltage in volts.\n",
      "        \n",
      "        Returns: The current in amperes.\n",
      "        \n",
      "{'voltage': <class 'float'>, 'return': <class 'float'>}\n",
      "\n",
      "{'return': <class 'str'>}\n",
      "\n",
      "        Returns a formal string representation of the RLC instance. \n",
      "        Returns: A representation of the RLC circuit with R, L, C, and frequency.\n",
      "        \n",
      "\n",
      "{'return': <class 'str'>}\n",
      "\n",
      "        Returns an informal string representation of the RLC instance.\n",
      "        \n",
      "        Returns:  A description of the RLC circuit components and properties.\n",
      "        \n"
     ]
    }
   ],
   "source": [
    "print(RLC.__doc__)\n",
    "print(RLC.__init__.__annotations__)\n",
    "print()\n",
    "print(RLC.Z.__doc__)\n",
    "print(RLC.Z.__annotations__)\n",
    "print()\n",
    "print(RLC.phase.__doc__)\n",
    "print(RLC.phase.__annotations__)\n",
    "print()\n",
    "print(RLC.current.__doc__)\n",
    "print(RLC.current.__annotations__)\n",
    "print()\n",
    "print(RLC.__repr__.__annotations__)\n",
    "print(RLC.__repr__.__doc__)\n",
    "print()\n",
    "print(RLC.__str__.__annotations__)\n",
    "print(RLC.__str__.__doc__)"
   ]
  },
  {
   "cell_type": "markdown",
   "id": "9a32911f-08c5-4986-a120-377502f5dc78",
   "metadata": {},
   "source": [
    "i. Modify the __init__ by making its parameters default and verify by instances"
   ]
  },
  {
   "cell_type": "code",
   "execution_count": 260,
   "id": "d975ae39-d5e2-4762-a1d1-3f64d71a5902",
   "metadata": {},
   "outputs": [
    {
     "name": "stdout",
     "output_type": "stream",
     "text": [
      "Series RLC Circuit with R = 1 ohm, L = 1 H, C = 1 F, f = 100 Hz\n"
     ]
    }
   ],
   "source": [
    "inst_3 = RLC()\n",
    "print(inst_3)"
   ]
  },
  {
   "cell_type": "markdown",
   "id": "88ae093a-6c59-4371-9f69-624c1359f37f",
   "metadata": {},
   "source": [
    "*4*. ***Square:*** A four-sided polygon (quadrilateral) with all sides of equal length and all angles 90\n",
    "degrees."
   ]
  },
  {
   "cell_type": "code",
   "execution_count": 261,
   "id": "7450737a-2528-4257-bf09-20c159007603",
   "metadata": {},
   "outputs": [],
   "source": [
    "class Square:\n",
    "    \"\"\"\n",
    "    Represents a square, a four-sided polygon (quadrilateral) with all sides of equal length and all angles 90 degrees.\n",
    "\n",
    "    This class provides methods to calculate the area and perimeter of the square and to compare its size with another square.\n",
    "\n",
    "    Attributes: side_length : float\n",
    "        The length of one side of the square.\n",
    "    \"\"\"\n",
    "\n",
    "    def __init__(self, side_length: float = 1.0):\n",
    "        \"\"\"\n",
    "        Initializes a square with a specified side length.\n",
    "        \n",
    "        Parameters: side_length : float\n",
    "            The length of each side of the square in units (default is 1.0).\n",
    "        \"\"\"\n",
    "        self.side_length = side_length\n",
    "    def area(self) -> float:\n",
    "        \"\"\"\n",
    "        Calculates the area of the square.\n",
    "\n",
    "        Returns: float\n",
    "            The area of the square (side_length^2).\n",
    "        \"\"\"\n",
    "        return self.side_length ** 2\n",
    "    def perimeter(self) -> float:\n",
    "        \"\"\"\n",
    "        Calculates the perimeter of the square.\n",
    "\n",
    "        Returns: float\n",
    "            The perimeter of the square (4 * side_length).\n",
    "        \"\"\"\n",
    "        return 4 * self.side_length\n",
    "    def __repr__(self) -> str:\n",
    "        \"\"\"\n",
    "        Returns a formal string representation of the Square instance.\n",
    "\n",
    "        Returns:  str\n",
    "            A representation of the Square with side length.\n",
    "        \"\"\"\n",
    "        return f\"{type(self).__name__}(side_length={self.side_length})\"\n",
    "\n",
    "    def __str__(self) -> str:\n",
    "        \"\"\"\n",
    "        Returns an informal string representation of the Square instance.\n",
    "\n",
    "        Returns: str\n",
    "            A description of the Square with its side length, area, and perimeter.\n",
    "        \"\"\"\n",
    "        return (f\"Square with side length = {self.side_length}\")\n"
   ]
  },
  {
   "cell_type": "code",
   "execution_count": 262,
   "id": "732b8739-f98a-4359-8f9d-3a18cdbca4cf",
   "metadata": {},
   "outputs": [],
   "source": [
    "inst_1 = Square(12)\n",
    "inst_2 = Square(20)"
   ]
  },
  {
   "cell_type": "code",
   "execution_count": 263,
   "id": "2ab0ff42-cc9e-4cac-8ff9-ac54f2b4da40",
   "metadata": {},
   "outputs": [
    {
     "name": "stdout",
     "output_type": "stream",
     "text": [
      "Square with side length = 12\n",
      "Square with side length = 20\n"
     ]
    }
   ],
   "source": [
    "print(inst_1)\n",
    "print(inst_2)"
   ]
  },
  {
   "cell_type": "code",
   "execution_count": 264,
   "id": "ba356274-b79a-49f7-8f9d-427855468266",
   "metadata": {},
   "outputs": [
    {
     "data": {
      "text/plain": [
       "Square(side_length=12)"
      ]
     },
     "execution_count": 264,
     "metadata": {},
     "output_type": "execute_result"
    }
   ],
   "source": [
    "inst_1"
   ]
  },
  {
   "cell_type": "code",
   "execution_count": 265,
   "id": "e867d1d0-d4f4-45f8-ae6c-46c75f10480c",
   "metadata": {},
   "outputs": [
    {
     "data": {
      "text/plain": [
       "Square(side_length=20)"
      ]
     },
     "execution_count": 265,
     "metadata": {},
     "output_type": "execute_result"
    }
   ],
   "source": [
    "inst_2"
   ]
  },
  {
   "cell_type": "code",
   "execution_count": 266,
   "id": "0633a5cc-5bbe-4632-95a8-de4053435573",
   "metadata": {},
   "outputs": [
    {
     "name": "stdout",
     "output_type": "stream",
     "text": [
      "mappingproxy({'__dict__': <attribute '__dict__' of 'Square' objects>,\n",
      "              '__doc__': '\\n'\n",
      "                         '    Represents a square, a four-sided polygon '\n",
      "                         '(quadrilateral) with all sides of equal length and '\n",
      "                         'all angles 90 degrees.\\n'\n",
      "                         '\\n'\n",
      "                         '    This class provides methods to calculate the '\n",
      "                         'area and perimeter of the square and to compare its '\n",
      "                         'size with another square.\\n'\n",
      "                         '\\n'\n",
      "                         '    Attributes: side_length : float\\n'\n",
      "                         '        The length of one side of the square.\\n'\n",
      "                         '    ',\n",
      "              '__init__': <function Square.__init__ at 0x00000200443523A0>,\n",
      "              '__module__': '__main__',\n",
      "              '__repr__': <function Square.__repr__ at 0x000002004424F430>,\n",
      "              '__str__': <function Square.__str__ at 0x000002004424F670>,\n",
      "              '__weakref__': <attribute '__weakref__' of 'Square' objects>,\n",
      "              'area': <function Square.area at 0x0000020044319280>,\n",
      "              'perimeter': <function Square.perimeter at 0x000002004424FAF0>})\n"
     ]
    }
   ],
   "source": [
    "from pprint import pprint\n",
    "pprint(Square.__dict__)"
   ]
  },
  {
   "cell_type": "code",
   "execution_count": 267,
   "id": "4b403620-c479-478f-a6f2-fab4c7e2aa01",
   "metadata": {},
   "outputs": [
    {
     "name": "stdout",
     "output_type": "stream",
     "text": [
      "mappingproxy({'__dict__': <attribute '__dict__' of 'Square' objects>,\n",
      "              '__doc__': '\\n'\n",
      "                         '    Represents a square, a four-sided polygon '\n",
      "                         '(quadrilateral) with all sides of equal length and '\n",
      "                         'all angles 90 degrees.\\n'\n",
      "                         '\\n'\n",
      "                         '    This class provides methods to calculate the '\n",
      "                         'area and perimeter of the square and to compare its '\n",
      "                         'size with another square.\\n'\n",
      "                         '\\n'\n",
      "                         '    Attributes: side_length : float\\n'\n",
      "                         '        The length of one side of the square.\\n'\n",
      "                         '    ',\n",
      "              '__init__': <function Square.__init__ at 0x00000200443523A0>,\n",
      "              '__module__': '__main__',\n",
      "              '__repr__': <function Square.__repr__ at 0x000002004424F430>,\n",
      "              '__str__': <function Square.__str__ at 0x000002004424F670>,\n",
      "              '__weakref__': <attribute '__weakref__' of 'Square' objects>,\n",
      "              'area': <function Square.area at 0x0000020044319280>,\n",
      "              'perimeter': <function Square.perimeter at 0x000002004424FAF0>})\n"
     ]
    }
   ],
   "source": [
    "pprint(vars(Square))"
   ]
  },
  {
   "cell_type": "code",
   "execution_count": 268,
   "id": "d28be5e2-3875-45b5-a85e-c71d57c64b14",
   "metadata": {},
   "outputs": [
    {
     "name": "stdout",
     "output_type": "stream",
     "text": [
      "{'side_length': 12}\n",
      "{'side_length': 20}\n"
     ]
    }
   ],
   "source": [
    "print(inst_1.__dict__)\n",
    "print(inst_2.__dict__)"
   ]
  },
  {
   "cell_type": "code",
   "execution_count": 269,
   "id": "0b9cd5a5-9b3d-4339-a70d-f2fb18e64ce8",
   "metadata": {},
   "outputs": [
    {
     "name": "stdout",
     "output_type": "stream",
     "text": [
      "Help on class Square in module __main__:\n",
      "\n",
      "class Square(builtins.object)\n",
      " |  Square(side_length: float = 1.0)\n",
      " |  \n",
      " |  Represents a square, a four-sided polygon (quadrilateral) with all sides of equal length and all angles 90 degrees.\n",
      " |  \n",
      " |  This class provides methods to calculate the area and perimeter of the square and to compare its size with another square.\n",
      " |  \n",
      " |  Attributes: side_length : float\n",
      " |      The length of one side of the square.\n",
      " |  \n",
      " |  Methods defined here:\n",
      " |  \n",
      " |  __init__(self, side_length: float = 1.0)\n",
      " |      Initializes a square with a specified side length.\n",
      " |      \n",
      " |      Parameters: side_length : float\n",
      " |          The length of each side of the square in units (default is 1.0).\n",
      " |  \n",
      " |  __repr__(self) -> str\n",
      " |      Returns a formal string representation of the Square instance.\n",
      " |      \n",
      " |      Returns:  str\n",
      " |          A representation of the Square with side length.\n",
      " |  \n",
      " |  __str__(self) -> str\n",
      " |      Returns an informal string representation of the Square instance.\n",
      " |      \n",
      " |      Returns: str\n",
      " |          A description of the Square with its side length, area, and perimeter.\n",
      " |  \n",
      " |  area(self) -> float\n",
      " |      Calculates the area of the square.\n",
      " |      \n",
      " |      Returns: float\n",
      " |          The area of the square (side_length^2).\n",
      " |  \n",
      " |  perimeter(self) -> float\n",
      " |      Calculates the perimeter of the square.\n",
      " |      \n",
      " |      Returns: float\n",
      " |          The perimeter of the square (4 * side_length).\n",
      " |  \n",
      " |  ----------------------------------------------------------------------\n",
      " |  Data descriptors defined here:\n",
      " |  \n",
      " |  __dict__\n",
      " |      dictionary for instance variables (if defined)\n",
      " |  \n",
      " |  __weakref__\n",
      " |      list of weak references to the object (if defined)\n",
      "\n"
     ]
    }
   ],
   "source": [
    "help(Square)"
   ]
  },
  {
   "cell_type": "code",
   "execution_count": 270,
   "id": "15166738-9916-4353-9b6e-6497c684b4bf",
   "metadata": {},
   "outputs": [
    {
     "name": "stdout",
     "output_type": "stream",
     "text": [
      "\n",
      "    Represents a square, a four-sided polygon (quadrilateral) with all sides of equal length and all angles 90 degrees.\n",
      "\n",
      "    This class provides methods to calculate the area and perimeter of the square and to compare its size with another square.\n",
      "\n",
      "    Attributes: side_length : float\n",
      "        The length of one side of the square.\n",
      "    \n",
      "{'side_length': <class 'float'>}\n",
      "\n",
      "\n",
      "        Calculates the area of the square.\n",
      "\n",
      "        Returns: float\n",
      "            The area of the square (side_length^2).\n",
      "        \n",
      "{'return': <class 'float'>}\n",
      "\n",
      "\n",
      "        Calculates the perimeter of the square.\n",
      "\n",
      "        Returns: float\n",
      "            The perimeter of the square (4 * side_length).\n",
      "        \n",
      "{'return': <class 'float'>}\n",
      "\n",
      "{'return': <class 'str'>}\n",
      "\n",
      "        Returns a formal string representation of the Square instance.\n",
      "\n",
      "        Returns:  str\n",
      "            A representation of the Square with side length.\n",
      "        \n",
      "\n",
      "{'return': <class 'str'>}\n",
      "\n",
      "        Returns an informal string representation of the Square instance.\n",
      "\n",
      "        Returns: str\n",
      "            A description of the Square with its side length, area, and perimeter.\n",
      "        \n"
     ]
    }
   ],
   "source": [
    "print(Square.__doc__)\n",
    "print(Square.__init__.__annotations__)\n",
    "print()\n",
    "print(Square.area.__doc__)\n",
    "print(Square.area.__annotations__)\n",
    "print()\n",
    "print(Square.perimeter.__doc__)\n",
    "print(Square.perimeter.__annotations__)\n",
    "print()\n",
    "print(Square.__repr__.__annotations__)\n",
    "print(Square.__repr__.__doc__)\n",
    "print()\n",
    "print(Square.__str__.__annotations__)\n",
    "print(Square.__str__.__doc__)"
   ]
  },
  {
   "cell_type": "markdown",
   "id": "a55c41ca-572d-49b8-81b3-8092fb7dcec9",
   "metadata": {},
   "source": [
    "## 5.  *Rectangle:*"
   ]
  },
  {
   "cell_type": "code",
   "execution_count": 271,
   "id": "e614b573-bd15-4d1f-ab73-af379500637a",
   "metadata": {},
   "outputs": [],
   "source": [
    "class Rectangle:\n",
    "    \"\"\"\n",
    "    Represents a rectangle, a four-sided polygon where opposite sides are equal in length \n",
    "    and all angles are 90 degrees.   \n",
    "    This class provides methods to calculate the area, perimeter, and to check if two rectangles \n",
    "    are of the same size.    \n",
    "    Attributes: length : float\n",
    "        The length of the rectangle.\n",
    "    width : float\n",
    "        The width of the rectangle.\n",
    "    \"\"\"\n",
    "\n",
    "    def __init__(self, length = 2.0, width: float = 4.0):\n",
    "        \"\"\"\n",
    "        Initializes a Rectangle instance with specified length and width. \n",
    "        Parameters: length : float\n",
    "            The length of the rectangle.\n",
    "        width : float\n",
    "            The width of the rectangle.\n",
    "        \"\"\"\n",
    "        self.length = length\n",
    "        self.width = width\n",
    "    def area(self) -> float:\n",
    "        \"\"\"\n",
    "        Calculates the area of the rectangle.   \n",
    "        Returns: float\n",
    "            The area of the rectangle.\n",
    "        \"\"\"\n",
    "        return self.length * self.width\n",
    "    def perimeter(self) -> float:\n",
    "        \"\"\"\n",
    "        Calculates the perimeter of the rectangle.     \n",
    "        Returns: float\n",
    "            The perimeter of the rectangle.\n",
    "        \"\"\"\n",
    "        return 2 * (self.length + self.width)\n",
    "    def __repr__(self) -> str:\n",
    "        \"\"\"\n",
    "        Returns a formal string representation of the Rectangle instance.\n",
    "        Returns:  str\n",
    "            A string with the class name, length, and width.\n",
    "        \"\"\"\n",
    "        return f\"{type(self).__name__}(length={self.length}, width={self.width})\"\n",
    "\n",
    "    def __str__(self) -> str:\n",
    "        \"\"\"\n",
    "        Returns an informal string representation of the Rectangle instance.\n",
    "        Returns: str\n",
    "            A description of the rectangle with its dimensions, area, and perimeter.\n",
    "        \"\"\"\n",
    "        return (f\"Rectangle with length = {self.length}, width = {self.width}\")\n"
   ]
  },
  {
   "cell_type": "code",
   "execution_count": 272,
   "id": "d60105a0-77f8-44ff-8fb8-e5a76b57061c",
   "metadata": {},
   "outputs": [],
   "source": [
    "inst_1 = Rectangle(12,10)\n",
    "inst_2 = Rectangle(20,15)"
   ]
  },
  {
   "cell_type": "code",
   "execution_count": 273,
   "id": "d629a5cc-5c83-4053-a19f-5ec56850bc3d",
   "metadata": {},
   "outputs": [
    {
     "name": "stdout",
     "output_type": "stream",
     "text": [
      "Rectangle with length = 12, width = 10\n",
      "Rectangle with length = 20, width = 15\n"
     ]
    }
   ],
   "source": [
    "print(inst_1)\n",
    "print(inst_2)"
   ]
  },
  {
   "cell_type": "code",
   "execution_count": 274,
   "id": "7b69d2a0-64c9-4054-aa06-4286e2ee2652",
   "metadata": {},
   "outputs": [
    {
     "data": {
      "text/plain": [
       "Rectangle(length=12, width=10)"
      ]
     },
     "execution_count": 274,
     "metadata": {},
     "output_type": "execute_result"
    }
   ],
   "source": [
    "inst_1"
   ]
  },
  {
   "cell_type": "code",
   "execution_count": 275,
   "id": "f26b7d83-df69-479b-8840-d8cf4e64c4a4",
   "metadata": {},
   "outputs": [
    {
     "data": {
      "text/plain": [
       "Rectangle(length=20, width=15)"
      ]
     },
     "execution_count": 275,
     "metadata": {},
     "output_type": "execute_result"
    }
   ],
   "source": [
    "inst_2"
   ]
  },
  {
   "cell_type": "code",
   "execution_count": 276,
   "id": "584d6d6d-45f5-4cd8-9b8d-565600a9a423",
   "metadata": {},
   "outputs": [
    {
     "name": "stdout",
     "output_type": "stream",
     "text": [
      "mappingproxy({'__dict__': <attribute '__dict__' of 'Rectangle' objects>,\n",
      "              '__doc__': '\\n'\n",
      "                         '    Represents a rectangle, a four-sided polygon '\n",
      "                         'where opposite sides are equal in length \\n'\n",
      "                         '    and all angles are 90 degrees.   \\n'\n",
      "                         '    This class provides methods to calculate the '\n",
      "                         'area, perimeter, and to check if two rectangles \\n'\n",
      "                         '    are of the same size.    \\n'\n",
      "                         '    Attributes: length : float\\n'\n",
      "                         '        The length of the rectangle.\\n'\n",
      "                         '    width : float\\n'\n",
      "                         '        The width of the rectangle.\\n'\n",
      "                         '    ',\n",
      "              '__init__': <function Rectangle.__init__ at 0x000002004436ECA0>,\n",
      "              '__module__': '__main__',\n",
      "              '__repr__': <function Rectangle.__repr__ at 0x00000200442FCAF0>,\n",
      "              '__str__': <function Rectangle.__str__ at 0x00000200442FC040>,\n",
      "              '__weakref__': <attribute '__weakref__' of 'Rectangle' objects>,\n",
      "              'area': <function Rectangle.area at 0x000002004436EA60>,\n",
      "              'perimeter': <function Rectangle.perimeter at 0x0000020042407280>})\n"
     ]
    }
   ],
   "source": [
    "from pprint import pprint\n",
    "pprint(Rectangle.__dict__)"
   ]
  },
  {
   "cell_type": "code",
   "execution_count": 277,
   "id": "098e6f01-0526-473d-ac39-3e1a33f058a0",
   "metadata": {},
   "outputs": [
    {
     "name": "stdout",
     "output_type": "stream",
     "text": [
      "mappingproxy({'__dict__': <attribute '__dict__' of 'Rectangle' objects>,\n",
      "              '__doc__': '\\n'\n",
      "                         '    Represents a rectangle, a four-sided polygon '\n",
      "                         'where opposite sides are equal in length \\n'\n",
      "                         '    and all angles are 90 degrees.   \\n'\n",
      "                         '    This class provides methods to calculate the '\n",
      "                         'area, perimeter, and to check if two rectangles \\n'\n",
      "                         '    are of the same size.    \\n'\n",
      "                         '    Attributes: length : float\\n'\n",
      "                         '        The length of the rectangle.\\n'\n",
      "                         '    width : float\\n'\n",
      "                         '        The width of the rectangle.\\n'\n",
      "                         '    ',\n",
      "              '__init__': <function Rectangle.__init__ at 0x000002004436ECA0>,\n",
      "              '__module__': '__main__',\n",
      "              '__repr__': <function Rectangle.__repr__ at 0x00000200442FCAF0>,\n",
      "              '__str__': <function Rectangle.__str__ at 0x00000200442FC040>,\n",
      "              '__weakref__': <attribute '__weakref__' of 'Rectangle' objects>,\n",
      "              'area': <function Rectangle.area at 0x000002004436EA60>,\n",
      "              'perimeter': <function Rectangle.perimeter at 0x0000020042407280>})\n"
     ]
    }
   ],
   "source": [
    "pprint(vars(Rectangle))"
   ]
  },
  {
   "cell_type": "code",
   "execution_count": 278,
   "id": "5310f44e-92ee-41fa-ba8b-d1b73193b549",
   "metadata": {},
   "outputs": [
    {
     "name": "stdout",
     "output_type": "stream",
     "text": [
      "{'length': 12, 'width': 10}\n",
      "{'length': 20, 'width': 15}\n"
     ]
    }
   ],
   "source": [
    "print(inst_1.__dict__)\n",
    "print(inst_2.__dict__)"
   ]
  },
  {
   "cell_type": "code",
   "execution_count": 279,
   "id": "366e1c16-1f40-4ae5-92a0-08877234c926",
   "metadata": {},
   "outputs": [
    {
     "name": "stdout",
     "output_type": "stream",
     "text": [
      "Help on class Rectangle in module __main__:\n",
      "\n",
      "class Rectangle(builtins.object)\n",
      " |  Rectangle(length=2.0, width: float = 4.0)\n",
      " |  \n",
      " |  Represents a rectangle, a four-sided polygon where opposite sides are equal in length \n",
      " |  and all angles are 90 degrees.   \n",
      " |  This class provides methods to calculate the area, perimeter, and to check if two rectangles \n",
      " |  are of the same size.    \n",
      " |  Attributes: length : float\n",
      " |      The length of the rectangle.\n",
      " |  width : float\n",
      " |      The width of the rectangle.\n",
      " |  \n",
      " |  Methods defined here:\n",
      " |  \n",
      " |  __init__(self, length=2.0, width: float = 4.0)\n",
      " |      Initializes a Rectangle instance with specified length and width. \n",
      " |      Parameters: length : float\n",
      " |          The length of the rectangle.\n",
      " |      width : float\n",
      " |          The width of the rectangle.\n",
      " |  \n",
      " |  __repr__(self) -> str\n",
      " |      Returns a formal string representation of the Rectangle instance.\n",
      " |      Returns:  str\n",
      " |          A string with the class name, length, and width.\n",
      " |  \n",
      " |  __str__(self) -> str\n",
      " |      Returns an informal string representation of the Rectangle instance.\n",
      " |      Returns: str\n",
      " |          A description of the rectangle with its dimensions, area, and perimeter.\n",
      " |  \n",
      " |  area(self) -> float\n",
      " |      Calculates the area of the rectangle.   \n",
      " |      Returns: float\n",
      " |          The area of the rectangle.\n",
      " |  \n",
      " |  perimeter(self) -> float\n",
      " |      Calculates the perimeter of the rectangle.     \n",
      " |      Returns: float\n",
      " |          The perimeter of the rectangle.\n",
      " |  \n",
      " |  ----------------------------------------------------------------------\n",
      " |  Data descriptors defined here:\n",
      " |  \n",
      " |  __dict__\n",
      " |      dictionary for instance variables (if defined)\n",
      " |  \n",
      " |  __weakref__\n",
      " |      list of weak references to the object (if defined)\n",
      "\n"
     ]
    }
   ],
   "source": [
    "help(Rectangle)"
   ]
  },
  {
   "cell_type": "code",
   "execution_count": 280,
   "id": "d3dc408e-ec48-47bb-87da-b520461626bf",
   "metadata": {},
   "outputs": [
    {
     "name": "stdout",
     "output_type": "stream",
     "text": [
      "\n",
      "    Represents a rectangle, a four-sided polygon where opposite sides are equal in length \n",
      "    and all angles are 90 degrees.   \n",
      "    This class provides methods to calculate the area, perimeter, and to check if two rectangles \n",
      "    are of the same size.    \n",
      "    Attributes: length : float\n",
      "        The length of the rectangle.\n",
      "    width : float\n",
      "        The width of the rectangle.\n",
      "    \n",
      "{'width': <class 'float'>}\n",
      "\n",
      "\n",
      "        Calculates the area of the rectangle.   \n",
      "        Returns: float\n",
      "            The area of the rectangle.\n",
      "        \n",
      "{'return': <class 'float'>}\n",
      "\n",
      "\n",
      "        Calculates the perimeter of the rectangle.     \n",
      "        Returns: float\n",
      "            The perimeter of the rectangle.\n",
      "        \n",
      "{'return': <class 'float'>}\n",
      "\n",
      "{'return': <class 'str'>}\n",
      "\n",
      "        Returns a formal string representation of the Rectangle instance.\n",
      "        Returns:  str\n",
      "            A string with the class name, length, and width.\n",
      "        \n",
      "\n",
      "{'return': <class 'str'>}\n",
      "\n",
      "        Returns an informal string representation of the Rectangle instance.\n",
      "        Returns: str\n",
      "            A description of the rectangle with its dimensions, area, and perimeter.\n",
      "        \n"
     ]
    }
   ],
   "source": [
    "print(Rectangle.__doc__)\n",
    "print(Rectangle.__init__.__annotations__)\n",
    "print()\n",
    "print(Rectangle.area.__doc__)\n",
    "print(Rectangle.area.__annotations__)\n",
    "print()\n",
    "print(Rectangle.perimeter.__doc__)\n",
    "print(Rectangle.perimeter.__annotations__)\n",
    "print()\n",
    "print(Rectangle.__repr__.__annotations__)\n",
    "print(Rectangle.__repr__.__doc__)\n",
    "print()\n",
    "print(Rectangle.__str__.__annotations__)\n",
    "print(Rectangle.__str__.__doc__)"
   ]
  },
  {
   "cell_type": "code",
   "execution_count": 281,
   "id": "a005089b-9a09-4e77-a0de-e16a7887980c",
   "metadata": {},
   "outputs": [],
   "source": [
    "inst_3 = Rectangle()"
   ]
  },
  {
   "cell_type": "code",
   "execution_count": 282,
   "id": "ef1a8f5a-dd90-4adb-ace6-6eb8d446144f",
   "metadata": {},
   "outputs": [
    {
     "name": "stdout",
     "output_type": "stream",
     "text": [
      "Rectangle with length = 2.0, width = 4.0\n"
     ]
    },
    {
     "data": {
      "text/plain": [
       "Rectangle(length=2.0, width=4.0)"
      ]
     },
     "execution_count": 282,
     "metadata": {},
     "output_type": "execute_result"
    }
   ],
   "source": [
    "print(inst_3)\n",
    "inst_3"
   ]
  },
  {
   "cell_type": "markdown",
   "id": "4f18c62e-fa2d-4bc1-ac58-d61a0a1a85ed",
   "metadata": {},
   "source": [
    " **5.Triangle**"
   ]
  },
  {
   "cell_type": "code",
   "execution_count": 283,
   "id": "8c70bd98-568e-4732-9806-8c6b95f6f91e",
   "metadata": {},
   "outputs": [],
   "source": [
    "class Triangle:\n",
    "    \"\"\"\n",
    "    Represents a Triangle, a three side of equal  length   \n",
    "    This class provides methods to calculate the area, perimeter\n",
    "    \"\"\"\n",
    "    def __init__(self, a: float = 1.0, b: float = 1.0, c: float = 1.0) -> None:\n",
    "        \"\"\"To initiate the triangle with specific three side of equal length\"\"\"\n",
    "        self.a = a\n",
    "        self.b = b\n",
    "        self.c = c\n",
    "    def area(self) -> float:\n",
    "        \"\"\"To calculate  the area of the triangle\"\"\"\n",
    "        s = (self.a + self.b + self.c) / 2\n",
    "        return math.sqrt(s * (s - self.a) * (s - self.b) * (s - self.c))\n",
    "\n",
    "    def perimeter(self) -> float:\n",
    "        \"\"\"To calculate the perimeter of the triangle\"\"\"\n",
    "        return self.a + self.b + self.c\n",
    "\n",
    "    def __repr__(self) -> str:\n",
    "        \"\"\"Returns an informal string representation of the triagnle instance.\"\"\"\n",
    "\n",
    "        return f\"Triangle(a={self.a}, b={self.b}, c={self.c})\"\n",
    "\n",
    "    def __str__(self) -> str:\n",
    "        \"\"\"Returns a formal string representation of the triangle instance.\"\"\"\n",
    "        return (f\"Triangle with sides: a={self.a}, b={self.b}, c={self.c}\")\n"
   ]
  },
  {
   "cell_type": "code",
   "execution_count": 284,
   "id": "752d0395-898d-49ee-8ade-99d2b7457bad",
   "metadata": {},
   "outputs": [],
   "source": [
    "t_1 = Triangle(9, 2, 6)\n",
    "t_2 = Triangle(7, 5, 3)"
   ]
  },
  {
   "cell_type": "code",
   "execution_count": 285,
   "id": "459ef857-b66c-4d63-8a4b-777a0b847e14",
   "metadata": {},
   "outputs": [
    {
     "name": "stdout",
     "output_type": "stream",
     "text": [
      "Triangle with sides: a=9, b=2, c=6\n",
      "Triangle with sides: a=7, b=5, c=3\n"
     ]
    }
   ],
   "source": [
    "print(t_1)\n",
    "print(t_2)"
   ]
  },
  {
   "cell_type": "code",
   "execution_count": 286,
   "id": "0b2a392a-cb80-4011-8a92-1ff778c6d687",
   "metadata": {},
   "outputs": [
    {
     "data": {
      "text/plain": [
       "Triangle(a=9, b=2, c=6)"
      ]
     },
     "execution_count": 286,
     "metadata": {},
     "output_type": "execute_result"
    }
   ],
   "source": [
    "t_1"
   ]
  },
  {
   "cell_type": "code",
   "execution_count": 287,
   "id": "f2d5d5be-a14f-466e-95e6-3b3f21df384d",
   "metadata": {},
   "outputs": [
    {
     "data": {
      "text/plain": [
       "Triangle(a=7, b=5, c=3)"
      ]
     },
     "execution_count": 287,
     "metadata": {},
     "output_type": "execute_result"
    }
   ],
   "source": [
    "t_2"
   ]
  },
  {
   "cell_type": "code",
   "execution_count": 288,
   "id": "2817fb5b-71f3-482c-9431-b0af5b6e2057",
   "metadata": {},
   "outputs": [
    {
     "name": "stdout",
     "output_type": "stream",
     "text": [
      "mappingproxy({'__dict__': <attribute '__dict__' of 'Triangle' objects>,\n",
      "              '__doc__': '\\n'\n",
      "                         '    Represents a Triangle, a three side of equal  '\n",
      "                         'length   \\n'\n",
      "                         '    This class provides methods to calculate the '\n",
      "                         'area, perimeter\\n'\n",
      "                         '    ',\n",
      "              '__init__': <function Triangle.__init__ at 0x0000020044401160>,\n",
      "              '__module__': '__main__',\n",
      "              '__repr__': <function Triangle.__repr__ at 0x0000020044298C10>,\n",
      "              '__str__': <function Triangle.__str__ at 0x00000200442980D0>,\n",
      "              '__weakref__': <attribute '__weakref__' of 'Triangle' objects>,\n",
      "              'area': <function Triangle.area at 0x00000200441C99D0>,\n",
      "              'perimeter': <function Triangle.perimeter at 0x00000200441B4A60>})\n"
     ]
    }
   ],
   "source": [
    "from  pprint import pprint\n",
    "pprint(Triangle.__dict__)"
   ]
  },
  {
   "cell_type": "code",
   "execution_count": 289,
   "id": "6684c3ff-d29f-4c83-8b53-70710fe341e3",
   "metadata": {},
   "outputs": [
    {
     "name": "stdout",
     "output_type": "stream",
     "text": [
      "mappingproxy({'__dict__': <attribute '__dict__' of 'Triangle' objects>,\n",
      "              '__doc__': '\\n'\n",
      "                         '    Represents a Triangle, a three side of equal  '\n",
      "                         'length   \\n'\n",
      "                         '    This class provides methods to calculate the '\n",
      "                         'area, perimeter\\n'\n",
      "                         '    ',\n",
      "              '__init__': <function Triangle.__init__ at 0x0000020044401160>,\n",
      "              '__module__': '__main__',\n",
      "              '__repr__': <function Triangle.__repr__ at 0x0000020044298C10>,\n",
      "              '__str__': <function Triangle.__str__ at 0x00000200442980D0>,\n",
      "              '__weakref__': <attribute '__weakref__' of 'Triangle' objects>,\n",
      "              'area': <function Triangle.area at 0x00000200441C99D0>,\n",
      "              'perimeter': <function Triangle.perimeter at 0x00000200441B4A60>})\n"
     ]
    }
   ],
   "source": [
    "pprint(vars(Triangle))"
   ]
  },
  {
   "cell_type": "code",
   "execution_count": 290,
   "id": "a1bdb958-eb41-4c4d-b15d-202bdc763f0e",
   "metadata": {},
   "outputs": [
    {
     "name": "stdout",
     "output_type": "stream",
     "text": [
      "{'a': 9, 'b': 2, 'c': 6}\n",
      "{'a': 7, 'b': 5, 'c': 3}\n"
     ]
    }
   ],
   "source": [
    "print(t_1.__dict__)\n",
    "print(t_2.__dict__)"
   ]
  },
  {
   "cell_type": "code",
   "execution_count": 291,
   "id": "293f2d54-2252-4019-9b7b-35a398833101",
   "metadata": {},
   "outputs": [
    {
     "name": "stdout",
     "output_type": "stream",
     "text": [
      "Help on class Triangle in module __main__:\n",
      "\n",
      "class Triangle(builtins.object)\n",
      " |  Triangle(a: float = 1.0, b: float = 1.0, c: float = 1.0) -> None\n",
      " |  \n",
      " |  Represents a Triangle, a three side of equal  length   \n",
      " |  This class provides methods to calculate the area, perimeter\n",
      " |  \n",
      " |  Methods defined here:\n",
      " |  \n",
      " |  __init__(self, a: float = 1.0, b: float = 1.0, c: float = 1.0) -> None\n",
      " |      To initiate the triangle with specific three side of equal length\n",
      " |  \n",
      " |  __repr__(self) -> str\n",
      " |      Returns an informal string representation of the triagnle instance.\n",
      " |  \n",
      " |  __str__(self) -> str\n",
      " |      Returns a formal string representation of the triangle instance.\n",
      " |  \n",
      " |  area(self) -> float\n",
      " |      To calculate  the area of the triangle\n",
      " |  \n",
      " |  perimeter(self) -> float\n",
      " |      To calculate the perimeter of the triangle\n",
      " |  \n",
      " |  ----------------------------------------------------------------------\n",
      " |  Data descriptors defined here:\n",
      " |  \n",
      " |  __dict__\n",
      " |      dictionary for instance variables (if defined)\n",
      " |  \n",
      " |  __weakref__\n",
      " |      list of weak references to the object (if defined)\n",
      "\n"
     ]
    }
   ],
   "source": [
    "help(Triangle)"
   ]
  },
  {
   "cell_type": "code",
   "execution_count": 292,
   "id": "4cc0ee84-ff22-4a3f-ae53-dc74bc8299d7",
   "metadata": {},
   "outputs": [
    {
     "name": "stdout",
     "output_type": "stream",
     "text": [
      "\n",
      "    Represents a Triangle, a three side of equal  length   \n",
      "    This class provides methods to calculate the area, perimeter\n",
      "    \n",
      "{'a': <class 'float'>, 'b': <class 'float'>, 'c': <class 'float'>, 'return': None}\n",
      "\n",
      "To calculate  the area of the triangle\n",
      "{'return': <class 'float'>}\n",
      "\n",
      "To calculate the perimeter of the triangle\n",
      "{'return': <class 'float'>}\n",
      "\n",
      "{'return': <class 'str'>}\n",
      "Returns an informal string representation of the triagnle instance.\n",
      "\n",
      "{'return': <class 'str'>}\n",
      "Returns a formal string representation of the triangle instance.\n"
     ]
    }
   ],
   "source": [
    "print(Triangle.__doc__)\n",
    "print(Triangle.__init__.__annotations__)\n",
    "print()\n",
    "print(Triangle.area.__doc__)\n",
    "print(Triangle.area.__annotations__)\n",
    "print()\n",
    "print(Triangle.perimeter.__doc__)\n",
    "print(Triangle.perimeter.__annotations__)\n",
    "print()\n",
    "print(Triangle.__repr__.__annotations__)\n",
    "print(Triangle.__repr__.__doc__)\n",
    "print()\n",
    "print(Triangle.__str__.__annotations__)\n",
    "print(Triangle.__str__.__doc__)"
   ]
  },
  {
   "cell_type": "code",
   "execution_count": 293,
   "id": "610bb65a-fb4a-4728-9773-53a870cb10cd",
   "metadata": {},
   "outputs": [],
   "source": [
    "t_3 = Triangle()"
   ]
  },
  {
   "cell_type": "code",
   "execution_count": 294,
   "id": "286a2a76-cb65-4322-bcd4-78059cb162e7",
   "metadata": {},
   "outputs": [
    {
     "name": "stdout",
     "output_type": "stream",
     "text": [
      "Triangle with sides: a=1.0, b=1.0, c=1.0\n"
     ]
    },
    {
     "data": {
      "text/plain": [
       "Triangle(a=1.0, b=1.0, c=1.0)"
      ]
     },
     "execution_count": 294,
     "metadata": {},
     "output_type": "execute_result"
    }
   ],
   "source": [
    "print(t_3)\n",
    "t_3"
   ]
  },
  {
   "cell_type": "markdown",
   "id": "ef4d9e6e-1ab4-4442-8e33-c93e000f1f04",
   "metadata": {},
   "source": [
    " **6.Trapezoid**"
   ]
  },
  {
   "cell_type": "code",
   "execution_count": 295,
   "id": "c1c60af8-d604-4477-902f-6b26cc3362a1",
   "metadata": {},
   "outputs": [],
   "source": [
    "class Trapezoid:\n",
    "    \"\"\"A class represent Trapezoid with two  bases and heigth\"\"\"\n",
    "    def __init__(self, base1: float = 1.0, base2: float = 1.0, height: float = 1.0) -> None:\n",
    "        \"\"\"To initate the class with specific value of bases and heigth\"\"\"\n",
    "        self.base1 = base1\n",
    "        self.base2 = base2\n",
    "        self.height = height\n",
    "    def area(self) -> float:\n",
    "        \"\"\"To calculate the area of trapezoid\"\"\"\n",
    "        return (self.base1 + self.base2) * self.height / 2\n",
    "\n",
    "    def perimeter(self) -> float:\n",
    "        \"\"\"To  calculate the perimeter of a trapezoid\"\"\"\n",
    "        raise NotImplementedError(\"Perimeter calculation requires lengths of non-parallel sides.\")\n",
    "\n",
    "    def __repr__(self) -> str:\n",
    "        \"\"\"Returns an informal string representation of the trapezoid instance.\"\"\"\n",
    "        return f\"Trapezoid(base1={self.base1}, base2={self.base2}, height={self.height})\"\n",
    "\n",
    "    def __str__(self) -> str:\n",
    "        \"\"\"Returns a formal string representation of the trapezoid instance.\"\"\"\n",
    "        return (f\"Trapezoid with base1: {self.base1}, base2: {self.base2}, \"\n",
    "                f\"height: {self.height}, area: {self.area}\")\n"
   ]
  },
  {
   "cell_type": "code",
   "execution_count": 296,
   "id": "f2eb9676-9571-4297-a86d-c59aa5036257",
   "metadata": {},
   "outputs": [],
   "source": [
    "trapezoid = Trapezoid(base1=2, base2=4, height=6)"
   ]
  },
  {
   "cell_type": "code",
   "execution_count": 297,
   "id": "5529920c-b412-4d06-88be-c5bdfaa17d21",
   "metadata": {},
   "outputs": [
    {
     "name": "stdout",
     "output_type": "stream",
     "text": [
      "Trapezoid with base1: 2, base2: 4, height: 6, area: <bound method Trapezoid.area of Trapezoid(base1=2, base2=4, height=6)>\n"
     ]
    }
   ],
   "source": [
    "print(trapezoid)"
   ]
  },
  {
   "cell_type": "code",
   "execution_count": 298,
   "id": "6752601c-1037-4106-b4d7-5c1af09f123a",
   "metadata": {},
   "outputs": [
    {
     "data": {
      "text/plain": [
       "Trapezoid(base1=2, base2=4, height=6)"
      ]
     },
     "execution_count": 298,
     "metadata": {},
     "output_type": "execute_result"
    }
   ],
   "source": [
    "trapezoid"
   ]
  },
  {
   "cell_type": "code",
   "execution_count": 12,
   "id": "14010323-c25e-4b0d-832b-5593b529cfde",
   "metadata": {},
   "outputs": [
    {
     "name": "stdout",
     "output_type": "stream",
     "text": [
      "mappingproxy({'__dict__': <attribute '__dict__' of 'Trapezoid' objects>,\n",
      "              '__doc__': 'A class represent Trapezoid with two  bases and '\n",
      "                         'heigth',\n",
      "              '__init__': <function Trapezoid.__init__ at 0x00000200424DCE50>,\n",
      "              '__module__': '__main__',\n",
      "              '__repr__': <function Trapezoid.__repr__ at 0x0000020044198790>,\n",
      "              '__str__': <function Trapezoid.__str__ at 0x0000020044198700>,\n",
      "              '__weakref__': <attribute '__weakref__' of 'Trapezoid' objects>,\n",
      "              'area': <function Trapezoid.area at 0x00000200424E0550>,\n",
      "              'perimeter': <function Trapezoid.perimeter at 0x00000200441985E0>})\n"
     ]
    }
   ],
   "source": [
    "from pprint import pprint\n",
    "pprint(Trapezoid.__dict__)"
   ]
  },
  {
   "cell_type": "code",
   "execution_count": 193,
   "id": "fb715791-685d-40ee-a240-1fbed7609288",
   "metadata": {},
   "outputs": [
    {
     "name": "stdout",
     "output_type": "stream",
     "text": [
      "mappingproxy({'__dict__': <attribute '__dict__' of 'Trapezoid' objects>,\n",
      "              '__doc__': 'A class represent Trapezoid with two  bases and '\n",
      "                         'heigth',\n",
      "              '__init__': <function Trapezoid.__init__ at 0x000001D7A35C23A0>,\n",
      "              '__module__': '__main__',\n",
      "              '__repr__': <function Trapezoid.__repr__ at 0x000001D7A3620040>,\n",
      "              '__str__': <function Trapezoid.__str__ at 0x000001D7A3620700>,\n",
      "              '__weakref__': <attribute '__weakref__' of 'Trapezoid' objects>,\n",
      "              'area': <function Trapezoid.area at 0x000001D7A35BBE50>,\n",
      "              'perimeter': <function Trapezoid.perimeter at 0x000001D7A35BBAF0>})\n"
     ]
    }
   ],
   "source": [
    "pprint(vars(Trapezoid))"
   ]
  },
  {
   "cell_type": "code",
   "execution_count": 194,
   "id": "dad4446b-766a-418b-8224-fd187fdd1ad9",
   "metadata": {},
   "outputs": [
    {
     "name": "stdout",
     "output_type": "stream",
     "text": [
      "{'base1': 2, 'base2': 4, 'height': 6}\n"
     ]
    }
   ],
   "source": [
    "print(trapezoid.__dict__)"
   ]
  },
  {
   "cell_type": "code",
   "execution_count": 195,
   "id": "bab8bcc6-a3a9-492d-bffe-53b85d836c01",
   "metadata": {},
   "outputs": [
    {
     "name": "stdout",
     "output_type": "stream",
     "text": [
      "Help on Trapezoid in module __main__ object:\n",
      "\n",
      "class Trapezoid(builtins.object)\n",
      " |  Trapezoid(base1: float = 1.0, base2: float = 1.0, height: float = 1.0) -> None\n",
      " |  \n",
      " |  A class represent Trapezoid with two  bases and heigth\n",
      " |  \n",
      " |  Methods defined here:\n",
      " |  \n",
      " |  __init__(self, base1: float = 1.0, base2: float = 1.0, height: float = 1.0) -> None\n",
      " |      To initate the class with specific value of bases and heigth\n",
      " |  \n",
      " |  __repr__(self) -> str\n",
      " |      Returns an informal string representation of the trapezoid instance.\n",
      " |  \n",
      " |  __str__(self) -> str\n",
      " |      Returns a formal string representation of the trapezoid instance.\n",
      " |  \n",
      " |  area(self) -> float\n",
      " |      To calculate the area of trapezoid\n",
      " |  \n",
      " |  perimeter(self) -> float\n",
      " |      To  calculate the perimeter of a trapezoid\n",
      " |  \n",
      " |  ----------------------------------------------------------------------\n",
      " |  Data descriptors defined here:\n",
      " |  \n",
      " |  __dict__\n",
      " |      dictionary for instance variables (if defined)\n",
      " |  \n",
      " |  __weakref__\n",
      " |      list of weak references to the object (if defined)\n",
      "\n"
     ]
    }
   ],
   "source": [
    "help(trapezoid)"
   ]
  },
  {
   "cell_type": "code",
   "execution_count": 196,
   "id": "abbd72c0-641c-490c-99e1-4de518586cea",
   "metadata": {},
   "outputs": [
    {
     "name": "stdout",
     "output_type": "stream",
     "text": [
      "A class represent Trapezoid with two  bases and heigth\n",
      "{'base1': <class 'float'>, 'base2': <class 'float'>, 'height': <class 'float'>, 'return': None}\n",
      "\n",
      "To calculate the area of trapezoid\n",
      "{'return': <class 'float'>}\n",
      "\n",
      "To  calculate the perimeter of a trapezoid\n",
      "{'return': <class 'float'>}\n",
      "\n",
      "{'return': <class 'str'>}\n",
      "Returns an informal string representation of the trapezoid instance.\n",
      "\n",
      "{'return': <class 'str'>}\n",
      "Returns a formal string representation of the trapezoid instance.\n"
     ]
    }
   ],
   "source": [
    "print(Trapezoid.__doc__)\n",
    "print(Trapezoid.__init__.__annotations__)\n",
    "print()\n",
    "print(Trapezoid.area.__doc__)\n",
    "print(Trapezoid.area.__annotations__)\n",
    "print()\n",
    "print(Trapezoid.perimeter.__doc__)\n",
    "print(Trapezoid.perimeter.__annotations__)\n",
    "print()\n",
    "print(Trapezoid.__repr__.__annotations__)\n",
    "print(Trapezoid.__repr__.__doc__)\n",
    "print()\n",
    "print(Trapezoid.__str__.__annotations__)\n",
    "print(Trapezoid.__str__.__doc__)"
   ]
  },
  {
   "cell_type": "markdown",
   "id": "49be420b-99f2-489a-8c42-2d8071b56160",
   "metadata": {},
   "source": [
    " **7.Parallelogram**"
   ]
  },
  {
   "cell_type": "code",
   "execution_count": 248,
   "id": "5231fc58-b95f-451a-a6e0-20f59ee0b608",
   "metadata": {},
   "outputs": [],
   "source": [
    "class Parallelogram:\n",
    "    \"\"\"A Class which represent Parallelogram with one base and height \"\"\"\n",
    "    def __init__(self, base: float = 1.0, height: float = 1.0) -> None:\n",
    "        self.base = base\n",
    "        self.height = height\n",
    "    def area(self) -> float:\n",
    "        \"\"\"To calculate the area of the Parallelogram\"\"\"\n",
    "        return self.base * self.height\n",
    "    def perimeter(self) -> float:\n",
    "        \"\"\"To calculate the perimeter of Parallelogram\"\"\"\n",
    "        return 2 * (self.base + self.height)\n",
    "            \n",
    "    def __repr__(self) -> str:\n",
    "        \"\"\"Return a string representation of the rhombus.\"\"\"\n",
    "        return f\"Parallelogram(base={self.base}, height={self.height})\"\n",
    "\n",
    "    def __str__(self) -> str:\n",
    "        \"\"\"Return a user-friendly string representation of the rhombus.\"\"\"\n",
    "        return (f\"Parallelogram with base: {self.base}, height: {self.height}\")\n"
   ]
  },
  {
   "cell_type": "code",
   "execution_count": 249,
   "id": "7235c19f-d938-440a-a543-08b934570690",
   "metadata": {},
   "outputs": [],
   "source": [
    "p_1 = Parallelogram(base=6, height=9)\n",
    "p_2 = Parallelogram(base=4, height=7)"
   ]
  },
  {
   "cell_type": "code",
   "execution_count": 250,
   "id": "3cf44d27-2683-4f5f-a977-5872885020ca",
   "metadata": {},
   "outputs": [
    {
     "name": "stdout",
     "output_type": "stream",
     "text": [
      "Parallelogram with base: 6, height: 9\n",
      "Parallelogram with base: 4, height: 7\n"
     ]
    }
   ],
   "source": [
    "print(p_1)\n",
    "print(p_2)"
   ]
  },
  {
   "cell_type": "code",
   "execution_count": 251,
   "id": "f6fce7de-ee1d-488b-be2e-6c89c75cd217",
   "metadata": {},
   "outputs": [
    {
     "data": {
      "text/plain": [
       "Parallelogram(base=6, height=9)"
      ]
     },
     "execution_count": 251,
     "metadata": {},
     "output_type": "execute_result"
    }
   ],
   "source": [
    "p_1"
   ]
  },
  {
   "cell_type": "code",
   "execution_count": 252,
   "id": "8f4b7d8b-f220-4e6c-846d-133d0d7ee3df",
   "metadata": {},
   "outputs": [
    {
     "data": {
      "text/plain": [
       "Parallelogram(base=4, height=7)"
      ]
     },
     "execution_count": 252,
     "metadata": {},
     "output_type": "execute_result"
    }
   ],
   "source": [
    "p_2"
   ]
  },
  {
   "cell_type": "code",
   "execution_count": 253,
   "id": "d7a936f3-955b-4f8b-96b6-e018f66d3a79",
   "metadata": {},
   "outputs": [
    {
     "name": "stdout",
     "output_type": "stream",
     "text": [
      "mappingproxy({'__dict__': <attribute '__dict__' of 'Parallelogram' objects>,\n",
      "              '__doc__': 'A Class which represent Parallelogram with one base '\n",
      "                         'and height ',\n",
      "              '__init__': <function Parallelogram.__init__ at 0x0000019F09EA4820>,\n",
      "              '__module__': '__main__',\n",
      "              '__repr__': <function Parallelogram.__repr__ at 0x0000019F09EACB80>,\n",
      "              '__str__': <function Parallelogram.__str__ at 0x0000019F09EACDC0>,\n",
      "              '__weakref__': <attribute '__weakref__' of 'Parallelogram' objects>,\n",
      "              'area': <function Parallelogram.area at 0x0000019F09EACA60>,\n",
      "              'perimeter': <function Parallelogram.perimeter at 0x0000019F09EACD30>})\n"
     ]
    }
   ],
   "source": [
    "pprint(Parallelogram.__dict__)"
   ]
  },
  {
   "cell_type": "code",
   "execution_count": 254,
   "id": "2dce1953-f281-41b1-a9a2-9b351e0f20d5",
   "metadata": {},
   "outputs": [
    {
     "name": "stdout",
     "output_type": "stream",
     "text": [
      "mappingproxy({'__dict__': <attribute '__dict__' of 'Parallelogram' objects>,\n",
      "              '__doc__': 'A Class which represent Parallelogram with one base '\n",
      "                         'and height ',\n",
      "              '__init__': <function Parallelogram.__init__ at 0x0000019F09EA4820>,\n",
      "              '__module__': '__main__',\n",
      "              '__repr__': <function Parallelogram.__repr__ at 0x0000019F09EACB80>,\n",
      "              '__str__': <function Parallelogram.__str__ at 0x0000019F09EACDC0>,\n",
      "              '__weakref__': <attribute '__weakref__' of 'Parallelogram' objects>,\n",
      "              'area': <function Parallelogram.area at 0x0000019F09EACA60>,\n",
      "              'perimeter': <function Parallelogram.perimeter at 0x0000019F09EACD30>})\n"
     ]
    }
   ],
   "source": [
    "pprint(vars(Parallelogram))"
   ]
  },
  {
   "cell_type": "code",
   "execution_count": 255,
   "id": "55821866-17bc-4cdc-ba61-99048e3f4201",
   "metadata": {},
   "outputs": [
    {
     "name": "stdout",
     "output_type": "stream",
     "text": [
      "Help on class Parallelogram in module __main__:\n",
      "\n",
      "class Parallelogram(builtins.object)\n",
      " |  Parallelogram(base: float = 1.0, height: float = 1.0) -> None\n",
      " |  \n",
      " |  A Class which represent Parallelogram with one base and height\n",
      " |  \n",
      " |  Methods defined here:\n",
      " |  \n",
      " |  __init__(self, base: float = 1.0, height: float = 1.0) -> None\n",
      " |      Initialize self.  See help(type(self)) for accurate signature.\n",
      " |  \n",
      " |  __repr__(self) -> str\n",
      " |      Return a string representation of the rhombus.\n",
      " |  \n",
      " |  __str__(self) -> str\n",
      " |      Return a user-friendly string representation of the rhombus.\n",
      " |  \n",
      " |  area(self) -> float\n",
      " |      To calculate the area of the Parallelogram\n",
      " |  \n",
      " |  perimeter(self) -> float\n",
      " |      To calculate the perimeter of Parallelogram\n",
      " |  \n",
      " |  ----------------------------------------------------------------------\n",
      " |  Data descriptors defined here:\n",
      " |  \n",
      " |  __dict__\n",
      " |      dictionary for instance variables (if defined)\n",
      " |  \n",
      " |  __weakref__\n",
      " |      list of weak references to the object (if defined)\n",
      "\n"
     ]
    }
   ],
   "source": [
    "help(Parallelogram)"
   ]
  },
  {
   "cell_type": "code",
   "execution_count": 256,
   "id": "db62b980-c590-4b7e-845d-986abd9b226b",
   "metadata": {},
   "outputs": [
    {
     "name": "stdout",
     "output_type": "stream",
     "text": [
      "A Class which represent Parallelogram with one base and height \n",
      "{'base': <class 'float'>, 'height': <class 'float'>, 'return': None}\n",
      "To calculate the area of the Parallelogram\n",
      "{'return': <class 'float'>}\n",
      "To calculate the perimeter of Parallelogram\n",
      "{'return': <class 'float'>}\n",
      "{'return': <class 'str'>}\n",
      "Return a string representation of the rhombus.\n",
      "{'return': <class 'str'>}\n",
      "Return a user-friendly string representation of the rhombus.\n"
     ]
    }
   ],
   "source": [
    "print(Parallelogram.__doc__)\n",
    "print(Parallelogram.__init__.__annotations__)\n",
    "print(Parallelogram.area.__doc__)\n",
    "print(Parallelogram.area.__annotations__)\n",
    "print(Parallelogram.perimeter.__doc__)\n",
    "print(Parallelogram.perimeter.__annotations__)\n",
    "print(Parallelogram.__repr__.__annotations__)\n",
    "print(Parallelogram.__repr__.__doc__)\n",
    "print(Parallelogram.__str__.__annotations__)\n",
    "print(Parallelogram.__str__.__doc__)"
   ]
  },
  {
   "cell_type": "code",
   "execution_count": 257,
   "id": "dee8edbb-a7a8-46b9-97e0-f4154bb38492",
   "metadata": {},
   "outputs": [],
   "source": [
    "p_3 = Parallelogram()"
   ]
  },
  {
   "cell_type": "code",
   "execution_count": 258,
   "id": "f0888311-ca9f-42d7-b8f0-a4b0f65df470",
   "metadata": {},
   "outputs": [
    {
     "name": "stdout",
     "output_type": "stream",
     "text": [
      "Parallelogram with base: 1.0, height: 1.0\n"
     ]
    },
    {
     "data": {
      "text/plain": [
       "Parallelogram(base=1.0, height=1.0)"
      ]
     },
     "execution_count": 258,
     "metadata": {},
     "output_type": "execute_result"
    }
   ],
   "source": [
    "print(p_3)\n",
    "p_3"
   ]
  },
  {
   "cell_type": "markdown",
   "id": "7a5bbc20-2e3e-4a80-9c3e-4d3e906489d2",
   "metadata": {},
   "source": [
    " **8.Rhombus**"
   ]
  },
  {
   "cell_type": "code",
   "execution_count": 26,
   "id": "4f11305a-77f3-42ef-821c-0860a9991a4d",
   "metadata": {},
   "outputs": [],
   "source": [
    "class Rhombus:\n",
    "    \"\"\"A class to represent a rhombus, a parallelogram with all sides equal.\"\"\"\n",
    "    \n",
    "    def __init__(self, side_length: float = 1.0, height: float = 1.0) -> None:\n",
    "        \"\"\"Initialize the rhombus with the length of its sides and height.\n",
    "        \n",
    "        Args:\n",
    "            side_length (float): Length of each side. Defaults to 1.0.\n",
    "            height (float): Height of the rhombus. Defaults to 1.0.\n",
    "        \"\"\"\n",
    "        self.side_length = side_length\n",
    "        self.height = height\n",
    "    def area(self) -> float:\n",
    "        \"\"\"Calculate the area of the rhombus.\"\"\"\n",
    "        return self.side_length * self.height\n",
    "\n",
    "    def perimeter(self) -> float:\n",
    "        \"\"\"Calculate the perimeter of the rhombus.\"\"\"\n",
    "        return 4 * self.side_length\n",
    "\n",
    "    def __repr__(self) -> str:\n",
    "        \"\"\"Return a string representation of the rhombus.\"\"\"\n",
    "        return f\"Rhombus(side_length={self.side_length}, height={self.height})\"\n",
    "\n",
    "    def __str__(self) -> str:\n",
    "        \"\"\"Return a user-friendly string representation of the rhombus.\"\"\"\n",
    "        return (f\"Rhombus with side length: {self.side_length}, height: {self.height}\")\n"
   ]
  },
  {
   "cell_type": "code",
   "execution_count": 134,
   "id": "f3b1bd91-3741-44ad-a84f-f66fc044e348",
   "metadata": {},
   "outputs": [],
   "source": [
    "R_1 = Rhombus(3, 2)\n",
    "R_2 = Rhombus(9, 6)"
   ]
  },
  {
   "cell_type": "code",
   "execution_count": 135,
   "id": "faf31f7c-0e98-48a0-8d57-7d2fd883c58c",
   "metadata": {},
   "outputs": [
    {
     "name": "stdout",
     "output_type": "stream",
     "text": [
      "Rhombus with side length: 3, height: 2\n",
      "Rhombus with side length: 9, height: 6\n"
     ]
    }
   ],
   "source": [
    "print(R_1)\n",
    "print(R_2)"
   ]
  },
  {
   "cell_type": "code",
   "execution_count": 136,
   "id": "cc111388-0f45-4f10-86c4-8b6919ff531b",
   "metadata": {},
   "outputs": [
    {
     "data": {
      "text/plain": [
       "Rhombus(side_length=3, height=2)"
      ]
     },
     "execution_count": 136,
     "metadata": {},
     "output_type": "execute_result"
    }
   ],
   "source": [
    "R_1"
   ]
  },
  {
   "cell_type": "code",
   "execution_count": 137,
   "id": "f42a1cc9-7953-4282-9f66-e6c6df9cb86d",
   "metadata": {},
   "outputs": [
    {
     "data": {
      "text/plain": [
       "Rhombus(side_length=9, height=6)"
      ]
     },
     "execution_count": 137,
     "metadata": {},
     "output_type": "execute_result"
    }
   ],
   "source": [
    "R_2"
   ]
  },
  {
   "cell_type": "code",
   "execution_count": 138,
   "id": "45130410-f6ee-4b46-99bb-b3478b2dcbe7",
   "metadata": {},
   "outputs": [
    {
     "name": "stdout",
     "output_type": "stream",
     "text": [
      "mappingproxy({'__dict__': <attribute '__dict__' of 'Rhombus' objects>,\n",
      "              '__doc__': 'A class to represent a rhombus, a parallelogram with '\n",
      "                         'all sides equal.',\n",
      "              '__init__': <function Rhombus.__init__ at 0x000001D7A35BBEE0>,\n",
      "              '__module__': '__main__',\n",
      "              '__repr__': <function Rhombus.__repr__ at 0x000001D7A35C2040>,\n",
      "              '__str__': <function Rhombus.__str__ at 0x000001D7A35C20D0>,\n",
      "              '__weakref__': <attribute '__weakref__' of 'Rhombus' objects>,\n",
      "              'area': <function Rhombus.area at 0x000001D7A35BBCA0>,\n",
      "              'perimeter': <function Rhombus.perimeter at 0x000001D7A35BBF70>})\n"
     ]
    }
   ],
   "source": [
    "pprint(Rhombus.__dict__)"
   ]
  },
  {
   "cell_type": "code",
   "execution_count": 139,
   "id": "923b2a57-1813-40c2-a2e2-e5b40bbf7d79",
   "metadata": {},
   "outputs": [
    {
     "name": "stdout",
     "output_type": "stream",
     "text": [
      "mappingproxy({'__dict__': <attribute '__dict__' of 'Rhombus' objects>,\n",
      "              '__doc__': 'A class to represent a rhombus, a parallelogram with '\n",
      "                         'all sides equal.',\n",
      "              '__init__': <function Rhombus.__init__ at 0x000001D7A35BBEE0>,\n",
      "              '__module__': '__main__',\n",
      "              '__repr__': <function Rhombus.__repr__ at 0x000001D7A35C2040>,\n",
      "              '__str__': <function Rhombus.__str__ at 0x000001D7A35C20D0>,\n",
      "              '__weakref__': <attribute '__weakref__' of 'Rhombus' objects>,\n",
      "              'area': <function Rhombus.area at 0x000001D7A35BBCA0>,\n",
      "              'perimeter': <function Rhombus.perimeter at 0x000001D7A35BBF70>})\n"
     ]
    }
   ],
   "source": [
    "pprint(vars(Rhombus))"
   ]
  },
  {
   "cell_type": "code",
   "execution_count": 140,
   "id": "e80863bd-723e-45fb-9de0-3f95743da5fc",
   "metadata": {},
   "outputs": [
    {
     "name": "stdout",
     "output_type": "stream",
     "text": [
      "{'side_length': 3, 'height': 2}\n",
      "{'side_length': 9, 'height': 6}\n"
     ]
    }
   ],
   "source": [
    "print(R_1.__dict__)\n",
    "print(R_2.__dict__)"
   ]
  },
  {
   "cell_type": "code",
   "execution_count": 141,
   "id": "e6f6ca74-6bc3-4db1-96df-1e27e3bd5d2e",
   "metadata": {},
   "outputs": [
    {
     "name": "stdout",
     "output_type": "stream",
     "text": [
      "Help on class Rhombus in module __main__:\n",
      "\n",
      "class Rhombus(builtins.object)\n",
      " |  Rhombus(side_length: float = 1.0, height: float = 1.0) -> None\n",
      " |  \n",
      " |  A class to represent a rhombus, a parallelogram with all sides equal.\n",
      " |  \n",
      " |  Methods defined here:\n",
      " |  \n",
      " |  __init__(self, side_length: float = 1.0, height: float = 1.0) -> None\n",
      " |      Initialize the rhombus with the length of its sides and height.\n",
      " |      \n",
      " |      Args:\n",
      " |          side_length (float): Length of each side. Defaults to 1.0.\n",
      " |          height (float): Height of the rhombus. Defaults to 1.0.\n",
      " |  \n",
      " |  __repr__(self) -> str\n",
      " |      Return a string representation of the rhombus.\n",
      " |  \n",
      " |  __str__(self) -> str\n",
      " |      Return a user-friendly string representation of the rhombus.\n",
      " |  \n",
      " |  area(self) -> float\n",
      " |      Calculate the area of the rhombus.\n",
      " |  \n",
      " |  perimeter(self) -> float\n",
      " |      Calculate the perimeter of the rhombus.\n",
      " |  \n",
      " |  ----------------------------------------------------------------------\n",
      " |  Data descriptors defined here:\n",
      " |  \n",
      " |  __dict__\n",
      " |      dictionary for instance variables (if defined)\n",
      " |  \n",
      " |  __weakref__\n",
      " |      list of weak references to the object (if defined)\n",
      "\n"
     ]
    }
   ],
   "source": [
    "help(Rhombus)"
   ]
  },
  {
   "cell_type": "code",
   "execution_count": 142,
   "id": "5508d41a-584b-4b3a-8479-665ee80a2148",
   "metadata": {},
   "outputs": [
    {
     "name": "stdout",
     "output_type": "stream",
     "text": [
      "A class to represent a rhombus, a parallelogram with all sides equal.\n",
      "{'side_length': <class 'float'>, 'height': <class 'float'>, 'return': None}\n",
      "\n",
      "Calculate the area of the rhombus.\n",
      "{'return': <class 'float'>}\n",
      "\n",
      "Calculate the perimeter of the rhombus.\n",
      "{'return': <class 'float'>}\n",
      "\n",
      "{'return': <class 'str'>}\n",
      "Return a string representation of the rhombus.\n",
      "\n",
      "{'return': <class 'str'>}\n",
      "Return a user-friendly string representation of the rhombus.\n"
     ]
    }
   ],
   "source": [
    "print(Rhombus.__doc__)\n",
    "print(Rhombus.__init__.__annotations__)\n",
    "print()\n",
    "print(Rhombus.area.__doc__)\n",
    "print(Rhombus.area.__annotations__)\n",
    "print()\n",
    "print(Rhombus.perimeter.__doc__)\n",
    "print(Rhombus.perimeter.__annotations__)\n",
    "print()\n",
    "print(Rhombus.__repr__.__annotations__)\n",
    "print(Rhombus.__repr__.__doc__)\n",
    "print()\n",
    "print(Rhombus.__str__.__annotations__)\n",
    "print(Rhombus.__str__.__doc__)"
   ]
  },
  {
   "cell_type": "code",
   "execution_count": 27,
   "id": "2ea313b4-e34c-4495-bd72-4433b89fa371",
   "metadata": {},
   "outputs": [],
   "source": [
    "R_3 = Rhombus()"
   ]
  },
  {
   "cell_type": "code",
   "execution_count": 28,
   "id": "bbfdf9b2-35d9-4581-97ca-755b31cd0713",
   "metadata": {},
   "outputs": [
    {
     "name": "stdout",
     "output_type": "stream",
     "text": [
      "Rhombus with side length: 1.0, height: 1.0\n"
     ]
    },
    {
     "data": {
      "text/plain": [
       "Rhombus(side_length=1.0, height=1.0)"
      ]
     },
     "execution_count": 28,
     "metadata": {},
     "output_type": "execute_result"
    }
   ],
   "source": [
    "print(R_3)\n",
    "R_3"
   ]
  },
  {
   "cell_type": "markdown",
   "id": "1152951b-487e-4b36-826b-94e542742c68",
   "metadata": {},
   "source": [
    "## 1. Resistor"
   ]
  },
  {
   "cell_type": "code",
   "execution_count": 197,
   "id": "77e54bde-c9a0-4f8c-baaa-235c75e12a7c",
   "metadata": {},
   "outputs": [],
   "source": [
    "class Resister:\n",
    "    \"\"\"A class to represent a simple circuit with a single resistor.\"\"\"\n",
    "    \n",
    "    def __init__(self, resistance: float = 1.0) -> None:\n",
    "        \"\"\"Initialize the resistor with the given resistance value.\n",
    "        \n",
    "        Args:\n",
    "            resistance (float): Resistance in ohms. Defaults to 1.0.\n",
    "        \"\"\"\n",
    "        self.resistance = resistance\n",
    "\n",
    "    def resistance(self) -> float:\n",
    "        \"\"\"Get the resistance value.\"\"\"\n",
    "        return self.resistance\n",
    "\n",
    "    def __repr__(self) -> str:\n",
    "        \"\"\"Return a string representation of the Resister.\"\"\"\n",
    "\n",
    "        return f\"Resistor(resistance={self.resistance})\"\n",
    "\n",
    "    def __str__(self) -> str:\n",
    "        \"\"\"Return a user-friendly string representation of the Resister.\"\"\"\n",
    "\n",
    "        return f\"Resistor with resistance: {self.resistance} ohms\"\n"
   ]
  },
  {
   "cell_type": "code",
   "execution_count": 198,
   "id": "985641b5-f3e9-4109-a027-a8243b45d522",
   "metadata": {},
   "outputs": [],
   "source": [
    "r_1 = Resister(10)\n",
    "r_2 = Resister(35)"
   ]
  },
  {
   "cell_type": "code",
   "execution_count": 199,
   "id": "2f241d69-7fba-444d-ba68-8a3f80987b38",
   "metadata": {},
   "outputs": [
    {
     "name": "stdout",
     "output_type": "stream",
     "text": [
      "Resistor with resistance: 10 ohms\n",
      "Resistor with resistance: 35 ohms\n"
     ]
    }
   ],
   "source": [
    "print(r_1)\n",
    "print(r_2)"
   ]
  },
  {
   "cell_type": "code",
   "execution_count": 200,
   "id": "12f844ea-7745-4c99-ae4f-a3f288c4e8ec",
   "metadata": {},
   "outputs": [
    {
     "data": {
      "text/plain": [
       "Resistor(resistance=10)"
      ]
     },
     "execution_count": 200,
     "metadata": {},
     "output_type": "execute_result"
    }
   ],
   "source": [
    "r_1"
   ]
  },
  {
   "cell_type": "code",
   "execution_count": 201,
   "id": "7e92c50f-d513-45b5-857f-a8237218b428",
   "metadata": {},
   "outputs": [
    {
     "data": {
      "text/plain": [
       "Resistor(resistance=35)"
      ]
     },
     "execution_count": 201,
     "metadata": {},
     "output_type": "execute_result"
    }
   ],
   "source": [
    "r_2"
   ]
  },
  {
   "cell_type": "code",
   "execution_count": 202,
   "id": "fbd5292d-ca0b-4d9e-9346-765b5bcf51db",
   "metadata": {},
   "outputs": [
    {
     "name": "stdout",
     "output_type": "stream",
     "text": [
      "mappingproxy({'__dict__': <attribute '__dict__' of 'Resister' objects>,\n",
      "              '__doc__': 'A class to represent a simple circuit with a single '\n",
      "                         'resistor.',\n",
      "              '__init__': <function Resister.__init__ at 0x000001D7A36343A0>,\n",
      "              '__module__': '__main__',\n",
      "              '__repr__': <function Resister.__repr__ at 0x000001D7A36345E0>,\n",
      "              '__str__': <function Resister.__str__ at 0x000001D7A3634430>,\n",
      "              '__weakref__': <attribute '__weakref__' of 'Resister' objects>,\n",
      "              'resistance': <function Resister.resistance at 0x000001D7A3634310>})\n"
     ]
    }
   ],
   "source": [
    "pprint(Resister.__dict__)"
   ]
  },
  {
   "cell_type": "code",
   "execution_count": 203,
   "id": "875926f0-35e2-4e62-8f22-71553f364ef6",
   "metadata": {},
   "outputs": [
    {
     "name": "stdout",
     "output_type": "stream",
     "text": [
      "mappingproxy({'__dict__': <attribute '__dict__' of 'Resister' objects>,\n",
      "              '__doc__': 'A class to represent a simple circuit with a single '\n",
      "                         'resistor.',\n",
      "              '__init__': <function Resister.__init__ at 0x000001D7A36343A0>,\n",
      "              '__module__': '__main__',\n",
      "              '__repr__': <function Resister.__repr__ at 0x000001D7A36345E0>,\n",
      "              '__str__': <function Resister.__str__ at 0x000001D7A3634430>,\n",
      "              '__weakref__': <attribute '__weakref__' of 'Resister' objects>,\n",
      "              'resistance': <function Resister.resistance at 0x000001D7A3634310>})\n"
     ]
    }
   ],
   "source": [
    "pprint(vars(Resister))"
   ]
  },
  {
   "cell_type": "code",
   "execution_count": 204,
   "id": "8778954f-7c93-424d-8e55-90a8e6d0f180",
   "metadata": {},
   "outputs": [
    {
     "name": "stdout",
     "output_type": "stream",
     "text": [
      "{'resistance': 10}\n"
     ]
    }
   ],
   "source": [
    "print(r_1.__dict__)"
   ]
  },
  {
   "cell_type": "code",
   "execution_count": 205,
   "id": "2c1e173a-d89e-4977-8979-a5d91ed4f7d9",
   "metadata": {},
   "outputs": [
    {
     "name": "stdout",
     "output_type": "stream",
     "text": [
      "{'resistance': 35}\n"
     ]
    }
   ],
   "source": [
    "print(r_2.__dict__)"
   ]
  },
  {
   "cell_type": "code",
   "execution_count": 206,
   "id": "fe70287c-5903-411e-ba1f-c4c8554f5ede",
   "metadata": {},
   "outputs": [
    {
     "name": "stdout",
     "output_type": "stream",
     "text": [
      "Help on class Resister in module __main__:\n",
      "\n",
      "class Resister(builtins.object)\n",
      " |  Resister(resistance: float = 1.0) -> None\n",
      " |  \n",
      " |  A class to represent a simple circuit with a single resistor.\n",
      " |  \n",
      " |  Methods defined here:\n",
      " |  \n",
      " |  __init__(self, resistance: float = 1.0) -> None\n",
      " |      Initialize the resistor with the given resistance value.\n",
      " |      \n",
      " |      Args:\n",
      " |          resistance (float): Resistance in ohms. Defaults to 1.0.\n",
      " |  \n",
      " |  __repr__(self) -> str\n",
      " |      Return a string representation of the Resister.\n",
      " |  \n",
      " |  __str__(self) -> str\n",
      " |      Return a user-friendly string representation of the Resister.\n",
      " |  \n",
      " |  resistance(self) -> float\n",
      " |      Get the resistance value.\n",
      " |  \n",
      " |  ----------------------------------------------------------------------\n",
      " |  Data descriptors defined here:\n",
      " |  \n",
      " |  __dict__\n",
      " |      dictionary for instance variables (if defined)\n",
      " |  \n",
      " |  __weakref__\n",
      " |      list of weak references to the object (if defined)\n",
      "\n"
     ]
    }
   ],
   "source": [
    "help(Resister)"
   ]
  },
  {
   "cell_type": "code",
   "execution_count": 255,
   "id": "ba675909-2ffb-463d-a1f1-37bf93a0ac83",
   "metadata": {},
   "outputs": [
    {
     "name": "stdout",
     "output_type": "stream",
     "text": [
      "A class to represent a simple circuit with a single resistor.\n",
      "{'resistance': <class 'float'>, 'return': None}\n",
      "\n",
      "Get the resistance value.\n",
      "{'return': <class 'float'>}\n",
      "\n",
      "{'return': <class 'str'>}\n",
      "Return a string representation of the Resister.\n",
      "\n",
      "{'return': <class 'str'>}\n",
      "Return a user-friendly string representation of the Resister.\n"
     ]
    }
   ],
   "source": [
    "print(Resister.__doc__)\n",
    "print(Resister.__init__.__annotations__)\n",
    "print()\n",
    "print(Resister.resistance.__doc__)\n",
    "print(Resister.resistance.__annotations__)\n",
    "print()\n",
    "print(Resister.__repr__.__annotations__)\n",
    "print(Resister.__repr__.__doc__)\n",
    "print()\n",
    "print(Resister.__str__.__annotations__)\n",
    "print(Resister.__str__.__doc__)"
   ]
  },
  {
   "cell_type": "markdown",
   "id": "0e27b156-634d-41aa-a406-21c48acaba93",
   "metadata": {},
   "source": [
    "## 2. RL Circuit"
   ]
  },
  {
   "cell_type": "code",
   "execution_count": 23,
   "id": "4554fc19-dab7-4ee5-9696-8b4869887d80",
   "metadata": {},
   "outputs": [],
   "source": [
    "class RL_Circuit:\n",
    "    \"\"\"A class to represent an RL circuit (Resistor and Inductor).\"\"\"\n",
    "    \n",
    "    def __init__(self, resistance: float = 1.0, inductance: float = 1.0) -> None:\n",
    "        \"\"\"Initialize the RL circuit with resistance and inductance.\n",
    "        \n",
    "        Args:\n",
    "            resistance (float): Resistance in ohms. Defaults to 1.0.\n",
    "            inductance (float): Inductance in henries. Defaults to 1.0.\n",
    "        \"\"\"\n",
    "        self.resistance = resistance\n",
    "        self.inductance = inductance\n",
    "    def reactance(self,frequency: float) -> float:\n",
    "        \"\"\"Calculate the reactance of the inductor\"\"\"\n",
    "        return 2 * math.pi * frequency * self.inductance\n",
    "    def impedance(self) -> float:\n",
    "        \"\"\"Calculate the impedance of the RL circuit.\n",
    "        \n",
    "        Args:\n",
    "            frequency (float): Frequency in hertz.\n",
    "        \n",
    "        Returns:\n",
    "            float: Impedance in ohms.\n",
    "        \"\"\"\n",
    "        return math.sqrt((self.resistance**2) + (self.reactance)**2)\n",
    "\n",
    "    def __repr__(self) -> str:\n",
    "        \"\"\"Return a string representation of the RL Circuit.\"\"\"\n",
    "\n",
    "        return f\"RLCircuit(resistor={self.resistance}, inductance={self.inductance})\"\n",
    "\n",
    "    def __str__(self) -> str:\n",
    "        \"\"\"Return a user-friendly string representation of the RL Circuit.\"\"\"\n",
    "        return (f\"RL Circuit with {self.resistance} ohm, inductance: {self.inductance} H\")\n"
   ]
  },
  {
   "cell_type": "code",
   "execution_count": 295,
   "id": "5941e286-abb1-462e-b141-fde1c9b2b233",
   "metadata": {},
   "outputs": [],
   "source": [
    "RL_1 = RL_Circuit(10,0.1)\n",
    "RL_2 = RL_Circuit(30,0.001)"
   ]
  },
  {
   "cell_type": "code",
   "execution_count": 296,
   "id": "69287f55-41ce-437d-b41c-466255eb8272",
   "metadata": {},
   "outputs": [
    {
     "name": "stdout",
     "output_type": "stream",
     "text": [
      "RL Circuit with 10 ohm, inductance: 0.1 H\n",
      "RL Circuit with 30 ohm, inductance: 0.001 H\n"
     ]
    }
   ],
   "source": [
    "print(RL_1)\n",
    "print(RL_2)"
   ]
  },
  {
   "cell_type": "code",
   "execution_count": 297,
   "id": "1c5eba76-1d5f-4bfb-938b-4c9dd68b1dbf",
   "metadata": {},
   "outputs": [
    {
     "data": {
      "text/plain": [
       "RLCircuit(resistor=10, inductance=0.1)"
      ]
     },
     "execution_count": 297,
     "metadata": {},
     "output_type": "execute_result"
    }
   ],
   "source": [
    "RL_1"
   ]
  },
  {
   "cell_type": "code",
   "execution_count": 298,
   "id": "4c4e944a-dffd-4ce6-8331-bf9f0944139e",
   "metadata": {},
   "outputs": [
    {
     "data": {
      "text/plain": [
       "RLCircuit(resistor=30, inductance=0.001)"
      ]
     },
     "execution_count": 298,
     "metadata": {},
     "output_type": "execute_result"
    }
   ],
   "source": [
    "RL_2"
   ]
  },
  {
   "cell_type": "code",
   "execution_count": 299,
   "id": "639914f8-212e-45a9-93db-945ea03d0266",
   "metadata": {},
   "outputs": [
    {
     "name": "stdout",
     "output_type": "stream",
     "text": [
      "mappingproxy({'__dict__': <attribute '__dict__' of 'RL_Circuit' objects>,\n",
      "              '__doc__': 'A class to represent an RL circuit (Resistor and '\n",
      "                         'Inductor).',\n",
      "              '__init__': <function RL_Circuit.__init__ at 0x000001D7A3C30E50>,\n",
      "              '__module__': '__main__',\n",
      "              '__repr__': <function RL_Circuit.__repr__ at 0x000001D7A3C300D0>,\n",
      "              '__str__': <function RL_Circuit.__str__ at 0x000001D7A3C301F0>,\n",
      "              '__weakref__': <attribute '__weakref__' of 'RL_Circuit' objects>,\n",
      "              'impedance': <function RL_Circuit.impedance at 0x000001D7A3C30C10>,\n",
      "              'reactance': <function RL_Circuit.reactance at 0x000001D7A3C30DC0>})\n"
     ]
    }
   ],
   "source": [
    "pprint(RL_Circuit.__dict__)"
   ]
  },
  {
   "cell_type": "code",
   "execution_count": 300,
   "id": "c1697404-9bec-42aa-8e1c-aec774be94cf",
   "metadata": {},
   "outputs": [
    {
     "name": "stdout",
     "output_type": "stream",
     "text": [
      "mappingproxy({'__dict__': <attribute '__dict__' of 'RLCircuit' objects>,\n",
      "              '__doc__': 'A class to represent an RL circuit (Resistor and '\n",
      "                         'Inductor).',\n",
      "              '__init__': <function RLCircuit.__init__ at 0x000001D7A35BB5E0>,\n",
      "              '__module__': '__main__',\n",
      "              '__repr__': <function RLCircuit.__repr__ at 0x000001D7A3508C10>,\n",
      "              '__str__': <function RLCircuit.__str__ at 0x000001D7A35080D0>,\n",
      "              '__weakref__': <attribute '__weakref__' of 'RLCircuit' objects>,\n",
      "              'impedance': <function RLCircuit.impedance at 0x000001D7A35BBDC0>})\n"
     ]
    }
   ],
   "source": [
    "pprint(vars(RLCircuit))"
   ]
  },
  {
   "cell_type": "code",
   "execution_count": 301,
   "id": "9b17b75a-ac9f-427c-b73c-0a2d35a8172c",
   "metadata": {},
   "outputs": [
    {
     "name": "stdout",
     "output_type": "stream",
     "text": [
      "{'resistance': 10, 'inductance': 0.1}\n",
      "{'resistance': 30, 'inductance': 0.001}\n"
     ]
    }
   ],
   "source": [
    "print(RL_1.__dict__)\n",
    "print(RL_2.__dict__)"
   ]
  },
  {
   "cell_type": "code",
   "execution_count": 302,
   "id": "28fe8c03-6682-43fe-96de-c78e299a24c0",
   "metadata": {},
   "outputs": [
    {
     "name": "stdout",
     "output_type": "stream",
     "text": [
      "Help on class RL_Circuit in module __main__:\n",
      "\n",
      "class RL_Circuit(builtins.object)\n",
      " |  RL_Circuit(resistance: float = 1.0, inductance: float = 1.0) -> None\n",
      " |  \n",
      " |  A class to represent an RL circuit (Resistor and Inductor).\n",
      " |  \n",
      " |  Methods defined here:\n",
      " |  \n",
      " |  __init__(self, resistance: float = 1.0, inductance: float = 1.0) -> None\n",
      " |      Initialize the RL circuit with resistance and inductance.\n",
      " |      \n",
      " |      Args:\n",
      " |          resistance (float): Resistance in ohms. Defaults to 1.0.\n",
      " |          inductance (float): Inductance in henries. Defaults to 1.0.\n",
      " |  \n",
      " |  __repr__(self) -> str\n",
      " |      Return a string representation of the RL Circuit.\n",
      " |  \n",
      " |  __str__(self) -> str\n",
      " |      Return a user-friendly string representation of the RL Circuit.\n",
      " |  \n",
      " |  impedance(self) -> float\n",
      " |      Calculate the impedance of the RL circuit.\n",
      " |      \n",
      " |      Args:\n",
      " |          frequency (float): Frequency in hertz.\n",
      " |      \n",
      " |      Returns:\n",
      " |          float: Impedance in ohms.\n",
      " |  \n",
      " |  reactance(self, frequency: float) -> float\n",
      " |      Calculate the reactance of the inductor\n",
      " |  \n",
      " |  ----------------------------------------------------------------------\n",
      " |  Data descriptors defined here:\n",
      " |  \n",
      " |  __dict__\n",
      " |      dictionary for instance variables (if defined)\n",
      " |  \n",
      " |  __weakref__\n",
      " |      list of weak references to the object (if defined)\n",
      "\n"
     ]
    }
   ],
   "source": [
    "help(RL_Circuit)"
   ]
  },
  {
   "cell_type": "code",
   "execution_count": 305,
   "id": "30730207-5669-431b-a068-dc71abcbb230",
   "metadata": {},
   "outputs": [
    {
     "name": "stdout",
     "output_type": "stream",
     "text": [
      "A class to represent an RL circuit (Resistor and Inductor).\n",
      "{'resistance': <class 'float'>, 'inductance': <class 'float'>, 'return': None}\n",
      "\n",
      "Calculate the reactance of the inductor\n",
      "{'frequency': <class 'float'>, 'return': <class 'float'>}\n",
      "\n",
      "Calculate the impedance of the RL circuit.\n",
      "        \n",
      "        Args:\n",
      "            frequency (float): Frequency in hertz.\n",
      "        \n",
      "        Returns:\n",
      "            float: Impedance in ohms.\n",
      "        \n",
      "{'return': <class 'float'>}\n",
      "\n",
      "{'return': <class 'str'>}\n",
      "Return a string representation of the RL Circuit.\n",
      "\n",
      "{'return': <class 'str'>}\n",
      "Return a user-friendly string representation of the RL Circuit.\n"
     ]
    }
   ],
   "source": [
    "print(RL_Circuit.__doc__)\n",
    "print(RL_Circuit.__init__.__annotations__)\n",
    "print()\n",
    "print(RL_Circuit.reactance.__doc__)\n",
    "print(RL_Circuit.reactance.__annotations__)\n",
    "print()\n",
    "print(RL_Circuit.impedance.__doc__)\n",
    "print(RL_Circuit.impedance.__annotations__)\n",
    "print()\n",
    "print(RL_Circuit.__repr__.__annotations__)\n",
    "print(RL_Circuit.__repr__.__doc__)\n",
    "print()\n",
    "print(RL_Circuit.__str__.__annotations__)\n",
    "print(RL_Circuit.__str__.__doc__)"
   ]
  },
  {
   "cell_type": "code",
   "execution_count": 24,
   "id": "7c423187-ff8d-4b75-b322-8bacf2c27f5f",
   "metadata": {},
   "outputs": [],
   "source": [
    "RL_3 = RL_Circuit()"
   ]
  },
  {
   "cell_type": "code",
   "execution_count": 25,
   "id": "ae6f8d5c-6e2b-4613-b40a-f280268790de",
   "metadata": {},
   "outputs": [
    {
     "name": "stdout",
     "output_type": "stream",
     "text": [
      "RL Circuit with 1.0 ohm, inductance: 1.0 H\n"
     ]
    },
    {
     "data": {
      "text/plain": [
       "RLCircuit(resistor=1.0, inductance=1.0)"
      ]
     },
     "execution_count": 25,
     "metadata": {},
     "output_type": "execute_result"
    }
   ],
   "source": [
    "print(RL_3)\n",
    "RL_3"
   ]
  },
  {
   "cell_type": "markdown",
   "id": "eff88589-def3-4703-a5be-35777f75c8f0",
   "metadata": {},
   "source": [
    "## 3. RC Circuit"
   ]
  },
  {
   "cell_type": "code",
   "execution_count": 3,
   "id": "6eedec8c-e1a2-46da-9a62-39081e8e62c8",
   "metadata": {},
   "outputs": [],
   "source": [
    "class RC_Circuit:\n",
    "    \"\"\"A class to represent an RC circuit (Resistor and Capacitor).\"\"\"\n",
    "    \n",
    "    def __init__(self, resistance: float = 1.0, capacitance: float = 1.0) -> None:\n",
    "        \"\"\"Initialize the RC circuit with resistance and capacitance.\n",
    "        \n",
    "        Args:\n",
    "            resistance (float): Resistance in ohms. Defaults to 1.0.\n",
    "            capacitance (float): Capacitance in farads. Defaults to 1.0.\n",
    "        \"\"\"\n",
    "        self.resistance = resistance\n",
    "        self.capacitance = capacitance\n",
    "    def  reactance(self,frequency: float) -> float:\n",
    "        return 1 / (2 * math.pi * frequency * self.capacitance)\n",
    "    def impedance(self) -> float:\n",
    "        \"\"\"Calculate the impedance of the RC circuit.\n",
    "        \n",
    "        Args:\n",
    "            frequency (float): Frequency in hertz.\n",
    "        \n",
    "        Returns:\n",
    "            float: Impedance in ohms.\n",
    "        \"\"\"\n",
    "        return math.sqrt(self.resistance**2 + (self.reactance)**2)\n",
    "\n",
    "    def __repr__(self) -> str:\n",
    "        \"\"\"Return a string representation of the RC Circuit.\"\"\"\n",
    "\n",
    "        return f\"RCCircuit(resistor={self.resistance}, capacitance={self.capacitance})\"\n",
    "\n",
    "    def __str__(self) -> str:\n",
    "        \"\"\"Return a user-friendly string representation of the RC Circuit.\"\"\"\n",
    "\n",
    "        return (f\"RC Circuit with {self.resistance} ohm, capacitance: {self.capacitance} F\")\n"
   ]
  },
  {
   "cell_type": "code",
   "execution_count": 4,
   "id": "62e11ac8-4924-4bed-b980-35c0df6c87a4",
   "metadata": {},
   "outputs": [],
   "source": [
    "RC_1 = RC_Circuit(10, 0.001)\n",
    "RC_2 = RC_Circuit(15,0.000001)"
   ]
  },
  {
   "cell_type": "code",
   "execution_count": 6,
   "id": "12aab23c-0bab-44d4-ba3d-6f9b2f3b1b43",
   "metadata": {},
   "outputs": [
    {
     "name": "stdout",
     "output_type": "stream",
     "text": [
      "RC Circuit with 10 ohm, capacitance: 0.001 F\n",
      "RC Circuit with 15 ohm, capacitance: 1e-06 F\n"
     ]
    }
   ],
   "source": [
    "print(RC_1)\n",
    "print(RC_2)"
   ]
  },
  {
   "cell_type": "code",
   "execution_count": 7,
   "id": "18e350ef-ab1a-48b2-a837-ff718adb01f7",
   "metadata": {},
   "outputs": [
    {
     "data": {
      "text/plain": [
       "RCCircuit(resistor=10, capacitance=0.001)"
      ]
     },
     "execution_count": 7,
     "metadata": {},
     "output_type": "execute_result"
    }
   ],
   "source": [
    "RC_1"
   ]
  },
  {
   "cell_type": "code",
   "execution_count": 8,
   "id": "0c50b0e2-6723-46c7-a281-114037c50444",
   "metadata": {},
   "outputs": [
    {
     "data": {
      "text/plain": [
       "RCCircuit(resistor=15, capacitance=1e-06)"
      ]
     },
     "execution_count": 8,
     "metadata": {},
     "output_type": "execute_result"
    }
   ],
   "source": [
    "RC_2"
   ]
  },
  {
   "cell_type": "code",
   "execution_count": 14,
   "id": "a0ed7eb2-0d27-427c-a550-c0edf3c1e417",
   "metadata": {},
   "outputs": [
    {
     "name": "stdout",
     "output_type": "stream",
     "text": [
      "mappingproxy({'__dict__': <attribute '__dict__' of 'RC_Circuit' objects>,\n",
      "              '__doc__': 'A class to represent an RC circuit (Resistor and '\n",
      "                         'Capacitor).',\n",
      "              '__init__': <function RC_Circuit.__init__ at 0x0000020042569EE0>,\n",
      "              '__module__': '__main__',\n",
      "              '__repr__': <function RC_Circuit.__repr__ at 0x0000020044161430>,\n",
      "              '__str__': <function RC_Circuit.__str__ at 0x00000200441615E0>,\n",
      "              '__weakref__': <attribute '__weakref__' of 'RC_Circuit' objects>,\n",
      "              'impedance': <function RC_Circuit.impedance at 0x0000020044161310>,\n",
      "              'reactance': <function RC_Circuit.reactance at 0x00000200425691F0>})\n"
     ]
    }
   ],
   "source": [
    "pprint(RC_Circuit.__dict__)"
   ]
  },
  {
   "cell_type": "code",
   "execution_count": 15,
   "id": "caf5aaeb-dc89-49e1-87cd-2a8a00cc3a98",
   "metadata": {},
   "outputs": [
    {
     "name": "stdout",
     "output_type": "stream",
     "text": [
      "mappingproxy({'__dict__': <attribute '__dict__' of 'RC_Circuit' objects>,\n",
      "              '__doc__': 'A class to represent an RC circuit (Resistor and '\n",
      "                         'Capacitor).',\n",
      "              '__init__': <function RC_Circuit.__init__ at 0x0000020042569EE0>,\n",
      "              '__module__': '__main__',\n",
      "              '__repr__': <function RC_Circuit.__repr__ at 0x0000020044161430>,\n",
      "              '__str__': <function RC_Circuit.__str__ at 0x00000200441615E0>,\n",
      "              '__weakref__': <attribute '__weakref__' of 'RC_Circuit' objects>,\n",
      "              'impedance': <function RC_Circuit.impedance at 0x0000020044161310>,\n",
      "              'reactance': <function RC_Circuit.reactance at 0x00000200425691F0>})\n"
     ]
    }
   ],
   "source": [
    "pprint(vars(RC_Circuit))"
   ]
  },
  {
   "cell_type": "code",
   "execution_count": 16,
   "id": "2440e932-43ec-4044-9d5e-88a282586a56",
   "metadata": {},
   "outputs": [
    {
     "name": "stdout",
     "output_type": "stream",
     "text": [
      "{'resistance': 10, 'capacitance': 0.001}\n",
      "{'resistance': 15, 'capacitance': 1e-06}\n"
     ]
    }
   ],
   "source": [
    "print(RC_1.__dict__)\n",
    "print(RC_2.__dict__)"
   ]
  },
  {
   "cell_type": "code",
   "execution_count": 17,
   "id": "52223b3a-4367-4c3c-bfa7-4852001d75fa",
   "metadata": {},
   "outputs": [
    {
     "name": "stdout",
     "output_type": "stream",
     "text": [
      "Help on class RC_Circuit in module __main__:\n",
      "\n",
      "class RC_Circuit(builtins.object)\n",
      " |  RC_Circuit(resistance: float = 1.0, capacitance: float = 1.0) -> None\n",
      " |  \n",
      " |  A class to represent an RC circuit (Resistor and Capacitor).\n",
      " |  \n",
      " |  Methods defined here:\n",
      " |  \n",
      " |  __init__(self, resistance: float = 1.0, capacitance: float = 1.0) -> None\n",
      " |      Initialize the RC circuit with resistance and capacitance.\n",
      " |      \n",
      " |      Args:\n",
      " |          resistance (float): Resistance in ohms. Defaults to 1.0.\n",
      " |          capacitance (float): Capacitance in farads. Defaults to 1.0.\n",
      " |  \n",
      " |  __repr__(self) -> str\n",
      " |      Return a string representation of the RC Circuit.\n",
      " |  \n",
      " |  __str__(self) -> str\n",
      " |      Return a user-friendly string representation of the RC Circuit.\n",
      " |  \n",
      " |  impedance(self) -> float\n",
      " |      Calculate the impedance of the RC circuit.\n",
      " |      \n",
      " |      Args:\n",
      " |          frequency (float): Frequency in hertz.\n",
      " |      \n",
      " |      Returns:\n",
      " |          float: Impedance in ohms.\n",
      " |  \n",
      " |  reactance(self, frequency: float) -> float\n",
      " |  \n",
      " |  ----------------------------------------------------------------------\n",
      " |  Data descriptors defined here:\n",
      " |  \n",
      " |  __dict__\n",
      " |      dictionary for instance variables (if defined)\n",
      " |  \n",
      " |  __weakref__\n",
      " |      list of weak references to the object (if defined)\n",
      "\n"
     ]
    }
   ],
   "source": [
    "help(RC_Circuit)"
   ]
  },
  {
   "cell_type": "code",
   "execution_count": 18,
   "id": "d3086d9e-dd26-4911-a600-7bafae15cccb",
   "metadata": {},
   "outputs": [
    {
     "name": "stdout",
     "output_type": "stream",
     "text": [
      "A class to represent an RC circuit (Resistor and Capacitor).\n",
      "{'resistance': <class 'float'>, 'capacitance': <class 'float'>, 'return': None}\n",
      "\n",
      "None\n",
      "{'frequency': <class 'float'>, 'return': <class 'float'>}\n",
      "\n",
      "Calculate the impedance of the RC circuit.\n",
      "        \n",
      "        Args:\n",
      "            frequency (float): Frequency in hertz.\n",
      "        \n",
      "        Returns:\n",
      "            float: Impedance in ohms.\n",
      "        \n",
      "{'return': <class 'float'>}\n",
      "\n",
      "{'return': <class 'str'>}\n",
      "Return a string representation of the RC Circuit.\n",
      "\n",
      "{'return': <class 'str'>}\n",
      "Return a user-friendly string representation of the RC Circuit.\n"
     ]
    }
   ],
   "source": [
    "print(RC_Circuit.__doc__)\n",
    "print(RC_Circuit.__init__.__annotations__)\n",
    "print()\n",
    "print(RC_Circuit.reactance.__doc__)\n",
    "print(RC_Circuit.reactance.__annotations__)\n",
    "print()\n",
    "print(RC_Circuit.impedance.__doc__)\n",
    "print(RC_Circuit.impedance.__annotations__)\n",
    "print()\n",
    "print(RC_Circuit.__repr__.__annotations__)\n",
    "print(RC_Circuit.__repr__.__doc__)\n",
    "print()\n",
    "print(RC_Circuit.__str__.__annotations__)\n",
    "print(RC_Circuit.__str__.__doc__)"
   ]
  },
  {
   "cell_type": "code",
   "execution_count": 19,
   "id": "3e639c88-3c9f-4941-aa0f-49d8a3542152",
   "metadata": {},
   "outputs": [],
   "source": [
    "RC_3 = RC_Circuit()"
   ]
  },
  {
   "cell_type": "code",
   "execution_count": 20,
   "id": "a0912bcb-2d39-4201-b1b3-a73bf487a8b0",
   "metadata": {},
   "outputs": [
    {
     "name": "stdout",
     "output_type": "stream",
     "text": [
      "RC Circuit with 1.0 ohm, capacitance: 1.0 F\n"
     ]
    },
    {
     "data": {
      "text/plain": [
       "RCCircuit(resistor=1.0, capacitance=1.0)"
      ]
     },
     "execution_count": 20,
     "metadata": {},
     "output_type": "execute_result"
    }
   ],
   "source": [
    "print(RC_3)\n",
    "RC_3"
   ]
  },
  {
   "cell_type": "markdown",
   "id": "11f6419a-6590-4e5c-8ab4-fcfc80447697",
   "metadata": {},
   "source": [
    "## 4. RLC Parallel Circuit"
   ]
  },
  {
   "cell_type": "code",
   "execution_count": 172,
   "id": "c63cabb5-82e9-401b-a7e0-e80060adbbeb",
   "metadata": {},
   "outputs": [],
   "source": [
    "class RLC_Circuit_Parallel:\n",
    "    \"\"\"A class to represent an RLC parallel circuit.\"\"\"\n",
    "    \n",
    "    def __init__(self, resistance: float = 1.0, inductance: float = 1.0, capacitance: float = 1.0) -> None:\n",
    "        \"\"\"Initialize the parallel RLC circuit with resistance, inductance, and capacitance.\n",
    "        \n",
    "        Args:\n",
    "            resistance (float): Resistance in ohms. Defaults to 1.0.\n",
    "            inductance (float): Inductance in henries. Defaults to 1.0.\n",
    "            capacitance (float): Capacitance in farads. Defaults to 1.0.\n",
    "        \"\"\"\n",
    "        self.resistance = resistance\n",
    "        self.inductance = inductance\n",
    "        self.capacitance = capacitance\n",
    "    def total_impedance(self, frequency: float) -> float:\n",
    "        \"\"\"Calculate the total impedance of the RLC parallel circuit.\n",
    "        \n",
    "        Args:\n",
    "            frequency (float): Frequency in hertz.\n",
    "        \n",
    "        Returns:\n",
    "            float: Total impedance in ohms.\n",
    "        \"\"\"\n",
    "        z_r = self.resistance\n",
    "        z_l = 2 * math.pi * frequency * self.inductance\n",
    "        z_c = 1 / (2 * math.pi * frequency * self.capacitance)\n",
    "\n",
    "        return 1 / (1/z_r + 1/z_l + 1/z_c)\n",
    "\n",
    "    def __repr__(self) -> str:\n",
    "        \"\"\"Return a string representation of the RLC_Parallel_Circuit.\"\"\"\n",
    "        return f\"RLC Circuit Parallel(resistor={self.resistance}, inductance={self.inductance}, capacitance={self.capacitance})\"\n",
    "\n",
    "    def __str__(self) -> str:\n",
    "        \"\"\"Return a user-friendly string representation of the RLC_Parallel_Circuit.\"\"\"\n",
    "        return (f\"RLC Parallel Circuit with {self.resistance} ohm, inductance: {self.inductance} H, \"\n",
    "                f\"capacitance: {self.capacitance} F\")\n"
   ]
  },
  {
   "cell_type": "code",
   "execution_count": 173,
   "id": "ce8c6864-0f82-4313-acfc-3b1118131394",
   "metadata": {},
   "outputs": [],
   "source": [
    "RLC_parallel_circuit_1 = RLC_Circuit_Parallel(10, 0.1, 0.001)\n",
    "RLC_parallel_circuit_2 = RLC_Circuit_Parallel(15,0.001,0.1)"
   ]
  },
  {
   "cell_type": "code",
   "execution_count": 174,
   "id": "61e85440-f3b1-4c52-9b7d-b937fd7d413d",
   "metadata": {},
   "outputs": [
    {
     "name": "stdout",
     "output_type": "stream",
     "text": [
      "RLC Parallel Circuit with 10 ohm, inductance: 0.1 H, capacitance: 0.001 F\n",
      "RLC Parallel Circuit with 15 ohm, inductance: 0.001 H, capacitance: 0.1 F\n"
     ]
    }
   ],
   "source": [
    "print(RLC_parallel_circuit_1)\n",
    "print(RLC_parallel_circuit_2)"
   ]
  },
  {
   "cell_type": "code",
   "execution_count": 175,
   "id": "ab80c7b7-8cfc-456e-9103-d89994154356",
   "metadata": {},
   "outputs": [
    {
     "data": {
      "text/plain": [
       "RLC Circuit Parallel(resistor=10, inductance=0.1, capacitance=0.001)"
      ]
     },
     "execution_count": 175,
     "metadata": {},
     "output_type": "execute_result"
    }
   ],
   "source": [
    "RLC_parallel_circuit_1"
   ]
  },
  {
   "cell_type": "code",
   "execution_count": 176,
   "id": "cf1c3b2b-d38a-46d9-9837-4d1de0fca5d5",
   "metadata": {},
   "outputs": [
    {
     "data": {
      "text/plain": [
       "RLC Circuit Parallel(resistor=15, inductance=0.001, capacitance=0.1)"
      ]
     },
     "execution_count": 176,
     "metadata": {},
     "output_type": "execute_result"
    }
   ],
   "source": [
    "RLC_parallel_circuit_2"
   ]
  },
  {
   "cell_type": "code",
   "execution_count": 177,
   "id": "2181cea6-74a8-43ea-957f-189942af6fb4",
   "metadata": {},
   "outputs": [
    {
     "name": "stdout",
     "output_type": "stream",
     "text": [
      "mappingproxy({'__dict__': <attribute '__dict__' of 'RLC_Circuit_Parallel' objects>,\n",
      "              '__doc__': 'A class to represent an RLC parallel circuit.',\n",
      "              '__init__': <function RLC_Circuit_Parallel.__init__ at 0x0000020044161B80>,\n",
      "              '__module__': '__main__',\n",
      "              '__repr__': <function RLC_Circuit_Parallel.__repr__ at 0x0000020044161E50>,\n",
      "              '__str__': <function RLC_Circuit_Parallel.__str__ at 0x00000200441613A0>,\n",
      "              '__weakref__': <attribute '__weakref__' of 'RLC_Circuit_Parallel' objects>,\n",
      "              'total_impedance': <function RLC_Circuit_Parallel.total_impedance at 0x00000200441614C0>})\n"
     ]
    }
   ],
   "source": [
    "pprint(RLC_Circuit_Parallel.__dict__)"
   ]
  },
  {
   "cell_type": "code",
   "execution_count": 178,
   "id": "64603b1f-7b55-4d2c-a3bd-f618c40f06d0",
   "metadata": {},
   "outputs": [
    {
     "name": "stdout",
     "output_type": "stream",
     "text": [
      "mappingproxy({'__dict__': <attribute '__dict__' of 'RLC_Circuit_Parallel' objects>,\n",
      "              '__doc__': 'A class to represent an RLC parallel circuit.',\n",
      "              '__init__': <function RLC_Circuit_Parallel.__init__ at 0x0000020044161B80>,\n",
      "              '__module__': '__main__',\n",
      "              '__repr__': <function RLC_Circuit_Parallel.__repr__ at 0x0000020044161E50>,\n",
      "              '__str__': <function RLC_Circuit_Parallel.__str__ at 0x00000200441613A0>,\n",
      "              '__weakref__': <attribute '__weakref__' of 'RLC_Circuit_Parallel' objects>,\n",
      "              'total_impedance': <function RLC_Circuit_Parallel.total_impedance at 0x00000200441614C0>})\n"
     ]
    }
   ],
   "source": [
    "pprint(vars(RLC_Circuit_Parallel))"
   ]
  },
  {
   "cell_type": "code",
   "execution_count": 179,
   "id": "ae1950a3-5ebc-43ea-9210-c326f0d4f829",
   "metadata": {},
   "outputs": [
    {
     "name": "stdout",
     "output_type": "stream",
     "text": [
      "{'resistance': 10, 'inductance': 0.1, 'capacitance': 0.001}\n",
      "{'resistance': 15, 'inductance': 0.001, 'capacitance': 0.1}\n"
     ]
    }
   ],
   "source": [
    "print(RLC_parallel_circuit_1.__dict__)\n",
    "print(RLC_parallel_circuit_2.__dict__)"
   ]
  },
  {
   "cell_type": "code",
   "execution_count": 180,
   "id": "70eb8f21-f51a-4ff7-bf75-d88162129dc7",
   "metadata": {},
   "outputs": [
    {
     "name": "stdout",
     "output_type": "stream",
     "text": [
      "Help on class RLC_Circuit_Parallel in module __main__:\n",
      "\n",
      "class RLC_Circuit_Parallel(builtins.object)\n",
      " |  RLC_Circuit_Parallel(resistance: float = 1.0, inductance: float = 1.0, capacitance: float = 1.0) -> None\n",
      " |  \n",
      " |  A class to represent an RLC parallel circuit.\n",
      " |  \n",
      " |  Methods defined here:\n",
      " |  \n",
      " |  __init__(self, resistance: float = 1.0, inductance: float = 1.0, capacitance: float = 1.0) -> None\n",
      " |      Initialize the parallel RLC circuit with resistance, inductance, and capacitance.\n",
      " |      \n",
      " |      Args:\n",
      " |          resistance (float): Resistance in ohms. Defaults to 1.0.\n",
      " |          inductance (float): Inductance in henries. Defaults to 1.0.\n",
      " |          capacitance (float): Capacitance in farads. Defaults to 1.0.\n",
      " |  \n",
      " |  __repr__(self) -> str\n",
      " |      Return a string representation of the RLC_Parallel_Circuit.\n",
      " |  \n",
      " |  __str__(self) -> str\n",
      " |      Return a user-friendly string representation of the RLC_Parallel_Circuit.\n",
      " |  \n",
      " |  total_impedance(self, frequency: float) -> float\n",
      " |      Calculate the total impedance of the RLC parallel circuit.\n",
      " |      \n",
      " |      Args:\n",
      " |          frequency (float): Frequency in hertz.\n",
      " |      \n",
      " |      Returns:\n",
      " |          float: Total impedance in ohms.\n",
      " |  \n",
      " |  ----------------------------------------------------------------------\n",
      " |  Data descriptors defined here:\n",
      " |  \n",
      " |  __dict__\n",
      " |      dictionary for instance variables (if defined)\n",
      " |  \n",
      " |  __weakref__\n",
      " |      list of weak references to the object (if defined)\n",
      "\n"
     ]
    }
   ],
   "source": [
    "help(RLC_Circuit_Parallel)"
   ]
  },
  {
   "cell_type": "code",
   "execution_count": 181,
   "id": "62b21aac-0d84-4375-a0b2-53b5318e6fa6",
   "metadata": {},
   "outputs": [
    {
     "name": "stdout",
     "output_type": "stream",
     "text": [
      "A class to represent an RLC parallel circuit.\n",
      "{'resistance': <class 'float'>, 'inductance': <class 'float'>, 'capacitance': <class 'float'>, 'return': None}\n",
      "\n",
      "Calculate the total impedance of the RLC parallel circuit.\n",
      "        \n",
      "        Args:\n",
      "            frequency (float): Frequency in hertz.\n",
      "        \n",
      "        Returns:\n",
      "            float: Total impedance in ohms.\n",
      "        \n",
      "{'frequency': <class 'float'>, 'return': <class 'float'>}\n",
      "\n",
      "{'return': <class 'str'>}\n",
      "Return a string representation of the RLC_Parallel_Circuit.\n",
      "\n",
      "{'return': <class 'str'>}\n",
      "Return a user-friendly string representation of the RLC_Parallel_Circuit.\n"
     ]
    }
   ],
   "source": [
    "print(RLC_Circuit_Parallel.__doc__)\n",
    "print(RLC_Circuit_Parallel.__init__.__annotations__)\n",
    "print()\n",
    "print(RLC_Circuit_Parallel.total_impedance.__doc__)\n",
    "print(RLC_Circuit_Parallel.total_impedance.__annotations__)\n",
    "print()\n",
    "print(RLC_Circuit_Parallel.__repr__.__annotations__)\n",
    "print(RLC_Circuit_Parallel.__repr__.__doc__)\n",
    "print()\n",
    "print(RLC_Circuit_Parallel.__str__.__annotations__)\n",
    "print(RLC_Circuit_Parallel.__str__.__doc__)"
   ]
  },
  {
   "cell_type": "code",
   "execution_count": 162,
   "id": "b6293b48-e943-42b7-931b-d5093afa991a",
   "metadata": {},
   "outputs": [],
   "source": [
    "RLC_parallel_circuit_3 = RLC_Circuit_Parallel()"
   ]
  },
  {
   "cell_type": "code",
   "execution_count": 163,
   "id": "5f1a96f9-50cb-48ee-8781-765dfb1a2b8c",
   "metadata": {},
   "outputs": [
    {
     "name": "stdout",
     "output_type": "stream",
     "text": [
      "RLC Parallel Circuit with 1.0 ohm, inductance: 1.0 H, capacitance: 1.0 F\n"
     ]
    },
    {
     "data": {
      "text/plain": [
       "RLC Circuit Parallel(resistor=1.0, inductance=1.0, capacitance=1.0)"
      ]
     },
     "execution_count": 163,
     "metadata": {},
     "output_type": "execute_result"
    }
   ],
   "source": [
    "print(RLC_parallel_circuit_3)\n",
    "RLC_parallel_circuit_3"
   ]
  },
  {
   "cell_type": "markdown",
   "id": "6b9a1b7a-00c7-4477-ab9e-93dba2b39dbb",
   "metadata": {},
   "source": [
    "## 5. RLC Series Resonance Circuit"
   ]
  },
  {
   "cell_type": "code",
   "execution_count": 183,
   "id": "50cf000f-9e11-49a1-ab93-fe6dc6c57d1c",
   "metadata": {},
   "outputs": [],
   "source": [
    "class RLC_Series_Resonance_Circuit:\n",
    "    \"\"\"A class to represent an RLC series circuit with resonance.\"\"\"\n",
    "    \n",
    "    def __init__(self, resistance: float = 1.0, inductance: float = 1.0, capacitance: float = 1.0) -> None:\n",
    "        \"\"\"Initialize the series RLC circuit with resistance, inductance, and capacitance.\n",
    "        \n",
    "        Args:\n",
    "            resistance (float): Resistance in ohms. Defaults to 1.0.\n",
    "            inductance (float): Inductance in henries. Defaults to 1.0.\n",
    "            capacitance (float): Capacitance in farads. Defaults to 1.0.\n",
    "        \"\"\"\n",
    "        self.resistance = resistance\n",
    "        self.inductance = inductance\n",
    "        self.capacitance = capacitance\n",
    "\n",
    "    def resonance_frequency(self) -> float:\n",
    "        \"\"\"Calculate the resonance frequency of the RLC circuit.\n",
    "        \n",
    "        Returns:\n",
    "            float: Resonance frequency in hertz.\n",
    "        \"\"\"\n",
    "        return 1 / (2 * math.pi * (math.sqrt(self.inductance * self.capacitance)))\n",
    "\n",
    "    def impedance(self, frequency: float) -> float:\n",
    "        \"\"\"Calculate the impedance of the RLC series circuit.\n",
    "        \n",
    "        Args:\n",
    "            frequency (float): Frequency in hertz.\n",
    "        \n",
    "        Returns:\n",
    "            float: Impedance in ohms.\n",
    "        \"\"\"\n",
    "        z_l = 2 * math.pi * frequency * self.inductance\n",
    "        z_c = 1 / (2 * math.pi * frequency * self.capacitance)\n",
    "\n",
    "        return math.sqrt(self.resistance**2 + (z_l - z_c)**2)\n",
    "\n",
    "    def __repr__(self) -> str:        \n",
    "        \"\"\"Return a string representation of the RLC_Series_Resonance_Circuit.\"\"\"\n",
    "        return f\"RLCSeriesCircuit(resistor={self.resistance}, inductance={self.inductance}, capacitance={self.capacitance})\"\n",
    "\n",
    "    def __str__(self) -> str:\n",
    "        \"\"\"Return a user-friendly string representation of the RLC_Series_Resonance_Circuit.\"\"\"\n",
    "        return (f\"RLC Series Circuit with {self.resistance} ohm, inductance: {self.inductance} H, \"\n",
    "                f\"capacitance: {self.capacitance} F, resonance frequency: {self.resonance_frequency()} Hz\")\n"
   ]
  },
  {
   "cell_type": "code",
   "execution_count": 185,
   "id": "ece4bf37-d88f-4a13-bda4-1b96c6bc63b5",
   "metadata": {},
   "outputs": [],
   "source": [
    "RLC_Series_Resonance_Circuit_1 = RLC_Series_Resonance_Circuit(10, 0.1, 0.001)\n",
    "RLC_Series_Resonance_Circuit_2 = RLC_Series_Resonance_Circuit(15, 0.001, 0.1)"
   ]
  },
  {
   "cell_type": "code",
   "execution_count": 186,
   "id": "2950035b-7300-4a23-9c18-d6ff57fda96f",
   "metadata": {},
   "outputs": [
    {
     "name": "stdout",
     "output_type": "stream",
     "text": [
      "RLC Series Circuit with 10 ohm, inductance: 0.1 H, capacitance: 0.001 F, resonance frequency: 15.915494309189533 Hz\n",
      "RLC Series Circuit with 15 ohm, inductance: 0.001 H, capacitance: 0.1 F, resonance frequency: 15.915494309189533 Hz\n"
     ]
    }
   ],
   "source": [
    "print(RLC_Series_Resonance_Circuit_1)\n",
    "print(RLC_Series_Resonance_Circuit_2)"
   ]
  },
  {
   "cell_type": "code",
   "execution_count": 187,
   "id": "f9666929-9240-443c-ae84-c60fe5e1fd9e",
   "metadata": {},
   "outputs": [
    {
     "data": {
      "text/plain": [
       "RLCSeriesCircuit(resistor=10, inductance=0.1, capacitance=0.001)"
      ]
     },
     "execution_count": 187,
     "metadata": {},
     "output_type": "execute_result"
    }
   ],
   "source": [
    "RLC_Series_Resonance_Circuit_1"
   ]
  },
  {
   "cell_type": "code",
   "execution_count": 188,
   "id": "55d154f5-d530-49ae-8f23-3db96499b10e",
   "metadata": {},
   "outputs": [
    {
     "data": {
      "text/plain": [
       "RLCSeriesCircuit(resistor=15, inductance=0.001, capacitance=0.1)"
      ]
     },
     "execution_count": 188,
     "metadata": {},
     "output_type": "execute_result"
    }
   ],
   "source": [
    "RLC_Series_Resonance_Circuit_2"
   ]
  },
  {
   "cell_type": "code",
   "execution_count": 189,
   "id": "8a4dd2fe-9ea0-4102-8993-942288b0faba",
   "metadata": {},
   "outputs": [
    {
     "name": "stdout",
     "output_type": "stream",
     "text": [
      "mappingproxy({'__dict__': <attribute '__dict__' of 'RLC_Series_Resonance_Circuit' objects>,\n",
      "              '__doc__': 'A class to represent an RLC series circuit with '\n",
      "                         'resonance.',\n",
      "              '__init__': <function RLC_Series_Resonance_Circuit.__init__ at 0x0000020044261280>,\n",
      "              '__module__': '__main__',\n",
      "              '__repr__': <function RLC_Series_Resonance_Circuit.__repr__ at 0x0000020044352EE0>,\n",
      "              '__str__': <function RLC_Series_Resonance_Circuit.__str__ at 0x0000020044352D30>,\n",
      "              '__weakref__': <attribute '__weakref__' of 'RLC_Series_Resonance_Circuit' objects>,\n",
      "              'impedance': <function RLC_Series_Resonance_Circuit.impedance at 0x0000020044261670>,\n",
      "              'resonance_frequency': <function RLC_Series_Resonance_Circuit.resonance_frequency at 0x00000200442614C0>})\n"
     ]
    }
   ],
   "source": [
    "pprint(RLC_Series_Resonance_Circuit.__dict__)"
   ]
  },
  {
   "cell_type": "code",
   "execution_count": 190,
   "id": "29409c05-f964-4f3d-a280-67fa3929c2a4",
   "metadata": {},
   "outputs": [
    {
     "name": "stdout",
     "output_type": "stream",
     "text": [
      "mappingproxy({'__dict__': <attribute '__dict__' of 'RLC_Series_Resonance_Circuit' objects>,\n",
      "              '__doc__': 'A class to represent an RLC series circuit with '\n",
      "                         'resonance.',\n",
      "              '__init__': <function RLC_Series_Resonance_Circuit.__init__ at 0x0000020044261280>,\n",
      "              '__module__': '__main__',\n",
      "              '__repr__': <function RLC_Series_Resonance_Circuit.__repr__ at 0x0000020044352EE0>,\n",
      "              '__str__': <function RLC_Series_Resonance_Circuit.__str__ at 0x0000020044352D30>,\n",
      "              '__weakref__': <attribute '__weakref__' of 'RLC_Series_Resonance_Circuit' objects>,\n",
      "              'impedance': <function RLC_Series_Resonance_Circuit.impedance at 0x0000020044261670>,\n",
      "              'resonance_frequency': <function RLC_Series_Resonance_Circuit.resonance_frequency at 0x00000200442614C0>})\n"
     ]
    }
   ],
   "source": [
    "pprint(vars(RLC_Series_Resonance_Circuit))"
   ]
  },
  {
   "cell_type": "code",
   "execution_count": 191,
   "id": "1a716f8b-fdf8-4e3f-9a96-cf75188438d3",
   "metadata": {},
   "outputs": [
    {
     "name": "stdout",
     "output_type": "stream",
     "text": [
      "RLC Series Circuit with 10 ohm, inductance: 0.1 H, capacitance: 0.001 F, resonance frequency: 15.915494309189533 Hz\n",
      "RLC Series Circuit with 15 ohm, inductance: 0.001 H, capacitance: 0.1 F, resonance frequency: 15.915494309189533 Hz\n"
     ]
    }
   ],
   "source": [
    "print(RLC_Series_Resonance_Circuit_1)\n",
    "print(RLC_Series_Resonance_Circuit_2)"
   ]
  },
  {
   "cell_type": "code",
   "execution_count": 192,
   "id": "ba662953-b73f-4b06-a6e2-ef63037a64b3",
   "metadata": {},
   "outputs": [
    {
     "name": "stdout",
     "output_type": "stream",
     "text": [
      "Help on class RLC_Series_Resonance_Circuit in module __main__:\n",
      "\n",
      "class RLC_Series_Resonance_Circuit(builtins.object)\n",
      " |  RLC_Series_Resonance_Circuit(resistance: float = 1.0, inductance: float = 1.0, capacitance: float = 1.0) -> None\n",
      " |  \n",
      " |  A class to represent an RLC series circuit with resonance.\n",
      " |  \n",
      " |  Methods defined here:\n",
      " |  \n",
      " |  __init__(self, resistance: float = 1.0, inductance: float = 1.0, capacitance: float = 1.0) -> None\n",
      " |      Initialize the series RLC circuit with resistance, inductance, and capacitance.\n",
      " |      \n",
      " |      Args:\n",
      " |          resistance (float): Resistance in ohms. Defaults to 1.0.\n",
      " |          inductance (float): Inductance in henries. Defaults to 1.0.\n",
      " |          capacitance (float): Capacitance in farads. Defaults to 1.0.\n",
      " |  \n",
      " |  __repr__(self) -> str\n",
      " |      Return a string representation of the RLC_Series_Resonance_Circuit.\n",
      " |  \n",
      " |  __str__(self) -> str\n",
      " |      Return a user-friendly string representation of the RLC_Series_Resonance_Circuit.\n",
      " |  \n",
      " |  impedance(self, frequency: float) -> float\n",
      " |      Calculate the impedance of the RLC series circuit.\n",
      " |      \n",
      " |      Args:\n",
      " |          frequency (float): Frequency in hertz.\n",
      " |      \n",
      " |      Returns:\n",
      " |          float: Impedance in ohms.\n",
      " |  \n",
      " |  resonance_frequency(self) -> float\n",
      " |      Calculate the resonance frequency of the RLC circuit.\n",
      " |      \n",
      " |      Returns:\n",
      " |          float: Resonance frequency in hertz.\n",
      " |  \n",
      " |  ----------------------------------------------------------------------\n",
      " |  Data descriptors defined here:\n",
      " |  \n",
      " |  __dict__\n",
      " |      dictionary for instance variables (if defined)\n",
      " |  \n",
      " |  __weakref__\n",
      " |      list of weak references to the object (if defined)\n",
      "\n"
     ]
    }
   ],
   "source": [
    "help(RLC_Series_Resonance_Circuit)"
   ]
  },
  {
   "cell_type": "code",
   "execution_count": 194,
   "id": "84b7ae5c-8aea-4025-b7ef-bdd265bd52fb",
   "metadata": {},
   "outputs": [
    {
     "name": "stdout",
     "output_type": "stream",
     "text": [
      "A class to represent an RLC series circuit with resonance.\n",
      "{'resistance': <class 'float'>, 'inductance': <class 'float'>, 'capacitance': <class 'float'>, 'return': None}\n",
      "\n",
      "Calculate the resonance frequency of the RLC circuit.\n",
      "        \n",
      "        Returns:\n",
      "            float: Resonance frequency in hertz.\n",
      "        \n",
      "{'return': <class 'float'>}\n",
      "\n",
      "Calculate the impedance of the RLC series circuit.\n",
      "        \n",
      "        Args:\n",
      "            frequency (float): Frequency in hertz.\n",
      "        \n",
      "        Returns:\n",
      "            float: Impedance in ohms.\n",
      "        \n",
      "{'frequency': <class 'float'>, 'return': <class 'float'>}\n",
      "\n",
      "{'return': <class 'str'>}\n",
      "Return a string representation of the RLC_Series_Resonance_Circuit.\n",
      "\n",
      "{'return': <class 'str'>}\n",
      "Return a user-friendly string representation of the RLC_Series_Resonance_Circuit.\n"
     ]
    }
   ],
   "source": [
    "print(RLC_Series_Resonance_Circuit.__doc__)\n",
    "print(RLC_Series_Resonance_Circuit.__init__.__annotations__)\n",
    "print()\n",
    "print(RLC_Series_Resonance_Circuit.resonance_frequency.__doc__)\n",
    "print(RLC_Series_Resonance_Circuit.resonance_frequency.__annotations__)\n",
    "print()\n",
    "print(RLC_Series_Resonance_Circuit.impedance.__doc__)\n",
    "print(RLC_Series_Resonance_Circuit.impedance.__annotations__)\n",
    "print()\n",
    "print(RLC_Series_Resonance_Circuit.__repr__.__annotations__)\n",
    "print(RLC_Series_Resonance_Circuit.__repr__.__doc__)\n",
    "print()\n",
    "print(RLC_Series_Resonance_Circuit.__str__.__annotations__)\n",
    "print(RLC_Series_Resonance_Circuit.__str__.__doc__)"
   ]
  },
  {
   "cell_type": "code",
   "execution_count": 195,
   "id": "54c97f54-60ce-464d-96a3-385e34c3a6c3",
   "metadata": {},
   "outputs": [],
   "source": [
    "RLC_Series_Resonance_Circuit_3 = RLC_Series_Resonance_Circuit()"
   ]
  },
  {
   "cell_type": "code",
   "execution_count": 196,
   "id": "961044d8-1473-4551-a529-09919615f1c1",
   "metadata": {},
   "outputs": [
    {
     "name": "stdout",
     "output_type": "stream",
     "text": [
      "RLC Series Circuit with 10 ohm, inductance: 0.1 H, capacitance: 0.001 F, resonance frequency: 15.915494309189533 Hz\n"
     ]
    },
    {
     "data": {
      "text/plain": [
       "RLCSeriesCircuit(resistor=10, inductance=0.1, capacitance=0.001)"
      ]
     },
     "execution_count": 196,
     "metadata": {},
     "output_type": "execute_result"
    }
   ],
   "source": [
    "print(RLC_Series_Resonance_Circuit_1)\n",
    "RLC_Series_Resonance_Circuit_1"
   ]
  },
  {
   "cell_type": "markdown",
   "id": "5e2b2ae2-c997-4255-a4bc-d915fcb66b94",
   "metadata": {},
   "source": [
    "## 6. RLC Parallel Resonance Circuit"
   ]
  },
  {
   "cell_type": "code",
   "execution_count": 129,
   "id": "924a4c03-2f0c-409e-8faa-79fffdbee89e",
   "metadata": {},
   "outputs": [],
   "source": [
    "class RLC_Parallel_Circuit_Resonance:\n",
    "    \"\"\"A class to represent an RLC parallel circuit with resonance.\"\"\"\n",
    "    \n",
    "    def __init__(self, resistance: float = 1.0, inductance: float = 1.0, capacitance: float = 1.0) -> None:\n",
    "        \"\"\"Initialize the parallel RLC circuit with resistance, inductance, and capacitance.\n",
    "        \n",
    "        Args:\n",
    "            resistance (float): Resistance in ohms. Defaults to 1.0.\n",
    "            inductance (float): Inductance in henries. Defaults to 1.0.\n",
    "            capacitance (float): Capacitance in farads. Defaults to 1.0.\n",
    "        \"\"\"\n",
    "        self.resistor = resistance\n",
    "        self.inductance = inductance\n",
    "        self.capacitance = capacitance\n",
    "\n",
    "    def resonance_frequency(self) -> float:\n",
    "        \"\"\"Calculate the resonance frequency of the RLC parallel circuit.\n",
    "        \n",
    "        Returns:\n",
    "            float: Resonance frequency in hertz.\n",
    "        \"\"\"\n",
    "        return 1 / (2 * math.pi * (math.sqrt(self.inductance * self.capacitance) ))\n",
    "\n",
    "    def total_impedance(self, frequency: float) -> float:\n",
    "        \"\"\"Calculate the total impedance of the RLC parallel circuit.\n",
    "        \n",
    "        Args:\n",
    "            frequency (float): Frequency in hertz.\n",
    "        \n",
    "        Returns:\n",
    "            float: Total impedance in ohms.\n",
    "        \"\"\"\n",
    "        z_r = self.resistor.resistance\n",
    "        z_l = 2 * math.pi * frequency * self.inductance\n",
    "        z_c = 1 / (2 * math.pi * frequency * self.capacitance)\n",
    "\n",
    "        return 1 / (1/z_r + 1/z_l + 1/z_c)\n",
    "\n",
    "    def __repr__(self) -> str:\n",
    "        \"\"\"Return a string representation of the RLC_Parallel_Circuit.\"\"\"\n",
    "\n",
    "        return f\"RLCParallelCircuit(resistor={self.resistor}, inductance={self.inductance}, capacitance={self.capacitance})\"\n",
    "\n",
    "    def __str__(self) -> str:\n",
    "        \"\"\"Return a user-friendly string representation of the RLC_Parallel_Circuit.\"\"\"\n",
    "        return (f\"RLC Parallel Circuit with {self.resistor} ohms, inductance: {self.inductance} H\")\n"
   ]
  },
  {
   "cell_type": "code",
   "execution_count": 130,
   "id": "ce03e42d-eb30-4c03-9363-c5eec07e9d75",
   "metadata": {},
   "outputs": [],
   "source": [
    "RLC_parallel_resonance_1 = RLC_Parallel_Circuit_Resonance(10, 0.1, 0.001)\n",
    "RLC_parallel_resonance_2 = RLC_Parallel_Circuit_Resonance(15,0.001,0.1)"
   ]
  },
  {
   "cell_type": "code",
   "execution_count": 131,
   "id": "e1191448-696c-4ba7-b6fc-6acb541d988c",
   "metadata": {},
   "outputs": [
    {
     "name": "stdout",
     "output_type": "stream",
     "text": [
      "RLC Parallel Circuit with 10 ohms, inductance: 0.1 H\n",
      "RLC Parallel Circuit with 15 ohms, inductance: 0.001 H\n"
     ]
    }
   ],
   "source": [
    "print(RLC_parallel_resonance_1)\n",
    "print(RLC_parallel_resonance_2)"
   ]
  },
  {
   "cell_type": "code",
   "execution_count": 132,
   "id": "dc63d843-a953-4408-a458-e2b8a4f63f37",
   "metadata": {},
   "outputs": [
    {
     "data": {
      "text/plain": [
       "RLCParallelCircuit(resistor=10, inductance=0.1, capacitance=0.001)"
      ]
     },
     "execution_count": 132,
     "metadata": {},
     "output_type": "execute_result"
    }
   ],
   "source": [
    "RLC_parallel_resonance_1"
   ]
  },
  {
   "cell_type": "code",
   "execution_count": 133,
   "id": "828eff60-edd2-4e9f-a1ee-5206c697f5c5",
   "metadata": {},
   "outputs": [
    {
     "data": {
      "text/plain": [
       "RLCParallelCircuit(resistor=15, inductance=0.001, capacitance=0.1)"
      ]
     },
     "execution_count": 133,
     "metadata": {},
     "output_type": "execute_result"
    }
   ],
   "source": [
    "RLC_parallel_resonance_2"
   ]
  },
  {
   "cell_type": "code",
   "execution_count": 134,
   "id": "d1aada1e-5dc7-46e0-9058-6d49632049e3",
   "metadata": {},
   "outputs": [
    {
     "name": "stdout",
     "output_type": "stream",
     "text": [
      "mappingproxy({'__dict__': <attribute '__dict__' of 'RLC_Parallel_Circuit_Resonance' objects>,\n",
      "              '__doc__': 'A class to represent an RLC parallel circuit with '\n",
      "                         'resonance.',\n",
      "              '__init__': <function RLC_Parallel_Circuit_Resonance.__init__ at 0x0000020044377F70>,\n",
      "              '__module__': '__main__',\n",
      "              '__repr__': <function RLC_Parallel_Circuit_Resonance.__repr__ at 0x0000020044377700>,\n",
      "              '__str__': <function RLC_Parallel_Circuit_Resonance.__str__ at 0x000002004438C040>,\n",
      "              '__weakref__': <attribute '__weakref__' of 'RLC_Parallel_Circuit_Resonance' objects>,\n",
      "              'resonance_frequency': <function RLC_Parallel_Circuit_Resonance.resonance_frequency at 0x00000200443779D0>,\n",
      "              'total_impedance': <function RLC_Parallel_Circuit_Resonance.total_impedance at 0x0000020044377C10>})\n"
     ]
    }
   ],
   "source": [
    "pprint(RLC_Parallel_Circuit_Resonance.__dict__)"
   ]
  },
  {
   "cell_type": "code",
   "execution_count": 135,
   "id": "9a1e0de7-c7c5-4168-bc67-3d3b0c15d088",
   "metadata": {},
   "outputs": [
    {
     "name": "stdout",
     "output_type": "stream",
     "text": [
      "mappingproxy({'__dict__': <attribute '__dict__' of 'RLC_Parallel_Circuit_Resonace' objects>,\n",
      "              '__doc__': 'A class to represent an RLC parallel circuit with '\n",
      "                         'resonance.',\n",
      "              '__init__': <function RLC_Parallel_Circuit_Resonace.__init__ at 0x000002004436E550>,\n",
      "              '__module__': '__main__',\n",
      "              '__repr__': <function RLC_Parallel_Circuit_Resonace.__repr__ at 0x000002004436E9D0>,\n",
      "              '__str__': <function RLC_Parallel_Circuit_Resonace.__str__ at 0x00000200443770D0>,\n",
      "              '__weakref__': <attribute '__weakref__' of 'RLC_Parallel_Circuit_Resonace' objects>,\n",
      "              'resonance_frequency': <function RLC_Parallel_Circuit_Resonace.resonance_frequency at 0x000002004436E280>,\n",
      "              'total_impedance': <function RLC_Parallel_Circuit_Resonace.total_impedance at 0x000002004436EEE0>})\n"
     ]
    }
   ],
   "source": [
    "pprint(vars(RLC_Parallel_Circuit_Resonace))"
   ]
  },
  {
   "cell_type": "code",
   "execution_count": 115,
   "id": "4fe62547-e3ff-4454-a2e6-31e63c736a62",
   "metadata": {},
   "outputs": [
    {
     "name": "stdout",
     "output_type": "stream",
     "text": [
      "{'resistor': 10, 'inductance': 0.1, 'capacitance': 0.001}\n",
      "{'resistor': 15, 'inductance': 0.001, 'capacitance': 0.1}\n"
     ]
    }
   ],
   "source": [
    "print(RLC_parallel_resonance_1.__dict__)\n",
    "print(RLC_parallel_resonance_2.__dict__)"
   ]
  },
  {
   "cell_type": "code",
   "execution_count": 136,
   "id": "2136319c-fe43-4dfd-8560-6f2b75e1d308",
   "metadata": {},
   "outputs": [
    {
     "name": "stdout",
     "output_type": "stream",
     "text": [
      "Help on class RLC_Parallel_Circuit_Resonance in module __main__:\n",
      "\n",
      "class RLC_Parallel_Circuit_Resonance(builtins.object)\n",
      " |  RLC_Parallel_Circuit_Resonance(resistance: float = 1.0, inductance: float = 1.0, capacitance: float = 1.0) -> None\n",
      " |  \n",
      " |  A class to represent an RLC parallel circuit with resonance.\n",
      " |  \n",
      " |  Methods defined here:\n",
      " |  \n",
      " |  __init__(self, resistance: float = 1.0, inductance: float = 1.0, capacitance: float = 1.0) -> None\n",
      " |      Initialize the parallel RLC circuit with resistance, inductance, and capacitance.\n",
      " |      \n",
      " |      Args:\n",
      " |          resistance (float): Resistance in ohms. Defaults to 1.0.\n",
      " |          inductance (float): Inductance in henries. Defaults to 1.0.\n",
      " |          capacitance (float): Capacitance in farads. Defaults to 1.0.\n",
      " |  \n",
      " |  __repr__(self) -> str\n",
      " |      Return a string representation of the RLC_Parallel_Circuit.\n",
      " |  \n",
      " |  __str__(self) -> str\n",
      " |      Return a user-friendly string representation of the RLC_Parallel_Circuit.\n",
      " |  \n",
      " |  resonance_frequency(self) -> float\n",
      " |      Calculate the resonance frequency of the RLC parallel circuit.\n",
      " |      \n",
      " |      Returns:\n",
      " |          float: Resonance frequency in hertz.\n",
      " |  \n",
      " |  total_impedance(self, frequency: float) -> float\n",
      " |      Calculate the total impedance of the RLC parallel circuit.\n",
      " |      \n",
      " |      Args:\n",
      " |          frequency (float): Frequency in hertz.\n",
      " |      \n",
      " |      Returns:\n",
      " |          float: Total impedance in ohms.\n",
      " |  \n",
      " |  ----------------------------------------------------------------------\n",
      " |  Data descriptors defined here:\n",
      " |  \n",
      " |  __dict__\n",
      " |      dictionary for instance variables (if defined)\n",
      " |  \n",
      " |  __weakref__\n",
      " |      list of weak references to the object (if defined)\n",
      "\n"
     ]
    }
   ],
   "source": [
    "help(RLC_Parallel_Circuit_Resonance)"
   ]
  },
  {
   "cell_type": "code",
   "execution_count": 137,
   "id": "002ba80e-1da0-4bb4-b569-06564bc0e345",
   "metadata": {},
   "outputs": [
    {
     "name": "stdout",
     "output_type": "stream",
     "text": [
      "A class to represent an RLC parallel circuit with resonance.\n",
      "{'resistance': <class 'float'>, 'inductance': <class 'float'>, 'capacitance': <class 'float'>, 'return': None}\n",
      "\n",
      "Calculate the resonance frequency of the RLC parallel circuit.\n",
      "        \n",
      "        Returns:\n",
      "            float: Resonance frequency in hertz.\n",
      "        \n",
      "{'return': <class 'float'>}\n",
      "\n",
      "Calculate the total impedance of the RLC parallel circuit.\n",
      "        \n",
      "        Args:\n",
      "            frequency (float): Frequency in hertz.\n",
      "        \n",
      "        Returns:\n",
      "            float: Total impedance in ohms.\n",
      "        \n",
      "{'frequency': <class 'float'>, 'return': <class 'float'>}\n",
      "\n",
      "{'return': <class 'str'>}\n",
      "Return a string representation of the RLC_Parallel_Circuit.\n",
      "\n",
      "{'return': <class 'str'>}\n",
      "Return a user-friendly string representation of the RLC_Parallel_Circuit.\n"
     ]
    }
   ],
   "source": [
    "print(RLC_Parallel_Circuit_Resonance.__doc__)\n",
    "print(RLC_Parallel_Circuit_Resonance.__init__.__annotations__)\n",
    "print()\n",
    "print(RLC_Parallel_Circuit_Resonance.resonance_frequency.__doc__)\n",
    "print(RLC_Parallel_Circuit_Resonance.resonance_frequency.__annotations__)\n",
    "print()\n",
    "print(RLC_Parallel_Circuit_Resonance.total_impedance.__doc__)\n",
    "print(RLC_Parallel_Circuit_Resonance.total_impedance.__annotations__)\n",
    "print()\n",
    "print(RLC_Parallel_Circuit_Resonance.__repr__.__annotations__)\n",
    "print(RLC_Parallel_Circuit_Resonance.__repr__.__doc__)\n",
    "print()\n",
    "print(RLC_Parallel_Circuit_Resonance.__str__.__annotations__)\n",
    "print(RLC_Parallel_Circuit_Resonance.__str__.__doc__)"
   ]
  },
  {
   "cell_type": "code",
   "execution_count": 138,
   "id": "35cdbdd8-eeec-4a5f-8110-aaf92cdceec4",
   "metadata": {},
   "outputs": [],
   "source": [
    "RLC_parallel_resonance_3 = RLC_Parallel_Circuit_Resonance()"
   ]
  },
  {
   "cell_type": "code",
   "execution_count": 139,
   "id": "7006e61a-6ddd-45da-a9a7-69ec5b136905",
   "metadata": {},
   "outputs": [
    {
     "name": "stdout",
     "output_type": "stream",
     "text": [
      "RLC Parallel Circuit with 1.0 ohms, inductance: 1.0 H\n"
     ]
    },
    {
     "data": {
      "text/plain": [
       "RLCParallelCircuit(resistor=1.0, inductance=1.0, capacitance=1.0)"
      ]
     },
     "execution_count": 139,
     "metadata": {},
     "output_type": "execute_result"
    }
   ],
   "source": [
    "print(RLC_parallel_resonance_3)\n",
    "RLC_parallel_resonance_3"
   ]
  },
  {
   "cell_type": "code",
   "execution_count": null,
   "id": "51012327-974a-4997-8edf-5695295a8d4b",
   "metadata": {},
   "outputs": [],
   "source": []
  }
 ],
 "metadata": {
  "kernelspec": {
   "display_name": "Python 3 (ipykernel)",
   "language": "python",
   "name": "python3"
  },
  "language_info": {
   "codemirror_mode": {
    "name": "ipython",
    "version": 3
   },
   "file_extension": ".py",
   "mimetype": "text/x-python",
   "name": "python",
   "nbconvert_exporter": "python",
   "pygments_lexer": "ipython3",
   "version": "3.12.4"
  }
 },
 "nbformat": 4,
 "nbformat_minor": 5
}
