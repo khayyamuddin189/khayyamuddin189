{
 "cells": [
  {
   "cell_type": "markdown",
   "id": "6d8e53e9-f0f3-49fa-9657-e61bb3d3c299",
   "metadata": {
    "jp-MarkdownHeadingCollapsed": true
   },
   "source": [
    "# ***Name : Syed Shahmeer Shah***\n",
    "# ***Reg No : 23jzele0541***\n",
    "# **Lab : 04**"
   ]
  },
  {
   "cell_type": "markdown",
   "id": "a1eaac0d-94f3-4f15-815e-43b3f9bac0a4",
   "metadata": {},
   "source": [
    "# Lab  Report"
   ]
  },
  {
   "cell_type": "markdown",
   "id": "ebe6ed09-25ce-4e76-890b-dd528a79b13f",
   "metadata": {},
   "source": [
    "a. Make an object and print its x and y coordinates. "
   ]
  },
  {
   "cell_type": "code",
   "execution_count": null,
   "id": "da7a2a03-9eaa-41ed-b16e-66ff4d1d816d",
   "metadata": {},
   "outputs": [],
   "source": [
    "class Point:\n",
    "    pass"
   ]
  },
  {
   "cell_type": "code",
   "execution_count": null,
   "id": "293c51f7-f0f9-419e-893a-a5c1e1ff413b",
   "metadata": {},
   "outputs": [],
   "source": [
    "import math\n",
    "class Point:\n",
    "    \"\"\"Represents a point in two-dimensional geometric\n",
    "coordinates\n",
    "    Parameters\n",
    "        ----------\n",
    "        x : float\n",
    "        y : float\n",
    "    \"\"\"\n",
    "    def __init__(self, x: float, y: float)->None:\n",
    "        self.x = x\n",
    "        self.y = y\n",
    "    def distance(self, p2)->float:\n",
    "        return math.sqrt((self.x-p2.x)**2 + (self.y-p2.y)**2)\n",
    "    def point(self) -> None:\n",
    "        print(f\"Point({self.x}, {self.y})\")\n",
    "print(Point.__doc__)"
   ]
  },
  {
   "cell_type": "markdown",
   "id": "f977198c-3c17-4a98-b474-d3be6cb80029",
   "metadata": {},
   "source": [
    "a. Define point1 and pass two numbers. "
   ]
  },
  {
   "cell_type": "code",
   "execution_count": null,
   "id": "08f56e8f-733a-4e79-8fe0-33f8e89fd761",
   "metadata": {},
   "outputs": [],
   "source": [
    "p1 = Point(2,3)"
   ]
  },
  {
   "cell_type": "markdown",
   "id": "86600a60-833e-471c-8859-44936f50c5e7",
   "metadata": {},
   "source": [
    "b. Make another instance of the point class, say its name is p2. "
   ]
  },
  {
   "cell_type": "code",
   "execution_count": null,
   "id": "af7506c0-102b-44b8-b41a-17f568beea41",
   "metadata": {},
   "outputs": [],
   "source": [
    "p2 = Point(4,2)"
   ]
  },
  {
   "cell_type": "markdown",
   "id": "2c9ad3f9-94c7-4176-adfa-90e4bb0d06e3",
   "metadata": {},
   "source": [
    "c. Print p1 and p2, for this use the print command and pass the point as input. "
   ]
  },
  {
   "cell_type": "code",
   "execution_count": null,
   "id": "580d72ee-eb44-449b-b264-4534e6b6a71d",
   "metadata": {},
   "outputs": [],
   "source": [
    "print(p1)"
   ]
  },
  {
   "cell_type": "code",
   "execution_count": null,
   "id": "34966399-db43-48e9-b80d-0e465d80f13b",
   "metadata": {},
   "outputs": [],
   "source": [
    "print(p2)"
   ]
  },
  {
   "cell_type": "markdown",
   "id": "8eb7beb1-dc9e-4c6c-a72d-0f3cd38bd8b6",
   "metadata": {},
   "source": [
    "d. Print the coordinate by using the object and dot operator.\n"
   ]
  },
  {
   "cell_type": "code",
   "execution_count": null,
   "id": "323f9146-d536-4683-9100-7b104418c1f8",
   "metadata": {},
   "outputs": [],
   "source": [
    "print(f\"p1 coordinates is ({p1.x} , {p1.y})\")"
   ]
  },
  {
   "cell_type": "code",
   "execution_count": null,
   "id": "fd9068aa-2c71-4426-ab53-6e55da04dd1d",
   "metadata": {},
   "outputs": [],
   "source": [
    "print(f\"p2 coordinates is ({p2.x} , {p2.y})\")"
   ]
  },
  {
   "cell_type": "markdown",
   "id": "e10c5496-456e-4a2b-98d1-dd3af15a0a9b",
   "metadata": {},
   "source": [
    "e. Add a new method to the point class that can effectively print the points. Print both the\n",
    "point using that function. "
   ]
  },
  {
   "cell_type": "code",
   "execution_count": null,
   "id": "b6892030-7447-4586-a2e9-a816c02b40f2",
   "metadata": {},
   "outputs": [],
   "source": [
    "p1.point()"
   ]
  },
  {
   "cell_type": "code",
   "execution_count": null,
   "id": "caa6cdfb-fb69-4e2e-a4bb-0e5da8a3fbc4",
   "metadata": {},
   "outputs": [],
   "source": [
    "p2.point()"
   ]
  },
  {
   "cell_type": "markdown",
   "id": "2159674a-4784-4069-9f98-c9fa261f6d28",
   "metadata": {},
   "source": [
    "f. Calculate the distance between these two pints."
   ]
  },
  {
   "cell_type": "code",
   "execution_count": null,
   "id": "decd892e-6080-4870-96e2-2b3d99188b9d",
   "metadata": {},
   "outputs": [],
   "source": [
    "Distance = p1.distance(p2)"
   ]
  },
  {
   "cell_type": "code",
   "execution_count": null,
   "id": "e2445c46-a960-4f5a-a1d9-df9bbeb244f4",
   "metadata": {},
   "outputs": [],
   "source": [
    "print(f\"Distance B/W two points (p1, p2) is {Distance}\")"
   ]
  },
  {
   "cell_type": "markdown",
   "id": "35448279-bae0-430f-9ce4-3aa28f6d3fad",
   "metadata": {},
   "source": [
    "# Lab Practice"
   ]
  },
  {
   "cell_type": "markdown",
   "id": "c6b7906f-52d1-41c7-8f87-c569afcf0a90",
   "metadata": {},
   "source": [
    "**Class**"
   ]
  },
  {
   "cell_type": "markdown",
   "id": "9e6df38e-e60d-4134-853b-036d9ef79c19",
   "metadata": {
    "jp-MarkdownHeadingCollapsed": true
   },
   "source": [
    "1. Motivation\n",
    "Interest is to make a list that can store employee data.\n",
    "[name, age, position, the year they started working]\n",
    "For example\n",
    "* kirk = [\"James Kirk\", 34, \"Captain\", 2265]\n",
    "* spock = [\"Spock\", 35, \"Science Officer\", 2254]\n",
    "* mccoy = [\"Leonard McCoy\", \"Chief Medical Officer\", 2266]\n"
   ]
  },
  {
   "cell_type": "code",
   "execution_count": null,
   "id": "827a84a0-f28b-434e-a5dc-dbbdeb0ec303",
   "metadata": {},
   "outputs": [],
   "source": [
    "kirk = [\"James Kirk\", 34, \"Captain\", 2265]\n",
    "spock = [\"Spock\", 35, \"Science Officer\", 2254]\n",
    "mccoy = [\"Leonard McCoy\", \"Chief Medical Officer\", 2266]"
   ]
  },
  {
   "cell_type": "markdown",
   "id": "c2e3c433-eae6-4145-a3f1-ca6569203b9f",
   "metadata": {},
   "source": [
    "* Print(kirk[0])"
   ]
  },
  {
   "cell_type": "code",
   "execution_count": null,
   "id": "ce4ac2b1-f6f8-4244-804d-fa9582b02f9f",
   "metadata": {},
   "outputs": [],
   "source": [
    "print(kirk[0])"
   ]
  },
  {
   "cell_type": "markdown",
   "id": "593586b9-b36f-48b2-8d82-b71e9beecdae",
   "metadata": {},
   "source": [
    "print(moocy[1])"
   ]
  },
  {
   "cell_type": "code",
   "execution_count": null,
   "id": "f1e8dac3-11e1-4005-b4ca-9afdfd7a9074",
   "metadata": {},
   "outputs": [],
   "source": [
    "print(mccoy[1])"
   ]
  },
  {
   "cell_type": "markdown",
   "id": "31396584-5890-4601-975d-cc65652a0a3e",
   "metadata": {},
   "source": [
    "## 2. Dog class\n",
    " "
   ]
  },
  {
   "cell_type": "code",
   "execution_count": null,
   "id": "decade6d-ee23-4b37-b175-5f0f216b6992",
   "metadata": {},
   "outputs": [],
   "source": [
    "class Dog:\n",
    " pass"
   ]
  },
  {
   "cell_type": "markdown",
   "id": "369b4671-5e95-4821-8d92-fa3385320041",
   "metadata": {},
   "source": [
    "a. Creating a new object from a class is called instantiating a class. You can create a new\n",
    "object by typing the name of the class, followed by opening and closing parentheses:"
   ]
  },
  {
   "cell_type": "code",
   "execution_count": null,
   "id": "4927f9bd-6677-4dd2-8ce7-9d3c8e99d261",
   "metadata": {},
   "outputs": [],
   "source": [
    "Dog()"
   ]
  },
  {
   "cell_type": "markdown",
   "id": "e88cfa84-4972-4a5f-addc-73c5d1f5707d",
   "metadata": {},
   "source": [
    "b. Create two new Dog objects and assign them to the variables a and b. "
   ]
  },
  {
   "cell_type": "code",
   "execution_count": null,
   "id": "397a15c9-820f-4980-a90d-fe8c103ce5e1",
   "metadata": {},
   "outputs": [],
   "source": [
    "a = Dog()"
   ]
  },
  {
   "cell_type": "code",
   "execution_count": null,
   "id": "653bcb0a-345a-4f51-97a4-f1d13434984f",
   "metadata": {},
   "outputs": [],
   "source": [
    "b = Dog()"
   ]
  },
  {
   "cell_type": "markdown",
   "id": "af0dfd7e-404f-4c20-b988-a819bff3c6cc",
   "metadata": {},
   "source": [
    "c. When you compare a and b using the **==** operator, the result is False. Even\n",
    "though a and b are both instances of the Dog class, they represent two distinct objects\n",
    "in memory.\n",
    "a == b"
   ]
  },
  {
   "cell_type": "code",
   "execution_count": null,
   "id": "8085796e-8b7c-4775-ac40-222c55471227",
   "metadata": {},
   "outputs": [],
   "source": [
    "a == b"
   ]
  },
  {
   "cell_type": "markdown",
   "id": "d312d00f-f421-4c64-930c-23630311982e",
   "metadata": {},
   "source": [
    "d. Use the print command and print both instances/ objects. "
   ]
  },
  {
   "cell_type": "code",
   "execution_count": null,
   "id": "d607e036-c7a2-4d56-a454-2f707ae93c54",
   "metadata": {},
   "outputs": [],
   "source": [
    "print(a)"
   ]
  },
  {
   "cell_type": "code",
   "execution_count": null,
   "id": "94f718a7-10f7-4151-895b-9881adf38fce",
   "metadata": {},
   "outputs": [],
   "source": [
    "print(b)"
   ]
  },
  {
   "cell_type": "markdown",
   "id": "c3ea7c89-00e2-4deb-bdcc-e80221412c94",
   "metadata": {},
   "source": [
    "3. Following is a class named ****MyFirstClass****. "
   ]
  },
  {
   "cell_type": "code",
   "execution_count": null,
   "id": "db3a33d8-2726-4d3c-83ee-dd205cbfe6d6",
   "metadata": {},
   "outputs": [],
   "source": [
    "class MyFirstClass:\n",
    "    pass"
   ]
  },
  {
   "cell_type": "markdown",
   "id": "57b1db09-cd0b-4c89-a079-3e6dacaed6b3",
   "metadata": {},
   "source": [
    "a. Make two instances named ***FC1*** and ***FC2***."
   ]
  },
  {
   "cell_type": "code",
   "execution_count": null,
   "id": "c8cd2a9c-fcad-424c-bd3b-dade2542367f",
   "metadata": {},
   "outputs": [],
   "source": [
    "FC1 = MyFirstClass()"
   ]
  },
  {
   "cell_type": "code",
   "execution_count": null,
   "id": "a705fdd9-39d9-4f28-99d2-a727570ad727",
   "metadata": {},
   "outputs": [],
   "source": [
    "FC2 = MyFirstClass()"
   ]
  },
  {
   "cell_type": "markdown",
   "id": "c0e5924c-f669-4dd5-a89c-c8db64e5269d",
   "metadata": {},
   "source": [
    "b. Check whether FC1 and FC2 represent the same object or not. "
   ]
  },
  {
   "cell_type": "code",
   "execution_count": null,
   "id": "c5701398-fbd3-4fe0-9dee-c3cf8486fc90",
   "metadata": {},
   "outputs": [],
   "source": [
    "FC1 == FC2"
   ]
  },
  {
   "cell_type": "markdown",
   "id": "2090b111-5d86-4d93-a63a-f8db5347900a",
   "metadata": {},
   "source": [
    "c. Use the print command and print both instances. "
   ]
  },
  {
   "cell_type": "code",
   "execution_count": null,
   "id": "1ed328ee-eb3c-4422-84db-ee848a846e7c",
   "metadata": {},
   "outputs": [],
   "source": [
    "print(f\"Here it show the first abject address ->  ({FC1})\")    # totally different from FC2 memory address."
   ]
  },
  {
   "cell_type": "code",
   "execution_count": null,
   "id": "a3713697-1367-4079-9fb3-1a84157a3170",
   "metadata": {},
   "outputs": [],
   "source": [
    "print(f\"Here it show the first abject address ->  ({FC2})\")    # totally different from FC1 memory address."
   ]
  },
  {
   "cell_type": "markdown",
   "id": "68e53ea0-f690-44ce-a25e-1bc6450c5d8f",
   "metadata": {},
   "source": [
    "4. Consider the following class definition."
   ]
  },
  {
   "cell_type": "code",
   "execution_count": null,
   "id": "4de0f88e-57d2-4ee8-84d7-e4835f0f533a",
   "metadata": {},
   "outputs": [],
   "source": [
    "class point:\n",
    "    pass"
   ]
  },
  {
   "cell_type": "markdown",
   "id": "0a146a36-ba6c-446a-9b96-6246fc4a080e",
   "metadata": {},
   "source": [
    "a. Make two instances named p1 and p2."
   ]
  },
  {
   "cell_type": "code",
   "execution_count": null,
   "id": "cbc02e0c-fad5-4d9c-877e-6f403e2e7888",
   "metadata": {},
   "outputs": [],
   "source": [
    "p1 = point()"
   ]
  },
  {
   "cell_type": "code",
   "execution_count": null,
   "id": "9ceec006-d3e7-48e3-9ee8-dd89457859b5",
   "metadata": {},
   "outputs": [],
   "source": [
    "p2 = point()"
   ]
  },
  {
   "cell_type": "markdown",
   "id": "143cae28-a030-420a-b533-9db9a63154ef",
   "metadata": {},
   "source": [
    "b. Print both objects p1 and p2. "
   ]
  },
  {
   "cell_type": "code",
   "execution_count": null,
   "id": "cb8582c3-50d7-484e-a636-55f45154924e",
   "metadata": {},
   "outputs": [],
   "source": [
    "print(p1)"
   ]
  },
  {
   "cell_type": "code",
   "execution_count": null,
   "id": "a724b027-9dc0-40cd-bce0-f6dba0088f19",
   "metadata": {},
   "outputs": [],
   "source": [
    "print(p2)"
   ]
  },
  {
   "cell_type": "markdown",
   "id": "2ef4352b-e873-4242-832a-0de9a01047a1",
   "metadata": {},
   "source": [
    "c. Try different names for objects, instead of p1 and p2. Also, use different attribute names. "
   ]
  },
  {
   "cell_type": "code",
   "execution_count": null,
   "id": "ed6a1726-10a2-447c-acb5-eb4f8ce0dd6f",
   "metadata": {},
   "outputs": [],
   "source": [
    "class point:\n",
    "    def __init__(self, x, y):\n",
    "        self.x = x\n",
    "        self.y = y  "
   ]
  },
  {
   "cell_type": "code",
   "execution_count": null,
   "id": "3da0f4ad-03a0-4fde-a200-5187558c3fdb",
   "metadata": {},
   "outputs": [],
   "source": [
    "a = point(2,5)"
   ]
  },
  {
   "cell_type": "code",
   "execution_count": null,
   "id": "21b748de-3caa-4a7e-a4b9-e566319e4212",
   "metadata": {},
   "outputs": [],
   "source": [
    "print(a)"
   ]
  },
  {
   "cell_type": "code",
   "execution_count": null,
   "id": "880d20d1-8d70-4485-9f0b-6fe257b4c674",
   "metadata": {},
   "outputs": [],
   "source": [
    "b = point(3,8)"
   ]
  },
  {
   "cell_type": "code",
   "execution_count": null,
   "id": "888c3864-b0f3-4df0-aa67-2a213a20064b",
   "metadata": {},
   "outputs": [],
   "source": [
    "print(b)"
   ]
  },
  {
   "cell_type": "markdown",
   "id": "7cfef806-3252-4429-9e77-475e5654b16b",
   "metadata": {},
   "source": [
    "To print the attributes of the  new objects/instance we have"
   ]
  },
  {
   "cell_type": "code",
   "execution_count": null,
   "id": "2fc7056f-cb0e-441a-9025-6bab0a9ceac2",
   "metadata": {},
   "outputs": [],
   "source": [
    "print(f\"The attributes or coordinates of point (a) is {a.x} and {a.y}\")"
   ]
  },
  {
   "cell_type": "code",
   "execution_count": null,
   "id": "752482d7-4b64-413f-a5a3-f3659716be36",
   "metadata": {},
   "outputs": [],
   "source": [
    "print(f\"The attributes or coordinates of point (b) is {b.x} and {b.y}\")"
   ]
  },
  {
   "cell_type": "markdown",
   "id": "5b810100-1a0a-4c8d-8798-208f3ff4774d",
   "metadata": {},
   "source": [
    "5. Update the Dog class with an __init__() method that creates .name and .age attributes:"
   ]
  },
  {
   "cell_type": "code",
   "execution_count": null,
   "id": "1ba02988-47db-46a9-99cd-759a895d8f23",
   "metadata": {},
   "outputs": [],
   "source": [
    "class Dog:\n",
    "    def __init__(self, name, age):\n",
    "        self.name = name\n",
    "        self.age = age"
   ]
  },
  {
   "cell_type": "markdown",
   "id": "b90b6d19-39c1-4f14-aed6-2fab4e1173cf",
   "metadata": {},
   "source": [
    "a. **Run**: miles = Dog(\"Miles\", 4)"
   ]
  },
  {
   "cell_type": "code",
   "execution_count": null,
   "id": "e7b4773f-d6d0-44a4-a767-ec31d4d8d747",
   "metadata": {},
   "outputs": [],
   "source": [
    "miles = Dog(\"Miles\", 4)"
   ]
  },
  {
   "cell_type": "markdown",
   "id": "ecec456a-a1cc-44f0-8156-53cab9f6b52b",
   "metadata": {},
   "source": [
    "b. **Print**: miles"
   ]
  },
  {
   "cell_type": "code",
   "execution_count": null,
   "id": "dfb00064-5a87-4b7b-9318-9f33852ef915",
   "metadata": {},
   "outputs": [],
   "source": [
    "print(miles)"
   ]
  },
  {
   "cell_type": "markdown",
   "id": "11b2a111-31fa-4d98-8e88-9f6f5a178fc2",
   "metadata": {},
   "source": [
    "Create a new Dog class with a class attribute called. species and two instance attributes\n",
    "called .name and .age:\n"
   ]
  },
  {
   "cell_type": "markdown",
   "id": "9d824aab-b5a4-4816-9849-7c8bff68d3ea",
   "metadata": {},
   "source": [
    "Class attribute: You define class attributes directly beneath the first line of the class\n",
    "name and indent them by four spaces"
   ]
  },
  {
   "cell_type": "code",
   "execution_count": null,
   "id": "26735eac-c7a4-4970-9b45-7e57e1243e18",
   "metadata": {},
   "outputs": [],
   "source": [
    "class Dog:\n",
    "    species = 'Canis familiaris'\n",
    "    def __init__(self, name, age):\n",
    "        self.name = name\n",
    "        self.age = age\n",
    "        "
   ]
  },
  {
   "cell_type": "markdown",
   "id": "59ac8c01-0524-41b1-ad2b-58fcb29b022b",
   "metadata": {},
   "source": [
    "a. To instantiate this Dog class, you need to provide values for name and age. If you don’t,\n",
    "then Python raises a TypeError:\n",
    "* Run: Dog()"
   ]
  },
  {
   "cell_type": "code",
   "execution_count": null,
   "id": "33f241d8-60f1-4cd6-aaf8-7f5c354729d0",
   "metadata": {},
   "outputs": [],
   "source": [
    "Dog()  # it show error of missing to requried positional arguments: 'Dog'"
   ]
  },
  {
   "cell_type": "markdown",
   "id": "9e871cfe-6a02-4cae-b00b-84ba80d8739a",
   "metadata": {},
   "source": [
    "b. To pass arguments to the name and age parameters, put values into the parentheses\n",
    "after the class name:\n",
    "* miles = Dog(\"Miles\", 4)\n",
    "* buddy = Dog(\"Buddy\", 9)\n"
   ]
  },
  {
   "cell_type": "code",
   "execution_count": null,
   "id": "783d144a-38e8-4d58-b324-690f2962559b",
   "metadata": {},
   "outputs": [],
   "source": [
    "miles = Dog(\"Miles\", 4)\n",
    "buddy = Dog(\"Buddy\", 9)"
   ]
  },
  {
   "cell_type": "markdown",
   "id": "3bc0d7bd-c974-4794-ae16-a7e48b93823d",
   "metadata": {},
   "source": [
    "c. After you create the Dog instances, you can access their instance attributes using dot\n",
    "notation:"
   ]
  },
  {
   "cell_type": "code",
   "execution_count": null,
   "id": "4b21c9fb-c7e6-4fb9-8d9a-3a90067d8a42",
   "metadata": {},
   "outputs": [],
   "source": [
    "print(f\"Mile name: {miles.name}\")\n",
    "print(f\"Miles age: {miles.age}\")"
   ]
  }
 ],
 "metadata": {
  "kernelspec": {
   "display_name": "Python 3 (ipykernel)",
   "language": "python",
   "name": "python3"
  },
  "language_info": {
   "codemirror_mode": {
    "name": "ipython",
    "version": 3
   },
   "file_extension": ".py",
   "mimetype": "text/x-python",
   "name": "python",
   "nbconvert_exporter": "python",
   "pygments_lexer": "ipython3",
   "version": "3.12.4"
  }
 },
 "nbformat": 4,
 "nbformat_minor": 5
}
