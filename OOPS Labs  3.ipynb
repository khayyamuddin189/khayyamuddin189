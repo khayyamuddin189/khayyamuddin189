{
 "cells": [
  {
   "cell_type": "markdown",
   "id": "15df2870-f3bb-4b8f-a649-4206a3464d33",
   "metadata": {
    "jp-MarkdownHeadingCollapsed": true
   },
   "source": [
    "# ***Name : khayyam***\n",
    "# ***Req No : 23jzele0548***\n",
    "# **Lab : 03**"
   ]
  },
  {
   "cell_type": "markdown",
   "id": "7b017692-bc6e-4e5a-8ee7-5bd66e280785",
   "metadata": {},
   "source": [
    "# Lab Report"
   ]
  },
  {
   "cell_type": "markdown",
   "id": "656e1724-b73a-48ae-a853-c7e1f33e0721",
   "metadata": {},
   "source": [
    "1. Make a list that contains the student name, the last four digits of the registration number as\n",
    "an integer, the CGPA as a float, and a list that contains GPA of all semesters. (Nested List)"
   ]
  },
  {
   "cell_type": "code",
   "execution_count": 1,
   "id": "2fa01745-7c42-4b1b-a3bf-763bfd5c81bb",
   "metadata": {},
   "outputs": [],
   "source": [
    "# list cantain student name, reg no and cgpa and all samester GPA\n",
    "student_info = ['khayyam',548,3.91,[3.86,3.95]]"
   ]
  },
  {
   "cell_type": "code",
   "execution_count": 2,
   "id": "66455aab-5357-4908-b4cc-13699c073eb9",
   "metadata": {},
   "outputs": [
    {
     "name": "stdout",
     "output_type": "stream",
     "text": [
      "['khayyam', 548, 3.91, [3.86, 3.95]]\n"
     ]
    }
   ],
   "source": [
    "print(student_info)"
   ]
  },
  {
   "cell_type": "markdown",
   "id": "c257f525-4b94-43de-8a18-2ecf051b531b",
   "metadata": {},
   "source": [
    "Use list inducing in the following nested list and access each and every element.\n",
    "x = [\"a\", [\"bb\", [\"ccc\", \"ddd\"], \"ee\", \"ff\"], \"g\", [\"hh\", \"ii\"], \"j\"]"
   ]
  },
  {
   "cell_type": "code",
   "execution_count": 3,
   "id": "80484f90-9628-4a59-a361-b0b5009b65a9",
   "metadata": {},
   "outputs": [],
   "source": [
    "x = [\"a\", [\"bb\", [\"ccc\", \"ddd\"], \"ee\", \"ff\"], \"g\", [\"hh\", \"ii\"], \"j\"]"
   ]
  },
  {
   "cell_type": "code",
   "execution_count": 4,
   "id": "e1f6a79e-28d2-4552-b152-fe4b05937394",
   "metadata": {},
   "outputs": [
    {
     "data": {
      "text/plain": [
       "'a'"
      ]
     },
     "execution_count": 4,
     "metadata": {},
     "output_type": "execute_result"
    }
   ],
   "source": [
    "x[0]"
   ]
  },
  {
   "cell_type": "code",
   "execution_count": 5,
   "id": "dad9d322-9032-4ba1-9dd8-a44dc8bab716",
   "metadata": {},
   "outputs": [
    {
     "data": {
      "text/plain": [
       "'bb'"
      ]
     },
     "execution_count": 5,
     "metadata": {},
     "output_type": "execute_result"
    }
   ],
   "source": [
    "x[1][0]"
   ]
  },
  {
   "cell_type": "code",
   "execution_count": 6,
   "id": "faee42ab-1079-4738-a89f-5c087db7e1b6",
   "metadata": {},
   "outputs": [
    {
     "data": {
      "text/plain": [
       "'ccc'"
      ]
     },
     "execution_count": 6,
     "metadata": {},
     "output_type": "execute_result"
    }
   ],
   "source": [
    "x[1][1][0]"
   ]
  },
  {
   "cell_type": "code",
   "execution_count": 7,
   "id": "dc4c46de-9728-48c0-9294-4ea97900d3dc",
   "metadata": {},
   "outputs": [
    {
     "data": {
      "text/plain": [
       "'ddd'"
      ]
     },
     "execution_count": 7,
     "metadata": {},
     "output_type": "execute_result"
    }
   ],
   "source": [
    "x[1][1][1]"
   ]
  },
  {
   "cell_type": "code",
   "execution_count": 8,
   "id": "be2cff24-c816-4cb5-86c9-fcc82a80ef40",
   "metadata": {},
   "outputs": [
    {
     "data": {
      "text/plain": [
       "'ee'"
      ]
     },
     "execution_count": 8,
     "metadata": {},
     "output_type": "execute_result"
    }
   ],
   "source": [
    "x[1][2]"
   ]
  },
  {
   "cell_type": "code",
   "execution_count": null,
   "id": "91cec396-f4f1-419b-8a73-494d2273e613",
   "metadata": {},
   "outputs": [],
   "source": [
    "\n",
    "\n",
    "\n",
    "\n",
    "\n",
    "\n",
    "\n",
    "x[1][3]"
   ]
  },
  {
   "cell_type": "code",
   "execution_count": null,
   "id": "19f6fc9e-6199-4c2e-bff6-076b021bf18c",
   "metadata": {},
   "outputs": [],
   "source": [
    "x[2]"
   ]
  },
  {
   "cell_type": "code",
   "execution_count": null,
   "id": "c9c2ce94-5dce-447a-8541-a21ca2dcdb25",
   "metadata": {},
   "outputs": [],
   "source": [
    "x[3][0]"
   ]
  },
  {
   "cell_type": "code",
   "execution_count": null,
   "id": "3b504539-f615-446f-abc7-cd25265dd70a",
   "metadata": {},
   "outputs": [],
   "source": [
    "x[3][1]"
   ]
  },
  {
   "cell_type": "code",
   "execution_count": null,
   "id": "13812a28-6db9-4eb0-a90b-953faddfa068",
   "metadata": {},
   "outputs": [],
   "source": [
    "x[4]"
   ]
  },
  {
   "cell_type": "markdown",
   "id": "8eade660-14d8-484f-a1cd-bcada764ac5a",
   "metadata": {},
   "source": [
    "# Lab Practice"
   ]
  },
  {
   "cell_type": "markdown",
   "id": "495ccd52-1ee3-4761-b9b7-836176021fb1",
   "metadata": {},
   "source": [
    "**List**"
   ]
  },
  {
   "cell_type": "markdown",
   "id": "e006c73b-e351-49b8-a971-b80c80eca60c",
   "metadata": {},
   "source": [
    "1. Make a list of 5 any integers."
   ]
  },
  {
   "cell_type": "code",
   "execution_count": null,
   "id": "61f5eaec-b91c-4b82-aeb4-ffefa3dc46c0",
   "metadata": {},
   "outputs": [],
   "source": [
    "lst1 = [1,2,3,4,5]\n",
    "print(lst1)"
   ]
  },
  {
   "cell_type": "markdown",
   "id": "9e81b5c7-b239-4a6b-a4f8-30f8c3a0347f",
   "metadata": {},
   "source": [
    "Make a list that contains the student's name, the last four digits of the registration number as an integer, CGPA as a float, and a list that contains the GPA of all semesters. (Nested List)"
   ]
  },
  {
   "cell_type": "code",
   "execution_count": 9,
   "id": "ab71bb2c-808c-48a0-b140-c8683b817a58",
   "metadata": {},
   "outputs": [
    {
     "name": "stdout",
     "output_type": "stream",
     "text": [
      "['khayyam', 528, 3.91, [3.86, 3.95]]\n"
     ]
    }
   ],
   "source": [
    "student = ['khayyam', 528, 3.91, [3.86,3.95]]\n",
    "print(student)"
   ]
  },
  {
   "cell_type": "code",
   "execution_count": null,
   "id": "c3fcf60d-f619-41fc-a282-5d5729589999",
   "metadata": {},
   "outputs": [],
   "source": [
    "print(student[2])"
   ]
  },
  {
   "cell_type": "markdown",
   "id": "59538e8f-9e98-48fa-bbb2-fcb4302ff8c3",
   "metadata": {},
   "source": [
    "Print the list elements using the while loop and use the length function. (len)"
   ]
  },
  {
   "cell_type": "code",
   "execution_count": null,
   "id": "9ba9b008-65df-4762-b878-320c3835e65e",
   "metadata": {},
   "outputs": [],
   "source": [
    "i = 0\n",
    "while i < len(student):\n",
    "    print(student[i])\n",
    "    i += 1"
   ]
  },
  {
   "cell_type": "code",
   "execution_count": null,
   "id": "458faa60-7a20-4dde-9769-67ae2237a743",
   "metadata": {},
   "outputs": [],
   "source": [
    "print(student)"
   ]
  },
  {
   "cell_type": "markdown",
   "id": "bb1adac5-e7b3-4040-a13a-71e289b95ef5",
   "metadata": {},
   "source": [
    "Access the list of all semester GPAs using negative indexing."
   ]
  },
  {
   "cell_type": "code",
   "execution_count": null,
   "id": "d3d43be0-afef-4140-a41e-464b03393fc0",
   "metadata": {},
   "outputs": [],
   "source": [
    "student[-1]"
   ]
  },
  {
   "cell_type": "markdown",
   "id": "8016e34e-f433-4e1d-bcfe-42f9bb9d1738",
   "metadata": {},
   "source": [
    "Make a list of the first 20 integers using the range function."
   ]
  },
  {
   "cell_type": "code",
   "execution_count": null,
   "id": "f2494e7d-5379-4378-ab1b-697655ff9547",
   "metadata": {},
   "outputs": [],
   "source": [
    "lst2 = [x for x in range(1,21)]\n",
    "print(lst2)"
   ]
  },
  {
   "cell_type": "markdown",
   "id": "67707792-a17d-45e9-b32b-d3ea35be5eb2",
   "metadata": {},
   "source": [
    "Make a list of odd integers from 20 to 40 using the range function."
   ]
  },
  {
   "cell_type": "code",
   "execution_count": null,
   "id": "ce70b345-2620-4ec5-818c-63e23818be13",
   "metadata": {},
   "outputs": [],
   "source": [
    "lst3 = [x for x in range(20,40) if x % 2 != 0]\n",
    "print(lst3)"
   ]
  },
  {
   "cell_type": "markdown",
   "id": "e77d95d8-7281-4469-aa8b-1a897b625f6b",
   "metadata": {},
   "source": [
    "Consider the student list. *Student = [Ibrahim, Husain, Irfan, Ayub, Usman]* Use in and not in operators to ensure that the student is in the list or not."
   ]
  },
  {
   "cell_type": "code",
   "execution_count": 2,
   "id": "de00c035-b34a-4c78-996d-6aedf8cd02eb",
   "metadata": {},
   "outputs": [],
   "source": [
    "Students = ['Shahmeer', 'khan', 'Irfan', 'Ayub', 'Fawad']"
   ]
  },
  {
   "cell_type": "code",
   "execution_count": 10,
   "id": "099eecf0-5432-4cdc-bd5f-d41ba6ee6514",
   "metadata": {},
   "outputs": [
    {
     "ename": "NameError",
     "evalue": "name 'Students' is not defined",
     "output_type": "error",
     "traceback": [
      "\u001b[1;31m---------------------------------------------------------------------------\u001b[0m",
      "\u001b[1;31mNameError\u001b[0m                                 Traceback (most recent call last)",
      "Cell \u001b[1;32mIn[10], line 1\u001b[0m\n\u001b[1;32m----> 1\u001b[0m \u001b[38;5;28mprint\u001b[39m(\u001b[38;5;124m'\u001b[39m\u001b[38;5;124mshahmeer\u001b[39m\u001b[38;5;124m'\u001b[39m \u001b[38;5;129;01min\u001b[39;00m Students)\n\u001b[0;32m      2\u001b[0m \u001b[38;5;28mprint\u001b[39m(\u001b[38;5;124m'\u001b[39m\u001b[38;5;124mafaq\u001b[39m\u001b[38;5;124m'\u001b[39m \u001b[38;5;129;01mnot\u001b[39;00m \u001b[38;5;129;01min\u001b[39;00m Students)\n\u001b[0;32m      3\u001b[0m \u001b[38;5;28mprint\u001b[39m(\u001b[38;5;124m'\u001b[39m\u001b[38;5;124mkhayyam\u001b[39m\u001b[38;5;124m'\u001b[39m \u001b[38;5;129;01min\u001b[39;00m Students)\n",
      "\u001b[1;31mNameError\u001b[0m: name 'Students' is not defined"
     ]
    }
   ],
   "source": [
    "print('shahmeer' in Students)\n",
    "print('afaq' not in Students)\n",
    "print('khayyam' in Students)\n",
    "print('Fawad' not in Students)"
   ]
  },
  {
   "cell_type": "markdown",
   "id": "d6cc03e1-0849-492c-b4b8-3d08b432428c",
   "metadata": {},
   "source": [
    "Print all the student lists in task 8 using the for loop"
   ]
  },
  {
   "cell_type": "code",
   "execution_count": null,
   "id": "61c661ab-d1b9-48fd-a89e-6d16d55d1e89",
   "metadata": {},
   "outputs": [],
   "source": [
    "for i in Students:\n",
    "    print(i)"
   ]
  },
  {
   "cell_type": "markdown",
   "id": "3095fb9a-11d8-4d2f-9048-dd1071c4926c",
   "metadata": {},
   "source": [
    "Observe what is print, what is the first thing print, what the last thing print. Consider task 8 for the student list.\n",
    "Student [1:3] and student [2:4]"
   ]
  },
  {
   "cell_type": "code",
   "execution_count": null,
   "id": "1bbd5271-92e1-4807-8d55-b3aff6aefa77",
   "metadata": {},
   "outputs": [],
   "source": [
    "Students [1:3]"
   ]
  },
  {
   "cell_type": "code",
   "execution_count": null,
   "id": "efd53f3d-228d-476c-b7ea-9cd852158ef4",
   "metadata": {},
   "outputs": [],
   "source": [
    "Students [2:4]"
   ]
  },
  {
   "cell_type": "markdown",
   "id": "dcf74c8e-0669-4032-8394-7a0ce41dd7dc",
   "metadata": {},
   "source": [
    "Make an appropriate list and use and demonstrate the use of the following mutator Methods.\n",
    "* append(obj)\n",
    "* extend(iterable)\n",
    "* insert(index, obj)\n",
    "* remove(obj)\n",
    "* pop([index=-1])"
   ]
  },
  {
   "cell_type": "code",
   "execution_count": null,
   "id": "0eada744-57c1-4ade-9865-b4f5cba4abde",
   "metadata": {},
   "outputs": [],
   "source": [
    "lst5 = ['a','b','c','d','e','f']\n",
    "lst5"
   ]
  },
  {
   "cell_type": "code",
   "execution_count": null,
   "id": "12aeb24e-5bfb-40e3-940c-249290eb5c09",
   "metadata": {},
   "outputs": [],
   "source": [
    "lst5.append('g')\n",
    "lst5"
   ]
  },
  {
   "cell_type": "code",
   "execution_count": null,
   "id": "3e02c9f3-e259-4500-81f3-23309f36b021",
   "metadata": {},
   "outputs": [],
   "source": [
    "lst5.extend('h')\n",
    "lst5"
   ]
  },
  {
   "cell_type": "code",
   "execution_count": null,
   "id": "cc78c0db-27c1-4571-8b19-688780df1cde",
   "metadata": {},
   "outputs": [],
   "source": [
    "lst5.remove('x')\n",
    "lst5"
   ]
  },
  {
   "cell_type": "code",
   "execution_count": null,
   "id": "60602006-1cf9-4e58-b5cb-223120b62e80",
   "metadata": {},
   "outputs": [],
   "source": [
    "lst5.insert(2, 'x')\n",
    "lst5"
   ]
  },
  {
   "cell_type": "code",
   "execution_count": null,
   "id": "f3927c42-ee17-4558-a76e-286bf51f6cc0",
   "metadata": {},
   "outputs": [],
   "source": [
    "lst5.pop(-1)"
   ]
  },
  {
   "cell_type": "markdown",
   "id": "18c41291-b60b-4a00-a5f3-4c3763b51219",
   "metadata": {},
   "source": [
    "Use list inducing in the following nested list and access each and every element.\n",
    "x = [\"a\", [\"bb\", [\"ccc\", \"ddd\"], \"ee\", \"ff\"], \"g\", [\"hh\", \"ii\"], \"j\"]"
   ]
  },
  {
   "cell_type": "code",
   "execution_count": null,
   "id": "2d522065-a153-4455-82c8-c8064d3d9095",
   "metadata": {},
   "outputs": [],
   "source": [
    "x = [\"a\", [\"bb\", [\"ccc\", \"ddd\"], \"ee\", \"ff\"], \"g\", [\"hh\", \"ii\"], \"j\"]"
   ]
  },
  {
   "cell_type": "code",
   "execution_count": null,
   "id": "833496fb-7675-4314-8aa6-4c8d8933801e",
   "metadata": {},
   "outputs": [],
   "source": [
    "print(x[0])"
   ]
  },
  {
   "cell_type": "code",
   "execution_count": null,
   "id": "4dcfe4d4-a65a-4a60-9688-2888c8b7c7f8",
   "metadata": {},
   "outputs": [],
   "source": [
    "print(x[1][0])"
   ]
  },
  {
   "cell_type": "code",
   "execution_count": null,
   "id": "58317184-8ada-4f4a-adaa-fbea6ae0a2d5",
   "metadata": {},
   "outputs": [],
   "source": [
    "print(x[1][1][0])"
   ]
  },
  {
   "cell_type": "code",
   "execution_count": null,
   "id": "36d399c9-4ed1-4b13-b487-bf4d1486c07c",
   "metadata": {},
   "outputs": [],
   "source": [
    "print(x[1][1][1])"
   ]
  },
  {
   "cell_type": "code",
   "execution_count": null,
   "id": "177a1116-8379-4881-a28e-c067152b23dc",
   "metadata": {},
   "outputs": [],
   "source": [
    "print(x[1][2])"
   ]
  },
  {
   "cell_type": "code",
   "execution_count": null,
   "id": "e51e20a5-3aa9-410d-b0eb-fbbc0a5e5ccd",
   "metadata": {},
   "outputs": [],
   "source": [
    "print(x[1][3])"
   ]
  },
  {
   "cell_type": "code",
   "execution_count": null,
   "id": "0e9d9e7d-c14f-471c-86b1-0d6a77c56173",
   "metadata": {},
   "outputs": [],
   "source": [
    "print(x[2])"
   ]
  },
  {
   "cell_type": "code",
   "execution_count": null,
   "id": "5679b449-5ffd-41ac-a6b3-d29eae3135cc",
   "metadata": {},
   "outputs": [],
   "source": [
    "print(x[3][0])"
   ]
  },
  {
   "cell_type": "code",
   "execution_count": null,
   "id": "ee5c54c1-e0d6-4659-8c87-f56c69237def",
   "metadata": {},
   "outputs": [],
   "source": [
    "print(x[3][1])"
   ]
  },
  {
   "cell_type": "code",
   "execution_count": null,
   "id": "187051f0-6b91-406e-b6b4-a616f516a5ab",
   "metadata": {},
   "outputs": [],
   "source": [
    "print(x[4])"
   ]
  },
  {
   "cell_type": "markdown",
   "id": "c07224a8-93aa-4006-8110-657d8f5ebe32",
   "metadata": {},
   "source": [
    "**Tuple**"
   ]
  },
  {
   "cell_type": "markdown",
   "id": "f0c81f93-f6a1-4b37-84f4-3151f0246445",
   "metadata": {},
   "source": [
    "1. Make a tuple containing first five letters of English. (definition)"
   ]
  },
  {
   "cell_type": "code",
   "execution_count": null,
   "id": "2c9cff61-1858-4cd0-be0f-d3eb174b7ebd",
   "metadata": {},
   "outputs": [],
   "source": [
    "tpl1 = ('a','b','c','d','e')"
   ]
  },
  {
   "cell_type": "code",
   "execution_count": null,
   "id": "d5f3ee85-2a90-4574-8f58-479b97ce185d",
   "metadata": {},
   "outputs": [],
   "source": [
    "tpl1"
   ]
  },
  {
   "cell_type": "markdown",
   "id": "1a070285-6453-48b9-b9d8-c2ebf4143298",
   "metadata": {},
   "source": [
    "Use the index to access the third and last element."
   ]
  },
  {
   "cell_type": "code",
   "execution_count": null,
   "id": "3f50d1c5-52c2-47a7-a520-da9c6db6a2da",
   "metadata": {},
   "outputs": [],
   "source": [
    "tpl1[2]"
   ]
  },
  {
   "cell_type": "code",
   "execution_count": null,
   "id": "1a95a7a3-d33c-4f02-bc23-8d40020d00a9",
   "metadata": {},
   "outputs": [],
   "source": [
    "tpl1[4]"
   ]
  },
  {
   "cell_type": "markdown",
   "id": "2afa0da1-6b34-4f69-abda-cc698ce67bef",
   "metadata": {},
   "source": [
    "Make an appropriate list and tuple and use different operations that will show that list is mutable and tuple is immutable."
   ]
  },
  {
   "cell_type": "code",
   "execution_count": null,
   "id": "1905ad2f-4e58-4f52-9013-b6605fb2ad86",
   "metadata": {},
   "outputs": [],
   "source": [
    "lst1 = ['a', 'b', 'c', 'd', 'e']"
   ]
  },
  {
   "cell_type": "code",
   "execution_count": null,
   "id": "083eac8d-2750-4dae-98ea-a11b9afd4789",
   "metadata": {},
   "outputs": [],
   "source": [
    "lst1"
   ]
  },
  {
   "cell_type": "code",
   "execution_count": null,
   "id": "7a1abaa1-79ad-4b2f-9e70-b52d0e14b4b5",
   "metadata": {},
   "outputs": [],
   "source": [
    "# .append()\n",
    "lst1.append('f')    # list is mutable\n",
    "print(lst1)"
   ]
  },
  {
   "cell_type": "code",
   "execution_count": null,
   "id": "5c2c5124-7057-4d03-934c-3b064b10731c",
   "metadata": {},
   "outputs": [],
   "source": [
    "# .append()\n",
    "tpl1.append('f')    # tuple is immutable and show error just after running\n",
    "print(tpl1)"
   ]
  },
  {
   "cell_type": "code",
   "execution_count": null,
   "id": "51d4ede1-4f5d-4ec7-8dda-a1223666bc4c",
   "metadata": {},
   "outputs": [],
   "source": [
    "lst1[2] = 'e'   # mutable\n",
    "lst1"
   ]
  },
  {
   "cell_type": "code",
   "execution_count": null,
   "id": "76efa0d6-7c01-435a-9781-3f409c47ad2e",
   "metadata": {},
   "outputs": [],
   "source": [
    "tpl1[0] = 'x'   # immutable it shwo an error juct after running\n",
    "tpl1"
   ]
  },
  {
   "cell_type": "markdown",
   "id": "6221a31b-8b46-4f7d-ab86-5d1cd30be2dc",
   "metadata": {},
   "source": [
    "Make a tuple num = (1, 2, 3, 4). a. Observe the output num[2] = 9"
   ]
  },
  {
   "cell_type": "code",
   "execution_count": null,
   "id": "7dd0e657-6706-469c-b778-d7db95c72dac",
   "metadata": {},
   "outputs": [],
   "source": [
    "num[2] = 9  # i abserb that tuple is immutable"
   ]
  },
  {
   "cell_type": "markdown",
   "id": "73a3eb94-6f2b-4f1d-af3d-03787c6458c0",
   "metadata": {},
   "source": [
    "**Dictionary**"
   ]
  },
  {
   "cell_type": "markdown",
   "id": "f5de898b-4907-4971-94ff-62e32e3fbd3e",
   "metadata": {},
   "source": [
    "consider the following structure and observe. Fd= { ‘one’: ‘aik’, , ‘three’: ‘teen’, ‘ten’ : ‘das’, ‘fifteen’ : ‘pandra’}\n",
    "Bracket type\n",
    "* Print Fd\n",
    "* Fd[‘one’]\n",
    "* Fd[‘ten’]\n",
    "* del Fd[‘three’] and then print Fd.\n",
    "* Len(Fd).\n",
    "* Use the key method and print the list of keys.\n",
    "* Use the value function to print the list of values.\n",
    "* Observe the output of Fd.items().\n",
    "* Observe the output Fd.has_key(‘one) and Fd.has_key(‘two’) and think where such type of output will help and required.\n",
    "* To copy the dictionary, one may use one of the following. Verify by printing copy and alias.\n",
    "* copy = Fd.copy()\n",
    "* alias = Fd\n",
    "* Now let alias[‘three’] = ‘3’, now print alias and observe the result.\n",
    "* Also let copy[‘three’] = ‘3’, now print copy and observe the result."
   ]
  },
  {
   "cell_type": "code",
   "execution_count": null,
   "id": "1c00957d-324c-4fb9-adc6-116143d99aee",
   "metadata": {},
   "outputs": [],
   "source": [
    "fd= { 'one': 'aik', 'three': 'teen', 'ten' : 'das', 'fifteen' : 'pandra'}\n",
    "print(type({}))"
   ]
  },
  {
   "cell_type": "code",
   "execution_count": null,
   "id": "2f317ce7-141d-462a-8db7-771e18b1664f",
   "metadata": {},
   "outputs": [],
   "source": [
    "print(fd)"
   ]
  },
  {
   "cell_type": "code",
   "execution_count": null,
   "id": "7431a87a-4e1d-4417-8e75-249088514604",
   "metadata": {},
   "outputs": [],
   "source": [
    "fd['one']"
   ]
  },
  {
   "cell_type": "code",
   "execution_count": null,
   "id": "7cbb919b-c341-4f9a-8f4c-640727007a6a",
   "metadata": {},
   "outputs": [],
   "source": [
    "fd['ten']"
   ]
  },
  {
   "cell_type": "code",
   "execution_count": null,
   "id": "05ff948b-74d0-4c52-8a14-088e36a02b3b",
   "metadata": {},
   "outputs": [],
   "source": [
    "del fd['three']\n",
    "print(fd)"
   ]
  },
  {
   "cell_type": "code",
   "execution_count": null,
   "id": "4e54f30e-1384-4f42-95c6-ed1d71b203eb",
   "metadata": {},
   "outputs": [],
   "source": [
    "len(fd)"
   ]
  },
  {
   "cell_type": "code",
   "execution_count": null,
   "id": "b3eb07ac-6f08-420d-847c-a9cd43a72d21",
   "metadata": {},
   "outputs": [],
   "source": [
    "fd.keys()"
   ]
  },
  {
   "cell_type": "code",
   "execution_count": null,
   "id": "70548c5b-325f-4a0e-a39f-8e4783db835f",
   "metadata": {},
   "outputs": [],
   "source": [
    "fd.values()"
   ]
  },
  {
   "cell_type": "code",
   "execution_count": null,
   "id": "88a4b35e-d817-4cbc-b1b0-3d1d0967ccc8",
   "metadata": {},
   "outputs": [],
   "source": [
    "fd.items()"
   ]
  },
  {
   "cell_type": "code",
   "execution_count": null,
   "id": "49e1ebfb-c405-4fef-a59c-ebbf90eaaad2",
   "metadata": {},
   "outputs": [],
   "source": [
    "fd.has_key('one')   # in ptython 3 .has_key methode were remove after running it show error"
   ]
  },
  {
   "cell_type": "markdown",
   "id": "a5b229e8-e353-4fbc-a09a-751bf4b396b6",
   "metadata": {},
   "source": [
    " Observe the output Fd.has_key(‘one) and Fd.has_key(‘two’) and think where such type of output will help and required"
   ]
  },
  {
   "cell_type": "markdown",
   "id": "67a39f85-3b00-4e5a-a3cb-b782f753a9ff",
   "metadata": {},
   "source": [
    "To copy the dictionary, one may use one of the following. Verify by printing copy and alias.\n",
    "* copy = Fd.copy()\n",
    "* alias = Fd\n",
    "* Now let alias[‘three’] = ‘3’, now print alias and observe the result.\n",
    "* Also let copy[‘three’] = ‘3’, now print copy and observe the result."
   ]
  },
  {
   "cell_type": "code",
   "execution_count": null,
   "id": "ca275d45-38b3-46f5-b8e4-0ce14fe9effa",
   "metadata": {},
   "outputs": [],
   "source": [
    "copy = fd.copy()"
   ]
  },
  {
   "cell_type": "code",
   "execution_count": null,
   "id": "6cb108e7-e2c5-407e-84f3-c5c0e65dadc8",
   "metadata": {},
   "outputs": [],
   "source": [
    "alias = copy"
   ]
  },
  {
   "cell_type": "code",
   "execution_count": null,
   "id": "62af6470-4663-4901-a192-b670b6e4f993",
   "metadata": {},
   "outputs": [],
   "source": [
    "alias['three'] = '3'\n",
    "alias"
   ]
  },
  {
   "cell_type": "code",
   "execution_count": null,
   "id": "16d038e7-ce29-4db2-8857-75421ae9e3eb",
   "metadata": {},
   "outputs": [],
   "source": [
    "copy['three'] = '3'\n",
    "copy"
   ]
  },
  {
   "cell_type": "markdown",
   "id": "bc043e68-018b-4eb4-b2ae-086483e95f13",
   "metadata": {},
   "source": [
    "Make an appropriate dictionary and use the following built-in function and observe the\n",
    "result.\n",
    "* .clear()\n",
    "* .get()\n",
    "* .item()\n",
    "* .keys()\n",
    "* .vallues()"
   ]
  },
  {
   "cell_type": "code",
   "execution_count": null,
   "id": "c17f1ed4-df8c-4bdb-add3-c6fb286c83cf",
   "metadata": {},
   "outputs": [],
   "source": [
    "dict1 = {'a': 1, 'b': 2, 'c': 3, 'd': 4, 'f':5}\n",
    "dict1"
   ]
  },
  {
   "cell_type": "code",
   "execution_count": null,
   "id": "6d8471b4-009b-4d88-af0e-3a699a0b1ea8",
   "metadata": {},
   "outputs": [],
   "source": [
    "dict1.get('b')    #.get()"
   ]
  },
  {
   "cell_type": "code",
   "execution_count": null,
   "id": "6949fb5c-6ab0-4777-8305-9263331a2a07",
   "metadata": {},
   "outputs": [],
   "source": [
    "dict1.get('f')  # .get()"
   ]
  },
  {
   "cell_type": "code",
   "execution_count": null,
   "id": "eee43eb0-ed31-440e-9389-98fe8d14bc70",
   "metadata": {},
   "outputs": [],
   "source": [
    "dict1.items()     #  .items()"
   ]
  },
  {
   "cell_type": "code",
   "execution_count": null,
   "id": "d47ba20b-9b2e-4d3d-b66a-941162ed8f3f",
   "metadata": {},
   "outputs": [],
   "source": [
    "dict1.keys()     # .keys()"
   ]
  },
  {
   "cell_type": "code",
   "execution_count": null,
   "id": "7275709c-25db-4560-b76f-7625d9c13a8f",
   "metadata": {},
   "outputs": [],
   "source": [
    "dict1.values()       # .values()"
   ]
  },
  {
   "cell_type": "code",
   "execution_count": null,
   "id": "165d3198-044b-4bff-8521-8897d53ee2b1",
   "metadata": {},
   "outputs": [],
   "source": [
    "dict1.clear()          # .clear()"
   ]
  },
  {
   "cell_type": "code",
   "execution_count": null,
   "id": "4e64f1ae-7dc4-4f61-84fe-353d4417c858",
   "metadata": {},
   "outputs": [],
   "source": [
    "dict1"
   ]
  },
  {
   "cell_type": "markdown",
   "id": "fab5c2a3-3343-47ef-acb7-0fcf41e56a5e",
   "metadata": {},
   "source": [
    "**List comprehension:**"
   ]
  },
  {
   "cell_type": "markdown",
   "id": "d742ad3f-8dc5-44c2-8146-fedff34e9152",
   "metadata": {},
   "source": [
    "a. Consider the following code and print the square."
   ]
  },
  {
   "cell_type": "code",
   "execution_count": null,
   "id": "bcdd79b1-54d1-4a42-a0b6-fe2ce6f7f6d3",
   "metadata": {},
   "outputs": [],
   "source": [
    "squares = []   # this simple way to print squares of number  from 1 to 10\n",
    "for x in range(10):\n",
    " squares.append(x * x)\n",
    "squares"
   ]
  },
  {
   "cell_type": "markdown",
   "id": "75b97986-1de8-414d-9a22-4de0a0467499",
   "metadata": {},
   "source": [
    "Replace the above code with the following. Print the square. This sample one-line code is called list comprehension."
   ]
  },
  {
   "cell_type": "code",
   "execution_count": null,
   "id": "d485be01-a9e6-45a3-b1ff-3c5a1ffd22e5",
   "metadata": {},
   "outputs": [],
   "source": [
    "squares = [x * x for x in range(10)]  # this list comprehension way to print squares of number  from 1 to 10\n",
    "squares"
   ]
  },
  {
   "cell_type": "markdown",
   "id": "af5298d6-3666-42f2-9de8-d9c6dc61bac3",
   "metadata": {},
   "source": [
    "Change x*x by any function of x and observe the resulting list."
   ]
  },
  {
   "cell_type": "code",
   "execution_count": null,
   "id": "65fbb8ef-786e-44cf-89bc-a1c281e2d07c",
   "metadata": {},
   "outputs": [],
   "source": [
    "squares = [x for x in range(10)] \n",
    "squares"
   ]
  },
  {
   "cell_type": "markdown",
   "id": "9fa963ee-822e-4049-9c7f-08be5bf85fa3",
   "metadata": {},
   "source": [
    "List comprehensions can filter values based on some arbitrary condition that decides whether or not the resulting value becomes a part of the output list."
   ]
  },
  {
   "cell_type": "code",
   "execution_count": null,
   "id": "ff9d2b2e-8eef-459b-b9f5-8b3a76ffdac6",
   "metadata": {},
   "outputs": [],
   "source": [
    "even_squares = [x * x for x in range(10) if x % 2 == 0]   # list  comperhension\n",
    "even_squares"
   ]
  },
  {
   "cell_type": "markdown",
   "id": "b89c2e7e-ffa8-467f-a59b-fe502e21e0bc",
   "metadata": {},
   "source": [
    "The generalized syntax: values = [expression for item in collection if condition]\n",
    "This new list comprehension can be transformed into an equivalent for-loop:"
   ]
  },
  {
   "cell_type": "code",
   "execution_count": null,
   "id": "ebe440db-4d66-4231-8824-c44969ddf7dd",
   "metadata": {},
   "outputs": [],
   "source": [
    "even_squares = []           #  simple form to print number with for loop\n",
    "for x in range(10):\n",
    "    if x % 2 == 0:\n",
    "        even_squares.append(x * x)\n",
    "even_squares"
   ]
  },
  {
   "cell_type": "markdown",
   "id": "a2393a2a-0b1d-46a6-9d07-6ad7b3c905de",
   "metadata": {},
   "source": [
    "**Dictionary comprehension:**"
   ]
  },
  {
   "cell_type": "markdown",
   "id": "7c273d54-9c8e-479f-86c9-e47c2af68772",
   "metadata": {},
   "source": [
    "a. { x: x * x for x in range(5) }"
   ]
  },
  {
   "cell_type": "code",
   "execution_count": null,
   "id": "e0af7e21-a889-40df-8c91-83e85497e4ab",
   "metadata": {},
   "outputs": [],
   "source": [
    "a = { x: x * x for x in range(5) }"
   ]
  },
  {
   "cell_type": "code",
   "execution_count": null,
   "id": "47c0879c-6b0b-47ef-bc1c-b2d887c92a53",
   "metadata": {},
   "outputs": [],
   "source": [
    "a"
   ]
  },
  {
   "cell_type": "code",
   "execution_count": null,
   "id": "51012327-974a-4997-8edf-5695295a8d4b",
   "metadata": {},
   "outputs": [],
   "source": []
  }
 ],
 "metadata": {
  "kernelspec": {
   "display_name": "Python 3 (ipykernel)",
   "language": "python",
   "name": "python3"
  },
  "language_info": {
   "codemirror_mode": {
    "name": "ipython",
    "version": 3
   },
   "file_extension": ".py",
   "mimetype": "text/x-python",
   "name": "python",
   "nbconvert_exporter": "python",
   "pygments_lexer": "ipython3",
   "version": "3.12.4"
  }
 },
 "nbformat": 4,
 "nbformat_minor": 5
}
