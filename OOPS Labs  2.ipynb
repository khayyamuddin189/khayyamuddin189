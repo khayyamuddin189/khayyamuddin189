{
 "cells": [
  {
   "cell_type": "markdown",
   "id": "dda0116a-cab9-4876-adfd-265315689a43",
   "metadata": {},
   "source": [
    "# ***Name : khayyam***\n",
    "# ***Req No : 23JZELE0548***\n",
    "# **Lab : 02**"
   ]
  },
  {
   "cell_type": "markdown",
   "id": "84277f6c-704b-441f-8cf4-3176b9174f5a",
   "metadata": {},
   "source": [
    "# Lab Report"
   ]
  },
  {
   "cell_type": "code",
   "execution_count": 1,
   "id": "0d584dc5-0a32-48e0-9285-165a0dea7519",
   "metadata": {},
   "outputs": [
    {
     "name": "stdout",
     "output_type": "stream",
     "text": [
      "35\n"
     ]
    }
   ],
   "source": [
    "def voltage(current,resistance):   # define function\n",
    "    volt = current * resistance\n",
    "    return volt\n",
    "# argument passing by positional argument\n",
    "current_p = 5\n",
    "resistance_p = 7\n",
    "volt1 = voltage(current_p,resistance_p)  # call the function \n",
    "print(volt1)"
   ]
  },
  {
   "cell_type": "code",
   "execution_count": 2,
   "id": "a94aa62e-a1a2-4c1a-8527-e96b42c8ee8c",
   "metadata": {},
   "outputs": [
    {
     "name": "stdout",
     "output_type": "stream",
     "text": [
      "35\n"
     ]
    }
   ],
   "source": [
    "# argument passing by keyword argumnet\n",
    "volt2 = voltage(current = current_p, resistance = resistance_p) # call the function \n",
    "print(volt2)"
   ]
  },
  {
   "cell_type": "code",
   "execution_count": 3,
   "id": "16a3289d-71c6-476d-af84-944a896be560",
   "metadata": {},
   "outputs": [
    {
     "name": "stdout",
     "output_type": "stream",
     "text": [
      "8\n"
     ]
    }
   ],
   "source": [
    "# argument passing with a defult value\n",
    "def voltage2(current,resistance=2): # define function\n",
    "    volt = current * resistance\n",
    "    return volt\n",
    "currnet_ = 4\n",
    "volt = voltage2(currnet_)   # call the function \n",
    "print(volt)"
   ]
  },
  {
   "cell_type": "code",
   "execution_count": null,
   "id": "c4b39609-edf2-44d2-a1f8-a3e194f8b51e",
   "metadata": {},
   "outputs": [],
   "source": [
    "# give less number of argument in to function\n",
    "def voltage3(current,resistance):  # define function\n",
    "    volt = current * resistance\n",
    "    return volt\n",
    "volt1 = voltage3(5) # it show error beacuse one argument is missing in the positionol arguments\n",
    "print(volt1)"
   ]
  },
  {
   "cell_type": "code",
   "execution_count": null,
   "id": "42735c91-d34a-4ca6-9944-742bb41734c3",
   "metadata": {},
   "outputs": [],
   "source": [
    "def voltage3(current,resistance):\n",
    "    volt = current * resistance\n",
    "    return volt\n",
    "current_p = 3\n",
    "resistance_p = 7\n",
    "volt = voltage(current=current_p,resistance) # it show error that positional argument follows keyword argument "
   ]
  },
  {
   "cell_type": "markdown",
   "id": "7aec9f3f-42ad-4fcb-b3bd-899d0beb35b3",
   "metadata": {},
   "source": [
    "# Lab practice"
   ]
  },
  {
   "cell_type": "markdown",
   "id": "d533b8d5-ebd5-4b1a-8ea5-dd19bd4a86a1",
   "metadata": {
    "jp-MarkdownHeadingCollapsed": true
   },
   "source": [
    "**String formatting**"
   ]
  },
  {
   "cell_type": "markdown",
   "id": "eb13eadb-27b8-484b-ae62-df9e57a7a8b1",
   "metadata": {},
   "source": [
    "1. Observe the output of the following if:"
   ]
  },
  {
   "cell_type": "code",
   "execution_count": null,
   "id": "9bc171d9-e525-4bc4-ad7e-186138227a53",
   "metadata": {},
   "outputs": [],
   "source": [
    "errno = 50159747054\n",
    "name = 'Bob'\n",
    "print('Hello, %s' % name)\n",
    "print('Hey %s, there is a 0x%x error!' % (name, errno))\n",
    "print('Hey %(name)s, there is a 0x%(errno)x error!' % { \"name\": name, \"errno\": errno })"
   ]
  },
  {
   "cell_type": "markdown",
   "id": "9d1b4ff7-301e-413a-a739-8dc78fadf974",
   "metadata": {},
   "source": [
    "2. Observe the output of: (Mostly used)"
   ]
  },
  {
   "cell_type": "code",
   "execution_count": null,
   "id": "d00b55f5-c2cf-44d7-a953-a110358ff769",
   "metadata": {},
   "outputs": [],
   "source": [
    "print('Hello, {}'.format(name))"
   ]
  },
  {
   "cell_type": "markdown",
   "id": "a46569ca-ac2b-4ded-a911-9ced27c16f5c",
   "metadata": {},
   "source": [
    "3. Observe the output of: (Recommended for Python 3.6+)"
   ]
  },
  {
   "cell_type": "code",
   "execution_count": null,
   "id": "677c459d-620c-49b7-84c1-87225f2f9986",
   "metadata": {},
   "outputs": [],
   "source": [
    "print(f'Hello, {name}!')"
   ]
  },
  {
   "cell_type": "markdown",
   "id": "188cc0c4-bac6-4ffd-84cf-f4d7cd79fa1c",
   "metadata": {},
   "source": [
    "4. Observe the output of:"
   ]
  },
  {
   "cell_type": "code",
   "execution_count": null,
   "id": "6f3cdbbf-1d15-4dce-97ae-8955487d4b5c",
   "metadata": {},
   "outputs": [],
   "source": [
    "# a:\n",
    "from string import Template\n",
    "2\n",
    "t = Template('Hey, $name!')\n",
    "t.substitute(name=name)"
   ]
  },
  {
   "cell_type": "code",
   "execution_count": null,
   "id": "759b965c-5c17-4a53-bfe3-bfab4487d297",
   "metadata": {},
   "outputs": [],
   "source": [
    "# b:\n",
    "templ_string = 'Hey $name, there is a $error error!'\n",
    "Template(templ_string).substitute(name=name, error=hex(errno))"
   ]
  },
  {
   "cell_type": "markdown",
   "id": "f3904d2c-8096-4205-9ced-7a6cdcc949c4",
   "metadata": {},
   "source": [
    "Built-in Function:"
   ]
  },
  {
   "cell_type": "markdown",
   "id": "47936034-13d1-49f8-bf24-862eef16d05b",
   "metadata": {},
   "source": [
    "i. Use len() and find the length of three lists and two strings. "
   ]
  },
  {
   "cell_type": "code",
   "execution_count": 1,
   "id": "4892e98d-6cf1-4e51-a4cd-11ea22c00b2a",
   "metadata": {},
   "outputs": [
    {
     "name": "stdout",
     "output_type": "stream",
     "text": [
      "7\n",
      "7\n",
      "4\n"
     ]
    }
   ],
   "source": [
    "l1 = [2,4,5,6,7,8,9]\n",
    "l2 = ['a','b','u','hello', 3.6,8,99.8]\n",
    "l3 = ['i','am','shahmeer','shah']\n",
    "print(len(l1))\n",
    "print(len(l2))\n",
    "print(len(l3))"
   ]
  },
  {
   "cell_type": "markdown",
   "id": "c945604c-451f-4aa6-821c-0fd74210741a",
   "metadata": {},
   "source": [
    "i. Use len() and find the length of three lists and two strings. "
   ]
  },
  {
   "cell_type": "code",
   "execution_count": null,
   "id": "74e48526-84e7-4868-8598-995ed1d53983",
   "metadata": {},
   "outputs": [],
   "source": [
    "str1 = 'who are you bro'\n",
    "str2 = 'I am khayyam uddin'\n",
    "print(len(str1))\n",
    "print(len(str2))"
   ]
  },
  {
   "cell_type": "markdown",
   "id": "00e1e8d6-e25d-41c4-82b5-e296bbc32651",
   "metadata": {},
   "source": [
    "ii. Use for three example .is_integer()."
   ]
  },
  {
   "cell_type": "code",
   "execution_count": null,
   "id": "1345a85c-27ad-4181-8628-3bbf9653c8cd",
   "metadata": {},
   "outputs": [],
   "source": [
    "a = 2.6\n",
    "a.is_integer()"
   ]
  },
  {
   "cell_type": "code",
   "execution_count": null,
   "id": "20a34264-f47f-4f9b-9a8d-52258bcafb8e",
   "metadata": {},
   "outputs": [],
   "source": [
    "b = 35.0\n",
    "b.is_integer()"
   ]
  },
  {
   "cell_type": "code",
   "execution_count": null,
   "id": "d94a1807-5db7-43b0-954f-0fe862a77b5f",
   "metadata": {},
   "outputs": [],
   "source": [
    "c=3349.0\n",
    "c.is_integer()"
   ]
  },
  {
   "cell_type": "markdown",
   "id": "6e466a04-e4d6-4108-a957-a8898845c7b0",
   "metadata": {},
   "source": [
    "iii. Use for three example .conjugate()"
   ]
  },
  {
   "cell_type": "code",
   "execution_count": null,
   "id": "379c4ed6-0b8d-4200-8f46-7614adbc4de5",
   "metadata": {},
   "outputs": [],
   "source": [
    "c = 9 + 9j\n",
    "d = 3 + 12j\n",
    "print(c.conjugate())\n",
    "print(d.conjugate())"
   ]
  },
  {
   "cell_type": "markdown",
   "id": "e6ad89b8-46f4-438b-bc71-dc7c91d6bc3f",
   "metadata": {},
   "source": [
    "**Function**"
   ]
  },
  {
   "cell_type": "markdown",
   "id": "2b6690b8-9c88-4373-aed7-dd1471a1bc41",
   "metadata": {},
   "source": [
    "Task No 01"
   ]
  },
  {
   "cell_type": "markdown",
   "id": "58201f6b-bc46-447b-a40d-19d919b32858",
   "metadata": {},
   "source": [
    "Define a **function** that will take the name and registration number of a student and print it.\n",
    "Include appropriate docstrings.\n",
    "* The argument pass will like positional arguments.\n",
    "* The arguments passing will like keyword arguments.\n",
    "* The arguments passing will like default arguments.\n",
    "* Pass the arguments of one style to the other.\n",
    "* Passing less number of arguments and check the error message.\n",
    "* Verify that whether positional argument follows keyword argument"
   ]
  },
  {
   "cell_type": "code",
   "execution_count": null,
   "id": "4ceb9098-8328-4fc0-a6ef-f51b8a8ad2c2",
   "metadata": {},
   "outputs": [],
   "source": [
    "def student():  # define simple function\n",
    "    pass"
   ]
  },
  {
   "cell_type": "code",
   "execution_count": null,
   "id": "8a7abefd-af1d-4c94-99d1-f3e4cdf50df6",
   "metadata": {},
   "outputs": [],
   "source": [
    "def student(name=\"Enter Name\",reg_no=\"Enter Reg No\"):  \n",
    "    \"\"\" The function give us Name and Reg No of student\n",
    "        take parameter as Name and Reg No\n",
    "        and return student Name and Reg No\n",
    "    \"\"\"\n",
    "    student = name,reg_no\n",
    "    return student\n",
    "print(student.__doc__)"
   ]
  },
  {
   "cell_type": "code",
   "execution_count": null,
   "id": "ccbca4f1-d0b5-4269-b5d7-9d0d34972b15",
   "metadata": {},
   "outputs": [],
   "source": [
    "print(student('shahmeer shah','23jzele0541')) #positional argument"
   ]
  },
  {
   "cell_type": "code",
   "execution_count": null,
   "id": "ce0f77df-949f-4c7a-8b1f-b637aeb76b5a",
   "metadata": {},
   "outputs": [],
   "source": [
    "print(student(name='shahmeer shah',reg_no='23jzele0541')) # keyword argument"
   ]
  },
  {
   "cell_type": "code",
   "execution_count": null,
   "id": "cdc57b9a-065e-4a9f-96b9-5bb0340a956d",
   "metadata": {},
   "outputs": [],
   "source": [
    "print(student()) # default parameter"
   ]
  },
  {
   "cell_type": "code",
   "execution_count": null,
   "id": "acd54a25-4a0e-45f1-b526-a5e6675f31a5",
   "metadata": {},
   "outputs": [],
   "source": [
    "def student(name,reg_no='0000'):  # function with one default parameter\n",
    "    student = name,reg_no\n",
    "    return student\n",
    "print(student(name='shahmeer shah',reg_no='23jzele0541'))  # argument pass of one style to another style"
   ]
  },
  {
   "cell_type": "code",
   "execution_count": null,
   "id": "47cf0bd7-6149-4212-8914-9b2ee98df3df",
   "metadata": {},
   "outputs": [],
   "source": [
    "def student(name,reg_no):  # function with no default parameter\n",
    "    student = name,reg_no\n",
    "    return student"
   ]
  },
  {
   "cell_type": "code",
   "execution_count": null,
   "id": "7d2e628a-ad4b-4154-a084-fa2d57a52aef",
   "metadata": {},
   "outputs": [],
   "source": [
    "print(student('Shahmeer'))  # student() missing 1 required positional argument: 'reg_no'"
   ]
  },
  {
   "cell_type": "code",
   "execution_count": null,
   "id": "d79c83e4-c47c-42c0-9f54-2aeea8d9d073",
   "metadata": {},
   "outputs": [],
   "source": [
    "print(student(name='Shahmeer','23jze;e0541')) # error: positional argument follows keyword argument"
   ]
  },
  {
   "cell_type": "markdown",
   "id": "c4692111-872c-42a9-9ad4-dff990c32837",
   "metadata": {},
   "source": [
    " Task No  02"
   ]
  },
  {
   "cell_type": "markdown",
   "id": "56dc7848-e173-4730-9315-4638bc2f3e03",
   "metadata": {
    "jp-MarkdownHeadingCollapsed": true
   },
   "source": [
    "Define a function that will take the parameters as current and resistance and will output the\n",
    "voltage across the resistance. Include appropriate docstrings.\n",
    "* The argument pass will like positional arguments.\n",
    "* The arguments passing will like keyword arguments.\n",
    "* The arguments passing will like default arguments.\n",
    "* Pass the arguments of one style to the other.\n",
    "* Passing less number of arguments and check the error message.\n",
    "* Verify that whether positional argument follows keyword argument."
   ]
  },
  {
   "cell_type": "code",
   "execution_count": null,
   "id": "1a2c858e-4275-4cb7-91e3-c8a76e797307",
   "metadata": {},
   "outputs": [],
   "source": [
    "def voltage():\n",
    "    pass"
   ]
  },
  {
   "cell_type": "code",
   "execution_count": null,
   "id": "43a1c11a-7cd6-4af1-9f6c-bc4f638e646f",
   "metadata": {},
   "outputs": [],
   "source": [
    "def voltage(current=1,resistance=1):\n",
    "    \"\"\"\n",
    "    Calculate the voltage across a resistor using Ohm's Law.\n",
    "    Parameters:\n",
    "    current (float): \n",
    "    resistance (float)\n",
    "    Returns:\n",
    "    The voltage across the resistor (in volts).\n",
    "    \"\"\"\n",
    "    voltage = current * resistance\n",
    "    return voltage\n",
    "print(voltage.__doc__)"
   ]
  },
  {
   "cell_type": "code",
   "execution_count": null,
   "id": "2c4b38ec-787b-49fc-8d17-8113b64fe53e",
   "metadata": {},
   "outputs": [],
   "source": [
    "print(voltage(4,8)) # positional argument"
   ]
  },
  {
   "cell_type": "code",
   "execution_count": null,
   "id": "1adc58af-cae7-4674-affe-3d863829b26b",
   "metadata": {},
   "outputs": [],
   "source": [
    "print(voltage(current=6,resistance=4)) # keyword argument"
   ]
  },
  {
   "cell_type": "code",
   "execution_count": null,
   "id": "d3166294-604d-41ec-afd1-f6b5b6dfbf8d",
   "metadata": {},
   "outputs": [],
   "source": [
    "def voltage(current=1,resistance=1):   # function with one default parameter\n",
    "    voltage = current * resistance\n",
    "    return voltage   # argument pass of one style to another style "
   ]
  },
  {
   "cell_type": "code",
   "execution_count": null,
   "id": "1c68c0d2-39e8-47c3-b507-0ffa1e3e4717",
   "metadata": {},
   "outputs": [],
   "source": [
    "print(voltage(current=23,resistance=10))"
   ]
  },
  {
   "cell_type": "code",
   "execution_count": null,
   "id": "751b3ca7-e246-4c67-ac40-0ac4cd465ddd",
   "metadata": {},
   "outputs": [],
   "source": [
    "def voltage(current,resistance):   # function without default parameter\n",
    "    voltage = current * resistance\n",
    "    return voltage"
   ]
  },
  {
   "cell_type": "code",
   "execution_count": null,
   "id": "f981310e-8afb-4651-9bd1-f70f9479d4e9",
   "metadata": {},
   "outputs": [],
   "source": [
    "print(voltage(5)) # voltage() missing 1 required positional argument: 'resistance'"
   ]
  },
  {
   "cell_type": "code",
   "execution_count": null,
   "id": "183fcc38-589f-4ba3-863c-f2bed27cd4b5",
   "metadata": {},
   "outputs": [],
   "source": [
    "print(voltage(current=8,29) # positional argument follows keyword argument"
   ]
  },
  {
   "cell_type": "markdown",
   "id": "baaa13d8-e01c-4042-a03d-f0fb96a2c87c",
   "metadata": {},
   "source": [
    "Task No 03"
   ]
  },
  {
   "cell_type": "markdown",
   "id": "c787115c-73ac-420d-a55a-bd5a11115b1b",
   "metadata": {},
   "source": [
    "Define a function with *name charge_from_solar* and pass the state of charge (SOC) to the\n",
    "function. If SOC is less than 20% display charging if it is above 90% do nothing and return and if it\n",
    "is in between display that battery will be charge and there is --- % of charge in the battery. Include\n",
    "3 appropriate docstrings. Print the doc string. Also add annotation to the function parameters and\n",
    "return type. "
   ]
  },
  {
   "cell_type": "code",
   "execution_count": null,
   "id": "800582ac-cc34-4148-97ff-aa80d1e01ba8",
   "metadata": {},
   "outputs": [],
   "source": [
    "def charge_from_solar():   # define function\n",
    "    pass"
   ]
  },
  {
   "cell_type": "code",
   "execution_count": null,
   "id": "b2f72fef-a221-4219-98e2-09f0ddba4f7a",
   "metadata": {},
   "outputs": [],
   "source": [
    "def charge_from_solar(SOC: float) -> None:   # gives arguments to function\n",
    "    \"\"\"Determines the charging status of a battery based on its state of charge (SOC).\n",
    "    Parameters:\n",
    "               SOC (float): \n",
    "    Returns:\n",
    "            None:\n",
    "    Behavior:\n",
    "            -> If SOC < 20%, the function displays \"Charging\"\n",
    "            -> If SOC > 90%, the function does nothing and returns.\n",
    "            -> If 20% <= SOC <= 90%, the function displays \"Battery will be charged\" along with the current SOC.\n",
    "    \"\"\"\n",
    "    \n",
    "print(charge_from_solar.__doc__)  # print docstring"
   ]
  },
  {
   "cell_type": "code",
   "execution_count": null,
   "id": "b48c86a0-4bd5-45a3-956d-e7904d5a1460",
   "metadata": {},
   "outputs": [],
   "source": [
    "def charge_from_solar(SOC: float) -> None:\n",
    "    if SOC < 20:  \n",
    "        print(\"Charging\")\n",
    "    elif SOC > 90:\n",
    "        return\n",
    "    else:\n",
    "        print(f\"Battery will charge and there is {SOC}% of charging\")    "
   ]
  },
  {
   "cell_type": "code",
   "execution_count": null,
   "id": "420806e4-cb2a-44d7-abca-88f940b99b9b",
   "metadata": {},
   "outputs": [],
   "source": [
    "print(charge_from_solar(45))     # calling fucntion"
   ]
  },
  {
   "cell_type": "code",
   "execution_count": null,
   "id": "740082b5-c84d-427c-87a6-56db4aed5ddb",
   "metadata": {},
   "outputs": [],
   "source": [
    "print(charge_from_solar.__annotations__)  # show the annotation of the function"
   ]
  },
  {
   "cell_type": "markdown",
   "id": "51db3882-8a43-40f3-b693-fcf8936d5a47",
   "metadata": {
    "jp-MarkdownHeadingCollapsed": true
   },
   "source": [
    "Task No 04"
   ]
  },
  {
   "cell_type": "markdown",
   "id": "f1069564-c7d4-4c37-8725-837ba11620f9",
   "metadata": {},
   "source": [
    "Define three function. Function one name is resistance which will return a list of five resistances.\n",
    "The second function name is voltage which will return a list of voltage across each of these\n",
    "resisters. Include appropriate docstrings. Print the doc string. Also add annotation to the function\n",
    "parameters and return type.\n",
    "* Pass these two lists to a third function name current which will calculate the current\n",
    "flowing through each resister and will return that list to the main program. The main\n",
    "program will print all the three lists in well formatting.\n",
    "* In part a return the data in tuple.\n",
    "* Return the data from current function as dictionary with keys current_1 to current_5. "
   ]
  },
  {
   "cell_type": "code",
   "execution_count": null,
   "id": "5a015122-db0c-459d-a5ac-1f339b9e2f5d",
   "metadata": {},
   "outputs": [],
   "source": [
    "from typing import List, Tuple, Dict \n",
    "def resistance() -> list[float]:       # function\n",
    "    \"\"\"retrun  a list of resisatance\n",
    "    the list is float\"\"\"\n",
    "    return [10,20,30,40,50]\n",
    "def voltage() -> list[float]:         # function\n",
    "    \"\"\"retrun  a list of voltage\n",
    "    the list is float\"\"\"\n",
    "    return [100,20,300,400,500]\n",
    "print(resistance.__doc__)     # print docstring\n",
    "print(voltage.__doc__)        # print docstring"
   ]
  },
  {
   "cell_type": "code",
   "execution_count": null,
   "id": "d5d49521-548e-4182-a0da-ca4cb227854c",
   "metadata": {},
   "outputs": [],
   "source": [
    "resistance()     # calling fucntion"
   ]
  },
  {
   "cell_type": "code",
   "execution_count": null,
   "id": "bd91a61f-4603-43b1-9424-b04f23f775c6",
   "metadata": {},
   "outputs": [],
   "source": [
    "voltage()      # calling fucntion"
   ]
  },
  {
   "cell_type": "code",
   "execution_count": null,
   "id": "5ea18c3c-68a0-462c-9235-1fc8b27e0826",
   "metadata": {},
   "outputs": [],
   "source": [
    "def current(resistance: list[float],voltage: list[float]) -> Tuple[list[float],Dict[str,float]]:  \n",
    "    \"\"\"\n",
    "    Calculates the current flowing through each resistor using Ohm's law (I = V/R).    \n",
    "    Parameters: \n",
    "    List of resistances in ohms.\n",
    "    List of voltages across each resistor in volts. \n",
    "    Returns:tuple[List[float], Dict[str, float]]: A tuple containing:\n",
    "        - A list of currents through each resistor in amperes.\n",
    "        - A dictionary where the keys are 'current_1' to 'current_5' and the values are the currents.\n",
    "    \"\"\"\n",
    "    currents=[v/r for v,r in zip(voltage,resistance)]\n",
    "    current_dict = {f'current_{i+1}': currents[i] for i in range(len(currents))}\n",
    "    return currents, current_dict\n",
    "print(current.__doc__)     # print docstring\n",
    "\n",
    "resistances = resistance()\n",
    "voltages = voltage()\n",
    "currents,current_dict = current(voltages,resistances)"
   ]
  },
  {
   "cell_type": "code",
   "execution_count": null,
   "id": "0e09483d-c9f5-4d72-a784-40eae80e2bd9",
   "metadata": {},
   "outputs": [],
   "source": [
    "print(currents,)        # calling fucntion \n",
    "print(current_dict,)    # calling fucntion"
   ]
  },
  {
   "cell_type": "code",
   "execution_count": null,
   "id": "7156b4d6-9e80-4673-833b-cc1b9c190611",
   "metadata": {},
   "outputs": [],
   "source": [
    "print(resistance.__annotations__)      # show the annotation of the function\n",
    "print(voltage.__annotations__)         # show the annotation of the function"
   ]
  },
  {
   "cell_type": "markdown",
   "id": "90815b40-6ed4-4f19-aaf7-a73241395136",
   "metadata": {
    "jp-MarkdownHeadingCollapsed": true
   },
   "source": [
    "Task NO 05"
   ]
  },
  {
   "cell_type": "markdown",
   "id": "6cfa6f0f-ab3d-4ad3-a144-09d70d17b9ef",
   "metadata": {},
   "source": [
    "Define a function with name series. The function will take a list or tuple of resisters. The function\n",
    "will return the net resistance. Note that your function must be capable for any number of\n",
    "resisters. Note: Use elegant approach. Include appropriate docstrings. Print the doc string. Also\n",
    "add annotation to the function parameters and return type. In addition, display annotation using\n",
    "special dunder attribute of the function called *__annotations__.*"
   ]
  },
  {
   "cell_type": "code",
   "execution_count": null,
   "id": "b296b6e8-1245-4167-89ec-5b7818a6e5ba",
   "metadata": {},
   "outputs": [],
   "source": [
    "def series():\n",
    "    pass"
   ]
  },
  {
   "cell_type": "code",
   "execution_count": null,
   "id": "b8398df7-3d9a-4d30-8a71-fdea21b8d941",
   "metadata": {},
   "outputs": [],
   "source": [
    "def series(lst1=[]):     # define function\n",
    "    \"\"\" function which retrun  net resistance\n",
    "    paramter are resistance in the form of list\n",
    "    retrun net resistance\n",
    "    \"\"\"\n",
    "    return sum(lst1)\n",
    "print(series.__doc__)    # print docstring"
   ]
  },
  {
   "cell_type": "code",
   "execution_count": null,
   "id": "9d31a9c7-3920-4237-969e-f2b857851175",
   "metadata": {},
   "outputs": [],
   "source": [
    "series([3,3])       # calling fucntion"
   ]
  },
  {
   "cell_type": "code",
   "execution_count": null,
   "id": "bc6fabb3-8039-44d8-a2ea-042beba55bd4",
   "metadata": {},
   "outputs": [],
   "source": [
    "series([3,4,5,6,7])   # calling fucntion"
   ]
  },
  {
   "cell_type": "code",
   "execution_count": null,
   "id": "6b5439dc-34da-440b-a30f-e85a716266aa",
   "metadata": {},
   "outputs": [],
   "source": [
    "print(series.__annotations__)     # show the annotation of the function"
   ]
  },
  {
   "cell_type": "markdown",
   "id": "9db1ab6a-8c64-4415-a1c9-4b5e72f08b56",
   "metadata": {
    "jp-MarkdownHeadingCollapsed": true
   },
   "source": [
    "Task no 6"
   ]
  },
  {
   "cell_type": "markdown",
   "id": "62d49ee6-3f2e-435c-bc16-b24ad97b39eb",
   "metadata": {},
   "source": [
    "Define a function with name parallel. The function will take a list or tuple of resisters. The function\n",
    "will return the net resistance. Note that your function must be capable for any number of\n",
    "resisters. Note: Use elegant approach. Include appropriate docstrings. Print the doc string. Also\n",
    "add annotation to the function parameters and return type. In addition, display annotation using\n",
    "special dunder attribute of the function called __annotations__Define a function with name parallel. The function will take a list or tuple of resisters. The function\n",
    "will return the net resistance. Note that your function must be capable for any number of\n",
    "resisters. Note: Use elegant approach. Include appropriate docstrings. Print the doc string. Also\n",
    "add annotation to the function parameters and return type. In addition, display annotation using\n",
    "special dunder attribute of the function called __annotations__"
   ]
  },
  {
   "cell_type": "code",
   "execution_count": null,
   "id": "81504306-c2a5-4af6-9c97-ae5df349ceaf",
   "metadata": {},
   "outputs": [],
   "source": [
    "def parallal(list1=[]):       # define function\n",
    "    pass"
   ]
  },
  {
   "cell_type": "code",
   "execution_count": null,
   "id": "c7677cc3-48dc-4f9c-9ba2-ea88fdac296a",
   "metadata": {},
   "outputs": [],
   "source": [
    "def parallal(list1=[]):\n",
    "    \"\"\" function calculate net resistance\n",
    "    paramter is resistances in the form of list\n",
    "    retrun net resistance in pararllal\n",
    "    \"\"\"\n",
    "    return 1 / sum(1/x for x in list1) \n",
    "print(parallal.__doc__)     # print docstring"
   ]
  },
  {
   "cell_type": "code",
   "execution_count": null,
   "id": "c2aa39ff-98aa-4c0c-b84c-46f91c12175f",
   "metadata": {},
   "outputs": [],
   "source": [
    "print(parallal([4,4]))           # calling fucntion"
   ]
  },
  {
   "cell_type": "code",
   "execution_count": null,
   "id": "82ad5a2a-12da-41bb-b28a-2b71bfa7a71a",
   "metadata": {},
   "outputs": [],
   "source": [
    "print(parallal([3,4,6,7]))      # calling fucntion"
   ]
  },
  {
   "cell_type": "markdown",
   "id": "ea2943ad-90ae-44d3-be9f-6a3049750294",
   "metadata": {
    "jp-MarkdownHeadingCollapsed": true
   },
   "source": [
    "Task No 07"
   ]
  },
  {
   "cell_type": "markdown",
   "id": "a49c48fd-e20e-4fb6-9ee0-2877db600c17",
   "metadata": {},
   "source": [
    "Define a function with name series. The function will take resisters values and use *args for tuple\n",
    "packing. The function will return the net resistance. Note that your function must be capable for\n",
    "any number of resisters. Note: Use elegant approach. Include appropriate docstrings. Also add\n",
    "annotation to the function parameters and return type. In addition, display annotation using\n",
    "special dunder attribute of the function called __annotations__."
   ]
  },
  {
   "cell_type": "code",
   "execution_count": null,
   "id": "3b1cc539-eba7-4f11-b358-6d0ac34f6f72",
   "metadata": {},
   "outputs": [],
   "source": [
    "def series():    # define function\n",
    "    pass"
   ]
  },
  {
   "cell_type": "code",
   "execution_count": null,
   "id": "bc19d2a3-2218-4197-be86-ba09f58e7f23",
   "metadata": {},
   "outputs": [],
   "source": [
    "def series(*resistance: float) -> float:\n",
    "    \"\"\"function calculate net resistance\n",
    "parameter is resistances in the form of tuple\n",
    "retrun net resistance in pararllal\n",
    "    \"\"\"\n",
    "    return sum(resistance)\n",
    "print(series.__doc__)      # print docstring"
   ]
  },
  {
   "cell_type": "code",
   "execution_count": null,
   "id": "a920bf93-fdcc-428f-a14c-2232d10842b1",
   "metadata": {},
   "outputs": [],
   "source": [
    "print(series(2,5))        # calling fucntion"
   ]
  },
  {
   "cell_type": "code",
   "execution_count": null,
   "id": "134f3a22-23af-455d-8379-85562e3f840f",
   "metadata": {},
   "outputs": [],
   "source": [
    "print(series(4,5,7,2,8,9,4))   # calling fucntion"
   ]
  },
  {
   "cell_type": "code",
   "execution_count": null,
   "id": "aa3d8fce-5028-4ce5-974d-37bcccf334de",
   "metadata": {},
   "outputs": [],
   "source": [
    "print(series.__annotations__)      # show the annotation of the function"
   ]
  },
  {
   "cell_type": "markdown",
   "id": "6292e1bd-f510-4e57-9ce0-4515e29008d4",
   "metadata": {
    "jp-MarkdownHeadingCollapsed": true
   },
   "source": [
    "Task No 08"
   ]
  },
  {
   "cell_type": "markdown",
   "id": "acf50ce0-40bf-450d-afbb-49ba49d26396",
   "metadata": {},
   "source": [
    "Define a function with name parallel. The function will take resisters values and use *argsfor tuple\n",
    "packing. The function will return the net resistance. Note that your function must be capable for\n",
    "any number of resisters. Note: Use elegant approach. Include appropriate docstrings. Print the\n",
    "doc string. Also add annotation to the function parameters and return type. In addition, display\n",
    "annotation using special dunder attribute of the function called __annotations__."
   ]
  },
  {
   "cell_type": "code",
   "execution_count": null,
   "id": "050ba82a-967a-4684-9cad-ff2a279bc63b",
   "metadata": {},
   "outputs": [],
   "source": [
    "def parallal():       # define function\n",
    "    pass"
   ]
  },
  {
   "cell_type": "code",
   "execution_count": null,
   "id": "783241cb-b1f0-47ee-93ae-375d19312900",
   "metadata": {},
   "outputs": [],
   "source": [
    "def parallal(*resistance: float) -> float:\n",
    "    \"\"\"function calculate net resistance\n",
    "parameter is resistances in the form of tuple\n",
    "retrun net resistance in pararllal\n",
    "    \"\"\"\n",
    "    return 1 / sum(1/x for x in resistance)\n",
    "print(parallal.__doc__)    # print docstring"
   ]
  },
  {
   "cell_type": "code",
   "execution_count": null,
   "id": "63fadfaa-f54b-4cd9-b9bc-80c78918c4ed",
   "metadata": {},
   "outputs": [],
   "source": [
    "print(parallal(6,6))   # calling fucntion"
   ]
  },
  {
   "cell_type": "code",
   "execution_count": null,
   "id": "1d276843-bd06-4c97-b996-a411f1911872",
   "metadata": {},
   "outputs": [],
   "source": [
    "print(parallal(2,3,4,5,6,7,3,9))     # calling fucntion"
   ]
  },
  {
   "cell_type": "code",
   "execution_count": null,
   "id": "6d19f3c3-0447-44cc-9f6a-190a2356ffb8",
   "metadata": {},
   "outputs": [],
   "source": [
    "print(parallal.__annotations__)    # show the annotation of the function"
   ]
  },
  {
   "cell_type": "markdown",
   "id": "ca38de8b-74a4-4b6f-9d4e-f91fe889a191",
   "metadata": {
    "jp-MarkdownHeadingCollapsed": true
   },
   "source": [
    "Task NO 09"
   ]
  },
  {
   "cell_type": "markdown",
   "id": "75ec3e35-9ce0-424e-a3bc-ff7e3fa344a1",
   "metadata": {},
   "source": [
    "Consider a scenario in which you receive the data of battery SOC (% age), solar generation (Kw)\n",
    "and market price (per unit in rupees) from a hybrid solar inverter that are connected with green\n",
    "meter in a list or tuple like [60, 2, 60] or (60, 2, 60). Design a function that will print these values\n",
    "in a well format. Note use the tuple or list unpacking. Include appropriate docstrings. Print the\n",
    "doc string. Also add annotation to the function parameters and return type. In addition, display\n",
    "annotation using special dunder attribute of the function called __annotations__."
   ]
  },
  {
   "cell_type": "code",
   "execution_count": null,
   "id": "fbf81538-b43e-44df-b037-0e2e90f88653",
   "metadata": {},
   "outputs": [],
   "source": [
    "def display_inverter_data():      # define function\n",
    "    pass"
   ]
  },
  {
   "cell_type": "code",
   "execution_count": null,
   "id": "531e7893-406d-4ba1-950b-2bd1d65935da",
   "metadata": {},
   "outputs": [],
   "source": [
    "from typing import Tuple,List,Dict\n",
    "def display_inverter_data(data: Tuple) -> None:\n",
    "    \"\"\"Function that takes the data as tuple\n",
    "    it show the data or display it in well format:\n",
    "    return:\n",
    "           None\n",
    "            battery SOC(% age)\n",
    "            solar generation (kw)\n",
    "            market price (per unit in rupees)\n",
    "    \"\"\"\n",
    "     # unpacking the tuple\n",
    "    battery_soc, solar_genr, market_price = data \n",
    "    # In well_formating data\n",
    "    print(f\"Batter_SOC = {battery_soc}%\")        \n",
    "    print(f\"Solar_Generation = {solar_genr} kw\")\n",
    "    print(f\"Market_price = {market_price} Rs/unit\")\n",
    "print(display_inverter_data.__doc__)     # print docstring"
   ]
  },
  {
   "cell_type": "code",
   "execution_count": null,
   "id": "c23d9671-44b4-4924-aeb0-7a01a7159c08",
   "metadata": {},
   "outputs": [],
   "source": [
    "inverter_data = (90,2.5,45)\n",
    "display_inverter_data(inverter_data)    # calling fucntion"
   ]
  },
  {
   "cell_type": "code",
   "execution_count": null,
   "id": "d806a653-314d-4faa-a2fe-6b68b8f5050c",
   "metadata": {},
   "outputs": [],
   "source": [
    "print(display_inverter_data.__annotations__)    # show the annotation of the function"
   ]
  },
  {
   "cell_type": "markdown",
   "id": "6544e904-47ab-442e-a61c-1a6a346682e3",
   "metadata": {
    "jp-MarkdownHeadingCollapsed": true
   },
   "source": [
    "Task NO 10"
   ]
  },
  {
   "cell_type": "markdown",
   "id": "7dc022b8-fa18-4f0a-8c20-2ef6f80ff635",
   "metadata": {},
   "source": [
    "The more elegant approach is to pass dictionary and use dictionary unpacking. Consider a\n",
    "scenario in which you receive the data of battery SOC (% age), solar generation (Kw) and market\n",
    "price (per unit in rupees) from a hybrid solar inverter that are connected with green meter in a\n",
    "dictionary like {‘SOC’: 60, ‘solar generation’: 2, ‘price’: 60}. Design a function that will receive\n",
    "this dictionary and print these values in a well format. Include appropriate docstrings. Also add\n",
    "annotation to the function parameters and return type. In addition, display annotation using\n",
    "special dunder attribute of the function called __annotations__."
   ]
  },
  {
   "cell_type": "code",
   "execution_count": null,
   "id": "fa7d6bb6-f4af-455b-be42-1b0830557266",
   "metadata": {},
   "outputs": [],
   "source": [
    "def display_inverter_data():  # define function\n",
    "    pass"
   ]
  },
  {
   "cell_type": "code",
   "execution_count": null,
   "id": "6bbb9451-9098-453b-8aa3-654e9bf5d5c1",
   "metadata": {},
   "outputs": [],
   "source": [
    "def display_inverter_data(inverter_data: dict) -> None:\n",
    "    \"\"\"Function that pass the data as dictionary and use dictionary unpacking .\n",
    "    return: \n",
    "           None\n",
    "    it show the data or display it in well format:\n",
    "            battery SOC(% age)\n",
    "            solar generation (kw)\n",
    "            market price (per unit in rupees)\n",
    "    \"\"\"\n",
    "     # unpacking the dictionary\n",
    "    Battery_soc = inverter_data.get('Battery_soc')\n",
    "    solar_genr = inverter_data.get('solar_genr')\n",
    "    market_price = inverter_data.get('market_price')\n",
    "    # In well_formating data\n",
    "    print(f\"Batter SOC: {Battery_soc}%\")\n",
    "    print(f\"Solar Generation: {solar_genr} kw\")\n",
    "    print(f\"Market price: {market_price} Rs/unit\")\n",
    "    \n",
    "print(display_inverter_data.__doc__)    # print docstring"
   ]
  },
  {
   "cell_type": "code",
   "execution_count": null,
   "id": "e352cce5-87c6-4c21-a25e-3d46b7553d11",
   "metadata": {},
   "outputs": [],
   "source": [
    "data = {'Battery_soc': 59, 'solar_genr': 3, 'market_price': 33}\n",
    "display_inverter_data(data)    # calling function"
   ]
  },
  {
   "cell_type": "code",
   "execution_count": null,
   "id": "c28d0f18-9679-4b8a-b87b-66c19e9b11c4",
   "metadata": {},
   "outputs": [],
   "source": [
    "print(display_inverter_data.__annotations__)      # show the annotation of the function"
   ]
  },
  {
   "cell_type": "markdown",
   "id": "535ca803-5f13-4ad0-9034-3e1b9e53dcba",
   "metadata": {
    "jp-MarkdownHeadingCollapsed": true
   },
   "source": [
    "Task No 11"
   ]
  },
  {
   "cell_type": "markdown",
   "id": "e451a442-7782-49c0-a34e-831ad4a0eab2",
   "metadata": {},
   "source": [
    "Change the scenario while keep the more elegant approach of pass dictionary and use dictionary\n",
    "packing. Consider a scenario in which you receive the data of battery SOC (% age), solar\n",
    "generation (Kw) and market price (per unit in rupees) from a hybrid solar inverter that are\n",
    "connected with green meter in a dictionary like {‘SOC’: 60, ‘solar generation’: 2, ‘price’: 60}. Let\n",
    "you pass these value in a function call like solar (SOC = 60, solar generation = 2, price = 60).\n",
    "Design a function that will receive these argument as a dictionary and print these values in a\n",
    "well format. Include appropriate docstrings. Also add annotation to the function parameters and\n",
    "return type. In addition, display annotation using special dunder attribute of the function\n",
    "called __annotations__."
   ]
  },
  {
   "cell_type": "code",
   "execution_count": null,
   "id": "4522079d-4679-456c-b3dc-2630405f8e2c",
   "metadata": {},
   "outputs": [],
   "source": [
    "def solar():      # define function\n",
    "    pass"
   ]
  },
  {
   "cell_type": "code",
   "execution_count": null,
   "id": "9dd8dce9-1846-4df7-be50-07b0873788c9",
   "metadata": {},
   "outputs": [],
   "source": [
    "def solar(**data: dict) -> None:\n",
    "    \"\"\"Function that pass the data as dictionary and use dictionary unpacking but you can pass these\n",
    "    value in a function call.\n",
    "    return: \n",
    "           None\n",
    "    it show the data or display it in well format:\n",
    "            battery SOC(% age)\n",
    "            solar generation (kw)\n",
    "            market price (per unit in rupees)\n",
    "    \"\"\"\n",
    "     # unpacking the dictionary\n",
    "    SOC = data.get('SOC')\n",
    "    Generation = data.get('Generation')\n",
    "    Price = data.get('Price')\n",
    "    # In well_formating data\n",
    "    print(f\"SOC: {SOC}%\")\n",
    "    print(f\"Solar Generation: {Generation} kw\")\n",
    "    print(f\"Price: {Price} Rs/unit\")\n",
    "    \n",
    "print(solar.__doc__)     # print docstring"
   ]
  },
  {
   "cell_type": "code",
   "execution_count": null,
   "id": "90119ce8-5648-4abd-91b7-e09fb088d592",
   "metadata": {},
   "outputs": [],
   "source": [
    "Data={'SOC': 90, 'Generation': 1.5, 'Price': 55}\n",
    "print(solar(**Data))  # calling function with unpacking dictionary"
   ]
  },
  {
   "cell_type": "code",
   "execution_count": null,
   "id": "403727ff-c862-429e-a76e-c0b77f7b4710",
   "metadata": {},
   "outputs": [],
   "source": [
    "print(solar.__annotations__)        # show the annotation of the function"
   ]
  },
  {
   "cell_type": "markdown",
   "id": "c9f42f19-c00d-41ee-ade9-aaeb28354a69",
   "metadata": {},
   "source": [
    "xii. Understand the functions given below by run, modify and also design different scenarios. "
   ]
  },
  {
   "cell_type": "code",
   "execution_count": null,
   "id": "77cbfcf8-f08d-487c-9440-1fd39fc9f77a",
   "metadata": {},
   "outputs": [],
   "source": [
    "def f(a, b, *args, **kwargs):\n",
    " print(F'a = {a}')\n",
    " print(F'b = {b}')\n",
    " print(F'args = {args}')\n",
    " print(F'kwargs = {kwargs}')\n",
    "f(1, 2, 'foo', 'bar', 'baz', 'qux', x=100, y=200, z=300)"
   ]
  },
  {
   "cell_type": "code",
   "execution_count": null,
   "id": "c8210d88-4a31-4e8b-bf6f-759987b217b9",
   "metadata": {},
   "outputs": [],
   "source": [
    "def f(*args):\n",
    "    for i in args:\n",
    "        print(i)\n",
    "a = [1, 2, 3]\n",
    "t = (4, 5, 6)\n",
    "s = {7, 8, 9}\n",
    "f(*a, *t, *s)"
   ]
  },
  {
   "cell_type": "code",
   "execution_count": null,
   "id": "f8e2b489-4644-4c49-8c71-bff7ec25a622",
   "metadata": {},
   "outputs": [],
   "source": [
    "def f(**kwargs):\n",
    "    for k, v in kwargs.items():\n",
    "        print(k, '->', v)\n",
    "d1 = {'a': 1, 'b': 2}\n",
    "d2 = {'x': 3, 'y': 4}\n",
    "f(**d1, **d2)"
   ]
  },
  {
   "cell_type": "code",
   "execution_count": null,
   "id": "8932499c-2077-4d35-862d-6ef009ff5e4b",
   "metadata": {},
   "outputs": [],
   "source": [
    "def f(*args):\n",
    "    for i in args:\n",
    "        print(i)\n",
    "f(*[1, 2, 3], *[4, 5, 6])"
   ]
  },
  {
   "cell_type": "code",
   "execution_count": null,
   "id": "f796c82b-1142-42a4-8e42-0716b9ff71c5",
   "metadata": {},
   "outputs": [],
   "source": [
    "def f(**kwargs):\n",
    "    for k, v in kwargs.items():\n",
    "        print(k, '->', v)\n",
    "f(**{'a': 1, 'b': 2}, **{'x': 3, 'y': 4})"
   ]
  },
  {
   "cell_type": "code",
   "execution_count": null,
   "id": "75e597cd-6678-4f76-a25c-9aba30e6d31b",
   "metadata": {},
   "outputs": [],
   "source": [
    "def f(a: int, b: str) -> float:\n",
    "    print(a, b)\n",
    "    return(3.5)\n",
    "    f(1, 'foo')\n",
    "f.__annotations__\n"
   ]
  },
  {
   "cell_type": "markdown",
   "id": "d45c0c29-9e5f-445b-a22e-adf71848f6bc",
   "metadata": {},
   "source": [
    "If you want to assign a default value to a parameter that has an annotation,\n",
    "then the default value goes after the annotation:"
   ]
  },
  {
   "cell_type": "code",
   "execution_count": null,
   "id": "2ff028f2-a158-4d1f-a908-6c94c64bddf3",
   "metadata": {},
   "outputs": [],
   "source": [
    "def f(a: int = 12, b: str = 'baz') -> float:\n",
    "    print(a, b)\n",
    "    return(3.5)\n",
    "f.__annotations__\n",
    "f()"
   ]
  },
  {
   "cell_type": "markdown",
   "id": "74267b61-fa1e-42c7-af77-0766282fb297",
   "metadata": {},
   "source": [
    "Annotations don’t impose any semantic restrictions on the code\n",
    "whatsoever.\n",
    "What’s going on here? The annotations for f() indicate that the first\n",
    "argument is int, the second argument str, and the return value float. But the\n",
    "subsequent call to f() breaks all the rules! The arguments are str and float,\n",
    "respectively, and the return value is a tuple. Yet the interpreter lets it all slide\n",
    "with no complaint at all."
   ]
  },
  {
   "cell_type": "code",
   "execution_count": null,
   "id": "1d3c306d-6575-402b-8c3b-030de2010cdd",
   "metadata": {},
   "outputs": [],
   "source": [
    "def f(a: int, b: str) -> float:\n",
    " print(a, b)\n",
    " return 1, 2, 3\n",
    "f('foo', 2.5)"
   ]
  },
  {
   "cell_type": "markdown",
   "id": "aee96cb0-e669-4ecc-91c0-67c0caaed89d",
   "metadata": {},
   "source": [
    "**String:**"
   ]
  },
  {
   "cell_type": "markdown",
   "id": "b539e62e-359a-4ba1-94dc-2b71a0cf1031",
   "metadata": {},
   "source": [
    "Use F-String for three string formatting."
   ]
  },
  {
   "cell_type": "code",
   "execution_count": 2,
   "id": "05b3df8d-eb46-45c3-aa2d-a4ae2147668c",
   "metadata": {},
   "outputs": [
    {
     "name": "stdout",
     "output_type": "stream",
     "text": [
      "My name is khayyam, and my Reg No is 23jze0548\n"
     ]
    }
   ],
   "source": [
    "# f-string\n",
    "name = 'khayyam'\n",
    "Reg_No = '23jze0548'\n",
    "student=f\"My name is {name}, and my Reg No is {Reg_No}\"\n",
    "print(student)"
   ]
  },
  {
   "cell_type": "markdown",
   "id": "16ef27c5-095c-403d-8c34-a80d28536290",
   "metadata": {},
   "source": [
    "Use .capitalize() for three examples. "
   ]
  },
  {
   "cell_type": "code",
   "execution_count": 4,
   "id": "cb96532d-4758-46b4-8edd-2feea4e9f492",
   "metadata": {},
   "outputs": [
    {
     "name": "stdout",
     "output_type": "stream",
     "text": [
      "Khayyam\n",
      "Electrical\n",
      "Power\n"
     ]
    }
   ],
   "source": [
    "name = 'khayyam'\n",
    "department = 'electrical'\n",
    "section = 'power'\n",
    "print(name.capitalize())\n",
    "print(department.capitalize())\n",
    "print(section.capitalize())"
   ]
  },
  {
   "cell_type": "markdown",
   "id": "41c82d23-7b06-4db5-beec-cc995899f5b0",
   "metadata": {},
   "source": [
    "Use .format(*args, **kwargs) for five example formatting."
   ]
  },
  {
   "cell_type": "code",
   "execution_count": null,
   "id": "8785e6ad-2d0d-4257-be2a-6fe3affada7b",
   "metadata": {},
   "outputs": [],
   "source": [
    "# .format ()\n",
    "student=\"I am {0} and my reg no is {1}\"\n",
    "print(student.format('Shahmeer','23jzele0541'))\n",
    "room = \"In our room {} bad, and also contain {} table\"\n",
    "print(room.format(3,1))\n",
    "my_bag=\"i have {} pen, {} book, and {} copies\"\n",
    "print(my_bag.format(4,1,8))"
   ]
  },
  {
   "cell_type": "markdown",
   "id": "44693f97-7c38-4b47-9f78-702e7a43045d",
   "metadata": {},
   "source": [
    "Use .lower() for three examples."
   ]
  },
  {
   "cell_type": "markdown",
   "id": "1534b31f-65b6-4987-af9e-a5bb95ee69ab",
   "metadata": {},
   "source": [
    "Some method on string return true false and they are frequently use in different applications.\n",
    "Use .isdigit(),.islower(), and .isnumeric() in two example. I"
   ]
  },
  {
   "cell_type": "code",
   "execution_count": 5,
   "id": "40cacdaf-8a4d-4fc4-996f-aa75381a47d3",
   "metadata": {},
   "outputs": [
    {
     "name": "stdout",
     "output_type": "stream",
     "text": [
      "True\n",
      "False\n"
     ]
    }
   ],
   "source": [
    "a = \"23435\"\n",
    "c = \"khayyam\"\n",
    "print(a.isdigit())\n",
    "print(c.isdigit())"
   ]
  },
  {
   "cell_type": "code",
   "execution_count": null,
   "id": "6b856295-7d08-4ab9-8c94-ed7f26187cc6",
   "metadata": {},
   "outputs": [],
   "source": [
    "name = \"shahmeer\"\n",
    "name1 = \"SHAHMEER\"\n",
    "print(name.islower())\n",
    "print(name1.islower())"
   ]
  },
  {
   "cell_type": "code",
   "execution_count": null,
   "id": "248cb4b5-45e2-427a-bdf3-09debcb0f118",
   "metadata": {},
   "outputs": [],
   "source": [
    "b = \"944239\"\n",
    "d = \"hello\"\n",
    "print(b.isnumeric())\n",
    "print(d.isnumeric())"
   ]
  },
  {
   "cell_type": "markdown",
   "id": "ca0b6d38-ce84-45d7-9839-080671a1e37e",
   "metadata": {},
   "source": [
    "Some other string operation required other methods. Use .split() for two example. "
   ]
  },
  {
   "cell_type": "code",
   "execution_count": 6,
   "id": "32ee3ff7-5e14-40cc-ade4-a10cdfb855af",
   "metadata": {},
   "outputs": [
    {
     "name": "stdout",
     "output_type": "stream",
     "text": [
      "['I', 'am', 'khayyam']\n",
      "['how', 'are', 'you', 'I', 'am', 'khayyam']\n"
     ]
    }
   ],
   "source": [
    "name =\"I am khayyam\"\n",
    "hey = f\"how are you {name}\"\n",
    "print(name.split())\n",
    "print(hey.split())"
   ]
  },
  {
   "cell_type": "code",
   "execution_count": null,
   "id": "20138eb7-7858-4a08-b21e-23cdee1927cb",
   "metadata": {},
   "outputs": [],
   "source": []
  },
  {
   "cell_type": "code",
   "execution_count": null,
   "id": "3e771bd1-ae0a-400d-9dd5-f21d9f9af6d1",
   "metadata": {},
   "outputs": [],
   "source": []
  }
 ],
 "metadata": {
  "kernelspec": {
   "display_name": "Python 3 (ipykernel)",
   "language": "python",
   "name": "python3"
  },
  "language_info": {
   "codemirror_mode": {
    "name": "ipython",
    "version": 3
   },
   "file_extension": ".py",
   "mimetype": "text/x-python",
   "name": "python",
   "nbconvert_exporter": "python",
   "pygments_lexer": "ipython3",
   "version": "3.12.4"
  }
 },
 "nbformat": 4,
 "nbformat_minor": 5
}
