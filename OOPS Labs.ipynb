{
 "cells": [
  {
   "cell_type": "markdown",
   "id": "dda0116a-cab9-4876-adfd-265315689a43",
   "metadata": {},
   "source": [
    "# ***Name : Khayyam Ud Din***\n",
    "# ***Req No : 23JZELE0548***\n",
    "# **Lab : 02**"
   ]
  },
  {
   "cell_type": "markdown",
   "id": "84277f6c-704b-441f-8cf4-3176b9174f5a",
   "metadata": {
    "jp-MarkdownHeadingCollapsed": true
   },
   "source": [
    "# Lab Report"
   ]
  },
  {
   "cell_type": "code",
   "execution_count": 1,
   "id": "0d584dc5-0a32-48e0-9285-165a0dea7519",
   "metadata": {},
   "outputs": [
    {
     "name": "stdout",
     "output_type": "stream",
     "text": [
      "35\n"
     ]
    }
   ],
   "source": [
    "def voltage(current,resistance):   # define function\n",
    "    volt = current * resistance\n",
    "    return volt\n",
    "# argument passing by positional argument\n",
    "current_p = 5\n",
    "resistance_p = 7\n",
    "volt1 = voltage(current_p,resistance_p)  # call the function \n",
    "print(volt1)"
   ]
  },
  {
   "cell_type": "code",
   "execution_count": 2,
   "id": "a94aa62e-a1a2-4c1a-8527-e96b42c8ee8c",
   "metadata": {},
   "outputs": [
    {
     "name": "stdout",
     "output_type": "stream",
     "text": [
      "35\n"
     ]
    }
   ],
   "source": [
    "# argument passing by keyword argumnet\n",
    "volt2 = voltage(current = current_p, resistance = resistance_p) # call the function \n",
    "print(volt2)"
   ]
  },
  {
   "cell_type": "code",
   "execution_count": 3,
   "id": "16a3289d-71c6-476d-af84-944a896be560",
   "metadata": {},
   "outputs": [
    {
     "name": "stdout",
     "output_type": "stream",
     "text": [
      "8\n"
     ]
    }
   ],
   "source": [
    "# argument passing with a defult value\n",
    "def voltage2(current,resistance=2): # define function\n",
    "    volt = current * resistance\n",
    "    return volt\n",
    "currnet_ = 4\n",
    "volt = voltage2(currnet_)   # call the function \n",
    "print(volt)"
   ]
  },
  {
   "cell_type": "code",
   "execution_count": null,
   "id": "c4b39609-edf2-44d2-a1f8-a3e194f8b51e",
   "metadata": {},
   "outputs": [],
   "source": [
    "# give less number of argument in to function\n",
    "def voltage3(current,resistance):  # define function\n",
    "    volt = current * resistance\n",
    "    return volt\n",
    "volt1 = voltage3(5) # it show error beacuse one argument is missing in the positionol arguments\n",
    "print(volt1)"
   ]
  },
  {
   "cell_type": "code",
   "execution_count": null,
   "id": "42735c91-d34a-4ca6-9944-742bb41734c3",
   "metadata": {},
   "outputs": [],
   "source": [
    "def voltage3(current,resistance):\n",
    "    volt = current * resistance\n",
    "    return volt\n",
    "current_p = 3\n",
    "resistance_p = 7\n",
    "volt = voltage(current=current_p,resistance) # it show error that positional argument follows keyword argument "
   ]
  },
  {
   "cell_type": "markdown",
   "id": "7aec9f3f-42ad-4fcb-b3bd-899d0beb35b3",
   "metadata": {
    "jp-MarkdownHeadingCollapsed": true
   },
   "source": [
    "# Lab practice"
   ]
  },
  {
   "cell_type": "markdown",
   "id": "d533b8d5-ebd5-4b1a-8ea5-dd19bd4a86a1",
   "metadata": {
    "jp-MarkdownHeadingCollapsed": true
   },
   "source": [
    "**String formatting**"
   ]
  },
  {
   "cell_type": "markdown",
   "id": "eb13eadb-27b8-484b-ae62-df9e57a7a8b1",
   "metadata": {},
   "source": [
    "1. Observe the output of the following if:"
   ]
  },
  {
   "cell_type": "code",
   "execution_count": null,
   "id": "9bc171d9-e525-4bc4-ad7e-186138227a53",
   "metadata": {},
   "outputs": [],
   "source": [
    "errno = 50159747054\n",
    "name = 'Bob'\n",
    "print('Hello, %s' % name)\n",
    "print('Hey %s, there is a 0x%x error!' % (name, errno))\n",
    "print('Hey %(name)s, there is a 0x%(errno)x error!' % { \"name\": name, \"errno\": errno })"
   ]
  },
  {
   "cell_type": "markdown",
   "id": "9d1b4ff7-301e-413a-a739-8dc78fadf974",
   "metadata": {},
   "source": [
    "2. Observe the output of: (Mostly used)"
   ]
  },
  {
   "cell_type": "code",
   "execution_count": null,
   "id": "d00b55f5-c2cf-44d7-a953-a110358ff769",
   "metadata": {},
   "outputs": [],
   "source": [
    "print('Hello, {}'.format(name))"
   ]
  },
  {
   "cell_type": "markdown",
   "id": "a46569ca-ac2b-4ded-a911-9ced27c16f5c",
   "metadata": {},
   "source": [
    "3. Observe the output of: (Recommended for Python 3.6+)"
   ]
  },
  {
   "cell_type": "code",
   "execution_count": null,
   "id": "677c459d-620c-49b7-84c1-87225f2f9986",
   "metadata": {},
   "outputs": [],
   "source": [
    "print(f'Hello, {name}!')"
   ]
  },
  {
   "cell_type": "markdown",
   "id": "188cc0c4-bac6-4ffd-84cf-f4d7cd79fa1c",
   "metadata": {},
   "source": [
    "4. Observe the output of:"
   ]
  },
  {
   "cell_type": "code",
   "execution_count": null,
   "id": "6f3cdbbf-1d15-4dce-97ae-8955487d4b5c",
   "metadata": {},
   "outputs": [],
   "source": [
    "# a:\n",
    "from string import Template\n",
    "2\n",
    "t = Template('Hey, $name!')\n",
    "t.substitute(name=name)"
   ]
  },
  {
   "cell_type": "code",
   "execution_count": null,
   "id": "759b965c-5c17-4a53-bfe3-bfab4487d297",
   "metadata": {},
   "outputs": [],
   "source": [
    "# b:\n",
    "templ_string = 'Hey $name, there is a $error error!'\n",
    "Template(templ_string).substitute(name=name, error=hex(errno))"
   ]
  },
  {
   "cell_type": "markdown",
   "id": "f3904d2c-8096-4205-9ced-7a6cdcc949c4",
   "metadata": {},
   "source": [
    "Built-in Function:"
   ]
  },
  {
   "cell_type": "markdown",
   "id": "47936034-13d1-49f8-bf24-862eef16d05b",
   "metadata": {},
   "source": [
    "i. Use len() and find the length of three lists and two strings. "
   ]
  },
  {
   "cell_type": "code",
   "execution_count": null,
   "id": "4892e98d-6cf1-4e51-a4cd-11ea22c00b2a",
   "metadata": {},
   "outputs": [],
   "source": [
    "l1 = [2,4,5,6,7,8,9]\n",
    "l2 = ['a','b','u','hello', 3.6,8,99.8]\n",
    "l3 = ['i','am','yahya','ahmad']\n",
    "print(len(l1))\n",
    "print(len(l2))\n",
    "print(len(l3))"
   ]
  },
  {
   "cell_type": "markdown",
   "id": "c945604c-451f-4aa6-821c-0fd74210741a",
   "metadata": {},
   "source": [
    "i. Use len() and find the length of three lists and two strings. "
   ]
  },
  {
   "cell_type": "code",
   "execution_count": null,
   "id": "74e48526-84e7-4868-8598-995ed1d53983",
   "metadata": {},
   "outputs": [],
   "source": [
    "str1 = 'who are you bro'\n",
    "str2 = 'I am khayyam ud din'\n",
    "print(len(str1))\n",
    "print(len(str2))"
   ]
  },
  {
   "cell_type": "markdown",
   "id": "00e1e8d6-e25d-41c4-82b5-e296bbc32651",
   "metadata": {},
   "source": [
    "ii. Use for three example .is_integer()."
   ]
  },
  {
   "cell_type": "code",
   "execution_count": null,
   "id": "1345a85c-27ad-4181-8628-3bbf9653c8cd",
   "metadata": {},
   "outputs": [],
   "source": [
    "a = 2.6\n",
    "a.is_integer()"
   ]
  },
  {
   "cell_type": "code",
   "execution_count": null,
   "id": "20a34264-f47f-4f9b-9a8d-52258bcafb8e",
   "metadata": {},
   "outputs": [],
   "source": [
    "b = 35.0\n",
    "b.is_integer()"
   ]
  },
  {
   "cell_type": "code",
   "execution_count": null,
   "id": "d94a1807-5db7-43b0-954f-0fe862a77b5f",
   "metadata": {},
   "outputs": [],
   "source": [
    "c=3349.0\n",
    "c.is_integer()"
   ]
  },
  {
   "cell_type": "markdown",
   "id": "6e466a04-e4d6-4108-a957-a8898845c7b0",
   "metadata": {},
   "source": [
    "iii. Use for three example .conjugate()"
   ]
  },
  {
   "cell_type": "code",
   "execution_count": null,
   "id": "379c4ed6-0b8d-4200-8f46-7614adbc4de5",
   "metadata": {},
   "outputs": [],
   "source": [
    "c = 9 + 9j\n",
    "d = 3 + 12j\n",
    "print(c.conjugate())\n",
    "print(d.conjugate())"
   ]
  },
  {
   "cell_type": "markdown",
   "id": "e6ad89b8-46f4-438b-bc71-dc7c91d6bc3f",
   "metadata": {},
   "source": [
    "**Function**"
   ]
  },
  {
   "cell_type": "markdown",
   "id": "2b6690b8-9c88-4373-aed7-dd1471a1bc41",
   "metadata": {},
   "source": [
    "Task No 01"
   ]
  },
  {
   "cell_type": "markdown",
   "id": "58201f6b-bc46-447b-a40d-19d919b32858",
   "metadata": {},
   "source": [
    "Define a **function** that will take the name and registration number of a student and print it.\n",
    "Include appropriate docstrings.\n",
    "* The argument pass will like positional arguments.\n",
    "* The arguments passing will like keyword arguments.\n",
    "* The arguments passing will like default arguments.\n",
    "* Pass the arguments of one style to the other.\n",
    "* Passing less number of arguments and check the error message.\n",
    "* Verify that whether positional argument follows keyword argument"
   ]
  },
  {
   "cell_type": "code",
   "execution_count": null,
   "id": "4ceb9098-8328-4fc0-a6ef-f51b8a8ad2c2",
   "metadata": {},
   "outputs": [],
   "source": [
    "def student():  # define simple function\n",
    "    pass"
   ]
  },
  {
   "cell_type": "code",
   "execution_count": null,
   "id": "8a7abefd-af1d-4c94-99d1-f3e4cdf50df6",
   "metadata": {},
   "outputs": [],
   "source": [
    "def student(name=\"Enter Name\",reg_no=\"Enter Reg No\"):  \n",
    "    \"\"\" The function give us Name and Reg No of student\n",
    "        take parameter as Name and Reg No\n",
    "        and return student Name and Reg No\n",
    "    \"\"\"\n",
    "    student = name,reg_no\n",
    "    return student\n",
    "print(student.__doc__)"
   ]
  },
  {
   "cell_type": "code",
   "execution_count": null,
   "id": "ccbca4f1-d0b5-4269-b5d7-9d0d34972b15",
   "metadata": {},
   "outputs": [],
   "source": [
    "print(student('khayyam','23jzele0548')) #positional argument"
   ]
  },
  {
   "cell_type": "code",
   "execution_count": null,
   "id": "ce0f77df-949f-4c7a-8b1f-b637aeb76b5a",
   "metadata": {},
   "outputs": [],
   "source": [
    "print(student(name='khayyam',reg_no='23jzele0548')) # keyword argument"
   ]
  },
  {
   "cell_type": "code",
   "execution_count": null,
   "id": "cdc57b9a-065e-4a9f-96b9-5bb0340a956d",
   "metadata": {},
   "outputs": [],
   "source": [
    "print(student()) # default parameter"
   ]
  },
  {
   "cell_type": "code",
   "execution_count": null,
   "id": "acd54a25-4a0e-45f1-b526-a5e6675f31a5",
   "metadata": {},
   "outputs": [],
   "source": [
    "def student(name,reg_no='0000'):  # function with one default parameter\n",
    "    student = name,reg_no\n",
    "    return student\n",
    "print(student(name='khayyam',reg_no='23jzele0548'))  # argument pass of one style to another style"
   ]
  },
  {
   "cell_type": "code",
   "execution_count": null,
   "id": "47cf0bd7-6149-4212-8914-9b2ee98df3df",
   "metadata": {},
   "outputs": [],
   "source": [
    "def student(name,reg_no):  # function with no default parameter\n",
    "    student = name,reg_no\n",
    "    return student"
   ]
  },
  {
   "cell_type": "code",
   "execution_count": null,
   "id": "7d2e628a-ad4b-4154-a084-fa2d57a52aef",
   "metadata": {},
   "outputs": [],
   "source": [
    "print(student('khayyam'))  # student() missing 1 required positional argument: 'reg_no'"
   ]
  },
  {
   "cell_type": "code",
   "execution_count": null,
   "id": "d79c83e4-c47c-42c0-9f54-2aeea8d9d073",
   "metadata": {},
   "outputs": [],
   "source": [
    "print(student(name='khayyam','23jze;e0548')) # error: positional argument follows keyword argument"
   ]
  },
  {
   "cell_type": "markdown",
   "id": "c4692111-872c-42a9-9ad4-dff990c32837",
   "metadata": {},
   "source": [
    " Task No  02"
   ]
  },
  {
   "cell_type": "markdown",
   "id": "56dc7848-e173-4730-9315-4638bc2f3e03",
   "metadata": {
    "jp-MarkdownHeadingCollapsed": true
   },
   "source": [
    "Define a function that will take the parameters as current and resistance and will output the\n",
    "voltage across the resistance. Include appropriate docstrings.\n",
    "* The argument pass will like positional arguments.\n",
    "* The arguments passing will like keyword arguments.\n",
    "* The arguments passing will like default arguments.\n",
    "* Pass the arguments of one style to the other.\n",
    "* Passing less number of arguments and check the error message.\n",
    "* Verify that whether positional argument follows keyword argument."
   ]
  },
  {
   "cell_type": "code",
   "execution_count": null,
   "id": "1a2c858e-4275-4cb7-91e3-c8a76e797307",
   "metadata": {},
   "outputs": [],
   "source": [
    "def voltage():\n",
    "    pass"
   ]
  },
  {
   "cell_type": "code",
   "execution_count": null,
   "id": "43a1c11a-7cd6-4af1-9f6c-bc4f638e646f",
   "metadata": {},
   "outputs": [],
   "source": [
    "def voltage(current=1,resistance=1):\n",
    "    \"\"\"\n",
    "    Calculate the voltage across a resistor using Ohm's Law.\n",
    "    Parameters:\n",
    "    current (float): \n",
    "    resistance (float)\n",
    "    Returns:\n",
    "    The voltage across the resistor (in volts).\n",
    "    \"\"\"\n",
    "    voltage = current * resistance\n",
    "    return voltage\n",
    "print(voltage.__doc__)"
   ]
  },
  {
   "cell_type": "code",
   "execution_count": null,
   "id": "2c4b38ec-787b-49fc-8d17-8113b64fe53e",
   "metadata": {},
   "outputs": [],
   "source": [
    "print(voltage(4,8)) # positional argument"
   ]
  },
  {
   "cell_type": "code",
   "execution_count": null,
   "id": "1adc58af-cae7-4674-affe-3d863829b26b",
   "metadata": {},
   "outputs": [],
   "source": [
    "print(voltage(current=6,resistance=4)) # keyword argument"
   ]
  },
  {
   "cell_type": "code",
   "execution_count": null,
   "id": "d3166294-604d-41ec-afd1-f6b5b6dfbf8d",
   "metadata": {},
   "outputs": [],
   "source": [
    "def voltage(current=1,resistance=1):   # function with one default parameter\n",
    "    voltage = current * resistance\n",
    "    return voltage   # argument pass of one style to another style "
   ]
  },
  {
   "cell_type": "code",
   "execution_count": null,
   "id": "1c68c0d2-39e8-47c3-b507-0ffa1e3e4717",
   "metadata": {},
   "outputs": [],
   "source": [
    "print(voltage(current=23,resistance=10))"
   ]
  },
  {
   "cell_type": "code",
   "execution_count": null,
   "id": "751b3ca7-e246-4c67-ac40-0ac4cd465ddd",
   "metadata": {},
   "outputs": [],
   "source": [
    "def voltage(current,resistance):   # function without default parameter\n",
    "    voltage = current * resistance\n",
    "    return voltage"
   ]
  },
  {
   "cell_type": "code",
   "execution_count": null,
   "id": "f981310e-8afb-4651-9bd1-f70f9479d4e9",
   "metadata": {},
   "outputs": [],
   "source": [
    "print(voltage(5)) # voltage() missing 1 required positional argument: 'resistance'"
   ]
  },
  {
   "cell_type": "code",
   "execution_count": null,
   "id": "183fcc38-589f-4ba3-863c-f2bed27cd4b5",
   "metadata": {},
   "outputs": [],
   "source": [
    "print(voltage(current=8,29) # positional argument follows keyword argument"
   ]
  },
  {
   "cell_type": "markdown",
   "id": "baaa13d8-e01c-4042-a03d-f0fb96a2c87c",
   "metadata": {},
   "source": [
    "Task No 03"
   ]
  },
  {
   "cell_type": "markdown",
   "id": "c787115c-73ac-420d-a55a-bd5a11115b1b",
   "metadata": {},
   "source": [
    "Define a function with *name charge_from_solar* and pass the state of charge (SOC) to the\n",
    "function. If SOC is less than 20% display charging if it is above 90% do nothing and return and if it\n",
    "is in between display that battery will be charge and there is --- % of charge in the battery. Include\n",
    "3 appropriate docstrings. Print the doc string. Also add annotation to the function parameters and\n",
    "return type. "
   ]
  },
  {
   "cell_type": "code",
   "execution_count": null,
   "id": "800582ac-cc34-4148-97ff-aa80d1e01ba8",
   "metadata": {},
   "outputs": [],
   "source": [
    "def charge_from_solar():   # define function\n",
    "    pass"
   ]
  },
  {
   "cell_type": "code",
   "execution_count": null,
   "id": "b2f72fef-a221-4219-98e2-09f0ddba4f7a",
   "metadata": {},
   "outputs": [],
   "source": [
    "def charge_from_solar(SOC: float) -> None:   # gives arguments to function\n",
    "    \"\"\"Determines the charging status of a battery based on its state of charge (SOC).\n",
    "    Parameters:\n",
    "               SOC (float): \n",
    "    Returns:\n",
    "            None:\n",
    "    Behavior:\n",
    "            -> If SOC < 20%, the function displays \"Charging\"\n",
    "            -> If SOC > 90%, the function does nothing and returns.\n",
    "            -> If 20% <= SOC <= 90%, the function displays \"Battery will be charged\" along with the current SOC.\n",
    "    \"\"\"\n",
    "    \n",
    "print(charge_from_solar.__doc__)  # print docstring"
   ]
  },
  {
   "cell_type": "code",
   "execution_count": null,
   "id": "b48c86a0-4bd5-45a3-956d-e7904d5a1460",
   "metadata": {},
   "outputs": [],
   "source": [
    "def charge_from_solar(SOC: float) -> None:\n",
    "    if SOC < 20:  \n",
    "        print(\"Charging\")\n",
    "    elif SOC > 90:\n",
    "        return\n",
    "    else:\n",
    "        print(f\"Battery will charge and there is {SOC}% of charging\")    "
   ]
  },
  {
   "cell_type": "code",
   "execution_count": null,
   "id": "420806e4-cb2a-44d7-abca-88f940b99b9b",
   "metadata": {},
   "outputs": [],
   "source": [
    "print(charge_from_solar(45))     # calling fucntion"
   ]
  },
  {
   "cell_type": "code",
   "execution_count": null,
   "id": "740082b5-c84d-427c-87a6-56db4aed5ddb",
   "metadata": {},
   "outputs": [],
   "source": [
    "print(charge_from_solar.__annotations__)  # show the annotation of the function"
   ]
  },
  {
   "cell_type": "markdown",
   "id": "51db3882-8a43-40f3-b693-fcf8936d5a47",
   "metadata": {
    "jp-MarkdownHeadingCollapsed": true
   },
   "source": [
    "Task No 04"
   ]
  },
  {
   "cell_type": "markdown",
   "id": "f1069564-c7d4-4c37-8725-837ba11620f9",
   "metadata": {},
   "source": [
    "Define three function. Function one name is resistance which will return a list of five resistances.\n",
    "The second function name is voltage which will return a list of voltage across each of these\n",
    "resisters. Include appropriate docstrings. Print the doc string. Also add annotation to the function\n",
    "parameters and return type.\n",
    "* Pass these two lists to a third function name current which will calculate the current\n",
    "flowing through each resister and will return that list to the main program. The main\n",
    "program will print all the three lists in well formatting.\n",
    "* In part a return the data in tuple.\n",
    "* Return the data from current function as dictionary with keys current_1 to current_5. "
   ]
  },
  {
   "cell_type": "code",
   "execution_count": null,
   "id": "5a015122-db0c-459d-a5ac-1f339b9e2f5d",
   "metadata": {},
   "outputs": [],
   "source": [
    "from typing import List, Tuple, Dict \n",
    "def resistance() -> list[float]:       # function\n",
    "    \"\"\"retrun  a list of resisatance\n",
    "    the list is float\"\"\"\n",
    "    return [10,20,30,40,50]\n",
    "def voltage() -> list[float]:         # function\n",
    "    \"\"\"retrun  a list of voltage\n",
    "    the list is float\"\"\"\n",
    "    return [100,20,300,400,500]\n",
    "print(resistance.__doc__)     # print docstring\n",
    "print(voltage.__doc__)        # print docstring"
   ]
  },
  {
   "cell_type": "code",
   "execution_count": null,
   "id": "d5d49521-548e-4182-a0da-ca4cb227854c",
   "metadata": {},
   "outputs": [],
   "source": [
    "resistance()     # calling fucntion"
   ]
  },
  {
   "cell_type": "code",
   "execution_count": null,
   "id": "bd91a61f-4603-43b1-9424-b04f23f775c6",
   "metadata": {},
   "outputs": [],
   "source": [
    "voltage()      # calling fucntion"
   ]
  },
  {
   "cell_type": "code",
   "execution_count": null,
   "id": "5ea18c3c-68a0-462c-9235-1fc8b27e0826",
   "metadata": {},
   "outputs": [],
   "source": [
    "def current(resistance: list[float],voltage: list[float]) -> Tuple[list[float],Dict[str,float]]:  \n",
    "    \"\"\"\n",
    "    Calculates the current flowing through each resistor using Ohm's law (I = V/R).    \n",
    "    Parameters: \n",
    "    List of resistances in ohms.\n",
    "    List of voltages across each resistor in volts. \n",
    "    Returns:tuple[List[float], Dict[str, float]]: A tuple containing:\n",
    "        - A list of currents through each resistor in amperes.\n",
    "        - A dictionary where the keys are 'current_1' to 'current_5' and the values are the currents.\n",
    "    \"\"\"\n",
    "    currents=[v/r for v,r in zip(voltage,resistance)]\n",
    "    current_dict = {f'current_{i+1}': currents[i] for i in range(len(currents))}\n",
    "    return currents, current_dict\n",
    "print(current.__doc__)     # print docstring\n",
    "\n",
    "resistances = resistance()\n",
    "voltages = voltage()\n",
    "currents,current_dict = current(voltages,resistances)"
   ]
  },
  {
   "cell_type": "code",
   "execution_count": null,
   "id": "0e09483d-c9f5-4d72-a784-40eae80e2bd9",
   "metadata": {},
   "outputs": [],
   "source": [
    "print(currents,)        # calling fucntion \n",
    "print(current_dict,)    # calling fucntion"
   ]
  },
  {
   "cell_type": "code",
   "execution_count": null,
   "id": "7156b4d6-9e80-4673-833b-cc1b9c190611",
   "metadata": {},
   "outputs": [],
   "source": [
    "print(resistance.__annotations__)      # show the annotation of the function\n",
    "print(voltage.__annotations__)         # show the annotation of the function"
   ]
  },
  {
   "cell_type": "markdown",
   "id": "90815b40-6ed4-4f19-aaf7-a73241395136",
   "metadata": {
    "jp-MarkdownHeadingCollapsed": true
   },
   "source": [
    "Task NO 05"
   ]
  },
  {
   "cell_type": "markdown",
   "id": "6cfa6f0f-ab3d-4ad3-a144-09d70d17b9ef",
   "metadata": {},
   "source": [
    "Define a function with name series. The function will take a list or tuple of resisters. The function\n",
    "will return the net resistance. Note that your function must be capable for any number of\n",
    "resisters. Note: Use elegant approach. Include appropriate docstrings. Print the doc string. Also\n",
    "add annotation to the function parameters and return type. In addition, display annotation using\n",
    "special dunder attribute of the function called *__annotations__.*"
   ]
  },
  {
   "cell_type": "code",
   "execution_count": null,
   "id": "b296b6e8-1245-4167-89ec-5b7818a6e5ba",
   "metadata": {},
   "outputs": [],
   "source": [
    "def series():\n",
    "    pass"
   ]
  },
  {
   "cell_type": "code",
   "execution_count": null,
   "id": "b8398df7-3d9a-4d30-8a71-fdea21b8d941",
   "metadata": {},
   "outputs": [],
   "source": [
    "def series(lst1=[]):     # define function\n",
    "    \"\"\" function which retrun  net resistance\n",
    "    paramter are resistance in the form of list\n",
    "    retrun net resistance\n",
    "    \"\"\"\n",
    "    return sum(lst1)\n",
    "print(series.__doc__)    # print docstring"
   ]
  },
  {
   "cell_type": "code",
   "execution_count": null,
   "id": "9d31a9c7-3920-4237-969e-f2b857851175",
   "metadata": {},
   "outputs": [],
   "source": [
    "series([3,3])       # calling fucntion"
   ]
  },
  {
   "cell_type": "code",
   "execution_count": null,
   "id": "bc6fabb3-8039-44d8-a2ea-042beba55bd4",
   "metadata": {},
   "outputs": [],
   "source": [
    "series([3,4,5,6,7])   # calling fucntion"
   ]
  },
  {
   "cell_type": "code",
   "execution_count": null,
   "id": "6b5439dc-34da-440b-a30f-e85a716266aa",
   "metadata": {},
   "outputs": [],
   "source": [
    "print(series.__annotations__)     # show the annotation of the function"
   ]
  },
  {
   "cell_type": "markdown",
   "id": "9db1ab6a-8c64-4415-a1c9-4b5e72f08b56",
   "metadata": {
    "jp-MarkdownHeadingCollapsed": true
   },
   "source": [
    "Task no 6"
   ]
  },
  {
   "cell_type": "markdown",
   "id": "62d49ee6-3f2e-435c-bc16-b24ad97b39eb",
   "metadata": {},
   "source": [
    "Define a function with name parallel. The function will take a list or tuple of resisters. The function\n",
    "will return the net resistance. Note that your function must be capable for any number of\n",
    "resisters. Note: Use elegant approach. Include appropriate docstrings. Print the doc string. Also\n",
    "add annotation to the function parameters and return type. In addition, display annotation using\n",
    "special dunder attribute of the function called __annotations__Define a function with name parallel. The function will take a list or tuple of resisters. The function\n",
    "will return the net resistance. Note that your function must be capable for any number of\n",
    "resisters. Note: Use elegant approach. Include appropriate docstrings. Print the doc string. Also\n",
    "add annotation to the function parameters and return type. In addition, display annotation using\n",
    "special dunder attribute of the function called __annotations__"
   ]
  },
  {
   "cell_type": "code",
   "execution_count": null,
   "id": "81504306-c2a5-4af6-9c97-ae5df349ceaf",
   "metadata": {},
   "outputs": [],
   "source": [
    "def parallal(list1=[]):       # define function\n",
    "    pass"
   ]
  },
  {
   "cell_type": "code",
   "execution_count": null,
   "id": "c7677cc3-48dc-4f9c-9ba2-ea88fdac296a",
   "metadata": {},
   "outputs": [],
   "source": [
    "def parallal(list1=[]):\n",
    "    \"\"\" function calculate net resistance\n",
    "    paramter is resistances in the form of list\n",
    "    retrun net resistance in pararllal\n",
    "    \"\"\"\n",
    "    return 1 / sum(1/x for x in list1) \n",
    "print(parallal.__doc__)     # print docstring"
   ]
  },
  {
   "cell_type": "code",
   "execution_count": null,
   "id": "c2aa39ff-98aa-4c0c-b84c-46f91c12175f",
   "metadata": {},
   "outputs": [],
   "source": [
    "print(parallal([4,4]))           # calling fucntion"
   ]
  },
  {
   "cell_type": "code",
   "execution_count": null,
   "id": "82ad5a2a-12da-41bb-b28a-2b71bfa7a71a",
   "metadata": {},
   "outputs": [],
   "source": [
    "print(parallal([3,4,6,7]))      # calling fucntion"
   ]
  },
  {
   "cell_type": "markdown",
   "id": "ea2943ad-90ae-44d3-be9f-6a3049750294",
   "metadata": {
    "jp-MarkdownHeadingCollapsed": true
   },
   "source": [
    "Task No 07"
   ]
  },
  {
   "cell_type": "markdown",
   "id": "a49c48fd-e20e-4fb6-9ee0-2877db600c17",
   "metadata": {},
   "source": [
    "Define a function with name series. The function will take resisters values and use *args for tuple\n",
    "packing. The function will return the net resistance. Note that your function must be capable for\n",
    "any number of resisters. Note: Use elegant approach. Include appropriate docstrings. Also add\n",
    "annotation to the function parameters and return type. In addition, display annotation using\n",
    "special dunder attribute of the function called __annotations__."
   ]
  },
  {
   "cell_type": "code",
   "execution_count": null,
   "id": "3b1cc539-eba7-4f11-b358-6d0ac34f6f72",
   "metadata": {},
   "outputs": [],
   "source": [
    "def series():    # define function\n",
    "    pass"
   ]
  },
  {
   "cell_type": "code",
   "execution_count": null,
   "id": "bc19d2a3-2218-4197-be86-ba09f58e7f23",
   "metadata": {},
   "outputs": [],
   "source": [
    "def series(*resistance: float) -> float:\n",
    "    \"\"\"function calculate net resistance\n",
    "parameter is resistances in the form of tuple\n",
    "retrun net resistance in pararllal\n",
    "    \"\"\"\n",
    "    return sum(resistance)\n",
    "print(series.__doc__)      # print docstring"
   ]
  },
  {
   "cell_type": "code",
   "execution_count": null,
   "id": "a920bf93-fdcc-428f-a14c-2232d10842b1",
   "metadata": {},
   "outputs": [],
   "source": [
    "print(series(2,5))        # calling fucntion"
   ]
  },
  {
   "cell_type": "code",
   "execution_count": null,
   "id": "134f3a22-23af-455d-8379-85562e3f840f",
   "metadata": {},
   "outputs": [],
   "source": [
    "print(series(4,5,7,2,8,9,4))   # calling fucntion"
   ]
  },
  {
   "cell_type": "code",
   "execution_count": null,
   "id": "aa3d8fce-5028-4ce5-974d-37bcccf334de",
   "metadata": {},
   "outputs": [],
   "source": [
    "print(series.__annotations__)      # show the annotation of the function"
   ]
  },
  {
   "cell_type": "markdown",
   "id": "6292e1bd-f510-4e57-9ce0-4515e29008d4",
   "metadata": {
    "jp-MarkdownHeadingCollapsed": true
   },
   "source": [
    "Task No 08"
   ]
  },
  {
   "cell_type": "markdown",
   "id": "acf50ce0-40bf-450d-afbb-49ba49d26396",
   "metadata": {},
   "source": [
    "Define a function with name parallel. The function will take resisters values and use *argsfor tuple\n",
    "packing. The function will return the net resistance. Note that your function must be capable for\n",
    "any number of resisters. Note: Use elegant approach. Include appropriate docstrings. Print the\n",
    "doc string. Also add annotation to the function parameters and return type. In addition, display\n",
    "annotation using special dunder attribute of the function called __annotations__."
   ]
  },
  {
   "cell_type": "code",
   "execution_count": null,
   "id": "050ba82a-967a-4684-9cad-ff2a279bc63b",
   "metadata": {},
   "outputs": [],
   "source": [
    "def parallal():       # define function\n",
    "    pass"
   ]
  },
  {
   "cell_type": "code",
   "execution_count": null,
   "id": "783241cb-b1f0-47ee-93ae-375d19312900",
   "metadata": {},
   "outputs": [],
   "source": [
    "def parallal(*resistance: float) -> float:\n",
    "    \"\"\"function calculate net resistance\n",
    "parameter is resistances in the form of tuple\n",
    "retrun net resistance in pararllal\n",
    "    \"\"\"\n",
    "    return 1 / sum(1/x for x in resistance)\n",
    "print(parallal.__doc__)    # print docstring"
   ]
  },
  {
   "cell_type": "code",
   "execution_count": null,
   "id": "63fadfaa-f54b-4cd9-b9bc-80c78918c4ed",
   "metadata": {},
   "outputs": [],
   "source": [
    "print(parallal(6,6))   # calling fucntion"
   ]
  },
  {
   "cell_type": "code",
   "execution_count": null,
   "id": "1d276843-bd06-4c97-b996-a411f1911872",
   "metadata": {},
   "outputs": [],
   "source": [
    "print(parallal(2,3,4,5,6,7,3,9))     # calling fucntion"
   ]
  },
  {
   "cell_type": "code",
   "execution_count": null,
   "id": "6d19f3c3-0447-44cc-9f6a-190a2356ffb8",
   "metadata": {},
   "outputs": [],
   "source": [
    "print(parallal.__annotations__)    # show the annotation of the function"
   ]
  },
  {
   "cell_type": "markdown",
   "id": "ca38de8b-74a4-4b6f-9d4e-f91fe889a191",
   "metadata": {
    "jp-MarkdownHeadingCollapsed": true
   },
   "source": [
    "Task NO 09"
   ]
  },
  {
   "cell_type": "markdown",
   "id": "75ec3e35-9ce0-424e-a3bc-ff7e3fa344a1",
   "metadata": {},
   "source": [
    "Consider a scenario in which you receive the data of battery SOC (% age), solar generation (Kw)\n",
    "and market price (per unit in rupees) from a hybrid solar inverter that are connected with green\n",
    "meter in a list or tuple like [60, 2, 60] or (60, 2, 60). Design a function that will print these values\n",
    "in a well format. Note use the tuple or list unpacking. Include appropriate docstrings. Print the\n",
    "doc string. Also add annotation to the function parameters and return type. In addition, display\n",
    "annotation using special dunder attribute of the function called __annotations__."
   ]
  },
  {
   "cell_type": "code",
   "execution_count": null,
   "id": "fbf81538-b43e-44df-b037-0e2e90f88653",
   "metadata": {},
   "outputs": [],
   "source": [
    "def display_inverter_data():      # define function\n",
    "    pass"
   ]
  },
  {
   "cell_type": "code",
   "execution_count": null,
   "id": "531e7893-406d-4ba1-950b-2bd1d65935da",
   "metadata": {},
   "outputs": [],
   "source": [
    "from typing import Tuple,List,Dict\n",
    "def display_inverter_data(data: Tuple) -> None:\n",
    "    \"\"\"Function that takes the data as tuple\n",
    "    it show the data or display it in well format:\n",
    "    return:\n",
    "           None\n",
    "            battery SOC(% age)\n",
    "            solar generation (kw)\n",
    "            market price (per unit in rupees)\n",
    "    \"\"\"\n",
    "     # unpacking the tuple\n",
    "    battery_soc, solar_genr, market_price = data \n",
    "    # In well_formating data\n",
    "    print(f\"Batter_SOC = {battery_soc}%\")        \n",
    "    print(f\"Solar_Generation = {solar_genr} kw\")\n",
    "    print(f\"Market_price = {market_price} Rs/unit\")\n",
    "print(display_inverter_data.__doc__)     # print docstring"
   ]
  },
  {
   "cell_type": "code",
   "execution_count": null,
   "id": "c23d9671-44b4-4924-aeb0-7a01a7159c08",
   "metadata": {},
   "outputs": [],
   "source": [
    "inverter_data = (90,2.5,45)\n",
    "display_inverter_data(inverter_data)    # calling fucntion"
   ]
  },
  {
   "cell_type": "code",
   "execution_count": null,
   "id": "d806a653-314d-4faa-a2fe-6b68b8f5050c",
   "metadata": {},
   "outputs": [],
   "source": [
    "print(display_inverter_data.__annotations__)    # show the annotation of the function"
   ]
  },
  {
   "cell_type": "markdown",
   "id": "6544e904-47ab-442e-a61c-1a6a346682e3",
   "metadata": {
    "jp-MarkdownHeadingCollapsed": true
   },
   "source": [
    "Task NO 10"
   ]
  },
  {
   "cell_type": "markdown",
   "id": "7dc022b8-fa18-4f0a-8c20-2ef6f80ff635",
   "metadata": {},
   "source": [
    "The more elegant approach is to pass dictionary and use dictionary unpacking. Consider a\n",
    "scenario in which you receive the data of battery SOC (% age), solar generation (Kw) and market\n",
    "price (per unit in rupees) from a hybrid solar inverter that are connected with green meter in a\n",
    "dictionary like {‘SOC’: 60, ‘solar generation’: 2, ‘price’: 60}. Design a function that will receive\n",
    "this dictionary and print these values in a well format. Include appropriate docstrings. Also add\n",
    "annotation to the function parameters and return type. In addition, display annotation using\n",
    "special dunder attribute of the function called __annotations__."
   ]
  },
  {
   "cell_type": "code",
   "execution_count": null,
   "id": "fa7d6bb6-f4af-455b-be42-1b0830557266",
   "metadata": {},
   "outputs": [],
   "source": [
    "def display_inverter_data():  # define function\n",
    "    pass"
   ]
  },
  {
   "cell_type": "code",
   "execution_count": null,
   "id": "6bbb9451-9098-453b-8aa3-654e9bf5d5c1",
   "metadata": {},
   "outputs": [],
   "source": [
    "def display_inverter_data(inverter_data: dict) -> None:\n",
    "    \"\"\"Function that pass the data as dictionary and use dictionary unpacking .\n",
    "    return: \n",
    "           None\n",
    "    it show the data or display it in well format:\n",
    "            battery SOC(% age)\n",
    "            solar generation (kw)\n",
    "            market price (per unit in rupees)\n",
    "    \"\"\"\n",
    "     # unpacking the dictionary\n",
    "    Battery_soc = inverter_data.get('Battery_soc')\n",
    "    solar_genr = inverter_data.get('solar_genr')\n",
    "    market_price = inverter_data.get('market_price')\n",
    "    # In well_formating data\n",
    "    print(f\"Batter SOC: {Battery_soc}%\")\n",
    "    print(f\"Solar Generation: {solar_genr} kw\")\n",
    "    print(f\"Market price: {market_price} Rs/unit\")\n",
    "    \n",
    "print(display_inverter_data.__doc__)    # print docstring"
   ]
  },
  {
   "cell_type": "code",
   "execution_count": null,
   "id": "e352cce5-87c6-4c21-a25e-3d46b7553d11",
   "metadata": {},
   "outputs": [],
   "source": [
    "data = {'Battery_soc': 59, 'solar_genr': 3, 'market_price': 33}\n",
    "display_inverter_data(data)    # calling function"
   ]
  },
  {
   "cell_type": "code",
   "execution_count": null,
   "id": "c28d0f18-9679-4b8a-b87b-66c19e9b11c4",
   "metadata": {},
   "outputs": [],
   "source": [
    "print(display_inverter_data.__annotations__)      # show the annotation of the function"
   ]
  },
  {
   "cell_type": "markdown",
   "id": "535ca803-5f13-4ad0-9034-3e1b9e53dcba",
   "metadata": {
    "jp-MarkdownHeadingCollapsed": true
   },
   "source": [
    "Task No 11"
   ]
  },
  {
   "cell_type": "markdown",
   "id": "e451a442-7782-49c0-a34e-831ad4a0eab2",
   "metadata": {},
   "source": [
    "Change the scenario while keep the more elegant approach of pass dictionary and use dictionary\n",
    "packing. Consider a scenario in which you receive the data of battery SOC (% age), solar\n",
    "generation (Kw) and market price (per unit in rupees) from a hybrid solar inverter that are\n",
    "connected with green meter in a dictionary like {‘SOC’: 60, ‘solar generation’: 2, ‘price’: 60}. Let\n",
    "you pass these value in a function call like solar (SOC = 60, solar generation = 2, price = 60).\n",
    "Design a function that will receive these argument as a dictionary and print these values in a\n",
    "well format. Include appropriate docstrings. Also add annotation to the function parameters and\n",
    "return type. In addition, display annotation using special dunder attribute of the function\n",
    "called __annotations__."
   ]
  },
  {
   "cell_type": "code",
   "execution_count": null,
   "id": "4522079d-4679-456c-b3dc-2630405f8e2c",
   "metadata": {},
   "outputs": [],
   "source": [
    "def solar():      # define function\n",
    "    pass"
   ]
  },
  {
   "cell_type": "code",
   "execution_count": null,
   "id": "9dd8dce9-1846-4df7-be50-07b0873788c9",
   "metadata": {},
   "outputs": [],
   "source": [
    "def solar(**data: dict) -> None:\n",
    "    \"\"\"Function that pass the data as dictionary and use dictionary unpacking but you can pass these\n",
    "    value in a function call.\n",
    "    return: \n",
    "           None\n",
    "    it show the data or display it in well format:\n",
    "            battery SOC(% age)\n",
    "            solar generation (kw)\n",
    "            market price (per unit in rupees)\n",
    "    \"\"\"\n",
    "     # unpacking the dictionary\n",
    "    SOC = data.get('SOC')\n",
    "    Generation = data.get('Generation')\n",
    "    Price = data.get('Price')\n",
    "    # In well_formating data\n",
    "    print(f\"SOC: {SOC}%\")\n",
    "    print(f\"Solar Generation: {Generation} kw\")\n",
    "    print(f\"Price: {Price} Rs/unit\")\n",
    "    \n",
    "print(solar.__doc__)     # print docstring"
   ]
  },
  {
   "cell_type": "code",
   "execution_count": null,
   "id": "90119ce8-5648-4abd-91b7-e09fb088d592",
   "metadata": {},
   "outputs": [],
   "source": [
    "Data={'SOC': 90, 'Generation': 1.5, 'Price': 55}\n",
    "print(solar(**Data))  # calling function with unpacking dictionary"
   ]
  },
  {
   "cell_type": "code",
   "execution_count": null,
   "id": "403727ff-c862-429e-a76e-c0b77f7b4710",
   "metadata": {},
   "outputs": [],
   "source": [
    "print(solar.__annotations__)        # show the annotation of the function"
   ]
  },
  {
   "cell_type": "markdown",
   "id": "c9f42f19-c00d-41ee-ade9-aaeb28354a69",
   "metadata": {},
   "source": [
    "xii. Understand the functions given below by run, modify and also design different scenarios. "
   ]
  },
  {
   "cell_type": "code",
   "execution_count": null,
   "id": "77cbfcf8-f08d-487c-9440-1fd39fc9f77a",
   "metadata": {},
   "outputs": [],
   "source": [
    "def f(a, b, *args, **kwargs):\n",
    " print(F'a = {a}')\n",
    " print(F'b = {b}')\n",
    " print(F'args = {args}')\n",
    " print(F'kwargs = {kwargs}')\n",
    "f(1, 2, 'foo', 'bar', 'baz', 'qux', x=100, y=200, z=300)"
   ]
  },
  {
   "cell_type": "code",
   "execution_count": null,
   "id": "c8210d88-4a31-4e8b-bf6f-759987b217b9",
   "metadata": {},
   "outputs": [],
   "source": [
    "def f(*args):\n",
    "    for i in args:\n",
    "        print(i)\n",
    "a = [1, 2, 3]\n",
    "t = (4, 5, 6)\n",
    "s = {7, 8, 9}\n",
    "f(*a, *t, *s)"
   ]
  },
  {
   "cell_type": "code",
   "execution_count": null,
   "id": "f8e2b489-4644-4c49-8c71-bff7ec25a622",
   "metadata": {},
   "outputs": [],
   "source": [
    "def f(**kwargs):\n",
    "    for k, v in kwargs.items():\n",
    "        print(k, '->', v)\n",
    "d1 = {'a': 1, 'b': 2}\n",
    "d2 = {'x': 3, 'y': 4}\n",
    "f(**d1, **d2)"
   ]
  },
  {
   "cell_type": "code",
   "execution_count": null,
   "id": "8932499c-2077-4d35-862d-6ef009ff5e4b",
   "metadata": {},
   "outputs": [],
   "source": [
    "def f(*args):\n",
    "    for i in args:\n",
    "        print(i)\n",
    "f(*[1, 2, 3], *[4, 5, 6])"
   ]
  },
  {
   "cell_type": "code",
   "execution_count": null,
   "id": "f796c82b-1142-42a4-8e42-0716b9ff71c5",
   "metadata": {},
   "outputs": [],
   "source": [
    "def f(**kwargs):\n",
    "    for k, v in kwargs.items():\n",
    "        print(k, '->', v)\n",
    "f(**{'a': 1, 'b': 2}, **{'x': 3, 'y': 4})"
   ]
  },
  {
   "cell_type": "code",
   "execution_count": null,
   "id": "75e597cd-6678-4f76-a25c-9aba30e6d31b",
   "metadata": {},
   "outputs": [],
   "source": [
    "def f(a: int, b: str) -> float:\n",
    "    print(a, b)\n",
    "    return(3.5)\n",
    "    f(1, 'foo')\n",
    "f.__annotations__\n"
   ]
  },
  {
   "cell_type": "markdown",
   "id": "d45c0c29-9e5f-445b-a22e-adf71848f6bc",
   "metadata": {},
   "source": [
    "If you want to assign a default value to a parameter that has an annotation,\n",
    "then the default value goes after the annotation:"
   ]
  },
  {
   "cell_type": "code",
   "execution_count": null,
   "id": "2ff028f2-a158-4d1f-a908-6c94c64bddf3",
   "metadata": {},
   "outputs": [],
   "source": [
    "def f(a: int = 12, b: str = 'baz') -> float:\n",
    "    print(a, b)\n",
    "    return(3.5)\n",
    "f.__annotations__\n",
    "f()"
   ]
  },
  {
   "cell_type": "markdown",
   "id": "74267b61-fa1e-42c7-af77-0766282fb297",
   "metadata": {},
   "source": [
    "Annotations don’t impose any semantic restrictions on the code\n",
    "whatsoever.\n",
    "What’s going on here? The annotations for f() indicate that the first\n",
    "argument is int, the second argument str, and the return value float. But the\n",
    "subsequent call to f() breaks all the rules! The arguments are str and float,\n",
    "respectively, and the return value is a tuple. Yet the interpreter lets it all slide\n",
    "with no complaint at all."
   ]
  },
  {
   "cell_type": "code",
   "execution_count": null,
   "id": "1d3c306d-6575-402b-8c3b-030de2010cdd",
   "metadata": {},
   "outputs": [],
   "source": [
    "def f(a: int, b: str) -> float:\n",
    " print(a, b)\n",
    " return 1, 2, 3\n",
    "f('foo', 2.5)"
   ]
  },
  {
   "cell_type": "markdown",
   "id": "aee96cb0-e669-4ecc-91c0-67c0caaed89d",
   "metadata": {},
   "source": [
    "**String:**"
   ]
  },
  {
   "cell_type": "markdown",
   "id": "b539e62e-359a-4ba1-94dc-2b71a0cf1031",
   "metadata": {},
   "source": [
    "Use F-String for three string formatting."
   ]
  },
  {
   "cell_type": "code",
   "execution_count": null,
   "id": "05b3df8d-eb46-45c3-aa2d-a4ae2147668c",
   "metadata": {},
   "outputs": [],
   "source": [
    "# f-string\n",
    "name = 'khayyam'\n",
    "Reg_No = '23jze0548'\n",
    "student=f\"My name is {name}, and my Reg No is {Reg_No}\"\n",
    "print(student)"
   ]
  },
  {
   "cell_type": "markdown",
   "id": "16ef27c5-095c-403d-8c34-a80d28536290",
   "metadata": {},
   "source": [
    "Use .capitalize() for three examples. "
   ]
  },
  {
   "cell_type": "code",
   "execution_count": null,
   "id": "cb96532d-4758-46b4-8edd-2feea4e9f492",
   "metadata": {},
   "outputs": [],
   "source": [
    "name = 'khayyam'\n",
    "department = 'electrical'\n",
    "section = 'power'\n",
    "print(name.capitalize())\n",
    "print(department.capitalize())\n",
    "print(section.capitalize())"
   ]
  },
  {
   "cell_type": "markdown",
   "id": "41c82d23-7b06-4db5-beec-cc995899f5b0",
   "metadata": {},
   "source": [
    "Use .format(*args, **kwargs) for five example formatting."
   ]
  },
  {
   "cell_type": "code",
   "execution_count": null,
   "id": "8785e6ad-2d0d-4257-be2a-6fe3affada7b",
   "metadata": {},
   "outputs": [],
   "source": [
    "# .format ()\n",
    "student=\"I am {0} and my reg no is {1}\"\n",
    "print(student.format('khayyam','23jzele0548'))\n",
    "room = \"In our room {} bad, and also contain {} table\"\n",
    "print(room.format(3,1))\n",
    "my_bag=\"i have {} pen, {} book, and {} copies\"\n",
    "print(my_bag.format(4,1,8))"
   ]
  },
  {
   "cell_type": "markdown",
   "id": "44693f97-7c38-4b47-9f78-702e7a43045d",
   "metadata": {},
   "source": [
    "Use .lower() for three examples."
   ]
  },
  {
   "cell_type": "markdown",
   "id": "1534b31f-65b6-4987-af9e-a5bb95ee69ab",
   "metadata": {},
   "source": [
    "Some method on string return true false and they are frequently use in different applications.\n",
    "Use .isdigit(),.islower(), and .isnumeric() in two example. I"
   ]
  },
  {
   "cell_type": "code",
   "execution_count": null,
   "id": "40cacdaf-8a4d-4fc4-996f-aa75381a47d3",
   "metadata": {},
   "outputs": [],
   "source": [
    "a = \"23435\"\n",
    "c = \"khayyam\"\n",
    "print(a.isdigit())\n",
    "print(c.isdigit())"
   ]
  },
  {
   "cell_type": "code",
   "execution_count": null,
   "id": "6b856295-7d08-4ab9-8c94-ed7f26187cc6",
   "metadata": {},
   "outputs": [],
   "source": [
    "name = \"khayyam\"\n",
    "name1 = \"KHAYYAM\"\n",
    "print(name.islower())\n",
    "print(name1.islower())"
   ]
  },
  {
   "cell_type": "code",
   "execution_count": null,
   "id": "248cb4b5-45e2-427a-bdf3-09debcb0f118",
   "metadata": {},
   "outputs": [],
   "source": [
    "b = \"944239\"\n",
    "d = \"hello\"\n",
    "print(b.isnumeric())\n",
    "print(d.isnumeric())"
   ]
  },
  {
   "cell_type": "markdown",
   "id": "ca0b6d38-ce84-45d7-9839-080671a1e37e",
   "metadata": {},
   "source": [
    "Some other string operation required other methods. Use .split() for two example. "
   ]
  },
  {
   "cell_type": "code",
   "execution_count": 1,
   "id": "32ee3ff7-5e14-40cc-ade4-a10cdfb855af",
   "metadata": {},
   "outputs": [
    {
     "name": "stdout",
     "output_type": "stream",
     "text": [
      "['I', 'am', 'Shahmeer', 'Shah']\n",
      "['how', 'are', 'you', 'I', 'am', 'Shahmeer', 'Shah']\n"
     ]
    }
   ],
   "source": [
    "name =\"I am Shahmeer Shah\"\n",
    "hey = f\"how are you {name}\"\n",
    "print(name.split())\n",
    "print(hey.split())"
   ]
  },
  {
   "cell_type": "markdown",
   "id": "15df2870-f3bb-4b8f-a649-4206a3464d33",
   "metadata": {
    "jp-MarkdownHeadingCollapsed": true
   },
   "source": [
    "# ***Name : Khayyam ud din***\n",
    "# ***Req No : 23jzele0548***\n",
    "# **Lab : 03**"
   ]
  },
  {
   "cell_type": "markdown",
   "id": "7b017692-bc6e-4e5a-8ee7-5bd66e280785",
   "metadata": {
    "jp-MarkdownHeadingCollapsed": true
   },
   "source": [
    "# Lab Report"
   ]
  },
  {
   "cell_type": "markdown",
   "id": "656e1724-b73a-48ae-a853-c7e1f33e0721",
   "metadata": {},
   "source": [
    "1. Make a list that contains the student name, the last four digits of the registration number as\n",
    "an integer, the CGPA as a float, and a list that contains GPA of all semesters. (Nested List)"
   ]
  },
  {
   "cell_type": "code",
   "execution_count": null,
   "id": "2fa01745-7c42-4b1b-a3bf-763bfd5c81bb",
   "metadata": {},
   "outputs": [],
   "source": [
    "# list cantain student name, reg no and cgpa and all samester GPA\n",
    "student_info = ['Shahmeer Shah',528,3.91,[3.86,3.95]]"
   ]
  },
  {
   "cell_type": "code",
   "execution_count": null,
   "id": "66455aab-5357-4908-b4cc-13699c073eb9",
   "metadata": {},
   "outputs": [],
   "source": [
    "print(student_info)"
   ]
  },
  {
   "cell_type": "markdown",
   "id": "c257f525-4b94-43de-8a18-2ecf051b531b",
   "metadata": {},
   "source": [
    "Use list inducing in the following nested list and access each and every element.\n",
    "x = [\"a\", [\"bb\", [\"ccc\", \"ddd\"], \"ee\", \"ff\"], \"g\", [\"hh\", \"ii\"], \"j\"]"
   ]
  },
  {
   "cell_type": "code",
   "execution_count": null,
   "id": "80484f90-9628-4a59-a361-b0b5009b65a9",
   "metadata": {},
   "outputs": [],
   "source": [
    "x = [\"a\", [\"bb\", [\"ccc\", \"ddd\"], \"ee\", \"ff\"], \"g\", [\"hh\", \"ii\"], \"j\"]"
   ]
  },
  {
   "cell_type": "code",
   "execution_count": null,
   "id": "e1f6a79e-28d2-4552-b152-fe4b05937394",
   "metadata": {},
   "outputs": [],
   "source": [
    "x[0]"
   ]
  },
  {
   "cell_type": "code",
   "execution_count": null,
   "id": "dad9d322-9032-4ba1-9dd8-a44dc8bab716",
   "metadata": {},
   "outputs": [],
   "source": [
    "x[1][0]"
   ]
  },
  {
   "cell_type": "code",
   "execution_count": null,
   "id": "faee42ab-1079-4738-a89f-5c087db7e1b6",
   "metadata": {},
   "outputs": [],
   "source": [
    "x[1][1][0]"
   ]
  },
  {
   "cell_type": "code",
   "execution_count": null,
   "id": "dc4c46de-9728-48c0-9294-4ea97900d3dc",
   "metadata": {},
   "outputs": [],
   "source": [
    "x[1][1][1]"
   ]
  },
  {
   "cell_type": "code",
   "execution_count": null,
   "id": "be2cff24-c816-4cb5-86c9-fcc82a80ef40",
   "metadata": {},
   "outputs": [],
   "source": [
    "x[1][2]"
   ]
  },
  {
   "cell_type": "code",
   "execution_count": null,
   "id": "91cec396-f4f1-419b-8a73-494d2273e613",
   "metadata": {},
   "outputs": [],
   "source": [
    "x[1][3]"
   ]
  },
  {
   "cell_type": "code",
   "execution_count": null,
   "id": "19f6fc9e-6199-4c2e-bff6-076b021bf18c",
   "metadata": {},
   "outputs": [],
   "source": [
    "x[2]"
   ]
  },
  {
   "cell_type": "code",
   "execution_count": null,
   "id": "c9c2ce94-5dce-447a-8541-a21ca2dcdb25",
   "metadata": {},
   "outputs": [],
   "source": [
    "x[3][0]"
   ]
  },
  {
   "cell_type": "code",
   "execution_count": null,
   "id": "3b504539-f615-446f-abc7-cd25265dd70a",
   "metadata": {},
   "outputs": [],
   "source": [
    "x[3][1]"
   ]
  },
  {
   "cell_type": "code",
   "execution_count": null,
   "id": "13812a28-6db9-4eb0-a90b-953faddfa068",
   "metadata": {},
   "outputs": [],
   "source": [
    "x[4]"
   ]
  },
  {
   "cell_type": "markdown",
   "id": "8eade660-14d8-484f-a1cd-bcada764ac5a",
   "metadata": {
    "jp-MarkdownHeadingCollapsed": true
   },
   "source": [
    "# Lab Practice"
   ]
  },
  {
   "cell_type": "markdown",
   "id": "495ccd52-1ee3-4761-b9b7-836176021fb1",
   "metadata": {},
   "source": [
    "**List**"
   ]
  },
  {
   "cell_type": "markdown",
   "id": "e006c73b-e351-49b8-a971-b80c80eca60c",
   "metadata": {},
   "source": [
    "1. Make a list of 5 any integers."
   ]
  },
  {
   "cell_type": "code",
   "execution_count": null,
   "id": "61f5eaec-b91c-4b82-aeb4-ffefa3dc46c0",
   "metadata": {},
   "outputs": [],
   "source": [
    "lst1 = [1,2,3,4,5]\n",
    "print(lst1)"
   ]
  },
  {
   "cell_type": "markdown",
   "id": "9e81b5c7-b239-4a6b-a4f8-30f8c3a0347f",
   "metadata": {},
   "source": [
    "Make a list that contains the student's name, the last four digits of the registration number as an integer, CGPA as a float, and a list that contains the GPA of all semesters. (Nested List)"
   ]
  },
  {
   "cell_type": "code",
   "execution_count": null,
   "id": "ab71bb2c-808c-48a0-b140-c8683b817a58",
   "metadata": {},
   "outputs": [],
   "source": [
    "student = ['Yahya', 528, 3.91, [3.86,3.95]]\n",
    "print(student)"
   ]
  },
  {
   "cell_type": "code",
   "execution_count": null,
   "id": "c3fcf60d-f619-41fc-a282-5d5729589999",
   "metadata": {},
   "outputs": [],
   "source": [
    "print(student[2])"
   ]
  },
  {
   "cell_type": "markdown",
   "id": "59538e8f-9e98-48fa-bbb2-fcb4302ff8c3",
   "metadata": {},
   "source": [
    "Print the list elements using the while loop and use the length function. (len)"
   ]
  },
  {
   "cell_type": "code",
   "execution_count": null,
   "id": "9ba9b008-65df-4762-b878-320c3835e65e",
   "metadata": {},
   "outputs": [],
   "source": [
    "i = 0\n",
    "while i < len(student):\n",
    "    print(student[i])\n",
    "    i += 1"
   ]
  },
  {
   "cell_type": "code",
   "execution_count": null,
   "id": "458faa60-7a20-4dde-9769-67ae2237a743",
   "metadata": {},
   "outputs": [],
   "source": [
    "print(student)"
   ]
  },
  {
   "cell_type": "markdown",
   "id": "bb1adac5-e7b3-4040-a13a-71e289b95ef5",
   "metadata": {},
   "source": [
    "Access the list of all semester GPAs using negative indexing."
   ]
  },
  {
   "cell_type": "code",
   "execution_count": null,
   "id": "d3d43be0-afef-4140-a41e-464b03393fc0",
   "metadata": {},
   "outputs": [],
   "source": [
    "student[-1]"
   ]
  },
  {
   "cell_type": "markdown",
   "id": "8016e34e-f433-4e1d-bcfe-42f9bb9d1738",
   "metadata": {},
   "source": [
    "Make a list of the first 20 integers using the range function."
   ]
  },
  {
   "cell_type": "code",
   "execution_count": null,
   "id": "f2494e7d-5379-4378-ab1b-697655ff9547",
   "metadata": {},
   "outputs": [],
   "source": [
    "lst2 = [x for x in range(1,21)]\n",
    "print(lst2)"
   ]
  },
  {
   "cell_type": "markdown",
   "id": "67707792-a17d-45e9-b32b-d3ea35be5eb2",
   "metadata": {},
   "source": [
    "Make a list of odd integers from 20 to 40 using the range function."
   ]
  },
  {
   "cell_type": "code",
   "execution_count": null,
   "id": "ce70b345-2620-4ec5-818c-63e23818be13",
   "metadata": {},
   "outputs": [],
   "source": [
    "lst3 = [x for x in range(20,40) if x % 2 != 0]\n",
    "print(lst3)"
   ]
  },
  {
   "cell_type": "markdown",
   "id": "e77d95d8-7281-4469-aa8b-1a897b625f6b",
   "metadata": {},
   "source": [
    "Consider the student list. *Student = [Ibrahim, Husain, Irfan, Ayub, Usman]* Use in and not in operators to ensure that the student is in the list or not."
   ]
  },
  {
   "cell_type": "code",
   "execution_count": 2,
   "id": "de00c035-b34a-4c78-996d-6aedf8cd02eb",
   "metadata": {},
   "outputs": [],
   "source": [
    "Students = ['Shahmeer', 'khan', 'Irfan', 'Ayub', 'Fawad']"
   ]
  },
  {
   "cell_type": "code",
   "execution_count": 4,
   "id": "099eecf0-5432-4cdc-bd5f-d41ba6ee6514",
   "metadata": {},
   "outputs": [
    {
     "name": "stdout",
     "output_type": "stream",
     "text": [
      "False\n",
      "True\n",
      "True\n",
      "False\n"
     ]
    }
   ],
   "source": [
    "print('Ibrahim1' in Students)\n",
    "print('yahya' not in Students)\n",
    "print('Ayub' in Students)\n",
    "print('Fawad' not in Students)"
   ]
  },
  {
   "cell_type": "markdown",
   "id": "d6cc03e1-0849-492c-b4b8-3d08b432428c",
   "metadata": {},
   "source": [
    "Print all the student lists in task 8 using the for loop"
   ]
  },
  {
   "cell_type": "code",
   "execution_count": null,
   "id": "61c661ab-d1b9-48fd-a89e-6d16d55d1e89",
   "metadata": {},
   "outputs": [],
   "source": [
    "for i in Students:\n",
    "    print(i)"
   ]
  },
  {
   "cell_type": "markdown",
   "id": "3095fb9a-11d8-4d2f-9048-dd1071c4926c",
   "metadata": {},
   "source": [
    "Observe what is print, what is the first thing print, what the last thing print. Consider task 8 for the student list.\n",
    "Student [1:3] and student [2:4]"
   ]
  },
  {
   "cell_type": "code",
   "execution_count": null,
   "id": "1bbd5271-92e1-4807-8d55-b3aff6aefa77",
   "metadata": {},
   "outputs": [],
   "source": [
    "Students [1:3]"
   ]
  },
  {
   "cell_type": "code",
   "execution_count": null,
   "id": "efd53f3d-228d-476c-b7ea-9cd852158ef4",
   "metadata": {},
   "outputs": [],
   "source": [
    "Students [2:4]"
   ]
  },
  {
   "cell_type": "markdown",
   "id": "dcf74c8e-0669-4032-8394-7a0ce41dd7dc",
   "metadata": {},
   "source": [
    "Make an appropriate list and use and demonstrate the use of the following mutator Methods.\n",
    "* append(obj)\n",
    "* extend(iterable)\n",
    "* insert(index, obj)\n",
    "* remove(obj)\n",
    "* pop([index=-1])"
   ]
  },
  {
   "cell_type": "code",
   "execution_count": null,
   "id": "0eada744-57c1-4ade-9865-b4f5cba4abde",
   "metadata": {},
   "outputs": [],
   "source": [
    "lst5 = ['a','b','c','d','e','f']\n",
    "lst5"
   ]
  },
  {
   "cell_type": "code",
   "execution_count": null,
   "id": "12aeb24e-5bfb-40e3-940c-249290eb5c09",
   "metadata": {},
   "outputs": [],
   "source": [
    "lst5.append('g')\n",
    "lst5"
   ]
  },
  {
   "cell_type": "code",
   "execution_count": null,
   "id": "3e02c9f3-e259-4500-81f3-23309f36b021",
   "metadata": {},
   "outputs": [],
   "source": [
    "lst5.extend('h')\n",
    "lst5"
   ]
  },
  {
   "cell_type": "code",
   "execution_count": null,
   "id": "cc78c0db-27c1-4571-8b19-688780df1cde",
   "metadata": {},
   "outputs": [],
   "source": [
    "lst5.remove('x')\n",
    "lst5"
   ]
  },
  {
   "cell_type": "code",
   "execution_count": null,
   "id": "60602006-1cf9-4e58-b5cb-223120b62e80",
   "metadata": {},
   "outputs": [],
   "source": [
    "lst5.insert(2, 'x')\n",
    "lst5"
   ]
  },
  {
   "cell_type": "code",
   "execution_count": null,
   "id": "f3927c42-ee17-4558-a76e-286bf51f6cc0",
   "metadata": {},
   "outputs": [],
   "source": [
    "lst5.pop(-1)"
   ]
  },
  {
   "cell_type": "markdown",
   "id": "18c41291-b60b-4a00-a5f3-4c3763b51219",
   "metadata": {},
   "source": [
    "Use list inducing in the following nested list and access each and every element.\n",
    "x = [\"a\", [\"bb\", [\"ccc\", \"ddd\"], \"ee\", \"ff\"], \"g\", [\"hh\", \"ii\"], \"j\"]"
   ]
  },
  {
   "cell_type": "code",
   "execution_count": null,
   "id": "2d522065-a153-4455-82c8-c8064d3d9095",
   "metadata": {},
   "outputs": [],
   "source": [
    "x = [\"a\", [\"bb\", [\"ccc\", \"ddd\"], \"ee\", \"ff\"], \"g\", [\"hh\", \"ii\"], \"j\"]"
   ]
  },
  {
   "cell_type": "code",
   "execution_count": null,
   "id": "833496fb-7675-4314-8aa6-4c8d8933801e",
   "metadata": {},
   "outputs": [],
   "source": [
    "print(x[0])"
   ]
  },
  {
   "cell_type": "code",
   "execution_count": null,
   "id": "4dcfe4d4-a65a-4a60-9688-2888c8b7c7f8",
   "metadata": {},
   "outputs": [],
   "source": [
    "print(x[1][0])"
   ]
  },
  {
   "cell_type": "code",
   "execution_count": null,
   "id": "58317184-8ada-4f4a-adaa-fbea6ae0a2d5",
   "metadata": {},
   "outputs": [],
   "source": [
    "print(x[1][1][0])"
   ]
  },
  {
   "cell_type": "code",
   "execution_count": null,
   "id": "36d399c9-4ed1-4b13-b487-bf4d1486c07c",
   "metadata": {},
   "outputs": [],
   "source": [
    "print(x[1][1][1])"
   ]
  },
  {
   "cell_type": "code",
   "execution_count": null,
   "id": "177a1116-8379-4881-a28e-c067152b23dc",
   "metadata": {},
   "outputs": [],
   "source": [
    "print(x[1][2])"
   ]
  },
  {
   "cell_type": "code",
   "execution_count": null,
   "id": "e51e20a5-3aa9-410d-b0eb-fbbc0a5e5ccd",
   "metadata": {},
   "outputs": [],
   "source": [
    "print(x[1][3])"
   ]
  },
  {
   "cell_type": "code",
   "execution_count": null,
   "id": "0e9d9e7d-c14f-471c-86b1-0d6a77c56173",
   "metadata": {},
   "outputs": [],
   "source": [
    "print(x[2])"
   ]
  },
  {
   "cell_type": "code",
   "execution_count": null,
   "id": "5679b449-5ffd-41ac-a6b3-d29eae3135cc",
   "metadata": {},
   "outputs": [],
   "source": [
    "print(x[3][0])"
   ]
  },
  {
   "cell_type": "code",
   "execution_count": null,
   "id": "ee5c54c1-e0d6-4659-8c87-f56c69237def",
   "metadata": {},
   "outputs": [],
   "source": [
    "print(x[3][1])"
   ]
  },
  {
   "cell_type": "code",
   "execution_count": null,
   "id": "187051f0-6b91-406e-b6b4-a616f516a5ab",
   "metadata": {},
   "outputs": [],
   "source": [
    "print(x[4])"
   ]
  },
  {
   "cell_type": "markdown",
   "id": "c07224a8-93aa-4006-8110-657d8f5ebe32",
   "metadata": {},
   "source": [
    "**Tuple**"
   ]
  },
  {
   "cell_type": "markdown",
   "id": "f0c81f93-f6a1-4b37-84f4-3151f0246445",
   "metadata": {},
   "source": [
    "1. Make a tuple containing first five letters of English. (definition)"
   ]
  },
  {
   "cell_type": "code",
   "execution_count": null,
   "id": "2c9cff61-1858-4cd0-be0f-d3eb174b7ebd",
   "metadata": {},
   "outputs": [],
   "source": [
    "tpl1 = ('a','b','c','d','e')"
   ]
  },
  {
   "cell_type": "code",
   "execution_count": null,
   "id": "d5f3ee85-2a90-4574-8f58-479b97ce185d",
   "metadata": {},
   "outputs": [],
   "source": [
    "tpl1"
   ]
  },
  {
   "cell_type": "markdown",
   "id": "1a070285-6453-48b9-b9d8-c2ebf4143298",
   "metadata": {},
   "source": [
    "Use the index to access the third and last element."
   ]
  },
  {
   "cell_type": "code",
   "execution_count": null,
   "id": "3f50d1c5-52c2-47a7-a520-da9c6db6a2da",
   "metadata": {},
   "outputs": [],
   "source": [
    "tpl1[2]"
   ]
  },
  {
   "cell_type": "code",
   "execution_count": null,
   "id": "1a95a7a3-d33c-4f02-bc23-8d40020d00a9",
   "metadata": {},
   "outputs": [],
   "source": [
    "tpl1[4]"
   ]
  },
  {
   "cell_type": "markdown",
   "id": "2afa0da1-6b34-4f69-abda-cc698ce67bef",
   "metadata": {},
   "source": [
    "Make an appropriate list and tuple and use different operations that will show that list is mutable and tuple is immutable."
   ]
  },
  {
   "cell_type": "code",
   "execution_count": null,
   "id": "1905ad2f-4e58-4f52-9013-b6605fb2ad86",
   "metadata": {},
   "outputs": [],
   "source": [
    "lst1 = ['a', 'b', 'c', 'd', 'e']"
   ]
  },
  {
   "cell_type": "code",
   "execution_count": null,
   "id": "083eac8d-2750-4dae-98ea-a11b9afd4789",
   "metadata": {},
   "outputs": [],
   "source": [
    "lst1"
   ]
  },
  {
   "cell_type": "code",
   "execution_count": null,
   "id": "7a1abaa1-79ad-4b2f-9e70-b52d0e14b4b5",
   "metadata": {},
   "outputs": [],
   "source": [
    "# .append()\n",
    "lst1.append('f')    # list is mutable\n",
    "print(lst1)"
   ]
  },
  {
   "cell_type": "code",
   "execution_count": null,
   "id": "5c2c5124-7057-4d03-934c-3b064b10731c",
   "metadata": {},
   "outputs": [],
   "source": [
    "# .append()\n",
    "tpl1.append('f')    # tuple is immutable and show error just after running\n",
    "print(tpl1)"
   ]
  },
  {
   "cell_type": "code",
   "execution_count": null,
   "id": "51d4ede1-4f5d-4ec7-8dda-a1223666bc4c",
   "metadata": {},
   "outputs": [],
   "source": [
    "lst1[2] = 'e'   # mutable\n",
    "lst1"
   ]
  },
  {
   "cell_type": "code",
   "execution_count": null,
   "id": "76efa0d6-7c01-435a-9781-3f409c47ad2e",
   "metadata": {},
   "outputs": [],
   "source": [
    "tpl1[0] = 'x'   # immutable it shwo an error juct after running\n",
    "tpl1"
   ]
  },
  {
   "cell_type": "markdown",
   "id": "6221a31b-8b46-4f7d-ab86-5d1cd30be2dc",
   "metadata": {},
   "source": [
    "Make a tuple num = (1, 2, 3, 4). a. Observe the output num[2] = 9"
   ]
  },
  {
   "cell_type": "code",
   "execution_count": null,
   "id": "7dd0e657-6706-469c-b778-d7db95c72dac",
   "metadata": {},
   "outputs": [],
   "source": [
    "num[2] = 9  # i abserb that tuple is immutable"
   ]
  },
  {
   "cell_type": "markdown",
   "id": "73a3eb94-6f2b-4f1d-af3d-03787c6458c0",
   "metadata": {},
   "source": [
    "**Dictionary**"
   ]
  },
  {
   "cell_type": "markdown",
   "id": "f5de898b-4907-4971-94ff-62e32e3fbd3e",
   "metadata": {},
   "source": [
    "consider the following structure and observe. Fd= { ‘one’: ‘aik’, , ‘three’: ‘teen’, ‘ten’ : ‘das’, ‘fifteen’ : ‘pandra’}\n",
    "Bracket type\n",
    "* Print Fd\n",
    "* Fd[‘one’]\n",
    "* Fd[‘ten’]\n",
    "* del Fd[‘three’] and then print Fd.\n",
    "* Len(Fd).\n",
    "* Use the key method and print the list of keys.\n",
    "* Use the value function to print the list of values.\n",
    "* Observe the output of Fd.items().\n",
    "* Observe the output Fd.has_key(‘one) and Fd.has_key(‘two’) and think where such type of output will help and required.\n",
    "* To copy the dictionary, one may use one of the following. Verify by printing copy and alias.\n",
    "* copy = Fd.copy()\n",
    "* alias = Fd\n",
    "* Now let alias[‘three’] = ‘3’, now print alias and observe the result.\n",
    "* Also let copy[‘three’] = ‘3’, now print copy and observe the result."
   ]
  },
  {
   "cell_type": "code",
   "execution_count": null,
   "id": "1c00957d-324c-4fb9-adc6-116143d99aee",
   "metadata": {},
   "outputs": [],
   "source": [
    "fd= { 'one': 'aik', 'three': 'teen', 'ten' : 'das', 'fifteen' : 'pandra'}\n",
    "print(type({}))"
   ]
  },
  {
   "cell_type": "code",
   "execution_count": null,
   "id": "2f317ce7-141d-462a-8db7-771e18b1664f",
   "metadata": {},
   "outputs": [],
   "source": [
    "print(fd)"
   ]
  },
  {
   "cell_type": "code",
   "execution_count": null,
   "id": "7431a87a-4e1d-4417-8e75-249088514604",
   "metadata": {},
   "outputs": [],
   "source": [
    "fd['one']"
   ]
  },
  {
   "cell_type": "code",
   "execution_count": null,
   "id": "7cbb919b-c341-4f9a-8f4c-640727007a6a",
   "metadata": {},
   "outputs": [],
   "source": [
    "fd['ten']"
   ]
  },
  {
   "cell_type": "code",
   "execution_count": null,
   "id": "05ff948b-74d0-4c52-8a14-088e36a02b3b",
   "metadata": {},
   "outputs": [],
   "source": [
    "del fd['three']\n",
    "print(fd)"
   ]
  },
  {
   "cell_type": "code",
   "execution_count": null,
   "id": "4e54f30e-1384-4f42-95c6-ed1d71b203eb",
   "metadata": {},
   "outputs": [],
   "source": [
    "len(fd)"
   ]
  },
  {
   "cell_type": "code",
   "execution_count": null,
   "id": "b3eb07ac-6f08-420d-847c-a9cd43a72d21",
   "metadata": {},
   "outputs": [],
   "source": [
    "fd.keys()"
   ]
  },
  {
   "cell_type": "code",
   "execution_count": null,
   "id": "70548c5b-325f-4a0e-a39f-8e4783db835f",
   "metadata": {},
   "outputs": [],
   "source": [
    "fd.values()"
   ]
  },
  {
   "cell_type": "code",
   "execution_count": null,
   "id": "88a4b35e-d817-4cbc-b1b0-3d1d0967ccc8",
   "metadata": {},
   "outputs": [],
   "source": [
    "fd.items()"
   ]
  },
  {
   "cell_type": "code",
   "execution_count": null,
   "id": "49e1ebfb-c405-4fef-a59c-ebbf90eaaad2",
   "metadata": {},
   "outputs": [],
   "source": [
    "fd.has_key('one')   # in ptython 3 .has_key methode were remove after running it show error"
   ]
  },
  {
   "cell_type": "markdown",
   "id": "a5b229e8-e353-4fbc-a09a-751bf4b396b6",
   "metadata": {},
   "source": [
    " Observe the output Fd.has_key(‘one) and Fd.has_key(‘two’) and think where such type of output will help and required"
   ]
  },
  {
   "cell_type": "markdown",
   "id": "67a39f85-3b00-4e5a-a3cb-b782f753a9ff",
   "metadata": {},
   "source": [
    "To copy the dictionary, one may use one of the following. Verify by printing copy and alias.\n",
    "* copy = Fd.copy()\n",
    "* alias = Fd\n",
    "* Now let alias[‘three’] = ‘3’, now print alias and observe the result.\n",
    "* Also let copy[‘three’] = ‘3’, now print copy and observe the result."
   ]
  },
  {
   "cell_type": "code",
   "execution_count": null,
   "id": "ca275d45-38b3-46f5-b8e4-0ce14fe9effa",
   "metadata": {},
   "outputs": [],
   "source": [
    "copy = fd.copy()"
   ]
  },
  {
   "cell_type": "code",
   "execution_count": null,
   "id": "6cb108e7-e2c5-407e-84f3-c5c0e65dadc8",
   "metadata": {},
   "outputs": [],
   "source": [
    "alias = copy"
   ]
  },
  {
   "cell_type": "code",
   "execution_count": null,
   "id": "62af6470-4663-4901-a192-b670b6e4f993",
   "metadata": {},
   "outputs": [],
   "source": [
    "alias['three'] = '3'\n",
    "alias"
   ]
  },
  {
   "cell_type": "code",
   "execution_count": null,
   "id": "16d038e7-ce29-4db2-8857-75421ae9e3eb",
   "metadata": {},
   "outputs": [],
   "source": [
    "copy['three'] = '3'\n",
    "copy"
   ]
  },
  {
   "cell_type": "markdown",
   "id": "bc043e68-018b-4eb4-b2ae-086483e95f13",
   "metadata": {},
   "source": [
    "Make an appropriate dictionary and use the following built-in function and observe the\n",
    "result.\n",
    "* .clear()\n",
    "* .get()\n",
    "* .item()\n",
    "* .keys()\n",
    "* .vallues()"
   ]
  },
  {
   "cell_type": "code",
   "execution_count": null,
   "id": "c17f1ed4-df8c-4bdb-add3-c6fb286c83cf",
   "metadata": {},
   "outputs": [],
   "source": [
    "dict1 = {'a': 1, 'b': 2, 'c': 3, 'd': 4, 'f':5}\n",
    "dict1"
   ]
  },
  {
   "cell_type": "code",
   "execution_count": null,
   "id": "6d8471b4-009b-4d88-af0e-3a699a0b1ea8",
   "metadata": {},
   "outputs": [],
   "source": [
    "dict1.get('b')    #.get()"
   ]
  },
  {
   "cell_type": "code",
   "execution_count": null,
   "id": "6949fb5c-6ab0-4777-8305-9263331a2a07",
   "metadata": {},
   "outputs": [],
   "source": [
    "dict1.get('f')  # .get()"
   ]
  },
  {
   "cell_type": "code",
   "execution_count": null,
   "id": "eee43eb0-ed31-440e-9389-98fe8d14bc70",
   "metadata": {},
   "outputs": [],
   "source": [
    "dict1.items()     #  .items()"
   ]
  },
  {
   "cell_type": "code",
   "execution_count": null,
   "id": "d47ba20b-9b2e-4d3d-b66a-941162ed8f3f",
   "metadata": {},
   "outputs": [],
   "source": [
    "dict1.keys()     # .keys()"
   ]
  },
  {
   "cell_type": "code",
   "execution_count": null,
   "id": "7275709c-25db-4560-b76f-7625d9c13a8f",
   "metadata": {},
   "outputs": [],
   "source": [
    "dict1.values()       # .values()"
   ]
  },
  {
   "cell_type": "code",
   "execution_count": null,
   "id": "165d3198-044b-4bff-8521-8897d53ee2b1",
   "metadata": {},
   "outputs": [],
   "source": [
    "dict1.clear()          # .clear()"
   ]
  },
  {
   "cell_type": "code",
   "execution_count": null,
   "id": "4e64f1ae-7dc4-4f61-84fe-353d4417c858",
   "metadata": {},
   "outputs": [],
   "source": [
    "dict1"
   ]
  },
  {
   "cell_type": "markdown",
   "id": "fab5c2a3-3343-47ef-acb7-0fcf41e56a5e",
   "metadata": {},
   "source": [
    "**List comprehension:**"
   ]
  },
  {
   "cell_type": "markdown",
   "id": "d742ad3f-8dc5-44c2-8146-fedff34e9152",
   "metadata": {},
   "source": [
    "a. Consider the following code and print the square."
   ]
  },
  {
   "cell_type": "code",
   "execution_count": null,
   "id": "bcdd79b1-54d1-4a42-a0b6-fe2ce6f7f6d3",
   "metadata": {},
   "outputs": [],
   "source": [
    "squares = []   # this simple way to print squares of number  from 1 to 10\n",
    "for x in range(10):\n",
    " squares.append(x * x)\n",
    "squares"
   ]
  },
  {
   "cell_type": "markdown",
   "id": "75b97986-1de8-414d-9a22-4de0a0467499",
   "metadata": {},
   "source": [
    "Replace the above code with the following. Print the square. This sample one-line code is called list comprehension."
   ]
  },
  {
   "cell_type": "code",
   "execution_count": null,
   "id": "d485be01-a9e6-45a3-b1ff-3c5a1ffd22e5",
   "metadata": {},
   "outputs": [],
   "source": [
    "squares = [x * x for x in range(10)]  # this list comprehension way to print squares of number  from 1 to 10\n",
    "squares"
   ]
  },
  {
   "cell_type": "markdown",
   "id": "af5298d6-3666-42f2-9de8-d9c6dc61bac3",
   "metadata": {},
   "source": [
    "Change x*x by any function of x and observe the resulting list."
   ]
  },
  {
   "cell_type": "code",
   "execution_count": null,
   "id": "65fbb8ef-786e-44cf-89bc-a1c281e2d07c",
   "metadata": {},
   "outputs": [],
   "source": [
    "squares = [x for x in range(10)] \n",
    "squares"
   ]
  },
  {
   "cell_type": "markdown",
   "id": "9fa963ee-822e-4049-9c7f-08be5bf85fa3",
   "metadata": {},
   "source": [
    "List comprehensions can filter values based on some arbitrary condition that decides whether or not the resulting value becomes a part of the output list."
   ]
  },
  {
   "cell_type": "code",
   "execution_count": null,
   "id": "ff9d2b2e-8eef-459b-b9f5-8b3a76ffdac6",
   "metadata": {},
   "outputs": [],
   "source": [
    "even_squares = [x * x for x in range(10) if x % 2 == 0]   # list  comperhension\n",
    "even_squares"
   ]
  },
  {
   "cell_type": "markdown",
   "id": "b89c2e7e-ffa8-467f-a59b-fe502e21e0bc",
   "metadata": {},
   "source": [
    "The generalized syntax: values = [expression for item in collection if condition]\n",
    "This new list comprehension can be transformed into an equivalent for-loop:"
   ]
  },
  {
   "cell_type": "code",
   "execution_count": null,
   "id": "ebe440db-4d66-4231-8824-c44969ddf7dd",
   "metadata": {},
   "outputs": [],
   "source": [
    "even_squares = []           #  simple form to print number with for loop\n",
    "for x in range(10):\n",
    "    if x % 2 == 0:\n",
    "        even_squares.append(x * x)\n",
    "even_squares"
   ]
  },
  {
   "cell_type": "markdown",
   "id": "a2393a2a-0b1d-46a6-9d07-6ad7b3c905de",
   "metadata": {},
   "source": [
    "**Dictionary comprehension:**"
   ]
  },
  {
   "cell_type": "markdown",
   "id": "7c273d54-9c8e-479f-86c9-e47c2af68772",
   "metadata": {},
   "source": [
    "a. { x: x * x for x in range(5) }"
   ]
  },
  {
   "cell_type": "code",
   "execution_count": null,
   "id": "e0af7e21-a889-40df-8c91-83e85497e4ab",
   "metadata": {},
   "outputs": [],
   "source": [
    "a = { x: x * x for x in range(5) }"
   ]
  },
  {
   "cell_type": "code",
   "execution_count": null,
   "id": "47c0879c-6b0b-47ef-bc1c-b2d887c92a53",
   "metadata": {},
   "outputs": [],
   "source": [
    "a"
   ]
  },
  {
   "cell_type": "markdown",
   "id": "6d8e53e9-f0f3-49fa-9657-e61bb3d3c299",
   "metadata": {
    "jp-MarkdownHeadingCollapsed": true
   },
   "source": [
    "# ***Name : khayyam ud din***\n",
    "# ***Reg No : 23jzele0548***\n",
    "# **Lab : 04**"
   ]
  },
  {
   "cell_type": "markdown",
   "id": "a1eaac0d-94f3-4f15-815e-43b3f9bac0a4",
   "metadata": {
    "jp-MarkdownHeadingCollapsed": true
   },
   "source": [
    "# Lab  Report"
   ]
  },
  {
   "cell_type": "markdown",
   "id": "ebe6ed09-25ce-4e76-890b-dd528a79b13f",
   "metadata": {},
   "source": [
    "a. Make an object and print its x and y coordinates. "
   ]
  },
  {
   "cell_type": "code",
   "execution_count": null,
   "id": "da7a2a03-9eaa-41ed-b16e-66ff4d1d816d",
   "metadata": {},
   "outputs": [],
   "source": [
    "class Point:\n",
    "    pass"
   ]
  },
  {
   "cell_type": "code",
   "execution_count": null,
   "id": "293c51f7-f0f9-419e-893a-a5c1e1ff413b",
   "metadata": {},
   "outputs": [],
   "source": [
    "import math\n",
    "class Point:\n",
    "    \"\"\"Represents a point in two-dimensional geometric\n",
    "coordinates\n",
    "    Parameters\n",
    "        ----------\n",
    "        x : float\n",
    "        y : float\n",
    "    \"\"\"\n",
    "    def __init__(self, x: float, y: float)->None:\n",
    "        self.x = x\n",
    "        self.y = y\n",
    "    def distance(self, p2)->float:\n",
    "        return math.sqrt((self.x-p2.x)**2 + (self.y-p2.y)**2)\n",
    "    def point(self) -> None:\n",
    "        print(f\"Point({self.x}, {self.y})\")\n",
    "print(Point.__doc__)"
   ]
  },
  {
   "cell_type": "markdown",
   "id": "f977198c-3c17-4a98-b474-d3be6cb80029",
   "metadata": {},
   "source": [
    "a. Define point1 and pass two numbers. "
   ]
  },
  {
   "cell_type": "code",
   "execution_count": null,
   "id": "08f56e8f-733a-4e79-8fe0-33f8e89fd761",
   "metadata": {},
   "outputs": [],
   "source": [
    "p1 = Point(2,3)"
   ]
  },
  {
   "cell_type": "markdown",
   "id": "86600a60-833e-471c-8859-44936f50c5e7",
   "metadata": {},
   "source": [
    "b. Make another instance of the point class, say its name is p2. "
   ]
  },
  {
   "cell_type": "code",
   "execution_count": null,
   "id": "af7506c0-102b-44b8-b41a-17f568beea41",
   "metadata": {},
   "outputs": [],
   "source": [
    "p2 = Point(4,2)"
   ]
  },
  {
   "cell_type": "markdown",
   "id": "2c9ad3f9-94c7-4176-adfa-90e4bb0d06e3",
   "metadata": {},
   "source": [
    "c. Print p1 and p2, for this use the print command and pass the point as input. "
   ]
  },
  {
   "cell_type": "code",
   "execution_count": null,
   "id": "580d72ee-eb44-449b-b264-4534e6b6a71d",
   "metadata": {},
   "outputs": [],
   "source": [
    "print(p1)"
   ]
  },
  {
   "cell_type": "code",
   "execution_count": null,
   "id": "34966399-db43-48e9-b80d-0e465d80f13b",
   "metadata": {},
   "outputs": [],
   "source": [
    "print(p2)"
   ]
  },
  {
   "cell_type": "markdown",
   "id": "8eb7beb1-dc9e-4c6c-a72d-0f3cd38bd8b6",
   "metadata": {},
   "source": [
    "d. Print the coordinate by using the object and dot operator.\n"
   ]
  },
  {
   "cell_type": "code",
   "execution_count": null,
   "id": "323f9146-d536-4683-9100-7b104418c1f8",
   "metadata": {},
   "outputs": [],
   "source": [
    "print(f\"p1 coordinates is ({p1.x} , {p1.y})\")"
   ]
  },
  {
   "cell_type": "code",
   "execution_count": null,
   "id": "fd9068aa-2c71-4426-ab53-6e55da04dd1d",
   "metadata": {},
   "outputs": [],
   "source": [
    "print(f\"p2 coordinates is ({p2.x} , {p2.y})\")"
   ]
  },
  {
   "cell_type": "markdown",
   "id": "e10c5496-456e-4a2b-98d1-dd3af15a0a9b",
   "metadata": {},
   "source": [
    "e. Add a new method to the point class that can effectively print the points. Print both the\n",
    "point using that function. "
   ]
  },
  {
   "cell_type": "code",
   "execution_count": null,
   "id": "b6892030-7447-4586-a2e9-a816c02b40f2",
   "metadata": {},
   "outputs": [],
   "source": [
    "p1.point()"
   ]
  },
  {
   "cell_type": "code",
   "execution_count": null,
   "id": "caa6cdfb-fb69-4e2e-a4bb-0e5da8a3fbc4",
   "metadata": {},
   "outputs": [],
   "source": [
    "p2.point()"
   ]
  },
  {
   "cell_type": "markdown",
   "id": "2159674a-4784-4069-9f98-c9fa261f6d28",
   "metadata": {},
   "source": [
    "f. Calculate the distance between these two pints."
   ]
  },
  {
   "cell_type": "code",
   "execution_count": null,
   "id": "decd892e-6080-4870-96e2-2b3d99188b9d",
   "metadata": {},
   "outputs": [],
   "source": [
    "Distance = p1.distance(p2)"
   ]
  },
  {
   "cell_type": "code",
   "execution_count": null,
   "id": "e2445c46-a960-4f5a-a1d9-df9bbeb244f4",
   "metadata": {},
   "outputs": [],
   "source": [
    "print(f\"Distance B/W two points (p1, p2) is {Distance}\")"
   ]
  },
  {
   "cell_type": "markdown",
   "id": "35448279-bae0-430f-9ce4-3aa28f6d3fad",
   "metadata": {
    "jp-MarkdownHeadingCollapsed": true
   },
   "source": [
    "# Lab Practice"
   ]
  },
  {
   "cell_type": "markdown",
   "id": "c6b7906f-52d1-41c7-8f87-c569afcf0a90",
   "metadata": {},
   "source": [
    "**Class**"
   ]
  },
  {
   "cell_type": "markdown",
   "id": "9e6df38e-e60d-4134-853b-036d9ef79c19",
   "metadata": {
    "jp-MarkdownHeadingCollapsed": true
   },
   "source": [
    "1. Motivation\n",
    "Interest is to make a list that can store employee data.\n",
    "[name, age, position, the year they started working]\n",
    "For example\n",
    "* kirk = [\"James Kirk\", 34, \"Captain\", 2265]\n",
    "* spock = [\"Spock\", 35, \"Science Officer\", 2254]\n",
    "* mccoy = [\"Leonard McCoy\", \"Chief Medical Officer\", 2266]\n"
   ]
  },
  {
   "cell_type": "code",
   "execution_count": null,
   "id": "827a84a0-f28b-434e-a5dc-dbbdeb0ec303",
   "metadata": {},
   "outputs": [],
   "source": [
    "kirk = [\"James Kirk\", 34, \"Captain\", 2265]\n",
    "spock = [\"Spock\", 35, \"Science Officer\", 2254]\n",
    "mccoy = [\"Leonard McCoy\", \"Chief Medical Officer\", 2266]"
   ]
  },
  {
   "cell_type": "markdown",
   "id": "c2e3c433-eae6-4145-a3f1-ca6569203b9f",
   "metadata": {},
   "source": [
    "* Print(kirk[0])"
   ]
  },
  {
   "cell_type": "code",
   "execution_count": null,
   "id": "ce4ac2b1-f6f8-4244-804d-fa9582b02f9f",
   "metadata": {},
   "outputs": [],
   "source": [
    "print(kirk[0])"
   ]
  },
  {
   "cell_type": "markdown",
   "id": "593586b9-b36f-48b2-8d82-b71e9beecdae",
   "metadata": {},
   "source": [
    "print(moocy[1])"
   ]
  },
  {
   "cell_type": "code",
   "execution_count": null,
   "id": "f1e8dac3-11e1-4005-b4ca-9afdfd7a9074",
   "metadata": {},
   "outputs": [],
   "source": [
    "print(mccoy[1])"
   ]
  },
  {
   "cell_type": "markdown",
   "id": "31396584-5890-4601-975d-cc65652a0a3e",
   "metadata": {},
   "source": [
    "## 2. Dog class\n",
    " "
   ]
  },
  {
   "cell_type": "code",
   "execution_count": null,
   "id": "decade6d-ee23-4b37-b175-5f0f216b6992",
   "metadata": {},
   "outputs": [],
   "source": [
    "class Dog:\n",
    " pass"
   ]
  },
  {
   "cell_type": "markdown",
   "id": "369b4671-5e95-4821-8d92-fa3385320041",
   "metadata": {},
   "source": [
    "a. Creating a new object from a class is called instantiating a class. You can create a new\n",
    "object by typing the name of the class, followed by opening and closing parentheses:"
   ]
  },
  {
   "cell_type": "code",
   "execution_count": null,
   "id": "4927f9bd-6677-4dd2-8ce7-9d3c8e99d261",
   "metadata": {},
   "outputs": [],
   "source": [
    "Dog()"
   ]
  },
  {
   "cell_type": "markdown",
   "id": "e88cfa84-4972-4a5f-addc-73c5d1f5707d",
   "metadata": {},
   "source": [
    "b. Create two new Dog objects and assign them to the variables a and b. "
   ]
  },
  {
   "cell_type": "code",
   "execution_count": null,
   "id": "397a15c9-820f-4980-a90d-fe8c103ce5e1",
   "metadata": {},
   "outputs": [],
   "source": [
    "a = Dog()"
   ]
  },
  {
   "cell_type": "code",
   "execution_count": null,
   "id": "653bcb0a-345a-4f51-97a4-f1d13434984f",
   "metadata": {},
   "outputs": [],
   "source": [
    "b = Dog()"
   ]
  },
  {
   "cell_type": "markdown",
   "id": "af0dfd7e-404f-4c20-b988-a819bff3c6cc",
   "metadata": {},
   "source": [
    "c. When you compare a and b using the **==** operator, the result is False. Even\n",
    "though a and b are both instances of the Dog class, they represent two distinct objects\n",
    "in memory.\n",
    "a == b"
   ]
  },
  {
   "cell_type": "code",
   "execution_count": null,
   "id": "8085796e-8b7c-4775-ac40-222c55471227",
   "metadata": {},
   "outputs": [],
   "source": [
    "a == b"
   ]
  },
  {
   "cell_type": "markdown",
   "id": "d312d00f-f421-4c64-930c-23630311982e",
   "metadata": {},
   "source": [
    "d. Use the print command and print both instances/ objects. "
   ]
  },
  {
   "cell_type": "code",
   "execution_count": null,
   "id": "d607e036-c7a2-4d56-a454-2f707ae93c54",
   "metadata": {},
   "outputs": [],
   "source": [
    "print(a)"
   ]
  },
  {
   "cell_type": "code",
   "execution_count": null,
   "id": "94f718a7-10f7-4151-895b-9881adf38fce",
   "metadata": {},
   "outputs": [],
   "source": [
    "print(b)"
   ]
  },
  {
   "cell_type": "markdown",
   "id": "c3ea7c89-00e2-4deb-bdcc-e80221412c94",
   "metadata": {},
   "source": [
    "3. Following is a class named ****MyFirstClass****. "
   ]
  },
  {
   "cell_type": "code",
   "execution_count": null,
   "id": "db3a33d8-2726-4d3c-83ee-dd205cbfe6d6",
   "metadata": {},
   "outputs": [],
   "source": [
    "class MyFirstClass:\n",
    "    pass"
   ]
  },
  {
   "cell_type": "markdown",
   "id": "57b1db09-cd0b-4c89-a079-3e6dacaed6b3",
   "metadata": {},
   "source": [
    "a. Make two instances named ***FC1*** and ***FC2***."
   ]
  },
  {
   "cell_type": "code",
   "execution_count": null,
   "id": "c8cd2a9c-fcad-424c-bd3b-dade2542367f",
   "metadata": {},
   "outputs": [],
   "source": [
    "FC1 = MyFirstClass()"
   ]
  },
  {
   "cell_type": "code",
   "execution_count": null,
   "id": "a705fdd9-39d9-4f28-99d2-a727570ad727",
   "metadata": {},
   "outputs": [],
   "source": [
    "FC2 = MyFirstClass()"
   ]
  },
  {
   "cell_type": "markdown",
   "id": "c0e5924c-f669-4dd5-a89c-c8db64e5269d",
   "metadata": {},
   "source": [
    "b. Check whether FC1 and FC2 represent the same object or not. "
   ]
  },
  {
   "cell_type": "code",
   "execution_count": null,
   "id": "c5701398-fbd3-4fe0-9dee-c3cf8486fc90",
   "metadata": {},
   "outputs": [],
   "source": [
    "FC1 == FC2"
   ]
  },
  {
   "cell_type": "markdown",
   "id": "2090b111-5d86-4d93-a63a-f8db5347900a",
   "metadata": {},
   "source": [
    "c. Use the print command and print both instances. "
   ]
  },
  {
   "cell_type": "code",
   "execution_count": null,
   "id": "1ed328ee-eb3c-4422-84db-ee848a846e7c",
   "metadata": {},
   "outputs": [],
   "source": [
    "print(f\"Here it show the first abject address ->  ({FC1})\")    # totally different from FC2 memory address."
   ]
  },
  {
   "cell_type": "code",
   "execution_count": null,
   "id": "a3713697-1367-4079-9fb3-1a84157a3170",
   "metadata": {},
   "outputs": [],
   "source": [
    "print(f\"Here it show the first abject address ->  ({FC2})\")    # totally different from FC1 memory address."
   ]
  },
  {
   "cell_type": "markdown",
   "id": "68e53ea0-f690-44ce-a25e-1bc6450c5d8f",
   "metadata": {},
   "source": [
    "4. Consider the following class definition."
   ]
  },
  {
   "cell_type": "code",
   "execution_count": null,
   "id": "4de0f88e-57d2-4ee8-84d7-e4835f0f533a",
   "metadata": {},
   "outputs": [],
   "source": [
    "class point:\n",
    "    pass"
   ]
  },
  {
   "cell_type": "markdown",
   "id": "0a146a36-ba6c-446a-9b96-6246fc4a080e",
   "metadata": {},
   "source": [
    "a. Make two instances named p1 and p2."
   ]
  },
  {
   "cell_type": "code",
   "execution_count": null,
   "id": "cbc02e0c-fad5-4d9c-877e-6f403e2e7888",
   "metadata": {},
   "outputs": [],
   "source": [
    "p1 = point()"
   ]
  },
  {
   "cell_type": "code",
   "execution_count": null,
   "id": "9ceec006-d3e7-48e3-9ee8-dd89457859b5",
   "metadata": {},
   "outputs": [],
   "source": [
    "p2 = point()"
   ]
  },
  {
   "cell_type": "markdown",
   "id": "143cae28-a030-420a-b533-9db9a63154ef",
   "metadata": {},
   "source": [
    "b. Print both objects p1 and p2. "
   ]
  },
  {
   "cell_type": "code",
   "execution_count": null,
   "id": "cb8582c3-50d7-484e-a636-55f45154924e",
   "metadata": {},
   "outputs": [],
   "source": [
    "print(p1)"
   ]
  },
  {
   "cell_type": "code",
   "execution_count": null,
   "id": "a724b027-9dc0-40cd-bce0-f6dba0088f19",
   "metadata": {},
   "outputs": [],
   "source": [
    "print(p2)"
   ]
  },
  {
   "cell_type": "markdown",
   "id": "2ef4352b-e873-4242-832a-0de9a01047a1",
   "metadata": {},
   "source": [
    "c. Try different names for objects, instead of p1 and p2. Also, use different attribute names. "
   ]
  },
  {
   "cell_type": "code",
   "execution_count": null,
   "id": "ed6a1726-10a2-447c-acb5-eb4f8ce0dd6f",
   "metadata": {},
   "outputs": [],
   "source": [
    "class point:\n",
    "    def __init__(self, x, y):\n",
    "        self.x = x\n",
    "        self.y = y  "
   ]
  },
  {
   "cell_type": "code",
   "execution_count": null,
   "id": "3da0f4ad-03a0-4fde-a200-5187558c3fdb",
   "metadata": {},
   "outputs": [],
   "source": [
    "a = point(2,5)"
   ]
  },
  {
   "cell_type": "code",
   "execution_count": null,
   "id": "21b748de-3caa-4a7e-a4b9-e566319e4212",
   "metadata": {},
   "outputs": [],
   "source": [
    "print(a)"
   ]
  },
  {
   "cell_type": "code",
   "execution_count": null,
   "id": "880d20d1-8d70-4485-9f0b-6fe257b4c674",
   "metadata": {},
   "outputs": [],
   "source": [
    "b = point(3,8)"
   ]
  },
  {
   "cell_type": "code",
   "execution_count": null,
   "id": "888c3864-b0f3-4df0-aa67-2a213a20064b",
   "metadata": {},
   "outputs": [],
   "source": [
    "print(b)"
   ]
  },
  {
   "cell_type": "markdown",
   "id": "7cfef806-3252-4429-9e77-475e5654b16b",
   "metadata": {},
   "source": [
    "To print the attributes of the  new objects/instance we have"
   ]
  },
  {
   "cell_type": "code",
   "execution_count": null,
   "id": "2fc7056f-cb0e-441a-9025-6bab0a9ceac2",
   "metadata": {},
   "outputs": [],
   "source": [
    "print(f\"The attributes or coordinates of point (a) is {a.x} and {a.y}\")"
   ]
  },
  {
   "cell_type": "code",
   "execution_count": null,
   "id": "752482d7-4b64-413f-a5a3-f3659716be36",
   "metadata": {},
   "outputs": [],
   "source": [
    "print(f\"The attributes or coordinates of point (b) is {b.x} and {b.y}\")"
   ]
  },
  {
   "cell_type": "markdown",
   "id": "5b810100-1a0a-4c8d-8798-208f3ff4774d",
   "metadata": {},
   "source": [
    "5. Update the Dog class with an __init__() method that creates .name and .age attributes:"
   ]
  },
  {
   "cell_type": "code",
   "execution_count": null,
   "id": "1ba02988-47db-46a9-99cd-759a895d8f23",
   "metadata": {},
   "outputs": [],
   "source": [
    "class Dog:\n",
    "    def __init__(self, name, age):\n",
    "        self.name = name\n",
    "        self.age = age"
   ]
  },
  {
   "cell_type": "markdown",
   "id": "b90b6d19-39c1-4f14-aed6-2fab4e1173cf",
   "metadata": {},
   "source": [
    "a. **Run**: miles = Dog(\"Miles\", 4)"
   ]
  },
  {
   "cell_type": "code",
   "execution_count": null,
   "id": "e7b4773f-d6d0-44a4-a767-ec31d4d8d747",
   "metadata": {},
   "outputs": [],
   "source": [
    "miles = Dog(\"Miles\", 4)"
   ]
  },
  {
   "cell_type": "markdown",
   "id": "ecec456a-a1cc-44f0-8156-53cab9f6b52b",
   "metadata": {},
   "source": [
    "b. **Print**: miles"
   ]
  },
  {
   "cell_type": "code",
   "execution_count": null,
   "id": "dfb00064-5a87-4b7b-9318-9f33852ef915",
   "metadata": {},
   "outputs": [],
   "source": [
    "print(miles)"
   ]
  },
  {
   "cell_type": "markdown",
   "id": "11b2a111-31fa-4d98-8e88-9f6f5a178fc2",
   "metadata": {},
   "source": [
    "Create a new Dog class with a class attribute called. species and two instance attributes\n",
    "called .name and .age:\n"
   ]
  },
  {
   "cell_type": "markdown",
   "id": "9d824aab-b5a4-4816-9849-7c8bff68d3ea",
   "metadata": {},
   "source": [
    "Class attribute: You define class attributes directly beneath the first line of the class\n",
    "name and indent them by four spaces"
   ]
  },
  {
   "cell_type": "code",
   "execution_count": null,
   "id": "26735eac-c7a4-4970-9b45-7e57e1243e18",
   "metadata": {},
   "outputs": [],
   "source": [
    "class Dog:\n",
    "    species = 'Canis familiaris'\n",
    "    def __init__(self, name, age):\n",
    "        self.name = name\n",
    "        self.age = age\n",
    "        "
   ]
  },
  {
   "cell_type": "markdown",
   "id": "59ac8c01-0524-41b1-ad2b-58fcb29b022b",
   "metadata": {},
   "source": [
    "a. To instantiate this Dog class, you need to provide values for name and age. If you don’t,\n",
    "then Python raises a TypeError:\n",
    "* Run: Dog()"
   ]
  },
  {
   "cell_type": "code",
   "execution_count": null,
   "id": "33f241d8-60f1-4cd6-aaf8-7f5c354729d0",
   "metadata": {},
   "outputs": [],
   "source": [
    "Dog()  # it show error of missing to requried positional arguments: 'Dog'"
   ]
  },
  {
   "cell_type": "markdown",
   "id": "9e871cfe-6a02-4cae-b00b-84ba80d8739a",
   "metadata": {},
   "source": [
    "b. To pass arguments to the name and age parameters, put values into the parentheses\n",
    "after the class name:\n",
    "* miles = Dog(\"Miles\", 4)\n",
    "* buddy = Dog(\"Buddy\", 9)\n"
   ]
  },
  {
   "cell_type": "code",
   "execution_count": null,
   "id": "783d144a-38e8-4d58-b324-690f2962559b",
   "metadata": {},
   "outputs": [],
   "source": [
    "miles = Dog(\"Miles\", 4)\n",
    "buddy = Dog(\"Buddy\", 9)"
   ]
  },
  {
   "cell_type": "markdown",
   "id": "3bc0d7bd-c974-4794-ae16-a7e48b93823d",
   "metadata": {},
   "source": [
    "c. After you create the Dog instances, you can access their instance attributes using dot\n",
    "notation:"
   ]
  },
  {
   "cell_type": "code",
   "execution_count": null,
   "id": "4b21c9fb-c7e6-4fb9-8d9a-3a90067d8a42",
   "metadata": {},
   "outputs": [],
   "source": [
    "print(f\"Mile name: {miles.name}\")\n",
    "print(f\"Miles age: {miles.age}\")"
   ]
  },
  {
   "cell_type": "code",
   "execution_count": null,
   "id": "66d088f0-f1f7-4ff8-9041-28d1be051a99",
   "metadata": {},
   "outputs": [],
   "source": [
    "print(f\"Buddy name: {buddy.name}\")\n",
    "print(f\"Buddy age: {buddy.age}\")"
   ]
  },
  {
   "cell_type": "markdown",
   "id": "2704f426-5a67-4ca5-b29e-ec891fcd968c",
   "metadata": {},
   "source": [
    "d. Although the attributes are guaranteed to exist, their values can change dynamically:\n"
   ]
  },
  {
   "cell_type": "code",
   "execution_count": null,
   "id": "3adfc8d3-40ab-4d2c-96a8-d92ab89c2d34",
   "metadata": {},
   "outputs": [],
   "source": [
    "buddy.age = 10"
   ]
  },
  {
   "cell_type": "code",
   "execution_count": null,
   "id": "56b19bfc-74ee-47b5-89cd-066a5e9d7634",
   "metadata": {},
   "outputs": [],
   "source": [
    "buddy.age"
   ]
  },
  {
   "cell_type": "code",
   "execution_count": null,
   "id": "46669263-adb7-45db-aa66-5cc44b64b184",
   "metadata": {},
   "outputs": [],
   "source": [
    "miles.species = \"Felis silvestris\""
   ]
  },
  {
   "cell_type": "code",
   "execution_count": null,
   "id": "cb6a1c4f-57d1-4d33-a852-ca4a5ec02afd",
   "metadata": {},
   "outputs": [],
   "source": [
    "miles.species"
   ]
  },
  {
   "cell_type": "markdown",
   "id": "ad24d30e-88e2-47dd-8301-6465be459819",
   "metadata": {},
   "source": [
    "7. Define a class point in 2 dimension coordinate system. Your class must have the appropriate\n",
    "**__init__** method. In addition, add two other instance methods for the distance between points\n",
    "and also show or display the point properly **(note: return tuple like (x, y))**. Add another method\n",
    "with the name locate to display the coordinate in which the point is located. Add proper\n",
    "annotation and doc string to every class and instance method."
   ]
  },
  {
   "cell_type": "code",
   "execution_count": null,
   "id": "be4260fe-e159-4812-87be-3351a3326ef4",
   "metadata": {},
   "outputs": [],
   "source": [
    "class Point:\n",
    "    pass"
   ]
  },
  {
   "cell_type": "code",
   "execution_count": null,
   "id": "d6b17139-61a6-4ba6-85eb-97ffd018a5b5",
   "metadata": {},
   "outputs": [],
   "source": [
    "import math\n",
    "class Point:\n",
    "    \"\"\"Represent a 2D coordinte system\n",
    "        parametrs:\n",
    "            x --> float\n",
    "            y --> float\n",
    "        \"\"\"\n",
    "    def __init__(self, x: float, y: float ) -> None:\n",
    "        \"\"\"Initialize the coordinte system\n",
    "        parametrs:\n",
    "            x --> float\n",
    "            y --> float\n",
    "        retrun:\n",
    "            None\n",
    "        \"\"\"\n",
    "        self.x = x\n",
    "        self.y = y\n",
    "    def distance(self, p2: 'point') -> float:\n",
    "        \"\"\"To calculate distance between two points\n",
    "        parameter:\n",
    "            x - float\n",
    "            y - float\n",
    "        return\n",
    "            None\n",
    "        \"\"\"\n",
    "        return math.sqrt((self.x-p2.x)**2 + (self.y-p2.y)**2)\n",
    "    def locate(self) -> str:\n",
    "        \"\"\"Returns a string representation of the point's coordinates.\n",
    "        \n",
    "        returns\n",
    "              --> str\n",
    "        \"\"\"\n",
    "        return f\"Point located at ({self.x} and {self.y}) \"\n",
    "    def show(self) -> tuple:\n",
    "        \"\"\"Retrun the Points in Tuple form\n",
    "        return \n",
    "              --> Tuple \n",
    "        \"\"\"\n",
    "        return (self.x, self.y)"
   ]
  },
  {
   "cell_type": "markdown",
   "id": "a341455c-3caa-4604-93c7-88c18edc3182",
   "metadata": {},
   "source": [
    "a. Define point1 and pass two numbers. "
   ]
  },
  {
   "cell_type": "code",
   "execution_count": null,
   "id": "2acaf344-01ed-4b84-952b-d4354132068a",
   "metadata": {},
   "outputs": [],
   "source": [
    "p1 = Point(5,8)"
   ]
  },
  {
   "cell_type": "markdown",
   "id": "92f7e79a-e759-4776-8f8d-98f448dd695f",
   "metadata": {},
   "source": [
    "b. Make another instance of the point class, say its name is p2. "
   ]
  },
  {
   "cell_type": "code",
   "execution_count": null,
   "id": "077e6be4-a4d6-4233-91c8-1a0b1b0e058e",
   "metadata": {},
   "outputs": [],
   "source": [
    "p2 = Point(7,3)"
   ]
  },
  {
   "cell_type": "markdown",
   "id": "08612e06-310d-4f60-9868-5c68f406fac5",
   "metadata": {},
   "source": [
    "c. Print p1 and p2, for this use the print command and pass the point as input. "
   ]
  },
  {
   "cell_type": "code",
   "execution_count": null,
   "id": "4f7eb960-a6b6-4d8a-b425-df4d61306d56",
   "metadata": {},
   "outputs": [],
   "source": [
    "print(p1)"
   ]
  },
  {
   "cell_type": "code",
   "execution_count": null,
   "id": "75a03056-18c9-428e-94e0-2d69b30c7893",
   "metadata": {},
   "outputs": [],
   "source": [
    "print(p2)"
   ]
  },
  {
   "cell_type": "markdown",
   "id": "349ae600-746b-47cb-bac7-34543438cba0",
   "metadata": {},
   "source": [
    "d. Also print the location of both points. "
   ]
  },
  {
   "cell_type": "code",
   "execution_count": null,
   "id": "07565600-f90e-4275-a489-de3378e627a8",
   "metadata": {},
   "outputs": [],
   "source": [
    "print(p1.locate())"
   ]
  },
  {
   "cell_type": "code",
   "execution_count": null,
   "id": "7d24c8c9-80dd-4eed-a09f-c8c9c67215f8",
   "metadata": {},
   "outputs": [],
   "source": [
    "print(p2.locate())"
   ]
  },
  {
   "cell_type": "markdown",
   "id": "ecced392-86e8-4d55-8a8e-effb488603ce",
   "metadata": {},
   "source": [
    "e. Print the coordinate by using the object and dot operator"
   ]
  },
  {
   "cell_type": "code",
   "execution_count": null,
   "id": "eaefaecd-45d0-40df-8f58-1aeb9df441d1",
   "metadata": {},
   "outputs": [],
   "source": [
    "print(f\"Point_1 Coordinates are ({p1.x} , {p1.y})\")"
   ]
  },
  {
   "cell_type": "code",
   "execution_count": null,
   "id": "b28e0988-9404-47a4-af34-33c21bf1c0cb",
   "metadata": {},
   "outputs": [],
   "source": [
    "print(f\"Point_2 Coordinates are ({p2.x} , {p2.y})\")"
   ]
  },
  {
   "cell_type": "markdown",
   "id": "248f7d53-9bc8-474f-bf13-810b2ed1528c",
   "metadata": {},
   "source": [
    "f. Add a new method to the point class to effectively print the points. Print both the point\n",
    "using that function. "
   ]
  },
  {
   "cell_type": "code",
   "execution_count": null,
   "id": "d41c56ca-63d7-42ed-9cfd-646b32e758fe",
   "metadata": {},
   "outputs": [],
   "source": [
    "print(f\"Coordinates of p1 is : \", p1.show())"
   ]
  },
  {
   "cell_type": "code",
   "execution_count": null,
   "id": "e8063d70-95d8-4559-9439-1d699fb77023",
   "metadata": {},
   "outputs": [],
   "source": [
    "print(f\"Coordinates of p2 is : \", p2.show())"
   ]
  },
  {
   "cell_type": "markdown",
   "id": "7c8da31f-16d2-4aad-8e70-739ca663c44c",
   "metadata": {},
   "source": [
    "g. Calculate the distance between these two ****points****. "
   ]
  },
  {
   "cell_type": "code",
   "execution_count": null,
   "id": "cea0dda0-1369-40ea-bf16-56b9e3206d81",
   "metadata": {},
   "outputs": [],
   "source": [
    "Distance = p1.distance(p2)"
   ]
  },
  {
   "cell_type": "code",
   "execution_count": null,
   "id": "44aa59d8-6f68-4e11-81e5-76595434ff3e",
   "metadata": {},
   "outputs": [],
   "source": [
    "print(Distance)"
   ]
  },
  {
   "cell_type": "code",
   "execution_count": null,
   "id": "79829108-8b95-4348-93ff-5e181cf627ed",
   "metadata": {},
   "outputs": [],
   "source": [
    "from pprint import pprint\n",
    "pprint(Point.__dict__)"
   ]
  },
  {
   "cell_type": "code",
   "execution_count": null,
   "id": "dddcf9e5-8e12-41af-a4ac-19982fcd97f1",
   "metadata": {},
   "outputs": [],
   "source": [
    "print(p1.__dict__)"
   ]
  },
  {
   "cell_type": "code",
   "execution_count": null,
   "id": "7bce2650-d5ed-4406-a177-dc366404d425",
   "metadata": {},
   "outputs": [],
   "source": [
    "print(p2.__dict__)"
   ]
  },
  {
   "cell_type": "markdown",
   "id": "50d62fa9-bbc9-4a5a-9a36-0607606e0d0a",
   "metadata": {},
   "source": [
    "j. Pass the class name to help. "
   ]
  },
  {
   "cell_type": "code",
   "execution_count": null,
   "id": "79e45bb4-759c-4b88-93ed-990e259b8d8f",
   "metadata": {},
   "outputs": [],
   "source": [
    "help(Point)"
   ]
  },
  {
   "cell_type": "code",
   "execution_count": null,
   "id": "aa45261d-2be1-49b8-85c8-eedd609cbcc6",
   "metadata": {},
   "outputs": [],
   "source": [
    "print('docstring of class named (Point)')\n",
    "print(Point.__doc__)\n",
    "print('docstring of __init__ methode')\n",
    "print(Point.__init__.__doc__)\n",
    "print('docstring of distance instance methode')\n",
    "print(Point.distance.__doc__)\n",
    "print('docstring of locate instance methode')\n",
    "print(Point.locate.__doc__)\n",
    "print('docstring of show instance methode')\n",
    "print(Point.show.__doc__)"
   ]
  },
  {
   "cell_type": "markdown",
   "id": "962f6884-d6f5-4456-9706-731b7cca2d73",
   "metadata": {},
   "source": [
    "8. Modify the above class by making its parameters default. The parameters will initialize the point\n",
    "with no parameters to the origin"
   ]
  },
  {
   "cell_type": "code",
   "execution_count": 13,
   "id": "2c866db3-170e-4b7e-a980-645af0a8adbf",
   "metadata": {},
   "outputs": [],
   "source": [
    "import math\n",
    "class Point:\n",
    "    \"\"\"Represent a 2D coordinte system\n",
    "        parametrs:\n",
    "            x --> float\n",
    "            y --> float\n",
    "        \"\"\"\n",
    "    def __init__(self, x: float = 0, y: float = 0 ) -> None:\n",
    "        \"\"\"Initialize the coordinte system\n",
    "        Default parametrs:\n",
    "            x --> float = 0\n",
    "            y --> float = 0\n",
    "        retrun:\n",
    "            None\n",
    "        \"\"\"\n",
    "        self.x = x\n",
    "        self.y = y\n",
    "    def distance(self, p2: 'point') -> float:\n",
    "        \"\"\"To calculate distance between two points\n",
    "        parameter:\n",
    "            x - float\n",
    "            y - float\n",
    "        return\n",
    "            None\n",
    "        \"\"\"\n",
    "        return math.sqrt((self.x-p2.x)**2 + (self.y-p2.y)**2)\n",
    "    def locate(self) -> str:\n",
    "        \"\"\"Returns a string representation of the point's coordinates.\n",
    "        \n",
    "        returns\n",
    "              --> str\n",
    "        \"\"\"\n",
    "        return f\"Point located at ({self.x} and {self.y}) \"\n",
    "    def show(self) -> tuple:\n",
    "        \"\"\"Retrun the Points in Tuple form\n",
    "        return \n",
    "              --> Tuple \n",
    "        \"\"\"\n",
    "        return (self.x, self.y)\n",
    "    def __str__(self):\n",
    "        return f\"The points of coordinate are: (x -> {self.x}, y -> {self.y})\""
   ]
  },
  {
   "cell_type": "markdown",
   "id": "0f2ba561-c66f-4e78-b4c4-98d5f1f22d46",
   "metadata": {},
   "source": [
    "a. Define point_1 by passing two arguments and print their values by using the dot\n",
    "operator and also by calling the show function. "
   ]
  },
  {
   "cell_type": "code",
   "execution_count": 14,
   "id": "9e715e6a-9497-44fd-97d4-0451d1d1c487",
   "metadata": {},
   "outputs": [],
   "source": [
    "point_1 = Point(3,5)"
   ]
  },
  {
   "cell_type": "code",
   "execution_count": 15,
   "id": "162f13be-2420-499a-bc67-34140d032cfc",
   "metadata": {},
   "outputs": [
    {
     "name": "stdout",
     "output_type": "stream",
     "text": [
      "Point_1 has coordinates: (3 , 5)\n"
     ]
    }
   ],
   "source": [
    "print(f\"Point_1 has coordinates: ({point_1.x} , {point_1.y})\")"
   ]
  },
  {
   "cell_type": "code",
   "execution_count": 16,
   "id": "b0185d8a-369b-42d8-ab12-7efa8a68870f",
   "metadata": {},
   "outputs": [
    {
     "name": "stdout",
     "output_type": "stream",
     "text": [
      "Point_1 has coordinates: (3, 5)\n"
     ]
    }
   ],
   "source": [
    "print(f\"Point_1 has coordinates: {point_1.show()}\")"
   ]
  },
  {
   "cell_type": "markdown",
   "id": "1ebe35de-616d-4f64-8d3d-2a017b1e4864",
   "metadata": {},
   "source": [
    "b. Define another object with the name point_2 and pass one argument. Display its value\n",
    "by calling the show method. "
   ]
  },
  {
   "cell_type": "code",
   "execution_count": 17,
   "id": "5c9a59d3-ca39-43f8-a9a0-1b72f80e48fd",
   "metadata": {},
   "outputs": [],
   "source": [
    "point_2 = Point(6)"
   ]
  },
  {
   "cell_type": "code",
   "execution_count": 18,
   "id": "3347c024-e595-4578-96a6-419b348a060e",
   "metadata": {},
   "outputs": [
    {
     "name": "stdout",
     "output_type": "stream",
     "text": [
      "Point_1 has coordinates: (6, 0)\n"
     ]
    }
   ],
   "source": [
    "print(f\"Point_1 has coordinates: {point_2.show()}\")"
   ]
  },
  {
   "cell_type": "markdown",
   "id": "b3107f13-c8bb-48e7-a63d-c1683fbc9a98",
   "metadata": {},
   "source": [
    "c. Define another object with the name point_3 and pass no argument. Display its value by\n",
    "calling the show method. "
   ]
  },
  {
   "cell_type": "code",
   "execution_count": 19,
   "id": "af3883b3-ce22-4b84-936e-e4de2ed96f84",
   "metadata": {},
   "outputs": [],
   "source": [
    "point_3 = Point()"
   ]
  },
  {
   "cell_type": "code",
   "execution_count": 20,
   "id": "48a223d1-f078-4709-95dd-9d70e842ba90",
   "metadata": {},
   "outputs": [
    {
     "name": "stdout",
     "output_type": "stream",
     "text": [
      "Point_1 has coordinates: (0, 0)\n"
     ]
    }
   ],
   "source": [
    "print(f\"Point_1 has coordinates: {point_3.show()}\")"
   ]
  },
  {
   "cell_type": "code",
   "execution_count": 21,
   "id": "e6ebbba7-0f81-4618-8341-19fa7a672e31",
   "metadata": {},
   "outputs": [
    {
     "name": "stdout",
     "output_type": "stream",
     "text": [
      "The points of coordinate are: (x -> 3, y -> 5)\n"
     ]
    }
   ],
   "source": [
    "print(point_1)"
   ]
  },
  {
   "cell_type": "markdown",
   "id": "90706756-5752-41fd-8bb3-4ff2756c782d",
   "metadata": {},
   "source": [
    "# ***Name : Khayyam ud din***\n",
    "# ***Reg No : 23jzele0548***\n",
    "# **Lab : 05**"
   ]
  },
  {
   "cell_type": "markdown",
   "id": "a3161fda-1a34-4d21-a8be-a3f77d231d62",
   "metadata": {
    "jp-MarkdownHeadingCollapsed": true
   },
   "source": [
    "# Lab Report"
   ]
  },
  {
   "cell_type": "code",
   "execution_count": 22,
   "id": "64957294-9f62-489a-8c00-a2d7fc6e4caa",
   "metadata": {},
   "outputs": [],
   "source": [
    "class Circle:\n",
    "    \"\"\"A class to represent a circle and perform related calculations.\n",
    "    \n",
    "    Attributes:\n",
    "    radius : float\n",
    "        The radius of the circle with a default value 1.0.\n",
    "    \n",
    "    Methods:\n",
    "    area():\n",
    "        Returns the area of the circle.\n",
    "    circumference():\n",
    "        Returns the circumference of the circle.\n",
    "    diameter():\n",
    "        Returns the diameter of the circle.\n",
    "    cylinder_volume(height: float):\n",
    "        Returns the volume of a cylinder with the circle as its area and a given height.\n",
    "    \"\"\"\n",
    "    def __init__(self,radius: float = 1.0):\n",
    "        \"\"\"Initializes the Circle with a radius.\n",
    "\n",
    "        Parameters:\n",
    "        radius:\n",
    "            The radius of the circle with a default value of 1.0.\n",
    "        \"\"\"\n",
    "        self.radius = radius\n",
    "    def area(self)-> float :\n",
    "        \"\"\"Calculates the area of the circle.\n",
    "    Return:\n",
    "        Return area in float\n",
    "    \"\"\"\n",
    "        return math.pi * self.radius**2\n",
    "    def circumference(self) -> float:\n",
    "        \"\"\"Calculates the circumference of the circle.\n",
    "    Return:\n",
    "        Return circumference in float\n",
    "    \"\"\"\n",
    "        return math.pi * 2 * self.radius\n",
    "    def diameter(self) -> float:\n",
    "        \"\"\"Calculates the diameter of the circle.\n",
    "    Return:\n",
    "        Return diameter in float\n",
    "    \"\"\"\n",
    "        return  2 * self.radius\n",
    "    def Volume_of_cylinder(self, height: float) -> float:\n",
    "        \"\"\"Calculates the volume of cylinder with the area of the circle.\n",
    "    Parameters:\n",
    "        height : float\n",
    "            The height of the cylinder.\n",
    "        Return:\n",
    "        float\n",
    "            The volume of the cylinder.\n",
    "        \"\"\"\n",
    "        return self.area * height\n",
    "    def __repr__(self) -> str:\n",
    "        \"\"\"This representation is intended for developers,\n",
    "        showing the class name and radius attribute in a format suitable for\n",
    "        recreating the object.\"\"\"\n",
    "        return f\"{type(self).__name__} ({self.radius})\"\n",
    "    def __str__(self) -> str:\n",
    "        \"\"\" This representation provides a simple description of the circle's\n",
    "        radius and is intended for end-users or general display purposes.\"\"\"\n",
    "        return f\"Circle with Radius: {self.radius}\""
   ]
  },
  {
   "cell_type": "code",
   "execution_count": 23,
   "id": "a09e7577-538d-41c9-b3f5-2062ddeb6463",
   "metadata": {},
   "outputs": [],
   "source": [
    "inst_1 = Circle(4)\n",
    "inst_2 = Circle(8)"
   ]
  },
  {
   "cell_type": "code",
   "execution_count": 24,
   "id": "f2956c9e-cae9-452d-aaba-3719ad84e350",
   "metadata": {},
   "outputs": [
    {
     "name": "stdout",
     "output_type": "stream",
     "text": [
      "Circle with Radius: 4\n",
      "Circle with Radius: 8\n"
     ]
    }
   ],
   "source": [
    "print(inst_1)\n",
    "print(inst_2)"
   ]
  },
  {
   "cell_type": "code",
   "execution_count": 25,
   "id": "e1bf9b64-0fcc-4864-8f38-59346a892531",
   "metadata": {},
   "outputs": [
    {
     "name": "stdout",
     "output_type": "stream",
     "text": [
      "mappingproxy({'Volume_of_cylinder': <function Circle.Volume_of_cylinder at 0x0000019B3C6DFDC0>,\n",
      "              '__dict__': <attribute '__dict__' of 'Circle' objects>,\n",
      "              '__doc__': 'A class to represent a circle and perform related '\n",
      "                         'calculations.\\n'\n",
      "                         '    \\n'\n",
      "                         '    Attributes:\\n'\n",
      "                         '    radius : float\\n'\n",
      "                         '        The radius of the circle with a default '\n",
      "                         'value 1.0.\\n'\n",
      "                         '    \\n'\n",
      "                         '    Methods:\\n'\n",
      "                         '    area():\\n'\n",
      "                         '        Returns the area of the circle.\\n'\n",
      "                         '    circumference():\\n'\n",
      "                         '        Returns the circumference of the circle.\\n'\n",
      "                         '    diameter():\\n'\n",
      "                         '        Returns the diameter of the circle.\\n'\n",
      "                         '    cylinder_volume(height: float):\\n'\n",
      "                         '        Returns the volume of a cylinder with the '\n",
      "                         'circle as its area and a given height.\\n'\n",
      "                         '    ',\n",
      "              '__init__': <function Circle.__init__ at 0x0000019B3C6DFB80>,\n",
      "              '__module__': '__main__',\n",
      "              '__repr__': <function Circle.__repr__ at 0x0000019B3C6DFE50>,\n",
      "              '__str__': <function Circle.__str__ at 0x0000019B3C6DFEE0>,\n",
      "              '__weakref__': <attribute '__weakref__' of 'Circle' objects>,\n",
      "              'area': <function Circle.area at 0x0000019B3C6DFC10>,\n",
      "              'circumference': <function Circle.circumference at 0x0000019B3C6DFCA0>,\n",
      "              'diameter': <function Circle.diameter at 0x0000019B3C6DFD30>})\n"
     ]
    }
   ],
   "source": [
    "from pprint import pprint\n",
    "pprint(Circle.__dict__)"
   ]
  },
  {
   "cell_type": "code",
   "execution_count": 26,
   "id": "6e2bcfe3-ffd8-4d3c-a426-fd32e65ba0d0",
   "metadata": {},
   "outputs": [
    {
     "name": "stdout",
     "output_type": "stream",
     "text": [
      "mappingproxy({'Volume_of_cylinder': <function Circle.Volume_of_cylinder at 0x0000019B3C6DFDC0>,\n",
      "              '__dict__': <attribute '__dict__' of 'Circle' objects>,\n",
      "              '__doc__': 'A class to represent a circle and perform related '\n",
      "                         'calculations.\\n'\n",
      "                         '    \\n'\n",
      "                         '    Attributes:\\n'\n",
      "                         '    radius : float\\n'\n",
      "                         '        The radius of the circle with a default '\n",
      "                         'value 1.0.\\n'\n",
      "                         '    \\n'\n",
      "                         '    Methods:\\n'\n",
      "                         '    area():\\n'\n",
      "                         '        Returns the area of the circle.\\n'\n",
      "                         '    circumference():\\n'\n",
      "                         '        Returns the circumference of the circle.\\n'\n",
      "                         '    diameter():\\n'\n",
      "                         '        Returns the diameter of the circle.\\n'\n",
      "                         '    cylinder_volume(height: float):\\n'\n",
      "                         '        Returns the volume of a cylinder with the '\n",
      "                         'circle as its area and a given height.\\n'\n",
      "                         '    ',\n",
      "              '__init__': <function Circle.__init__ at 0x0000019B3C6DFB80>,\n",
      "              '__module__': '__main__',\n",
      "              '__repr__': <function Circle.__repr__ at 0x0000019B3C6DFE50>,\n",
      "              '__str__': <function Circle.__str__ at 0x0000019B3C6DFEE0>,\n",
      "              '__weakref__': <attribute '__weakref__' of 'Circle' objects>,\n",
      "              'area': <function Circle.area at 0x0000019B3C6DFC10>,\n",
      "              'circumference': <function Circle.circumference at 0x0000019B3C6DFCA0>,\n",
      "              'diameter': <function Circle.diameter at 0x0000019B3C6DFD30>})\n"
     ]
    }
   ],
   "source": [
    "pprint(vars(Circle))"
   ]
  },
  {
   "cell_type": "code",
   "execution_count": 27,
   "id": "03d89779-3cf5-43dc-915b-93d428e7b9ee",
   "metadata": {},
   "outputs": [
    {
     "name": "stdout",
     "output_type": "stream",
     "text": [
      "{'radius': 4}\n"
     ]
    }
   ],
   "source": [
    "print(inst_1.__dict__)"
   ]
  },
  {
   "cell_type": "code",
   "execution_count": 28,
   "id": "06d9316c-5d08-43d7-8ac7-11d6fa5674ab",
   "metadata": {},
   "outputs": [
    {
     "name": "stdout",
     "output_type": "stream",
     "text": [
      "{'radius': 8}\n"
     ]
    }
   ],
   "source": [
    "print(inst_2.__dict__)"
   ]
  },
  {
   "cell_type": "code",
   "execution_count": 29,
   "id": "67302ed0-be4c-47f9-a609-2fb39e1ca3ab",
   "metadata": {},
   "outputs": [
    {
     "name": "stdout",
     "output_type": "stream",
     "text": [
      "Help on class Circle in module __main__:\n",
      "\n",
      "class Circle(builtins.object)\n",
      " |  Circle(radius: float = 1.0)\n",
      " |  \n",
      " |  A class to represent a circle and perform related calculations.\n",
      " |  \n",
      " |  Attributes:\n",
      " |  radius : float\n",
      " |      The radius of the circle with a default value 1.0.\n",
      " |  \n",
      " |  Methods:\n",
      " |  area():\n",
      " |      Returns the area of the circle.\n",
      " |  circumference():\n",
      " |      Returns the circumference of the circle.\n",
      " |  diameter():\n",
      " |      Returns the diameter of the circle.\n",
      " |  cylinder_volume(height: float):\n",
      " |      Returns the volume of a cylinder with the circle as its area and a given height.\n",
      " |  \n",
      " |  Methods defined here:\n",
      " |  \n",
      " |  Volume_of_cylinder(self, height: float) -> float\n",
      " |      Calculates the volume of cylinder with the area of the circle.\n",
      " |      Parameters:\n",
      " |          height : float\n",
      " |              The height of the cylinder.\n",
      " |          Return:\n",
      " |          float\n",
      " |              The volume of the cylinder.\n",
      " |  \n",
      " |  __init__(self, radius: float = 1.0)\n",
      " |      Initializes the Circle with a radius.\n",
      " |      \n",
      " |      Parameters:\n",
      " |      radius:\n",
      " |          The radius of the circle with a default value of 1.0.\n",
      " |  \n",
      " |  __repr__(self) -> str\n",
      " |      This representation is intended for developers,\n",
      " |      showing the class name and radius attribute in a format suitable for\n",
      " |      recreating the object.\n",
      " |  \n",
      " |  __str__(self) -> str\n",
      " |      This representation provides a simple description of the circle's\n",
      " |      radius and is intended for end-users or general display purposes.\n",
      " |  \n",
      " |  area(self) -> float\n",
      " |      Calculates the area of the circle.\n",
      " |      Return:\n",
      " |          Return area in float\n",
      " |  \n",
      " |  circumference(self) -> float\n",
      " |      Calculates the circumference of the circle.\n",
      " |      Return:\n",
      " |          Return circumference in float\n",
      " |  \n",
      " |  diameter(self) -> float\n",
      " |      Calculates the diameter of the circle.\n",
      " |      Return:\n",
      " |          Return diameter in float\n",
      " |  \n",
      " |  ----------------------------------------------------------------------\n",
      " |  Data descriptors defined here:\n",
      " |  \n",
      " |  __dict__\n",
      " |      dictionary for instance variables (if defined)\n",
      " |  \n",
      " |  __weakref__\n",
      " |      list of weak references to the object (if defined)\n",
      "\n"
     ]
    }
   ],
   "source": [
    "help(Circle)"
   ]
  },
  {
   "cell_type": "code",
   "execution_count": 30,
   "id": "2ff8587b-107b-4491-9eda-a384974a8597",
   "metadata": {},
   "outputs": [
    {
     "name": "stdout",
     "output_type": "stream",
     "text": [
      "A class to represent a circle and perform related calculations.\n",
      "    \n",
      "    Attributes:\n",
      "    radius : float\n",
      "        The radius of the circle with a default value 1.0.\n",
      "    \n",
      "    Methods:\n",
      "    area():\n",
      "        Returns the area of the circle.\n",
      "    circumference():\n",
      "        Returns the circumference of the circle.\n",
      "    diameter():\n",
      "        Returns the diameter of the circle.\n",
      "    cylinder_volume(height: float):\n",
      "        Returns the volume of a cylinder with the circle as its area and a given height.\n",
      "    \n",
      "\n",
      "{'radius': <class 'float'>}\n",
      "Initializes the Circle with a radius.\n",
      "\n",
      "        Parameters:\n",
      "        radius:\n",
      "            The radius of the circle with a default value of 1.0.\n",
      "        \n",
      "\n",
      "Calculates the area of the circle.\n",
      "    Return:\n",
      "        Return area in float\n",
      "    \n",
      "Calculates the circumference of the circle.\n",
      "    Return:\n",
      "        Return circumference in float\n",
      "    \n",
      "\n",
      "Calculates the diameter of the circle.\n",
      "    Return:\n",
      "        Return diameter in float\n",
      "    \n",
      "\n",
      "This representation is intended for developers,\n",
      "        showing the class name and radius attribute in a format suitable for\n",
      "        recreating the object.\n",
      " This representation provides a simple description of the circle's\n",
      "        radius and is intended for end-users or general display purposes.\n"
     ]
    }
   ],
   "source": [
    "print(Circle.__doc__)\n",
    "print()\n",
    "print(Circle.__init__.__annotations__)\n",
    "print(Circle.__init__.__doc__)\n",
    "print()\n",
    "print(Circle.area.__doc__)\n",
    "print(Circle.circumference.__doc__)\n",
    "print()\n",
    "print(Circle.diameter.__doc__)\n",
    "\n",
    "print()\n",
    "print(Circle.__repr__.__doc__)\n",
    "print(Circle.__str__.__doc__)"
   ]
  },
  {
   "cell_type": "code",
   "execution_count": 31,
   "id": "240efd92-1c85-4bba-bf55-4a93a8305588",
   "metadata": {},
   "outputs": [
    {
     "name": "stdout",
     "output_type": "stream",
     "text": [
      "Circle with Radius: 1.0\n"
     ]
    },
    {
     "data": {
      "text/plain": [
       "Circle (1.0)"
      ]
     },
     "execution_count": 31,
     "metadata": {},
     "output_type": "execute_result"
    }
   ],
   "source": [
    "inst_3 = Circle()\n",
    "print(inst_3)\n",
    "inst_3"
   ]
  },
  {
   "cell_type": "markdown",
   "id": "67176d4b-443b-4d20-95a6-6d433bb63356",
   "metadata": {
    "jp-MarkdownHeadingCollapsed": true
   },
   "source": [
    "# Lab Task"
   ]
  },
  {
   "cell_type": "markdown",
   "id": "3920b0be-42a7-498d-83fa-c0b6757a9bf3",
   "metadata": {},
   "source": [
    "1. Define a class circle. Your class must have the appropriate __init__ method.\n",
    "* In addition, add an instance method for the volume of a cylinder with the given\n",
    "radius.\n",
    "* Add property method for area, circumference, and diameter.\n",
    "*  Add __repr__ and __str__ to the class.\n",
    "* Add proper annotation and doc string to every class and instance method."
   ]
  },
  {
   "cell_type": "code",
   "execution_count": null,
   "id": "553189fe-b065-4b18-a17a-35f113ecec0b",
   "metadata": {},
   "outputs": [],
   "source": [
    "import math"
   ]
  },
  {
   "cell_type": "code",
   "execution_count": null,
   "id": "2c64d644-3af1-4d96-81d7-ed72030b2a1c",
   "metadata": {},
   "outputs": [],
   "source": [
    "class Circle:\n",
    "    pass"
   ]
  },
  {
   "cell_type": "code",
   "execution_count": 212,
   "id": "589aaeb9-b98d-40aa-bc93-9ccf4d00d1dc",
   "metadata": {},
   "outputs": [],
   "source": [
    "class Circle:\n",
    "    \"\"\"A class to represent a circle and perform related calculations.\n",
    "    \n",
    "    Attributes:\n",
    "    radius : float\n",
    "        The radius of the circle with a default value 1.0.\n",
    "    \n",
    "    Methods:\n",
    "    area():\n",
    "        Returns the area of the circle.\n",
    "    circumference():\n",
    "        Returns the circumference of the circle.\n",
    "    diameter():\n",
    "        Returns the diameter of the circle.\n",
    "    cylinder_volume(height: float):\n",
    "        Returns the volume of a cylinder with the circle as its area and a given height.\n",
    "    \"\"\"\n",
    "    def __init__(self,radius: float = 1.0):\n",
    "        \"\"\"Initializes the Circle with a radius.\n",
    "\n",
    "        Parameters:\n",
    "        radius:\n",
    "            The radius of the circle with a default value of 1.0.\n",
    "        \"\"\"\n",
    "        self.radius = radius\n",
    "    def area(self)-> float :\n",
    "        \"\"\"Calculates the area of the circle.\n",
    "    Return:\n",
    "        Return area in float\n",
    "    \"\"\"\n",
    "        return math.pi * self.radius**2\n",
    "    def circumference(self) -> float:\n",
    "        \"\"\"Calculates the circumference of the circle.\n",
    "    Return:\n",
    "        Return circumference in float\n",
    "    \"\"\"\n",
    "        return math.pi * 2 * self.radius\n",
    "    def diameter(self) -> float:\n",
    "        \"\"\"Calculates the diameter of the circle.\n",
    "    Return:\n",
    "        Return diameter in float\n",
    "    \"\"\"\n",
    "        return  2 * self.radius\n",
    "    def Volume_of_cylinder(self, height: float) -> float:\n",
    "        \"\"\"Calculates the volume of cylinder with the area of the circle.\n",
    "    Parameters:\n",
    "        height : float\n",
    "            The height of the cylinder.\n",
    "        Return:\n",
    "        float\n",
    "            The volume of the cylinder.\n",
    "        \"\"\"\n",
    "        return self.area * height\n",
    "    def __repr__(self) -> str:\n",
    "        \"\"\"This representation is intended for developers,\n",
    "        showing the class name and radius attribute in a format suitable for\n",
    "        recreating the object.\"\"\"\n",
    "        return f\"{type(self).__name__} ({self.radius})\"\n",
    "    def __str__(self) -> str:\n",
    "        \"\"\" This representation provides a simple description of the circle's\n",
    "        radius and is intended for end-users or general display purposes.\"\"\"\n",
    "        return f\"Circle with Radius: {self.radius}\""
   ]
  },
  {
   "cell_type": "markdown",
   "id": "e1a69d58-7fb6-42a6-aa0a-733985ff7246",
   "metadata": {},
   "source": [
    "a. Define inst_1 and pass two numbers. \n"
   ]
  },
  {
   "cell_type": "code",
   "execution_count": 213,
   "id": "e8b35dfa-25cb-46aa-aab0-ee8635c2639a",
   "metadata": {},
   "outputs": [],
   "source": [
    "inst_1 = Circle(4)"
   ]
  },
  {
   "cell_type": "markdown",
   "id": "ae5565ae-78cb-4499-b7ff-3223396777c7",
   "metadata": {},
   "source": [
    "b. Make another instance inst2"
   ]
  },
  {
   "cell_type": "code",
   "execution_count": 214,
   "id": "681d0010-41b0-4e5c-a7d2-23a9a7c6c9ba",
   "metadata": {},
   "outputs": [],
   "source": [
    "inst_2 = Circle(8)"
   ]
  },
  {
   "cell_type": "markdown",
   "id": "7dd78f2a-be9c-4f11-bfe3-4b2d7e9a1991",
   "metadata": {},
   "source": [
    "c. Print inst_1 and inst_2, for this use the print command and pass the inst_1 and inst_2."
   ]
  },
  {
   "cell_type": "code",
   "execution_count": 215,
   "id": "8395ce66-afdd-47a0-a447-411efe0a1a11",
   "metadata": {},
   "outputs": [
    {
     "name": "stdout",
     "output_type": "stream",
     "text": [
      "Circle with Radius: 4\n",
      "Circle with Radius: 8\n"
     ]
    }
   ],
   "source": [
    "print(inst_1)\n",
    "print(inst_2)"
   ]
  },
  {
   "cell_type": "markdown",
   "id": "f8973b8d-38d0-4d13-b3db-baf51f1b08a5",
   "metadata": {},
   "source": [
    "d. Call the __dict__ by the class name. "
   ]
  },
  {
   "cell_type": "code",
   "execution_count": 216,
   "id": "7c9d530b-6e68-45a5-be5e-03487ea7b04d",
   "metadata": {},
   "outputs": [
    {
     "name": "stdout",
     "output_type": "stream",
     "text": [
      "mappingproxy({'Volume_of_cylinder': <function Circle.Volume_of_cylinder at 0x00000200442FC9D0>,\n",
      "              '__dict__': <attribute '__dict__' of 'Circle' objects>,\n",
      "              '__doc__': 'A class to represent a circle and perform related '\n",
      "                         'calculations.\\n'\n",
      "                         '    \\n'\n",
      "                         '    Attributes:\\n'\n",
      "                         '    radius : float\\n'\n",
      "                         '        The radius of the circle with a default '\n",
      "                         'value 1.0.\\n'\n",
      "                         '    \\n'\n",
      "                         '    Methods:\\n'\n",
      "                         '    area():\\n'\n",
      "                         '        Returns the area of the circle.\\n'\n",
      "                         '    circumference():\\n'\n",
      "                         '        Returns the circumference of the circle.\\n'\n",
      "                         '    diameter():\\n'\n",
      "                         '        Returns the diameter of the circle.\\n'\n",
      "                         '    cylinder_volume(height: float):\\n'\n",
      "                         '        Returns the volume of a cylinder with the '\n",
      "                         'circle as its area and a given height.\\n'\n",
      "                         '    ',\n",
      "              '__init__': <function Circle.__init__ at 0x00000200441B4160>,\n",
      "              '__module__': '__main__',\n",
      "              '__repr__': <function Circle.__repr__ at 0x00000200442FC280>,\n",
      "              '__str__': <function Circle.__str__ at 0x00000200442FC820>,\n",
      "              '__weakref__': <attribute '__weakref__' of 'Circle' objects>,\n",
      "              'area': <function Circle.area at 0x00000200441B44C0>,\n",
      "              'circumference': <function Circle.circumference at 0x00000200441B49D0>,\n",
      "              'diameter': <function Circle.diameter at 0x00000200441B4940>})\n"
     ]
    }
   ],
   "source": [
    "from pprint import pprint\n",
    "pprint(Circle.__dict__)"
   ]
  },
  {
   "cell_type": "markdown",
   "id": "09bccefe-5ff9-4b11-b5ad-b1fe7533b461",
   "metadata": {},
   "source": [
    "e. Also pass the class name to the vars built-in function."
   ]
  },
  {
   "cell_type": "code",
   "execution_count": 217,
   "id": "977f808d-4d16-436a-a29a-ae7404ce0abf",
   "metadata": {},
   "outputs": [
    {
     "name": "stdout",
     "output_type": "stream",
     "text": [
      "mappingproxy({'Volume_of_cylinder': <function Circle.Volume_of_cylinder at 0x00000200442FC9D0>,\n",
      "              '__dict__': <attribute '__dict__' of 'Circle' objects>,\n",
      "              '__doc__': 'A class to represent a circle and perform related '\n",
      "                         'calculations.\\n'\n",
      "                         '    \\n'\n",
      "                         '    Attributes:\\n'\n",
      "                         '    radius : float\\n'\n",
      "                         '        The radius of the circle with a default '\n",
      "                         'value 1.0.\\n'\n",
      "                         '    \\n'\n",
      "                         '    Methods:\\n'\n",
      "                         '    area():\\n'\n",
      "                         '        Returns the area of the circle.\\n'\n",
      "                         '    circumference():\\n'\n",
      "                         '        Returns the circumference of the circle.\\n'\n",
      "                         '    diameter():\\n'\n",
      "                         '        Returns the diameter of the circle.\\n'\n",
      "                         '    cylinder_volume(height: float):\\n'\n",
      "                         '        Returns the volume of a cylinder with the '\n",
      "                         'circle as its area and a given height.\\n'\n",
      "                         '    ',\n",
      "              '__init__': <function Circle.__init__ at 0x00000200441B4160>,\n",
      "              '__module__': '__main__',\n",
      "              '__repr__': <function Circle.__repr__ at 0x00000200442FC280>,\n",
      "              '__str__': <function Circle.__str__ at 0x00000200442FC820>,\n",
      "              '__weakref__': <attribute '__weakref__' of 'Circle' objects>,\n",
      "              'area': <function Circle.area at 0x00000200441B44C0>,\n",
      "              'circumference': <function Circle.circumference at 0x00000200441B49D0>,\n",
      "              'diameter': <function Circle.diameter at 0x00000200441B4940>})\n"
     ]
    }
   ],
   "source": [
    "pprint(vars(Circle))"
   ]
  },
  {
   "cell_type": "code",
   "execution_count": 218,
   "id": "a206fbab-5c8d-4d80-80cc-b315b4539b29",
   "metadata": {},
   "outputs": [
    {
     "name": "stdout",
     "output_type": "stream",
     "text": [
      "{'radius': 4}\n"
     ]
    }
   ],
   "source": [
    "print(inst_1.__dict__)"
   ]
  },
  {
   "cell_type": "code",
   "execution_count": 219,
   "id": "f5eeef91-99b3-42ac-9703-c2a7c4f2c75a",
   "metadata": {},
   "outputs": [
    {
     "name": "stdout",
     "output_type": "stream",
     "text": [
      "{'radius': 8}\n"
     ]
    }
   ],
   "source": [
    "print(inst_2.__dict__)"
   ]
  },
  {
   "cell_type": "markdown",
   "id": "b171e8bc-44e7-496e-9fa4-4f44fd8b54fa",
   "metadata": {},
   "source": [
    "g. Pass the class name to help. "
   ]
  },
  {
   "cell_type": "code",
   "execution_count": 220,
   "id": "c8244d81-bbfe-4262-ae5a-465892c2a1cb",
   "metadata": {},
   "outputs": [
    {
     "name": "stdout",
     "output_type": "stream",
     "text": [
      "Help on class Circle in module __main__:\n",
      "\n",
      "class Circle(builtins.object)\n",
      " |  Circle(radius: float = 1.0)\n",
      " |  \n",
      " |  A class to represent a circle and perform related calculations.\n",
      " |  \n",
      " |  Attributes:\n",
      " |  radius : float\n",
      " |      The radius of the circle with a default value 1.0.\n",
      " |  \n",
      " |  Methods:\n",
      " |  area():\n",
      " |      Returns the area of the circle.\n",
      " |  circumference():\n",
      " |      Returns the circumference of the circle.\n",
      " |  diameter():\n",
      " |      Returns the diameter of the circle.\n",
      " |  cylinder_volume(height: float):\n",
      " |      Returns the volume of a cylinder with the circle as its area and a given height.\n",
      " |  \n",
      " |  Methods defined here:\n",
      " |  \n",
      " |  Volume_of_cylinder(self, height: float) -> float\n",
      " |      Calculates the volume of cylinder with the area of the circle.\n",
      " |      Parameters:\n",
      " |          height : float\n",
      " |              The height of the cylinder.\n",
      " |          Return:\n",
      " |          float\n",
      " |              The volume of the cylinder.\n",
      " |  \n",
      " |  __init__(self, radius: float = 1.0)\n",
      " |      Initializes the Circle with a radius.\n",
      " |      \n",
      " |      Parameters:\n",
      " |      radius:\n",
      " |          The radius of the circle with a default value of 1.0.\n",
      " |  \n",
      " |  __repr__(self) -> str\n",
      " |      This representation is intended for developers,\n",
      " |      showing the class name and radius attribute in a format suitable for\n",
      " |      recreating the object.\n",
      " |  \n",
      " |  __str__(self) -> str\n",
      " |      This representation provides a simple description of the circle's\n",
      " |      radius and is intended for end-users or general display purposes.\n",
      " |  \n",
      " |  area(self) -> float\n",
      " |      Calculates the area of the circle.\n",
      " |      Return:\n",
      " |          Return area in float\n",
      " |  \n",
      " |  circumference(self) -> float\n",
      " |      Calculates the circumference of the circle.\n",
      " |      Return:\n",
      " |          Return circumference in float\n",
      " |  \n",
      " |  diameter(self) -> float\n",
      " |      Calculates the diameter of the circle.\n",
      " |      Return:\n",
      " |          Return diameter in float\n",
      " |  \n",
      " |  ----------------------------------------------------------------------\n",
      " |  Data descriptors defined here:\n",
      " |  \n",
      " |  __dict__\n",
      " |      dictionary for instance variables (if defined)\n",
      " |  \n",
      " |  __weakref__\n",
      " |      list of weak references to the object (if defined)\n",
      "\n"
     ]
    }
   ],
   "source": [
    "help(Circle)"
   ]
  },
  {
   "cell_type": "code",
   "execution_count": 221,
   "id": "be164709-53da-453a-b7b4-554a89782c3c",
   "metadata": {},
   "outputs": [
    {
     "name": "stdout",
     "output_type": "stream",
     "text": [
      "A class to represent a circle and perform related calculations.\n",
      "    \n",
      "    Attributes:\n",
      "    radius : float\n",
      "        The radius of the circle with a default value 1.0.\n",
      "    \n",
      "    Methods:\n",
      "    area():\n",
      "        Returns the area of the circle.\n",
      "    circumference():\n",
      "        Returns the circumference of the circle.\n",
      "    diameter():\n",
      "        Returns the diameter of the circle.\n",
      "    cylinder_volume(height: float):\n",
      "        Returns the volume of a cylinder with the circle as its area and a given height.\n",
      "    \n",
      "\n",
      "{'radius': <class 'float'>}\n",
      "Initializes the Circle with a radius.\n",
      "\n",
      "        Parameters:\n",
      "        radius:\n",
      "            The radius of the circle with a default value of 1.0.\n",
      "        \n",
      "\n",
      "Calculates the area of the circle.\n",
      "    Return:\n",
      "        Return area in float\n",
      "    \n",
      "Calculates the circumference of the circle.\n",
      "    Return:\n",
      "        Return circumference in float\n",
      "    \n",
      "\n",
      "Calculates the diameter of the circle.\n",
      "    Return:\n",
      "        Return diameter in float\n",
      "    \n",
      "\n",
      "This representation is intended for developers,\n",
      "        showing the class name and radius attribute in a format suitable for\n",
      "        recreating the object.\n",
      " This representation provides a simple description of the circle's\n",
      "        radius and is intended for end-users or general display purposes.\n"
     ]
    }
   ],
   "source": [
    "print(Circle.__doc__)\n",
    "print()\n",
    "print(Circle.__init__.__annotations__)\n",
    "print(Circle.__init__.__doc__)\n",
    "print()\n",
    "print(Circle.area.__doc__)\n",
    "print(Circle.circumference.__doc__)\n",
    "print()\n",
    "print(Circle.diameter.__doc__)\n",
    "\n",
    "print()\n",
    "print(Circle.__repr__.__doc__)\n",
    "print(Circle.__str__.__doc__)"
   ]
  },
  {
   "cell_type": "markdown",
   "id": "10cbf0c7-0425-41b4-a534-2859249d48a8",
   "metadata": {},
   "source": [
    "i. Modify the __init__ by making its parameters default and verify by instances"
   ]
  },
  {
   "cell_type": "code",
   "execution_count": 222,
   "id": "ce6aa8eb-1892-4b02-a572-767603a39398",
   "metadata": {},
   "outputs": [],
   "source": [
    "inst_3 = Circle()"
   ]
  },
  {
   "cell_type": "code",
   "execution_count": 223,
   "id": "1bc8c7e3-053a-4bf6-9736-492e17ce8a45",
   "metadata": {},
   "outputs": [
    {
     "name": "stdout",
     "output_type": "stream",
     "text": [
      "Circle with Radius: 1.0\n"
     ]
    }
   ],
   "source": [
    "print(inst_3)"
   ]
  },
  {
   "cell_type": "markdown",
   "id": "f3312051-31c9-4160-8744-122eea332b02",
   "metadata": {},
   "source": [
    "**1.** Define a class point in 2 dimension coordinate system. Your class must have the appropriate\n",
    "__init__ method.\n",
    "* In addition, add instance method for the distance between points.\n",
    "* Add another instance method for calculating the distance from origin.\n",
    "* Add another method with the name locate to display the coordinate in which\n",
    "the point is located.\n",
    "* Add __repr__ and __str__ to the class.\n",
    "* Add proper annotation and doc string to every class and instance method. "
   ]
  },
  {
   "cell_type": "code",
   "execution_count": 224,
   "id": "993ba87d-2138-4a25-935b-7afa1ff5720b",
   "metadata": {},
   "outputs": [],
   "source": [
    "class Point:\n",
    "    pass"
   ]
  },
  {
   "cell_type": "code",
   "execution_count": 225,
   "id": "708b1b2c-5c91-4f05-91f7-266a7bb4f8b0",
   "metadata": {},
   "outputs": [],
   "source": [
    "import math\n",
    "class Point:\n",
    "    \"\"\"A 2D coordinates system which has following parameters\n",
    "            x and y\n",
    "    \"\"\"\n",
    "    def __init__(self, x = 1, y = 1):\n",
    "        \"\"\"Initiate the class with attributes of x and y\n",
    "        \"\"\"\n",
    "        self.x = x\n",
    "        self.y = y\n",
    "    def distance(self,point)  -> float:\n",
    "        \"\"\"To calculate the distance between two points\n",
    "        \"\"\"\n",
    "        return math.sqrt((self.x - point.x)**2 + (self.y - point.y)**2 )\n",
    "    def distanceFromOrigin(self) -> float:\n",
    "        \"\"\"To calculate the distance from origin\n",
    "        \"\"\"\n",
    "        return math.sqrt(self.x**2 + self.y**2)\n",
    "    def display(self) -> str:\n",
    "        \"\"\"To display where is the points are locate or in which quadrant is that points\n",
    "        \"\"\"\n",
    "        if self.x > 0 and self.y > 0:\n",
    "            return \"Point is in the first quadrant.\"\n",
    "        elif self.x < 0 and self.y > 0:\n",
    "            return \"Point is in the second quadrant.\"\n",
    "        elif self.x < 0 and self.y < 0:\n",
    "            return \"Point is in the third quadrant.\"\n",
    "        elif self.x > 0 and self.y < 0:\n",
    "            return \"Point is in the fourth quadrant.\"\n",
    "        elif self.x == 0 and self.y == 0:\n",
    "            return \"Point is at the origin.\"\n",
    "        elif self.x == 0:\n",
    "            return \"Point is on the y-axis.\"\n",
    "        else:\n",
    "            return \"Point is on the x-axis.\"\n",
    "    def __repr__(self):\n",
    "        \"\"\"Use to display the class name and the parameters in the class and we can reuse it  as object\n",
    "        \"\"\"\n",
    "        return f\"{type(self).__name__} ({self.x},{self.y})\"\n",
    "    def __str__(self):\n",
    "        \"\"\"Use to display the class attributes only\n",
    "        \"\"\"\n",
    "        return f\"Points are ({self.x},{self.y})\""
   ]
  },
  {
   "cell_type": "markdown",
   "id": "ed2ccd3e-094d-48a3-b5d4-3ff173cd4c92",
   "metadata": {},
   "source": [
    "**a**. Define inst_1 and pass two numbers. \n",
    "- **b**. Make another instance inst2"
   ]
  },
  {
   "cell_type": "code",
   "execution_count": 226,
   "id": "9f2d56c2-dba5-4835-804d-5fc3c06ed6a8",
   "metadata": {},
   "outputs": [],
   "source": [
    "inst_1 = Point(3,5)\n",
    "inst_2 = Point(7,-2)"
   ]
  },
  {
   "cell_type": "markdown",
   "id": "2cb6127d-2d4e-4a7a-b0a8-b253cbb1d690",
   "metadata": {},
   "source": [
    "**c.** Print inst_1 and inst_2, for this use the print command and pass theinst_1 and inst_2. "
   ]
  },
  {
   "cell_type": "code",
   "execution_count": 227,
   "id": "af795fa3-87c7-4511-b435-daf1cf821d67",
   "metadata": {},
   "outputs": [
    {
     "name": "stdout",
     "output_type": "stream",
     "text": [
      "Points are (3,5)\n",
      "Points are (7,-2)\n"
     ]
    }
   ],
   "source": [
    "print(inst_1)\n",
    "print(inst_2)"
   ]
  },
  {
   "cell_type": "code",
   "execution_count": 228,
   "id": "42e69228-fd16-411f-bff6-2b0c3f97df0d",
   "metadata": {},
   "outputs": [
    {
     "data": {
      "text/plain": [
       "Point (3,5)"
      ]
     },
     "execution_count": 228,
     "metadata": {},
     "output_type": "execute_result"
    }
   ],
   "source": [
    "inst_1"
   ]
  },
  {
   "cell_type": "code",
   "execution_count": 229,
   "id": "cfa57d39-4488-4c41-8ae1-468692c61fb7",
   "metadata": {},
   "outputs": [
    {
     "data": {
      "text/plain": [
       "Point (7,-2)"
      ]
     },
     "execution_count": 229,
     "metadata": {},
     "output_type": "execute_result"
    }
   ],
   "source": [
    "inst_2"
   ]
  },
  {
   "cell_type": "markdown",
   "id": "a8fc2b28-3b80-4845-a5f4-4713afc63dc0",
   "metadata": {},
   "source": [
    "**d.** Also print the location of both points. (Add a display method)."
   ]
  },
  {
   "cell_type": "code",
   "execution_count": 230,
   "id": "8519d705-d0ee-4770-9047-ae858f9757b1",
   "metadata": {},
   "outputs": [
    {
     "name": "stdout",
     "output_type": "stream",
     "text": [
      "Point is in the first quadrant.\n",
      "Point is in the fourth quadrant.\n"
     ]
    }
   ],
   "source": [
    "print(inst_1.display())\n",
    "print(inst_2.display())"
   ]
  },
  {
   "cell_type": "markdown",
   "id": "8ab29742-33de-4191-b5f3-acbaaf410e24",
   "metadata": {},
   "source": [
    "**e.** Calculate the distance between these two pints. "
   ]
  },
  {
   "cell_type": "code",
   "execution_count": 231,
   "id": "428c5d27-378b-480e-b17b-56c65445da00",
   "metadata": {},
   "outputs": [
    {
     "data": {
      "text/plain": [
       "8.06225774829855"
      ]
     },
     "execution_count": 231,
     "metadata": {},
     "output_type": "execute_result"
    }
   ],
   "source": [
    "inst_1.distance(inst_2)"
   ]
  },
  {
   "cell_type": "markdown",
   "id": "b351b167-7082-4d68-aa44-1b6b43c4475c",
   "metadata": {},
   "source": [
    "f. Call the __dict__ by the class name. "
   ]
  },
  {
   "cell_type": "code",
   "execution_count": 232,
   "id": "1fa05e54-4710-47cb-aeac-bca20bb62957",
   "metadata": {},
   "outputs": [
    {
     "name": "stdout",
     "output_type": "stream",
     "text": [
      "mappingproxy({'__dict__': <attribute '__dict__' of 'Point' objects>,\n",
      "              '__doc__': 'A 2D coordinates system which has following '\n",
      "                         'parameters\\n'\n",
      "                         '            x and y\\n'\n",
      "                         '    ',\n",
      "              '__init__': <function Point.__init__ at 0x0000020044319D30>,\n",
      "              '__module__': '__main__',\n",
      "              '__repr__': <function Point.__repr__ at 0x00000200442FC160>,\n",
      "              '__str__': <function Point.__str__ at 0x00000200442FC940>,\n",
      "              '__weakref__': <attribute '__weakref__' of 'Point' objects>,\n",
      "              'display': <function Point.display at 0x00000200442FC790>,\n",
      "              'distance': <function Point.distance at 0x00000200442FC310>,\n",
      "              'distanceFromOrigin': <function Point.distanceFromOrigin at 0x00000200442FCB80>})\n"
     ]
    }
   ],
   "source": [
    "from pprint import pprint\n",
    "pprint(Point.__dict__)"
   ]
  },
  {
   "cell_type": "markdown",
   "id": "8ca64161-7de4-4a67-a63a-c57bc64a29b9",
   "metadata": {},
   "source": [
    "g. Also pass the class name to the vars built-in function"
   ]
  },
  {
   "cell_type": "code",
   "execution_count": 233,
   "id": "bbf3dbc1-f400-4028-98a0-04e64844b737",
   "metadata": {},
   "outputs": [
    {
     "name": "stdout",
     "output_type": "stream",
     "text": [
      "mappingproxy({'__dict__': <attribute '__dict__' of 'Point' objects>,\n",
      "              '__doc__': 'A 2D coordinates system which has following '\n",
      "                         'parameters\\n'\n",
      "                         '            x and y\\n'\n",
      "                         '    ',\n",
      "              '__init__': <function Point.__init__ at 0x0000020044319D30>,\n",
      "              '__module__': '__main__',\n",
      "              '__repr__': <function Point.__repr__ at 0x00000200442FC160>,\n",
      "              '__str__': <function Point.__str__ at 0x00000200442FC940>,\n",
      "              '__weakref__': <attribute '__weakref__' of 'Point' objects>,\n",
      "              'display': <function Point.display at 0x00000200442FC790>,\n",
      "              'distance': <function Point.distance at 0x00000200442FC310>,\n",
      "              'distanceFromOrigin': <function Point.distanceFromOrigin at 0x00000200442FCB80>})\n"
     ]
    }
   ],
   "source": [
    "pprint(vars(Point))"
   ]
  },
  {
   "cell_type": "markdown",
   "id": "2da63da8-1477-4166-a630-6d57e0e78381",
   "metadata": {},
   "source": [
    "h. Call the __dict__ on the object of the class. "
   ]
  },
  {
   "cell_type": "code",
   "execution_count": 234,
   "id": "02f42691-2633-46e2-980a-b602cabb3b88",
   "metadata": {},
   "outputs": [
    {
     "name": "stdout",
     "output_type": "stream",
     "text": [
      "{'x': 3, 'y': 5}\n"
     ]
    }
   ],
   "source": [
    "print(inst_1.__dict__)"
   ]
  },
  {
   "cell_type": "code",
   "execution_count": 235,
   "id": "2d76091e-42c7-4433-a53a-cdfb9cca339d",
   "metadata": {},
   "outputs": [
    {
     "name": "stdout",
     "output_type": "stream",
     "text": [
      "{'x': 7, 'y': -2}\n"
     ]
    }
   ],
   "source": [
    "print(inst_2.__dict__)"
   ]
  },
  {
   "cell_type": "markdown",
   "id": "034b2da5-1b50-4649-9097-9c7bfea4e4f4",
   "metadata": {},
   "source": [
    "i. Pass the class name to help. "
   ]
  },
  {
   "cell_type": "code",
   "execution_count": 236,
   "id": "27754e78-cb83-4e56-9abc-a299c4f6e5da",
   "metadata": {},
   "outputs": [
    {
     "name": "stdout",
     "output_type": "stream",
     "text": [
      "Help on class Point in module __main__:\n",
      "\n",
      "class Point(builtins.object)\n",
      " |  Point(x=1, y=1)\n",
      " |  \n",
      " |  A 2D coordinates system which has following parameters\n",
      " |  x and y\n",
      " |  \n",
      " |  Methods defined here:\n",
      " |  \n",
      " |  __init__(self, x=1, y=1)\n",
      " |      Initiate the class with attributes of x and y\n",
      " |  \n",
      " |  __repr__(self)\n",
      " |      Use to display the class name and the parameters in the class and we can reuse it  as object\n",
      " |  \n",
      " |  __str__(self)\n",
      " |      Use to display the class attributes only\n",
      " |  \n",
      " |  display(self) -> str\n",
      " |      To display where is the points are locate or in which quadrant is that points\n",
      " |  \n",
      " |  distance(self, point) -> float\n",
      " |      To calculate the distance between two points\n",
      " |  \n",
      " |  distanceFromOrigin(self) -> float\n",
      " |      To calculate the distance from origin\n",
      " |  \n",
      " |  ----------------------------------------------------------------------\n",
      " |  Data descriptors defined here:\n",
      " |  \n",
      " |  __dict__\n",
      " |      dictionary for instance variables (if defined)\n",
      " |  \n",
      " |  __weakref__\n",
      " |      list of weak references to the object (if defined)\n",
      "\n"
     ]
    }
   ],
   "source": [
    "help(Point)"
   ]
  },
  {
   "cell_type": "markdown",
   "id": "8f92c9a7-eb7e-4bd2-b69a-0acd0b337503",
   "metadata": {},
   "source": [
    "j. Print the doc-string and annotations of both the class and each instance method. "
   ]
  },
  {
   "cell_type": "code",
   "execution_count": 237,
   "id": "c7338079-d92e-417b-99a6-5c506d501b1d",
   "metadata": {},
   "outputs": [
    {
     "name": "stdout",
     "output_type": "stream",
     "text": [
      "A 2D coordinates system which has following parameters\n",
      "            x and y\n",
      "    \n",
      "Initiate the class with attributes of x and y\n",
      "        \n",
      "{'return': <class 'float'>}\n",
      "To calculate the distance between two points\n",
      "        \n",
      "{'return': <class 'float'>}\n",
      "To calculate the distance from origin\n",
      "        \n",
      "To display where is the points are locate or in which quadrant is that points\n",
      "        \n",
      "{'return': <class 'str'>}\n"
     ]
    }
   ],
   "source": [
    "print(Point.__doc__)\n",
    "print(Point.__init__.__doc__)\n",
    "print(Point.distance.__annotations__)\n",
    "print(Point.distance.__doc__)\n",
    "print(Point.distanceFromOrigin.__annotations__)\n",
    "print(Point.distanceFromOrigin.__doc__)\n",
    "print(Point.display.__doc__)\n",
    "print(Point.display.__annotations__)"
   ]
  },
  {
   "cell_type": "markdown",
   "id": "f22a9caf-e3e8-4d25-9c25-01e0c676a691",
   "metadata": {},
   "source": [
    "k. Modify the __init__ by by making its parameters default and verify by instances."
   ]
  },
  {
   "cell_type": "code",
   "execution_count": 238,
   "id": "771252fa-c48b-4eba-9bac-b548bc54016f",
   "metadata": {},
   "outputs": [
    {
     "name": "stdout",
     "output_type": "stream",
     "text": [
      "Points are (1,1)\n"
     ]
    },
    {
     "data": {
      "text/plain": [
       "Point (1,1)"
      ]
     },
     "execution_count": 238,
     "metadata": {},
     "output_type": "execute_result"
    }
   ],
   "source": [
    "p3 = Point()\n",
    "print(p3)\n",
    "p3"
   ]
  },
  {
   "cell_type": "markdown",
   "id": "440e6d05-7813-4f73-b8ea-ac56b1d22541",
   "metadata": {},
   "source": [
    "**2.** Define a class circle. Your class must have the appropriate __init__ method.\n",
    "* In addition, add an instance method for the volume of a cylinder with the given\n",
    "radius.\n",
    "* Add property method for area, circumference, and diameter.\n",
    "* Add __repr__ and __str__ to the class.\n",
    "*  Add proper annotation and doc string to every class and instance method. "
   ]
  },
  {
   "cell_type": "code",
   "execution_count": 239,
   "id": "06734a0f-2678-4a89-ba57-0cadb5694b4e",
   "metadata": {},
   "outputs": [],
   "source": [
    "import math\n",
    "class Circle:\n",
    "    \"\"\"A class representing a circle in a 2D space.\n",
    "    \"\"\"\n",
    "    def __init__(self, radius: float):\n",
    "        \"\"\"\n",
    "        Initializes a Circle instance.\n",
    "        \n",
    "        Parameters:\n",
    "        - radius: The radius of the circle in float.\n",
    "        \"\"\"\n",
    "        self.radius = radius\n",
    "    def area(self) -> float:\n",
    "        \"\"\"\n",
    "        Calculates the area of the circle.\n",
    "        Returns: The area of the circle in float.\n",
    "        \"\"\"\n",
    "        return pi * self.radius ** 2\n",
    "    def circumference(self) -> float:\n",
    "        \"\"\"\n",
    "        Calculates the circumference of the circle.  \n",
    "        Returns: The circumference of the circle in float.\n",
    "        \"\"\"\n",
    "        return 2 * pi * self.radius\n",
    "    \n",
    "    def diameter(self) -> float:\n",
    "        \"\"\"\n",
    "        Calculates the diameter of the circle.\n",
    "        Returns: The diameter of the circle in  float.\n",
    "        \"\"\"\n",
    "        return 2 * self.radius\n",
    "    \n",
    "    def cylinder_volume(self, height: float) -> float:\n",
    "        \"\"\"\n",
    "        Calculates the volume of a cylinder with the circle as the base.\n",
    "        \n",
    "        Parameters:\n",
    "                    Height\n",
    "        \"\"\"\n",
    "    def __repr__(self):\n",
    "        return f\"{type(self).__name__}({self.radius})\"\n",
    "    def __str__(self):\n",
    "        return f\"Circle of Radius ({self.radius})\""
   ]
  },
  {
   "cell_type": "markdown",
   "id": "bb90176f-907c-4ba8-ab5d-29de5f1a9c5a",
   "metadata": {},
   "source": [
    "j. Define inst_1 \n",
    "-  Make another instance inst2. "
   ]
  },
  {
   "cell_type": "code",
   "execution_count": 240,
   "id": "fdd1a552-cddc-4992-8b9e-fde1c2dfdb4f",
   "metadata": {},
   "outputs": [],
   "source": [
    "inst_1 = Circle(8)\n",
    "inst_2 = Circle(4)"
   ]
  },
  {
   "cell_type": "markdown",
   "id": "6130cafb-4310-4617-bab4-46e5415ff95a",
   "metadata": {},
   "source": [
    "l. Print inst_1 and inst_2, for this use the print command and pass the inst_1 and inst_2. "
   ]
  },
  {
   "cell_type": "code",
   "execution_count": 241,
   "id": "54b2dce9-6f9f-4cea-a5bf-c13699995253",
   "metadata": {},
   "outputs": [
    {
     "name": "stdout",
     "output_type": "stream",
     "text": [
      "Circle of Radius (8)\n",
      "Circle of Radius (4)\n"
     ]
    }
   ],
   "source": [
    "print(inst_1)\n",
    "print(inst_2)"
   ]
  },
  {
   "cell_type": "code",
   "execution_count": 242,
   "id": "7c35e6cf-90b5-4998-8f21-3190bf14c640",
   "metadata": {},
   "outputs": [
    {
     "data": {
      "text/plain": [
       "Circle(8)"
      ]
     },
     "execution_count": 242,
     "metadata": {},
     "output_type": "execute_result"
    }
   ],
   "source": [
    "inst_1"
   ]
  },
  {
   "cell_type": "code",
   "execution_count": 243,
   "id": "2b8aa2b1-eb1b-493f-9cf6-588ba68c48b3",
   "metadata": {},
   "outputs": [
    {
     "data": {
      "text/plain": [
       "Circle(4)"
      ]
     },
     "execution_count": 243,
     "metadata": {},
     "output_type": "execute_result"
    }
   ],
   "source": [
    "inst_2"
   ]
  },
  {
   "cell_type": "markdown",
   "id": "f952bf81-e77d-4ddb-9c54-5fe22e14c4a1",
   "metadata": {},
   "source": [
    "m. Call the __dict__ by the class name"
   ]
  },
  {
   "cell_type": "code",
   "execution_count": 244,
   "id": "58f61053-663b-4358-bb2e-e44fa8c7550e",
   "metadata": {},
   "outputs": [
    {
     "name": "stdout",
     "output_type": "stream",
     "text": [
      "mappingproxy({'__dict__': <attribute '__dict__' of 'Circle' objects>,\n",
      "              '__doc__': 'A class representing a circle in a 2D space.\\n    ',\n",
      "              '__init__': <function Circle.__init__ at 0x0000020044319CA0>,\n",
      "              '__module__': '__main__',\n",
      "              '__repr__': <function Circle.__repr__ at 0x000002004424F4C0>,\n",
      "              '__str__': <function Circle.__str__ at 0x000002004424F820>,\n",
      "              '__weakref__': <attribute '__weakref__' of 'Circle' objects>,\n",
      "              'area': <function Circle.area at 0x000002004424F3A0>,\n",
      "              'circumference': <function Circle.circumference at 0x000002004424F790>,\n",
      "              'cylinder_volume': <function Circle.cylinder_volume at 0x000002004424F0D0>,\n",
      "              'diameter': <function Circle.diameter at 0x000002004424F280>})\n"
     ]
    }
   ],
   "source": [
    "from pprint import pprint\n",
    "pprint(Circle.__dict__)"
   ]
  },
  {
   "cell_type": "markdown",
   "id": "fa69c0b3-3299-4060-9ab6-11320b49fc3c",
   "metadata": {},
   "source": [
    "n. Also pass the class name to the vars built-in function."
   ]
  },
  {
   "cell_type": "code",
   "execution_count": 245,
   "id": "51e7b77b-3717-4e34-8a92-71e432a38d80",
   "metadata": {},
   "outputs": [
    {
     "name": "stdout",
     "output_type": "stream",
     "text": [
      "mappingproxy({'__dict__': <attribute '__dict__' of 'Circle' objects>,\n",
      "              '__doc__': 'A class representing a circle in a 2D space.\\n    ',\n",
      "              '__init__': <function Circle.__init__ at 0x0000020044319CA0>,\n",
      "              '__module__': '__main__',\n",
      "              '__repr__': <function Circle.__repr__ at 0x000002004424F4C0>,\n",
      "              '__str__': <function Circle.__str__ at 0x000002004424F820>,\n",
      "              '__weakref__': <attribute '__weakref__' of 'Circle' objects>,\n",
      "              'area': <function Circle.area at 0x000002004424F3A0>,\n",
      "              'circumference': <function Circle.circumference at 0x000002004424F790>,\n",
      "              'cylinder_volume': <function Circle.cylinder_volume at 0x000002004424F0D0>,\n",
      "              'diameter': <function Circle.diameter at 0x000002004424F280>})\n"
     ]
    }
   ],
   "source": [
    "pprint(vars(Circle))"
   ]
  },
  {
   "cell_type": "markdown",
   "id": "7e0ced8c-a74f-4956-8ece-d69176ec2a53",
   "metadata": {},
   "source": [
    "o. Call the __dict__ on the object of the class. "
   ]
  },
  {
   "cell_type": "code",
   "execution_count": 246,
   "id": "4eb55c5d-8a6e-4945-84fb-9ed32cd32c78",
   "metadata": {},
   "outputs": [
    {
     "name": "stdout",
     "output_type": "stream",
     "text": [
      "{'radius': 8}\n",
      "{'radius': 4}\n"
     ]
    }
   ],
   "source": [
    "print(inst_1.__dict__)\n",
    "print(inst_2.__dict__)"
   ]
  },
  {
   "cell_type": "markdown",
   "id": "0772261f-a5f9-443f-ba8a-263d02e785ac",
   "metadata": {},
   "source": [
    "p. Pass the class name to help. "
   ]
  },
  {
   "cell_type": "code",
   "execution_count": 247,
   "id": "ba926723-60c5-4366-96b7-aae598a3cc01",
   "metadata": {},
   "outputs": [
    {
     "name": "stdout",
     "output_type": "stream",
     "text": [
      "Help on class Circle in module __main__:\n",
      "\n",
      "class Circle(builtins.object)\n",
      " |  Circle(radius: float)\n",
      " |  \n",
      " |  A class representing a circle in a 2D space.\n",
      " |  \n",
      " |  Methods defined here:\n",
      " |  \n",
      " |  __init__(self, radius: float)\n",
      " |      Initializes a Circle instance.\n",
      " |      \n",
      " |      Parameters:\n",
      " |      - radius: The radius of the circle in float.\n",
      " |  \n",
      " |  __repr__(self)\n",
      " |      Return repr(self).\n",
      " |  \n",
      " |  __str__(self)\n",
      " |      Return str(self).\n",
      " |  \n",
      " |  area(self) -> float\n",
      " |      Calculates the area of the circle.\n",
      " |      Returns: The area of the circle in float.\n",
      " |  \n",
      " |  circumference(self) -> float\n",
      " |      Calculates the circumference of the circle.  \n",
      " |      Returns: The circumference of the circle in float.\n",
      " |  \n",
      " |  cylinder_volume(self, height: float) -> float\n",
      " |      Calculates the volume of a cylinder with the circle as the base.\n",
      " |      \n",
      " |      Parameters:\n",
      " |                  Height\n",
      " |  \n",
      " |  diameter(self) -> float\n",
      " |      Calculates the diameter of the circle.\n",
      " |      Returns: The diameter of the circle in  float.\n",
      " |  \n",
      " |  ----------------------------------------------------------------------\n",
      " |  Data descriptors defined here:\n",
      " |  \n",
      " |  __dict__\n",
      " |      dictionary for instance variables (if defined)\n",
      " |  \n",
      " |  __weakref__\n",
      " |      list of weak references to the object (if defined)\n",
      "\n"
     ]
    }
   ],
   "source": [
    "help(Circle)"
   ]
  },
  {
   "cell_type": "markdown",
   "id": "3a2c770c-2909-4491-a417-58fbe5e087a4",
   "metadata": {},
   "source": [
    "q. Print the doc-string and annotations of both the class and each instance method."
   ]
  },
  {
   "cell_type": "code",
   "execution_count": 248,
   "id": "b1b2e69d-6305-41de-98e2-91e208b8d7ba",
   "metadata": {},
   "outputs": [
    {
     "name": "stdout",
     "output_type": "stream",
     "text": [
      "A class representing a circle in a 2D space.\n",
      "    \n",
      "\n",
      "        Initializes a Circle instance.\n",
      "        \n",
      "        Parameters:\n",
      "        - radius: The radius of the circle in float.\n",
      "        \n",
      "\n",
      "{'return': <class 'float'>}\n",
      "\n",
      "        Calculates the area of the circle.\n",
      "        Returns: The area of the circle in float.\n",
      "        \n",
      "\n",
      "{'return': <class 'float'>}\n",
      "\n",
      "        Calculates the circumference of the circle.  \n",
      "        Returns: The circumference of the circle in float.\n",
      "        \n",
      "\n",
      "\n",
      "        Calculates the diameter of the circle.\n",
      "        Returns: The diameter of the circle in  float.\n",
      "        \n",
      "{'return': <class 'float'>}\n",
      "\n",
      "\n",
      "        Calculates the volume of a cylinder with the circle as the base.\n",
      "        \n",
      "        Parameters:\n",
      "                    Height\n",
      "        \n",
      "{'height': <class 'float'>, 'return': <class 'float'>}\n"
     ]
    }
   ],
   "source": [
    "print(Circle.__doc__)\n",
    "print(Circle.__init__.__doc__)\n",
    "print()\n",
    "print(Circle.area.__annotations__)\n",
    "print(Circle.area.__doc__)\n",
    "print()\n",
    "print(Circle.circumference.__annotations__)\n",
    "print(Circle.circumference.__doc__)\n",
    "\n",
    "print()\n",
    "print(Circle.diameter.__doc__)\n",
    "print(Circle.diameter.__annotations__)\n",
    "print()\n",
    "print(Circle.cylinder_volume.__doc__)\n",
    "print(Circle.cylinder_volume.__annotations__)"
   ]
  },
  {
   "cell_type": "markdown",
   "id": "2eb4508d-7890-4c81-93cd-9224fa5d6497",
   "metadata": {},
   "source": [
    "**3.** Define a class RLC for a series RLC circuit. Your class must have the appropriate __init__ method.\n",
    "* Add property method for impedance, phase, and power factor.\n",
    "* In addition, add an instance method for the current in the circuit with a given\n",
    "input voltage.\n",
    "* Add __repr__ and __str__ to the class.\n",
    "* Add proper annotation and doc string to every class and instance method. "
   ]
  },
  {
   "cell_type": "code",
   "execution_count": 249,
   "id": "2bc128c7-34d2-4eb4-b31f-d8f621071d73",
   "metadata": {},
   "outputs": [],
   "source": [
    "import math\n",
    "class RLC:\n",
    "    \"\"\"A class representing a series RLC circuit with resistance (R), inductance (L), and capacitance (C).\"\"\"\n",
    "\n",
    "    def __init__(self, R: float = 1, XL: float = 1, XC: float = 1, F: float = 100):\n",
    "        \"\"\"\n",
    "        Initializes an RLC circuit instance.\n",
    "        \n",
    "        Parameters:\n",
    "        - resistance : Resistance (R) in ohms.\n",
    "        - inductance : Inductance (L) in henrys.\n",
    "        - capacitance : Capacitance (C) in farads.\n",
    "        - frequency : Frequency (f) of the AC source in hertz.\n",
    "        \"\"\"\n",
    "        self.R = R\n",
    "        self.XL = XL\n",
    "        self.XC = XC\n",
    "        self.F = F\n",
    "    def Z(self) -> float:\n",
    "        \"\"\"\n",
    "        Calculates the impedance of the RLC circuit.\n",
    "        Returns: The impedance in ohms in float.\n",
    "        \"\"\"\n",
    "        Frequency = math.pi * 2 *  self.F\n",
    "        reactance_inductive = Frequency * self.XL\n",
    "        reactance_capacitive = 1 / (Frequency * self.XC)\n",
    "        return sqrt(self.R ** 2 + (reactance_inductive - reactance_capacitive) ** 2)\n",
    "    def phase(self) -> float:\n",
    "        \"\"\"\n",
    "        Calculates the phase angle (in degrees) of the RLC circuit.\n",
    "        \n",
    "        Returns:\n",
    "        - float: The phase angle in degrees.\n",
    "        \"\"\"\n",
    "        return atan((reactance_inductive - reactance_capacitive) / self.R) * (180 / math.pi)\n",
    "    def power_factor(self) -> float:\n",
    "        \"\"\"\n",
    "        Calculates the power factor of the RLC circuit.\n",
    "        \n",
    "        Returns: The power factor.\n",
    "        \"\"\"\n",
    "        return math.cos(math.radians(self.phase))\n",
    "    def current(self, voltage: float) -> float:\n",
    "        \"\"\"\n",
    "        Calculates the current in the RLC circuit for a given input voltage.\n",
    "        \n",
    "        Parameters:\n",
    "        - voltage : The input voltage in volts.\n",
    "        \n",
    "        Returns: The current in amperes.\n",
    "        \"\"\"\n",
    "        return voltage / self.Z\n",
    "        \n",
    "    def __repr__(self) -> str:\n",
    "        \"\"\"\n",
    "        Returns a formal string representation of the RLC instance. \n",
    "        Returns: A representation of the RLC circuit with R, L, C, and frequency.\n",
    "        \"\"\"\n",
    "        return (f\"{type(self).__name__}(Resistance={self.R} ohm, \"\n",
    "                f\"Inductance={self.XL} H, Capacitance={self.XC} F, \"\n",
    "                f\"Frequency={self.F} Hz)\")\n",
    "\n",
    "    def __str__(self) -> str:\n",
    "        \"\"\"\n",
    "        Returns an informal string representation of the RLC instance.\n",
    "        \n",
    "        Returns:  A description of the RLC circuit components and properties.\n",
    "        \"\"\"\n",
    "        return (f\"Series RLC Circuit with R = {self.R} ohm, L = {self.XL} H, \"\n",
    "                f\"C = {self.XC} F, f = {self.F} Hz\")\n"
   ]
  },
  {
   "cell_type": "markdown",
   "id": "be026180-6846-4118-b8e0-ba6b79ce2a7c",
   "metadata": {},
   "source": [
    "a. Define inst_1\n",
    "* Make another instance inst2. "
   ]
  },
  {
   "cell_type": "code",
   "execution_count": 250,
   "id": "6177b1cc-8a79-4d41-bace-648f14ec103b",
   "metadata": {},
   "outputs": [],
   "source": [
    "inst_1 = RLC(10,13,15,2800)\n",
    "inst_2 = RLC(13, 17, 20, 4000)"
   ]
  },
  {
   "cell_type": "markdown",
   "id": "11149ad7-2b5b-4b6e-837b-3df773e7cef8",
   "metadata": {},
   "source": [
    "c. Print inst_1 and inst_2, for this use the print command and pass theinst_1 and inst_2."
   ]
  },
  {
   "cell_type": "code",
   "execution_count": 251,
   "id": "e0667eac-b3a8-4e7c-b45b-891e02d17037",
   "metadata": {},
   "outputs": [
    {
     "name": "stdout",
     "output_type": "stream",
     "text": [
      "Series RLC Circuit with R = 10 ohm, L = 13 H, C = 15 F, f = 2800 Hz\n",
      "Series RLC Circuit with R = 13 ohm, L = 17 H, C = 20 F, f = 4000 Hz\n"
     ]
    }
   ],
   "source": [
    "print(inst_1)\n",
    "print(inst_2)"
   ]
  },
  {
   "cell_type": "code",
   "execution_count": 252,
   "id": "081f9fdb-0f65-473b-9bcb-caa0e7d8c4d4",
   "metadata": {},
   "outputs": [
    {
     "data": {
      "text/plain": [
       "RLC(Resistance=10 ohm, Inductance=13 H, Capacitance=15 F, Frequency=2800 Hz)"
      ]
     },
     "execution_count": 252,
     "metadata": {},
     "output_type": "execute_result"
    }
   ],
   "source": [
    "inst_1"
   ]
  },
  {
   "cell_type": "code",
   "execution_count": 253,
   "id": "51cfe79e-2a22-40be-82be-19b0f65f8dbd",
   "metadata": {},
   "outputs": [
    {
     "data": {
      "text/plain": [
       "RLC(Resistance=13 ohm, Inductance=17 H, Capacitance=20 F, Frequency=4000 Hz)"
      ]
     },
     "execution_count": 253,
     "metadata": {},
     "output_type": "execute_result"
    }
   ],
   "source": [
    "inst_2"
   ]
  },
  {
   "cell_type": "markdown",
   "id": "b0c775c7-17d2-43c3-927f-eca467171168",
   "metadata": {},
   "source": [
    "d. Call the __dict__ by the class name. "
   ]
  },
  {
   "cell_type": "code",
   "execution_count": 254,
   "id": "c6c5c66a-9a02-4b66-a41e-714faa23dd72",
   "metadata": {},
   "outputs": [
    {
     "name": "stdout",
     "output_type": "stream",
     "text": [
      "mappingproxy({'Z': <function RLC.Z at 0x0000020044198A60>,\n",
      "              '__dict__': <attribute '__dict__' of 'RLC' objects>,\n",
      "              '__doc__': 'A class representing a series RLC circuit with '\n",
      "                         'resistance (R), inductance (L), and capacitance (C).',\n",
      "              '__init__': <function RLC.__init__ at 0x0000020044198D30>,\n",
      "              '__module__': '__main__',\n",
      "              '__repr__': <function RLC.__repr__ at 0x000002004424FF70>,\n",
      "              '__str__': <function RLC.__str__ at 0x000002004424FC10>,\n",
      "              '__weakref__': <attribute '__weakref__' of 'RLC' objects>,\n",
      "              'current': <function RLC.current at 0x00000200441B4040>,\n",
      "              'phase': <function RLC.phase at 0x00000200443B8CA0>,\n",
      "              'power_factor': <function RLC.power_factor at 0x0000020044319820>})\n"
     ]
    }
   ],
   "source": [
    "from pprint import pprint\n",
    "pprint(RLC.__dict__)"
   ]
  },
  {
   "cell_type": "markdown",
   "id": "dfd7540d-1834-4a66-ab5f-2939ee953226",
   "metadata": {},
   "source": [
    "e. Also pass the class name to the vars built-in function.\n"
   ]
  },
  {
   "cell_type": "code",
   "execution_count": 255,
   "id": "91b5d894-cb13-4eec-810e-1f936bc2fa8f",
   "metadata": {},
   "outputs": [
    {
     "name": "stdout",
     "output_type": "stream",
     "text": [
      "mappingproxy({'Z': <function RLC.Z at 0x0000020044198A60>,\n",
      "              '__dict__': <attribute '__dict__' of 'RLC' objects>,\n",
      "              '__doc__': 'A class representing a series RLC circuit with '\n",
      "                         'resistance (R), inductance (L), and capacitance (C).',\n",
      "              '__init__': <function RLC.__init__ at 0x0000020044198D30>,\n",
      "              '__module__': '__main__',\n",
      "              '__repr__': <function RLC.__repr__ at 0x000002004424FF70>,\n",
      "              '__str__': <function RLC.__str__ at 0x000002004424FC10>,\n",
      "              '__weakref__': <attribute '__weakref__' of 'RLC' objects>,\n",
      "              'current': <function RLC.current at 0x00000200441B4040>,\n",
      "              'phase': <function RLC.phase at 0x00000200443B8CA0>,\n",
      "              'power_factor': <function RLC.power_factor at 0x0000020044319820>})\n"
     ]
    }
   ],
   "source": [
    "pprint(vars(RLC))"
   ]
  },
  {
   "cell_type": "markdown",
   "id": "0fa1f9a7-ee60-41fd-a6ba-fa1684a09206",
   "metadata": {},
   "source": [
    "f. Call the __dict__ on the object of the class. "
   ]
  },
  {
   "cell_type": "code",
   "execution_count": 256,
   "id": "f456e995-6948-4a60-8aed-66c88bfa47fb",
   "metadata": {},
   "outputs": [
    {
     "name": "stdout",
     "output_type": "stream",
     "text": [
      "{'R': 10, 'XL': 13, 'XC': 15, 'F': 2800}\n"
     ]
    }
   ],
   "source": [
    "print(inst_1.__dict__)"
   ]
  },
  {
   "cell_type": "code",
   "execution_count": 257,
   "id": "900d2dc5-0541-4d12-9c53-7ad961d0385e",
   "metadata": {},
   "outputs": [
    {
     "name": "stdout",
     "output_type": "stream",
     "text": [
      "{'R': 13, 'XL': 17, 'XC': 20, 'F': 4000}\n"
     ]
    }
   ],
   "source": [
    "print(inst_2.__dict__)"
   ]
  },
  {
   "cell_type": "markdown",
   "id": "f31cf356-2ad3-4209-adae-2a7d438120a9",
   "metadata": {},
   "source": [
    "g. Pass the class name to help. /"
   ]
  },
  {
   "cell_type": "code",
   "execution_count": 258,
   "id": "e0901e68-4f6b-4fda-912e-ec93d7ef1f02",
   "metadata": {},
   "outputs": [
    {
     "name": "stdout",
     "output_type": "stream",
     "text": [
      "Help on class RLC in module __main__:\n",
      "\n",
      "class RLC(builtins.object)\n",
      " |  RLC(R: float = 1, XL: float = 1, XC: float = 1, F: float = 100)\n",
      " |  \n",
      " |  A class representing a series RLC circuit with resistance (R), inductance (L), and capacitance (C).\n",
      " |  \n",
      " |  Methods defined here:\n",
      " |  \n",
      " |  Z(self) -> float\n",
      " |      Calculates the impedance of the RLC circuit.\n",
      " |      Returns: The impedance in ohms in float.\n",
      " |  \n",
      " |  __init__(self, R: float = 1, XL: float = 1, XC: float = 1, F: float = 100)\n",
      " |      Initializes an RLC circuit instance.\n",
      " |      \n",
      " |      Parameters:\n",
      " |      - resistance : Resistance (R) in ohms.\n",
      " |      - inductance : Inductance (L) in henrys.\n",
      " |      - capacitance : Capacitance (C) in farads.\n",
      " |      - frequency : Frequency (f) of the AC source in hertz.\n",
      " |  \n",
      " |  __repr__(self) -> str\n",
      " |      Returns a formal string representation of the RLC instance. \n",
      " |      Returns: A representation of the RLC circuit with R, L, C, and frequency.\n",
      " |  \n",
      " |  __str__(self) -> str\n",
      " |      Returns an informal string representation of the RLC instance.\n",
      " |      \n",
      " |      Returns:  A description of the RLC circuit components and properties.\n",
      " |  \n",
      " |  current(self, voltage: float) -> float\n",
      " |      Calculates the current in the RLC circuit for a given input voltage.\n",
      " |      \n",
      " |      Parameters:\n",
      " |      - voltage : The input voltage in volts.\n",
      " |      \n",
      " |      Returns: The current in amperes.\n",
      " |  \n",
      " |  phase(self) -> float\n",
      " |      Calculates the phase angle (in degrees) of the RLC circuit.\n",
      " |      \n",
      " |      Returns:\n",
      " |      - float: The phase angle in degrees.\n",
      " |  \n",
      " |  power_factor(self) -> float\n",
      " |      Calculates the power factor of the RLC circuit.\n",
      " |      \n",
      " |      Returns: The power factor.\n",
      " |  \n",
      " |  ----------------------------------------------------------------------\n",
      " |  Data descriptors defined here:\n",
      " |  \n",
      " |  __dict__\n",
      " |      dictionary for instance variables (if defined)\n",
      " |  \n",
      " |  __weakref__\n",
      " |      list of weak references to the object (if defined)\n",
      "\n"
     ]
    }
   ],
   "source": [
    "help(RLC)"
   ]
  },
  {
   "cell_type": "markdown",
   "id": "ddef9701-6fa2-4b06-98a9-c3feb3a4e00a",
   "metadata": {},
   "source": [
    "h. Print the doc-string and annotations of both the class and each instance method. "
   ]
  },
  {
   "cell_type": "code",
   "execution_count": 259,
   "id": "4685484f-8963-4279-a82d-21d5b03caf6f",
   "metadata": {},
   "outputs": [
    {
     "name": "stdout",
     "output_type": "stream",
     "text": [
      "A class representing a series RLC circuit with resistance (R), inductance (L), and capacitance (C).\n",
      "{'R': <class 'float'>, 'XL': <class 'float'>, 'XC': <class 'float'>, 'F': <class 'float'>}\n",
      "\n",
      "\n",
      "        Calculates the impedance of the RLC circuit.\n",
      "        Returns: The impedance in ohms in float.\n",
      "        \n",
      "{'return': <class 'float'>}\n",
      "\n",
      "\n",
      "        Calculates the phase angle (in degrees) of the RLC circuit.\n",
      "        \n",
      "        Returns:\n",
      "        - float: The phase angle in degrees.\n",
      "        \n",
      "{'return': <class 'float'>}\n",
      "\n",
      "\n",
      "        Calculates the current in the RLC circuit for a given input voltage.\n",
      "        \n",
      "        Parameters:\n",
      "        - voltage : The input voltage in volts.\n",
      "        \n",
      "        Returns: The current in amperes.\n",
      "        \n",
      "{'voltage': <class 'float'>, 'return': <class 'float'>}\n",
      "\n",
      "{'return': <class 'str'>}\n",
      "\n",
      "        Returns a formal string representation of the RLC instance. \n",
      "        Returns: A representation of the RLC circuit with R, L, C, and frequency.\n",
      "        \n",
      "\n",
      "{'return': <class 'str'>}\n",
      "\n",
      "        Returns an informal string representation of the RLC instance.\n",
      "        \n",
      "        Returns:  A description of the RLC circuit components and properties.\n",
      "        \n"
     ]
    }
   ],
   "source": [
    "print(RLC.__doc__)\n",
    "print(RLC.__init__.__annotations__)\n",
    "print()\n",
    "print(RLC.Z.__doc__)\n",
    "print(RLC.Z.__annotations__)\n",
    "print()\n",
    "print(RLC.phase.__doc__)\n",
    "print(RLC.phase.__annotations__)\n",
    "print()\n",
    "print(RLC.current.__doc__)\n",
    "print(RLC.current.__annotations__)\n",
    "print()\n",
    "print(RLC.__repr__.__annotations__)\n",
    "print(RLC.__repr__.__doc__)\n",
    "print()\n",
    "print(RLC.__str__.__annotations__)\n",
    "print(RLC.__str__.__doc__)"
   ]
  },
  {
   "cell_type": "markdown",
   "id": "9a32911f-08c5-4986-a120-377502f5dc78",
   "metadata": {},
   "source": [
    "i. Modify the __init__ by making its parameters default and verify by instances"
   ]
  },
  {
   "cell_type": "code",
   "execution_count": 260,
   "id": "d975ae39-d5e2-4762-a1d1-3f64d71a5902",
   "metadata": {},
   "outputs": [
    {
     "name": "stdout",
     "output_type": "stream",
     "text": [
      "Series RLC Circuit with R = 1 ohm, L = 1 H, C = 1 F, f = 100 Hz\n"
     ]
    }
   ],
   "source": [
    "inst_3 = RLC()\n",
    "print(inst_3)"
   ]
  },
  {
   "cell_type": "markdown",
   "id": "88ae093a-6c59-4371-9f69-624c1359f37f",
   "metadata": {},
   "source": [
    "*4*. ***Square:*** A four-sided polygon (quadrilateral) with all sides of equal length and all angles 90\n",
    "degrees."
   ]
  },
  {
   "cell_type": "code",
   "execution_count": 261,
   "id": "7450737a-2528-4257-bf09-20c159007603",
   "metadata": {},
   "outputs": [],
   "source": [
    "class Square:\n",
    "    \"\"\"\n",
    "    Represents a square, a four-sided polygon (quadrilateral) with all sides of equal length and all angles 90 degrees.\n",
    "\n",
    "    This class provides methods to calculate the area and perimeter of the square and to compare its size with another square.\n",
    "\n",
    "    Attributes: side_length : float\n",
    "        The length of one side of the square.\n",
    "    \"\"\"\n",
    "\n",
    "    def __init__(self, side_length: float = 1.0):\n",
    "        \"\"\"\n",
    "        Initializes a square with a specified side length.\n",
    "        \n",
    "        Parameters: side_length : float\n",
    "            The length of each side of the square in units (default is 1.0).\n",
    "        \"\"\"\n",
    "        self.side_length = side_length\n",
    "    def area(self) -> float:\n",
    "        \"\"\"\n",
    "        Calculates the area of the square.\n",
    "\n",
    "        Returns: float\n",
    "            The area of the square (side_length^2).\n",
    "        \"\"\"\n",
    "        return self.side_length ** 2\n",
    "    def perimeter(self) -> float:\n",
    "        \"\"\"\n",
    "        Calculates the perimeter of the square.\n",
    "\n",
    "        Returns: float\n",
    "            The perimeter of the square (4 * side_length).\n",
    "        \"\"\"\n",
    "        return 4 * self.side_length\n",
    "    def __repr__(self) -> str:\n",
    "        \"\"\"\n",
    "        Returns a formal string representation of the Square instance.\n",
    "\n",
    "        Returns:  str\n",
    "            A representation of the Square with side length.\n",
    "        \"\"\"\n",
    "        return f\"{type(self).__name__}(side_length={self.side_length})\"\n",
    "\n",
    "    def __str__(self) -> str:\n",
    "        \"\"\"\n",
    "        Returns an informal string representation of the Square instance.\n",
    "\n",
    "        Returns: str\n",
    "            A description of the Square with its side length, area, and perimeter.\n",
    "        \"\"\"\n",
    "        return (f\"Square with side length = {self.side_length}\")\n"
   ]
  },
  {
   "cell_type": "code",
   "execution_count": 262,
   "id": "732b8739-f98a-4359-8f9d-3a18cdbca4cf",
   "metadata": {},
   "outputs": [],
   "source": [
    "inst_1 = Square(12)\n",
    "inst_2 = Square(20)"
   ]
  },
  {
   "cell_type": "code",
   "execution_count": 263,
   "id": "2ab0ff42-cc9e-4cac-8ff9-ac54f2b4da40",
   "metadata": {},
   "outputs": [
    {
     "name": "stdout",
     "output_type": "stream",
     "text": [
      "Square with side length = 12\n",
      "Square with side length = 20\n"
     ]
    }
   ],
   "source": [
    "print(inst_1)\n",
    "print(inst_2)"
   ]
  },
  {
   "cell_type": "code",
   "execution_count": 264,
   "id": "ba356274-b79a-49f7-8f9d-427855468266",
   "metadata": {},
   "outputs": [
    {
     "data": {
      "text/plain": [
       "Square(side_length=12)"
      ]
     },
     "execution_count": 264,
     "metadata": {},
     "output_type": "execute_result"
    }
   ],
   "source": [
    "inst_1"
   ]
  },
  {
   "cell_type": "code",
   "execution_count": 265,
   "id": "e867d1d0-d4f4-45f8-ae6c-46c75f10480c",
   "metadata": {},
   "outputs": [
    {
     "data": {
      "text/plain": [
       "Square(side_length=20)"
      ]
     },
     "execution_count": 265,
     "metadata": {},
     "output_type": "execute_result"
    }
   ],
   "source": [
    "inst_2"
   ]
  },
  {
   "cell_type": "code",
   "execution_count": 266,
   "id": "0633a5cc-5bbe-4632-95a8-de4053435573",
   "metadata": {},
   "outputs": [
    {
     "name": "stdout",
     "output_type": "stream",
     "text": [
      "mappingproxy({'__dict__': <attribute '__dict__' of 'Square' objects>,\n",
      "              '__doc__': '\\n'\n",
      "                         '    Represents a square, a four-sided polygon '\n",
      "                         '(quadrilateral) with all sides of equal length and '\n",
      "                         'all angles 90 degrees.\\n'\n",
      "                         '\\n'\n",
      "                         '    This class provides methods to calculate the '\n",
      "                         'area and perimeter of the square and to compare its '\n",
      "                         'size with another square.\\n'\n",
      "                         '\\n'\n",
      "                         '    Attributes: side_length : float\\n'\n",
      "                         '        The length of one side of the square.\\n'\n",
      "                         '    ',\n",
      "              '__init__': <function Square.__init__ at 0x00000200443523A0>,\n",
      "              '__module__': '__main__',\n",
      "              '__repr__': <function Square.__repr__ at 0x000002004424F430>,\n",
      "              '__str__': <function Square.__str__ at 0x000002004424F670>,\n",
      "              '__weakref__': <attribute '__weakref__' of 'Square' objects>,\n",
      "              'area': <function Square.area at 0x0000020044319280>,\n",
      "              'perimeter': <function Square.perimeter at 0x000002004424FAF0>})\n"
     ]
    }
   ],
   "source": [
    "from pprint import pprint\n",
    "pprint(Square.__dict__)"
   ]
  },
  {
   "cell_type": "code",
   "execution_count": 267,
   "id": "4b403620-c479-478f-a6f2-fab4c7e2aa01",
   "metadata": {},
   "outputs": [
    {
     "name": "stdout",
     "output_type": "stream",
     "text": [
      "mappingproxy({'__dict__': <attribute '__dict__' of 'Square' objects>,\n",
      "              '__doc__': '\\n'\n",
      "                         '    Represents a square, a four-sided polygon '\n",
      "                         '(quadrilateral) with all sides of equal length and '\n",
      "                         'all angles 90 degrees.\\n'\n",
      "                         '\\n'\n",
      "                         '    This class provides methods to calculate the '\n",
      "                         'area and perimeter of the square and to compare its '\n",
      "                         'size with another square.\\n'\n",
      "                         '\\n'\n",
      "                         '    Attributes: side_length : float\\n'\n",
      "                         '        The length of one side of the square.\\n'\n",
      "                         '    ',\n",
      "              '__init__': <function Square.__init__ at 0x00000200443523A0>,\n",
      "              '__module__': '__main__',\n",
      "              '__repr__': <function Square.__repr__ at 0x000002004424F430>,\n",
      "              '__str__': <function Square.__str__ at 0x000002004424F670>,\n",
      "              '__weakref__': <attribute '__weakref__' of 'Square' objects>,\n",
      "              'area': <function Square.area at 0x0000020044319280>,\n",
      "              'perimeter': <function Square.perimeter at 0x000002004424FAF0>})\n"
     ]
    }
   ],
   "source": [
    "pprint(vars(Square))"
   ]
  },
  {
   "cell_type": "code",
   "execution_count": 268,
   "id": "d28be5e2-3875-45b5-a85e-c71d57c64b14",
   "metadata": {},
   "outputs": [
    {
     "name": "stdout",
     "output_type": "stream",
     "text": [
      "{'side_length': 12}\n",
      "{'side_length': 20}\n"
     ]
    }
   ],
   "source": [
    "print(inst_1.__dict__)\n",
    "print(inst_2.__dict__)"
   ]
  },
  {
   "cell_type": "code",
   "execution_count": 269,
   "id": "0b9cd5a5-9b3d-4339-a70d-f2fb18e64ce8",
   "metadata": {},
   "outputs": [
    {
     "name": "stdout",
     "output_type": "stream",
     "text": [
      "Help on class Square in module __main__:\n",
      "\n",
      "class Square(builtins.object)\n",
      " |  Square(side_length: float = 1.0)\n",
      " |  \n",
      " |  Represents a square, a four-sided polygon (quadrilateral) with all sides of equal length and all angles 90 degrees.\n",
      " |  \n",
      " |  This class provides methods to calculate the area and perimeter of the square and to compare its size with another square.\n",
      " |  \n",
      " |  Attributes: side_length : float\n",
      " |      The length of one side of the square.\n",
      " |  \n",
      " |  Methods defined here:\n",
      " |  \n",
      " |  __init__(self, side_length: float = 1.0)\n",
      " |      Initializes a square with a specified side length.\n",
      " |      \n",
      " |      Parameters: side_length : float\n",
      " |          The length of each side of the square in units (default is 1.0).\n",
      " |  \n",
      " |  __repr__(self) -> str\n",
      " |      Returns a formal string representation of the Square instance.\n",
      " |      \n",
      " |      Returns:  str\n",
      " |          A representation of the Square with side length.\n",
      " |  \n",
      " |  __str__(self) -> str\n",
      " |      Returns an informal string representation of the Square instance.\n",
      " |      \n",
      " |      Returns: str\n",
      " |          A description of the Square with its side length, area, and perimeter.\n",
      " |  \n",
      " |  area(self) -> float\n",
      " |      Calculates the area of the square.\n",
      " |      \n",
      " |      Returns: float\n",
      " |          The area of the square (side_length^2).\n",
      " |  \n",
      " |  perimeter(self) -> float\n",
      " |      Calculates the perimeter of the square.\n",
      " |      \n",
      " |      Returns: float\n",
      " |          The perimeter of the square (4 * side_length).\n",
      " |  \n",
      " |  ----------------------------------------------------------------------\n",
      " |  Data descriptors defined here:\n",
      " |  \n",
      " |  __dict__\n",
      " |      dictionary for instance variables (if defined)\n",
      " |  \n",
      " |  __weakref__\n",
      " |      list of weak references to the object (if defined)\n",
      "\n"
     ]
    }
   ],
   "source": [
    "help(Square)"
   ]
  },
  {
   "cell_type": "code",
   "execution_count": 270,
   "id": "15166738-9916-4353-9b6e-6497c684b4bf",
   "metadata": {},
   "outputs": [
    {
     "name": "stdout",
     "output_type": "stream",
     "text": [
      "\n",
      "    Represents a square, a four-sided polygon (quadrilateral) with all sides of equal length and all angles 90 degrees.\n",
      "\n",
      "    This class provides methods to calculate the area and perimeter of the square and to compare its size with another square.\n",
      "\n",
      "    Attributes: side_length : float\n",
      "        The length of one side of the square.\n",
      "    \n",
      "{'side_length': <class 'float'>}\n",
      "\n",
      "\n",
      "        Calculates the area of the square.\n",
      "\n",
      "        Returns: float\n",
      "            The area of the square (side_length^2).\n",
      "        \n",
      "{'return': <class 'float'>}\n",
      "\n",
      "\n",
      "        Calculates the perimeter of the square.\n",
      "\n",
      "        Returns: float\n",
      "            The perimeter of the square (4 * side_length).\n",
      "        \n",
      "{'return': <class 'float'>}\n",
      "\n",
      "{'return': <class 'str'>}\n",
      "\n",
      "        Returns a formal string representation of the Square instance.\n",
      "\n",
      "        Returns:  str\n",
      "            A representation of the Square with side length.\n",
      "        \n",
      "\n",
      "{'return': <class 'str'>}\n",
      "\n",
      "        Returns an informal string representation of the Square instance.\n",
      "\n",
      "        Returns: str\n",
      "            A description of the Square with its side length, area, and perimeter.\n",
      "        \n"
     ]
    }
   ],
   "source": [
    "print(Square.__doc__)\n",
    "print(Square.__init__.__annotations__)\n",
    "print()\n",
    "print(Square.area.__doc__)\n",
    "print(Square.area.__annotations__)\n",
    "print()\n",
    "print(Square.perimeter.__doc__)\n",
    "print(Square.perimeter.__annotations__)\n",
    "print()\n",
    "print(Square.__repr__.__annotations__)\n",
    "print(Square.__repr__.__doc__)\n",
    "print()\n",
    "print(Square.__str__.__annotations__)\n",
    "print(Square.__str__.__doc__)"
   ]
  },
  {
   "cell_type": "markdown",
   "id": "a55c41ca-572d-49b8-81b3-8092fb7dcec9",
   "metadata": {},
   "source": [
    "## 5.  *Rectangle:*"
   ]
  },
  {
   "cell_type": "code",
   "execution_count": 271,
   "id": "e614b573-bd15-4d1f-ab73-af379500637a",
   "metadata": {},
   "outputs": [],
   "source": [
    "class Rectangle:\n",
    "    \"\"\"\n",
    "    Represents a rectangle, a four-sided polygon where opposite sides are equal in length \n",
    "    and all angles are 90 degrees.   \n",
    "    This class provides methods to calculate the area, perimeter, and to check if two rectangles \n",
    "    are of the same size.    \n",
    "    Attributes: length : float\n",
    "        The length of the rectangle.\n",
    "    width : float\n",
    "        The width of the rectangle.\n",
    "    \"\"\"\n",
    "\n",
    "    def __init__(self, length = 2.0, width: float = 4.0):\n",
    "        \"\"\"\n",
    "        Initializes a Rectangle instance with specified length and width. \n",
    "        Parameters: length : float\n",
    "            The length of the rectangle.\n",
    "        width : float\n",
    "            The width of the rectangle.\n",
    "        \"\"\"\n",
    "        self.length = length\n",
    "        self.width = width\n",
    "    def area(self) -> float:\n",
    "        \"\"\"\n",
    "        Calculates the area of the rectangle.   \n",
    "        Returns: float\n",
    "            The area of the rectangle.\n",
    "        \"\"\"\n",
    "        return self.length * self.width\n",
    "    def perimeter(self) -> float:\n",
    "        \"\"\"\n",
    "        Calculates the perimeter of the rectangle.     \n",
    "        Returns: float\n",
    "            The perimeter of the rectangle.\n",
    "        \"\"\"\n",
    "        return 2 * (self.length + self.width)\n",
    "    def __repr__(self) -> str:\n",
    "        \"\"\"\n",
    "        Returns a formal string representation of the Rectangle instance.\n",
    "        Returns:  str\n",
    "            A string with the class name, length, and width.\n",
    "        \"\"\"\n",
    "        return f\"{type(self).__name__}(length={self.length}, width={self.width})\"\n",
    "\n",
    "    def __str__(self) -> str:\n",
    "        \"\"\"\n",
    "        Returns an informal string representation of the Rectangle instance.\n",
    "        Returns: str\n",
    "            A description of the rectangle with its dimensions, area, and perimeter.\n",
    "        \"\"\"\n",
    "        return (f\"Rectangle with length = {self.length}, width = {self.width}\")\n"
   ]
  },
  {
   "cell_type": "code",
   "execution_count": 272,
   "id": "d60105a0-77f8-44ff-8fb8-e5a76b57061c",
   "metadata": {},
   "outputs": [],
   "source": [
    "inst_1 = Rectangle(12,10)\n",
    "inst_2 = Rectangle(20,15)"
   ]
  },
  {
   "cell_type": "code",
   "execution_count": 273,
   "id": "d629a5cc-5c83-4053-a19f-5ec56850bc3d",
   "metadata": {},
   "outputs": [
    {
     "name": "stdout",
     "output_type": "stream",
     "text": [
      "Rectangle with length = 12, width = 10\n",
      "Rectangle with length = 20, width = 15\n"
     ]
    }
   ],
   "source": [
    "print(inst_1)\n",
    "print(inst_2)"
   ]
  },
  {
   "cell_type": "code",
   "execution_count": 274,
   "id": "7b69d2a0-64c9-4054-aa06-4286e2ee2652",
   "metadata": {},
   "outputs": [
    {
     "data": {
      "text/plain": [
       "Rectangle(length=12, width=10)"
      ]
     },
     "execution_count": 274,
     "metadata": {},
     "output_type": "execute_result"
    }
   ],
   "source": [
    "inst_1"
   ]
  },
  {
   "cell_type": "code",
   "execution_count": 275,
   "id": "f26b7d83-df69-479b-8840-d8cf4e64c4a4",
   "metadata": {},
   "outputs": [
    {
     "data": {
      "text/plain": [
       "Rectangle(length=20, width=15)"
      ]
     },
     "execution_count": 275,
     "metadata": {},
     "output_type": "execute_result"
    }
   ],
   "source": [
    "inst_2"
   ]
  },
  {
   "cell_type": "code",
   "execution_count": 276,
   "id": "584d6d6d-45f5-4cd8-9b8d-565600a9a423",
   "metadata": {},
   "outputs": [
    {
     "name": "stdout",
     "output_type": "stream",
     "text": [
      "mappingproxy({'__dict__': <attribute '__dict__' of 'Rectangle' objects>,\n",
      "              '__doc__': '\\n'\n",
      "                         '    Represents a rectangle, a four-sided polygon '\n",
      "                         'where opposite sides are equal in length \\n'\n",
      "                         '    and all angles are 90 degrees.   \\n'\n",
      "                         '    This class provides methods to calculate the '\n",
      "                         'area, perimeter, and to check if two rectangles \\n'\n",
      "                         '    are of the same size.    \\n'\n",
      "                         '    Attributes: length : float\\n'\n",
      "                         '        The length of the rectangle.\\n'\n",
      "                         '    width : float\\n'\n",
      "                         '        The width of the rectangle.\\n'\n",
      "                         '    ',\n",
      "              '__init__': <function Rectangle.__init__ at 0x000002004436ECA0>,\n",
      "              '__module__': '__main__',\n",
      "              '__repr__': <function Rectangle.__repr__ at 0x00000200442FCAF0>,\n",
      "              '__str__': <function Rectangle.__str__ at 0x00000200442FC040>,\n",
      "              '__weakref__': <attribute '__weakref__' of 'Rectangle' objects>,\n",
      "              'area': <function Rectangle.area at 0x000002004436EA60>,\n",
      "              'perimeter': <function Rectangle.perimeter at 0x0000020042407280>})\n"
     ]
    }
   ],
   "source": [
    "from pprint import pprint\n",
    "pprint(Rectangle.__dict__)"
   ]
  },
  {
   "cell_type": "code",
   "execution_count": 277,
   "id": "098e6f01-0526-473d-ac39-3e1a33f058a0",
   "metadata": {},
   "outputs": [
    {
     "name": "stdout",
     "output_type": "stream",
     "text": [
      "mappingproxy({'__dict__': <attribute '__dict__' of 'Rectangle' objects>,\n",
      "              '__doc__': '\\n'\n",
      "                         '    Represents a rectangle, a four-sided polygon '\n",
      "                         'where opposite sides are equal in length \\n'\n",
      "                         '    and all angles are 90 degrees.   \\n'\n",
      "                         '    This class provides methods to calculate the '\n",
      "                         'area, perimeter, and to check if two rectangles \\n'\n",
      "                         '    are of the same size.    \\n'\n",
      "                         '    Attributes: length : float\\n'\n",
      "                         '        The length of the rectangle.\\n'\n",
      "                         '    width : float\\n'\n",
      "                         '        The width of the rectangle.\\n'\n",
      "                         '    ',\n",
      "              '__init__': <function Rectangle.__init__ at 0x000002004436ECA0>,\n",
      "              '__module__': '__main__',\n",
      "              '__repr__': <function Rectangle.__repr__ at 0x00000200442FCAF0>,\n",
      "              '__str__': <function Rectangle.__str__ at 0x00000200442FC040>,\n",
      "              '__weakref__': <attribute '__weakref__' of 'Rectangle' objects>,\n",
      "              'area': <function Rectangle.area at 0x000002004436EA60>,\n",
      "              'perimeter': <function Rectangle.perimeter at 0x0000020042407280>})\n"
     ]
    }
   ],
   "source": [
    "pprint(vars(Rectangle))"
   ]
  },
  {
   "cell_type": "code",
   "execution_count": 278,
   "id": "5310f44e-92ee-41fa-ba8b-d1b73193b549",
   "metadata": {},
   "outputs": [
    {
     "name": "stdout",
     "output_type": "stream",
     "text": [
      "{'length': 12, 'width': 10}\n",
      "{'length': 20, 'width': 15}\n"
     ]
    }
   ],
   "source": [
    "print(inst_1.__dict__)\n",
    "print(inst_2.__dict__)"
   ]
  },
  {
   "cell_type": "code",
   "execution_count": 279,
   "id": "366e1c16-1f40-4ae5-92a0-08877234c926",
   "metadata": {},
   "outputs": [
    {
     "name": "stdout",
     "output_type": "stream",
     "text": [
      "Help on class Rectangle in module __main__:\n",
      "\n",
      "class Rectangle(builtins.object)\n",
      " |  Rectangle(length=2.0, width: float = 4.0)\n",
      " |  \n",
      " |  Represents a rectangle, a four-sided polygon where opposite sides are equal in length \n",
      " |  and all angles are 90 degrees.   \n",
      " |  This class provides methods to calculate the area, perimeter, and to check if two rectangles \n",
      " |  are of the same size.    \n",
      " |  Attributes: length : float\n",
      " |      The length of the rectangle.\n",
      " |  width : float\n",
      " |      The width of the rectangle.\n",
      " |  \n",
      " |  Methods defined here:\n",
      " |  \n",
      " |  __init__(self, length=2.0, width: float = 4.0)\n",
      " |      Initializes a Rectangle instance with specified length and width. \n",
      " |      Parameters: length : float\n",
      " |          The length of the rectangle.\n",
      " |      width : float\n",
      " |          The width of the rectangle.\n",
      " |  \n",
      " |  __repr__(self) -> str\n",
      " |      Returns a formal string representation of the Rectangle instance.\n",
      " |      Returns:  str\n",
      " |          A string with the class name, length, and width.\n",
      " |  \n",
      " |  __str__(self) -> str\n",
      " |      Returns an informal string representation of the Rectangle instance.\n",
      " |      Returns: str\n",
      " |          A description of the rectangle with its dimensions, area, and perimeter.\n",
      " |  \n",
      " |  area(self) -> float\n",
      " |      Calculates the area of the rectangle.   \n",
      " |      Returns: float\n",
      " |          The area of the rectangle.\n",
      " |  \n",
      " |  perimeter(self) -> float\n",
      " |      Calculates the perimeter of the rectangle.     \n",
      " |      Returns: float\n",
      " |          The perimeter of the rectangle.\n",
      " |  \n",
      " |  ----------------------------------------------------------------------\n",
      " |  Data descriptors defined here:\n",
      " |  \n",
      " |  __dict__\n",
      " |      dictionary for instance variables (if defined)\n",
      " |  \n",
      " |  __weakref__\n",
      " |      list of weak references to the object (if defined)\n",
      "\n"
     ]
    }
   ],
   "source": [
    "help(Rectangle)"
   ]
  },
  {
   "cell_type": "code",
   "execution_count": 280,
   "id": "d3dc408e-ec48-47bb-87da-b520461626bf",
   "metadata": {},
   "outputs": [
    {
     "name": "stdout",
     "output_type": "stream",
     "text": [
      "\n",
      "    Represents a rectangle, a four-sided polygon where opposite sides are equal in length \n",
      "    and all angles are 90 degrees.   \n",
      "    This class provides methods to calculate the area, perimeter, and to check if two rectangles \n",
      "    are of the same size.    \n",
      "    Attributes: length : float\n",
      "        The length of the rectangle.\n",
      "    width : float\n",
      "        The width of the rectangle.\n",
      "    \n",
      "{'width': <class 'float'>}\n",
      "\n",
      "\n",
      "        Calculates the area of the rectangle.   \n",
      "        Returns: float\n",
      "            The area of the rectangle.\n",
      "        \n",
      "{'return': <class 'float'>}\n",
      "\n",
      "\n",
      "        Calculates the perimeter of the rectangle.     \n",
      "        Returns: float\n",
      "            The perimeter of the rectangle.\n",
      "        \n",
      "{'return': <class 'float'>}\n",
      "\n",
      "{'return': <class 'str'>}\n",
      "\n",
      "        Returns a formal string representation of the Rectangle instance.\n",
      "        Returns:  str\n",
      "            A string with the class name, length, and width.\n",
      "        \n",
      "\n",
      "{'return': <class 'str'>}\n",
      "\n",
      "        Returns an informal string representation of the Rectangle instance.\n",
      "        Returns: str\n",
      "            A description of the rectangle with its dimensions, area, and perimeter.\n",
      "        \n"
     ]
    }
   ],
   "source": [
    "print(Rectangle.__doc__)\n",
    "print(Rectangle.__init__.__annotations__)\n",
    "print()\n",
    "print(Rectangle.area.__doc__)\n",
    "print(Rectangle.area.__annotations__)\n",
    "print()\n",
    "print(Rectangle.perimeter.__doc__)\n",
    "print(Rectangle.perimeter.__annotations__)\n",
    "print()\n",
    "print(Rectangle.__repr__.__annotations__)\n",
    "print(Rectangle.__repr__.__doc__)\n",
    "print()\n",
    "print(Rectangle.__str__.__annotations__)\n",
    "print(Rectangle.__str__.__doc__)"
   ]
  },
  {
   "cell_type": "code",
   "execution_count": 281,
   "id": "a005089b-9a09-4e77-a0de-e16a7887980c",
   "metadata": {},
   "outputs": [],
   "source": [
    "inst_3 = Rectangle()"
   ]
  },
  {
   "cell_type": "code",
   "execution_count": 282,
   "id": "ef1a8f5a-dd90-4adb-ace6-6eb8d446144f",
   "metadata": {},
   "outputs": [
    {
     "name": "stdout",
     "output_type": "stream",
     "text": [
      "Rectangle with length = 2.0, width = 4.0\n"
     ]
    },
    {
     "data": {
      "text/plain": [
       "Rectangle(length=2.0, width=4.0)"
      ]
     },
     "execution_count": 282,
     "metadata": {},
     "output_type": "execute_result"
    }
   ],
   "source": [
    "print(inst_3)\n",
    "inst_3"
   ]
  },
  {
   "cell_type": "markdown",
   "id": "4f18c62e-fa2d-4bc1-ac58-d61a0a1a85ed",
   "metadata": {},
   "source": [
    " **5.Triangle**"
   ]
  },
  {
   "cell_type": "code",
   "execution_count": 283,
   "id": "8c70bd98-568e-4732-9806-8c6b95f6f91e",
   "metadata": {},
   "outputs": [],
   "source": [
    "class Triangle:\n",
    "    \"\"\"\n",
    "    Represents a Triangle, a three side of equal  length   \n",
    "    This class provides methods to calculate the area, perimeter\n",
    "    \"\"\"\n",
    "    def __init__(self, a: float = 1.0, b: float = 1.0, c: float = 1.0) -> None:\n",
    "        \"\"\"To initiate the triangle with specific three side of equal length\"\"\"\n",
    "        self.a = a\n",
    "        self.b = b\n",
    "        self.c = c\n",
    "    def area(self) -> float:\n",
    "        \"\"\"To calculate  the area of the triangle\"\"\"\n",
    "        s = (self.a + self.b + self.c) / 2\n",
    "        return math.sqrt(s * (s - self.a) * (s - self.b) * (s - self.c))\n",
    "\n",
    "    def perimeter(self) -> float:\n",
    "        \"\"\"To calculate the perimeter of the triangle\"\"\"\n",
    "        return self.a + self.b + self.c\n",
    "\n",
    "    def __repr__(self) -> str:\n",
    "        \"\"\"Returns an informal string representation of the triagnle instance.\"\"\"\n",
    "\n",
    "        return f\"Triangle(a={self.a}, b={self.b}, c={self.c})\"\n",
    "\n",
    "    def __str__(self) -> str:\n",
    "        \"\"\"Returns a formal string representation of the triangle instance.\"\"\"\n",
    "        return (f\"Triangle with sides: a={self.a}, b={self.b}, c={self.c}\")\n"
   ]
  },
  {
   "cell_type": "code",
   "execution_count": 284,
   "id": "752d0395-898d-49ee-8ade-99d2b7457bad",
   "metadata": {},
   "outputs": [],
   "source": [
    "t_1 = Triangle(9, 2, 6)\n",
    "t_2 = Triangle(7, 5, 3)"
   ]
  },
  {
   "cell_type": "code",
   "execution_count": 285,
   "id": "459ef857-b66c-4d63-8a4b-777a0b847e14",
   "metadata": {},
   "outputs": [
    {
     "name": "stdout",
     "output_type": "stream",
     "text": [
      "Triangle with sides: a=9, b=2, c=6\n",
      "Triangle with sides: a=7, b=5, c=3\n"
     ]
    }
   ],
   "source": [
    "print(t_1)\n",
    "print(t_2)"
   ]
  },
  {
   "cell_type": "code",
   "execution_count": 286,
   "id": "0b2a392a-cb80-4011-8a92-1ff778c6d687",
   "metadata": {},
   "outputs": [
    {
     "data": {
      "text/plain": [
       "Triangle(a=9, b=2, c=6)"
      ]
     },
     "execution_count": 286,
     "metadata": {},
     "output_type": "execute_result"
    }
   ],
   "source": [
    "t_1"
   ]
  },
  {
   "cell_type": "code",
   "execution_count": 287,
   "id": "f2d5d5be-a14f-466e-95e6-3b3f21df384d",
   "metadata": {},
   "outputs": [
    {
     "data": {
      "text/plain": [
       "Triangle(a=7, b=5, c=3)"
      ]
     },
     "execution_count": 287,
     "metadata": {},
     "output_type": "execute_result"
    }
   ],
   "source": [
    "t_2"
   ]
  },
  {
   "cell_type": "code",
   "execution_count": 288,
   "id": "2817fb5b-71f3-482c-9431-b0af5b6e2057",
   "metadata": {},
   "outputs": [
    {
     "name": "stdout",
     "output_type": "stream",
     "text": [
      "mappingproxy({'__dict__': <attribute '__dict__' of 'Triangle' objects>,\n",
      "              '__doc__': '\\n'\n",
      "                         '    Represents a Triangle, a three side of equal  '\n",
      "                         'length   \\n'\n",
      "                         '    This class provides methods to calculate the '\n",
      "                         'area, perimeter\\n'\n",
      "                         '    ',\n",
      "              '__init__': <function Triangle.__init__ at 0x0000020044401160>,\n",
      "              '__module__': '__main__',\n",
      "              '__repr__': <function Triangle.__repr__ at 0x0000020044298C10>,\n",
      "              '__str__': <function Triangle.__str__ at 0x00000200442980D0>,\n",
      "              '__weakref__': <attribute '__weakref__' of 'Triangle' objects>,\n",
      "              'area': <function Triangle.area at 0x00000200441C99D0>,\n",
      "              'perimeter': <function Triangle.perimeter at 0x00000200441B4A60>})\n"
     ]
    }
   ],
   "source": [
    "from  pprint import pprint\n",
    "pprint(Triangle.__dict__)"
   ]
  },
  {
   "cell_type": "code",
   "execution_count": 289,
   "id": "6684c3ff-d29f-4c83-8b53-70710fe341e3",
   "metadata": {},
   "outputs": [
    {
     "name": "stdout",
     "output_type": "stream",
     "text": [
      "mappingproxy({'__dict__': <attribute '__dict__' of 'Triangle' objects>,\n",
      "              '__doc__': '\\n'\n",
      "                         '    Represents a Triangle, a three side of equal  '\n",
      "                         'length   \\n'\n",
      "                         '    This class provides methods to calculate the '\n",
      "                         'area, perimeter\\n'\n",
      "                         '    ',\n",
      "              '__init__': <function Triangle.__init__ at 0x0000020044401160>,\n",
      "              '__module__': '__main__',\n",
      "              '__repr__': <function Triangle.__repr__ at 0x0000020044298C10>,\n",
      "              '__str__': <function Triangle.__str__ at 0x00000200442980D0>,\n",
      "              '__weakref__': <attribute '__weakref__' of 'Triangle' objects>,\n",
      "              'area': <function Triangle.area at 0x00000200441C99D0>,\n",
      "              'perimeter': <function Triangle.perimeter at 0x00000200441B4A60>})\n"
     ]
    }
   ],
   "source": [
    "pprint(vars(Triangle))"
   ]
  },
  {
   "cell_type": "code",
   "execution_count": 290,
   "id": "a1bdb958-eb41-4c4d-b15d-202bdc763f0e",
   "metadata": {},
   "outputs": [
    {
     "name": "stdout",
     "output_type": "stream",
     "text": [
      "{'a': 9, 'b': 2, 'c': 6}\n",
      "{'a': 7, 'b': 5, 'c': 3}\n"
     ]
    }
   ],
   "source": [
    "print(t_1.__dict__)\n",
    "print(t_2.__dict__)"
   ]
  },
  {
   "cell_type": "code",
   "execution_count": 291,
   "id": "293f2d54-2252-4019-9b7b-35a398833101",
   "metadata": {},
   "outputs": [
    {
     "name": "stdout",
     "output_type": "stream",
     "text": [
      "Help on class Triangle in module __main__:\n",
      "\n",
      "class Triangle(builtins.object)\n",
      " |  Triangle(a: float = 1.0, b: float = 1.0, c: float = 1.0) -> None\n",
      " |  \n",
      " |  Represents a Triangle, a three side of equal  length   \n",
      " |  This class provides methods to calculate the area, perimeter\n",
      " |  \n",
      " |  Methods defined here:\n",
      " |  \n",
      " |  __init__(self, a: float = 1.0, b: float = 1.0, c: float = 1.0) -> None\n",
      " |      To initiate the triangle with specific three side of equal length\n",
      " |  \n",
      " |  __repr__(self) -> str\n",
      " |      Returns an informal string representation of the triagnle instance.\n",
      " |  \n",
      " |  __str__(self) -> str\n",
      " |      Returns a formal string representation of the triangle instance.\n",
      " |  \n",
      " |  area(self) -> float\n",
      " |      To calculate  the area of the triangle\n",
      " |  \n",
      " |  perimeter(self) -> float\n",
      " |      To calculate the perimeter of the triangle\n",
      " |  \n",
      " |  ----------------------------------------------------------------------\n",
      " |  Data descriptors defined here:\n",
      " |  \n",
      " |  __dict__\n",
      " |      dictionary for instance variables (if defined)\n",
      " |  \n",
      " |  __weakref__\n",
      " |      list of weak references to the object (if defined)\n",
      "\n"
     ]
    }
   ],
   "source": [
    "help(Triangle)"
   ]
  },
  {
   "cell_type": "code",
   "execution_count": 292,
   "id": "4cc0ee84-ff22-4a3f-ae53-dc74bc8299d7",
   "metadata": {},
   "outputs": [
    {
     "name": "stdout",
     "output_type": "stream",
     "text": [
      "\n",
      "    Represents a Triangle, a three side of equal  length   \n",
      "    This class provides methods to calculate the area, perimeter\n",
      "    \n",
      "{'a': <class 'float'>, 'b': <class 'float'>, 'c': <class 'float'>, 'return': None}\n",
      "\n",
      "To calculate  the area of the triangle\n",
      "{'return': <class 'float'>}\n",
      "\n",
      "To calculate the perimeter of the triangle\n",
      "{'return': <class 'float'>}\n",
      "\n",
      "{'return': <class 'str'>}\n",
      "Returns an informal string representation of the triagnle instance.\n",
      "\n",
      "{'return': <class 'str'>}\n",
      "Returns a formal string representation of the triangle instance.\n"
     ]
    }
   ],
   "source": [
    "print(Triangle.__doc__)\n",
    "print(Triangle.__init__.__annotations__)\n",
    "print()\n",
    "print(Triangle.area.__doc__)\n",
    "print(Triangle.area.__annotations__)\n",
    "print()\n",
    "print(Triangle.perimeter.__doc__)\n",
    "print(Triangle.perimeter.__annotations__)\n",
    "print()\n",
    "print(Triangle.__repr__.__annotations__)\n",
    "print(Triangle.__repr__.__doc__)\n",
    "print()\n",
    "print(Triangle.__str__.__annotations__)\n",
    "print(Triangle.__str__.__doc__)"
   ]
  },
  {
   "cell_type": "code",
   "execution_count": 293,
   "id": "610bb65a-fb4a-4728-9773-53a870cb10cd",
   "metadata": {},
   "outputs": [],
   "source": [
    "t_3 = Triangle()"
   ]
  },
  {
   "cell_type": "code",
   "execution_count": 294,
   "id": "286a2a76-cb65-4322-bcd4-78059cb162e7",
   "metadata": {},
   "outputs": [
    {
     "name": "stdout",
     "output_type": "stream",
     "text": [
      "Triangle with sides: a=1.0, b=1.0, c=1.0\n"
     ]
    },
    {
     "data": {
      "text/plain": [
       "Triangle(a=1.0, b=1.0, c=1.0)"
      ]
     },
     "execution_count": 294,
     "metadata": {},
     "output_type": "execute_result"
    }
   ],
   "source": [
    "print(t_3)\n",
    "t_3"
   ]
  },
  {
   "cell_type": "markdown",
   "id": "ef4d9e6e-1ab4-4442-8e33-c93e000f1f04",
   "metadata": {},
   "source": [
    " **6.Trapezoid**"
   ]
  },
  {
   "cell_type": "code",
   "execution_count": 295,
   "id": "c1c60af8-d604-4477-902f-6b26cc3362a1",
   "metadata": {},
   "outputs": [],
   "source": [
    "class Trapezoid:\n",
    "    \"\"\"A class represent Trapezoid with two  bases and heigth\"\"\"\n",
    "    def __init__(self, base1: float = 1.0, base2: float = 1.0, height: float = 1.0) -> None:\n",
    "        \"\"\"To initate the class with specific value of bases and heigth\"\"\"\n",
    "        self.base1 = base1\n",
    "        self.base2 = base2\n",
    "        self.height = height\n",
    "    def area(self) -> float:\n",
    "        \"\"\"To calculate the area of trapezoid\"\"\"\n",
    "        return (self.base1 + self.base2) * self.height / 2\n",
    "\n",
    "    def perimeter(self) -> float:\n",
    "        \"\"\"To  calculate the perimeter of a trapezoid\"\"\"\n",
    "        raise NotImplementedError(\"Perimeter calculation requires lengths of non-parallel sides.\")\n",
    "\n",
    "    def __repr__(self) -> str:\n",
    "        \"\"\"Returns an informal string representation of the trapezoid instance.\"\"\"\n",
    "        return f\"Trapezoid(base1={self.base1}, base2={self.base2}, height={self.height})\"\n",
    "\n",
    "    def __str__(self) -> str:\n",
    "        \"\"\"Returns a formal string representation of the trapezoid instance.\"\"\"\n",
    "        return (f\"Trapezoid with base1: {self.base1}, base2: {self.base2}, \"\n",
    "                f\"height: {self.height}, area: {self.area}\")\n"
   ]
  },
  {
   "cell_type": "code",
   "execution_count": 296,
   "id": "f2eb9676-9571-4297-a86d-c59aa5036257",
   "metadata": {},
   "outputs": [],
   "source": [
    "trapezoid = Trapezoid(base1=2, base2=4, height=6)"
   ]
  },
  {
   "cell_type": "code",
   "execution_count": 297,
   "id": "5529920c-b412-4d06-88be-c5bdfaa17d21",
   "metadata": {},
   "outputs": [
    {
     "name": "stdout",
     "output_type": "stream",
     "text": [
      "Trapezoid with base1: 2, base2: 4, height: 6, area: <bound method Trapezoid.area of Trapezoid(base1=2, base2=4, height=6)>\n"
     ]
    }
   ],
   "source": [
    "print(trapezoid)"
   ]
  },
  {
   "cell_type": "code",
   "execution_count": 298,
   "id": "6752601c-1037-4106-b4d7-5c1af09f123a",
   "metadata": {},
   "outputs": [
    {
     "data": {
      "text/plain": [
       "Trapezoid(base1=2, base2=4, height=6)"
      ]
     },
     "execution_count": 298,
     "metadata": {},
     "output_type": "execute_result"
    }
   ],
   "source": [
    "trapezoid"
   ]
  },
  {
   "cell_type": "code",
   "execution_count": 12,
   "id": "14010323-c25e-4b0d-832b-5593b529cfde",
   "metadata": {},
   "outputs": [
    {
     "name": "stdout",
     "output_type": "stream",
     "text": [
      "mappingproxy({'__dict__': <attribute '__dict__' of 'Trapezoid' objects>,\n",
      "              '__doc__': 'A class represent Trapezoid with two  bases and '\n",
      "                         'heigth',\n",
      "              '__init__': <function Trapezoid.__init__ at 0x00000200424DCE50>,\n",
      "              '__module__': '__main__',\n",
      "              '__repr__': <function Trapezoid.__repr__ at 0x0000020044198790>,\n",
      "              '__str__': <function Trapezoid.__str__ at 0x0000020044198700>,\n",
      "              '__weakref__': <attribute '__weakref__' of 'Trapezoid' objects>,\n",
      "              'area': <function Trapezoid.area at 0x00000200424E0550>,\n",
      "              'perimeter': <function Trapezoid.perimeter at 0x00000200441985E0>})\n"
     ]
    }
   ],
   "source": [
    "from pprint import pprint\n",
    "pprint(Trapezoid.__dict__)"
   ]
  },
  {
   "cell_type": "code",
   "execution_count": 193,
   "id": "fb715791-685d-40ee-a240-1fbed7609288",
   "metadata": {},
   "outputs": [
    {
     "name": "stdout",
     "output_type": "stream",
     "text": [
      "mappingproxy({'__dict__': <attribute '__dict__' of 'Trapezoid' objects>,\n",
      "              '__doc__': 'A class represent Trapezoid with two  bases and '\n",
      "                         'heigth',\n",
      "              '__init__': <function Trapezoid.__init__ at 0x000001D7A35C23A0>,\n",
      "              '__module__': '__main__',\n",
      "              '__repr__': <function Trapezoid.__repr__ at 0x000001D7A3620040>,\n",
      "              '__str__': <function Trapezoid.__str__ at 0x000001D7A3620700>,\n",
      "              '__weakref__': <attribute '__weakref__' of 'Trapezoid' objects>,\n",
      "              'area': <function Trapezoid.area at 0x000001D7A35BBE50>,\n",
      "              'perimeter': <function Trapezoid.perimeter at 0x000001D7A35BBAF0>})\n"
     ]
    }
   ],
   "source": [
    "pprint(vars(Trapezoid))"
   ]
  },
  {
   "cell_type": "code",
   "execution_count": 194,
   "id": "dad4446b-766a-418b-8224-fd187fdd1ad9",
   "metadata": {},
   "outputs": [
    {
     "name": "stdout",
     "output_type": "stream",
     "text": [
      "{'base1': 2, 'base2': 4, 'height': 6}\n"
     ]
    }
   ],
   "source": [
    "print(trapezoid.__dict__)"
   ]
  },
  {
   "cell_type": "code",
   "execution_count": 195,
   "id": "bab8bcc6-a3a9-492d-bffe-53b85d836c01",
   "metadata": {},
   "outputs": [
    {
     "name": "stdout",
     "output_type": "stream",
     "text": [
      "Help on Trapezoid in module __main__ object:\n",
      "\n",
      "class Trapezoid(builtins.object)\n",
      " |  Trapezoid(base1: float = 1.0, base2: float = 1.0, height: float = 1.0) -> None\n",
      " |  \n",
      " |  A class represent Trapezoid with two  bases and heigth\n",
      " |  \n",
      " |  Methods defined here:\n",
      " |  \n",
      " |  __init__(self, base1: float = 1.0, base2: float = 1.0, height: float = 1.0) -> None\n",
      " |      To initate the class with specific value of bases and heigth\n",
      " |  \n",
      " |  __repr__(self) -> str\n",
      " |      Returns an informal string representation of the trapezoid instance.\n",
      " |  \n",
      " |  __str__(self) -> str\n",
      " |      Returns a formal string representation of the trapezoid instance.\n",
      " |  \n",
      " |  area(self) -> float\n",
      " |      To calculate the area of trapezoid\n",
      " |  \n",
      " |  perimeter(self) -> float\n",
      " |      To  calculate the perimeter of a trapezoid\n",
      " |  \n",
      " |  ----------------------------------------------------------------------\n",
      " |  Data descriptors defined here:\n",
      " |  \n",
      " |  __dict__\n",
      " |      dictionary for instance variables (if defined)\n",
      " |  \n",
      " |  __weakref__\n",
      " |      list of weak references to the object (if defined)\n",
      "\n"
     ]
    }
   ],
   "source": [
    "help(trapezoid)"
   ]
  },
  {
   "cell_type": "code",
   "execution_count": 196,
   "id": "abbd72c0-641c-490c-99e1-4de518586cea",
   "metadata": {},
   "outputs": [
    {
     "name": "stdout",
     "output_type": "stream",
     "text": [
      "A class represent Trapezoid with two  bases and heigth\n",
      "{'base1': <class 'float'>, 'base2': <class 'float'>, 'height': <class 'float'>, 'return': None}\n",
      "\n",
      "To calculate the area of trapezoid\n",
      "{'return': <class 'float'>}\n",
      "\n",
      "To  calculate the perimeter of a trapezoid\n",
      "{'return': <class 'float'>}\n",
      "\n",
      "{'return': <class 'str'>}\n",
      "Returns an informal string representation of the trapezoid instance.\n",
      "\n",
      "{'return': <class 'str'>}\n",
      "Returns a formal string representation of the trapezoid instance.\n"
     ]
    }
   ],
   "source": [
    "print(Trapezoid.__doc__)\n",
    "print(Trapezoid.__init__.__annotations__)\n",
    "print()\n",
    "print(Trapezoid.area.__doc__)\n",
    "print(Trapezoid.area.__annotations__)\n",
    "print()\n",
    "print(Trapezoid.perimeter.__doc__)\n",
    "print(Trapezoid.perimeter.__annotations__)\n",
    "print()\n",
    "print(Trapezoid.__repr__.__annotations__)\n",
    "print(Trapezoid.__repr__.__doc__)\n",
    "print()\n",
    "print(Trapezoid.__str__.__annotations__)\n",
    "print(Trapezoid.__str__.__doc__)"
   ]
  },
  {
   "cell_type": "markdown",
   "id": "49be420b-99f2-489a-8c42-2d8071b56160",
   "metadata": {},
   "source": [
    " **7.Parallelogram**"
   ]
  },
  {
   "cell_type": "code",
   "execution_count": 248,
   "id": "5231fc58-b95f-451a-a6e0-20f59ee0b608",
   "metadata": {},
   "outputs": [],
   "source": [
    "class Parallelogram:\n",
    "    \"\"\"A Class which represent Parallelogram with one base and height \"\"\"\n",
    "    def __init__(self, base: float = 1.0, height: float = 1.0) -> None:\n",
    "        self.base = base\n",
    "        self.height = height\n",
    "    def area(self) -> float:\n",
    "        \"\"\"To calculate the area of the Parallelogram\"\"\"\n",
    "        return self.base * self.height\n",
    "    def perimeter(self) -> float:\n",
    "        \"\"\"To calculate the perimeter of Parallelogram\"\"\"\n",
    "        return 2 * (self.base + self.height)\n",
    "            \n",
    "    def __repr__(self) -> str:\n",
    "        \"\"\"Return a string representation of the rhombus.\"\"\"\n",
    "        return f\"Parallelogram(base={self.base}, height={self.height})\"\n",
    "\n",
    "    def __str__(self) -> str:\n",
    "        \"\"\"Return a user-friendly string representation of the rhombus.\"\"\"\n",
    "        return (f\"Parallelogram with base: {self.base}, height: {self.height}\")\n"
   ]
  },
  {
   "cell_type": "code",
   "execution_count": 249,
   "id": "7235c19f-d938-440a-a543-08b934570690",
   "metadata": {},
   "outputs": [],
   "source": [
    "p_1 = Parallelogram(base=6, height=9)\n",
    "p_2 = Parallelogram(base=4, height=7)"
   ]
  },
  {
   "cell_type": "code",
   "execution_count": 250,
   "id": "3cf44d27-2683-4f5f-a977-5872885020ca",
   "metadata": {},
   "outputs": [
    {
     "name": "stdout",
     "output_type": "stream",
     "text": [
      "Parallelogram with base: 6, height: 9\n",
      "Parallelogram with base: 4, height: 7\n"
     ]
    }
   ],
   "source": [
    "print(p_1)\n",
    "print(p_2)"
   ]
  },
  {
   "cell_type": "code",
   "execution_count": 251,
   "id": "f6fce7de-ee1d-488b-be2e-6c89c75cd217",
   "metadata": {},
   "outputs": [
    {
     "data": {
      "text/plain": [
       "Parallelogram(base=6, height=9)"
      ]
     },
     "execution_count": 251,
     "metadata": {},
     "output_type": "execute_result"
    }
   ],
   "source": [
    "p_1"
   ]
  },
  {
   "cell_type": "code",
   "execution_count": 252,
   "id": "8f4b7d8b-f220-4e6c-846d-133d0d7ee3df",
   "metadata": {},
   "outputs": [
    {
     "data": {
      "text/plain": [
       "Parallelogram(base=4, height=7)"
      ]
     },
     "execution_count": 252,
     "metadata": {},
     "output_type": "execute_result"
    }
   ],
   "source": [
    "p_2"
   ]
  },
  {
   "cell_type": "code",
   "execution_count": 253,
   "id": "d7a936f3-955b-4f8b-96b6-e018f66d3a79",
   "metadata": {},
   "outputs": [
    {
     "name": "stdout",
     "output_type": "stream",
     "text": [
      "mappingproxy({'__dict__': <attribute '__dict__' of 'Parallelogram' objects>,\n",
      "              '__doc__': 'A Class which represent Parallelogram with one base '\n",
      "                         'and height ',\n",
      "              '__init__': <function Parallelogram.__init__ at 0x0000019F09EA4820>,\n",
      "              '__module__': '__main__',\n",
      "              '__repr__': <function Parallelogram.__repr__ at 0x0000019F09EACB80>,\n",
      "              '__str__': <function Parallelogram.__str__ at 0x0000019F09EACDC0>,\n",
      "              '__weakref__': <attribute '__weakref__' of 'Parallelogram' objects>,\n",
      "              'area': <function Parallelogram.area at 0x0000019F09EACA60>,\n",
      "              'perimeter': <function Parallelogram.perimeter at 0x0000019F09EACD30>})\n"
     ]
    }
   ],
   "source": [
    "pprint(Parallelogram.__dict__)"
   ]
  },
  {
   "cell_type": "code",
   "execution_count": 254,
   "id": "2dce1953-f281-41b1-a9a2-9b351e0f20d5",
   "metadata": {},
   "outputs": [
    {
     "name": "stdout",
     "output_type": "stream",
     "text": [
      "mappingproxy({'__dict__': <attribute '__dict__' of 'Parallelogram' objects>,\n",
      "              '__doc__': 'A Class which represent Parallelogram with one base '\n",
      "                         'and height ',\n",
      "              '__init__': <function Parallelogram.__init__ at 0x0000019F09EA4820>,\n",
      "              '__module__': '__main__',\n",
      "              '__repr__': <function Parallelogram.__repr__ at 0x0000019F09EACB80>,\n",
      "              '__str__': <function Parallelogram.__str__ at 0x0000019F09EACDC0>,\n",
      "              '__weakref__': <attribute '__weakref__' of 'Parallelogram' objects>,\n",
      "              'area': <function Parallelogram.area at 0x0000019F09EACA60>,\n",
      "              'perimeter': <function Parallelogram.perimeter at 0x0000019F09EACD30>})\n"
     ]
    }
   ],
   "source": [
    "pprint(vars(Parallelogram))"
   ]
  },
  {
   "cell_type": "code",
   "execution_count": 255,
   "id": "55821866-17bc-4cdc-ba61-99048e3f4201",
   "metadata": {},
   "outputs": [
    {
     "name": "stdout",
     "output_type": "stream",
     "text": [
      "Help on class Parallelogram in module __main__:\n",
      "\n",
      "class Parallelogram(builtins.object)\n",
      " |  Parallelogram(base: float = 1.0, height: float = 1.0) -> None\n",
      " |  \n",
      " |  A Class which represent Parallelogram with one base and height\n",
      " |  \n",
      " |  Methods defined here:\n",
      " |  \n",
      " |  __init__(self, base: float = 1.0, height: float = 1.0) -> None\n",
      " |      Initialize self.  See help(type(self)) for accurate signature.\n",
      " |  \n",
      " |  __repr__(self) -> str\n",
      " |      Return a string representation of the rhombus.\n",
      " |  \n",
      " |  __str__(self) -> str\n",
      " |      Return a user-friendly string representation of the rhombus.\n",
      " |  \n",
      " |  area(self) -> float\n",
      " |      To calculate the area of the Parallelogram\n",
      " |  \n",
      " |  perimeter(self) -> float\n",
      " |      To calculate the perimeter of Parallelogram\n",
      " |  \n",
      " |  ----------------------------------------------------------------------\n",
      " |  Data descriptors defined here:\n",
      " |  \n",
      " |  __dict__\n",
      " |      dictionary for instance variables (if defined)\n",
      " |  \n",
      " |  __weakref__\n",
      " |      list of weak references to the object (if defined)\n",
      "\n"
     ]
    }
   ],
   "source": [
    "help(Parallelogram)"
   ]
  },
  {
   "cell_type": "code",
   "execution_count": 256,
   "id": "db62b980-c590-4b7e-845d-986abd9b226b",
   "metadata": {},
   "outputs": [
    {
     "name": "stdout",
     "output_type": "stream",
     "text": [
      "A Class which represent Parallelogram with one base and height \n",
      "{'base': <class 'float'>, 'height': <class 'float'>, 'return': None}\n",
      "To calculate the area of the Parallelogram\n",
      "{'return': <class 'float'>}\n",
      "To calculate the perimeter of Parallelogram\n",
      "{'return': <class 'float'>}\n",
      "{'return': <class 'str'>}\n",
      "Return a string representation of the rhombus.\n",
      "{'return': <class 'str'>}\n",
      "Return a user-friendly string representation of the rhombus.\n"
     ]
    }
   ],
   "source": [
    "print(Parallelogram.__doc__)\n",
    "print(Parallelogram.__init__.__annotations__)\n",
    "print(Parallelogram.area.__doc__)\n",
    "print(Parallelogram.area.__annotations__)\n",
    "print(Parallelogram.perimeter.__doc__)\n",
    "print(Parallelogram.perimeter.__annotations__)\n",
    "print(Parallelogram.__repr__.__annotations__)\n",
    "print(Parallelogram.__repr__.__doc__)\n",
    "print(Parallelogram.__str__.__annotations__)\n",
    "print(Parallelogram.__str__.__doc__)"
   ]
  },
  {
   "cell_type": "code",
   "execution_count": 257,
   "id": "dee8edbb-a7a8-46b9-97e0-f4154bb38492",
   "metadata": {},
   "outputs": [],
   "source": [
    "p_3 = Parallelogram()"
   ]
  },
  {
   "cell_type": "code",
   "execution_count": 258,
   "id": "f0888311-ca9f-42d7-b8f0-a4b0f65df470",
   "metadata": {},
   "outputs": [
    {
     "name": "stdout",
     "output_type": "stream",
     "text": [
      "Parallelogram with base: 1.0, height: 1.0\n"
     ]
    },
    {
     "data": {
      "text/plain": [
       "Parallelogram(base=1.0, height=1.0)"
      ]
     },
     "execution_count": 258,
     "metadata": {},
     "output_type": "execute_result"
    }
   ],
   "source": [
    "print(p_3)\n",
    "p_3"
   ]
  },
  {
   "cell_type": "markdown",
   "id": "7a5bbc20-2e3e-4a80-9c3e-4d3e906489d2",
   "metadata": {},
   "source": [
    " **8.Rhombus**"
   ]
  },
  {
   "cell_type": "code",
   "execution_count": 26,
   "id": "4f11305a-77f3-42ef-821c-0860a9991a4d",
   "metadata": {},
   "outputs": [],
   "source": [
    "class Rhombus:\n",
    "    \"\"\"A class to represent a rhombus, a parallelogram with all sides equal.\"\"\"\n",
    "    \n",
    "    def __init__(self, side_length: float = 1.0, height: float = 1.0) -> None:\n",
    "        \"\"\"Initialize the rhombus with the length of its sides and height.\n",
    "        \n",
    "        Args:\n",
    "            side_length (float): Length of each side. Defaults to 1.0.\n",
    "            height (float): Height of the rhombus. Defaults to 1.0.\n",
    "        \"\"\"\n",
    "        self.side_length = side_length\n",
    "        self.height = height\n",
    "    def area(self) -> float:\n",
    "        \"\"\"Calculate the area of the rhombus.\"\"\"\n",
    "        return self.side_length * self.height\n",
    "\n",
    "    def perimeter(self) -> float:\n",
    "        \"\"\"Calculate the perimeter of the rhombus.\"\"\"\n",
    "        return 4 * self.side_length\n",
    "\n",
    "    def __repr__(self) -> str:\n",
    "        \"\"\"Return a string representation of the rhombus.\"\"\"\n",
    "        return f\"Rhombus(side_length={self.side_length}, height={self.height})\"\n",
    "\n",
    "    def __str__(self) -> str:\n",
    "        \"\"\"Return a user-friendly string representation of the rhombus.\"\"\"\n",
    "        return (f\"Rhombus with side length: {self.side_length}, height: {self.height}\")\n"
   ]
  },
  {
   "cell_type": "code",
   "execution_count": 134,
   "id": "f3b1bd91-3741-44ad-a84f-f66fc044e348",
   "metadata": {},
   "outputs": [],
   "source": [
    "R_1 = Rhombus(3, 2)\n",
    "R_2 = Rhombus(9, 6)"
   ]
  },
  {
   "cell_type": "code",
   "execution_count": 135,
   "id": "faf31f7c-0e98-48a0-8d57-7d2fd883c58c",
   "metadata": {},
   "outputs": [
    {
     "name": "stdout",
     "output_type": "stream",
     "text": [
      "Rhombus with side length: 3, height: 2\n",
      "Rhombus with side length: 9, height: 6\n"
     ]
    }
   ],
   "source": [
    "print(R_1)\n",
    "print(R_2)"
   ]
  },
  {
   "cell_type": "code",
   "execution_count": 136,
   "id": "cc111388-0f45-4f10-86c4-8b6919ff531b",
   "metadata": {},
   "outputs": [
    {
     "data": {
      "text/plain": [
       "Rhombus(side_length=3, height=2)"
      ]
     },
     "execution_count": 136,
     "metadata": {},
     "output_type": "execute_result"
    }
   ],
   "source": [
    "R_1"
   ]
  },
  {
   "cell_type": "code",
   "execution_count": 137,
   "id": "f42a1cc9-7953-4282-9f66-e6c6df9cb86d",
   "metadata": {},
   "outputs": [
    {
     "data": {
      "text/plain": [
       "Rhombus(side_length=9, height=6)"
      ]
     },
     "execution_count": 137,
     "metadata": {},
     "output_type": "execute_result"
    }
   ],
   "source": [
    "R_2"
   ]
  },
  {
   "cell_type": "code",
   "execution_count": 138,
   "id": "45130410-f6ee-4b46-99bb-b3478b2dcbe7",
   "metadata": {},
   "outputs": [
    {
     "name": "stdout",
     "output_type": "stream",
     "text": [
      "mappingproxy({'__dict__': <attribute '__dict__' of 'Rhombus' objects>,\n",
      "              '__doc__': 'A class to represent a rhombus, a parallelogram with '\n",
      "                         'all sides equal.',\n",
      "              '__init__': <function Rhombus.__init__ at 0x000001D7A35BBEE0>,\n",
      "              '__module__': '__main__',\n",
      "              '__repr__': <function Rhombus.__repr__ at 0x000001D7A35C2040>,\n",
      "              '__str__': <function Rhombus.__str__ at 0x000001D7A35C20D0>,\n",
      "              '__weakref__': <attribute '__weakref__' of 'Rhombus' objects>,\n",
      "              'area': <function Rhombus.area at 0x000001D7A35BBCA0>,\n",
      "              'perimeter': <function Rhombus.perimeter at 0x000001D7A35BBF70>})\n"
     ]
    }
   ],
   "source": [
    "pprint(Rhombus.__dict__)"
   ]
  },
  {
   "cell_type": "code",
   "execution_count": 139,
   "id": "923b2a57-1813-40c2-a2e2-e5b40bbf7d79",
   "metadata": {},
   "outputs": [
    {
     "name": "stdout",
     "output_type": "stream",
     "text": [
      "mappingproxy({'__dict__': <attribute '__dict__' of 'Rhombus' objects>,\n",
      "              '__doc__': 'A class to represent a rhombus, a parallelogram with '\n",
      "                         'all sides equal.',\n",
      "              '__init__': <function Rhombus.__init__ at 0x000001D7A35BBEE0>,\n",
      "              '__module__': '__main__',\n",
      "              '__repr__': <function Rhombus.__repr__ at 0x000001D7A35C2040>,\n",
      "              '__str__': <function Rhombus.__str__ at 0x000001D7A35C20D0>,\n",
      "              '__weakref__': <attribute '__weakref__' of 'Rhombus' objects>,\n",
      "              'area': <function Rhombus.area at 0x000001D7A35BBCA0>,\n",
      "              'perimeter': <function Rhombus.perimeter at 0x000001D7A35BBF70>})\n"
     ]
    }
   ],
   "source": [
    "pprint(vars(Rhombus))"
   ]
  },
  {
   "cell_type": "code",
   "execution_count": 140,
   "id": "e80863bd-723e-45fb-9de0-3f95743da5fc",
   "metadata": {},
   "outputs": [
    {
     "name": "stdout",
     "output_type": "stream",
     "text": [
      "{'side_length': 3, 'height': 2}\n",
      "{'side_length': 9, 'height': 6}\n"
     ]
    }
   ],
   "source": [
    "print(R_1.__dict__)\n",
    "print(R_2.__dict__)"
   ]
  },
  {
   "cell_type": "code",
   "execution_count": 141,
   "id": "e6f6ca74-6bc3-4db1-96df-1e27e3bd5d2e",
   "metadata": {},
   "outputs": [
    {
     "name": "stdout",
     "output_type": "stream",
     "text": [
      "Help on class Rhombus in module __main__:\n",
      "\n",
      "class Rhombus(builtins.object)\n",
      " |  Rhombus(side_length: float = 1.0, height: float = 1.0) -> None\n",
      " |  \n",
      " |  A class to represent a rhombus, a parallelogram with all sides equal.\n",
      " |  \n",
      " |  Methods defined here:\n",
      " |  \n",
      " |  __init__(self, side_length: float = 1.0, height: float = 1.0) -> None\n",
      " |      Initialize the rhombus with the length of its sides and height.\n",
      " |      \n",
      " |      Args:\n",
      " |          side_length (float): Length of each side. Defaults to 1.0.\n",
      " |          height (float): Height of the rhombus. Defaults to 1.0.\n",
      " |  \n",
      " |  __repr__(self) -> str\n",
      " |      Return a string representation of the rhombus.\n",
      " |  \n",
      " |  __str__(self) -> str\n",
      " |      Return a user-friendly string representation of the rhombus.\n",
      " |  \n",
      " |  area(self) -> float\n",
      " |      Calculate the area of the rhombus.\n",
      " |  \n",
      " |  perimeter(self) -> float\n",
      " |      Calculate the perimeter of the rhombus.\n",
      " |  \n",
      " |  ----------------------------------------------------------------------\n",
      " |  Data descriptors defined here:\n",
      " |  \n",
      " |  __dict__\n",
      " |      dictionary for instance variables (if defined)\n",
      " |  \n",
      " |  __weakref__\n",
      " |      list of weak references to the object (if defined)\n",
      "\n"
     ]
    }
   ],
   "source": [
    "help(Rhombus)"
   ]
  },
  {
   "cell_type": "code",
   "execution_count": 142,
   "id": "5508d41a-584b-4b3a-8479-665ee80a2148",
   "metadata": {},
   "outputs": [
    {
     "name": "stdout",
     "output_type": "stream",
     "text": [
      "A class to represent a rhombus, a parallelogram with all sides equal.\n",
      "{'side_length': <class 'float'>, 'height': <class 'float'>, 'return': None}\n",
      "\n",
      "Calculate the area of the rhombus.\n",
      "{'return': <class 'float'>}\n",
      "\n",
      "Calculate the perimeter of the rhombus.\n",
      "{'return': <class 'float'>}\n",
      "\n",
      "{'return': <class 'str'>}\n",
      "Return a string representation of the rhombus.\n",
      "\n",
      "{'return': <class 'str'>}\n",
      "Return a user-friendly string representation of the rhombus.\n"
     ]
    }
   ],
   "source": [
    "print(Rhombus.__doc__)\n",
    "print(Rhombus.__init__.__annotations__)\n",
    "print()\n",
    "print(Rhombus.area.__doc__)\n",
    "print(Rhombus.area.__annotations__)\n",
    "print()\n",
    "print(Rhombus.perimeter.__doc__)\n",
    "print(Rhombus.perimeter.__annotations__)\n",
    "print()\n",
    "print(Rhombus.__repr__.__annotations__)\n",
    "print(Rhombus.__repr__.__doc__)\n",
    "print()\n",
    "print(Rhombus.__str__.__annotations__)\n",
    "print(Rhombus.__str__.__doc__)"
   ]
  },
  {
   "cell_type": "code",
   "execution_count": 27,
   "id": "2ea313b4-e34c-4495-bd72-4433b89fa371",
   "metadata": {},
   "outputs": [],
   "source": [
    "R_3 = Rhombus()"
   ]
  },
  {
   "cell_type": "code",
   "execution_count": 28,
   "id": "bbfdf9b2-35d9-4581-97ca-755b31cd0713",
   "metadata": {},
   "outputs": [
    {
     "name": "stdout",
     "output_type": "stream",
     "text": [
      "Rhombus with side length: 1.0, height: 1.0\n"
     ]
    },
    {
     "data": {
      "text/plain": [
       "Rhombus(side_length=1.0, height=1.0)"
      ]
     },
     "execution_count": 28,
     "metadata": {},
     "output_type": "execute_result"
    }
   ],
   "source": [
    "print(R_3)\n",
    "R_3"
   ]
  },
  {
   "cell_type": "markdown",
   "id": "1152951b-487e-4b36-826b-94e542742c68",
   "metadata": {},
   "source": [
    "## 1. Resistor"
   ]
  },
  {
   "cell_type": "code",
   "execution_count": 197,
   "id": "77e54bde-c9a0-4f8c-baaa-235c75e12a7c",
   "metadata": {},
   "outputs": [],
   "source": [
    "class Resister:\n",
    "    \"\"\"A class to represent a simple circuit with a single resistor.\"\"\"\n",
    "    \n",
    "    def __init__(self, resistance: float = 1.0) -> None:\n",
    "        \"\"\"Initialize the resistor with the given resistance value.\n",
    "        \n",
    "        Args:\n",
    "            resistance (float): Resistance in ohms. Defaults to 1.0.\n",
    "        \"\"\"\n",
    "        self.resistance = resistance\n",
    "\n",
    "    def resistance(self) -> float:\n",
    "        \"\"\"Get the resistance value.\"\"\"\n",
    "        return self.resistance\n",
    "\n",
    "    def __repr__(self) -> str:\n",
    "        \"\"\"Return a string representation of the Resister.\"\"\"\n",
    "\n",
    "        return f\"Resistor(resistance={self.resistance})\"\n",
    "\n",
    "    def __str__(self) -> str:\n",
    "        \"\"\"Return a user-friendly string representation of the Resister.\"\"\"\n",
    "\n",
    "        return f\"Resistor with resistance: {self.resistance} ohms\"\n"
   ]
  },
  {
   "cell_type": "code",
   "execution_count": 198,
   "id": "985641b5-f3e9-4109-a027-a8243b45d522",
   "metadata": {},
   "outputs": [],
   "source": [
    "r_1 = Resister(10)\n",
    "r_2 = Resister(35)"
   ]
  },
  {
   "cell_type": "code",
   "execution_count": 199,
   "id": "2f241d69-7fba-444d-ba68-8a3f80987b38",
   "metadata": {},
   "outputs": [
    {
     "name": "stdout",
     "output_type": "stream",
     "text": [
      "Resistor with resistance: 10 ohms\n",
      "Resistor with resistance: 35 ohms\n"
     ]
    }
   ],
   "source": [
    "print(r_1)\n",
    "print(r_2)"
   ]
  },
  {
   "cell_type": "code",
   "execution_count": 200,
   "id": "12f844ea-7745-4c99-ae4f-a3f288c4e8ec",
   "metadata": {},
   "outputs": [
    {
     "data": {
      "text/plain": [
       "Resistor(resistance=10)"
      ]
     },
     "execution_count": 200,
     "metadata": {},
     "output_type": "execute_result"
    }
   ],
   "source": [
    "r_1"
   ]
  },
  {
   "cell_type": "code",
   "execution_count": 201,
   "id": "7e92c50f-d513-45b5-857f-a8237218b428",
   "metadata": {},
   "outputs": [
    {
     "data": {
      "text/plain": [
       "Resistor(resistance=35)"
      ]
     },
     "execution_count": 201,
     "metadata": {},
     "output_type": "execute_result"
    }
   ],
   "source": [
    "r_2"
   ]
  },
  {
   "cell_type": "code",
   "execution_count": 202,
   "id": "fbd5292d-ca0b-4d9e-9346-765b5bcf51db",
   "metadata": {},
   "outputs": [
    {
     "name": "stdout",
     "output_type": "stream",
     "text": [
      "mappingproxy({'__dict__': <attribute '__dict__' of 'Resister' objects>,\n",
      "              '__doc__': 'A class to represent a simple circuit with a single '\n",
      "                         'resistor.',\n",
      "              '__init__': <function Resister.__init__ at 0x000001D7A36343A0>,\n",
      "              '__module__': '__main__',\n",
      "              '__repr__': <function Resister.__repr__ at 0x000001D7A36345E0>,\n",
      "              '__str__': <function Resister.__str__ at 0x000001D7A3634430>,\n",
      "              '__weakref__': <attribute '__weakref__' of 'Resister' objects>,\n",
      "              'resistance': <function Resister.resistance at 0x000001D7A3634310>})\n"
     ]
    }
   ],
   "source": [
    "pprint(Resister.__dict__)"
   ]
  },
  {
   "cell_type": "code",
   "execution_count": 203,
   "id": "875926f0-35e2-4e62-8f22-71553f364ef6",
   "metadata": {},
   "outputs": [
    {
     "name": "stdout",
     "output_type": "stream",
     "text": [
      "mappingproxy({'__dict__': <attribute '__dict__' of 'Resister' objects>,\n",
      "              '__doc__': 'A class to represent a simple circuit with a single '\n",
      "                         'resistor.',\n",
      "              '__init__': <function Resister.__init__ at 0x000001D7A36343A0>,\n",
      "              '__module__': '__main__',\n",
      "              '__repr__': <function Resister.__repr__ at 0x000001D7A36345E0>,\n",
      "              '__str__': <function Resister.__str__ at 0x000001D7A3634430>,\n",
      "              '__weakref__': <attribute '__weakref__' of 'Resister' objects>,\n",
      "              'resistance': <function Resister.resistance at 0x000001D7A3634310>})\n"
     ]
    }
   ],
   "source": [
    "pprint(vars(Resister))"
   ]
  },
  {
   "cell_type": "code",
   "execution_count": 204,
   "id": "8778954f-7c93-424d-8e55-90a8e6d0f180",
   "metadata": {},
   "outputs": [
    {
     "name": "stdout",
     "output_type": "stream",
     "text": [
      "{'resistance': 10}\n"
     ]
    }
   ],
   "source": [
    "print(r_1.__dict__)"
   ]
  },
  {
   "cell_type": "code",
   "execution_count": 205,
   "id": "2c1e173a-d89e-4977-8979-a5d91ed4f7d9",
   "metadata": {},
   "outputs": [
    {
     "name": "stdout",
     "output_type": "stream",
     "text": [
      "{'resistance': 35}\n"
     ]
    }
   ],
   "source": [
    "print(r_2.__dict__)"
   ]
  },
  {
   "cell_type": "code",
   "execution_count": 206,
   "id": "fe70287c-5903-411e-ba1f-c4c8554f5ede",
   "metadata": {},
   "outputs": [
    {
     "name": "stdout",
     "output_type": "stream",
     "text": [
      "Help on class Resister in module __main__:\n",
      "\n",
      "class Resister(builtins.object)\n",
      " |  Resister(resistance: float = 1.0) -> None\n",
      " |  \n",
      " |  A class to represent a simple circuit with a single resistor.\n",
      " |  \n",
      " |  Methods defined here:\n",
      " |  \n",
      " |  __init__(self, resistance: float = 1.0) -> None\n",
      " |      Initialize the resistor with the given resistance value.\n",
      " |      \n",
      " |      Args:\n",
      " |          resistance (float): Resistance in ohms. Defaults to 1.0.\n",
      " |  \n",
      " |  __repr__(self) -> str\n",
      " |      Return a string representation of the Resister.\n",
      " |  \n",
      " |  __str__(self) -> str\n",
      " |      Return a user-friendly string representation of the Resister.\n",
      " |  \n",
      " |  resistance(self) -> float\n",
      " |      Get the resistance value.\n",
      " |  \n",
      " |  ----------------------------------------------------------------------\n",
      " |  Data descriptors defined here:\n",
      " |  \n",
      " |  __dict__\n",
      " |      dictionary for instance variables (if defined)\n",
      " |  \n",
      " |  __weakref__\n",
      " |      list of weak references to the object (if defined)\n",
      "\n"
     ]
    }
   ],
   "source": [
    "help(Resister)"
   ]
  },
  {
   "cell_type": "code",
   "execution_count": 255,
   "id": "ba675909-2ffb-463d-a1f1-37bf93a0ac83",
   "metadata": {},
   "outputs": [
    {
     "name": "stdout",
     "output_type": "stream",
     "text": [
      "A class to represent a simple circuit with a single resistor.\n",
      "{'resistance': <class 'float'>, 'return': None}\n",
      "\n",
      "Get the resistance value.\n",
      "{'return': <class 'float'>}\n",
      "\n",
      "{'return': <class 'str'>}\n",
      "Return a string representation of the Resister.\n",
      "\n",
      "{'return': <class 'str'>}\n",
      "Return a user-friendly string representation of the Resister.\n"
     ]
    }
   ],
   "source": [
    "print(Resister.__doc__)\n",
    "print(Resister.__init__.__annotations__)\n",
    "print()\n",
    "print(Resister.resistance.__doc__)\n",
    "print(Resister.resistance.__annotations__)\n",
    "print()\n",
    "print(Resister.__repr__.__annotations__)\n",
    "print(Resister.__repr__.__doc__)\n",
    "print()\n",
    "print(Resister.__str__.__annotations__)\n",
    "print(Resister.__str__.__doc__)"
   ]
  },
  {
   "cell_type": "markdown",
   "id": "0e27b156-634d-41aa-a406-21c48acaba93",
   "metadata": {},
   "source": [
    "## 2. RL Circuit"
   ]
  },
  {
   "cell_type": "code",
   "execution_count": 23,
   "id": "4554fc19-dab7-4ee5-9696-8b4869887d80",
   "metadata": {},
   "outputs": [],
   "source": [
    "class RL_Circuit:\n",
    "    \"\"\"A class to represent an RL circuit (Resistor and Inductor).\"\"\"\n",
    "    \n",
    "    def __init__(self, resistance: float = 1.0, inductance: float = 1.0) -> None:\n",
    "        \"\"\"Initialize the RL circuit with resistance and inductance.\n",
    "        \n",
    "        Args:\n",
    "            resistance (float): Resistance in ohms. Defaults to 1.0.\n",
    "            inductance (float): Inductance in henries. Defaults to 1.0.\n",
    "        \"\"\"\n",
    "        self.resistance = resistance\n",
    "        self.inductance = inductance\n",
    "    def reactance(self,frequency: float) -> float:\n",
    "        \"\"\"Calculate the reactance of the inductor\"\"\"\n",
    "        return 2 * math.pi * frequency * self.inductance\n",
    "    def impedance(self) -> float:\n",
    "        \"\"\"Calculate the impedance of the RL circuit.\n",
    "        \n",
    "        Args:\n",
    "            frequency (float): Frequency in hertz.\n",
    "        \n",
    "        Returns:\n",
    "            float: Impedance in ohms.\n",
    "        \"\"\"\n",
    "        return math.sqrt((self.resistance**2) + (self.reactance)**2)\n",
    "\n",
    "    def __repr__(self) -> str:\n",
    "        \"\"\"Return a string representation of the RL Circuit.\"\"\"\n",
    "\n",
    "        return f\"RLCircuit(resistor={self.resistance}, inductance={self.inductance})\"\n",
    "\n",
    "    def __str__(self) -> str:\n",
    "        \"\"\"Return a user-friendly string representation of the RL Circuit.\"\"\"\n",
    "        return (f\"RL Circuit with {self.resistance} ohm, inductance: {self.inductance} H\")\n"
   ]
  },
  {
   "cell_type": "code",
   "execution_count": 295,
   "id": "5941e286-abb1-462e-b141-fde1c9b2b233",
   "metadata": {},
   "outputs": [],
   "source": [
    "RL_1 = RL_Circuit(10,0.1)\n",
    "RL_2 = RL_Circuit(30,0.001)"
   ]
  },
  {
   "cell_type": "code",
   "execution_count": 296,
   "id": "69287f55-41ce-437d-b41c-466255eb8272",
   "metadata": {},
   "outputs": [
    {
     "name": "stdout",
     "output_type": "stream",
     "text": [
      "RL Circuit with 10 ohm, inductance: 0.1 H\n",
      "RL Circuit with 30 ohm, inductance: 0.001 H\n"
     ]
    }
   ],
   "source": [
    "print(RL_1)\n",
    "print(RL_2)"
   ]
  },
  {
   "cell_type": "code",
   "execution_count": 297,
   "id": "1c5eba76-1d5f-4bfb-938b-4c9dd68b1dbf",
   "metadata": {},
   "outputs": [
    {
     "data": {
      "text/plain": [
       "RLCircuit(resistor=10, inductance=0.1)"
      ]
     },
     "execution_count": 297,
     "metadata": {},
     "output_type": "execute_result"
    }
   ],
   "source": [
    "RL_1"
   ]
  },
  {
   "cell_type": "code",
   "execution_count": 298,
   "id": "4c4e944a-dffd-4ce6-8331-bf9f0944139e",
   "metadata": {},
   "outputs": [
    {
     "data": {
      "text/plain": [
       "RLCircuit(resistor=30, inductance=0.001)"
      ]
     },
     "execution_count": 298,
     "metadata": {},
     "output_type": "execute_result"
    }
   ],
   "source": [
    "RL_2"
   ]
  },
  {
   "cell_type": "code",
   "execution_count": 299,
   "id": "639914f8-212e-45a9-93db-945ea03d0266",
   "metadata": {},
   "outputs": [
    {
     "name": "stdout",
     "output_type": "stream",
     "text": [
      "mappingproxy({'__dict__': <attribute '__dict__' of 'RL_Circuit' objects>,\n",
      "              '__doc__': 'A class to represent an RL circuit (Resistor and '\n",
      "                         'Inductor).',\n",
      "              '__init__': <function RL_Circuit.__init__ at 0x000001D7A3C30E50>,\n",
      "              '__module__': '__main__',\n",
      "              '__repr__': <function RL_Circuit.__repr__ at 0x000001D7A3C300D0>,\n",
      "              '__str__': <function RL_Circuit.__str__ at 0x000001D7A3C301F0>,\n",
      "              '__weakref__': <attribute '__weakref__' of 'RL_Circuit' objects>,\n",
      "              'impedance': <function RL_Circuit.impedance at 0x000001D7A3C30C10>,\n",
      "              'reactance': <function RL_Circuit.reactance at 0x000001D7A3C30DC0>})\n"
     ]
    }
   ],
   "source": [
    "pprint(RL_Circuit.__dict__)"
   ]
  },
  {
   "cell_type": "code",
   "execution_count": 300,
   "id": "c1697404-9bec-42aa-8e1c-aec774be94cf",
   "metadata": {},
   "outputs": [
    {
     "name": "stdout",
     "output_type": "stream",
     "text": [
      "mappingproxy({'__dict__': <attribute '__dict__' of 'RLCircuit' objects>,\n",
      "              '__doc__': 'A class to represent an RL circuit (Resistor and '\n",
      "                         'Inductor).',\n",
      "              '__init__': <function RLCircuit.__init__ at 0x000001D7A35BB5E0>,\n",
      "              '__module__': '__main__',\n",
      "              '__repr__': <function RLCircuit.__repr__ at 0x000001D7A3508C10>,\n",
      "              '__str__': <function RLCircuit.__str__ at 0x000001D7A35080D0>,\n",
      "              '__weakref__': <attribute '__weakref__' of 'RLCircuit' objects>,\n",
      "              'impedance': <function RLCircuit.impedance at 0x000001D7A35BBDC0>})\n"
     ]
    }
   ],
   "source": [
    "pprint(vars(RLCircuit))"
   ]
  },
  {
   "cell_type": "code",
   "execution_count": 301,
   "id": "9b17b75a-ac9f-427c-b73c-0a2d35a8172c",
   "metadata": {},
   "outputs": [
    {
     "name": "stdout",
     "output_type": "stream",
     "text": [
      "{'resistance': 10, 'inductance': 0.1}\n",
      "{'resistance': 30, 'inductance': 0.001}\n"
     ]
    }
   ],
   "source": [
    "print(RL_1.__dict__)\n",
    "print(RL_2.__dict__)"
   ]
  },
  {
   "cell_type": "code",
   "execution_count": 302,
   "id": "28fe8c03-6682-43fe-96de-c78e299a24c0",
   "metadata": {},
   "outputs": [
    {
     "name": "stdout",
     "output_type": "stream",
     "text": [
      "Help on class RL_Circuit in module __main__:\n",
      "\n",
      "class RL_Circuit(builtins.object)\n",
      " |  RL_Circuit(resistance: float = 1.0, inductance: float = 1.0) -> None\n",
      " |  \n",
      " |  A class to represent an RL circuit (Resistor and Inductor).\n",
      " |  \n",
      " |  Methods defined here:\n",
      " |  \n",
      " |  __init__(self, resistance: float = 1.0, inductance: float = 1.0) -> None\n",
      " |      Initialize the RL circuit with resistance and inductance.\n",
      " |      \n",
      " |      Args:\n",
      " |          resistance (float): Resistance in ohms. Defaults to 1.0.\n",
      " |          inductance (float): Inductance in henries. Defaults to 1.0.\n",
      " |  \n",
      " |  __repr__(self) -> str\n",
      " |      Return a string representation of the RL Circuit.\n",
      " |  \n",
      " |  __str__(self) -> str\n",
      " |      Return a user-friendly string representation of the RL Circuit.\n",
      " |  \n",
      " |  impedance(self) -> float\n",
      " |      Calculate the impedance of the RL circuit.\n",
      " |      \n",
      " |      Args:\n",
      " |          frequency (float): Frequency in hertz.\n",
      " |      \n",
      " |      Returns:\n",
      " |          float: Impedance in ohms.\n",
      " |  \n",
      " |  reactance(self, frequency: float) -> float\n",
      " |      Calculate the reactance of the inductor\n",
      " |  \n",
      " |  ----------------------------------------------------------------------\n",
      " |  Data descriptors defined here:\n",
      " |  \n",
      " |  __dict__\n",
      " |      dictionary for instance variables (if defined)\n",
      " |  \n",
      " |  __weakref__\n",
      " |      list of weak references to the object (if defined)\n",
      "\n"
     ]
    }
   ],
   "source": [
    "help(RL_Circuit)"
   ]
  },
  {
   "cell_type": "code",
   "execution_count": 305,
   "id": "30730207-5669-431b-a068-dc71abcbb230",
   "metadata": {},
   "outputs": [
    {
     "name": "stdout",
     "output_type": "stream",
     "text": [
      "A class to represent an RL circuit (Resistor and Inductor).\n",
      "{'resistance': <class 'float'>, 'inductance': <class 'float'>, 'return': None}\n",
      "\n",
      "Calculate the reactance of the inductor\n",
      "{'frequency': <class 'float'>, 'return': <class 'float'>}\n",
      "\n",
      "Calculate the impedance of the RL circuit.\n",
      "        \n",
      "        Args:\n",
      "            frequency (float): Frequency in hertz.\n",
      "        \n",
      "        Returns:\n",
      "            float: Impedance in ohms.\n",
      "        \n",
      "{'return': <class 'float'>}\n",
      "\n",
      "{'return': <class 'str'>}\n",
      "Return a string representation of the RL Circuit.\n",
      "\n",
      "{'return': <class 'str'>}\n",
      "Return a user-friendly string representation of the RL Circuit.\n"
     ]
    }
   ],
   "source": [
    "print(RL_Circuit.__doc__)\n",
    "print(RL_Circuit.__init__.__annotations__)\n",
    "print()\n",
    "print(RL_Circuit.reactance.__doc__)\n",
    "print(RL_Circuit.reactance.__annotations__)\n",
    "print()\n",
    "print(RL_Circuit.impedance.__doc__)\n",
    "print(RL_Circuit.impedance.__annotations__)\n",
    "print()\n",
    "print(RL_Circuit.__repr__.__annotations__)\n",
    "print(RL_Circuit.__repr__.__doc__)\n",
    "print()\n",
    "print(RL_Circuit.__str__.__annotations__)\n",
    "print(RL_Circuit.__str__.__doc__)"
   ]
  },
  {
   "cell_type": "code",
   "execution_count": 24,
   "id": "7c423187-ff8d-4b75-b322-8bacf2c27f5f",
   "metadata": {},
   "outputs": [],
   "source": [
    "RL_3 = RL_Circuit()"
   ]
  },
  {
   "cell_type": "code",
   "execution_count": 25,
   "id": "ae6f8d5c-6e2b-4613-b40a-f280268790de",
   "metadata": {},
   "outputs": [
    {
     "name": "stdout",
     "output_type": "stream",
     "text": [
      "RL Circuit with 1.0 ohm, inductance: 1.0 H\n"
     ]
    },
    {
     "data": {
      "text/plain": [
       "RLCircuit(resistor=1.0, inductance=1.0)"
      ]
     },
     "execution_count": 25,
     "metadata": {},
     "output_type": "execute_result"
    }
   ],
   "source": [
    "print(RL_3)\n",
    "RL_3"
   ]
  },
  {
   "cell_type": "markdown",
   "id": "eff88589-def3-4703-a5be-35777f75c8f0",
   "metadata": {},
   "source": [
    "## 3. RC Circuit"
   ]
  },
  {
   "cell_type": "code",
   "execution_count": 3,
   "id": "6eedec8c-e1a2-46da-9a62-39081e8e62c8",
   "metadata": {},
   "outputs": [],
   "source": [
    "class RC_Circuit:\n",
    "    \"\"\"A class to represent an RC circuit (Resistor and Capacitor).\"\"\"\n",
    "    \n",
    "    def __init__(self, resistance: float = 1.0, capacitance: float = 1.0) -> None:\n",
    "        \"\"\"Initialize the RC circuit with resistance and capacitance.\n",
    "        \n",
    "        Args:\n",
    "            resistance (float): Resistance in ohms. Defaults to 1.0.\n",
    "            capacitance (float): Capacitance in farads. Defaults to 1.0.\n",
    "        \"\"\"\n",
    "        self.resistance = resistance\n",
    "        self.capacitance = capacitance\n",
    "    def  reactance(self,frequency: float) -> float:\n",
    "        return 1 / (2 * math.pi * frequency * self.capacitance)\n",
    "    def impedance(self) -> float:\n",
    "        \"\"\"Calculate the impedance of the RC circuit.\n",
    "        \n",
    "        Args:\n",
    "            frequency (float): Frequency in hertz.\n",
    "        \n",
    "        Returns:\n",
    "            float: Impedance in ohms.\n",
    "        \"\"\"\n",
    "        return math.sqrt(self.resistance**2 + (self.reactance)**2)\n",
    "\n",
    "    def __repr__(self) -> str:\n",
    "        \"\"\"Return a string representation of the RC Circuit.\"\"\"\n",
    "\n",
    "        return f\"RCCircuit(resistor={self.resistance}, capacitance={self.capacitance})\"\n",
    "\n",
    "    def __str__(self) -> str:\n",
    "        \"\"\"Return a user-friendly string representation of the RC Circuit.\"\"\"\n",
    "\n",
    "        return (f\"RC Circuit with {self.resistance} ohm, capacitance: {self.capacitance} F\")\n"
   ]
  },
  {
   "cell_type": "code",
   "execution_count": 4,
   "id": "62e11ac8-4924-4bed-b980-35c0df6c87a4",
   "metadata": {},
   "outputs": [],
   "source": [
    "RC_1 = RC_Circuit(10, 0.001)\n",
    "RC_2 = RC_Circuit(15,0.000001)"
   ]
  },
  {
   "cell_type": "code",
   "execution_count": 6,
   "id": "12aab23c-0bab-44d4-ba3d-6f9b2f3b1b43",
   "metadata": {},
   "outputs": [
    {
     "name": "stdout",
     "output_type": "stream",
     "text": [
      "RC Circuit with 10 ohm, capacitance: 0.001 F\n",
      "RC Circuit with 15 ohm, capacitance: 1e-06 F\n"
     ]
    }
   ],
   "source": [
    "print(RC_1)\n",
    "print(RC_2)"
   ]
  },
  {
   "cell_type": "code",
   "execution_count": 7,
   "id": "18e350ef-ab1a-48b2-a837-ff718adb01f7",
   "metadata": {},
   "outputs": [
    {
     "data": {
      "text/plain": [
       "RCCircuit(resistor=10, capacitance=0.001)"
      ]
     },
     "execution_count": 7,
     "metadata": {},
     "output_type": "execute_result"
    }
   ],
   "source": [
    "RC_1"
   ]
  },
  {
   "cell_type": "code",
   "execution_count": 8,
   "id": "0c50b0e2-6723-46c7-a281-114037c50444",
   "metadata": {},
   "outputs": [
    {
     "data": {
      "text/plain": [
       "RCCircuit(resistor=15, capacitance=1e-06)"
      ]
     },
     "execution_count": 8,
     "metadata": {},
     "output_type": "execute_result"
    }
   ],
   "source": [
    "RC_2"
   ]
  },
  {
   "cell_type": "code",
   "execution_count": 14,
   "id": "a0ed7eb2-0d27-427c-a550-c0edf3c1e417",
   "metadata": {},
   "outputs": [
    {
     "name": "stdout",
     "output_type": "stream",
     "text": [
      "mappingproxy({'__dict__': <attribute '__dict__' of 'RC_Circuit' objects>,\n",
      "              '__doc__': 'A class to represent an RC circuit (Resistor and '\n",
      "                         'Capacitor).',\n",
      "              '__init__': <function RC_Circuit.__init__ at 0x0000020042569EE0>,\n",
      "              '__module__': '__main__',\n",
      "              '__repr__': <function RC_Circuit.__repr__ at 0x0000020044161430>,\n",
      "              '__str__': <function RC_Circuit.__str__ at 0x00000200441615E0>,\n",
      "              '__weakref__': <attribute '__weakref__' of 'RC_Circuit' objects>,\n",
      "              'impedance': <function RC_Circuit.impedance at 0x0000020044161310>,\n",
      "              'reactance': <function RC_Circuit.reactance at 0x00000200425691F0>})\n"
     ]
    }
   ],
   "source": [
    "pprint(RC_Circuit.__dict__)"
   ]
  },
  {
   "cell_type": "code",
   "execution_count": 15,
   "id": "caf5aaeb-dc89-49e1-87cd-2a8a00cc3a98",
   "metadata": {},
   "outputs": [
    {
     "name": "stdout",
     "output_type": "stream",
     "text": [
      "mappingproxy({'__dict__': <attribute '__dict__' of 'RC_Circuit' objects>,\n",
      "              '__doc__': 'A class to represent an RC circuit (Resistor and '\n",
      "                         'Capacitor).',\n",
      "              '__init__': <function RC_Circuit.__init__ at 0x0000020042569EE0>,\n",
      "              '__module__': '__main__',\n",
      "              '__repr__': <function RC_Circuit.__repr__ at 0x0000020044161430>,\n",
      "              '__str__': <function RC_Circuit.__str__ at 0x00000200441615E0>,\n",
      "              '__weakref__': <attribute '__weakref__' of 'RC_Circuit' objects>,\n",
      "              'impedance': <function RC_Circuit.impedance at 0x0000020044161310>,\n",
      "              'reactance': <function RC_Circuit.reactance at 0x00000200425691F0>})\n"
     ]
    }
   ],
   "source": [
    "pprint(vars(RC_Circuit))"
   ]
  },
  {
   "cell_type": "code",
   "execution_count": 16,
   "id": "2440e932-43ec-4044-9d5e-88a282586a56",
   "metadata": {},
   "outputs": [
    {
     "name": "stdout",
     "output_type": "stream",
     "text": [
      "{'resistance': 10, 'capacitance': 0.001}\n",
      "{'resistance': 15, 'capacitance': 1e-06}\n"
     ]
    }
   ],
   "source": [
    "print(RC_1.__dict__)\n",
    "print(RC_2.__dict__)"
   ]
  },
  {
   "cell_type": "code",
   "execution_count": 17,
   "id": "52223b3a-4367-4c3c-bfa7-4852001d75fa",
   "metadata": {},
   "outputs": [
    {
     "name": "stdout",
     "output_type": "stream",
     "text": [
      "Help on class RC_Circuit in module __main__:\n",
      "\n",
      "class RC_Circuit(builtins.object)\n",
      " |  RC_Circuit(resistance: float = 1.0, capacitance: float = 1.0) -> None\n",
      " |  \n",
      " |  A class to represent an RC circuit (Resistor and Capacitor).\n",
      " |  \n",
      " |  Methods defined here:\n",
      " |  \n",
      " |  __init__(self, resistance: float = 1.0, capacitance: float = 1.0) -> None\n",
      " |      Initialize the RC circuit with resistance and capacitance.\n",
      " |      \n",
      " |      Args:\n",
      " |          resistance (float): Resistance in ohms. Defaults to 1.0.\n",
      " |          capacitance (float): Capacitance in farads. Defaults to 1.0.\n",
      " |  \n",
      " |  __repr__(self) -> str\n",
      " |      Return a string representation of the RC Circuit.\n",
      " |  \n",
      " |  __str__(self) -> str\n",
      " |      Return a user-friendly string representation of the RC Circuit.\n",
      " |  \n",
      " |  impedance(self) -> float\n",
      " |      Calculate the impedance of the RC circuit.\n",
      " |      \n",
      " |      Args:\n",
      " |          frequency (float): Frequency in hertz.\n",
      " |      \n",
      " |      Returns:\n",
      " |          float: Impedance in ohms.\n",
      " |  \n",
      " |  reactance(self, frequency: float) -> float\n",
      " |  \n",
      " |  ----------------------------------------------------------------------\n",
      " |  Data descriptors defined here:\n",
      " |  \n",
      " |  __dict__\n",
      " |      dictionary for instance variables (if defined)\n",
      " |  \n",
      " |  __weakref__\n",
      " |      list of weak references to the object (if defined)\n",
      "\n"
     ]
    }
   ],
   "source": [
    "help(RC_Circuit)"
   ]
  },
  {
   "cell_type": "code",
   "execution_count": 18,
   "id": "d3086d9e-dd26-4911-a600-7bafae15cccb",
   "metadata": {},
   "outputs": [
    {
     "name": "stdout",
     "output_type": "stream",
     "text": [
      "A class to represent an RC circuit (Resistor and Capacitor).\n",
      "{'resistance': <class 'float'>, 'capacitance': <class 'float'>, 'return': None}\n",
      "\n",
      "None\n",
      "{'frequency': <class 'float'>, 'return': <class 'float'>}\n",
      "\n",
      "Calculate the impedance of the RC circuit.\n",
      "        \n",
      "        Args:\n",
      "            frequency (float): Frequency in hertz.\n",
      "        \n",
      "        Returns:\n",
      "            float: Impedance in ohms.\n",
      "        \n",
      "{'return': <class 'float'>}\n",
      "\n",
      "{'return': <class 'str'>}\n",
      "Return a string representation of the RC Circuit.\n",
      "\n",
      "{'return': <class 'str'>}\n",
      "Return a user-friendly string representation of the RC Circuit.\n"
     ]
    }
   ],
   "source": [
    "print(RC_Circuit.__doc__)\n",
    "print(RC_Circuit.__init__.__annotations__)\n",
    "print()\n",
    "print(RC_Circuit.reactance.__doc__)\n",
    "print(RC_Circuit.reactance.__annotations__)\n",
    "print()\n",
    "print(RC_Circuit.impedance.__doc__)\n",
    "print(RC_Circuit.impedance.__annotations__)\n",
    "print()\n",
    "print(RC_Circuit.__repr__.__annotations__)\n",
    "print(RC_Circuit.__repr__.__doc__)\n",
    "print()\n",
    "print(RC_Circuit.__str__.__annotations__)\n",
    "print(RC_Circuit.__str__.__doc__)"
   ]
  },
  {
   "cell_type": "code",
   "execution_count": 19,
   "id": "3e639c88-3c9f-4941-aa0f-49d8a3542152",
   "metadata": {},
   "outputs": [],
   "source": [
    "RC_3 = RC_Circuit()"
   ]
  },
  {
   "cell_type": "code",
   "execution_count": 20,
   "id": "a0912bcb-2d39-4201-b1b3-a73bf487a8b0",
   "metadata": {},
   "outputs": [
    {
     "name": "stdout",
     "output_type": "stream",
     "text": [
      "RC Circuit with 1.0 ohm, capacitance: 1.0 F\n"
     ]
    },
    {
     "data": {
      "text/plain": [
       "RCCircuit(resistor=1.0, capacitance=1.0)"
      ]
     },
     "execution_count": 20,
     "metadata": {},
     "output_type": "execute_result"
    }
   ],
   "source": [
    "print(RC_3)\n",
    "RC_3"
   ]
  },
  {
   "cell_type": "markdown",
   "id": "11f6419a-6590-4e5c-8ab4-fcfc80447697",
   "metadata": {},
   "source": [
    "## 4. RLC Parallel Circuit"
   ]
  },
  {
   "cell_type": "code",
   "execution_count": 172,
   "id": "c63cabb5-82e9-401b-a7e0-e80060adbbeb",
   "metadata": {},
   "outputs": [],
   "source": [
    "class RLC_Circuit_Parallel:\n",
    "    \"\"\"A class to represent an RLC parallel circuit.\"\"\"\n",
    "    \n",
    "    def __init__(self, resistance: float = 1.0, inductance: float = 1.0, capacitance: float = 1.0) -> None:\n",
    "        \"\"\"Initialize the parallel RLC circuit with resistance, inductance, and capacitance.\n",
    "        \n",
    "        Args:\n",
    "            resistance (float): Resistance in ohms. Defaults to 1.0.\n",
    "            inductance (float): Inductance in henries. Defaults to 1.0.\n",
    "            capacitance (float): Capacitance in farads. Defaults to 1.0.\n",
    "        \"\"\"\n",
    "        self.resistance = resistance\n",
    "        self.inductance = inductance\n",
    "        self.capacitance = capacitance\n",
    "    def total_impedance(self, frequency: float) -> float:\n",
    "        \"\"\"Calculate the total impedance of the RLC parallel circuit.\n",
    "        \n",
    "        Args:\n",
    "            frequency (float): Frequency in hertz.\n",
    "        \n",
    "        Returns:\n",
    "            float: Total impedance in ohms.\n",
    "        \"\"\"\n",
    "        z_r = self.resistance\n",
    "        z_l = 2 * math.pi * frequency * self.inductance\n",
    "        z_c = 1 / (2 * math.pi * frequency * self.capacitance)\n",
    "\n",
    "        return 1 / (1/z_r + 1/z_l + 1/z_c)\n",
    "\n",
    "    def __repr__(self) -> str:\n",
    "        \"\"\"Return a string representation of the RLC_Parallel_Circuit.\"\"\"\n",
    "        return f\"RLC Circuit Parallel(resistor={self.resistance}, inductance={self.inductance}, capacitance={self.capacitance})\"\n",
    "\n",
    "    def __str__(self) -> str:\n",
    "        \"\"\"Return a user-friendly string representation of the RLC_Parallel_Circuit.\"\"\"\n",
    "        return (f\"RLC Parallel Circuit with {self.resistance} ohm, inductance: {self.inductance} H, \"\n",
    "                f\"capacitance: {self.capacitance} F\")\n"
   ]
  },
  {
   "cell_type": "code",
   "execution_count": 173,
   "id": "ce8c6864-0f82-4313-acfc-3b1118131394",
   "metadata": {},
   "outputs": [],
   "source": [
    "RLC_parallel_circuit_1 = RLC_Circuit_Parallel(10, 0.1, 0.001)\n",
    "RLC_parallel_circuit_2 = RLC_Circuit_Parallel(15,0.001,0.1)"
   ]
  },
  {
   "cell_type": "code",
   "execution_count": 174,
   "id": "61e85440-f3b1-4c52-9b7d-b937fd7d413d",
   "metadata": {},
   "outputs": [
    {
     "name": "stdout",
     "output_type": "stream",
     "text": [
      "RLC Parallel Circuit with 10 ohm, inductance: 0.1 H, capacitance: 0.001 F\n",
      "RLC Parallel Circuit with 15 ohm, inductance: 0.001 H, capacitance: 0.1 F\n"
     ]
    }
   ],
   "source": [
    "print(RLC_parallel_circuit_1)\n",
    "print(RLC_parallel_circuit_2)"
   ]
  },
  {
   "cell_type": "code",
   "execution_count": 175,
   "id": "ab80c7b7-8cfc-456e-9103-d89994154356",
   "metadata": {},
   "outputs": [
    {
     "data": {
      "text/plain": [
       "RLC Circuit Parallel(resistor=10, inductance=0.1, capacitance=0.001)"
      ]
     },
     "execution_count": 175,
     "metadata": {},
     "output_type": "execute_result"
    }
   ],
   "source": [
    "RLC_parallel_circuit_1"
   ]
  },
  {
   "cell_type": "code",
   "execution_count": 176,
   "id": "cf1c3b2b-d38a-46d9-9837-4d1de0fca5d5",
   "metadata": {},
   "outputs": [
    {
     "data": {
      "text/plain": [
       "RLC Circuit Parallel(resistor=15, inductance=0.001, capacitance=0.1)"
      ]
     },
     "execution_count": 176,
     "metadata": {},
     "output_type": "execute_result"
    }
   ],
   "source": [
    "RLC_parallel_circuit_2"
   ]
  },
  {
   "cell_type": "code",
   "execution_count": 177,
   "id": "2181cea6-74a8-43ea-957f-189942af6fb4",
   "metadata": {},
   "outputs": [
    {
     "name": "stdout",
     "output_type": "stream",
     "text": [
      "mappingproxy({'__dict__': <attribute '__dict__' of 'RLC_Circuit_Parallel' objects>,\n",
      "              '__doc__': 'A class to represent an RLC parallel circuit.',\n",
      "              '__init__': <function RLC_Circuit_Parallel.__init__ at 0x0000020044161B80>,\n",
      "              '__module__': '__main__',\n",
      "              '__repr__': <function RLC_Circuit_Parallel.__repr__ at 0x0000020044161E50>,\n",
      "              '__str__': <function RLC_Circuit_Parallel.__str__ at 0x00000200441613A0>,\n",
      "              '__weakref__': <attribute '__weakref__' of 'RLC_Circuit_Parallel' objects>,\n",
      "              'total_impedance': <function RLC_Circuit_Parallel.total_impedance at 0x00000200441614C0>})\n"
     ]
    }
   ],
   "source": [
    "pprint(RLC_Circuit_Parallel.__dict__)"
   ]
  },
  {
   "cell_type": "code",
   "execution_count": 178,
   "id": "64603b1f-7b55-4d2c-a3bd-f618c40f06d0",
   "metadata": {},
   "outputs": [
    {
     "name": "stdout",
     "output_type": "stream",
     "text": [
      "mappingproxy({'__dict__': <attribute '__dict__' of 'RLC_Circuit_Parallel' objects>,\n",
      "              '__doc__': 'A class to represent an RLC parallel circuit.',\n",
      "              '__init__': <function RLC_Circuit_Parallel.__init__ at 0x0000020044161B80>,\n",
      "              '__module__': '__main__',\n",
      "              '__repr__': <function RLC_Circuit_Parallel.__repr__ at 0x0000020044161E50>,\n",
      "              '__str__': <function RLC_Circuit_Parallel.__str__ at 0x00000200441613A0>,\n",
      "              '__weakref__': <attribute '__weakref__' of 'RLC_Circuit_Parallel' objects>,\n",
      "              'total_impedance': <function RLC_Circuit_Parallel.total_impedance at 0x00000200441614C0>})\n"
     ]
    }
   ],
   "source": [
    "pprint(vars(RLC_Circuit_Parallel))"
   ]
  },
  {
   "cell_type": "code",
   "execution_count": 179,
   "id": "ae1950a3-5ebc-43ea-9210-c326f0d4f829",
   "metadata": {},
   "outputs": [
    {
     "name": "stdout",
     "output_type": "stream",
     "text": [
      "{'resistance': 10, 'inductance': 0.1, 'capacitance': 0.001}\n",
      "{'resistance': 15, 'inductance': 0.001, 'capacitance': 0.1}\n"
     ]
    }
   ],
   "source": [
    "print(RLC_parallel_circuit_1.__dict__)\n",
    "print(RLC_parallel_circuit_2.__dict__)"
   ]
  },
  {
   "cell_type": "code",
   "execution_count": 180,
   "id": "70eb8f21-f51a-4ff7-bf75-d88162129dc7",
   "metadata": {},
   "outputs": [
    {
     "name": "stdout",
     "output_type": "stream",
     "text": [
      "Help on class RLC_Circuit_Parallel in module __main__:\n",
      "\n",
      "class RLC_Circuit_Parallel(builtins.object)\n",
      " |  RLC_Circuit_Parallel(resistance: float = 1.0, inductance: float = 1.0, capacitance: float = 1.0) -> None\n",
      " |  \n",
      " |  A class to represent an RLC parallel circuit.\n",
      " |  \n",
      " |  Methods defined here:\n",
      " |  \n",
      " |  __init__(self, resistance: float = 1.0, inductance: float = 1.0, capacitance: float = 1.0) -> None\n",
      " |      Initialize the parallel RLC circuit with resistance, inductance, and capacitance.\n",
      " |      \n",
      " |      Args:\n",
      " |          resistance (float): Resistance in ohms. Defaults to 1.0.\n",
      " |          inductance (float): Inductance in henries. Defaults to 1.0.\n",
      " |          capacitance (float): Capacitance in farads. Defaults to 1.0.\n",
      " |  \n",
      " |  __repr__(self) -> str\n",
      " |      Return a string representation of the RLC_Parallel_Circuit.\n",
      " |  \n",
      " |  __str__(self) -> str\n",
      " |      Return a user-friendly string representation of the RLC_Parallel_Circuit.\n",
      " |  \n",
      " |  total_impedance(self, frequency: float) -> float\n",
      " |      Calculate the total impedance of the RLC parallel circuit.\n",
      " |      \n",
      " |      Args:\n",
      " |          frequency (float): Frequency in hertz.\n",
      " |      \n",
      " |      Returns:\n",
      " |          float: Total impedance in ohms.\n",
      " |  \n",
      " |  ----------------------------------------------------------------------\n",
      " |  Data descriptors defined here:\n",
      " |  \n",
      " |  __dict__\n",
      " |      dictionary for instance variables (if defined)\n",
      " |  \n",
      " |  __weakref__\n",
      " |      list of weak references to the object (if defined)\n",
      "\n"
     ]
    }
   ],
   "source": [
    "help(RLC_Circuit_Parallel)"
   ]
  },
  {
   "cell_type": "code",
   "execution_count": 181,
   "id": "62b21aac-0d84-4375-a0b2-53b5318e6fa6",
   "metadata": {},
   "outputs": [
    {
     "name": "stdout",
     "output_type": "stream",
     "text": [
      "A class to represent an RLC parallel circuit.\n",
      "{'resistance': <class 'float'>, 'inductance': <class 'float'>, 'capacitance': <class 'float'>, 'return': None}\n",
      "\n",
      "Calculate the total impedance of the RLC parallel circuit.\n",
      "        \n",
      "        Args:\n",
      "            frequency (float): Frequency in hertz.\n",
      "        \n",
      "        Returns:\n",
      "            float: Total impedance in ohms.\n",
      "        \n",
      "{'frequency': <class 'float'>, 'return': <class 'float'>}\n",
      "\n",
      "{'return': <class 'str'>}\n",
      "Return a string representation of the RLC_Parallel_Circuit.\n",
      "\n",
      "{'return': <class 'str'>}\n",
      "Return a user-friendly string representation of the RLC_Parallel_Circuit.\n"
     ]
    }
   ],
   "source": [
    "print(RLC_Circuit_Parallel.__doc__)\n",
    "print(RLC_Circuit_Parallel.__init__.__annotations__)\n",
    "print()\n",
    "print(RLC_Circuit_Parallel.total_impedance.__doc__)\n",
    "print(RLC_Circuit_Parallel.total_impedance.__annotations__)\n",
    "print()\n",
    "print(RLC_Circuit_Parallel.__repr__.__annotations__)\n",
    "print(RLC_Circuit_Parallel.__repr__.__doc__)\n",
    "print()\n",
    "print(RLC_Circuit_Parallel.__str__.__annotations__)\n",
    "print(RLC_Circuit_Parallel.__str__.__doc__)"
   ]
  },
  {
   "cell_type": "code",
   "execution_count": 162,
   "id": "b6293b48-e943-42b7-931b-d5093afa991a",
   "metadata": {},
   "outputs": [],
   "source": [
    "RLC_parallel_circuit_3 = RLC_Circuit_Parallel()"
   ]
  },
  {
   "cell_type": "code",
   "execution_count": 163,
   "id": "5f1a96f9-50cb-48ee-8781-765dfb1a2b8c",
   "metadata": {},
   "outputs": [
    {
     "name": "stdout",
     "output_type": "stream",
     "text": [
      "RLC Parallel Circuit with 1.0 ohm, inductance: 1.0 H, capacitance: 1.0 F\n"
     ]
    },
    {
     "data": {
      "text/plain": [
       "RLC Circuit Parallel(resistor=1.0, inductance=1.0, capacitance=1.0)"
      ]
     },
     "execution_count": 163,
     "metadata": {},
     "output_type": "execute_result"
    }
   ],
   "source": [
    "print(RLC_parallel_circuit_3)\n",
    "RLC_parallel_circuit_3"
   ]
  },
  {
   "cell_type": "markdown",
   "id": "6b9a1b7a-00c7-4477-ab9e-93dba2b39dbb",
   "metadata": {},
   "source": [
    "## 5. RLC Series Resonance Circuit"
   ]
  },
  {
   "cell_type": "code",
   "execution_count": 183,
   "id": "50cf000f-9e11-49a1-ab93-fe6dc6c57d1c",
   "metadata": {},
   "outputs": [],
   "source": [
    "class RLC_Series_Resonance_Circuit:\n",
    "    \"\"\"A class to represent an RLC series circuit with resonance.\"\"\"\n",
    "    \n",
    "    def __init__(self, resistance: float = 1.0, inductance: float = 1.0, capacitance: float = 1.0) -> None:\n",
    "        \"\"\"Initialize the series RLC circuit with resistance, inductance, and capacitance.\n",
    "        \n",
    "        Args:\n",
    "            resistance (float): Resistance in ohms. Defaults to 1.0.\n",
    "            inductance (float): Inductance in henries. Defaults to 1.0.\n",
    "            capacitance (float): Capacitance in farads. Defaults to 1.0.\n",
    "        \"\"\"\n",
    "        self.resistance = resistance\n",
    "        self.inductance = inductance\n",
    "        self.capacitance = capacitance\n",
    "\n",
    "    def resonance_frequency(self) -> float:\n",
    "        \"\"\"Calculate the resonance frequency of the RLC circuit.\n",
    "        \n",
    "        Returns:\n",
    "            float: Resonance frequency in hertz.\n",
    "        \"\"\"\n",
    "        return 1 / (2 * math.pi * (math.sqrt(self.inductance * self.capacitance)))\n",
    "\n",
    "    def impedance(self, frequency: float) -> float:\n",
    "        \"\"\"Calculate the impedance of the RLC series circuit.\n",
    "        \n",
    "        Args:\n",
    "            frequency (float): Frequency in hertz.\n",
    "        \n",
    "        Returns:\n",
    "            float: Impedance in ohms.\n",
    "        \"\"\"\n",
    "        z_l = 2 * math.pi * frequency * self.inductance\n",
    "        z_c = 1 / (2 * math.pi * frequency * self.capacitance)\n",
    "\n",
    "        return math.sqrt(self.resistance**2 + (z_l - z_c)**2)\n",
    "\n",
    "    def __repr__(self) -> str:        \n",
    "        \"\"\"Return a string representation of the RLC_Series_Resonance_Circuit.\"\"\"\n",
    "        return f\"RLCSeriesCircuit(resistor={self.resistance}, inductance={self.inductance}, capacitance={self.capacitance})\"\n",
    "\n",
    "    def __str__(self) -> str:\n",
    "        \"\"\"Return a user-friendly string representation of the RLC_Series_Resonance_Circuit.\"\"\"\n",
    "        return (f\"RLC Series Circuit with {self.resistance} ohm, inductance: {self.inductance} H, \"\n",
    "                f\"capacitance: {self.capacitance} F, resonance frequency: {self.resonance_frequency()} Hz\")\n"
   ]
  },
  {
   "cell_type": "code",
   "execution_count": 185,
   "id": "ece4bf37-d88f-4a13-bda4-1b96c6bc63b5",
   "metadata": {},
   "outputs": [],
   "source": [
    "RLC_Series_Resonance_Circuit_1 = RLC_Series_Resonance_Circuit(10, 0.1, 0.001)\n",
    "RLC_Series_Resonance_Circuit_2 = RLC_Series_Resonance_Circuit(15, 0.001, 0.1)"
   ]
  },
  {
   "cell_type": "code",
   "execution_count": 186,
   "id": "2950035b-7300-4a23-9c18-d6ff57fda96f",
   "metadata": {},
   "outputs": [
    {
     "name": "stdout",
     "output_type": "stream",
     "text": [
      "RLC Series Circuit with 10 ohm, inductance: 0.1 H, capacitance: 0.001 F, resonance frequency: 15.915494309189533 Hz\n",
      "RLC Series Circuit with 15 ohm, inductance: 0.001 H, capacitance: 0.1 F, resonance frequency: 15.915494309189533 Hz\n"
     ]
    }
   ],
   "source": [
    "print(RLC_Series_Resonance_Circuit_1)\n",
    "print(RLC_Series_Resonance_Circuit_2)"
   ]
  },
  {
   "cell_type": "code",
   "execution_count": 187,
   "id": "f9666929-9240-443c-ae84-c60fe5e1fd9e",
   "metadata": {},
   "outputs": [
    {
     "data": {
      "text/plain": [
       "RLCSeriesCircuit(resistor=10, inductance=0.1, capacitance=0.001)"
      ]
     },
     "execution_count": 187,
     "metadata": {},
     "output_type": "execute_result"
    }
   ],
   "source": [
    "RLC_Series_Resonance_Circuit_1"
   ]
  },
  {
   "cell_type": "code",
   "execution_count": 188,
   "id": "55d154f5-d530-49ae-8f23-3db96499b10e",
   "metadata": {},
   "outputs": [
    {
     "data": {
      "text/plain": [
       "RLCSeriesCircuit(resistor=15, inductance=0.001, capacitance=0.1)"
      ]
     },
     "execution_count": 188,
     "metadata": {},
     "output_type": "execute_result"
    }
   ],
   "source": [
    "RLC_Series_Resonance_Circuit_2"
   ]
  },
  {
   "cell_type": "code",
   "execution_count": 189,
   "id": "8a4dd2fe-9ea0-4102-8993-942288b0faba",
   "metadata": {},
   "outputs": [
    {
     "name": "stdout",
     "output_type": "stream",
     "text": [
      "mappingproxy({'__dict__': <attribute '__dict__' of 'RLC_Series_Resonance_Circuit' objects>,\n",
      "              '__doc__': 'A class to represent an RLC series circuit with '\n",
      "                         'resonance.',\n",
      "              '__init__': <function RLC_Series_Resonance_Circuit.__init__ at 0x0000020044261280>,\n",
      "              '__module__': '__main__',\n",
      "              '__repr__': <function RLC_Series_Resonance_Circuit.__repr__ at 0x0000020044352EE0>,\n",
      "              '__str__': <function RLC_Series_Resonance_Circuit.__str__ at 0x0000020044352D30>,\n",
      "              '__weakref__': <attribute '__weakref__' of 'RLC_Series_Resonance_Circuit' objects>,\n",
      "              'impedance': <function RLC_Series_Resonance_Circuit.impedance at 0x0000020044261670>,\n",
      "              'resonance_frequency': <function RLC_Series_Resonance_Circuit.resonance_frequency at 0x00000200442614C0>})\n"
     ]
    }
   ],
   "source": [
    "pprint(RLC_Series_Resonance_Circuit.__dict__)"
   ]
  },
  {
   "cell_type": "code",
   "execution_count": 190,
   "id": "29409c05-f964-4f3d-a280-67fa3929c2a4",
   "metadata": {},
   "outputs": [
    {
     "name": "stdout",
     "output_type": "stream",
     "text": [
      "mappingproxy({'__dict__': <attribute '__dict__' of 'RLC_Series_Resonance_Circuit' objects>,\n",
      "              '__doc__': 'A class to represent an RLC series circuit with '\n",
      "                         'resonance.',\n",
      "              '__init__': <function RLC_Series_Resonance_Circuit.__init__ at 0x0000020044261280>,\n",
      "              '__module__': '__main__',\n",
      "              '__repr__': <function RLC_Series_Resonance_Circuit.__repr__ at 0x0000020044352EE0>,\n",
      "              '__str__': <function RLC_Series_Resonance_Circuit.__str__ at 0x0000020044352D30>,\n",
      "              '__weakref__': <attribute '__weakref__' of 'RLC_Series_Resonance_Circuit' objects>,\n",
      "              'impedance': <function RLC_Series_Resonance_Circuit.impedance at 0x0000020044261670>,\n",
      "              'resonance_frequency': <function RLC_Series_Resonance_Circuit.resonance_frequency at 0x00000200442614C0>})\n"
     ]
    }
   ],
   "source": [
    "pprint(vars(RLC_Series_Resonance_Circuit))"
   ]
  },
  {
   "cell_type": "code",
   "execution_count": 191,
   "id": "1a716f8b-fdf8-4e3f-9a96-cf75188438d3",
   "metadata": {},
   "outputs": [
    {
     "name": "stdout",
     "output_type": "stream",
     "text": [
      "RLC Series Circuit with 10 ohm, inductance: 0.1 H, capacitance: 0.001 F, resonance frequency: 15.915494309189533 Hz\n",
      "RLC Series Circuit with 15 ohm, inductance: 0.001 H, capacitance: 0.1 F, resonance frequency: 15.915494309189533 Hz\n"
     ]
    }
   ],
   "source": [
    "print(RLC_Series_Resonance_Circuit_1)\n",
    "print(RLC_Series_Resonance_Circuit_2)"
   ]
  },
  {
   "cell_type": "code",
   "execution_count": 192,
   "id": "ba662953-b73f-4b06-a6e2-ef63037a64b3",
   "metadata": {},
   "outputs": [
    {
     "name": "stdout",
     "output_type": "stream",
     "text": [
      "Help on class RLC_Series_Resonance_Circuit in module __main__:\n",
      "\n",
      "class RLC_Series_Resonance_Circuit(builtins.object)\n",
      " |  RLC_Series_Resonance_Circuit(resistance: float = 1.0, inductance: float = 1.0, capacitance: float = 1.0) -> None\n",
      " |  \n",
      " |  A class to represent an RLC series circuit with resonance.\n",
      " |  \n",
      " |  Methods defined here:\n",
      " |  \n",
      " |  __init__(self, resistance: float = 1.0, inductance: float = 1.0, capacitance: float = 1.0) -> None\n",
      " |      Initialize the series RLC circuit with resistance, inductance, and capacitance.\n",
      " |      \n",
      " |      Args:\n",
      " |          resistance (float): Resistance in ohms. Defaults to 1.0.\n",
      " |          inductance (float): Inductance in henries. Defaults to 1.0.\n",
      " |          capacitance (float): Capacitance in farads. Defaults to 1.0.\n",
      " |  \n",
      " |  __repr__(self) -> str\n",
      " |      Return a string representation of the RLC_Series_Resonance_Circuit.\n",
      " |  \n",
      " |  __str__(self) -> str\n",
      " |      Return a user-friendly string representation of the RLC_Series_Resonance_Circuit.\n",
      " |  \n",
      " |  impedance(self, frequency: float) -> float\n",
      " |      Calculate the impedance of the RLC series circuit.\n",
      " |      \n",
      " |      Args:\n",
      " |          frequency (float): Frequency in hertz.\n",
      " |      \n",
      " |      Returns:\n",
      " |          float: Impedance in ohms.\n",
      " |  \n",
      " |  resonance_frequency(self) -> float\n",
      " |      Calculate the resonance frequency of the RLC circuit.\n",
      " |      \n",
      " |      Returns:\n",
      " |          float: Resonance frequency in hertz.\n",
      " |  \n",
      " |  ----------------------------------------------------------------------\n",
      " |  Data descriptors defined here:\n",
      " |  \n",
      " |  __dict__\n",
      " |      dictionary for instance variables (if defined)\n",
      " |  \n",
      " |  __weakref__\n",
      " |      list of weak references to the object (if defined)\n",
      "\n"
     ]
    }
   ],
   "source": [
    "help(RLC_Series_Resonance_Circuit)"
   ]
  },
  {
   "cell_type": "code",
   "execution_count": 194,
   "id": "84b7ae5c-8aea-4025-b7ef-bdd265bd52fb",
   "metadata": {},
   "outputs": [
    {
     "name": "stdout",
     "output_type": "stream",
     "text": [
      "A class to represent an RLC series circuit with resonance.\n",
      "{'resistance': <class 'float'>, 'inductance': <class 'float'>, 'capacitance': <class 'float'>, 'return': None}\n",
      "\n",
      "Calculate the resonance frequency of the RLC circuit.\n",
      "        \n",
      "        Returns:\n",
      "            float: Resonance frequency in hertz.\n",
      "        \n",
      "{'return': <class 'float'>}\n",
      "\n",
      "Calculate the impedance of the RLC series circuit.\n",
      "        \n",
      "        Args:\n",
      "            frequency (float): Frequency in hertz.\n",
      "        \n",
      "        Returns:\n",
      "            float: Impedance in ohms.\n",
      "        \n",
      "{'frequency': <class 'float'>, 'return': <class 'float'>}\n",
      "\n",
      "{'return': <class 'str'>}\n",
      "Return a string representation of the RLC_Series_Resonance_Circuit.\n",
      "\n",
      "{'return': <class 'str'>}\n",
      "Return a user-friendly string representation of the RLC_Series_Resonance_Circuit.\n"
     ]
    }
   ],
   "source": [
    "print(RLC_Series_Resonance_Circuit.__doc__)\n",
    "print(RLC_Series_Resonance_Circuit.__init__.__annotations__)\n",
    "print()\n",
    "print(RLC_Series_Resonance_Circuit.resonance_frequency.__doc__)\n",
    "print(RLC_Series_Resonance_Circuit.resonance_frequency.__annotations__)\n",
    "print()\n",
    "print(RLC_Series_Resonance_Circuit.impedance.__doc__)\n",
    "print(RLC_Series_Resonance_Circuit.impedance.__annotations__)\n",
    "print()\n",
    "print(RLC_Series_Resonance_Circuit.__repr__.__annotations__)\n",
    "print(RLC_Series_Resonance_Circuit.__repr__.__doc__)\n",
    "print()\n",
    "print(RLC_Series_Resonance_Circuit.__str__.__annotations__)\n",
    "print(RLC_Series_Resonance_Circuit.__str__.__doc__)"
   ]
  },
  {
   "cell_type": "code",
   "execution_count": 195,
   "id": "54c97f54-60ce-464d-96a3-385e34c3a6c3",
   "metadata": {},
   "outputs": [],
   "source": [
    "RLC_Series_Resonance_Circuit_3 = RLC_Series_Resonance_Circuit()"
   ]
  },
  {
   "cell_type": "code",
   "execution_count": 196,
   "id": "961044d8-1473-4551-a529-09919615f1c1",
   "metadata": {},
   "outputs": [
    {
     "name": "stdout",
     "output_type": "stream",
     "text": [
      "RLC Series Circuit with 10 ohm, inductance: 0.1 H, capacitance: 0.001 F, resonance frequency: 15.915494309189533 Hz\n"
     ]
    },
    {
     "data": {
      "text/plain": [
       "RLCSeriesCircuit(resistor=10, inductance=0.1, capacitance=0.001)"
      ]
     },
     "execution_count": 196,
     "metadata": {},
     "output_type": "execute_result"
    }
   ],
   "source": [
    "print(RLC_Series_Resonance_Circuit_1)\n",
    "RLC_Series_Resonance_Circuit_1"
   ]
  },
  {
   "cell_type": "markdown",
   "id": "5e2b2ae2-c997-4255-a4bc-d915fcb66b94",
   "metadata": {},
   "source": [
    "## 6. RLC Parallel Resonance Circuit"
   ]
  },
  {
   "cell_type": "code",
   "execution_count": 129,
   "id": "924a4c03-2f0c-409e-8faa-79fffdbee89e",
   "metadata": {},
   "outputs": [],
   "source": [
    "class RLC_Parallel_Circuit_Resonance:\n",
    "    \"\"\"A class to represent an RLC parallel circuit with resonance.\"\"\"\n",
    "    \n",
    "    def __init__(self, resistance: float = 1.0, inductance: float = 1.0, capacitance: float = 1.0) -> None:\n",
    "        \"\"\"Initialize the parallel RLC circuit with resistance, inductance, and capacitance.\n",
    "        \n",
    "        Args:\n",
    "            resistance (float): Resistance in ohms. Defaults to 1.0.\n",
    "            inductance (float): Inductance in henries. Defaults to 1.0.\n",
    "            capacitance (float): Capacitance in farads. Defaults to 1.0.\n",
    "        \"\"\"\n",
    "        self.resistor = resistance\n",
    "        self.inductance = inductance\n",
    "        self.capacitance = capacitance\n",
    "\n",
    "    def resonance_frequency(self) -> float:\n",
    "        \"\"\"Calculate the resonance frequency of the RLC parallel circuit.\n",
    "        \n",
    "        Returns:\n",
    "            float: Resonance frequency in hertz.\n",
    "        \"\"\"\n",
    "        return 1 / (2 * math.pi * (math.sqrt(self.inductance * self.capacitance) ))\n",
    "\n",
    "    def total_impedance(self, frequency: float) -> float:\n",
    "        \"\"\"Calculate the total impedance of the RLC parallel circuit.\n",
    "        \n",
    "        Args:\n",
    "            frequency (float): Frequency in hertz.\n",
    "        \n",
    "        Returns:\n",
    "            float: Total impedance in ohms.\n",
    "        \"\"\"\n",
    "        z_r = self.resistor.resistance\n",
    "        z_l = 2 * math.pi * frequency * self.inductance\n",
    "        z_c = 1 / (2 * math.pi * frequency * self.capacitance)\n",
    "\n",
    "        return 1 / (1/z_r + 1/z_l + 1/z_c)\n",
    "\n",
    "    def __repr__(self) -> str:\n",
    "        \"\"\"Return a string representation of the RLC_Parallel_Circuit.\"\"\"\n",
    "\n",
    "        return f\"RLCParallelCircuit(resistor={self.resistor}, inductance={self.inductance}, capacitance={self.capacitance})\"\n",
    "\n",
    "    def __str__(self) -> str:\n",
    "        \"\"\"Return a user-friendly string representation of the RLC_Parallel_Circuit.\"\"\"\n",
    "        return (f\"RLC Parallel Circuit with {self.resistor} ohms, inductance: {self.inductance} H\")\n"
   ]
  },
  {
   "cell_type": "code",
   "execution_count": 130,
   "id": "ce03e42d-eb30-4c03-9363-c5eec07e9d75",
   "metadata": {},
   "outputs": [],
   "source": [
    "RLC_parallel_resonance_1 = RLC_Parallel_Circuit_Resonance(10, 0.1, 0.001)\n",
    "RLC_parallel_resonance_2 = RLC_Parallel_Circuit_Resonance(15,0.001,0.1)"
   ]
  },
  {
   "cell_type": "code",
   "execution_count": 131,
   "id": "e1191448-696c-4ba7-b6fc-6acb541d988c",
   "metadata": {},
   "outputs": [
    {
     "name": "stdout",
     "output_type": "stream",
     "text": [
      "RLC Parallel Circuit with 10 ohms, inductance: 0.1 H\n",
      "RLC Parallel Circuit with 15 ohms, inductance: 0.001 H\n"
     ]
    }
   ],
   "source": [
    "print(RLC_parallel_resonance_1)\n",
    "print(RLC_parallel_resonance_2)"
   ]
  },
  {
   "cell_type": "code",
   "execution_count": 132,
   "id": "dc63d843-a953-4408-a458-e2b8a4f63f37",
   "metadata": {},
   "outputs": [
    {
     "data": {
      "text/plain": [
       "RLCParallelCircuit(resistor=10, inductance=0.1, capacitance=0.001)"
      ]
     },
     "execution_count": 132,
     "metadata": {},
     "output_type": "execute_result"
    }
   ],
   "source": [
    "RLC_parallel_resonance_1"
   ]
  },
  {
   "cell_type": "code",
   "execution_count": 133,
   "id": "828eff60-edd2-4e9f-a1ee-5206c697f5c5",
   "metadata": {},
   "outputs": [
    {
     "data": {
      "text/plain": [
       "RLCParallelCircuit(resistor=15, inductance=0.001, capacitance=0.1)"
      ]
     },
     "execution_count": 133,
     "metadata": {},
     "output_type": "execute_result"
    }
   ],
   "source": [
    "RLC_parallel_resonance_2"
   ]
  },
  {
   "cell_type": "code",
   "execution_count": 134,
   "id": "d1aada1e-5dc7-46e0-9058-6d49632049e3",
   "metadata": {},
   "outputs": [
    {
     "name": "stdout",
     "output_type": "stream",
     "text": [
      "mappingproxy({'__dict__': <attribute '__dict__' of 'RLC_Parallel_Circuit_Resonance' objects>,\n",
      "              '__doc__': 'A class to represent an RLC parallel circuit with '\n",
      "                         'resonance.',\n",
      "              '__init__': <function RLC_Parallel_Circuit_Resonance.__init__ at 0x0000020044377F70>,\n",
      "              '__module__': '__main__',\n",
      "              '__repr__': <function RLC_Parallel_Circuit_Resonance.__repr__ at 0x0000020044377700>,\n",
      "              '__str__': <function RLC_Parallel_Circuit_Resonance.__str__ at 0x000002004438C040>,\n",
      "              '__weakref__': <attribute '__weakref__' of 'RLC_Parallel_Circuit_Resonance' objects>,\n",
      "              'resonance_frequency': <function RLC_Parallel_Circuit_Resonance.resonance_frequency at 0x00000200443779D0>,\n",
      "              'total_impedance': <function RLC_Parallel_Circuit_Resonance.total_impedance at 0x0000020044377C10>})\n"
     ]
    }
   ],
   "source": [
    "pprint(RLC_Parallel_Circuit_Resonance.__dict__)"
   ]
  },
  {
   "cell_type": "code",
   "execution_count": 135,
   "id": "9a1e0de7-c7c5-4168-bc67-3d3b0c15d088",
   "metadata": {},
   "outputs": [
    {
     "name": "stdout",
     "output_type": "stream",
     "text": [
      "mappingproxy({'__dict__': <attribute '__dict__' of 'RLC_Parallel_Circuit_Resonace' objects>,\n",
      "              '__doc__': 'A class to represent an RLC parallel circuit with '\n",
      "                         'resonance.',\n",
      "              '__init__': <function RLC_Parallel_Circuit_Resonace.__init__ at 0x000002004436E550>,\n",
      "              '__module__': '__main__',\n",
      "              '__repr__': <function RLC_Parallel_Circuit_Resonace.__repr__ at 0x000002004436E9D0>,\n",
      "              '__str__': <function RLC_Parallel_Circuit_Resonace.__str__ at 0x00000200443770D0>,\n",
      "              '__weakref__': <attribute '__weakref__' of 'RLC_Parallel_Circuit_Resonace' objects>,\n",
      "              'resonance_frequency': <function RLC_Parallel_Circuit_Resonace.resonance_frequency at 0x000002004436E280>,\n",
      "              'total_impedance': <function RLC_Parallel_Circuit_Resonace.total_impedance at 0x000002004436EEE0>})\n"
     ]
    }
   ],
   "source": [
    "pprint(vars(RLC_Parallel_Circuit_Resonace))"
   ]
  },
  {
   "cell_type": "code",
   "execution_count": 115,
   "id": "4fe62547-e3ff-4454-a2e6-31e63c736a62",
   "metadata": {},
   "outputs": [
    {
     "name": "stdout",
     "output_type": "stream",
     "text": [
      "{'resistor': 10, 'inductance': 0.1, 'capacitance': 0.001}\n",
      "{'resistor': 15, 'inductance': 0.001, 'capacitance': 0.1}\n"
     ]
    }
   ],
   "source": [
    "print(RLC_parallel_resonance_1.__dict__)\n",
    "print(RLC_parallel_resonance_2.__dict__)"
   ]
  },
  {
   "cell_type": "code",
   "execution_count": 136,
   "id": "2136319c-fe43-4dfd-8560-6f2b75e1d308",
   "metadata": {},
   "outputs": [
    {
     "name": "stdout",
     "output_type": "stream",
     "text": [
      "Help on class RLC_Parallel_Circuit_Resonance in module __main__:\n",
      "\n",
      "class RLC_Parallel_Circuit_Resonance(builtins.object)\n",
      " |  RLC_Parallel_Circuit_Resonance(resistance: float = 1.0, inductance: float = 1.0, capacitance: float = 1.0) -> None\n",
      " |  \n",
      " |  A class to represent an RLC parallel circuit with resonance.\n",
      " |  \n",
      " |  Methods defined here:\n",
      " |  \n",
      " |  __init__(self, resistance: float = 1.0, inductance: float = 1.0, capacitance: float = 1.0) -> None\n",
      " |      Initialize the parallel RLC circuit with resistance, inductance, and capacitance.\n",
      " |      \n",
      " |      Args:\n",
      " |          resistance (float): Resistance in ohms. Defaults to 1.0.\n",
      " |          inductance (float): Inductance in henries. Defaults to 1.0.\n",
      " |          capacitance (float): Capacitance in farads. Defaults to 1.0.\n",
      " |  \n",
      " |  __repr__(self) -> str\n",
      " |      Return a string representation of the RLC_Parallel_Circuit.\n",
      " |  \n",
      " |  __str__(self) -> str\n",
      " |      Return a user-friendly string representation of the RLC_Parallel_Circuit.\n",
      " |  \n",
      " |  resonance_frequency(self) -> float\n",
      " |      Calculate the resonance frequency of the RLC parallel circuit.\n",
      " |      \n",
      " |      Returns:\n",
      " |          float: Resonance frequency in hertz.\n",
      " |  \n",
      " |  total_impedance(self, frequency: float) -> float\n",
      " |      Calculate the total impedance of the RLC parallel circuit.\n",
      " |      \n",
      " |      Args:\n",
      " |          frequency (float): Frequency in hertz.\n",
      " |      \n",
      " |      Returns:\n",
      " |          float: Total impedance in ohms.\n",
      " |  \n",
      " |  ----------------------------------------------------------------------\n",
      " |  Data descriptors defined here:\n",
      " |  \n",
      " |  __dict__\n",
      " |      dictionary for instance variables (if defined)\n",
      " |  \n",
      " |  __weakref__\n",
      " |      list of weak references to the object (if defined)\n",
      "\n"
     ]
    }
   ],
   "source": [
    "help(RLC_Parallel_Circuit_Resonance)"
   ]
  },
  {
   "cell_type": "code",
   "execution_count": 137,
   "id": "002ba80e-1da0-4bb4-b569-06564bc0e345",
   "metadata": {},
   "outputs": [
    {
     "name": "stdout",
     "output_type": "stream",
     "text": [
      "A class to represent an RLC parallel circuit with resonance.\n",
      "{'resistance': <class 'float'>, 'inductance': <class 'float'>, 'capacitance': <class 'float'>, 'return': None}\n",
      "\n",
      "Calculate the resonance frequency of the RLC parallel circuit.\n",
      "        \n",
      "        Returns:\n",
      "            float: Resonance frequency in hertz.\n",
      "        \n",
      "{'return': <class 'float'>}\n",
      "\n",
      "Calculate the total impedance of the RLC parallel circuit.\n",
      "        \n",
      "        Args:\n",
      "            frequency (float): Frequency in hertz.\n",
      "        \n",
      "        Returns:\n",
      "            float: Total impedance in ohms.\n",
      "        \n",
      "{'frequency': <class 'float'>, 'return': <class 'float'>}\n",
      "\n",
      "{'return': <class 'str'>}\n",
      "Return a string representation of the RLC_Parallel_Circuit.\n",
      "\n",
      "{'return': <class 'str'>}\n",
      "Return a user-friendly string representation of the RLC_Parallel_Circuit.\n"
     ]
    }
   ],
   "source": [
    "print(RLC_Parallel_Circuit_Resonance.__doc__)\n",
    "print(RLC_Parallel_Circuit_Resonance.__init__.__annotations__)\n",
    "print()\n",
    "print(RLC_Parallel_Circuit_Resonance.resonance_frequency.__doc__)\n",
    "print(RLC_Parallel_Circuit_Resonance.resonance_frequency.__annotations__)\n",
    "print()\n",
    "print(RLC_Parallel_Circuit_Resonance.total_impedance.__doc__)\n",
    "print(RLC_Parallel_Circuit_Resonance.total_impedance.__annotations__)\n",
    "print()\n",
    "print(RLC_Parallel_Circuit_Resonance.__repr__.__annotations__)\n",
    "print(RLC_Parallel_Circuit_Resonance.__repr__.__doc__)\n",
    "print()\n",
    "print(RLC_Parallel_Circuit_Resonance.__str__.__annotations__)\n",
    "print(RLC_Parallel_Circuit_Resonance.__str__.__doc__)"
   ]
  },
  {
   "cell_type": "code",
   "execution_count": 138,
   "id": "35cdbdd8-eeec-4a5f-8110-aaf92cdceec4",
   "metadata": {},
   "outputs": [],
   "source": [
    "RLC_parallel_resonance_3 = RLC_Parallel_Circuit_Resonance()"
   ]
  },
  {
   "cell_type": "code",
   "execution_count": 139,
   "id": "7006e61a-6ddd-45da-a9a7-69ec5b136905",
   "metadata": {},
   "outputs": [
    {
     "name": "stdout",
     "output_type": "stream",
     "text": [
      "RLC Parallel Circuit with 1.0 ohms, inductance: 1.0 H\n"
     ]
    },
    {
     "data": {
      "text/plain": [
       "RLCParallelCircuit(resistor=1.0, inductance=1.0, capacitance=1.0)"
      ]
     },
     "execution_count": 139,
     "metadata": {},
     "output_type": "execute_result"
    }
   ],
   "source": [
    "print(RLC_parallel_resonance_3)\n",
    "RLC_parallel_resonance_3"
   ]
  },
  {
   "cell_type": "markdown",
   "id": "5dcc8bea-52ab-4e81-8131-5a24a755de9a",
   "metadata": {},
   "source": [
    "# ***Name : khayyam ud din***\n",
    "# ***Reg No : 23jzele0548***\n",
    "# **Lab : 06**"
   ]
  },
  {
   "cell_type": "markdown",
   "id": "384b4d75-b54a-4051-a68a-52977e1d7588",
   "metadata": {
    "jp-MarkdownHeadingCollapsed": true
   },
   "source": [
    "# *Lab Report*"
   ]
  },
  {
   "cell_type": "code",
   "execution_count": 2,
   "id": "0c809a92-13a4-492a-96c5-c41b75beae9c",
   "metadata": {},
   "outputs": [],
   "source": [
    "import math\n",
    "class Circle:\n",
    "    \"\"\"A class to represent a circle with given radius and calculate the area, circumference, diameter  and volume\n",
    "    \"\"\"\n",
    "    def __init__(self, radius: float = 1):\n",
    "        \"\"\"\n",
    "        Initialize the Circle with a given radius.\n",
    "\n",
    "        Parameters:\n",
    "        radius (float): The radius of the circle. Default is 1.0.\n",
    "        \"\"\"\n",
    "        self.radius = radius\n",
    "\n",
    "    @property\n",
    "    def radius(self):\n",
    "        \"\"\"Get the radius of the circle.\"\"\"\n",
    "        return self._radius\n",
    "\n",
    "    @radius.setter\n",
    "    def radius(self, value: float) -> None:\n",
    "        \"\"\"Set the radius of the circle.\"\"\"\n",
    "        self._radius = value\n",
    "\n",
    "    def volume(self, height: float) -> None:\n",
    "        \"\"\"\n",
    "        Calculate the volume of a cylinder with the circle as the base.\n",
    "\n",
    "        Parameters:\n",
    "        height (float): The height of the cylinder.\n",
    "\n",
    "        Returns:\n",
    "        float: The volume of the cylinder.\n",
    "        \"\"\"\n",
    "        return self.area * height\n",
    "\n",
    "    @property\n",
    "    def area(self) -> float:\n",
    "        \"\"\"Calculate the area of the circle.\"\"\"\n",
    "        from math import pi\n",
    "        return pi * (self._radius ** 2)\n",
    "    @staticmethod\n",
    "    def volume(height: float) -> float:\n",
    "        return self.area * height\n",
    "\n",
    "    @property\n",
    "    def circumference(self) -> float:\n",
    "        \"\"\"Calculate the circumference of the circle.\"\"\"\n",
    "        from math import pi\n",
    "        return 2 * pi * self._radius\n",
    "\n",
    "    @property\n",
    "    def diameter(self) -> float:\n",
    "        \"\"\"Calculate the diameter of the circle.\"\"\"\n",
    "        return self._radius * 2\n",
    "    @classmethod\n",
    "    def unit_circle(cls) -> 'Circle':\n",
    "        \"\"\"Create a Circle instance with a radius of 1.\"\"\"\n",
    "        return cls(1)\n",
    "    def __repr__(self) -> str:\n",
    "        \"\"\"Return a string representation of the Circle instance.\"\"\"\n",
    "        return f\"Circle(radius={self._radius})\"\n",
    "\n",
    "    def __str__(self) -> str:\n",
    "        \"\"\"Return a user-friendly string representation of the Circle.\"\"\"\n",
    "        return f\"Circle with radius: {self._radius}\""
   ]
  },
  {
   "cell_type": "code",
   "execution_count": 3,
   "id": "f2e34c3d-fa29-4b4f-9f67-ff0bd1c65aa1",
   "metadata": {},
   "outputs": [],
   "source": [
    "inst_1 = Circle(2)\n",
    "inst_2 = Circle(15)"
   ]
  },
  {
   "cell_type": "code",
   "execution_count": 4,
   "id": "a041b18b-4259-4322-bce3-87032239dac0",
   "metadata": {},
   "outputs": [
    {
     "name": "stdout",
     "output_type": "stream",
     "text": [
      "Circle with radius: 2\n",
      "Circle with radius: 15\n"
     ]
    }
   ],
   "source": [
    "print(inst_1)\n",
    "print(inst_2)"
   ]
  },
  {
   "cell_type": "code",
   "execution_count": 5,
   "id": "cae9dceb-682f-48ee-8760-7b7146a53db0",
   "metadata": {},
   "outputs": [
    {
     "name": "stdout",
     "output_type": "stream",
     "text": [
      "Area of inst_1: 12.6\n",
      "Circumference of inst_1: 12.6\n",
      "Diameter of inst_1: 4.0\n",
      "\n",
      "Area of inst_2: 706.9\n",
      "Circumference of inst_2: 94.2\n",
      "Diameter of inst_2: 30.0\n"
     ]
    }
   ],
   "source": [
    "\n",
    "print(f\"Area of inst_1: {inst_1.area:.1f}\")\n",
    "print(f\"Circumference of inst_1: {inst_1.circumference:.1f}\")\n",
    "print(f\"Diameter of inst_1: {inst_1.diameter:.1f}\")\n",
    "print()\n",
    "print(f\"Area of inst_2: {inst_2.area:.1f}\")\n",
    "print(f\"Circumference of inst_2: {inst_2.circumference:.1f}\")\n",
    "print(f\"Diameter of inst_2: {inst_2.diameter:.1f}\")"
   ]
  },
  {
   "cell_type": "code",
   "execution_count": 6,
   "id": "6f2f57c3-abec-47e3-a24e-b4fbbd26e82f",
   "metadata": {},
   "outputs": [
    {
     "name": "stdout",
     "output_type": "stream",
     "text": [
      "mappingproxy({'__dict__': <attribute '__dict__' of 'Circle' objects>,\n",
      "              '__doc__': 'A class to represent a circle with given radius and '\n",
      "                         'calculate the area, circumference, diameter  and '\n",
      "                         'volume\\n'\n",
      "                         '    ',\n",
      "              '__init__': <function Circle.__init__ at 0x0000019B3C6934C0>,\n",
      "              '__module__': '__main__',\n",
      "              '__repr__': <function Circle.__repr__ at 0x0000019B3C6DF0D0>,\n",
      "              '__str__': <function Circle.__str__ at 0x0000019B3C6DF160>,\n",
      "              '__weakref__': <attribute '__weakref__' of 'Circle' objects>,\n",
      "              'area': <property object at 0x0000019B3C667950>,\n",
      "              'circumference': <property object at 0x0000019B3C5CAD60>,\n",
      "              'diameter': <property object at 0x0000019B3C697F90>,\n",
      "              'radius': <property object at 0x0000019B3C5CAE00>,\n",
      "              'unit_circle': <classmethod object at 0x0000019B3C606550>,\n",
      "              'volume': <staticmethod object at 0x0000019B3C601910>})\n"
     ]
    }
   ],
   "source": [
    "from pprint import pprint\n",
    "pprint(Circle.__dict__)"
   ]
  },
  {
   "cell_type": "code",
   "execution_count": 7,
   "id": "e1c24563-4b9b-467c-8036-9c5ac858b4bb",
   "metadata": {},
   "outputs": [
    {
     "name": "stdout",
     "output_type": "stream",
     "text": [
      "mappingproxy({'__dict__': <attribute '__dict__' of 'Circle' objects>,\n",
      "              '__doc__': 'A class to represent a circle with given radius and '\n",
      "                         'calculate the area, circumference, diameter  and '\n",
      "                         'volume\\n'\n",
      "                         '    ',\n",
      "              '__init__': <function Circle.__init__ at 0x0000019B3C6934C0>,\n",
      "              '__module__': '__main__',\n",
      "              '__repr__': <function Circle.__repr__ at 0x0000019B3C6DF0D0>,\n",
      "              '__str__': <function Circle.__str__ at 0x0000019B3C6DF160>,\n",
      "              '__weakref__': <attribute '__weakref__' of 'Circle' objects>,\n",
      "              'area': <property object at 0x0000019B3C667950>,\n",
      "              'circumference': <property object at 0x0000019B3C5CAD60>,\n",
      "              'diameter': <property object at 0x0000019B3C697F90>,\n",
      "              'radius': <property object at 0x0000019B3C5CAE00>,\n",
      "              'unit_circle': <classmethod object at 0x0000019B3C606550>,\n",
      "              'volume': <staticmethod object at 0x0000019B3C601910>})\n"
     ]
    }
   ],
   "source": [
    "pprint(vars(Circle))"
   ]
  },
  {
   "cell_type": "code",
   "execution_count": 8,
   "id": "be3612c8-3096-473c-ae01-83f232173f79",
   "metadata": {},
   "outputs": [
    {
     "name": "stdout",
     "output_type": "stream",
     "text": [
      "{'_radius': 2}\n"
     ]
    }
   ],
   "source": [
    "print(inst_1.__dict__)"
   ]
  },
  {
   "cell_type": "code",
   "execution_count": 9,
   "id": "74b87cf6-48ed-42f4-b5d9-83379daa33cb",
   "metadata": {},
   "outputs": [
    {
     "name": "stdout",
     "output_type": "stream",
     "text": [
      "{'_radius': 15}\n"
     ]
    }
   ],
   "source": [
    "print(inst_2.__dict__)"
   ]
  },
  {
   "cell_type": "code",
   "execution_count": 10,
   "id": "56d7f64d-3980-477e-827a-e09dba0ced4e",
   "metadata": {},
   "outputs": [
    {
     "name": "stdout",
     "output_type": "stream",
     "text": [
      "Help on class Circle in module __main__:\n",
      "\n",
      "class Circle(builtins.object)\n",
      " |  Circle(radius: float = 1)\n",
      " |  \n",
      " |  A class to represent a circle with given radius and calculate the area, circumference, diameter  and volume\n",
      " |  \n",
      " |  Methods defined here:\n",
      " |  \n",
      " |  __init__(self, radius: float = 1)\n",
      " |      Initialize the Circle with a given radius.\n",
      " |      \n",
      " |      Parameters:\n",
      " |      radius (float): The radius of the circle. Default is 1.0.\n",
      " |  \n",
      " |  __repr__(self) -> str\n",
      " |      Return a string representation of the Circle instance.\n",
      " |  \n",
      " |  __str__(self) -> str\n",
      " |      Return a user-friendly string representation of the Circle.\n",
      " |  \n",
      " |  ----------------------------------------------------------------------\n",
      " |  Class methods defined here:\n",
      " |  \n",
      " |  unit_circle() -> 'Circle' from builtins.type\n",
      " |      Create a Circle instance with a radius of 1.\n",
      " |  \n",
      " |  ----------------------------------------------------------------------\n",
      " |  Static methods defined here:\n",
      " |  \n",
      " |  volume(height: float) -> float\n",
      " |  \n",
      " |  ----------------------------------------------------------------------\n",
      " |  Readonly properties defined here:\n",
      " |  \n",
      " |  area\n",
      " |      Calculate the area of the circle.\n",
      " |  \n",
      " |  circumference\n",
      " |      Calculate the circumference of the circle.\n",
      " |  \n",
      " |  diameter\n",
      " |      Calculate the diameter of the circle.\n",
      " |  \n",
      " |  ----------------------------------------------------------------------\n",
      " |  Data descriptors defined here:\n",
      " |  \n",
      " |  __dict__\n",
      " |      dictionary for instance variables (if defined)\n",
      " |  \n",
      " |  __weakref__\n",
      " |      list of weak references to the object (if defined)\n",
      " |  \n",
      " |  radius\n",
      " |      Get the radius of the circle.\n",
      "\n"
     ]
    }
   ],
   "source": [
    "help(Circle)"
   ]
  },
  {
   "cell_type": "code",
   "execution_count": 11,
   "id": "1ada99d3-5fe3-40cc-9ad1-73190253ce1f",
   "metadata": {},
   "outputs": [
    {
     "name": "stdout",
     "output_type": "stream",
     "text": [
      "A class to represent a circle with given radius and calculate the area, circumference, diameter  and volume\n",
      "    \n",
      "Method: __init__, Docstring: \n",
      "        Initialize the Circle with a given radius.\n",
      "\n",
      "        Parameters:\n",
      "        radius (float): The radius of the circle. Default is 1.0.\n",
      "        , Annotations: {'radius': <class 'float'>}\n",
      "Method: volume, Docstring: None, Annotations: {'height': <class 'float'>, 'return': <class 'float'>}\n",
      "Method: area, Docstring: Calculate the area of the circle., Annotations: {'return': <class 'float'>}\n",
      "Method: circumference, Docstring: Calculate the circumference of the circle., Annotations: {'return': <class 'float'>}\n",
      "Method: diameter, Docstring: Calculate the diameter of the circle., Annotations: {'return': <class 'float'>}\n",
      "Method: __repr__, Docstring: Return a string representation of the Circle instance., Annotations: {'return': <class 'str'>}\n",
      "Method: __str__, Docstring: Return a user-friendly string representation of the Circle., Annotations: {'return': <class 'str'>}\n",
      "Method: diameter, Docstring: Calculate the diameter of the circle., Annotations: {'return': <class 'float'>}\n",
      "Method: unit_circle, Docstring: Create a Circle instance with a radius of 1., Annotations: {'return': 'Circle'}\n"
     ]
    }
   ],
   "source": [
    "print(Circle.__doc__)\n",
    "for method in [\n",
    "    Circle.__init__,\n",
    "    Circle.volume,\n",
    "    Circle.area,\n",
    "    Circle.circumference,\n",
    "    Circle.diameter,\n",
    "    Circle.__repr__,\n",
    "    Circle.__str__,\n",
    "    Circle.diameter,\n",
    "    Circle.unit_circle,]:\n",
    "    if isinstance(method, property):\n",
    "        print(f\"Method: {method.fget.__name__}, Docstring: {method.__doc__}, Annotations: {method.fget.__annotations__}\")\n",
    "    else:\n",
    "        print(f\"Method: {method.__name__}, Docstring: {method.__doc__}, Annotations: {method.__annotations__}\")"
   ]
  },
  {
   "cell_type": "code",
   "execution_count": 12,
   "id": "0269fd12-4141-4260-9d3d-fcbd8de0d11c",
   "metadata": {},
   "outputs": [
    {
     "name": "stdout",
     "output_type": "stream",
     "text": [
      "Circle with radius: 1\n"
     ]
    }
   ],
   "source": [
    "inst_3 = Circle()\n",
    "print(inst_3)"
   ]
  },
  {
   "cell_type": "markdown",
   "id": "3a01114e-8c22-4bcb-b56a-2fb9469d1e23",
   "metadata": {
    "jp-MarkdownHeadingCollapsed": true
   },
   "source": [
    "# *Lab Practice*"
   ]
  },
  {
   "cell_type": "markdown",
   "id": "92d5bbd5-bf4b-4431-9ee1-827d60f6ec1a",
   "metadata": {},
   "source": [
    "**Task No 01***"
   ]
  },
  {
   "cell_type": "markdown",
   "id": "0326ca20-ad0b-4739-bff8-e163f5f4a8b3",
   "metadata": {},
   "source": [
    "* Class Definition: Define a class Point in a 2-dimensional coordinate system with the necessary __init__ method.\n",
    "Property Methods:\n",
    "* Implement appropriate property methods using @property and @property.setter.\n",
    "* **Instance Methods:**\n",
    "* Distance Calculation: Add an instance method for calculating the distance between two points.\n",
    "* Distance from Origin: Include another instance method to calculate the distance from the origin (0, 0).\n",
    "* Locate: Add a method named locate to display the coordinates where the point is located.\n",
    "Special Methods:\n",
    "* Implement __repr__ and __str__ methods to provide clear string representations for the class.\n",
    "* Add methods decorated with @staticmethod, @property, and @classmethod if applicable.\n",
    "* Documentation: Ensure proper annotations and docstrings for every class and instance method to enhance readability and maintainabil"
   ]
  },
  {
   "cell_type": "code",
   "execution_count": 2,
   "id": "2cc19343-6994-401b-b1e4-740d8b74a6be",
   "metadata": {},
   "outputs": [],
   "source": [
    "import math\n",
    "\n",
    "class Point:\n",
    "    \"\"\"\n",
    "    A class to represent a point in a 2D coordinate system.\n",
    "    \"\"\"\n",
    "    def __init__(self, x: float = 0.0, y: float = 0.0):\n",
    "        \"\"\"\n",
    "        Initializes a new point at the given coordinates.\n",
    "        \n",
    "         x: x-coordinate (default is 0.0)\n",
    "         y: y-coordinate (default is 0.0)\n",
    "        \"\"\"\n",
    "        self.x = x\n",
    "        self.y = y\n",
    "\n",
    "    @property\n",
    "    def x(self) -> float:\n",
    "        \"\"\"Gets the x-coordinate.\"\"\"\n",
    "        return self._x\n",
    "\n",
    "    @x.setter\n",
    "    def x(self, value: float) -> None:\n",
    "        \"\"\"Sets the x-coordinate.\"\"\"\n",
    "        self._x = value\n",
    "\n",
    "    @property\n",
    "    def y(self) -> float:\n",
    "        \"\"\"Gets the y-coordinate.\"\"\"\n",
    "        return self._y\n",
    "\n",
    "    @y.setter\n",
    "    def y(self, value: float) -> None:\n",
    "        \"\"\"Sets the y-coordinate.\"\"\"\n",
    "        self._y = value\n",
    "\n",
    "    def distance_to(self, other: 'Point') -> float:\n",
    "        \"\"\"\n",
    "        Calculates the distance between this point and another point.\n",
    "        \n",
    "        :param other: Another point in the 2D coordinate system.\n",
    "        :return: The distance between the two points.\n",
    "        \"\"\"\n",
    "        return math.sqrt((self.x - other.x) ** 2 + (self.y - other.y) ** 2)\n",
    "\n",
    "    def distance_from_origin(self) -> float:\n",
    "        \"\"\"\n",
    "        Calculates the distance from the origin (0, 0) to this point.\n",
    "        \n",
    "        :return: The distance from the origin to this point.\n",
    "        \"\"\"\n",
    "        return math.sqrt(self.x ** 2 + self.y ** 2)\n",
    "\n",
    "    def located(self) -> str:\n",
    "        \"\"\"\n",
    "        Displays the coordinates of the point.\n",
    "        \n",
    "        return: A string representation of the coordinates.\n",
    "        \"\"\"\n",
    "        return f\"Point is located at ({self.x}, {self.y})\"\n",
    "\n",
    "    @staticmethod\n",
    "    def origin() -> 'Point':\n",
    "        \"\"\"\n",
    "        Returns a point at the origin (0, 0).\n",
    "        \n",
    "        return: A Point object representing the origin.\n",
    "        \"\"\"\n",
    "        return Point(0, 0)\n",
    "\n",
    "    @classmethod\n",
    "    def from_coordinates(cls, coordinates: tuple) -> 'Point':\n",
    "        \"\"\"\n",
    "        Creates a Point instance from a tuple of coordinates.\n",
    "        \n",
    "        coordinates: A tuple containing x and y coordinates.\n",
    "        return: An instance of Point.\n",
    "        \"\"\"\n",
    "        return cls(*coordinates)\n",
    "\n",
    "    def __repr__(self):\n",
    "        \"\"\"Return a string representation of the Circle instance.\"\"\"\n",
    "        return f'{type(self).__name__} ({self.x},{self.y})'\n",
    "    def __str__(self):\n",
    "        \"\"\"Return a user-friendly string representation of the Circle.\"\"\"\n",
    "        return f'2D Coordinate system with coordinates ({self.x},{self.y})'"
   ]
  },
  {
   "cell_type": "markdown",
   "id": "5e9686f6-3cde-4bea-bb4d-3cbd993f6986",
   "metadata": {},
   "source": [
    "* To Define inst_1,inst_2 and pass two numbers"
   ]
  },
  {
   "cell_type": "code",
   "execution_count": 4,
   "id": "1328b009-3add-457d-9c12-d9b86a362271",
   "metadata": {},
   "outputs": [],
   "source": [
    "inst_1 = Point(4,6)\n",
    "inst_2 = Point(2,7)"
   ]
  },
  {
   "cell_type": "code",
   "execution_count": 5,
   "id": "4e5f46c3-39bb-45ab-91d0-ad4a26eaf3b3",
   "metadata": {},
   "outputs": [
    {
     "name": "stdout",
     "output_type": "stream",
     "text": [
      "2D Coordinate system with coordinates (4,6)\n",
      "2D Coordinate system with coordinates (2,7)\n"
     ]
    }
   ],
   "source": [
    "print(inst_1)\n",
    "print(inst_2)"
   ]
  },
  {
   "cell_type": "code",
   "execution_count": 6,
   "id": "363c428c-39fc-45cf-aa8d-d87bc95839a6",
   "metadata": {},
   "outputs": [
    {
     "name": "stdout",
     "output_type": "stream",
     "text": [
      "7.211102550927978\n"
     ]
    }
   ],
   "source": [
    "print(inst_1.distance_from_origin())"
   ]
  },
  {
   "cell_type": "code",
   "execution_count": 7,
   "id": "474f8af1-cdb1-4d9e-852d-a07b385f2246",
   "metadata": {},
   "outputs": [
    {
     "name": "stdout",
     "output_type": "stream",
     "text": [
      "7.280109889280518\n"
     ]
    }
   ],
   "source": [
    "print(inst_2.distance_from_origin())"
   ]
  },
  {
   "cell_type": "markdown",
   "id": "f7a11748-1017-44b5-ae70-0e1dd0ce7517",
   "metadata": {},
   "source": [
    "* To Print inst_1 and inst_2, for this use the print command and pass the inst_1 and inst_2."
   ]
  },
  {
   "cell_type": "code",
   "execution_count": 8,
   "id": "60690a0e-d97f-4971-9133-a39621d2c8a8",
   "metadata": {},
   "outputs": [
    {
     "data": {
      "text/plain": [
       "Point (4,6)"
      ]
     },
     "execution_count": 8,
     "metadata": {},
     "output_type": "execute_result"
    }
   ],
   "source": [
    "inst_1"
   ]
  },
  {
   "cell_type": "code",
   "execution_count": 9,
   "id": "150c08e6-404f-48e8-a7ac-e5132e724a32",
   "metadata": {},
   "outputs": [
    {
     "data": {
      "text/plain": [
       "Point (2,7)"
      ]
     },
     "execution_count": 9,
     "metadata": {},
     "output_type": "execute_result"
    }
   ],
   "source": [
    "inst_2"
   ]
  },
  {
   "cell_type": "markdown",
   "id": "7e9fd5cb-b05b-41db-a7af-c399dbf68d2e",
   "metadata": {},
   "source": [
    "* To print the location of both points. (Add a display method)."
   ]
  },
  {
   "cell_type": "code",
   "execution_count": 10,
   "id": "8e40a68e-33ca-4e94-a359-ed964c845544",
   "metadata": {},
   "outputs": [
    {
     "name": "stdout",
     "output_type": "stream",
     "text": [
      "Point is located at (4, 6)\n",
      "Point is located at (2, 7)\n"
     ]
    }
   ],
   "source": [
    "print(inst_1.locate())\n",
    "print(inst_2.locate())"
   ]
  },
  {
   "cell_type": "markdown",
   "id": "76b5ba5a-c249-4741-92ca-e98275e8aab9",
   "metadata": {},
   "source": [
    "* To Calculate the distance between these two pints."
   ]
  },
  {
   "cell_type": "code",
   "execution_count": 12,
   "id": "058c950a-4d55-4479-b82f-1d27d052b3ae",
   "metadata": {},
   "outputs": [
    {
     "name": "stdout",
     "output_type": "stream",
     "text": [
      "Distance between inst_1 and inst_2 is: 2.24\n"
     ]
    }
   ],
   "source": [
    "distance = inst_1.distance_to(inst_2)\n",
    "print(f\"Distance between inst_1 and inst_2 is: {distance:.2f}\")"
   ]
  },
  {
   "cell_type": "markdown",
   "id": "962606db-7c69-41af-aebd-6abd35c775f1",
   "metadata": {},
   "source": [
    "* To Call the __dict__ by the class name"
   ]
  },
  {
   "cell_type": "code",
   "execution_count": 13,
   "id": "84a82747-e1f1-4753-bd3b-fd10d8b1709e",
   "metadata": {},
   "outputs": [
    {
     "name": "stdout",
     "output_type": "stream",
     "text": [
      "mappingproxy({'__dict__': <attribute '__dict__' of 'Point' objects>,\n",
      "              '__doc__': '\\n'\n",
      "                         '    A class to represent a point in a 2D coordinate '\n",
      "                         'system.\\n'\n",
      "                         '    ',\n",
      "              '__init__': <function Point.__init__ at 0x0000018B7BF20310>,\n",
      "              '__module__': '__main__',\n",
      "              '__repr__': <function Point.__repr__ at 0x0000018B7BF209D0>,\n",
      "              '__str__': <function Point.__str__ at 0x0000018B7BF20790>,\n",
      "              '__weakref__': <attribute '__weakref__' of 'Point' objects>,\n",
      "              'distance_from_origin': <function Point.distance_from_origin at 0x0000018B7BF20670>,\n",
      "              'distance_to': <function Point.distance_to at 0x0000018B7BF205E0>,\n",
      "              'from_coordinates': <classmethod object at 0x0000018B7BF03D60>,\n",
      "              'locate': <function Point.locate at 0x0000018B7BF20700>,\n",
      "              'origin': <staticmethod object at 0x0000018B7BF03C40>,\n",
      "              'x': <property object at 0x0000018B7BF283B0>,\n",
      "              'y': <property object at 0x0000018B7BF28400>})\n"
     ]
    }
   ],
   "source": [
    "from pprint import pprint\n",
    "pprint(Point.__dict__)"
   ]
  },
  {
   "cell_type": "markdown",
   "id": "c7fd8975-56cb-42c3-b84e-e3fb1bf9942e",
   "metadata": {},
   "source": [
    "* Also pass the class name to the vars built-in function."
   ]
  },
  {
   "cell_type": "code",
   "execution_count": 14,
   "id": "e089a6c7-8f1e-4b95-a458-edbe6abbca8d",
   "metadata": {},
   "outputs": [
    {
     "name": "stdout",
     "output_type": "stream",
     "text": [
      "mappingproxy({'__dict__': <attribute '__dict__' of 'Point' objects>,\n",
      "              '__doc__': '\\n'\n",
      "                         '    A class to represent a point in a 2D coordinate '\n",
      "                         'system.\\n'\n",
      "                         '    ',\n",
      "              '__init__': <function Point.__init__ at 0x0000018B7BF20310>,\n",
      "              '__module__': '__main__',\n",
      "              '__repr__': <function Point.__repr__ at 0x0000018B7BF209D0>,\n",
      "              '__str__': <function Point.__str__ at 0x0000018B7BF20790>,\n",
      "              '__weakref__': <attribute '__weakref__' of 'Point' objects>,\n",
      "              'distance_from_origin': <function Point.distance_from_origin at 0x0000018B7BF20670>,\n",
      "              'distance_to': <function Point.distance_to at 0x0000018B7BF205E0>,\n",
      "              'from_coordinates': <classmethod object at 0x0000018B7BF03D60>,\n",
      "              'locate': <function Point.locate at 0x0000018B7BF20700>,\n",
      "              'origin': <staticmethod object at 0x0000018B7BF03C40>,\n",
      "              'x': <property object at 0x0000018B7BF283B0>,\n",
      "              'y': <property object at 0x0000018B7BF28400>})\n"
     ]
    }
   ],
   "source": [
    "pprint(vars(Point))"
   ]
  },
  {
   "cell_type": "markdown",
   "id": "65ff11c7-765e-4872-ba20-43e26ca09e6f",
   "metadata": {},
   "source": [
    "*  To Call the __dict__ on the object of the class."
   ]
  },
  {
   "cell_type": "code",
   "execution_count": 15,
   "id": "bcb82fda-46c1-48b2-83c1-2139479187c2",
   "metadata": {},
   "outputs": [
    {
     "name": "stdout",
     "output_type": "stream",
     "text": [
      "{'_x': 4, '_y': 6}\n"
     ]
    }
   ],
   "source": [
    "print(inst_1.__dict__)"
   ]
  },
  {
   "cell_type": "markdown",
   "id": "8632ba03-7196-4eb6-acb4-e346e3d05276",
   "metadata": {},
   "source": [
    "To Pass the class name to help"
   ]
  },
  {
   "cell_type": "code",
   "execution_count": 16,
   "id": "5b219fb6-6dd1-4e78-a788-f3d89c324b05",
   "metadata": {},
   "outputs": [
    {
     "name": "stdout",
     "output_type": "stream",
     "text": [
      "Help on class Point in module __main__:\n",
      "\n",
      "class Point(builtins.object)\n",
      " |  Point(x: float = 0.0, y: float = 0.0)\n",
      " |  \n",
      " |  A class to represent a point in a 2D coordinate system.\n",
      " |  \n",
      " |  Methods defined here:\n",
      " |  \n",
      " |  __init__(self, x: float = 0.0, y: float = 0.0)\n",
      " |      Initializes a new point at the given coordinates.\n",
      " |      \n",
      " |       x: x-coordinate (default is 0.0)\n",
      " |       y: y-coordinate (default is 0.0)\n",
      " |  \n",
      " |  __repr__(self)\n",
      " |      Return a string representation of the Circle instance.\n",
      " |  \n",
      " |  __str__(self)\n",
      " |      Return a user-friendly string representation of the Circle.\n",
      " |  \n",
      " |  distance_from_origin(self) -> float\n",
      " |      Calculates the distance from the origin (0, 0) to this point.\n",
      " |      \n",
      " |      :return: The distance from the origin to this point.\n",
      " |  \n",
      " |  distance_to(self, other: 'Point') -> float\n",
      " |      Calculates the distance between this point and another point.\n",
      " |      \n",
      " |      :param other: Another point in the 2D coordinate system.\n",
      " |      :return: The distance between the two points.\n",
      " |  \n",
      " |  locate(self) -> str\n",
      " |      Displays the coordinates of the point.\n",
      " |      \n",
      " |      return: A string representation of the coordinates.\n",
      " |  \n",
      " |  ----------------------------------------------------------------------\n",
      " |  Class methods defined here:\n",
      " |  \n",
      " |  from_coordinates(coordinates: tuple) -> 'Point' from builtins.type\n",
      " |      Creates a Point instance from a tuple of coordinates.\n",
      " |      \n",
      " |      coordinates: A tuple containing x and y coordinates.\n",
      " |      return: An instance of Point.\n",
      " |  \n",
      " |  ----------------------------------------------------------------------\n",
      " |  Static methods defined here:\n",
      " |  \n",
      " |  origin() -> 'Point'\n",
      " |      Returns a point at the origin (0, 0).\n",
      " |      \n",
      " |      return: A Point object representing the origin.\n",
      " |  \n",
      " |  ----------------------------------------------------------------------\n",
      " |  Data descriptors defined here:\n",
      " |  \n",
      " |  __dict__\n",
      " |      dictionary for instance variables (if defined)\n",
      " |  \n",
      " |  __weakref__\n",
      " |      list of weak references to the object (if defined)\n",
      " |  \n",
      " |  x\n",
      " |      Gets the x-coordinate.\n",
      " |  \n",
      " |  y\n",
      " |      Gets the y-coordinate.\n",
      "\n"
     ]
    }
   ],
   "source": [
    "help(Point)"
   ]
  },
  {
   "cell_type": "markdown",
   "id": "ac10470f-cccd-4e7a-8036-b89158c17e05",
   "metadata": {},
   "source": [
    "* To Print the doc-string and annotations of both the class and each instance method"
   ]
  },
  {
   "cell_type": "code",
   "execution_count": 18,
   "id": "68d64c85-4b31-4927-b990-31badf9f36f6",
   "metadata": {},
   "outputs": [
    {
     "name": "stdout",
     "output_type": "stream",
     "text": [
      "\n",
      "    A class to represent a point in a 2D coordinate system.\n",
      "    \n",
      "Method: __init__, Docstring: \n",
      "        Initializes a new point at the given coordinates.\n",
      "        \n",
      "         x: x-coordinate (default is 0.0)\n",
      "         y: y-coordinate (default is 0.0)\n",
      "        , Annotations: {'x': <class 'float'>, 'y': <class 'float'>}\n",
      "Method: distance_to, Docstring: \n",
      "        Calculates the distance between this point and another point.\n",
      "        \n",
      "        :param other: Another point in the 2D coordinate system.\n",
      "        :return: The distance between the two points.\n",
      "        , Annotations: {'other': 'Point', 'return': <class 'float'>}\n",
      "Method: distance_from_origin, Docstring: \n",
      "        Calculates the distance from the origin (0, 0) to this point.\n",
      "        \n",
      "        :return: The distance from the origin to this point.\n",
      "        , Annotations: {'return': <class 'float'>}\n",
      "Method: locate, Docstring: \n",
      "        Displays the coordinates of the point.\n",
      "        \n",
      "        return: A string representation of the coordinates.\n",
      "        , Annotations: {'return': <class 'str'>}\n",
      "Method: __repr__, Docstring: Return a string representation of the Circle instance., Annotations: {}\n",
      "Method: __str__, Docstring: Return a user-friendly string representation of the Circle., Annotations: {}\n",
      "Method: origin, Docstring: \n",
      "        Returns a point at the origin (0, 0).\n",
      "        \n",
      "        return: A Point object representing the origin.\n",
      "        , Annotations: {'return': 'Point'}\n",
      "Method: from_coordinates, Docstring: \n",
      "        Creates a Point instance from a tuple of coordinates.\n",
      "        \n",
      "        coordinates: A tuple containing x and y coordinates.\n",
      "        return: An instance of Point.\n",
      "        , Annotations: {'coordinates': <class 'tuple'>, 'return': 'Point'}\n"
     ]
    }
   ],
   "source": [
    "print(Point.__doc__)\n",
    "for method in [Point.__init__,\n",
    "               Point.distance_to,\n",
    "               Point.distance_from_origin,\n",
    "               Point.locate,\n",
    "               Point.__repr__,\n",
    "               Point.__str__,\n",
    "               Point.origin,\n",
    "               Point.from_coordinates]:\n",
    "    if isinstance(method, property):\n",
    "        print(f\"Method: {method.fget.__name__}, Docstring: {method.__doc__}, Annotations: {method.fget.__annotations__}\")\n",
    "    else:\n",
    "        print(f\"Method: {method.__name__}, Docstring: {method.__doc__}, Annotations: {method.__annotations__}\")"
   ]
  },
  {
   "cell_type": "markdown",
   "id": "1916b0f4-f802-4e47-81f2-27abbe559004",
   "metadata": {},
   "source": [
    "To Modify the __init__ by by making its parameters default and verify by instances."
   ]
  },
  {
   "cell_type": "code",
   "execution_count": 20,
   "id": "1fc39500-aeb1-4a6a-ba9d-4d7f52438f65",
   "metadata": {},
   "outputs": [
    {
     "name": "stdout",
     "output_type": "stream",
     "text": [
      "2D Coordinate system with coordinates (0.0,0.0)\n"
     ]
    }
   ],
   "source": [
    "inst_3 = Point()\n",
    "print(inst_3)"
   ]
  },
  {
   "cell_type": "markdown",
   "id": "758d37e3-1374-4a12-9244-9428930a1b1c",
   "metadata": {},
   "source": [
    "**Task No 02**"
   ]
  },
  {
   "cell_type": "markdown",
   "id": "11dab222-f504-416e-8847-abcd36191b6d",
   "metadata": {},
   "source": [
    "* ***Class Definition:*** Define a class Circle with the necessary __init__ method.\n",
    "* **Property Methods:**\n",
    "* Add appropriate property methods using @property and @property.setter for radius.\n",
    "* Add property methods for area, circumference, and diameter.\n",
    "* **Instance Methods:**\n",
    "* ***Volume Calculation:*** Add an instance method for calculating the volume of a cylinder with the given radius.\n",
    "* **Special Methods:**\n",
    "* Implement __repr__ and __str__ methods to provide clear string representations for the class.\n",
    "* Add methods decorated with @staticmethod and @classmethod if applicable.\n",
    "* Documentation: Ensure proper annotations and docstrings for every class and instance method to enhance readability and maintainability."
   ]
  },
  {
   "cell_type": "code",
   "execution_count": 20,
   "id": "60548a3a-5ada-4eb4-903b-2c1018ac4472",
   "metadata": {},
   "outputs": [],
   "source": [
    "import math\n",
    "class Circle:\n",
    "    \"\"\"A class to represent a circle with given radius and calculate the area, circumference, diameter  and volume\n",
    "    \"\"\"\n",
    "    def __init__(self, radius: float = 1):\n",
    "        \"\"\"\n",
    "        Initialize the Circle with a given radius.\n",
    "\n",
    "        Parameters:\n",
    "        radius (float): The radius of the circle. Default is 1.0.\n",
    "        \"\"\"\n",
    "        self.radius = radius\n",
    "\n",
    "    @property\n",
    "    def radius(self):\n",
    "        \"\"\"Get the radius of the circle.\"\"\"\n",
    "        return self._radius\n",
    "\n",
    "    @radius.setter\n",
    "    def radius(self, value: float) -> None:\n",
    "        \"\"\"Set the radius of the circle.\"\"\"\n",
    "        self._radius = value\n",
    "\n",
    "    def volume(self, height: float) -> None:\n",
    "        \"\"\"\n",
    "        Calculate the volume of a cylinder with the circle as the base.\n",
    "\n",
    "        Parameters:\n",
    "        height (float): The height of the cylinder.\n",
    "\n",
    "        Returns:\n",
    "        float: The volume of the cylinder.\n",
    "        \"\"\"\n",
    "        return self.area * height\n",
    "\n",
    "    @property\n",
    "    def area(self) -> float:\n",
    "        \"\"\"Calculate the area of the circle.\"\"\"\n",
    "        from math import pi\n",
    "        return pi * (self._radius ** 2)\n",
    "    @staticmethod\n",
    "    def volume(height: float) -> float:\n",
    "        return self.area * height\n",
    "\n",
    "    @property\n",
    "    def circumference(self) -> float:\n",
    "        \"\"\"Calculate the circumference of the circle.\"\"\"\n",
    "        from math import pi\n",
    "        return 2 * pi * self._radius\n",
    "\n",
    "    @property\n",
    "    def diameter(self) -> float:\n",
    "        \"\"\"Calculate the diameter of the circle.\"\"\"\n",
    "        return self._radius * 2\n",
    "    @classmethod\n",
    "    def unit_circle(cls) -> 'Circle':\n",
    "        \"\"\"Create a Circle instance with a radius of 1.\"\"\"\n",
    "        return cls(1)\n",
    "    def __repr__(self) -> str:\n",
    "        \"\"\"Return a string representation of the Circle instance.\"\"\"\n",
    "        return f\"Circle(radius={self._radius})\"\n",
    "\n",
    "    def __str__(self) -> str:\n",
    "        \"\"\"Return a user-friendly string representation of the Circle.\"\"\"\n",
    "        return f\"Circle with radius: {self._radius}\""
   ]
  },
  {
   "cell_type": "markdown",
   "id": "75d30164-5cd6-4245-a036-68d077ae48e0",
   "metadata": {},
   "source": [
    "* To Define inst_1,inst_2"
   ]
  },
  {
   "cell_type": "code",
   "execution_count": 36,
   "id": "5eeb7cfd-234e-435f-8f63-55e55752a651",
   "metadata": {},
   "outputs": [],
   "source": [
    "inst_1 = Circle(2)\n",
    "inst_2 = Circle(15)"
   ]
  },
  {
   "cell_type": "markdown",
   "id": "f22e2d23-f445-40b4-8612-f26ee2a67417",
   "metadata": {},
   "source": [
    "* To Print inst_1 and inst_2, for this use the print command and pass the inst_1 and inst_2"
   ]
  },
  {
   "cell_type": "code",
   "execution_count": 37,
   "id": "5ce92bcc-b4cc-4695-82cb-5ffa7a3965ae",
   "metadata": {},
   "outputs": [
    {
     "name": "stdout",
     "output_type": "stream",
     "text": [
      "Circle with radius: 2\n",
      "Circle with radius: 15\n"
     ]
    }
   ],
   "source": [
    "print(inst_1)\n",
    "print(inst_2)"
   ]
  },
  {
   "cell_type": "code",
   "execution_count": 38,
   "id": "11ed4a83-3a39-4da1-9abe-9898a22e8649",
   "metadata": {},
   "outputs": [
    {
     "data": {
      "text/plain": [
       "Circle(radius=2)"
      ]
     },
     "execution_count": 38,
     "metadata": {},
     "output_type": "execute_result"
    }
   ],
   "source": [
    "inst_1"
   ]
  },
  {
   "cell_type": "code",
   "execution_count": 39,
   "id": "bc3861d3-a9f9-42c3-9dda-41fee763caea",
   "metadata": {},
   "outputs": [
    {
     "data": {
      "text/plain": [
       "Circle(radius=15)"
      ]
     },
     "execution_count": 39,
     "metadata": {},
     "output_type": "execute_result"
    }
   ],
   "source": [
    "inst_2"
   ]
  },
  {
   "cell_type": "markdown",
   "id": "71a2ab45-6e17-43b9-9e7f-c3dd7dd7c94c",
   "metadata": {},
   "source": [
    "* To Demonstrate the property, staticmethod and classmethod methods on the instances"
   ]
  },
  {
   "cell_type": "code",
   "execution_count": 45,
   "id": "ad950b5f-f4de-4a87-b7c2-b9c72a4ace21",
   "metadata": {},
   "outputs": [
    {
     "name": "stdout",
     "output_type": "stream",
     "text": [
      "Area of inst_1: 12.6\n",
      "Circumference of inst_1: 12.6\n",
      "Diameter of inst_1: 4.0\n",
      "\n",
      "Area of inst_2: 706.9\n",
      "Circumference of inst_2: 94.2\n",
      "Diameter of inst_2: 30.0\n"
     ]
    }
   ],
   "source": [
    "\n",
    "print(f\"Area of inst_1: {inst_1.area:.1f}\")\n",
    "print(f\"Circumference of inst_1: {inst_1.circumference:.1f}\")\n",
    "print(f\"Diameter of inst_1: {inst_1.diameter:.1f}\")\n",
    "print()\n",
    "print(f\"Area of inst_2: {inst_2.area:.1f}\")\n",
    "print(f\"Circumference of inst_2: {inst_2.circumference:.1f}\")\n",
    "print(f\"Diameter of inst_2: {inst_2.diameter:.1f}\")"
   ]
  },
  {
   "cell_type": "markdown",
   "id": "6203fe2a-5df3-4807-9875-c270c8bcf000",
   "metadata": {},
   "source": [
    "* To Call the __dict__ by the class name."
   ]
  },
  {
   "cell_type": "code",
   "execution_count": 46,
   "id": "31a7ffc2-bb3a-4c64-ad58-2998ad9bfb9b",
   "metadata": {},
   "outputs": [
    {
     "name": "stdout",
     "output_type": "stream",
     "text": [
      "mappingproxy({'__dict__': <attribute '__dict__' of 'Circle' objects>,\n",
      "              '__doc__': 'A class to represent a circle with given radius and '\n",
      "                         'calculate the area, circumference, diameter  and '\n",
      "                         'volume\\n'\n",
      "                         '    ',\n",
      "              '__init__': <function Circle.__init__ at 0x000002341E805E50>,\n",
      "              '__module__': '__main__',\n",
      "              '__repr__': <function Circle.__repr__ at 0x000002342047CB80>,\n",
      "              '__str__': <function Circle.__str__ at 0x000002342047C940>,\n",
      "              '__weakref__': <attribute '__weakref__' of 'Circle' objects>,\n",
      "              'area': <property object at 0x000002341E75D130>,\n",
      "              'circumference': <property object at 0x00000234204192C0>,\n",
      "              'diameter': <property object at 0x0000023420419360>,\n",
      "              'radius': <property object at 0x0000023420419310>,\n",
      "              'unit_circle': <classmethod object at 0x000002341FBE7400>,\n",
      "              'volume': <staticmethod object at 0x000002341FBE78B0>})\n"
     ]
    }
   ],
   "source": [
    "from pprint import pprint\n",
    "pprint(Circle.__dict__)"
   ]
  },
  {
   "cell_type": "markdown",
   "id": "bea95652-ee9e-4e3e-a987-82ce408d90a4",
   "metadata": {},
   "source": [
    "Also pass the class name to the vars built-in function."
   ]
  },
  {
   "cell_type": "code",
   "execution_count": 47,
   "id": "37c69772-6a96-409e-a751-6963f7a272ca",
   "metadata": {},
   "outputs": [
    {
     "name": "stdout",
     "output_type": "stream",
     "text": [
      "mappingproxy({'__dict__': <attribute '__dict__' of 'Circle' objects>,\n",
      "              '__doc__': 'A class to represent a circle with given radius and '\n",
      "                         'calculate the area, circumference, diameter  and '\n",
      "                         'volume\\n'\n",
      "                         '    ',\n",
      "              '__init__': <function Circle.__init__ at 0x000002341E805E50>,\n",
      "              '__module__': '__main__',\n",
      "              '__repr__': <function Circle.__repr__ at 0x000002342047CB80>,\n",
      "              '__str__': <function Circle.__str__ at 0x000002342047C940>,\n",
      "              '__weakref__': <attribute '__weakref__' of 'Circle' objects>,\n",
      "              'area': <property object at 0x000002341E75D130>,\n",
      "              'circumference': <property object at 0x00000234204192C0>,\n",
      "              'diameter': <property object at 0x0000023420419360>,\n",
      "              'radius': <property object at 0x0000023420419310>,\n",
      "              'unit_circle': <classmethod object at 0x000002341FBE7400>,\n",
      "              'volume': <staticmethod object at 0x000002341FBE78B0>})\n"
     ]
    }
   ],
   "source": [
    "pprint(vars(Circle))"
   ]
  },
  {
   "cell_type": "markdown",
   "id": "e9757d98-8a70-4814-967b-e5d035a0c517",
   "metadata": {},
   "source": [
    "* To Call the __dict__ on the object of the class"
   ]
  },
  {
   "cell_type": "code",
   "execution_count": 48,
   "id": "441c80a8-1057-4eca-a858-3b6ed0a30c82",
   "metadata": {},
   "outputs": [
    {
     "name": "stdout",
     "output_type": "stream",
     "text": [
      "{'_radius': 2}\n"
     ]
    }
   ],
   "source": [
    "print(inst_1.__dict__)"
   ]
  },
  {
   "cell_type": "code",
   "execution_count": 49,
   "id": "59a5afbf-1a7d-4e77-bd59-4e9662145f08",
   "metadata": {},
   "outputs": [
    {
     "name": "stdout",
     "output_type": "stream",
     "text": [
      "{'_radius': 15}\n"
     ]
    }
   ],
   "source": [
    "print(inst_2.__dict__)"
   ]
  },
  {
   "cell_type": "markdown",
   "id": "63b72cd9-6d12-467d-bbdc-1485b2ae71d0",
   "metadata": {},
   "source": [
    "* To Pass the class name to help"
   ]
  },
  {
   "cell_type": "code",
   "execution_count": 30,
   "id": "765e9353-cf14-4eab-9c57-3a238a8c292b",
   "metadata": {},
   "outputs": [
    {
     "name": "stdout",
     "output_type": "stream",
     "text": [
      "Help on class Circle in module __main__:\n",
      "\n",
      "class Circle(builtins.object)\n",
      " |  Circle(radius: float = 1)\n",
      " |  \n",
      " |  A class to represent a circle with given radius and calculate the area, circumference, diameter  and volume\n",
      " |  \n",
      " |  Methods defined here:\n",
      " |  \n",
      " |  __init__(self, radius: float = 1)\n",
      " |      Initialize the Circle with a given radius.\n",
      " |      \n",
      " |      Parameters:\n",
      " |      radius (float): The radius of the circle. Default is 1.0.\n",
      " |  \n",
      " |  __repr__(self) -> str\n",
      " |      Return a string representation of the Circle instance.\n",
      " |  \n",
      " |  __str__(self) -> str\n",
      " |      Return a user-friendly string representation of the Circle.\n",
      " |  \n",
      " |  ----------------------------------------------------------------------\n",
      " |  Class methods defined here:\n",
      " |  \n",
      " |  unit_circle() -> 'Circle' from builtins.type\n",
      " |      Create a Circle instance with a radius of 1.\n",
      " |  \n",
      " |  ----------------------------------------------------------------------\n",
      " |  Static methods defined here:\n",
      " |  \n",
      " |  volume(height: float) -> float\n",
      " |  \n",
      " |  ----------------------------------------------------------------------\n",
      " |  Readonly properties defined here:\n",
      " |  \n",
      " |  area\n",
      " |      Calculate the area of the circle.\n",
      " |  \n",
      " |  circumference\n",
      " |      Calculate the circumference of the circle.\n",
      " |  \n",
      " |  diameter\n",
      " |      Calculate the diameter of the circle.\n",
      " |  \n",
      " |  ----------------------------------------------------------------------\n",
      " |  Data descriptors defined here:\n",
      " |  \n",
      " |  __dict__\n",
      " |      dictionary for instance variables (if defined)\n",
      " |  \n",
      " |  __weakref__\n",
      " |      list of weak references to the object (if defined)\n",
      " |  \n",
      " |  radius\n",
      " |      Get the radius of the circle.\n",
      "\n"
     ]
    }
   ],
   "source": [
    "help(Circle)"
   ]
  },
  {
   "cell_type": "code",
   "execution_count": 34,
   "id": "a127bb25-e142-496f-ba61-015706023abb",
   "metadata": {},
   "outputs": [
    {
     "name": "stdout",
     "output_type": "stream",
     "text": [
      "A class to represent a circle with given radius and calculate the area, circumference, diameter  and volume\n",
      "    \n",
      "Method: __init__, Docstring: \n",
      "        Initialize the Circle with a given radius.\n",
      "\n",
      "        Parameters:\n",
      "        radius (float): The radius of the circle. Default is 1.0.\n",
      "        , Annotations: {'radius': <class 'float'>}\n",
      "Method: volume, Docstring: None, Annotations: {'height': <class 'float'>, 'return': <class 'float'>}\n",
      "Method: area, Docstring: Calculate the area of the circle., Annotations: {'return': <class 'float'>}\n",
      "Method: circumference, Docstring: Calculate the circumference of the circle., Annotations: {'return': <class 'float'>}\n",
      "Method: diameter, Docstring: Calculate the diameter of the circle., Annotations: {'return': <class 'float'>}\n",
      "Method: __repr__, Docstring: Return a string representation of the Circle instance., Annotations: {'return': <class 'str'>}\n",
      "Method: __str__, Docstring: Return a user-friendly string representation of the Circle., Annotations: {'return': <class 'str'>}\n",
      "Method: diameter, Docstring: Calculate the diameter of the circle., Annotations: {'return': <class 'float'>}\n",
      "Method: unit_circle, Docstring: Create a Circle instance with a radius of 1., Annotations: {'return': 'Circle'}\n"
     ]
    }
   ],
   "source": [
    "print(Circle.__doc__)\n",
    "for method in [\n",
    "    Circle.__init__,\n",
    "    Circle.volume,\n",
    "    Circle.area,\n",
    "    Circle.circumference,\n",
    "    Circle.diameter,\n",
    "    Circle.__repr__,\n",
    "    Circle.__str__,\n",
    "    Circle.diameter,\n",
    "    Circle.unit_circle,]:\n",
    "    if isinstance(method, property):\n",
    "        print(f\"Method: {method.fget.__name__}, Docstring: {method.__doc__}, Annotations: {method.fget.__annotations__}\")\n",
    "    else:\n",
    "        print(f\"Method: {method.__name__}, Docstring: {method.__doc__}, Annotations: {method.__annotations__}\")"
   ]
  },
  {
   "cell_type": "markdown",
   "id": "7173bda3-d1ac-427d-8316-b2f1d9674836",
   "metadata": {},
   "source": [
    "* To Modify the __init__ by by making its parameters default and verify by instances"
   ]
  },
  {
   "cell_type": "code",
   "execution_count": 35,
   "id": "76b19db5-7f75-46d7-9173-1778ac16965b",
   "metadata": {},
   "outputs": [
    {
     "name": "stdout",
     "output_type": "stream",
     "text": [
      "Circle with radius: 1\n"
     ]
    }
   ],
   "source": [
    "inst_3 = Circle()\n",
    "print(inst_3)"
   ]
  },
  {
   "cell_type": "markdown",
   "id": "eb1b5d6e-ac76-42da-930e-264d97ae1a1d",
   "metadata": {},
   "source": [
    " **Task No 03**"
   ]
  },
  {
   "cell_type": "markdown",
   "id": "1f6d3fa5-bc99-4a2d-a201-bae612175664",
   "metadata": {},
   "source": [
    "* ***Class Definition:*** Define a class RLC with the necessary __init__ method.\n",
    "* **Property Methods:**\n",
    "* Add appropriate property methods using @property and @property.setter for resistance, inductance, and capacitance.\n",
    "*Add property methods for impedance, phase, and power factor.\n",
    "* **Instance Method:**\n",
    "* ***Current Calculation:*** Add an instance method for calculating the current in the circuit with a given input voltage.\n",
    "* **Special Methods:**\n",
    "* Implement __repr__ and __str__ methods to provide clear string representations for the class.\n",
    "* Add methods decorated with @staticmethod and @classmethod if applicable.\n",
    "* Documentation: Ensure proper annotations and docstrings for every class and instance method to enhance readability and maintainability."
   ]
  },
  {
   "cell_type": "code",
   "execution_count": 2,
   "id": "61a4fcc1-26b1-4663-b189-130241196bc4",
   "metadata": {},
   "outputs": [],
   "source": [
    "import math\n",
    "\n",
    "class RLC:\n",
    "    \"\"\"A class to represent a series RLC circuit.\"\"\"\n",
    "\n",
    "    def __init__(self, resistance: float = 1.0, inductance: float = 1.0, capacitance: float = 1.0):\n",
    "        \"\"\"\n",
    "        Initialize the RLC circuit with given resistance, inductance, and capacitance.\n",
    "\n",
    "        Parameters:\n",
    "        Resistance in ohms. Default is 1.0.\n",
    "        Inductance in henries. Default is 1.0.\n",
    "        Capacitance in farads. Default is 1.0.\n",
    "        \"\"\"\n",
    "        self.resistance = resistance\n",
    "        self.inductance = inductance\n",
    "        self.capacitance = capacitance\n",
    "\n",
    "    @property\n",
    "    def resistance(self) -> float:\n",
    "        \"\"\"Get the resistance of the circuit.\"\"\"\n",
    "        return self._resistance\n",
    "\n",
    "    @resistance.setter\n",
    "    def resistance(self, value: float) -> None:\n",
    "        \"\"\"Set the resistance of the circuit.\"\"\"\n",
    "        self._resistance = value\n",
    "\n",
    "    @property\n",
    "    def inductance(self) -> float:\n",
    "        \"\"\"Get the inductance of the circuit.\"\"\"\n",
    "        return self._inductance\n",
    "\n",
    "    @inductance.setter\n",
    "    def inductance(self, value: float) -> None:\n",
    "        \"\"\"Set the inductance of the circuit.\"\"\"\n",
    "        self._inductance = value\n",
    "\n",
    "    @property\n",
    "    def capacitance(self) -> float:\n",
    "        \"\"\"Get the capacitance of the circuit.\"\"\"\n",
    "        return self._capacitance\n",
    "\n",
    "    @capacitance.setter\n",
    "    def capacitance(self, value: float) -> None:\n",
    "        \"\"\"Set the capacitance of the circuit.\"\"\"\n",
    "        self._capacitance = value\n",
    "    @property\n",
    "    def impedance(self) -> float:\n",
    "        \"\"\"Calculate the impedance of the circuit.\"\"\"\n",
    "        reactance = (self._inductance * 2 * math.pi * 100) - (1 / (self._capacitance * 2 * math.pi * 100))\n",
    "        return math.sqrt(self._resistance ** 2 + reactance**2)\n",
    "\n",
    "    @property\n",
    "    def phase(self) -> float:\n",
    "        \"\"\"Calculate the phase angle of the circuit in radians.\"\"\"\n",
    "        reactance = (self._inductance * 2 * math.pi * 50) - (1 / (self._capacitance * 2 * math.pi * 50)) # here the frequency is 50\n",
    "        return math.atan(reactance / self._resistance)\n",
    "\n",
    "    @property\n",
    "    def power_factor(self) -> float:\n",
    "        \"\"\"Calculate the power factor of the circuit.\"\"\"\n",
    "        return (math.cos(self.phase))\n",
    "\n",
    "    def current(self, voltage: float) -> float:\n",
    "        \"\"\"\n",
    "        Calculate the current in the circuit with a given input voltage.\n",
    "\n",
    "        Parameters:\n",
    "        The input voltage in volts.\n",
    "\n",
    "        Returns:\n",
    "        float: The current in amperes.\n",
    "        \"\"\"\n",
    "        return voltage / self.impedance\n",
    "\n",
    "    @staticmethod\n",
    "    def series_RLC_from_values(resistance: float, inductance: float, capacitance: float):\n",
    "        \"\"\"\n",
    "        Create an RLC instance from resistance, inductance, and capacitance values.\n",
    "        Returns:\n",
    "        RLC: An instance of RLC.\n",
    "        \"\"\"\n",
    "        return RLC(resistance, inductance, capacitance)\n",
    "\n",
    "    @classmethod\n",
    "    def default_RLC(cls):\n",
    "        \"\"\"Create a default RLC instance with default values.\"\"\"\n",
    "        return cls()\n",
    "    def __repr__(self) -> str:\n",
    "        \"\"\"Return a string representation of the RLC instance.\"\"\"\n",
    "        return (f\"{type(self).__name__}({self._resistance} ohm,{self._inductance} H, {self._capacitance} F)\")\n",
    "\n",
    "    def __str__(self) -> str:\n",
    "        \"\"\"Return a user-friendly string representation of the RLC circuit.\"\"\"\n",
    "        return (f\"RLC Circuit with Resistance: {self._resistance} ohm,Inductance: {self._inductance} H, Capacitance: {self._capacitance} F\")"
   ]
  },
  {
   "cell_type": "markdown",
   "id": "bef5a2db-7fee-4e27-8b36-fb5861972399",
   "metadata": {},
   "source": [
    "* To Define inst_1,inst_2 and pass two numbers"
   ]
  },
  {
   "cell_type": "code",
   "execution_count": 31,
   "id": "ff0f6955-c6fc-4b43-bc0e-bcee138e9cf1",
   "metadata": {},
   "outputs": [],
   "source": [
    "inst_1 = RLC(60, 0.1, 0.001)\n",
    "inst_2 = RLC(100, 0.2, 0.002)"
   ]
  },
  {
   "cell_type": "markdown",
   "id": "b459e823-dbf7-4b78-a46b-9da15fe7cc56",
   "metadata": {},
   "source": [
    "* To Print inst_1 and inst_2, for this use the print command and pass the inst_1 and inst_2"
   ]
  },
  {
   "cell_type": "code",
   "execution_count": 32,
   "id": "d923e1a0-8d4c-4e25-8e51-797641863b65",
   "metadata": {},
   "outputs": [
    {
     "name": "stdout",
     "output_type": "stream",
     "text": [
      "RLC Circuit with Resistance: 60 ohm,Inductance: 0.1 H, Capacitance: 0.001 F\n",
      "RLC Circuit with Resistance: 100 ohm,Inductance: 0.2 H, Capacitance: 0.002 F\n"
     ]
    }
   ],
   "source": [
    "print(inst_1)\n",
    "print(inst_2)"
   ]
  },
  {
   "cell_type": "code",
   "execution_count": 33,
   "id": "fffaa961-324d-4168-994a-7b10df140019",
   "metadata": {},
   "outputs": [
    {
     "data": {
      "text/plain": [
       "RLC(60 ohm,0.1 H, 0.001 F)"
      ]
     },
     "execution_count": 33,
     "metadata": {},
     "output_type": "execute_result"
    }
   ],
   "source": [
    "inst_1"
   ]
  },
  {
   "cell_type": "code",
   "execution_count": 34,
   "id": "ff574905-4d40-40ca-99df-cde8ee9678dd",
   "metadata": {},
   "outputs": [
    {
     "data": {
      "text/plain": [
       "RLC(100 ohm,0.2 H, 0.002 F)"
      ]
     },
     "execution_count": 34,
     "metadata": {},
     "output_type": "execute_result"
    }
   ],
   "source": [
    "inst_2"
   ]
  },
  {
   "cell_type": "markdown",
   "id": "9142c78a-0ab4-4ff8-88e7-e76f8888c00b",
   "metadata": {},
   "source": [
    "* To Demonstrate the property, staticmethod and classmethod methods on the instances"
   ]
  },
  {
   "cell_type": "code",
   "execution_count": 35,
   "id": "2af60fca-35ce-4daf-9bd8-f4bbda8e93e3",
   "metadata": {},
   "outputs": [
    {
     "name": "stdout",
     "output_type": "stream",
     "text": [
      "Impedance of inst_1: 85.7 ohm\n",
      "Phase of inst_1: 0.4 radians\n",
      "Power Factor of inst_1: 0.905 W\n",
      "\n",
      "Impedance of inst_2: 160.0 ohm\n",
      "Phase of inst_2: 0.5 radians\n",
      "Power Factor of inst_2: 0.853 W\n"
     ]
    }
   ],
   "source": [
    "print(f\"Impedance of inst_1: {inst_1.impedance:.1f} ohm\")\n",
    "print(f\"Phase of inst_1: {inst_1.phase:.1f} radians\")\n",
    "print(f\"Power Factor of inst_1: {inst_1.power_factor:.3f} W\")\n",
    "print()\n",
    "print(f\"Impedance of inst_2: {inst_2.impedance:.1f} ohm\")\n",
    "print(f\"Phase of inst_2: {inst_2.phase:.1f} radians\")\n",
    "print(f\"Power Factor of inst_2: {inst_2.power_factor:.3f} W\")"
   ]
  },
  {
   "cell_type": "markdown",
   "id": "1d6cc8f6-d79a-4716-a298-a9892090de99",
   "metadata": {},
   "source": [
    "* Current with a given voltage"
   ]
  },
  {
   "cell_type": "code",
   "execution_count": 38,
   "id": "ebb55b9e-727d-48a7-b4ae-83aaa9b57920",
   "metadata": {
    "jp-MarkdownHeadingCollapsed": true
   },
   "outputs": [
    {
     "name": "stdout",
     "output_type": "stream",
     "text": [
      "Current through inst_1 with voltage 220V: 2.57A\n",
      "Current through inst_2 with voltage 130V: 0.81A\n"
     ]
    }
   ],
   "source": [
    "print(f\"Current through inst_1 with voltage {220}V: {inst_1.current(220):.2f}A\")\n",
    "print(f\"Current through inst_2 with voltage {130}V: {inst_2.current(130):.2f}A\")"
   ]
  },
  {
   "cell_type": "markdown",
   "id": "692d32c8-ee86-47b3-88b3-e99be4cd70b7",
   "metadata": {},
   "source": [
    "* Using the class method"
   ]
  },
  {
   "cell_type": "code",
   "execution_count": 39,
   "id": "7e8a3a3d-ea23-481c-b708-b57ee2192d36",
   "metadata": {},
   "outputs": [
    {
     "name": "stdout",
     "output_type": "stream",
     "text": [
      "RLC Circuit with Resistance: 1.0 ohm,Inductance: 1.0 H, Capacitance: 1.0 F\n"
     ]
    },
    {
     "data": {
      "text/plain": [
       "RLC(1.0 ohm,1.0 H, 1.0 F)"
      ]
     },
     "execution_count": 39,
     "metadata": {},
     "output_type": "execute_result"
    }
   ],
   "source": [
    "default_RLC = RLC.default_RLC()\n",
    "print(default_RLC)\n",
    "default_RLC"
   ]
  },
  {
   "cell_type": "markdown",
   "id": "b5450e86-cf51-4ce4-b6ad-75af735b8cd5",
   "metadata": {},
   "source": [
    "* To Call the __dict__ by the class name."
   ]
  },
  {
   "cell_type": "code",
   "execution_count": 40,
   "id": "18dfc6eb-da00-46c5-8032-c1a36f1abedd",
   "metadata": {},
   "outputs": [
    {
     "name": "stdout",
     "output_type": "stream",
     "text": [
      "mappingproxy({'__dict__': <attribute '__dict__' of 'RLC' objects>,\n",
      "              '__doc__': 'A class to represent a series RLC circuit.',\n",
      "              '__init__': <function RLC.__init__ at 0x000001DC999ED0D0>,\n",
      "              '__module__': '__main__',\n",
      "              '__repr__': <function RLC.__repr__ at 0x000001DC999C49D0>,\n",
      "              '__str__': <function RLC.__str__ at 0x000001DC999C45E0>,\n",
      "              '__weakref__': <attribute '__weakref__' of 'RLC' objects>,\n",
      "              'capacitance': <property object at 0x000001DC9B5F8E50>,\n",
      "              'current': <function RLC.current at 0x000001DC999C4B80>,\n",
      "              'default_RLC': <classmethod object at 0x000001DC9ACEA2B0>,\n",
      "              'impedance': <property object at 0x000001DC999C6D10>,\n",
      "              'inductance': <property object at 0x000001DC9B5F8E00>,\n",
      "              'phase': <property object at 0x000001DC9993AB80>,\n",
      "              'power_factor': <property object at 0x000001DC9B5F8EA0>,\n",
      "              'resistance': <property object at 0x000001DC9B5F8D60>,\n",
      "              'series_RLC_from_values': <staticmethod object at 0x000001DC9ACEA100>})\n"
     ]
    }
   ],
   "source": [
    "from pprint import pprint\n",
    "pprint(RLC.__dict__)"
   ]
  },
  {
   "cell_type": "markdown",
   "id": "c57bad34-a42d-43c9-b3a7-2f3f404074c3",
   "metadata": {},
   "source": [
    "* Also pass the class name to the vars built-in function"
   ]
  },
  {
   "cell_type": "code",
   "execution_count": 42,
   "id": "111ba214-efc9-47ae-8b00-9332a53a4f34",
   "metadata": {},
   "outputs": [
    {
     "name": "stdout",
     "output_type": "stream",
     "text": [
      "mappingproxy({'__dict__': <attribute '__dict__' of 'RLC' objects>,\n",
      "              '__doc__': 'A class to represent a series RLC circuit.',\n",
      "              '__init__': <function RLC.__init__ at 0x000001DC999ED0D0>,\n",
      "              '__module__': '__main__',\n",
      "              '__repr__': <function RLC.__repr__ at 0x000001DC999C49D0>,\n",
      "              '__str__': <function RLC.__str__ at 0x000001DC999C45E0>,\n",
      "              '__weakref__': <attribute '__weakref__' of 'RLC' objects>,\n",
      "              'capacitance': <property object at 0x000001DC9B5F8E50>,\n",
      "              'current': <function RLC.current at 0x000001DC999C4B80>,\n",
      "              'default_RLC': <classmethod object at 0x000001DC9ACEA2B0>,\n",
      "              'impedance': <property object at 0x000001DC999C6D10>,\n",
      "              'inductance': <property object at 0x000001DC9B5F8E00>,\n",
      "              'phase': <property object at 0x000001DC9993AB80>,\n",
      "              'power_factor': <property object at 0x000001DC9B5F8EA0>,\n",
      "              'resistance': <property object at 0x000001DC9B5F8D60>,\n",
      "              'series_RLC_from_values': <staticmethod object at 0x000001DC9ACEA100>})\n"
     ]
    }
   ],
   "source": [
    "pprint(vars(RLC))"
   ]
  },
  {
   "cell_type": "markdown",
   "id": "fd4f193b-6570-4cf1-9767-1055549d9b63",
   "metadata": {},
   "source": [
    "* To Call the __dict__ on the object of the class"
   ]
  },
  {
   "cell_type": "code",
   "execution_count": 43,
   "id": "dee3568a-831b-4551-b9a7-1304bdb93f00",
   "metadata": {},
   "outputs": [
    {
     "name": "stdout",
     "output_type": "stream",
     "text": [
      "{'_resistance': 60, '_inductance': 0.1, '_capacitance': 0.001}\n",
      "{'_resistance': 100, '_inductance': 0.2, '_capacitance': 0.002}\n"
     ]
    }
   ],
   "source": [
    "print(inst_1.__dict__)\n",
    "print(inst_2.__dict__)"
   ]
  },
  {
   "cell_type": "markdown",
   "id": "c215f447-2486-42c0-bf61-f09101c0d87f",
   "metadata": {},
   "source": [
    "* To Pass the class name to help"
   ]
  },
  {
   "cell_type": "code",
   "execution_count": 44,
   "id": "35c3fd9b-6f3c-439f-aa90-f1531f1e4465",
   "metadata": {},
   "outputs": [
    {
     "name": "stdout",
     "output_type": "stream",
     "text": [
      "Help on class RLC in module __main__:\n",
      "\n",
      "class RLC(builtins.object)\n",
      " |  RLC(resistance: float = 1.0, inductance: float = 1.0, capacitance: float = 1.0)\n",
      " |  \n",
      " |  A class to represent a series RLC circuit.\n",
      " |  \n",
      " |  Methods defined here:\n",
      " |  \n",
      " |  __init__(self, resistance: float = 1.0, inductance: float = 1.0, capacitance: float = 1.0)\n",
      " |      Initialize the RLC circuit with given resistance, inductance, and capacitance.\n",
      " |      \n",
      " |      Parameters:\n",
      " |      Resistance in ohms. Default is 1.0.\n",
      " |      Inductance in henries. Default is 1.0.\n",
      " |      Capacitance in farads. Default is 1.0.\n",
      " |  \n",
      " |  __repr__(self) -> str\n",
      " |      Return a string representation of the RLC instance.\n",
      " |  \n",
      " |  __str__(self) -> str\n",
      " |      Return a user-friendly string representation of the RLC circuit.\n",
      " |  \n",
      " |  current(self, voltage: float) -> float\n",
      " |      Calculate the current in the circuit with a given input voltage.\n",
      " |      \n",
      " |      Parameters:\n",
      " |      The input voltage in volts.\n",
      " |      \n",
      " |      Returns:\n",
      " |      float: The current in amperes.\n",
      " |  \n",
      " |  ----------------------------------------------------------------------\n",
      " |  Class methods defined here:\n",
      " |  \n",
      " |  default_RLC() from builtins.type\n",
      " |      Create a default RLC instance with default values.\n",
      " |  \n",
      " |  ----------------------------------------------------------------------\n",
      " |  Static methods defined here:\n",
      " |  \n",
      " |  series_RLC_from_values(resistance: float, inductance: float, capacitance: float)\n",
      " |      Create an RLC instance from resistance, inductance, and capacitance values.\n",
      " |      Returns:\n",
      " |      RLC: An instance of RLC.\n",
      " |  \n",
      " |  ----------------------------------------------------------------------\n",
      " |  Readonly properties defined here:\n",
      " |  \n",
      " |  impedance\n",
      " |      Calculate the impedance of the circuit.\n",
      " |  \n",
      " |  phase\n",
      " |      Calculate the phase angle of the circuit in radians.\n",
      " |  \n",
      " |  power_factor\n",
      " |      Calculate the power factor of the circuit.\n",
      " |  \n",
      " |  ----------------------------------------------------------------------\n",
      " |  Data descriptors defined here:\n",
      " |  \n",
      " |  __dict__\n",
      " |      dictionary for instance variables (if defined)\n",
      " |  \n",
      " |  __weakref__\n",
      " |      list of weak references to the object (if defined)\n",
      " |  \n",
      " |  capacitance\n",
      " |      Get the capacitance of the circuit.\n",
      " |  \n",
      " |  inductance\n",
      " |      Get the inductance of the circuit.\n",
      " |  \n",
      " |  resistance\n",
      " |      Get the resistance of the circuit.\n",
      "\n"
     ]
    }
   ],
   "source": [
    "help(RLC)"
   ]
  },
  {
   "cell_type": "markdown",
   "id": "dbcc5475-e30d-4ba5-842f-934a31839d66",
   "metadata": {},
   "source": [
    "* To Print the doc-string and annotations of both the class and each instance method."
   ]
  },
  {
   "cell_type": "code",
   "execution_count": 45,
   "id": "2943182e-61ae-4628-a4d3-15df145d106c",
   "metadata": {},
   "outputs": [
    {
     "name": "stdout",
     "output_type": "stream",
     "text": [
      "A class to represent a series RLC circuit.\n",
      "Method: __init__, Docstring: \n",
      "        Initialize the RLC circuit with given resistance, inductance, and capacitance.\n",
      "\n",
      "        Parameters:\n",
      "        Resistance in ohms. Default is 1.0.\n",
      "        Inductance in henries. Default is 1.0.\n",
      "        Capacitance in farads. Default is 1.0.\n",
      "        , Annotations: {'resistance': <class 'float'>, 'inductance': <class 'float'>, 'capacitance': <class 'float'>}\n",
      "Method: impedance, Docstring: Calculate the impedance of the circuit., Annotations: {'return': <class 'float'>}\n",
      "Method: phase, Docstring: Calculate the phase angle of the circuit in radians., Annotations: {'return': <class 'float'>}\n",
      "Method: power_factor, Docstring: Calculate the power factor of the circuit., Annotations: {'return': <class 'float'>}\n",
      "Method: series_RLC_from_values, Docstring: \n",
      "        Create an RLC instance from resistance, inductance, and capacitance values.\n",
      "        Returns:\n",
      "        RLC: An instance of RLC.\n",
      "        , Annotations: {'resistance': <class 'float'>, 'inductance': <class 'float'>, 'capacitance': <class 'float'>}\n",
      "Method: __repr__, Docstring: Return a string representation of the RLC instance., Annotations: {'return': <class 'str'>}\n",
      "Method: __str__, Docstring: Return a user-friendly string representation of the RLC circuit., Annotations: {'return': <class 'str'>}\n",
      "Method: default_RLC, Docstring: Create a default RLC instance with default values., Annotations: {}\n"
     ]
    }
   ],
   "source": [
    "print(RLC.__doc__)\n",
    "for method in [\n",
    "    RLC.__init__,\n",
    "    RLC.impedance,\n",
    "    RLC.phase,\n",
    "    RLC.power_factor,\n",
    "    RLC.series_RLC_from_values,\n",
    "    RLC.__repr__,\n",
    "    RLC.__str__,\n",
    "    RLC.default_RLC,\n",
    "]:\n",
    "    if isinstance(method, property):\n",
    "        print(f\"Method: {method.fget.__name__}, Docstring: {method.__doc__}, Annotations: {method.fget.__annotations__}\")\n",
    "    else:\n",
    "        print(f\"Method: {method.__name__}, Docstring: {method.__doc__}, Annotations: {method.__annotations__}\")"
   ]
  },
  {
   "cell_type": "markdown",
   "id": "328fb3ce-c9df-4246-9ecb-ee68253b38be",
   "metadata": {},
   "source": [
    "* To Modify the __init__3 by by making its parameters default and verify by instances."
   ]
  },
  {
   "cell_type": "code",
   "execution_count": 46,
   "id": "5e24f603-71b5-4522-9a65-5467583e2656",
   "metadata": {},
   "outputs": [
    {
     "name": "stdout",
     "output_type": "stream",
     "text": [
      "RLC Circuit with Resistance: 1.0 ohm,Inductance: 1.0 H, Capacitance: 1.0 F\n"
     ]
    }
   ],
   "source": [
    "inst_3 = RLC() \n",
    "print(inst_3)"
   ]
  },
  {
   "cell_type": "markdown",
   "id": "8c4a0e2c-7381-4ddb-8ebf-a579b61d569e",
   "metadata": {},
   "source": [
    " **Task No 04**"
   ]
  },
  {
   "cell_type": "markdown",
   "id": "914d4f03-498f-40db-87c9-119f5a347982",
   "metadata": {},
   "source": [
    "***Note:***  *Please make a class for each of the following using the detail procedure from the above tasks*."
   ]
  },
  {
   "cell_type": "markdown",
   "id": "51afa6d0-1067-4679-a412-70d3fac39c20",
   "metadata": {},
   "source": [
    "**Math:**\n",
    "* **Square:** *A four-sided polygon (quadrilateral) with all sides of equal length and all angles equal to 90 degrees.*\n",
    "* **Rectangle:** *A four-sided polygon where opposite sides are equal in length and all angles are equal to 90 degrees.*\n",
    "* **Triangle:** *A three-sided polygon with three edges and three vertices. Various types include equilateral, isosceles, and scalene.*\n",
    "* **Trapezoid:** *(US) / Trapezium (UK): A four-sided figure with at least one pair of parallel sides.*\n",
    "* **Parallelogram:** *A four-sided shape with opposite sides that are equal in length and parallel.*\n",
    "* **Rhombus:** *A parallelogram where all sides are of equal length, but the angles are not necessarily 90 degrees.*\n",
    "* ***These shapes serve as building blocks for more complex forms in geometry and design.***"
   ]
  },
  {
   "cell_type": "markdown",
   "id": "b8a828f6-37f5-48fa-a4ef-7fc1197d4d45",
   "metadata": {},
   "source": [
    " **1.** ***Square***"
   ]
  },
  {
   "cell_type": "code",
   "execution_count": 53,
   "id": "4d3c9cff-f8c0-40fe-a9b5-e62f4a7ab038",
   "metadata": {},
   "outputs": [],
   "source": [
    "class Square:\n",
    "    \"\"\"A class which represent Square: A four-sided polygon (quadrilateral) with all sides of equal length and all angles equal to 90 degrees.\n",
    "    \"\"\"\n",
    "    def __init__(self, side_length: float = 1.0) -> None:\n",
    "        \"\"\" To initiate the class with parameter side_length in  float an default valur (1.0)\n",
    "        \"\"\"\n",
    "        self.side_length = side_length\n",
    "    @property\n",
    "    def side_length(self) -> float:\n",
    "        \"\"\"To get the side length of square\"\"\"\n",
    "        return self._side_length\n",
    "    @side_length.setter\n",
    "    def side_length(self, value: float) -> None:\n",
    "        \"\"\"To set the side length square\"\"\"\n",
    "        self._side_length = value\n",
    "    @property\n",
    "    def area(self) -> float:\n",
    "        \"\"\"To calculate the  area of the square\"\"\"\n",
    "        return self.side_length ** 2\n",
    "    @property\n",
    "    def perimeter(self) -> float:\n",
    "        \"\"\"To calculate the perimeter of the square\"\"\"\n",
    "        return 4 * self.side_length\n",
    "    def __repr__(self) -> str:\n",
    "        \"\"\"Return a string representation of the Square.\"\"\"\n",
    "        return f\"{type(self).__name__}({self.side_length})\"\n",
    "    def __str__(self) -> str:\n",
    "        \"\"\"Return a user-friendly string representation of the Square.\"\"\"\n",
    "        return f\"Square with side length: {self.side_length}\"\n"
   ]
  },
  {
   "cell_type": "code",
   "execution_count": 67,
   "id": "33447198-4e18-4908-a1cd-26bc6bcda0bb",
   "metadata": {},
   "outputs": [],
   "source": [
    "s_1 = Square(10)\n",
    "s_2= Square(6)"
   ]
  },
  {
   "cell_type": "code",
   "execution_count": 68,
   "id": "da49f8d4-0d1c-47a4-916b-1962325b3944",
   "metadata": {},
   "outputs": [
    {
     "name": "stdout",
     "output_type": "stream",
     "text": [
      "Square with side length: 10\n",
      "Square with side length: 6\n"
     ]
    }
   ],
   "source": [
    "print(s_1)\n",
    "print(s_2)"
   ]
  },
  {
   "cell_type": "code",
   "execution_count": 69,
   "id": "79588ef0-7102-4258-84ce-50e5eedeb1ad",
   "metadata": {},
   "outputs": [
    {
     "data": {
      "text/plain": [
       "Square(10)"
      ]
     },
     "execution_count": 69,
     "metadata": {},
     "output_type": "execute_result"
    }
   ],
   "source": [
    "s_1"
   ]
  },
  {
   "cell_type": "code",
   "execution_count": 70,
   "id": "b14c4715-70bd-42f0-a0d7-efd3a57ca5ad",
   "metadata": {},
   "outputs": [
    {
     "data": {
      "text/plain": [
       "Square(6)"
      ]
     },
     "execution_count": 70,
     "metadata": {},
     "output_type": "execute_result"
    }
   ],
   "source": [
    "s_2"
   ]
  },
  {
   "cell_type": "code",
   "execution_count": 71,
   "id": "0d619a65-7772-4239-b7e4-91585ff90191",
   "metadata": {},
   "outputs": [
    {
     "name": "stdout",
     "output_type": "stream",
     "text": [
      "mappingproxy({'__dict__': <attribute '__dict__' of 'Square' objects>,\n",
      "              '__doc__': 'A class which represent Square: A four-sided polygon '\n",
      "                         '(quadrilateral) with all sides of equal length and '\n",
      "                         'all angles equal to 90 degrees.\\n'\n",
      "                         '    ',\n",
      "              '__init__': <function Square.__init__ at 0x000001DC9B610160>,\n",
      "              '__module__': '__main__',\n",
      "              '__repr__': <function Square.__repr__ at 0x000001DC9B610430>,\n",
      "              '__str__': <function Square.__str__ at 0x000001DC9B6104C0>,\n",
      "              '__weakref__': <attribute '__weakref__' of 'Square' objects>,\n",
      "              'area': <property object at 0x000001DC9B5F8590>,\n",
      "              'perimeter': <property object at 0x000001DC9B5F8A40>,\n",
      "              'side_length': <property object at 0x000001DC9B5F8720>})\n"
     ]
    }
   ],
   "source": [
    "from pprint import pprint\n",
    "pprint(Square.__dict__)"
   ]
  },
  {
   "cell_type": "code",
   "execution_count": 72,
   "id": "bfad97bd-f9a7-4b02-bb0c-f286eec37f09",
   "metadata": {},
   "outputs": [
    {
     "name": "stdout",
     "output_type": "stream",
     "text": [
      "mappingproxy({'__dict__': <attribute '__dict__' of 'Square' objects>,\n",
      "              '__doc__': 'A class which represent Square: A four-sided polygon '\n",
      "                         '(quadrilateral) with all sides of equal length and '\n",
      "                         'all angles equal to 90 degrees.\\n'\n",
      "                         '    ',\n",
      "              '__init__': <function Square.__init__ at 0x000001DC9B610160>,\n",
      "              '__module__': '__main__',\n",
      "              '__repr__': <function Square.__repr__ at 0x000001DC9B610430>,\n",
      "              '__str__': <function Square.__str__ at 0x000001DC9B6104C0>,\n",
      "              '__weakref__': <attribute '__weakref__' of 'Square' objects>,\n",
      "              'area': <property object at 0x000001DC9B5F8590>,\n",
      "              'perimeter': <property object at 0x000001DC9B5F8A40>,\n",
      "              'side_length': <property object at 0x000001DC9B5F8720>})\n"
     ]
    }
   ],
   "source": [
    "pprint(vars(Square))"
   ]
  },
  {
   "cell_type": "code",
   "execution_count": 73,
   "id": "72190119-2387-42aa-ad5a-f430e0e17f89",
   "metadata": {},
   "outputs": [
    {
     "name": "stdout",
     "output_type": "stream",
     "text": [
      "{'_side_length': 10}\n",
      "{'_side_length': 6}\n"
     ]
    }
   ],
   "source": [
    "print(s_1.__dict__)\n",
    "print(s_2.__dict__)"
   ]
  },
  {
   "cell_type": "code",
   "execution_count": 74,
   "id": "d3d0f6f9-b91b-458e-bb19-b1a3b38631f1",
   "metadata": {},
   "outputs": [
    {
     "name": "stdout",
     "output_type": "stream",
     "text": [
      "Help on class Square in module __main__:\n",
      "\n",
      "class Square(builtins.object)\n",
      " |  Square(side_length: float = 1.0) -> None\n",
      " |  \n",
      " |  A class which represent Square: A four-sided polygon (quadrilateral) with all sides of equal length and all angles equal to 90 degrees.\n",
      " |  \n",
      " |  Methods defined here:\n",
      " |  \n",
      " |  __init__(self, side_length: float = 1.0) -> None\n",
      " |      To initiate the class with parameter side_length in  float an default valur (1.0)\n",
      " |  \n",
      " |  __repr__(self) -> str\n",
      " |      Return a string representation of the Square.\n",
      " |  \n",
      " |  __str__(self) -> str\n",
      " |      Return a user-friendly string representation of the Square.\n",
      " |  \n",
      " |  ----------------------------------------------------------------------\n",
      " |  Readonly properties defined here:\n",
      " |  \n",
      " |  area\n",
      " |      To calculate the  area of the square\n",
      " |  \n",
      " |  perimeter\n",
      " |      To calculate the perimeter of the square\n",
      " |  \n",
      " |  ----------------------------------------------------------------------\n",
      " |  Data descriptors defined here:\n",
      " |  \n",
      " |  __dict__\n",
      " |      dictionary for instance variables (if defined)\n",
      " |  \n",
      " |  __weakref__\n",
      " |      list of weak references to the object (if defined)\n",
      " |  \n",
      " |  side_length\n",
      " |      To get the side length of square\n",
      "\n"
     ]
    }
   ],
   "source": [
    "help(Square)"
   ]
  },
  {
   "cell_type": "code",
   "execution_count": 75,
   "id": "8eacaeb7-7e05-486a-a1b0-b221d6e1878a",
   "metadata": {},
   "outputs": [
    {
     "name": "stdout",
     "output_type": "stream",
     "text": [
      "A class which represent Square: A four-sided polygon (quadrilateral) with all sides of equal length and all angles equal to 90 degrees.\n",
      "    \n",
      "Method: __init__, Docstring:  To initiate the class with parameter side_length in  float an default valur (1.0)\n",
      "        , Annotations: {'side_length': <class 'float'>, 'return': None}\n",
      "Method: area, Docstring: To calculate the  area of the square, Annotations: {'return': <class 'float'>}\n",
      "Method: perimeter, Docstring: To calculate the perimeter of the square, Annotations: {'return': <class 'float'>}\n",
      "Method: __repr__, Docstring: Return a string representation of the Square., Annotations: {'return': <class 'str'>}\n",
      "Method: __str__, Docstring: Return a user-friendly string representation of the Square., Annotations: {'return': <class 'str'>}\n"
     ]
    }
   ],
   "source": [
    "print(Square.__doc__)\n",
    "for method in [\n",
    "    Square.__init__,\n",
    "    Square.area,\n",
    "    Square.perimeter,\n",
    "    Square.__repr__,\n",
    "    Square.__str__,\n",
    "]:\n",
    "    if isinstance(method, property):\n",
    "        print(f\"Method: {method.fget.__name__}, Docstring: {method.__doc__}, Annotations: {method.fget.__annotations__}\")\n",
    "    else:\n",
    "        print(f\"Method: {method.__name__}, Docstring: {method.__doc__}, Annotations: {method.__annotations__}\")"
   ]
  },
  {
   "cell_type": "code",
   "execution_count": 76,
   "id": "54953f7c-6ddc-40f3-937b-97ff56a44918",
   "metadata": {},
   "outputs": [],
   "source": [
    "s_3 = Square()"
   ]
  },
  {
   "cell_type": "code",
   "execution_count": 77,
   "id": "bc4e8e1e-0b65-49d5-959d-5b1699a928a8",
   "metadata": {},
   "outputs": [
    {
     "name": "stdout",
     "output_type": "stream",
     "text": [
      "Square with side length: 1.0\n"
     ]
    },
    {
     "data": {
      "text/plain": [
       "Square(1.0)"
      ]
     },
     "execution_count": 77,
     "metadata": {},
     "output_type": "execute_result"
    }
   ],
   "source": [
    "print(s_3)\n",
    "s_3"
   ]
  },
  {
   "cell_type": "markdown",
   "id": "15534f4f-d4a7-4c64-82d1-0842b62a13f0",
   "metadata": {},
   "source": [
    "**2.** ***Rectangle***"
   ]
  },
  {
   "cell_type": "code",
   "execution_count": 84,
   "id": "ce81d499-b4bd-497d-a891-9ebef3a72c12",
   "metadata": {},
   "outputs": [],
   "source": [
    "class Rectangle:\n",
    "    \"\"\"A class which represent Rectangle: A four-sided polygon where opposite sides are equal in length and all angles are equal to 90 degrees.\"\"\"\n",
    "    def __init__(self, width: float = 1.0, height: float = 1.0) -> None:\n",
    "        \"\"\"initiate the class with parameters and its default values\"\"\"\n",
    "        self.width = width\n",
    "        self.height = height\n",
    "    @property\n",
    "    def width(self) -> float:\n",
    "        \"\"\"To get the width of the Rectangle\"\"\"\n",
    "        return self._width\n",
    "    @width.setter\n",
    "    def width(self, value: float) -> None:\n",
    "        \"\"\"To set the width of the Rectangle\"\"\"\n",
    "\n",
    "        self._width = value\n",
    "    @property\n",
    "    def height(self) -> float:\n",
    "        \"\"\"To get the heigth of Rectangle\"\"\"\n",
    "        return self._height\n",
    "    @height.setter\n",
    "    def height(self, value: float) -> None:\n",
    "        \"\"\"To get the heigth of Rectangle\"\"\"\n",
    "        self._height = value\n",
    "    @property\n",
    "    def area(self) -> float:\n",
    "        \"\"\"To calculate the area of the Rectangle\"\"\"\n",
    "        return self.width * self.height\n",
    "    @property\n",
    "    def perimeter(self) -> float:\n",
    "        \"\"\"To calculate the perimeter of the square\"\"\"\n",
    "        return 2 * (self.width + self.height)\n",
    "\n",
    "    def __repr__(self) -> str:\n",
    "        \"\"\"Return a string representation of the Square\"\"\"\n",
    "        return f\"{type(self).__name__}({self.width}, height={self.height})\"\n",
    "\n",
    "    def __str__(self) -> str:\n",
    "        \"\"\"Return a use-friendly representation of the Squared\"\"\"\n",
    "        return f\"Rectangle with width: {self.width}, height: {self.height}, area: {self.area}, perimeter: {self.perimeter}\"\n"
   ]
  },
  {
   "cell_type": "code",
   "execution_count": 93,
   "id": "107ec38a-0b88-49b0-85d9-52126ce50d64",
   "metadata": {},
   "outputs": [],
   "source": [
    "R_1 = Rectangle(5, 9)\n",
    "R_2 = Rectangle(6, 10)"
   ]
  },
  {
   "cell_type": "code",
   "execution_count": 94,
   "id": "5aca219e-b101-4421-b2a5-9f66ffda30bf",
   "metadata": {},
   "outputs": [
    {
     "name": "stdout",
     "output_type": "stream",
     "text": [
      "Rectangle with width: 5, height: 9, area: 45, perimeter: 28\n",
      "Rectangle with width: 6, height: 10, area: 60, perimeter: 32\n"
     ]
    }
   ],
   "source": [
    "print(R_1)\n",
    "print(R_2)"
   ]
  },
  {
   "cell_type": "code",
   "execution_count": 95,
   "id": "260b9a38-afcf-42b9-82bd-f00000d33700",
   "metadata": {},
   "outputs": [
    {
     "data": {
      "text/plain": [
       "Rectangle(5, height=9)"
      ]
     },
     "execution_count": 95,
     "metadata": {},
     "output_type": "execute_result"
    }
   ],
   "source": [
    "R_1"
   ]
  },
  {
   "cell_type": "code",
   "execution_count": 96,
   "id": "10a41e44-7a2b-4be6-a8be-26b5c634fb0a",
   "metadata": {},
   "outputs": [
    {
     "data": {
      "text/plain": [
       "Rectangle(6, height=10)"
      ]
     },
     "execution_count": 96,
     "metadata": {},
     "output_type": "execute_result"
    }
   ],
   "source": [
    "R_2"
   ]
  },
  {
   "cell_type": "code",
   "execution_count": 97,
   "id": "1cc2ae94-fe96-4852-a8ad-5ddaca94617b",
   "metadata": {},
   "outputs": [
    {
     "name": "stdout",
     "output_type": "stream",
     "text": [
      "mappingproxy({'__dict__': <attribute '__dict__' of 'Rectangle' objects>,\n",
      "              '__doc__': 'A class which represent Rectangle: A four-sided '\n",
      "                         'polygon where opposite sides are equal in length and '\n",
      "                         'all angles are equal to 90 degrees.',\n",
      "              '__init__': <function Rectangle.__init__ at 0x000001DC9B5DF940>,\n",
      "              '__module__': '__main__',\n",
      "              '__repr__': <function Rectangle.__repr__ at 0x000001DC9B618550>,\n",
      "              '__str__': <function Rectangle.__str__ at 0x000001DC9B6185E0>,\n",
      "              '__weakref__': <attribute '__weakref__' of 'Rectangle' objects>,\n",
      "              'area': <property object at 0x000001DC9B5F8CC0>,\n",
      "              'height': <property object at 0x000001DC9B619E00>,\n",
      "              'perimeter': <property object at 0x000001DC9B619D60>,\n",
      "              'width': <property object at 0x000001DC9B619DB0>})\n"
     ]
    }
   ],
   "source": [
    "from pprint import pprint\n",
    "pprint(Rectangle.__dict__)"
   ]
  },
  {
   "cell_type": "code",
   "execution_count": 98,
   "id": "e4b8ce0c-8acd-42a3-95bd-9c9a89d91bc1",
   "metadata": {},
   "outputs": [
    {
     "name": "stdout",
     "output_type": "stream",
     "text": [
      "mappingproxy({'__dict__': <attribute '__dict__' of 'Rectangle' objects>,\n",
      "              '__doc__': 'A class which represent Rectangle: A four-sided '\n",
      "                         'polygon where opposite sides are equal in length and '\n",
      "                         'all angles are equal to 90 degrees.',\n",
      "              '__init__': <function Rectangle.__init__ at 0x000001DC9B5DF940>,\n",
      "              '__module__': '__main__',\n",
      "              '__repr__': <function Rectangle.__repr__ at 0x000001DC9B618550>,\n",
      "              '__str__': <function Rectangle.__str__ at 0x000001DC9B6185E0>,\n",
      "              '__weakref__': <attribute '__weakref__' of 'Rectangle' objects>,\n",
      "              'area': <property object at 0x000001DC9B5F8CC0>,\n",
      "              'height': <property object at 0x000001DC9B619E00>,\n",
      "              'perimeter': <property object at 0x000001DC9B619D60>,\n",
      "              'width': <property object at 0x000001DC9B619DB0>})\n"
     ]
    }
   ],
   "source": [
    "pprint(vars(Rectangle))"
   ]
  },
  {
   "cell_type": "code",
   "execution_count": 99,
   "id": "6619f435-b634-47a8-971f-296277db35c0",
   "metadata": {},
   "outputs": [
    {
     "name": "stdout",
     "output_type": "stream",
     "text": [
      "{'_width': 5, '_height': 9}\n",
      "{'_width': 6, '_height': 10}\n"
     ]
    }
   ],
   "source": [
    "print(R_1.__dict__)\n",
    "print(R_2.__dict__)"
   ]
  },
  {
   "cell_type": "code",
   "execution_count": 100,
   "id": "3b9cb540-4c57-4ec3-a1f4-bcc0f3fecd56",
   "metadata": {},
   "outputs": [
    {
     "name": "stdout",
     "output_type": "stream",
     "text": [
      "Help on class Rectangle in module __main__:\n",
      "\n",
      "class Rectangle(builtins.object)\n",
      " |  Rectangle(width: float = 1.0, height: float = 1.0) -> None\n",
      " |  \n",
      " |  A class which represent Rectangle: A four-sided polygon where opposite sides are equal in length and all angles are equal to 90 degrees.\n",
      " |  \n",
      " |  Methods defined here:\n",
      " |  \n",
      " |  __init__(self, width: float = 1.0, height: float = 1.0) -> None\n",
      " |      initiate the class with parameters and its default values\n",
      " |  \n",
      " |  __repr__(self) -> str\n",
      " |      Return a string representation of the Square\n",
      " |  \n",
      " |  __str__(self) -> str\n",
      " |      Return a use-friendly representation of the Squared\n",
      " |  \n",
      " |  ----------------------------------------------------------------------\n",
      " |  Readonly properties defined here:\n",
      " |  \n",
      " |  area\n",
      " |      To calculate the area of the Rectangle\n",
      " |  \n",
      " |  perimeter\n",
      " |      To calculate the perimeter of the square\n",
      " |  \n",
      " |  ----------------------------------------------------------------------\n",
      " |  Data descriptors defined here:\n",
      " |  \n",
      " |  __dict__\n",
      " |      dictionary for instance variables (if defined)\n",
      " |  \n",
      " |  __weakref__\n",
      " |      list of weak references to the object (if defined)\n",
      " |  \n",
      " |  height\n",
      " |      To get the heigth of Rectangle\n",
      " |  \n",
      " |  width\n",
      " |      To get the width of the Rectangle\n",
      "\n"
     ]
    }
   ],
   "source": [
    "help(Rectangle)"
   ]
  },
  {
   "cell_type": "code",
   "execution_count": 101,
   "id": "89c09de0-b825-4d38-a4ad-e280ff8d9270",
   "metadata": {},
   "outputs": [
    {
     "name": "stdout",
     "output_type": "stream",
     "text": [
      "A class which represent Rectangle: A four-sided polygon where opposite sides are equal in length and all angles are equal to 90 degrees.\n",
      "Method: __init__,   Docstring: initiate the class with parameters and its default values,   Annotations: {'width': <class 'float'>, 'height': <class 'float'>, 'return': None}\n",
      "Method: area,    Docstring: To calculate the area of the Rectangle,     Annotations: {'return': <class 'float'>}\n",
      "Method: perimeter,    Docstring: To calculate the perimeter of the square,     Annotations: {'return': <class 'float'>}\n",
      "Method: __repr__,   Docstring: Return a string representation of the Square,   Annotations: {'return': <class 'str'>}\n",
      "Method: __str__,   Docstring: Return a use-friendly representation of the Squared,   Annotations: {'return': <class 'str'>}\n"
     ]
    }
   ],
   "source": [
    "print(Rectangle.__doc__)\n",
    "for method in [\n",
    "    Rectangle.__init__,\n",
    "    Rectangle.area,\n",
    "    Rectangle.perimeter,\n",
    "    Rectangle.__repr__,\n",
    "    Rectangle.__str__,\n",
    "]:\n",
    "    if isinstance(method, property):\n",
    "        print(f\"Method: {method.fget.__name__},    Docstring: {method.__doc__},     Annotations: {method.fget.__annotations__}\")\n",
    "    else:\n",
    "        print(f\"Method: {method.__name__},   Docstring: {method.__doc__},   Annotations: {method.__annotations__}\")"
   ]
  },
  {
   "cell_type": "code",
   "execution_count": 102,
   "id": "b5264a7d-b80b-4449-a80e-258fe325a303",
   "metadata": {},
   "outputs": [
    {
     "name": "stdout",
     "output_type": "stream",
     "text": [
      "Rectangle with width: 1.0, height: 1.0, area: 1.0, perimeter: 4.0\n"
     ]
    },
    {
     "data": {
      "text/plain": [
       "Rectangle(1.0, height=1.0)"
      ]
     },
     "execution_count": 102,
     "metadata": {},
     "output_type": "execute_result"
    }
   ],
   "source": [
    "R_3 = Rectangle()\n",
    "print(R_3)\n",
    "R_3"
   ]
  },
  {
   "cell_type": "markdown",
   "id": "fab77b24-70bc-4e12-a4ad-8c974c3b36db",
   "metadata": {},
   "source": [
    " **3:** ***Triangle***"
   ]
  },
  {
   "cell_type": "code",
   "execution_count": 238,
   "id": "40e6d4c7-c26a-49af-ac4b-65f1822e5988",
   "metadata": {},
   "outputs": [],
   "source": [
    "import math\n",
    "class Triangle:\n",
    "    \"\"\"A class which represent Triangle: A three-sided polygon with three edges and three vertices. Various types include equilateral, isosceles, and scalene.\"\"\"\n",
    "    def __init__(self, a: float = 1.0, b: float = 1.0, c: float = 1.0) -> None:\n",
    "        \"\"\"To initiate the class (Triangle) and the given parameters with  default value\"\"\"\n",
    "        self.a = a\n",
    "        self.b = b\n",
    "        self.c = c\n",
    "\n",
    "    @property\n",
    "    def a(self) -> float:\n",
    "        \"\"\"To get the a side of the Triangle\"\"\"\n",
    "        return self._a\n",
    "\n",
    "    @a.setter\n",
    "    def a(self, value: float) -> None:\n",
    "        \"\"\"To set the a side of  the Triangle\"\"\"\n",
    "        self._a = value\n",
    "\n",
    "    @property\n",
    "    def b(self) -> float:\n",
    "        \"\"\"To get the b side of the Triangle\"\"\"\n",
    "        return self._b\n",
    "\n",
    "    @b.setter\n",
    "    def b(self, value: float) -> None:\n",
    "        \"\"\"To set the b side of the Triangle\"\"\"\n",
    "        self._b = value\n",
    "\n",
    "    @property\n",
    "    def c(self) -> float:\n",
    "        \"\"\"To  get the c side of the Triangle\"\"\"\n",
    "        return self._c\n",
    "\n",
    "    @c.setter\n",
    "    def c(self, value: float) -> None:\n",
    "        \"\"\"To set the c side of the Triangle\"\"\"\n",
    "        self._c = value\n",
    "\n",
    "    @property\n",
    "    def area(self) -> float:\n",
    "        \"\"\"To calculate the area of the Triangle\"\"\"\n",
    "        s = (self.a + self.b + self.c) / 2\n",
    "        return math.sqrt(s * (s - self.a) * (s - self.b) * (s - self.c))\n",
    "\n",
    "    @property\n",
    "    def perimeter(self) -> float:\n",
    "        \"\"\"To calculate the perimeter of the  Triangle\"\"\"\n",
    "        return self.a + self.b + self.c\n",
    "\n",
    "    def __repr__(self) -> str:\n",
    "        \"\"\"Return a string representation of the Triangle \"\"\"\n",
    "        return f\"{type(self).__name__}(a={self.a}, b={self.b}, c={self.c})\"\n",
    "\n",
    "    def __str__(self) -> str:\n",
    "        \"\"\"Return a use-friendly  representation of the Triangle\"\"\"\n",
    "        return (f\"Triangle with sides: a={self.a}, b={self.b}, c={self.c}\")\n"
   ]
  },
  {
   "cell_type": "code",
   "execution_count": 107,
   "id": "f30b2135-f066-47c8-a322-e12b91dd47e6",
   "metadata": {},
   "outputs": [],
   "source": [
    "T_1= Triangle(4, 6, 8)\n",
    "T_2 = Triangle( 5, 7, 9)"
   ]
  },
  {
   "cell_type": "code",
   "execution_count": 108,
   "id": "1181d000-a17d-42d3-8b78-aa94d5b3a9ad",
   "metadata": {},
   "outputs": [
    {
     "name": "stdout",
     "output_type": "stream",
     "text": [
      "Triangle with sides: a=4, b=6, c=8\n",
      "Triangle with sides: a=5, b=7, c=9\n"
     ]
    }
   ],
   "source": [
    "print(T_1)\n",
    "print(T_2)"
   ]
  },
  {
   "cell_type": "code",
   "execution_count": 109,
   "id": "6822a9f7-2137-403c-b1cd-253bad46df05",
   "metadata": {},
   "outputs": [
    {
     "data": {
      "text/plain": [
       "Triangle(a=4, b=6, c=8)"
      ]
     },
     "execution_count": 109,
     "metadata": {},
     "output_type": "execute_result"
    }
   ],
   "source": [
    "T_1"
   ]
  },
  {
   "cell_type": "code",
   "execution_count": 110,
   "id": "f549ef7a-8446-4043-b23c-079d234c3671",
   "metadata": {},
   "outputs": [
    {
     "data": {
      "text/plain": [
       "Triangle(a=5, b=7, c=9)"
      ]
     },
     "execution_count": 110,
     "metadata": {},
     "output_type": "execute_result"
    }
   ],
   "source": [
    "T_2"
   ]
  },
  {
   "cell_type": "code",
   "execution_count": 111,
   "id": "f2194886-d966-493a-9973-223e8913b80a",
   "metadata": {},
   "outputs": [
    {
     "name": "stdout",
     "output_type": "stream",
     "text": [
      "mappingproxy({'__dict__': <attribute '__dict__' of 'Triangle' objects>,\n",
      "              '__doc__': 'A class which represent Triangle: A three-sided '\n",
      "                         'polygon with three edges and three vertices. Various '\n",
      "                         'types include equilateral, isosceles, and scalene.',\n",
      "              '__init__': <function Triangle.__init__ at 0x000001DC9B618D30>,\n",
      "              '__module__': '__main__',\n",
      "              '__repr__': <function Triangle.__repr__ at 0x000001DC9B628040>,\n",
      "              '__str__': <function Triangle.__str__ at 0x000001DC9B6280D0>,\n",
      "              '__weakref__': <attribute '__weakref__' of 'Triangle' objects>,\n",
      "              'a': <property object at 0x000001DC9B627040>,\n",
      "              'area': <property object at 0x000001DC9B5FBCC0>,\n",
      "              'b': <property object at 0x000001DC9B627090>,\n",
      "              'c': <property object at 0x000001DC9B6270E0>,\n",
      "              'perimeter': <property object at 0x000001DC9B624F90>})\n"
     ]
    }
   ],
   "source": [
    "from pprint import pprint\n",
    "pprint(Triangle.__dict__)"
   ]
  },
  {
   "cell_type": "code",
   "execution_count": 112,
   "id": "46fd434b-641f-454a-b4cf-0a878574aab4",
   "metadata": {},
   "outputs": [
    {
     "name": "stdout",
     "output_type": "stream",
     "text": [
      "mappingproxy({'__dict__': <attribute '__dict__' of 'Triangle' objects>,\n",
      "              '__doc__': 'A class which represent Triangle: A three-sided '\n",
      "                         'polygon with three edges and three vertices. Various '\n",
      "                         'types include equilateral, isosceles, and scalene.',\n",
      "              '__init__': <function Triangle.__init__ at 0x000001DC9B618D30>,\n",
      "              '__module__': '__main__',\n",
      "              '__repr__': <function Triangle.__repr__ at 0x000001DC9B628040>,\n",
      "              '__str__': <function Triangle.__str__ at 0x000001DC9B6280D0>,\n",
      "              '__weakref__': <attribute '__weakref__' of 'Triangle' objects>,\n",
      "              'a': <property object at 0x000001DC9B627040>,\n",
      "              'area': <property object at 0x000001DC9B5FBCC0>,\n",
      "              'b': <property object at 0x000001DC9B627090>,\n",
      "              'c': <property object at 0x000001DC9B6270E0>,\n",
      "              'perimeter': <property object at 0x000001DC9B624F90>})\n"
     ]
    }
   ],
   "source": [
    "pprint(vars(Triangle))"
   ]
  },
  {
   "cell_type": "code",
   "execution_count": 113,
   "id": "e826ec6a-1dc9-4805-a9d9-8378d8462050",
   "metadata": {},
   "outputs": [
    {
     "name": "stdout",
     "output_type": "stream",
     "text": [
      "{'_a': 4, '_b': 6, '_c': 8}\n",
      "{'_a': 5, '_b': 7, '_c': 9}\n"
     ]
    }
   ],
   "source": [
    "print(T_1.__dict__)\n",
    "print(T_2.__dict__)"
   ]
  },
  {
   "cell_type": "code",
   "execution_count": 114,
   "id": "7bbee707-a074-4b77-9415-300bf5954c9d",
   "metadata": {},
   "outputs": [
    {
     "name": "stdout",
     "output_type": "stream",
     "text": [
      "Help on class Triangle in module __main__:\n",
      "\n",
      "class Triangle(builtins.object)\n",
      " |  Triangle(a: float = 1.0, b: float = 1.0, c: float = 1.0) -> None\n",
      " |  \n",
      " |  A class which represent Triangle: A three-sided polygon with three edges and three vertices. Various types include equilateral, isosceles, and scalene.\n",
      " |  \n",
      " |  Methods defined here:\n",
      " |  \n",
      " |  __init__(self, a: float = 1.0, b: float = 1.0, c: float = 1.0) -> None\n",
      " |      To initiate the class (Triangle) and the given parameters with  default value\n",
      " |  \n",
      " |  __repr__(self) -> str\n",
      " |      Return a string representation of the Triangle\n",
      " |  \n",
      " |  __str__(self) -> str\n",
      " |      Return a use-friendly  representation of the Triangle\n",
      " |  \n",
      " |  ----------------------------------------------------------------------\n",
      " |  Readonly properties defined here:\n",
      " |  \n",
      " |  area\n",
      " |      To calculate the area of the Triangle\n",
      " |  \n",
      " |  perimeter\n",
      " |      To calculate the perimeter of the  Triangle\n",
      " |  \n",
      " |  ----------------------------------------------------------------------\n",
      " |  Data descriptors defined here:\n",
      " |  \n",
      " |  __dict__\n",
      " |      dictionary for instance variables (if defined)\n",
      " |  \n",
      " |  __weakref__\n",
      " |      list of weak references to the object (if defined)\n",
      " |  \n",
      " |  a\n",
      " |      To get the a side of the Triangle\n",
      " |  \n",
      " |  b\n",
      " |      To get the b side of the Triangle\n",
      " |  \n",
      " |  c\n",
      " |      To  get the c side of the Triangle\n",
      "\n"
     ]
    }
   ],
   "source": [
    "help(Triangle)"
   ]
  },
  {
   "cell_type": "code",
   "execution_count": 115,
   "id": "57cd4a0a-516e-4771-bef4-e77e35d2e770",
   "metadata": {},
   "outputs": [
    {
     "name": "stdout",
     "output_type": "stream",
     "text": [
      "A class which represent Triangle: A three-sided polygon with three edges and three vertices. Various types include equilateral, isosceles, and scalene.\n",
      "Method: __init__,   Docstring: To initiate the class (Triangle) and the given parameters with  default value,   Annotations: {'a': <class 'float'>, 'b': <class 'float'>, 'c': <class 'float'>, 'return': None}\n",
      "Method: area,   Docstring: To calculate the area of the Triangle,   Annotations: {'return': <class 'float'>}\n",
      "Method: perimeter,   Docstring: To calculate the perimeter of the  Triangle,   Annotations: {'return': <class 'float'>}\n",
      "Method: __repr__,   Docstring: Return a string representation of the Triangle ,   Annotations: {'return': <class 'str'>}\n",
      "Method: __str__,   Docstring: Return a use-friendly  representation of the Triangle,   Annotations: {'return': <class 'str'>}\n"
     ]
    }
   ],
   "source": [
    "print(Triangle.__doc__)\n",
    "for method in [\n",
    "    Triangle.__init__,\n",
    "    Triangle.area,\n",
    "    Triangle.perimeter,\n",
    "    Triangle.__repr__,\n",
    "    Triangle.__str__,\n",
    "]:\n",
    "    if isinstance(method, property):\n",
    "        print(f\"Method: {method.fget.__name__},   Docstring: {method.__doc__},   Annotations: {method.fget.__annotations__}\")\n",
    "    else:\n",
    "        print(f\"Method: {method.__name__},   Docstring: {method.__doc__},   Annotations: {method.__annotations__}\")"
   ]
  },
  {
   "cell_type": "code",
   "execution_count": 116,
   "id": "2c76122a-eed5-4d1a-99f4-400d7c1c2f25",
   "metadata": {},
   "outputs": [
    {
     "name": "stdout",
     "output_type": "stream",
     "text": [
      "Triangle with sides: a=1.0, b=1.0, c=1.0\n"
     ]
    },
    {
     "data": {
      "text/plain": [
       "Triangle(a=1.0, b=1.0, c=1.0)"
      ]
     },
     "execution_count": 116,
     "metadata": {},
     "output_type": "execute_result"
    }
   ],
   "source": [
    "T_3 = Triangle()\n",
    "print(T_3)\n",
    "T_3"
   ]
  },
  {
   "cell_type": "markdown",
   "id": "91c21888-41ff-4430-815b-40399f349a26",
   "metadata": {},
   "source": [
    "**4.** ***Trapezoid***"
   ]
  },
  {
   "cell_type": "code",
   "execution_count": 14,
   "id": "6a96e234-7363-4f4f-86ab-dafe5f0b1b9b",
   "metadata": {},
   "outputs": [],
   "source": [
    "class Trapezoid:\n",
    "    \"\"\"A class which represent Trapezoid: A four-sided figure with at least one pair of parallel sides.\"\"\"\n",
    "    def __init__(self, base1: float = 1.0, base2: float = 1.0, height: float = 1.0) -> None:\n",
    "        \"\"\"To innitiate the class with given parameters\"\"\"\n",
    "        self.base1 = base1\n",
    "        self.base2 = base2\n",
    "        self.height = height\n",
    "\n",
    "    @property\n",
    "    def base1(self) -> float:\n",
    "        \"\"\"To get the base1 of the Trapezoid\"\"\"\n",
    "        return self._base1\n",
    "\n",
    "    @base1.setter\n",
    "    def base1(self, value: float) -> None:\n",
    "        \"\"\"To set the base1 of the Trapezoid\"\"\"\n",
    "        self._base1 = value\n",
    "\n",
    "    @property\n",
    "    def base2(self) -> float:\n",
    "        \"\"\"To get the base2 of the Trapezoid\"\"\"\n",
    "        return self._base2\n",
    "\n",
    "    @base2.setter\n",
    "    def base2(self, value: float) -> None:\n",
    "        \"\"\"To set the base2 of the Trapezoid\"\"\"\n",
    "        self._base2 = value\n",
    "\n",
    "    @property\n",
    "    def height(self) -> float:\n",
    "        \"\"\"To get the heigth of the Trapezoid\"\"\"\n",
    "        return self._height\n",
    "\n",
    "    @height.setter\n",
    "    def height(self, value: float) -> None:\n",
    "        \"\"\"To set the heigth of the Trapezoid\"\"\"\n",
    "        self._height = value\n",
    "\n",
    "    @property\n",
    "    def area(self) -> float:\n",
    "        \"\"\"To calculate the area of the Trapezoid\"\"\"\n",
    "        return (self.base1 + self.base2) * self.height / 2\n",
    "\n",
    "    @property\n",
    "    def perimeter(self) -> float:\n",
    "        \"\"\"To calculate the perimeter of the Trapezoid\"\"\"\n",
    "        raise NotImplementedError(\"Perimeter calculation requires lengths of non-parallel sides.\")\n",
    "\n",
    "    def __repr__(self) -> str:\n",
    "        \"\"\"Return the string  Representation of the Trapezoid\"\"\"\n",
    "        return f\"{type(self).__name__}(base1={self.base1}, base2={self.base2}, height={self.height})\"\n",
    "\n",
    "    def __str__(self) -> str:\n",
    "        \"\"\"Return the user_friendly  Representation  of  the Trapezoid\"\"\"\n",
    "        return (f\"Trapezoid with base1: {self.base1}, base2: {self.base2}\")\n"
   ]
  },
  {
   "cell_type": "code",
   "execution_count": 42,
   "id": "be3981f3-d13a-4595-8def-297bd5157d22",
   "metadata": {},
   "outputs": [],
   "source": [
    "tr_1 = Trapezoid(2, 4, 6)\n",
    "tr_2 = Trapezoid(5, 2, 9)"
   ]
  },
  {
   "cell_type": "code",
   "execution_count": 43,
   "id": "8aa5e524-d1bb-4eb7-ac7b-7d47c4e20936",
   "metadata": {},
   "outputs": [
    {
     "name": "stdout",
     "output_type": "stream",
     "text": [
      "Trapezoid with base1: 2, base2: 4\n",
      "Trapezoid with base1: 5, base2: 2\n"
     ]
    }
   ],
   "source": [
    "print(tr_1)\n",
    "print(tr_2)"
   ]
  },
  {
   "cell_type": "code",
   "execution_count": 18,
   "id": "448b3527-3a6d-45a4-ae43-83106e631730",
   "metadata": {},
   "outputs": [
    {
     "data": {
      "text/plain": [
       "Trapezoid(base1=2, base2=4, height=6)"
      ]
     },
     "execution_count": 18,
     "metadata": {},
     "output_type": "execute_result"
    }
   ],
   "source": [
    "tr_1"
   ]
  },
  {
   "cell_type": "code",
   "execution_count": 19,
   "id": "f4811ad8-37c2-4352-92e3-ac250117904b",
   "metadata": {},
   "outputs": [
    {
     "data": {
      "text/plain": [
       "Trapezoid(base1=5, base2=7, height=9)"
      ]
     },
     "execution_count": 19,
     "metadata": {},
     "output_type": "execute_result"
    }
   ],
   "source": [
    "tr_2"
   ]
  },
  {
   "cell_type": "code",
   "execution_count": 20,
   "id": "fcb38ec9-5304-4240-a53c-6f03d969aba4",
   "metadata": {},
   "outputs": [
    {
     "name": "stdout",
     "output_type": "stream",
     "text": [
      "mappingproxy({'__dict__': <attribute '__dict__' of 'Trapezoid' objects>,\n",
      "              '__doc__': 'A class which represent Trapezoid: A four-sided '\n",
      "                         'figure with at least one pair of parallel sides.',\n",
      "              '__init__': <function Trapezoid.__init__ at 0x0000019F09B3F3A0>,\n",
      "              '__module__': '__main__',\n",
      "              '__repr__': <function Trapezoid.__repr__ at 0x0000019F09B5AA60>,\n",
      "              '__str__': <function Trapezoid.__str__ at 0x0000019F09B5A700>,\n",
      "              '__weakref__': <attribute '__weakref__' of 'Trapezoid' objects>,\n",
      "              'area': <property object at 0x0000019F08B7E6D0>,\n",
      "              'base1': <property object at 0x0000019F09B664F0>,\n",
      "              'base2': <property object at 0x0000019F09B66450>,\n",
      "              'height': <property object at 0x0000019F09B66680>,\n",
      "              'perimeter': <property object at 0x0000019F09B66400>})\n"
     ]
    }
   ],
   "source": [
    "from pprint import pprint\n",
    "pprint(Trapezoid.__dict__)"
   ]
  },
  {
   "cell_type": "code",
   "execution_count": 21,
   "id": "af72dae2-cf3d-4afc-91a7-f0d4304e0fa6",
   "metadata": {},
   "outputs": [
    {
     "name": "stdout",
     "output_type": "stream",
     "text": [
      "mappingproxy({'__dict__': <attribute '__dict__' of 'Trapezoid' objects>,\n",
      "              '__doc__': 'A class which represent Trapezoid: A four-sided '\n",
      "                         'figure with at least one pair of parallel sides.',\n",
      "              '__init__': <function Trapezoid.__init__ at 0x0000019F09B3F3A0>,\n",
      "              '__module__': '__main__',\n",
      "              '__repr__': <function Trapezoid.__repr__ at 0x0000019F09B5AA60>,\n",
      "              '__str__': <function Trapezoid.__str__ at 0x0000019F09B5A700>,\n",
      "              '__weakref__': <attribute '__weakref__' of 'Trapezoid' objects>,\n",
      "              'area': <property object at 0x0000019F08B7E6D0>,\n",
      "              'base1': <property object at 0x0000019F09B664F0>,\n",
      "              'base2': <property object at 0x0000019F09B66450>,\n",
      "              'height': <property object at 0x0000019F09B66680>,\n",
      "              'perimeter': <property object at 0x0000019F09B66400>})\n"
     ]
    }
   ],
   "source": [
    "pprint(vars(Trapezoid))"
   ]
  },
  {
   "cell_type": "code",
   "execution_count": 22,
   "id": "80dafe80-6f2f-480b-bd35-6f6d9ab8e4fb",
   "metadata": {},
   "outputs": [
    {
     "name": "stdout",
     "output_type": "stream",
     "text": [
      "{'_base1': 2, '_base2': 4, '_height': 6}\n",
      "{'_base1': 5, '_base2': 7, '_height': 9}\n"
     ]
    }
   ],
   "source": [
    "print(tr_1.__dict__)\n",
    "print(tr_2.__dict__)"
   ]
  },
  {
   "cell_type": "code",
   "execution_count": 23,
   "id": "6956962f-c46f-48df-980e-4f05bb91bae1",
   "metadata": {},
   "outputs": [
    {
     "name": "stdout",
     "output_type": "stream",
     "text": [
      "Help on class Trapezoid in module __main__:\n",
      "\n",
      "class Trapezoid(builtins.object)\n",
      " |  Trapezoid(base1: float = 1.0, base2: float = 1.0, height: float = 1.0) -> None\n",
      " |  \n",
      " |  A class which represent Trapezoid: A four-sided figure with at least one pair of parallel sides.\n",
      " |  \n",
      " |  Methods defined here:\n",
      " |  \n",
      " |  __init__(self, base1: float = 1.0, base2: float = 1.0, height: float = 1.0) -> None\n",
      " |      To innitiate the class with given parameters\n",
      " |  \n",
      " |  __repr__(self) -> str\n",
      " |      Return the string  Representation of the Trapezoid\n",
      " |  \n",
      " |  __str__(self) -> str\n",
      " |      Return the user_friendly  Representation  of  the Trapezoid\n",
      " |  \n",
      " |  ----------------------------------------------------------------------\n",
      " |  Readonly properties defined here:\n",
      " |  \n",
      " |  area\n",
      " |      To calculate the area of the Trapezoid\n",
      " |  \n",
      " |  perimeter\n",
      " |      To calculate the perimeter of the Trapezoid\n",
      " |  \n",
      " |  ----------------------------------------------------------------------\n",
      " |  Data descriptors defined here:\n",
      " |  \n",
      " |  __dict__\n",
      " |      dictionary for instance variables (if defined)\n",
      " |  \n",
      " |  __weakref__\n",
      " |      list of weak references to the object (if defined)\n",
      " |  \n",
      " |  base1\n",
      " |      To get the base1 of the Trapezoid\n",
      " |  \n",
      " |  base2\n",
      " |      To get the base2 of the Trapezoid\n",
      " |  \n",
      " |  height\n",
      " |      To get the heigth of the Trapezoid\n",
      "\n"
     ]
    }
   ],
   "source": [
    "help(Trapezoid)"
   ]
  },
  {
   "cell_type": "code",
   "execution_count": 24,
   "id": "e84afd3a-11c0-4092-9005-a3ed70ae34ba",
   "metadata": {},
   "outputs": [
    {
     "name": "stdout",
     "output_type": "stream",
     "text": [
      "A class which represent Trapezoid: A four-sided figure with at least one pair of parallel sides.\n",
      "Method: __init__,   Docstring: To innitiate the class with given parameters,   Annotations: {'base1': <class 'float'>, 'base2': <class 'float'>, 'height': <class 'float'>, 'return': None}\n",
      "(Method: area),  (Docstring: To calculate the area of the Trapezoid),  (Annotations: {'return': <class 'float'>})\n",
      "(Method: perimeter),  (Docstring: To calculate the perimeter of the Trapezoid),  (Annotations: {'return': <class 'float'>})\n",
      "Method: __repr__,   Docstring: Return the string  Representation of the Trapezoid,   Annotations: {'return': <class 'str'>}\n",
      "Method: __str__,   Docstring: Return the user_friendly  Representation  of  the Trapezoid,   Annotations: {'return': <class 'str'>}\n"
     ]
    }
   ],
   "source": [
    "print(Trapezoid.__doc__)\n",
    "for method in [\n",
    "    Trapezoid.__init__,\n",
    "    Trapezoid.area,\n",
    "    Trapezoid.perimeter,\n",
    "    Trapezoid.__repr__,\n",
    "    Trapezoid.__str__,\n",
    "]:\n",
    "    if isinstance(method, property):\n",
    "        print(f\"(Method: {method.fget.__name__}),  (Docstring: {method.__doc__}),  (Annotations: {method.fget.__annotations__})\")\n",
    "    else:\n",
    "        print(f\"Method: {method.__name__},   Docstring: {method.__doc__},   Annotations: {method.__annotations__}\")"
   ]
  },
  {
   "cell_type": "code",
   "execution_count": 40,
   "id": "cabc0a23-df98-40b4-8ce9-a4957e123aed",
   "metadata": {},
   "outputs": [
    {
     "name": "stdout",
     "output_type": "stream",
     "text": [
      "Trapezoid with base1: 1.0, base2: 1.0\n"
     ]
    },
    {
     "data": {
      "text/plain": [
       "Trapezoid(base1=1.0, base2=1.0, height=1.0)"
      ]
     },
     "execution_count": 40,
     "metadata": {},
     "output_type": "execute_result"
    }
   ],
   "source": [
    "tr_3 = Trapezoid()\n",
    "print(tr_3)\n",
    "tr_3"
   ]
  },
  {
   "cell_type": "markdown",
   "id": "8f955175-074a-40f1-86c6-31ee85979462",
   "metadata": {},
   "source": [
    " **5.** ***Parallelogram***"
   ]
  },
  {
   "cell_type": "code",
   "execution_count": 44,
   "id": "aedc8567-95b8-47f4-961d-1ed43815b550",
   "metadata": {},
   "outputs": [],
   "source": [
    "class Parallelogram:\n",
    "    \"\"\"A class which represent Parallelogram: Where all sides are of equal length, but the angles are not necessarily 90 degrees.\"\"\"\n",
    "    def __init__(self, base: float = 1.0, height: float = 1.0) -> None:\n",
    "        \"\"\"To initiate the class and give parameters with default value\"\"\"\n",
    "        self.base = base\n",
    "        self.height = height\n",
    "\n",
    "    @property\n",
    "    def base(self) -> float:\n",
    "        \"\"\"To get the base of Parallelogram\"\"\"\n",
    "        return self._base\n",
    "\n",
    "    @base.setter\n",
    "    def base(self, value: float) -> None:\n",
    "        \"\"\"To set the base of Parallelogram\"\"\"\n",
    "        self._base = value\n",
    "\n",
    "    @property\n",
    "    def height(self) -> float:\n",
    "        \"\"\"\"To get the heigth of Parallelogram\"\"\"\n",
    "        return self._height\n",
    "\n",
    "    @height.setter\n",
    "    def height(self, value: float) -> None:\n",
    "        \"\"\"To set the heigth of Parallelogram\"\"\"\n",
    "        self._height = value\n",
    "\n",
    "    @property\n",
    "    def area(self) -> float:\n",
    "        \"\"\"To calculate the area of the Parallelogram\"\"\"\n",
    "        return self.base * self.height\n",
    "\n",
    "    @property\n",
    "    def perimeter(self) -> float:\n",
    "        \"\"\"To calculate the perimeter of Parallelogram\"\"\"\n",
    "        return 2 * (self.base + self.height)\n",
    "    @classmethod\n",
    "    def from_side_and_angle(cls, side: float, angle_degrees: float) -> 'parallelogram':\n",
    "        \"\"\"\n",
    "        Create a Parallelogram instance given a side length and an angle between the sides.\n",
    "        Parameters:\n",
    "            side: The length of the side.\n",
    "            angle_degrees: The angle between the sides in degrees.\n",
    "        Returns:\n",
    "            Parallelogram: A new instance of Parallelogram.\n",
    "        \"\"\"\n",
    "        height = side * math.sin(math.radians(angle_degrees))\n",
    "        return cls(base=side, height=height)   \n",
    "    def __repr__(self) -> str:\n",
    "        \"\"\"Return the string  Representation of the Parallelogram\"\"\"\n",
    "        return f\"Parallelogram(base={self.base}, height={self.height})\"\n",
    "    def __str__(self) -> str:\n",
    "        \"\"\"Return the user_friendly  Representation  of  the Trapezoid\"\"\"\n",
    "        return (f\"Parallelogram with base: {self.base}, height: {self.height}\")\n"
   ]
  },
  {
   "cell_type": "code",
   "execution_count": 45,
   "id": "c2dbbd81-b5ef-44fb-8eb2-7fd5ef684a6c",
   "metadata": {},
   "outputs": [],
   "source": [
    "p_1 = Parallelogram(10, 10)\n",
    "p_2 = Parallelogram(8, 8)"
   ]
  },
  {
   "cell_type": "code",
   "execution_count": 46,
   "id": "37869862-311e-4093-aebb-f7ff5f107c78",
   "metadata": {},
   "outputs": [
    {
     "name": "stdout",
     "output_type": "stream",
     "text": [
      "Parallelogram with base: 10, height: 10\n",
      "Parallelogram with base: 8, height: 8\n"
     ]
    }
   ],
   "source": [
    "print(p_1)\n",
    "print(p_2)"
   ]
  },
  {
   "cell_type": "code",
   "execution_count": 47,
   "id": "03710677-e7ae-4623-a2af-686f13ca6dd4",
   "metadata": {},
   "outputs": [
    {
     "data": {
      "text/plain": [
       "Parallelogram(base=10, height=10)"
      ]
     },
     "execution_count": 47,
     "metadata": {},
     "output_type": "execute_result"
    }
   ],
   "source": [
    "p_1"
   ]
  },
  {
   "cell_type": "code",
   "execution_count": 48,
   "id": "a948ff25-30ab-42fc-8f5a-9255ef0e7c08",
   "metadata": {},
   "outputs": [
    {
     "data": {
      "text/plain": [
       "Parallelogram(base=8, height=8)"
      ]
     },
     "execution_count": 48,
     "metadata": {},
     "output_type": "execute_result"
    }
   ],
   "source": [
    "p_2"
   ]
  },
  {
   "cell_type": "code",
   "execution_count": 49,
   "id": "1936963e-f946-47f2-9af5-c75942f90591",
   "metadata": {},
   "outputs": [
    {
     "name": "stdout",
     "output_type": "stream",
     "text": [
      "mappingproxy({'__dict__': <attribute '__dict__' of 'Parallelogram' objects>,\n",
      "              '__doc__': 'A class which represent Parallelogram: Where all '\n",
      "                         'sides are of equal length, but the angles are not '\n",
      "                         'necessarily 90 degrees.',\n",
      "              '__init__': <function Parallelogram.__init__ at 0x0000019F09B0D670>,\n",
      "              '__module__': '__main__',\n",
      "              '__repr__': <function Parallelogram.__repr__ at 0x0000019F09B78670>,\n",
      "              '__str__': <function Parallelogram.__str__ at 0x0000019F09B78700>,\n",
      "              '__weakref__': <attribute '__weakref__' of 'Parallelogram' objects>,\n",
      "              'area': <property object at 0x0000019F09B5F720>,\n",
      "              'base': <property object at 0x0000019F09B14BD0>,\n",
      "              'from_side_and_angle': <classmethod object at 0x0000019F09AE9400>,\n",
      "              'height': <property object at 0x0000019F09B14D10>,\n",
      "              'perimeter': <property object at 0x0000019F09B14EF0>})\n"
     ]
    }
   ],
   "source": [
    "from pprint  import pprint\n",
    "pprint(Parallelogram.__dict__)"
   ]
  },
  {
   "cell_type": "code",
   "execution_count": 50,
   "id": "e06407fa-e9ef-49d7-9d54-749b5ef7eaba",
   "metadata": {},
   "outputs": [
    {
     "name": "stdout",
     "output_type": "stream",
     "text": [
      "mappingproxy({'__dict__': <attribute '__dict__' of 'Parallelogram' objects>,\n",
      "              '__doc__': 'A class which represent Parallelogram: Where all '\n",
      "                         'sides are of equal length, but the angles are not '\n",
      "                         'necessarily 90 degrees.',\n",
      "              '__init__': <function Parallelogram.__init__ at 0x0000019F09B0D670>,\n",
      "              '__module__': '__main__',\n",
      "              '__repr__': <function Parallelogram.__repr__ at 0x0000019F09B78670>,\n",
      "              '__str__': <function Parallelogram.__str__ at 0x0000019F09B78700>,\n",
      "              '__weakref__': <attribute '__weakref__' of 'Parallelogram' objects>,\n",
      "              'area': <property object at 0x0000019F09B5F720>,\n",
      "              'base': <property object at 0x0000019F09B14BD0>,\n",
      "              'from_side_and_angle': <classmethod object at 0x0000019F09AE9400>,\n",
      "              'height': <property object at 0x0000019F09B14D10>,\n",
      "              'perimeter': <property object at 0x0000019F09B14EF0>})\n"
     ]
    }
   ],
   "source": [
    "pprint(vars(Parallelogram))"
   ]
  },
  {
   "cell_type": "code",
   "execution_count": 51,
   "id": "2f347340-cc7b-4943-88a9-875a29dfbfff",
   "metadata": {},
   "outputs": [
    {
     "name": "stdout",
     "output_type": "stream",
     "text": [
      "Help on class Parallelogram in module __main__:\n",
      "\n",
      "class Parallelogram(builtins.object)\n",
      " |  Parallelogram(base: float = 1.0, height: float = 1.0) -> None\n",
      " |  \n",
      " |  A class which represent Parallelogram: Where all sides are of equal length, but the angles are not necessarily 90 degrees.\n",
      " |  \n",
      " |  Methods defined here:\n",
      " |  \n",
      " |  __init__(self, base: float = 1.0, height: float = 1.0) -> None\n",
      " |      To initiate the class and give parameters with default value\n",
      " |  \n",
      " |  __repr__(self) -> str\n",
      " |      Return the string  Representation of the Parallelogram\n",
      " |  \n",
      " |  __str__(self) -> str\n",
      " |      Return the user_friendly  Representation  of  the Trapezoid\n",
      " |  \n",
      " |  ----------------------------------------------------------------------\n",
      " |  Class methods defined here:\n",
      " |  \n",
      " |  from_side_and_angle(side: float, angle_degrees: float) -> 'parallelogram' from builtins.type\n",
      " |      Create a Parallelogram instance given a side length and an angle between the sides.\n",
      " |      Parameters:\n",
      " |          side: The length of the side.\n",
      " |          angle_degrees: The angle between the sides in degrees.\n",
      " |      Returns:\n",
      " |          Parallelogram: A new instance of Parallelogram.\n",
      " |  \n",
      " |  ----------------------------------------------------------------------\n",
      " |  Readonly properties defined here:\n",
      " |  \n",
      " |  area\n",
      " |      To calculate the area of the Parallelogram\n",
      " |  \n",
      " |  perimeter\n",
      " |      To calculate the perimeter of Parallelogram\n",
      " |  \n",
      " |  ----------------------------------------------------------------------\n",
      " |  Data descriptors defined here:\n",
      " |  \n",
      " |  __dict__\n",
      " |      dictionary for instance variables (if defined)\n",
      " |  \n",
      " |  __weakref__\n",
      " |      list of weak references to the object (if defined)\n",
      " |  \n",
      " |  base\n",
      " |      To get the base of Parallelogram\n",
      " |  \n",
      " |  height\n",
      " |      \"To get the heigth of Parallelogram\n",
      "\n"
     ]
    }
   ],
   "source": [
    "help(Parallelogram)"
   ]
  },
  {
   "cell_type": "code",
   "execution_count": 52,
   "id": "d27b8e38-0de4-48ed-b182-e9a0ac94e179",
   "metadata": {},
   "outputs": [
    {
     "name": "stdout",
     "output_type": "stream",
     "text": [
      "{'_base': 10, '_height': 10}\n",
      "{'_base': 8, '_height': 8}\n"
     ]
    }
   ],
   "source": [
    "print(p_1.__dict__)\n",
    "print(p_2.__dict__)"
   ]
  },
  {
   "cell_type": "code",
   "execution_count": 53,
   "id": "c5e11a2c-52a9-43b0-b0ba-afa9d9e70403",
   "metadata": {},
   "outputs": [
    {
     "name": "stdout",
     "output_type": "stream",
     "text": [
      "A class which represent Parallelogram: Where all sides are of equal length, but the angles are not necessarily 90 degrees.\n",
      "\n",
      "Method: __init__,   Docstring: To initiate the class and give parameters with default value,   Annotations: {'base': <class 'float'>, 'height': <class 'float'>, 'return': None}\n",
      "(Method: area),  (Docstring: To calculate the area of the Parallelogram),  (Annotations: {'return': <class 'float'>})\n",
      "(Method: perimeter),  (Docstring: To calculate the perimeter of Parallelogram),  (Annotations: {'return': <class 'float'>})\n",
      "Method: from_side_and_angle,   Docstring: \n",
      "        Create a Parallelogram instance given a side length and an angle between the sides.\n",
      "        Parameters:\n",
      "            side: The length of the side.\n",
      "            angle_degrees: The angle between the sides in degrees.\n",
      "        Returns:\n",
      "            Parallelogram: A new instance of Parallelogram.\n",
      "        ,   Annotations: {'side': <class 'float'>, 'angle_degrees': <class 'float'>, 'return': 'parallelogram'}\n",
      "Method: __repr__,   Docstring: Return the string  Representation of the Parallelogram,   Annotations: {'return': <class 'str'>}\n",
      "Method: __str__,   Docstring: Return the user_friendly  Representation  of  the Trapezoid,   Annotations: {'return': <class 'str'>}\n"
     ]
    }
   ],
   "source": [
    "print(Parallelogram.__doc__)\n",
    "print()\n",
    "for method in [\n",
    "    Parallelogram.__init__,\n",
    "    Parallelogram.area,\n",
    "    Parallelogram.perimeter,\n",
    "    Parallelogram.from_side_and_angle,\n",
    "    Parallelogram.__repr__,    \n",
    "    Parallelogram.__str__,\n",
    "]:\n",
    "    if isinstance(method, property):\n",
    "        print(f\"(Method: {method.fget.__name__}),  (Docstring: {method.__doc__}),  (Annotations: {method.fget.__annotations__})\")\n",
    "    else:\n",
    "        print(f\"Method: {method.__name__},   Docstring: {method.__doc__},   Annotations: {method.__annotations__}\")"
   ]
  },
  {
   "cell_type": "code",
   "execution_count": 54,
   "id": "07af2e52-7f57-4443-8256-4bd7279270a4",
   "metadata": {},
   "outputs": [
    {
     "name": "stdout",
     "output_type": "stream",
     "text": [
      "Parallelogram with base: 1.0, height: 1.0\n"
     ]
    },
    {
     "data": {
      "text/plain": [
       "Parallelogram(base=1.0, height=1.0)"
      ]
     },
     "execution_count": 54,
     "metadata": {},
     "output_type": "execute_result"
    }
   ],
   "source": [
    "p_3 = Parallelogram()\n",
    "print(p_3)\n",
    "p_3"
   ]
  },
  {
   "cell_type": "markdown",
   "id": "3691b5de-65e3-41a0-9e85-51a3d08e99f9",
   "metadata": {},
   "source": [
    " **6.** ***Rhombus***"
   ]
  },
  {
   "cell_type": "code",
   "execution_count": 71,
   "id": "3fbb31e4-9d99-4f35-b441-ed884d4db7ad",
   "metadata": {},
   "outputs": [],
   "source": [
    "class Rhombus:\n",
    "    \"\"\"A class to represent a rhombus, a parallelogram with all sides equal.\"\"\"\n",
    "    \n",
    "    def __init__(self, side_length: float = 1.0, height: float = 1.0) -> None:\n",
    "        \"\"\"Initialize the rhombus with the length of its sides and height.\n",
    "        \n",
    "        Parameters:\n",
    "            side_length : Length of each side. Defaults to 1.0.\n",
    "            height : Height of the rhombus. Defaults to 1.0.\n",
    "        \"\"\"\n",
    "        self.side = side_length\n",
    "        self.height = height\n",
    "\n",
    "    @property\n",
    "    def side(self) -> float:\n",
    "        \"\"\"Get the length of the rhombus's side.\"\"\"\n",
    "        return self._side\n",
    "\n",
    "    @side.setter\n",
    "    def side(self, value: float) -> None:\n",
    "        \"\"\"Set the length of the rhombus's side.\n",
    "        \"\"\"\n",
    "        self._side = value\n",
    "    @property\n",
    "    def height(self) -> float:\n",
    "        \"\"\"Get the height of the rhombus.\"\"\"\n",
    "        return self._height\n",
    "\n",
    "    @height.setter\n",
    "    def height(self, value: float) -> None:\n",
    "        \"\"\"Set the height of the rhombus..\n",
    "        \"\"\"\n",
    "        self._height = value\n",
    "\n",
    "    @property\n",
    "    def area(self) -> float:\n",
    "        \"\"\"Calculate the area of the rhombus.\"\"\"\n",
    "        return self._side_length * self.height\n",
    "\n",
    "    @property\n",
    "    def perimeter(self) -> float:\n",
    "        \"\"\"Calculate the perimeter of the rhombus.\"\"\"\n",
    "        return 4 * self._side_length\n",
    "\n",
    "    def __repr__(self) -> str:\n",
    "        \"\"\"Return a string representation of the rhombus.\"\"\"\n",
    "        return f\"Rhombus(side_length={self.side}, height={self.height})\"\n",
    "\n",
    "    def __str__(self) -> str:\n",
    "        \"\"\"Return a user-friendly string representation of the rhombus.\"\"\"\n",
    "        return (f\"Rhombus with side length: {self.side}, height: {self.height}\")\n"
   ]
  },
  {
   "cell_type": "code",
   "execution_count": 72,
   "id": "472d650f-a258-4d03-984b-2e526f31b130",
   "metadata": {},
   "outputs": [],
   "source": [
    "R_1 = Rhombus(4, 8)\n",
    "R_2 = Rhombus(7,9)"
   ]
  },
  {
   "cell_type": "code",
   "execution_count": 73,
   "id": "7971b81d-aed5-4903-93b3-d65a99679053",
   "metadata": {},
   "outputs": [
    {
     "name": "stdout",
     "output_type": "stream",
     "text": [
      "Rhombus with side length: 4, height: 8\n",
      "Rhombus with side length: 7, height: 9\n"
     ]
    }
   ],
   "source": [
    "print(R_1)\n",
    "print(R_2)"
   ]
  },
  {
   "cell_type": "code",
   "execution_count": 74,
   "id": "167e4e0a-0e46-441a-8f4a-fde37b8cd8bd",
   "metadata": {},
   "outputs": [
    {
     "data": {
      "text/plain": [
       "Rhombus(side_length=4, height=8)"
      ]
     },
     "execution_count": 74,
     "metadata": {},
     "output_type": "execute_result"
    }
   ],
   "source": [
    "R_1"
   ]
  },
  {
   "cell_type": "code",
   "execution_count": 75,
   "id": "f2cc9ef8-cb40-4929-8e45-8d70079a31b6",
   "metadata": {},
   "outputs": [
    {
     "name": "stdout",
     "output_type": "stream",
     "text": [
      "mappingproxy({'__dict__': <attribute '__dict__' of 'Rhombus' objects>,\n",
      "              '__doc__': 'A class to represent a rhombus, a parallelogram with '\n",
      "                         'all sides equal.',\n",
      "              '__init__': <function Rhombus.__init__ at 0x0000019F09C8E9D0>,\n",
      "              '__module__': '__main__',\n",
      "              '__repr__': <function Rhombus.__repr__ at 0x0000019F09D3D550>,\n",
      "              '__str__': <function Rhombus.__str__ at 0x0000019F09D3D790>,\n",
      "              '__weakref__': <attribute '__weakref__' of 'Rhombus' objects>,\n",
      "              'area': <property object at 0x0000019F09CC9860>,\n",
      "              'height': <property object at 0x0000019F09C47680>,\n",
      "              'perimeter': <property object at 0x0000019F09C1A270>,\n",
      "              'side': <property object at 0x0000019F09C475E0>})\n"
     ]
    }
   ],
   "source": [
    "from pprint import pprint \n",
    "pprint(Rhombus.__dict__)"
   ]
  },
  {
   "cell_type": "code",
   "execution_count": 76,
   "id": "c0b84b72-5671-4e72-a79c-950141b07030",
   "metadata": {},
   "outputs": [
    {
     "name": "stdout",
     "output_type": "stream",
     "text": [
      "mappingproxy({'__dict__': <attribute '__dict__' of 'Rhombus' objects>,\n",
      "              '__doc__': 'A class to represent a rhombus, a parallelogram with '\n",
      "                         'all sides equal.',\n",
      "              '__init__': <function Rhombus.__init__ at 0x0000019F09C8E9D0>,\n",
      "              '__module__': '__main__',\n",
      "              '__repr__': <function Rhombus.__repr__ at 0x0000019F09D3D550>,\n",
      "              '__str__': <function Rhombus.__str__ at 0x0000019F09D3D790>,\n",
      "              '__weakref__': <attribute '__weakref__' of 'Rhombus' objects>,\n",
      "              'area': <property object at 0x0000019F09CC9860>,\n",
      "              'height': <property object at 0x0000019F09C47680>,\n",
      "              'perimeter': <property object at 0x0000019F09C1A270>,\n",
      "              'side': <property object at 0x0000019F09C475E0>})\n"
     ]
    }
   ],
   "source": [
    "pprint(vars(Rhombus))"
   ]
  },
  {
   "cell_type": "code",
   "execution_count": 77,
   "id": "4aeaa860-96c8-4075-a04c-144b07300cc4",
   "metadata": {},
   "outputs": [
    {
     "name": "stdout",
     "output_type": "stream",
     "text": [
      "Help on class Rhombus in module __main__:\n",
      "\n",
      "class Rhombus(builtins.object)\n",
      " |  Rhombus(side_length: float = 1.0, height: float = 1.0) -> None\n",
      " |  \n",
      " |  A class to represent a rhombus, a parallelogram with all sides equal.\n",
      " |  \n",
      " |  Methods defined here:\n",
      " |  \n",
      " |  __init__(self, side_length: float = 1.0, height: float = 1.0) -> None\n",
      " |      Initialize the rhombus with the length of its sides and height.\n",
      " |      \n",
      " |      Parameters:\n",
      " |          side_length : Length of each side. Defaults to 1.0.\n",
      " |          height : Height of the rhombus. Defaults to 1.0.\n",
      " |  \n",
      " |  __repr__(self) -> str\n",
      " |      Return a string representation of the rhombus.\n",
      " |  \n",
      " |  __str__(self) -> str\n",
      " |      Return a user-friendly string representation of the rhombus.\n",
      " |  \n",
      " |  ----------------------------------------------------------------------\n",
      " |  Readonly properties defined here:\n",
      " |  \n",
      " |  area\n",
      " |      Calculate the area of the rhombus.\n",
      " |  \n",
      " |  perimeter\n",
      " |      Calculate the perimeter of the rhombus.\n",
      " |  \n",
      " |  ----------------------------------------------------------------------\n",
      " |  Data descriptors defined here:\n",
      " |  \n",
      " |  __dict__\n",
      " |      dictionary for instance variables (if defined)\n",
      " |  \n",
      " |  __weakref__\n",
      " |      list of weak references to the object (if defined)\n",
      " |  \n",
      " |  height\n",
      " |      Get the height of the rhombus.\n",
      " |  \n",
      " |  side\n",
      " |      Get the length of the rhombus's side.\n",
      "\n"
     ]
    }
   ],
   "source": [
    "help(Rhombus)"
   ]
  },
  {
   "cell_type": "code",
   "execution_count": 78,
   "id": "21a64a0a-4ef3-4add-8d3d-db2870c2aa55",
   "metadata": {},
   "outputs": [
    {
     "name": "stdout",
     "output_type": "stream",
     "text": [
      "{'_side': 4, '_height': 8}\n",
      "{'_side': 7, '_height': 9}\n"
     ]
    }
   ],
   "source": [
    "print(R_1.__dict__)\n",
    "print(R_2.__dict__)"
   ]
  },
  {
   "cell_type": "code",
   "execution_count": 79,
   "id": "e3678652-7c13-4df9-b5e6-ac759ee2db7d",
   "metadata": {},
   "outputs": [
    {
     "name": "stdout",
     "output_type": "stream",
     "text": [
      "A class to represent a rhombus, a parallelogram with all sides equal.\n",
      "Method: __init__,   Docstring: Initialize the rhombus with the length of its sides and height.\n",
      "        \n",
      "        Parameters:\n",
      "            side_length : Length of each side. Defaults to 1.0.\n",
      "            height : Height of the rhombus. Defaults to 1.0.\n",
      "        ,   Annotations: {'side_length': <class 'float'>, 'height': <class 'float'>, 'return': None}\n",
      "(Method: area),  (Docstring: Calculate the area of the rhombus.),  (Annotations: {'return': <class 'float'>})\n",
      "(Method: perimeter),  (Docstring: Calculate the perimeter of the rhombus.),  (Annotations: {'return': <class 'float'>})\n",
      "Method: __repr__,   Docstring: Return a string representation of the rhombus.,   Annotations: {'return': <class 'str'>}\n",
      "Method: __str__,   Docstring: Return a user-friendly string representation of the rhombus.,   Annotations: {'return': <class 'str'>}\n"
     ]
    }
   ],
   "source": [
    "print(Rhombus.__doc__)\n",
    "for method in [\n",
    "    Rhombus.__init__,\n",
    "    Rhombus.area,\n",
    "    Rhombus.perimeter,\n",
    "    Rhombus.__repr__,\n",
    "    Rhombus.__str__,\n",
    "]:\n",
    "    if isinstance(method, property):\n",
    "        print(f\"(Method: {method.fget.__name__}),  (Docstring: {method.__doc__}),  (Annotations: {method.fget.__annotations__})\")\n",
    "    else:\n",
    "        print(f\"Method: {method.__name__},   Docstring: {method.__doc__},   Annotations: {method.__annotations__}\")"
   ]
  },
  {
   "cell_type": "code",
   "execution_count": 80,
   "id": "713dbff4-da12-4332-9530-f98b3e9955ea",
   "metadata": {},
   "outputs": [
    {
     "name": "stdout",
     "output_type": "stream",
     "text": [
      "Rhombus with side length: 1.0, height: 1.0\n"
     ]
    },
    {
     "data": {
      "text/plain": [
       "Rhombus(side_length=1.0, height=1.0)"
      ]
     },
     "execution_count": 80,
     "metadata": {},
     "output_type": "execute_result"
    }
   ],
   "source": [
    "R_3 = Rhombus()\n",
    "print(R_3)\n",
    "R_3"
   ]
  },
  {
   "cell_type": "markdown",
   "id": "0272f5c0-cb3b-4929-a5f0-e737b2440330",
   "metadata": {},
   "source": [
    " **Task No 05**"
   ]
  },
  {
   "cell_type": "markdown",
   "id": "8e15c6f3-f10f-475d-9aae-6d50e37dc62b",
   "metadata": {},
   "source": [
    " ***Circuit:***\n",
    "* **Resistor Circuit:** *Create a class for a circuit that contains only one resistor.*\n",
    "* **RL Circuit:** *Develop a class representing an RL (Resistor-Inductor) circuit.*\n",
    "* **RC Circuit:** *Create a class for an RC (Resistor-Capacitor) circuit.*\n",
    "* **RLC Parallel Circuit:** *Construct a class for RLC (Resistor-Inductor-Capacitor) parallel circuits.*\n",
    "* **RLC Series Resonance:** *Modify the existing RLC series class to implement the series resonance case.*\n",
    "* **RLC Parallel Resonance:** *Adapt the RLC parallel class to account for the parallel resonance case.*"
   ]
  },
  {
   "cell_type": "markdown",
   "id": "4ad3aa6f-f2a0-4c92-a078-88afc0f9d18e",
   "metadata": {},
   "source": [
    " **1.** ***Resistor***"
   ]
  },
  {
   "cell_type": "code",
   "execution_count": 105,
   "id": "d8e932d6-426f-4569-b894-32e30bd88df3",
   "metadata": {},
   "outputs": [],
   "source": [
    "class Resistor:\n",
    "    \"\"\"A class to represent a simple circuit with a single resistor.\"\"\"\n",
    "    \n",
    "    def __init__(self, resistance: float = 1.0) -> None:\n",
    "        \"\"\"Initialize the resistor with the given resistance value.\n",
    "        \n",
    "        Parameter:\n",
    "            resistance: Resistance in ohms. Defaults to 1.0.\n",
    "        \"\"\"\n",
    "        self.resistance = resistance\n",
    "\n",
    "    @property\n",
    "    def resistance(self) -> float:\n",
    "        \"\"\"Get the resistance value.\"\"\"\n",
    "        return self._resistance\n",
    "\n",
    "    @resistance.setter\n",
    "    def resistance(self, value: float):\n",
    "        \"\"\"Set the resistance value.\"\"\"\n",
    "        self._resistance = value\n",
    "    @staticmethod\n",
    "    def calculate_power(voltage: float, current: float) -> float:\n",
    "        \"\"\"Static method to calculate the power dissipated in a resistor.  \n",
    "        Parameters:\n",
    "            voltage (float): Resistance in voltage.\n",
    "            current (float): Current in amps.\n",
    "        Returns:\n",
    "            float: Power in watts.\n",
    "        \"\"\"\n",
    "        return resistance * (current ** 2)\n",
    "    @classmethod\n",
    "    def with_standard_resistance(cls, standard: float = 10.0):\n",
    "        \"\"\"Class method to create a resistor circuit with a standard resistance.\n",
    "        parameters:\n",
    "            standard_value (float): Common resistor value in ohms.\n",
    "        Returns:\n",
    "            ResistorCircuit: A new instance with the specified standard resistance.\n",
    "        \"\"\"\n",
    "        return cls(resistance=standard)\n",
    "    def __repr__(self) -> str:\n",
    "        \"\"\"A  string  representation of the Resistor\"\"\"\n",
    "        return f\"{type(self).__name__}(resistance={self.resistance} ohm)\"\n",
    "    def __str__(self) -> str:\n",
    "        \"\"\"A user-friendly  representation of Resistor\"\"\"\n",
    "        return f\"Resistor with resistancae: {self.resistance} ohms\"\n"
   ]
  },
  {
   "cell_type": "code",
   "execution_count": 92,
   "id": "f3894c1f-c4b4-48d0-acdd-c003ea1a6bb8",
   "metadata": {},
   "outputs": [],
   "source": [
    "resistor = Resistor(33)"
   ]
  },
  {
   "cell_type": "code",
   "execution_count": 93,
   "id": "5750c7aa-d6f3-4d9f-bf4e-a7b0e8e1ed65",
   "metadata": {},
   "outputs": [
    {
     "name": "stdout",
     "output_type": "stream",
     "text": [
      "Resistor with resistancae: 33 ohms\n"
     ]
    }
   ],
   "source": [
    "print(resistor)"
   ]
  },
  {
   "cell_type": "code",
   "execution_count": 84,
   "id": "b2fca2b6-fbef-436e-a2fe-486a464b99ba",
   "metadata": {},
   "outputs": [
    {
     "data": {
      "text/plain": [
       "Resistor(resistance=33 ohm)"
      ]
     },
     "execution_count": 84,
     "metadata": {},
     "output_type": "execute_result"
    }
   ],
   "source": [
    "resistor"
   ]
  },
  {
   "cell_type": "code",
   "execution_count": 94,
   "id": "5aceaa9b-1301-4cd1-910e-12fae6ca39ca",
   "metadata": {},
   "outputs": [
    {
     "name": "stdout",
     "output_type": "stream",
     "text": [
      "mappingproxy({'__dict__': <attribute '__dict__' of 'Resistor' objects>,\n",
      "              '__doc__': 'A class to represent a simple circuit with a single '\n",
      "                         'resistor.',\n",
      "              '__init__': <function Resistor.__init__ at 0x0000019F09D530D0>,\n",
      "              '__module__': '__main__',\n",
      "              '__repr__': <function Resistor.__repr__ at 0x0000019F09D7F160>,\n",
      "              '__str__': <function Resistor.__str__ at 0x0000019F09D7F280>,\n",
      "              '__weakref__': <attribute '__weakref__' of 'Resistor' objects>,\n",
      "              'calculate_power': <staticmethod object at 0x0000019F09D0D100>,\n",
      "              'resistance': <property object at 0x0000019F09D8F7C0>,\n",
      "              'with_standard_resistance': <classmethod object at 0x0000019F09D0DD00>})\n"
     ]
    }
   ],
   "source": [
    "from pprint import pprint \n",
    "pprint(Resistor.__dict__)"
   ]
  },
  {
   "cell_type": "code",
   "execution_count": 101,
   "id": "d2f09908-fefb-41e1-8979-48d627a612cc",
   "metadata": {},
   "outputs": [
    {
     "name": "stdout",
     "output_type": "stream",
     "text": [
      "Help on class Resistor in module __main__:\n",
      "\n",
      "class Resistor(builtins.object)\n",
      " |  Resistor(resistance: float = 1.0) -> None\n",
      " |  \n",
      " |  A class to represent a simple circuit with a single resistor.\n",
      " |  \n",
      " |  Methods defined here:\n",
      " |  \n",
      " |  __init__(self, resistance: float = 1.0) -> None\n",
      " |      Initialize the resistor with the given resistance value.\n",
      " |      \n",
      " |      Parameter:\n",
      " |          resistance: Resistance in ohms. Defaults to 1.0.\n",
      " |  \n",
      " |  __repr__(self) -> str\n",
      " |      A  string  representation of the Resistor\n",
      " |  \n",
      " |  __str__(self) -> str\n",
      " |      A user-friendly  representation of Resistor\n",
      " |  \n",
      " |  ----------------------------------------------------------------------\n",
      " |  Class methods defined here:\n",
      " |  \n",
      " |  with_standard_resistance(standard: float = 10.0) from builtins.type\n",
      " |      Class method to create a resistor circuit with a standard resistance.\n",
      " |      parameters:\n",
      " |          standard_value (float): Common resistor value in ohms.\n",
      " |      Returns:\n",
      " |          ResistorCircuit: A new instance with the specified standard resistance.\n",
      " |  \n",
      " |  ----------------------------------------------------------------------\n",
      " |  Static methods defined here:\n",
      " |  \n",
      " |  calculate_power(voltage: float, current: float) -> float\n",
      " |      Static method to calculate the power dissipated in a resistor.  \n",
      " |      Parameters:\n",
      " |          voltage (float): Resistance in voltage.\n",
      " |          current (float): Current in amps.\n",
      " |      Returns:\n",
      " |          float: Power in watts.\n",
      " |  \n",
      " |  ----------------------------------------------------------------------\n",
      " |  Data descriptors defined here:\n",
      " |  \n",
      " |  __dict__\n",
      " |      dictionary for instance variables (if defined)\n",
      " |  \n",
      " |  __weakref__\n",
      " |      list of weak references to the object (if defined)\n",
      " |  \n",
      " |  resistance\n",
      " |      Get the resistance value.\n",
      "\n"
     ]
    }
   ],
   "source": [
    "help(Resistor)"
   ]
  },
  {
   "cell_type": "code",
   "execution_count": 103,
   "id": "7855bf78-3b67-491d-a855-02ee1ff375d6",
   "metadata": {},
   "outputs": [
    {
     "name": "stdout",
     "output_type": "stream",
     "text": [
      "{'_resistance': 33}\n"
     ]
    }
   ],
   "source": [
    "print(resistor.__dict__)"
   ]
  },
  {
   "cell_type": "code",
   "execution_count": 102,
   "id": "01d24b16-2df7-49d5-bc96-565945142429",
   "metadata": {},
   "outputs": [
    {
     "name": "stdout",
     "output_type": "stream",
     "text": [
      "A class to represent a simple circuit with a single resistor.\n",
      "Method: __init__,   Docstring: Initialize the resistor with the given resistance value.\n",
      "        \n",
      "        Parameter:\n",
      "            resistance: Resistance in ohms. Defaults to 1.0.\n",
      "        ,   Annotations: {'resistance': <class 'float'>, 'return': None}\n",
      "Method: with_standard_resistance,   Docstring: Class method to create a resistor circuit with a standard resistance.\n",
      "        parameters:\n",
      "            standard_value (float): Common resistor value in ohms.\n",
      "        Returns:\n",
      "            ResistorCircuit: A new instance with the specified standard resistance.\n",
      "        ,   Annotations: {'standard': <class 'float'>}\n",
      "Method: calculate_power,   Docstring: Static method to calculate the power dissipated in a resistor.  \n",
      "        Parameters:\n",
      "            voltage (float): Resistance in voltage.\n",
      "            current (float): Current in amps.\n",
      "        Returns:\n",
      "            float: Power in watts.\n",
      "        ,   Annotations: {'voltage': <class 'float'>, 'current': <class 'float'>, 'return': <class 'float'>}\n",
      "Method: __repr__,   Docstring: A  string  representation of the Resistor,   Annotations: {'return': <class 'str'>}\n",
      "Method: __str__,   Docstring: A user-friendly  representation of Resistor,   Annotations: {'return': <class 'str'>}\n"
     ]
    }
   ],
   "source": [
    "print(Resistor.__doc__)\n",
    "for method in [\n",
    "    Resistor.__init__,\n",
    "    Resistor.with_standard_resistance,\n",
    "    Resistor.calculate_power,\n",
    "    Resistor.__repr__,\n",
    "    Resistor.__str__,\n",
    "]:\n",
    "    if isinstance(method, property):\n",
    "        print(f\"(Method: {method.fget.__name__}),  (Docstring: {method.__doc__}),  (Annotations: {method.fget.__annotations__})\")\n",
    "    else:\n",
    "        print(f\"Method: {method.__name__},   Docstring: {method.__doc__},   Annotations: {method.__annotations__}\")"
   ]
  },
  {
   "cell_type": "code",
   "execution_count": 106,
   "id": "feee2d8b-9489-4a72-a516-6bde418d8647",
   "metadata": {},
   "outputs": [
    {
     "name": "stdout",
     "output_type": "stream",
     "text": [
      "Resistor with resistancae: 1.0 ohms\n"
     ]
    },
    {
     "data": {
      "text/plain": [
       "Resistor(resistance=1.0 ohm)"
      ]
     },
     "execution_count": 106,
     "metadata": {},
     "output_type": "execute_result"
    }
   ],
   "source": [
    "RL_3 = Resistor()\n",
    "print(RL_3)\n",
    "RL_3"
   ]
  },
  {
   "cell_type": "markdown",
   "id": "df5ee532-8548-47d2-86d7-325311efb551",
   "metadata": {},
   "source": [
    " **2.** ***RL Circuit***"
   ]
  },
  {
   "cell_type": "code",
   "execution_count": 142,
   "id": "f225ac7f-dd7f-40c2-a34a-6cacf42540e9",
   "metadata": {},
   "outputs": [],
   "source": [
    "import math\n",
    "class RLCircuit:\n",
    "    \"\"\"A class to represent an RL circuit (Resistor and Inductor).\"\"\"\n",
    "    \n",
    "    def __init__(self, resistance: float = 1.0, inductance: float = 1.0):\n",
    "        \"\"\"Initialize the RL circuit with resistance and inductance.    \n",
    "        Parameters:\n",
    "            resistance : Resistance in ohms. Default value is 1.0.\n",
    "            inductance : Inductance in henries. Default value 1.0.\n",
    "        \"\"\"\n",
    "        self.resistance = resistance\n",
    "        self.inductance = inductance\n",
    "\n",
    "    @property\n",
    "    def resistance(self) -> float:\n",
    "        \"\"\"Get the resistance value.\"\"\"\n",
    "        return self._resistance\n",
    "\n",
    "    @resistance.setter\n",
    "    def resistance(self, value: float):\n",
    "        self._resistance = value\n",
    "\n",
    "    @property\n",
    "    def inductance(self) -> float:\n",
    "        \"\"\"Get the inductance value.\"\"\"\n",
    "        return self._inductance\n",
    "\n",
    "    @inductance.setter\n",
    "    def inductance(self, value: float):\n",
    "        self._inductance = value\n",
    "    \n",
    "    def impedance(self, frequency: float = 50.0) -> float:\n",
    "        \"\"\"Calculate the impedance of the RL circuit.\n",
    "        \n",
    "        Parameter:\n",
    "            frequency : Frequency in hertz.\n",
    "        \n",
    "        Returns:\n",
    "            float: Impedance in ohms.\n",
    "        \"\"\"\n",
    "        return math.sqrt(self.resistance**2 + (2 * math.pi * frequency * self.inductance)**2)\n",
    "\n",
    "    @classmethod\n",
    "    def standard_values(cls):\n",
    "        \"\"\"Class method to create an RL circuit with standard values.\"\"\"\n",
    "        return cls(resistance=10.0, inductance=0.05)\n",
    "\n",
    "    @staticmethod\n",
    "    def calculate_reactance(inductance: float, frequency: float) -> float:\n",
    "        \"\"\"Static method to calculate the inductive reactance.\"\"\"\n",
    "        return 2 * math.pi * frequency * inductance\n",
    "\n",
    "    def __repr__(self) -> str:\n",
    "        \"\"\"A  string  representation of the RL Circuit\"\"\"\n",
    "        return f\"{type(self).__name__}(resistance={self.resistance}, inductance={self.inductance} H)\"\n",
    "\n",
    "    def __str__(self) -> str:\n",
    "        \"\"\"A user-friendly  representation of RL Circuit\"\"\"\n",
    "        return f\"RL Circuit with resistance: {self.resistance} ohms, inductance: {self.inductance} H\"\n"
   ]
  },
  {
   "cell_type": "code",
   "execution_count": 143,
   "id": "6086202e-c617-40e6-9b5d-04c81c8d8535",
   "metadata": {},
   "outputs": [],
   "source": [
    "RL_1 = RLCircuit(25, 0.001)\n",
    "RL_2 = RLCircuit(15, 0.1)"
   ]
  },
  {
   "cell_type": "code",
   "execution_count": 144,
   "id": "774ff9b9-be23-4e3a-aaea-f885f5f10580",
   "metadata": {},
   "outputs": [
    {
     "name": "stdout",
     "output_type": "stream",
     "text": [
      "RL Circuit with resistance: 25 ohms, inductance: 0.001 H\n",
      "RL Circuit with resistance: 15 ohms, inductance: 0.1 H\n"
     ]
    }
   ],
   "source": [
    "print(RL_1)\n",
    "print(RL_2)"
   ]
  },
  {
   "cell_type": "code",
   "execution_count": 145,
   "id": "465abdd6-9a8f-4fc5-9ac2-6fbf80936bf5",
   "metadata": {},
   "outputs": [
    {
     "data": {
      "text/plain": [
       "RLCircuit(resistance=25, inductance=0.001 H)"
      ]
     },
     "execution_count": 145,
     "metadata": {},
     "output_type": "execute_result"
    }
   ],
   "source": [
    "RL_1"
   ]
  },
  {
   "cell_type": "code",
   "execution_count": 146,
   "id": "f4f0aebc-9958-4cf6-b9cc-743ea1bca52e",
   "metadata": {},
   "outputs": [
    {
     "data": {
      "text/plain": [
       "RLCircuit(resistance=15, inductance=0.1 H)"
      ]
     },
     "execution_count": 146,
     "metadata": {},
     "output_type": "execute_result"
    }
   ],
   "source": [
    "RL_2"
   ]
  },
  {
   "cell_type": "code",
   "execution_count": 147,
   "id": "de40b931-a844-4d78-a443-53d1b84c8a79",
   "metadata": {},
   "outputs": [
    {
     "name": "stdout",
     "output_type": "stream",
     "text": [
      "mappingproxy({'__dict__': <attribute '__dict__' of 'RLCircuit' objects>,\n",
      "              '__doc__': 'A class to represent an RL circuit (Resistor and '\n",
      "                         'Inductor).',\n",
      "              '__init__': <function RLCircuit.__init__ at 0x0000019F09DEA280>,\n",
      "              '__module__': '__main__',\n",
      "              '__repr__': <function RLCircuit.__repr__ at 0x0000019F09DE75E0>,\n",
      "              '__str__': <function RLCircuit.__str__ at 0x0000019F09DE7430>,\n",
      "              '__weakref__': <attribute '__weakref__' of 'RLCircuit' objects>,\n",
      "              'calculate_reactance': <staticmethod object at 0x0000019F09C46640>,\n",
      "              'impedance': <function RLCircuit.impedance at 0x0000019F09D0E280>,\n",
      "              'inductance': <property object at 0x0000019F09C47400>,\n",
      "              'resistance': <property object at 0x0000019F09C47450>,\n",
      "              'standard_values': <classmethod object at 0x0000019F09C464F0>})\n"
     ]
    }
   ],
   "source": [
    "from pprint import pprint\n",
    "pprint(RLCircuit.__dict__)"
   ]
  },
  {
   "cell_type": "code",
   "execution_count": 148,
   "id": "0bc29aae-0887-4472-b91a-953dd9d5087d",
   "metadata": {},
   "outputs": [
    {
     "name": "stdout",
     "output_type": "stream",
     "text": [
      "mappingproxy({'__dict__': <attribute '__dict__' of 'RLCircuit' objects>,\n",
      "              '__doc__': 'A class to represent an RL circuit (Resistor and '\n",
      "                         'Inductor).',\n",
      "              '__init__': <function RLCircuit.__init__ at 0x0000019F09DEA280>,\n",
      "              '__module__': '__main__',\n",
      "              '__repr__': <function RLCircuit.__repr__ at 0x0000019F09DE75E0>,\n",
      "              '__str__': <function RLCircuit.__str__ at 0x0000019F09DE7430>,\n",
      "              '__weakref__': <attribute '__weakref__' of 'RLCircuit' objects>,\n",
      "              'calculate_reactance': <staticmethod object at 0x0000019F09C46640>,\n",
      "              'impedance': <function RLCircuit.impedance at 0x0000019F09D0E280>,\n",
      "              'inductance': <property object at 0x0000019F09C47400>,\n",
      "              'resistance': <property object at 0x0000019F09C47450>,\n",
      "              'standard_values': <classmethod object at 0x0000019F09C464F0>})\n"
     ]
    }
   ],
   "source": [
    "pprint(vars(RLCircuit))"
   ]
  },
  {
   "cell_type": "code",
   "execution_count": 149,
   "id": "a46ed68d-7506-437e-a3bf-35d59bbce1f6",
   "metadata": {},
   "outputs": [
    {
     "name": "stdout",
     "output_type": "stream",
     "text": [
      "Help on class RLCircuit in module __main__:\n",
      "\n",
      "class RLCircuit(builtins.object)\n",
      " |  RLCircuit(resistance: float = 1.0, inductance: float = 1.0)\n",
      " |  \n",
      " |  A class to represent an RL circuit (Resistor and Inductor).\n",
      " |  \n",
      " |  Methods defined here:\n",
      " |  \n",
      " |  __init__(self, resistance: float = 1.0, inductance: float = 1.0)\n",
      " |      Initialize the RL circuit with resistance and inductance.    \n",
      " |      Parameters:\n",
      " |          resistance : Resistance in ohms. Default value is 1.0.\n",
      " |          inductance : Inductance in henries. Default value 1.0.\n",
      " |  \n",
      " |  __repr__(self) -> str\n",
      " |      A  string  representation of the RL Circuit\n",
      " |  \n",
      " |  __str__(self) -> str\n",
      " |      A user-friendly  representation of RL Circuit\n",
      " |  \n",
      " |  impedance(self, frequency: float = 50.0) -> float\n",
      " |      Calculate the impedance of the RL circuit.\n",
      " |      \n",
      " |      Parameter:\n",
      " |          frequency : Frequency in hertz.\n",
      " |      \n",
      " |      Returns:\n",
      " |          float: Impedance in ohms.\n",
      " |  \n",
      " |  ----------------------------------------------------------------------\n",
      " |  Class methods defined here:\n",
      " |  \n",
      " |  standard_values() from builtins.type\n",
      " |      Class method to create an RL circuit with standard values.\n",
      " |  \n",
      " |  ----------------------------------------------------------------------\n",
      " |  Static methods defined here:\n",
      " |  \n",
      " |  calculate_reactance(inductance: float, frequency: float) -> float\n",
      " |      Static method to calculate the inductive reactance.\n",
      " |  \n",
      " |  ----------------------------------------------------------------------\n",
      " |  Data descriptors defined here:\n",
      " |  \n",
      " |  __dict__\n",
      " |      dictionary for instance variables (if defined)\n",
      " |  \n",
      " |  __weakref__\n",
      " |      list of weak references to the object (if defined)\n",
      " |  \n",
      " |  inductance\n",
      " |      Get the inductance value.\n",
      " |  \n",
      " |  resistance\n",
      " |      Get the resistance value.\n",
      "\n"
     ]
    }
   ],
   "source": [
    "help(RLCircuit)"
   ]
  },
  {
   "cell_type": "code",
   "execution_count": 150,
   "id": "d20b232e-99b2-4791-9eb5-e05106eac9f9",
   "metadata": {},
   "outputs": [
    {
     "name": "stdout",
     "output_type": "stream",
     "text": [
      "{'_resistance': 25, '_inductance': 0.001}\n",
      "{'_resistance': 15, '_inductance': 0.1}\n"
     ]
    }
   ],
   "source": [
    "print(RL_1.__dict__)\n",
    "print(RL_2.__dict__)"
   ]
  },
  {
   "cell_type": "code",
   "execution_count": 151,
   "id": "8e31dd6d-1daa-4fc5-8a0c-1bda0f38ecd6",
   "metadata": {},
   "outputs": [
    {
     "name": "stdout",
     "output_type": "stream",
     "text": [
      "A class to represent an RL circuit (Resistor and Inductor).\n",
      "Method: __init__,   Docstring: Initialize the RL circuit with resistance and inductance.    \n",
      "        Parameters:\n",
      "            resistance : Resistance in ohms. Default value is 1.0.\n",
      "            inductance : Inductance in henries. Default value 1.0.\n",
      "        ,   Annotations: {'resistance': <class 'float'>, 'inductance': <class 'float'>}\n",
      "Method: impedance,   Docstring: Calculate the impedance of the RL circuit.\n",
      "        \n",
      "        Parameter:\n",
      "            frequency : Frequency in hertz.\n",
      "        \n",
      "        Returns:\n",
      "            float: Impedance in ohms.\n",
      "        ,   Annotations: {'frequency': <class 'float'>, 'return': <class 'float'>}\n",
      "Method: standard_values,   Docstring: Class method to create an RL circuit with standard values.,   Annotations: {}\n",
      "Method: calculate_reactance,   Docstring: Static method to calculate the inductive reactance.,   Annotations: {'inductance': <class 'float'>, 'frequency': <class 'float'>, 'return': <class 'float'>}\n",
      "Method: __repr__,   Docstring: A  string  representation of the RL Circuit,   Annotations: {'return': <class 'str'>}\n",
      "Method: __str__,   Docstring: A user-friendly  representation of RL Circuit,   Annotations: {'return': <class 'str'>}\n"
     ]
    }
   ],
   "source": [
    "print(RLCircuit.__doc__)\n",
    "for method in [\n",
    "    RLCircuit.__init__,\n",
    "    RLCircuit.impedance,\n",
    "    RLCircuit.standard_values,\n",
    "    RLCircuit.calculate_reactance,\n",
    "    RLCircuit.__repr__,\n",
    "    RLCircuit.__str__,\n",
    "]:\n",
    "    if isinstance(method, property):\n",
    "        print(f\"(Method: {method.fget.__name__}),  (Docstring: {method.__doc__}),  (Annotations: {method.fget.__annotations__})\")\n",
    "    else:\n",
    "        print(f\"Method: {method.__name__},   Docstring: {method.__doc__},   Annotations: {method.__annotations__}\")"
   ]
  },
  {
   "cell_type": "code",
   "execution_count": 152,
   "id": "28f5aab5-2e8a-4066-83f9-230cd6ce6b31",
   "metadata": {},
   "outputs": [
    {
     "name": "stdout",
     "output_type": "stream",
     "text": [
      "RL Circuit with resistance: 1.0 ohms, inductance: 1.0 H\n"
     ]
    },
    {
     "data": {
      "text/plain": [
       "RLCircuit(resistance=1.0, inductance=1.0 H)"
      ]
     },
     "execution_count": 152,
     "metadata": {},
     "output_type": "execute_result"
    }
   ],
   "source": [
    "RL_3 = RLCircuit()\n",
    "print(RL_3)\n",
    "RL_3"
   ]
  },
  {
   "cell_type": "markdown",
   "id": "cd8ecc84-6b38-4ce5-a98e-d76c46b69fa8",
   "metadata": {},
   "source": [
    " **3.** ***RC Circuit***"
   ]
  },
  {
   "cell_type": "code",
   "execution_count": 153,
   "id": "b87b2ff5-5c9c-41e2-b075-65beaedafb58",
   "metadata": {},
   "outputs": [],
   "source": [
    "import math\n",
    "class RC_Circuit:\n",
    "    \"\"\"A class to represent an RC series circuit.\"\"\"\n",
    "\n",
    "    def __init__(self, resistance: float = 1.0, capacitance: float = 1.0) -> None:\n",
    "        \"\"\"Initialize the series RC circuit with resistance and capacitance.\n",
    "\n",
    "        Parameters:\n",
    "            resistance : Resistance in ohms. Default value is 1.0.\n",
    "            capacitance : Capacitance in farads. Default value is 1.0.\n",
    "        \"\"\"\n",
    "        self._resistance = resistance\n",
    "        self._capacitance = capacitance\n",
    "\n",
    "    @property\n",
    "    def resistance(self) -> float:\n",
    "        \"\"\"Get the resistance value.\"\"\"\n",
    "        return self._resistance\n",
    "\n",
    "    @resistance.setter\n",
    "    def resistance(self, value: float) -> None:\n",
    "        \"\"\"set the resistance value\"\"\"\n",
    "        self.resistance = value\n",
    "    @property\n",
    "    def capacitance(self) -> float:\n",
    "        \"\"\"Get the capacitance value.\"\"\"\n",
    "        return self._capacitance\n",
    "\n",
    "    @capacitance.setter\n",
    "    def capacitance(self, value: float) -> None:\n",
    "        self._capacitance = value\n",
    "    def impedance(self, frequency: float) -> float:\n",
    "        \"\"\"Calculate the impedance of the RC circuit.\n",
    "        Parameter:\n",
    "                 frequency (float): Frequency in hertz.\n",
    "        Returns:\n",
    "               Impedance in ohms.\n",
    "        \"\"\"\n",
    "        reactance_c = 1 / (2 * math.pi * frequency * self.capacitance)\n",
    "        return math.sqrt(self.resistance**2 + reactance_c**2)\n",
    "    @classmethod\n",
    "    def standard_values(cls) -> 'RC Circuit':\n",
    "        \"\"\"Class method to create an RC circuit with standard values.\"\"\"\n",
    "        return cls(resistance=30.0, capacitance=0.1)\n",
    "\n",
    "    @staticmethod\n",
    "    def calculate_reactance(capacitance_1: float, frequency: float) -> float:\n",
    "        \"\"\"Static method to calculate the capacitive reactance.\n",
    "\n",
    "        Parameters:\n",
    "            capacitance : Capacitance in farads.\n",
    "            frequency : Frequency in hertz.\n",
    "\n",
    "        Returns:\n",
    "            Reactance in ohms.\n",
    "        \"\"\"\n",
    "        return 1 / (2 * math.pi * frequency * capacitance_1)\n",
    "    def __repr__(self) -> str:\n",
    "        \"\"\"A  string  representation of the RC Circuit\"\"\"\n",
    "        return f\"{type(self).__name__}(resistance={self.resistance}, capacitance={self.capacitance})\"\n",
    "\n",
    "    def __str__(self) -> str:\n",
    "        \"\"\"A user-friendly  representation of RC Circuit\"\"\"\n",
    "        return (f\"RC Series Circuit with resistance: {self.resistance} ohms, capacitance: {self.capacitance} F\")"
   ]
  },
  {
   "cell_type": "code",
   "execution_count": 154,
   "id": "3c9b98ef-3e48-488a-9c03-c98b5dd91a55",
   "metadata": {},
   "outputs": [],
   "source": [
    "RC_1 = RC_Circuit(40, 0.000001)\n",
    "RC_2 = RC_Circuit(70,0.001)"
   ]
  },
  {
   "cell_type": "code",
   "execution_count": 155,
   "id": "e3d4318e-0402-4be0-b915-4f2716d10ec9",
   "metadata": {},
   "outputs": [
    {
     "name": "stdout",
     "output_type": "stream",
     "text": [
      "RC Series Circuit with resistance: 40 ohms, capacitance: 1e-06 F\n",
      "RL Circuit with resistance: 15 ohms, inductance: 0.1 H\n"
     ]
    }
   ],
   "source": [
    "print(RC_1)\n",
    "print(RL_2)"
   ]
  },
  {
   "cell_type": "code",
   "execution_count": 156,
   "id": "b5d72466-a9e4-4952-a4a5-b3df1352e47c",
   "metadata": {},
   "outputs": [
    {
     "data": {
      "text/plain": [
       "RC_Circuit(resistance=40, capacitance=1e-06)"
      ]
     },
     "execution_count": 156,
     "metadata": {},
     "output_type": "execute_result"
    }
   ],
   "source": [
    "RC_1"
   ]
  },
  {
   "cell_type": "code",
   "execution_count": 157,
   "id": "9cdc06a7-af62-4495-9781-bde8a5b9eb2f",
   "metadata": {},
   "outputs": [
    {
     "data": {
      "text/plain": [
       "RC_Circuit(resistance=70, capacitance=0.001)"
      ]
     },
     "execution_count": 157,
     "metadata": {},
     "output_type": "execute_result"
    }
   ],
   "source": [
    "RC_2"
   ]
  },
  {
   "cell_type": "code",
   "execution_count": 158,
   "id": "a7b230c5-f65a-41f6-8ea7-e0de1c203951",
   "metadata": {},
   "outputs": [
    {
     "name": "stdout",
     "output_type": "stream",
     "text": [
      "mappingproxy({'__dict__': <attribute '__dict__' of 'RC_Circuit' objects>,\n",
      "              '__doc__': 'A class to represent an RC series circuit.',\n",
      "              '__init__': <function RC_Circuit.__init__ at 0x0000019F09DEAAF0>,\n",
      "              '__module__': '__main__',\n",
      "              '__repr__': <function RC_Circuit.__repr__ at 0x0000019F09DF6040>,\n",
      "              '__str__': <function RC_Circuit.__str__ at 0x0000019F09DF60D0>,\n",
      "              '__weakref__': <attribute '__weakref__' of 'RC_Circuit' objects>,\n",
      "              'calculate_reactance': <staticmethod object at 0x0000019F09D59310>,\n",
      "              'capacitance': <property object at 0x0000019F09D63950>,\n",
      "              'impedance': <function RC_Circuit.impedance at 0x0000019F09DE7E50>,\n",
      "              'resistance': <property object at 0x0000019F09D63A40>,\n",
      "              'standard_values': <classmethod object at 0x0000019F09D59940>})\n"
     ]
    }
   ],
   "source": [
    "pprint(RC_Circuit.__dict__)"
   ]
  },
  {
   "cell_type": "code",
   "execution_count": 159,
   "id": "6de0c002-867c-4713-8f14-451dcdb6160f",
   "metadata": {},
   "outputs": [
    {
     "name": "stdout",
     "output_type": "stream",
     "text": [
      "mappingproxy({'__dict__': <attribute '__dict__' of 'RC_Circuit' objects>,\n",
      "              '__doc__': 'A class to represent an RC series circuit.',\n",
      "              '__init__': <function RC_Circuit.__init__ at 0x0000019F09DEAAF0>,\n",
      "              '__module__': '__main__',\n",
      "              '__repr__': <function RC_Circuit.__repr__ at 0x0000019F09DF6040>,\n",
      "              '__str__': <function RC_Circuit.__str__ at 0x0000019F09DF60D0>,\n",
      "              '__weakref__': <attribute '__weakref__' of 'RC_Circuit' objects>,\n",
      "              'calculate_reactance': <staticmethod object at 0x0000019F09D59310>,\n",
      "              'capacitance': <property object at 0x0000019F09D63950>,\n",
      "              'impedance': <function RC_Circuit.impedance at 0x0000019F09DE7E50>,\n",
      "              'resistance': <property object at 0x0000019F09D63A40>,\n",
      "              'standard_values': <classmethod object at 0x0000019F09D59940>})\n"
     ]
    }
   ],
   "source": [
    "pprint(vars(RC_Circuit))"
   ]
  },
  {
   "cell_type": "code",
   "execution_count": 160,
   "id": "c3b35f75-b5e3-4857-a5b8-69aa945e6b0d",
   "metadata": {},
   "outputs": [
    {
     "name": "stdout",
     "output_type": "stream",
     "text": [
      "{'_resistance': 40, '_capacitance': 1e-06}\n",
      "{'_resistance': 70, '_capacitance': 0.001}\n"
     ]
    }
   ],
   "source": [
    "print(RC_1.__dict__)\n",
    "print(RC_2.__dict__)"
   ]
  },
  {
   "cell_type": "code",
   "execution_count": 161,
   "id": "2c9b5ff9-71cf-4a1a-87cc-c656421e282f",
   "metadata": {},
   "outputs": [
    {
     "name": "stdout",
     "output_type": "stream",
     "text": [
      "Help on class RC_Circuit in module __main__:\n",
      "\n",
      "class RC_Circuit(builtins.object)\n",
      " |  RC_Circuit(resistance: float = 1.0, capacitance: float = 1.0) -> None\n",
      " |  \n",
      " |  A class to represent an RC series circuit.\n",
      " |  \n",
      " |  Methods defined here:\n",
      " |  \n",
      " |  __init__(self, resistance: float = 1.0, capacitance: float = 1.0) -> None\n",
      " |      Initialize the series RC circuit with resistance and capacitance.\n",
      " |      \n",
      " |      Parameters:\n",
      " |          resistance : Resistance in ohms. Default value is 1.0.\n",
      " |          capacitance : Capacitance in farads. Default value is 1.0.\n",
      " |  \n",
      " |  __repr__(self) -> str\n",
      " |      A  string  representation of the RC Circuit\n",
      " |  \n",
      " |  __str__(self) -> str\n",
      " |      A user-friendly  representation of RC Circuit\n",
      " |  \n",
      " |  impedance(self, frequency: float) -> float\n",
      " |      Calculate the impedance of the RC circuit.\n",
      " |      Parameter:\n",
      " |               frequency (float): Frequency in hertz.\n",
      " |      Returns:\n",
      " |             Impedance in ohms.\n",
      " |  \n",
      " |  ----------------------------------------------------------------------\n",
      " |  Class methods defined here:\n",
      " |  \n",
      " |  standard_values() -> 'RC Circuit' from builtins.type\n",
      " |      Class method to create an RC circuit with standard values.\n",
      " |  \n",
      " |  ----------------------------------------------------------------------\n",
      " |  Static methods defined here:\n",
      " |  \n",
      " |  calculate_reactance(capacitance_1: float, frequency: float) -> float\n",
      " |      Static method to calculate the capacitive reactance.\n",
      " |      \n",
      " |      Parameters:\n",
      " |          capacitance : Capacitance in farads.\n",
      " |          frequency : Frequency in hertz.\n",
      " |      \n",
      " |      Returns:\n",
      " |          Reactance in ohms.\n",
      " |  \n",
      " |  ----------------------------------------------------------------------\n",
      " |  Data descriptors defined here:\n",
      " |  \n",
      " |  __dict__\n",
      " |      dictionary for instance variables (if defined)\n",
      " |  \n",
      " |  __weakref__\n",
      " |      list of weak references to the object (if defined)\n",
      " |  \n",
      " |  capacitance\n",
      " |      Get the capacitance value.\n",
      " |  \n",
      " |  resistance\n",
      " |      Get the resistance value.\n",
      "\n"
     ]
    }
   ],
   "source": [
    "help(RC_Circuit)"
   ]
  },
  {
   "cell_type": "code",
   "execution_count": 162,
   "id": "99f1c5a3-86a0-4d71-b4f3-5e5678d3d09b",
   "metadata": {},
   "outputs": [
    {
     "name": "stdout",
     "output_type": "stream",
     "text": [
      "A class to represent an RC series circuit.\n",
      "Method: __init__,   Docstring: Initialize the series RC circuit with resistance and capacitance.\n",
      "\n",
      "        Parameters:\n",
      "            resistance : Resistance in ohms. Default value is 1.0.\n",
      "            capacitance : Capacitance in farads. Default value is 1.0.\n",
      "        ,   Annotations: {'resistance': <class 'float'>, 'capacitance': <class 'float'>, 'return': None}\n",
      "Method: impedance,   Docstring: Calculate the impedance of the RC circuit.\n",
      "        Parameter:\n",
      "                 frequency (float): Frequency in hertz.\n",
      "        Returns:\n",
      "               Impedance in ohms.\n",
      "        ,   Annotations: {'frequency': <class 'float'>, 'return': <class 'float'>}\n",
      "Method: standard_values,   Docstring: Class method to create an RC circuit with standard values.,   Annotations: {'return': 'RC Circuit'}\n",
      "Method: calculate_reactance,   Docstring: Static method to calculate the capacitive reactance.\n",
      "\n",
      "        Parameters:\n",
      "            capacitance : Capacitance in farads.\n",
      "            frequency : Frequency in hertz.\n",
      "\n",
      "        Returns:\n",
      "            Reactance in ohms.\n",
      "        ,   Annotations: {'capacitance_1': <class 'float'>, 'frequency': <class 'float'>, 'return': <class 'float'>}\n",
      "Method: __repr__,   Docstring: A  string  representation of the RC Circuit,   Annotations: {'return': <class 'str'>}\n",
      "Method: __str__,   Docstring: A user-friendly  representation of RC Circuit,   Annotations: {'return': <class 'str'>}\n"
     ]
    }
   ],
   "source": [
    "print(RC_Circuit.__doc__)\n",
    "for method in [\n",
    "    RC_Circuit.__init__,\n",
    "    RC_Circuit.impedance,\n",
    "    RC_Circuit.standard_values,\n",
    "    RC_Circuit.calculate_reactance,\n",
    "    RC_Circuit.__repr__,\n",
    "    RC_Circuit.__str__,\n",
    "]:\n",
    "    if isinstance(method, property):\n",
    "        print(f\"(Method: {method.fget.__name__}),  (Docstring: {method.__doc__}),  (Annotations: {method.fget.__annotations__})\")\n",
    "    else:\n",
    "        print(f\"Method: {method.__name__},   Docstring: {method.__doc__},   Annotations: {method.__annotations__}\")"
   ]
  },
  {
   "cell_type": "code",
   "execution_count": 163,
   "id": "4827096e-d075-437e-83b7-734bc0659a9c",
   "metadata": {},
   "outputs": [
    {
     "name": "stdout",
     "output_type": "stream",
     "text": [
      "RC Series Circuit with resistance: 1.0 ohms, capacitance: 1.0 F\n"
     ]
    },
    {
     "data": {
      "text/plain": [
       "RC_Circuit(resistance=1.0, capacitance=1.0)"
      ]
     },
     "execution_count": 163,
     "metadata": {},
     "output_type": "execute_result"
    }
   ],
   "source": [
    "RC_3 = RC_Circuit()\n",
    "print(RC_3)\n",
    "RC_3"
   ]
  },
  {
   "cell_type": "markdown",
   "id": "36e81eb6-b086-48a3-8976-1725fe30cf52",
   "metadata": {},
   "source": [
    " **4.** ***RLC Parallel Circuit***"
   ]
  },
  {
   "cell_type": "code",
   "execution_count": 216,
   "id": "46853ad0-57d5-427f-8412-04ec9040a5c4",
   "metadata": {},
   "outputs": [],
   "source": [
    "import math\n",
    "class RLC_Circuit:\n",
    "    \"\"\"A class to represent an RLC parallel circuit.\"\"\"\n",
    "    def __init__(self, resistance: float = 1.0, inductance: float = 1.0, capacitance: float = 1.0) -> None:\n",
    "        \"\"\"\n",
    "        Initialize the parallel RLC circuit with resistance, inductance, and capacitance.\n",
    "        Parameters:\n",
    "            resistance : Resistance in ohms. \n",
    "            inductance : Inductance in henry. \n",
    "            capacitance : Capacitance in farads. \n",
    "        \"\"\"\n",
    "        self.resistance = resistance\n",
    "        self.inductance = inductance\n",
    "        self.capacitance = capacitance\n",
    "    @property\n",
    "    def resistance(self) -> float:\n",
    "        \"\"\"Get the resistance in ohms.\"\"\"\n",
    "        return self._resistance\n",
    "    @resistance.setter\n",
    "    def resistance(self, value: float) -> None:\n",
    "        \"\"\"Set the resistance in ohms.\"\"\"\n",
    "        self._resistance = value\n",
    "    @property\n",
    "    def inductance(self) -> float:\n",
    "        \"\"\"Get the inductance in henries.\"\"\"\n",
    "        return self._inductance\n",
    "    @inductance.setter\n",
    "    def inductance(self, value: float) -> None:\n",
    "        \"\"\"Set the inductance in henry.\"\"\"\n",
    "        self._inductance = value\n",
    "    @property\n",
    "    def capacitance(self) -> float:\n",
    "        \"\"\"Get the capacitance in farads.\"\"\"\n",
    "        return self._capacitance\n",
    "\n",
    "    @capacitance.setter\n",
    "    def capacitance(self, value: float) -> None:\n",
    "        \"\"\"Set the capacitance in farads.\"\"\"\n",
    "        self._capacitance = value\n",
    "    def total_impedance(self, frequency: float) -> complex:\n",
    "        \"\"\"\n",
    "        Calculate the total impedance of the RLC parallel circuit at a given frequency.\n",
    "        Parameter:\n",
    "            frequency : Frequency in hertz. \n",
    "        Returns:\n",
    "             Total impedance in ohms.\n",
    "        Formula:\n",
    "                impedance of Resistor = Z_R =  R\n",
    "                impedance of inductor = jXl = j * 2 * π * f * L\n",
    "                impedance of capacitor= 1 / -jXc = -j (1 / (2 * π * f * C))\n",
    "            Total_impedance ==> 1 / (1/ Z_R) + (1 / Z_L) + (1 / Z_C))\n",
    "        \"\"\"        \n",
    "        Z_R = self.resistance\n",
    "        Xl = math.pi * 2 * frequency * self.inductance\n",
    "        Xc = math.pi * 2 * frequency * self.capacitance\n",
    "        total_impedance = 1 / (1 / Z_R) + (1 / Xl) + (1 / Xc)\n",
    "        return total_impedance\n",
    "    @staticmethod\n",
    "    def RLC_reactance(capacitance_1: float, inductance_1: float, resistance_1: float,  frequency: float) -> float:\n",
    "        \"\"\"Static method to calculate the capacitive reactance.\n",
    "\n",
    "        Parameters:\n",
    "            capacitance : Capacitance in farads.\n",
    "            frequency : Frequency in hertz.\n",
    "        Returns:\n",
    "            Reactance in ohms.\n",
    "        \"\"\"\n",
    "        return 1 / (2 * math.pi * frequency * capacitance_1),\n",
    "        return (2 * math.pi * frequency * inductance_1),\n",
    "        return (resistance_1)\n",
    "    @classmethod\n",
    "    def standard_values(cls) -> 'RLC Circuit Parallel':\n",
    "        \"\"\"\n",
    "        Create an RLC parallel circuit with standard values (1 ohm, 1 H, 1 F).\n",
    "        \n",
    "        Returns:\n",
    "            RLC Circui tParallel: An instance of the class with standard values.\n",
    "        \"\"\"\n",
    "        return cls(1.0, 1.0, 1.0)\n",
    "        return  1 / (2 * math.pi * math.sqrt(inductance * capacitance))\n",
    "    def __repr__(self) -> str:\n",
    "        return (f\"{type(self).__name__} (resistance={self.resistance}, inductance={self.inductance}, capacitance={self.capacitance})\")\n",
    "\n",
    "    def __str__(self) -> str:\n",
    "        return (f\"RLC Parallel Circuit with resistance: {self.resistance} ohm,inductance: {self.inductance} H, capacitance: {self.capacitance} F\")\n"
   ]
  },
  {
   "cell_type": "code",
   "execution_count": 201,
   "id": "69417be4-0366-4df9-b695-ed86524f053d",
   "metadata": {},
   "outputs": [],
   "source": [
    "RLC_1 = RLC_Circuit(10, 0.1, 0.001)\n",
    "RLC_2= RLC_Circuit(30,0.001,0.001)"
   ]
  },
  {
   "cell_type": "code",
   "execution_count": 202,
   "id": "7231e5e1-72b1-41d3-b28f-ec8c3da56b7f",
   "metadata": {},
   "outputs": [
    {
     "name": "stdout",
     "output_type": "stream",
     "text": [
      "RLC Parallel Circuit with resistance: 10 ohm,inductance: 0.1 H, capacitance: 0.001 F\n",
      "RLC Parallel Circuit with resistance: 30 ohm,inductance: 0.001 H, capacitance: 0.001 F\n"
     ]
    }
   ],
   "source": [
    "print(RLC_1)\n",
    "print(RLC_2)"
   ]
  },
  {
   "cell_type": "code",
   "execution_count": 203,
   "id": "40cd77bb-1055-496e-b4b4-1d0fbe0224a9",
   "metadata": {},
   "outputs": [
    {
     "data": {
      "text/plain": [
       "RLC_Circuit (resistance=10, inductance=0.1, capacitance=0.001)"
      ]
     },
     "execution_count": 203,
     "metadata": {},
     "output_type": "execute_result"
    }
   ],
   "source": [
    "RLC_1"
   ]
  },
  {
   "cell_type": "code",
   "execution_count": 204,
   "id": "9530bea4-f51a-49b8-b7a0-db7f744127b1",
   "metadata": {},
   "outputs": [
    {
     "data": {
      "text/plain": [
       "RLC_Circuit (resistance=30, inductance=0.001, capacitance=0.001)"
      ]
     },
     "execution_count": 204,
     "metadata": {},
     "output_type": "execute_result"
    }
   ],
   "source": [
    "RLC_2"
   ]
  },
  {
   "cell_type": "code",
   "execution_count": 205,
   "id": "5bcff8dc-e460-434c-91d3-2c889fa75043",
   "metadata": {},
   "outputs": [
    {
     "name": "stdout",
     "output_type": "stream",
     "text": [
      "mappingproxy({'RLC_reactance': <staticmethod object at 0x0000019F09E058B0>,\n",
      "              '__dict__': <attribute '__dict__' of 'RLC_Circuit' objects>,\n",
      "              '__doc__': 'A class to represent an RLC parallel circuit.',\n",
      "              '__init__': <function RLC_Circuit.__init__ at 0x0000019F09E38310>,\n",
      "              '__module__': '__main__',\n",
      "              '__repr__': <function RLC_Circuit.__repr__ at 0x0000019F09E5A1F0>,\n",
      "              '__str__': <function RLC_Circuit.__str__ at 0x0000019F09E5A3A0>,\n",
      "              '__weakref__': <attribute '__weakref__' of 'RLC_Circuit' objects>,\n",
      "              'capacitance': <property object at 0x0000019F09E527C0>,\n",
      "              'inductance': <property object at 0x0000019F09E52770>,\n",
      "              'resistance': <property object at 0x0000019F09E52720>,\n",
      "              'standard_values': <classmethod object at 0x0000019F09E05190>,\n",
      "              'total_impedance': <function RLC_Circuit.total_impedance at 0x0000019F09E38820>})\n"
     ]
    }
   ],
   "source": [
    "pprint(RLC_Circuit.__dict__)"
   ]
  },
  {
   "cell_type": "code",
   "execution_count": 206,
   "id": "d7b2ad8f-ea7d-45da-91f1-ad23d91bd474",
   "metadata": {},
   "outputs": [
    {
     "name": "stdout",
     "output_type": "stream",
     "text": [
      "mappingproxy({'RLC_reactance': <staticmethod object at 0x0000019F09E058B0>,\n",
      "              '__dict__': <attribute '__dict__' of 'RLC_Circuit' objects>,\n",
      "              '__doc__': 'A class to represent an RLC parallel circuit.',\n",
      "              '__init__': <function RLC_Circuit.__init__ at 0x0000019F09E38310>,\n",
      "              '__module__': '__main__',\n",
      "              '__repr__': <function RLC_Circuit.__repr__ at 0x0000019F09E5A1F0>,\n",
      "              '__str__': <function RLC_Circuit.__str__ at 0x0000019F09E5A3A0>,\n",
      "              '__weakref__': <attribute '__weakref__' of 'RLC_Circuit' objects>,\n",
      "              'capacitance': <property object at 0x0000019F09E527C0>,\n",
      "              'inductance': <property object at 0x0000019F09E52770>,\n",
      "              'resistance': <property object at 0x0000019F09E52720>,\n",
      "              'standard_values': <classmethod object at 0x0000019F09E05190>,\n",
      "              'total_impedance': <function RLC_Circuit.total_impedance at 0x0000019F09E38820>})\n"
     ]
    }
   ],
   "source": [
    "pprint(vars(RLC_Circuit))"
   ]
  },
  {
   "cell_type": "code",
   "execution_count": 207,
   "id": "147cf90b-11cd-4a93-af21-88345d414dbf",
   "metadata": {},
   "outputs": [
    {
     "name": "stdout",
     "output_type": "stream",
     "text": [
      "Help on class RLC_Circuit in module __main__:\n",
      "\n",
      "class RLC_Circuit(builtins.object)\n",
      " |  RLC_Circuit(resistance: float = 1.0, inductance: float = 1.0, capacitance: float = 1.0) -> None\n",
      " |  \n",
      " |  A class to represent an RLC parallel circuit.\n",
      " |  \n",
      " |  Methods defined here:\n",
      " |  \n",
      " |  __init__(self, resistance: float = 1.0, inductance: float = 1.0, capacitance: float = 1.0) -> None\n",
      " |      Initialize the parallel RLC circuit with resistance, inductance, and capacitance.\n",
      " |      Parameters:\n",
      " |          resistance : Resistance in ohms. \n",
      " |          inductance : Inductance in henry. \n",
      " |          capacitance : Capacitance in farads.\n",
      " |  \n",
      " |  __repr__(self) -> str\n",
      " |      Return repr(self).\n",
      " |  \n",
      " |  __str__(self) -> str\n",
      " |      Return str(self).\n",
      " |  \n",
      " |  total_impedance(self, frequency: float) -> complex\n",
      " |      Calculate the total impedance of the RLC parallel circuit at a given frequency.\n",
      " |      Parameter:\n",
      " |          frequency : Frequency in hertz. \n",
      " |      Returns:\n",
      " |           Total impedance in ohms.\n",
      " |      Formula:\n",
      " |              impedance of Resistor = Z_R =  R\n",
      " |              impedance of inductor = jXl = j * 2 * π * f * L\n",
      " |              impedance of capacitor= 1 / -jXc = -j (1 / (2 * π * f * C))\n",
      " |          Total_impedance ==> 1 / (1/ Z_R) + (1 / Z_L) + (1 / Z_C))\n",
      " |  \n",
      " |  ----------------------------------------------------------------------\n",
      " |  Class methods defined here:\n",
      " |  \n",
      " |  standard_values() -> 'RLC Circuit Parallel' from builtins.type\n",
      " |      Create an RLC parallel circuit with standard values (1 ohm, 1 H, 1 F).\n",
      " |      \n",
      " |      Returns:\n",
      " |          RLC Circui tParallel: An instance of the class with standard values.\n",
      " |  \n",
      " |  ----------------------------------------------------------------------\n",
      " |  Static methods defined here:\n",
      " |  \n",
      " |  RLC_reactance(capacitance_1: float, inductance_1: float, resistance_1: float, frequency: float) -> float\n",
      " |      Static method to calculate the capacitive reactance.\n",
      " |      \n",
      " |      Parameters:\n",
      " |          capacitance : Capacitance in farads.\n",
      " |          frequency : Frequency in hertz.\n",
      " |      Returns:\n",
      " |          Reactance in ohms.\n",
      " |  \n",
      " |  ----------------------------------------------------------------------\n",
      " |  Data descriptors defined here:\n",
      " |  \n",
      " |  __dict__\n",
      " |      dictionary for instance variables (if defined)\n",
      " |  \n",
      " |  __weakref__\n",
      " |      list of weak references to the object (if defined)\n",
      " |  \n",
      " |  capacitance\n",
      " |      Get the capacitance in farads.\n",
      " |  \n",
      " |  inductance\n",
      " |      Get the inductance in henries.\n",
      " |  \n",
      " |  resistance\n",
      " |      Get the resistance in ohms.\n",
      "\n"
     ]
    }
   ],
   "source": [
    "help(RLC_Circuit)"
   ]
  },
  {
   "cell_type": "code",
   "execution_count": 208,
   "id": "29b298c2-1cdb-4a1c-bfe1-33318be20071",
   "metadata": {},
   "outputs": [
    {
     "name": "stdout",
     "output_type": "stream",
     "text": [
      "{'_resistance': 10, '_inductance': 0.1, '_capacitance': 0.001}\n",
      "{'_resistance': 30, '_inductance': 0.001, '_capacitance': 0.001}\n"
     ]
    }
   ],
   "source": [
    "print(RLC_1.__dict__)\n",
    "print(RLC_2.__dict__)"
   ]
  },
  {
   "cell_type": "code",
   "execution_count": 214,
   "id": "46e0344a-8696-4063-acdc-cbc449f8ccf4",
   "metadata": {},
   "outputs": [
    {
     "name": "stdout",
     "output_type": "stream",
     "text": [
      "A class to represent an RLC parallel circuit.\n",
      "Method: __init__,   Docstring: \n",
      "        Initialize the parallel RLC circuit with resistance, inductance, and capacitance.\n",
      "        Parameters:\n",
      "            resistance : Resistance in ohms. \n",
      "            inductance : Inductance in henry. \n",
      "            capacitance : Capacitance in farads. \n",
      "        ,   Annotations: {'resistance': <class 'float'>, 'inductance': <class 'float'>, 'capacitance': <class 'float'>, 'return': None}\n",
      "Method: total_impedance,   Docstring: \n",
      "        Calculate the total impedance of the RLC parallel circuit at a given frequency.\n",
      "        Parameter:\n",
      "            frequency : Frequency in hertz. \n",
      "        Returns:\n",
      "             Total impedance in ohms.\n",
      "        Formula:\n",
      "                impedance of Resistor = Z_R =  R\n",
      "                impedance of inductor = jXl = j * 2 * π * f * L\n",
      "                impedance of capacitor= 1 / -jXc = -j (1 / (2 * π * f * C))\n",
      "            Total_impedance ==> 1 / (1/ Z_R) + (1 / Z_L) + (1 / Z_C))\n",
      "        ,   Annotations: {'frequency': <class 'float'>, 'return': <class 'complex'>}\n",
      "Method: standard_values,   Docstring: \n",
      "        Create an RLC parallel circuit with standard values (1 ohm, 1 H, 1 F).\n",
      "        \n",
      "        Returns:\n",
      "            RLC Circui tParallel: An instance of the class with standard values.\n",
      "        ,   Annotations: {'return': 'RLC Circuit Parallel'}\n",
      "Method: RLC_reactance,   Docstring: Static method to calculate the capacitive reactance.\n",
      "\n",
      "        Parameters:\n",
      "            capacitance : Capacitance in farads.\n",
      "            frequency : Frequency in hertz.\n",
      "        Returns:\n",
      "            Reactance in ohms.\n",
      "        ,   Annotations: {'capacitance_1': <class 'float'>, 'inductance_1': <class 'float'>, 'resistance_1': <class 'float'>, 'frequency': <class 'float'>, 'return': <class 'float'>}\n",
      "Method: __repr__,   Docstring: None,   Annotations: {'return': <class 'str'>}\n",
      "Method: __str__,   Docstring: None,   Annotations: {'return': <class 'str'>}\n"
     ]
    }
   ],
   "source": [
    "print(RLC_Circuit.__doc__)\n",
    "for method in [\n",
    "    RLC_Circuit.__init__,\n",
    "    RLC_Circuit.total_impedance,\n",
    "    RLC_Circuit.standard_values,\n",
    "    RLC_Circuit.RLC_reactance,\n",
    "    RLC_Circuit.__repr__,\n",
    "    RLC_Circuit.__str__,\n",
    "]:\n",
    "    if isinstance(method, property):\n",
    "        print(f\"(Method: {method.fget.__name__}),  (Docstring: {method.__doc__}),  (Annotations: {method.fget.__annotations__})\")\n",
    "    else:\n",
    "        print(f\"Method: {method.__name__},   Docstring: {method.__doc__},   Annotations: {method.__annotations__}\")"
   ]
  },
  {
   "cell_type": "code",
   "execution_count": 215,
   "id": "483f24df-2dc7-4aa5-b121-41dc1f3cea62",
   "metadata": {},
   "outputs": [
    {
     "name": "stdout",
     "output_type": "stream",
     "text": [
      "RLC Parallel Circuit with resistance: 1.0 ohm,inductance: 1.0 H, capacitance: 1.0 F\n"
     ]
    },
    {
     "data": {
      "text/plain": [
       "RLC_Circuit (resistance=1.0, inductance=1.0, capacitance=1.0)"
      ]
     },
     "execution_count": 215,
     "metadata": {},
     "output_type": "execute_result"
    }
   ],
   "source": [
    "RLC = RLC_Circuit()\n",
    "print(RLC)\n",
    "RLC"
   ]
  },
  {
   "cell_type": "markdown",
   "id": "8e3b68ae-83e6-41ad-a339-36f5d1e0ccba",
   "metadata": {},
   "source": [
    " **5.** ***RLC Series Circuit***"
   ]
  },
  {
   "cell_type": "code",
   "execution_count": 218,
   "id": "dd7041b2-ea90-48d2-95fb-57671839b411",
   "metadata": {},
   "outputs": [],
   "source": [
    "import math\n",
    "class RLC_Series_Circuit:\n",
    "    \"\"\"A class to represent a series RLC circuit.\"\"\"  \n",
    "    def __init__(self, resistance: float = 1.0, inductance: float = 1.0, capacitance: float = 1.0) -> None:\n",
    "        \"\"\"\n",
    "        Initialize the series RLC circuit with resistance, inductance, and capacitance.   \n",
    "        Parameter:\n",
    "            resistance : Resistance in ohms. \n",
    "            inductance: Inductance in henries. \n",
    "            capacitance : Capacitance in farads. \n",
    "        \"\"\"\n",
    "        self.resistance = resistance\n",
    "        self.inductance = inductance\n",
    "        self.capacitance = capacitance\n",
    "    @property\n",
    "    def resistance(self) -> float:\n",
    "        \"\"\"Get the resistance in ohms.\"\"\"\n",
    "        return self._resistance\n",
    "\n",
    "    @resistance.setter\n",
    "    def resistance(self, value: float) -> None:\n",
    "        \"\"\"Set the resistance in ohms.\"\"\"\n",
    "        self._resistance = value\n",
    "    @property\n",
    "    def inductance(self) -> float:\n",
    "        \"\"\"Get the inductance in henries.\"\"\"\n",
    "        return self._inductance\n",
    "    @inductance.setter\n",
    "    def inductance(self, value: float) -> None:\n",
    "        \"\"\"Set the inductance in henries.\"\"\"\n",
    "        self._inductance = value\n",
    "    @property\n",
    "    def capacitance(self) -> float:\n",
    "        \"\"\"Get the capacitance in farads.\"\"\"\n",
    "        return self._capacitance\n",
    "    @capacitance.setter\n",
    "    def capacitance(self, value: float) -> None:\n",
    "        \"\"\"Set the capacitance in farads.\"\"\"\n",
    "        self._capacitance = value\n",
    "\n",
    "    def total_impedance(self, frequency: float) -> complex:\n",
    "        \"\"\"\n",
    "        Calculate the total impedance of the RLC series circuit at a given frequency.\n",
    "        Parameter:\n",
    "            frequency (float): Frequency in hertz.\n",
    "        Returns:\n",
    "            Total impedance in ohms.\n",
    "        Formula:\n",
    "            Z_R = R\n",
    "            Z_L = jXl = j * 2 * π * f * L\n",
    "            Z_C = -j 1/ (Xc) = -j (1 / (2 * π * f * C))\n",
    "            Total impedance Z_total = Z_R + Z_L + Z_C\n",
    "        \"\"\"\n",
    "        Z_R = self.resistance\n",
    "        Z_L = 1j * 2 * math.p1 * frequency * self.inductance\n",
    "        Z_C = -1j / (2 * math.pi * frequency * self.capacitance)\n",
    "        return Z_R + Z_L + Z_C\n",
    "    @classmethod\n",
    "    def standard_values(cls) -> 'RLC_Circuit':\n",
    "        \"\"\"\n",
    "        Create an RLC series circuit with standard values (1 ohm, 1 H, 1 F).\n",
    "        \n",
    "        Returns:\n",
    "            RLC_Circuit: An instance of the class with standard values.\n",
    "        \"\"\"\n",
    "        return cls(1.0, 1.0, 1.0)\n",
    "    @staticmethod\n",
    "    def resonant_frequency(inductance_1: float, capacitance_2: float) -> float:\n",
    "        \"\"\"\n",
    "        Calculate the resonant frequency for a series RLC circuit.\n",
    "        Args:\n",
    "            inductance (float): Inductance in henries.\n",
    "            capacitance (float): Capacitance in farads.\n",
    "        Returns:\n",
    "            float: The resonant frequency in hertz.\n",
    "        Formula:\n",
    "            f_r = 1 / (2 * π * sqrt(L * C))\n",
    "        \"\"\"\n",
    "        return 1 / (2 * math.pi * math.sqrt(inductance_1* capacitance_1))\n",
    "    def __repr__(self) -> str:\n",
    "        \"\"\"A  string  representation of the Resistor\"\"\"\n",
    "        return (f\"{type(self).__name__}(resistance={self.resistance}, inductance={self.inductance}, capacitance={self.capacitance})\")\n",
    "    def __str__(self) -> str:\n",
    "        \"\"\"A user-friendly  representation of Resistor\"\"\"\n",
    "        return (f\"RLC Series Circuit with resistance: {self.resistance} ohm, inductance: {self.inductance} H, capacitance: {self.capacitance} F\")\n"
   ]
  },
  {
   "cell_type": "code",
   "execution_count": 219,
   "id": "89ee5eab-a0f2-46f0-ae2e-eeef4ed5e7ba",
   "metadata": {},
   "outputs": [],
   "source": [
    "RLC_series_circuit_1 = RLC_Series_Circuit(resistance=20, inductance=0.1, capacitance=0.001)\n",
    "RLC_series_circuit_2 = RLC_Series_Circuit(resistance=30, inductance=0.1, capacitance=0.001)"
   ]
  },
  {
   "cell_type": "code",
   "execution_count": 220,
   "id": "544259b2-d2ce-4ac1-b57b-e621bbdb4859",
   "metadata": {},
   "outputs": [
    {
     "name": "stdout",
     "output_type": "stream",
     "text": [
      "RLC Series Circuit with resistance: 20 ohm, inductance: 0.1 H, capacitance: 0.001 F\n",
      "RLC Series Circuit with resistance: 30 ohm, inductance: 0.1 H, capacitance: 0.001 F\n"
     ]
    }
   ],
   "source": [
    "print(RLC_series_circuit_1)\n",
    "print(RLC_series_circuit_2)"
   ]
  },
  {
   "cell_type": "code",
   "execution_count": 221,
   "id": "eecd4e9c-7022-4acf-a8c5-4d2ea1a8af76",
   "metadata": {},
   "outputs": [
    {
     "name": "stdout",
     "output_type": "stream",
     "text": [
      "mappingproxy({'__dict__': <attribute '__dict__' of 'RLC_Series_Circuit' objects>,\n",
      "              '__doc__': 'A class to represent a series RLC circuit.',\n",
      "              '__init__': <function RLC_Series_Circuit.__init__ at 0x0000019F09E78EE0>,\n",
      "              '__module__': '__main__',\n",
      "              '__repr__': <function RLC_Series_Circuit.__repr__ at 0x0000019F09E90670>,\n",
      "              '__str__': <function RLC_Series_Circuit.__str__ at 0x0000019F09E90700>,\n",
      "              '__weakref__': <attribute '__weakref__' of 'RLC_Series_Circuit' objects>,\n",
      "              'capacitance': <property object at 0x0000019F09DB8D60>,\n",
      "              'inductance': <property object at 0x0000019F09DB8D10>,\n",
      "              'resistance': <property object at 0x0000019F09DB8C70>,\n",
      "              'resonant_frequency': <staticmethod object at 0x0000019F09E957C0>,\n",
      "              'standard_values': <classmethod object at 0x0000019F09C96CA0>,\n",
      "              'total_impedance': <function RLC_Series_Circuit.total_impedance at 0x0000019F09E904C0>})\n"
     ]
    }
   ],
   "source": [
    "pprint(RLC_Series_Circuit.__dict__)"
   ]
  },
  {
   "cell_type": "code",
   "execution_count": 222,
   "id": "138defe6-bd5b-4237-9e1a-b2af005e2646",
   "metadata": {},
   "outputs": [
    {
     "name": "stdout",
     "output_type": "stream",
     "text": [
      "mappingproxy({'__dict__': <attribute '__dict__' of 'RLC_Series_Circuit' objects>,\n",
      "              '__doc__': 'A class to represent a series RLC circuit.',\n",
      "              '__init__': <function RLC_Series_Circuit.__init__ at 0x0000019F09E78EE0>,\n",
      "              '__module__': '__main__',\n",
      "              '__repr__': <function RLC_Series_Circuit.__repr__ at 0x0000019F09E90670>,\n",
      "              '__str__': <function RLC_Series_Circuit.__str__ at 0x0000019F09E90700>,\n",
      "              '__weakref__': <attribute '__weakref__' of 'RLC_Series_Circuit' objects>,\n",
      "              'capacitance': <property object at 0x0000019F09DB8D60>,\n",
      "              'inductance': <property object at 0x0000019F09DB8D10>,\n",
      "              'resistance': <property object at 0x0000019F09DB8C70>,\n",
      "              'resonant_frequency': <staticmethod object at 0x0000019F09E957C0>,\n",
      "              'standard_values': <classmethod object at 0x0000019F09C96CA0>,\n",
      "              'total_impedance': <function RLC_Series_Circuit.total_impedance at 0x0000019F09E904C0>})\n"
     ]
    }
   ],
   "source": [
    "pprint(vars((RLC_Series_Circuit)))"
   ]
  },
  {
   "cell_type": "code",
   "execution_count": 224,
   "id": "31d1c9f3-9750-4863-af6b-6ecd0a889645",
   "metadata": {},
   "outputs": [
    {
     "name": "stdout",
     "output_type": "stream",
     "text": [
      "{'_capacitance': 0.001, '_inductance': 0.1, '_resistance': 20}\n",
      "{'_capacitance': 0.001, '_inductance': 0.1, '_resistance': 30}\n"
     ]
    }
   ],
   "source": [
    "pprint(RLC_series_circuit_1.__dict__)\n",
    "pprint(RLC_series_circuit_2.__dict__)"
   ]
  },
  {
   "cell_type": "code",
   "execution_count": 225,
   "id": "abf2d28b-3101-4cb3-8fb1-681e35724330",
   "metadata": {},
   "outputs": [
    {
     "name": "stdout",
     "output_type": "stream",
     "text": [
      "A class to represent a series RLC circuit.\n",
      "Method: __init__,   Docstring: \n",
      "        Initialize the series RLC circuit with resistance, inductance, and capacitance.   \n",
      "        Parameter:\n",
      "            resistance : Resistance in ohms. \n",
      "            inductance: Inductance in henries. \n",
      "            capacitance : Capacitance in farads. \n",
      "        ,   Annotations: {'resistance': <class 'float'>, 'inductance': <class 'float'>, 'capacitance': <class 'float'>, 'return': None}\n",
      "Method: total_impedance,   Docstring: \n",
      "        Calculate the total impedance of the RLC series circuit at a given frequency.\n",
      "        Parameter:\n",
      "            frequency (float): Frequency in hertz.\n",
      "        Returns:\n",
      "            Total impedance in ohms.\n",
      "        Formula:\n",
      "            Z_R = R\n",
      "            Z_L = jXl = j * 2 * π * f * L\n",
      "            Z_C = -j 1/ (Xc) = -j (1 / (2 * π * f * C))\n",
      "            Total impedance Z_total = Z_R + Z_L + Z_C\n",
      "        ,   Annotations: {'frequency': <class 'float'>, 'return': <class 'complex'>}\n",
      "Method: standard_values,   Docstring: \n",
      "        Create an RLC series circuit with standard values (1 ohm, 1 H, 1 F).\n",
      "        \n",
      "        Returns:\n",
      "            RLC_Circuit: An instance of the class with standard values.\n",
      "        ,   Annotations: {'return': 'RLC_Circuit'}\n",
      "Method: resonant_frequency,   Docstring: \n",
      "        Calculate the resonant frequency for a series RLC circuit.\n",
      "        Args:\n",
      "            inductance (float): Inductance in henries.\n",
      "            capacitance (float): Capacitance in farads.\n",
      "        Returns:\n",
      "            float: The resonant frequency in hertz.\n",
      "        Formula:\n",
      "            f_r = 1 / (2 * π * sqrt(L * C))\n",
      "        ,   Annotations: {'inductance_1': <class 'float'>, 'capacitance_2': <class 'float'>, 'return': <class 'float'>}\n",
      "Method: __repr__,   Docstring: A  string  representation of the Resistor,   Annotations: {'return': <class 'str'>}\n",
      "Method: __str__,   Docstring: A user-friendly  representation of Resistor,   Annotations: {'return': <class 'str'>}\n"
     ]
    }
   ],
   "source": [
    "print(RLC_Series_Circuit.__doc__)\n",
    "for method in [\n",
    "    RLC_Series_Circuit.__init__,\n",
    "    RLC_Series_Circuit.total_impedance,\n",
    "    RLC_Series_Circuit.standard_values,\n",
    "    RLC_Series_Circuit.resonant_frequency,\n",
    "    RLC_Series_Circuit.__repr__,\n",
    "    RLC_Series_Circuit.__str__,\n",
    "]:\n",
    "    if isinstance(method, property):\n",
    "        print(f\"(Method: {method.fget.__name__}),  (Docstring: {method.__doc__}),  (Annotations: {method.fget.__annotations__})\")\n",
    "    else:\n",
    "        print(f\"Method: {method.__name__},   Docstring: {method.__doc__},   Annotations: {method.__annotations__}\")"
   ]
  },
  {
   "cell_type": "code",
   "execution_count": 226,
   "id": "9363559f-7ce4-4966-b85a-96a3b01bf97d",
   "metadata": {},
   "outputs": [
    {
     "name": "stdout",
     "output_type": "stream",
     "text": [
      "RLC Series Circuit with resistance: 1.0 ohm, inductance: 1.0 H, capacitance: 1.0 F\n"
     ]
    },
    {
     "data": {
      "text/plain": [
       "RLC_Series_Circuit(resistance=1.0, inductance=1.0, capacitance=1.0)"
      ]
     },
     "execution_count": 226,
     "metadata": {},
     "output_type": "execute_result"
    }
   ],
   "source": [
    "RLC_Series_Circuit_3 = RLC_Series_Circuit()\n",
    "print(RLC_Series_Circuit_3)\n",
    "RLC_Series_Circuit_3"
   ]
  },
  {
   "cell_type": "markdown",
   "id": "d9ff9b8a-3b7b-4766-8d38-41cbedada058",
   "metadata": {},
   "source": [
    " **6.** ***RLC Parallel Circuit***"
   ]
  },
  {
   "cell_type": "code",
   "execution_count": 2,
   "id": "122fbbfc-46de-4d9e-b184-b8ff213c69ac",
   "metadata": {},
   "outputs": [],
   "source": [
    " import math\n",
    "class RLC_Parallel_resonance_Circuit:\n",
    "    \"\"\"A class to represent a parallel RLC circuit.\"\"\"\n",
    "    \n",
    "    def __init__(self, resistance: float = 1.0, inductance: float = 1.0, capacitance: float = 1.0) -> None:\n",
    "        \"\"\"\n",
    "        Initialize the parallel RLC circuit with resistance, inductance, and capacitance.\n",
    "        \n",
    "        Parameters:\n",
    "            resistance : Resistance in ohms.\n",
    "            inductance : Inductance in henries.\n",
    "            capacitance : Capacitance in farads.\n",
    "        \"\"\"\n",
    "        self.resistance = resistance\n",
    "        self.inductance = inductance\n",
    "        self.capacitance = capacitance\n",
    "\n",
    "    @property\n",
    "    def resistance(self) -> float:\n",
    "        \"\"\"Get the resistance in ohm.\"\"\"\n",
    "        return self._resistance\n",
    "\n",
    "    @resistance.setter\n",
    "    def resistance(self, value: float) -> None:\n",
    "        \"\"\"Set the resistance in ohm.\"\"\"\n",
    "        self._resistance = value\n",
    "\n",
    "    @property\n",
    "    def inductance(self) -> float:\n",
    "        \"\"\"Get the inductance in henry.\"\"\"\n",
    "        return self._inductance\n",
    "\n",
    "    @inductance.setter\n",
    "    def inductance(self, value: float) -> None:\n",
    "        \"\"\"Set the inductance in henry.\"\"\"\n",
    "        self._inductance = value\n",
    "\n",
    "    @property\n",
    "    def capacitance(self) -> float:\n",
    "        \"\"\"Get the capacitance in farad.\"\"\"\n",
    "        return self._capacitance\n",
    "\n",
    "    @capacitance.setter\n",
    "    def capacitance(self, value: float) -> None:\n",
    "        \"\"\"Set the capacitance in farad.\"\"\"\n",
    "        self._capacitance = value\n",
    "\n",
    "    def total_impedance(self, frequency: float) -> complex:\n",
    "        \"\"\"\n",
    "        Calculate the total impedance of the RLC parallel circuit at a given frequency.\n",
    "        \n",
    "        Args:\n",
    "            frequency (float): Frequency in hertz.\n",
    "        \n",
    "        Returns:\n",
    "               Total impedance in ohms.\n",
    "        Formula:\n",
    "                Y_R = 1 / self.resistance\n",
    "                Y_L = 1 / (1j *  2 * π * f * L)\n",
    "                Y_C = 1j *  2 * π * f *)\n",
    "        \"Y\" is the addmittance\n",
    "        \"\"\"\n",
    "        Y_R = 1 / self.resistance\n",
    "        Y_L = 1 / (1j * 2 * math.pi * frequency * self.inductance)\n",
    "        Y_C = 1j * 2 * math.pi * frequency * self.capacitance\n",
    "        Y_total = Y_R + Y_L + Y_C\n",
    "        return  Y_total\n",
    "    @staticmethod\n",
    "    def resonance_frequency(inductance3e_1: float, capacitance_1: float) -> float:\n",
    "        \"\"\"\n",
    "        Calculate the resonance frequency of the RLC parallel circuit.\n",
    "        Returns:\n",
    "           Resonance frequency in hertz.\n",
    "        \"\"\"\n",
    "        return 1 / (2 * math.pi * math.sqrt(inductance * capacitance))\n",
    "    @classmethod\n",
    "    def standard_values(cls):\n",
    "        \"\"\"\n",
    "        Create an RLC parallel circuit with standard values (1 ohm, 1 H, 1 F).\n",
    "        Returns:\n",
    "            RLC_Circuit: An instance of the class with standard values.\n",
    "        \"\"\"\n",
    "        return cls(1.0, 1.0, 1.0)\n",
    "\n",
    "    def __repr__(self) -> str:\n",
    "        \"\"\"A  string  representation of the Resistor\"\"\"\n",
    "        return (f\"{type(self).__name__}(resistance={self.resistance}, inductance={self.inductance}, \"\n",
    "                f\"capacitance={self.capacitance})\")\n",
    "    def __str__(self) -> str:\n",
    "        \"\"\"A  string  representation of the Resistor\"\"\"    \n",
    "        return (f\"RLC Parallel Circuit with resistance: {self.resistance} ohm, inductance: {self.inductance} H, capacitance: {self.capacitance} F\")\n"
   ]
  },
  {
   "cell_type": "code",
   "execution_count": 3,
   "id": "c9555c29-20cb-4c80-91aa-789f56da71fd",
   "metadata": {},
   "outputs": [],
   "source": [
    "RLC_parallel_resonance_1 = RLC_Parallel_resonance_Circuit(resistance=50, inductance=0.1, capacitance=0.001)\n",
    "RLC_parallel_resonance_2 = RLC_Parallel_resonance_Circuit(resistance=80, inductance=0.1, capacitance=0.001)"
   ]
  },
  {
   "cell_type": "code",
   "execution_count": 4,
   "id": "b06c9c50-a8f1-44f5-b971-a3c87614ea51",
   "metadata": {},
   "outputs": [
    {
     "name": "stdout",
     "output_type": "stream",
     "text": [
      "RLC Parallel Circuit with resistance: 50 ohm, inductance: 0.1 H, capacitance: 0.001 F\n",
      "RLC Parallel Circuit with resistance: 80 ohm, inductance: 0.1 H, capacitance: 0.001 F\n"
     ]
    }
   ],
   "source": [
    "print(RLC_parallel_resonance_1)\n",
    "print(RLC_parallel_resonance_2)"
   ]
  },
  {
   "cell_type": "code",
   "execution_count": 5,
   "id": "58445aed-3cf4-489c-a2b1-c1f2ad82850b",
   "metadata": {},
   "outputs": [
    {
     "name": "stdout",
     "output_type": "stream",
     "text": [
      "Pretty printing has been turned OFF\n"
     ]
    }
   ],
   "source": [
    "pprint(RLC_Parallel_resonance_Circuit.__dict__)"
   ]
  },
  {
   "cell_type": "code",
   "execution_count": 6,
   "id": "8c979139-3ac0-4fbf-8592-95be36c0a23f",
   "metadata": {},
   "outputs": [
    {
     "name": "stdout",
     "output_type": "stream",
     "text": [
      "Help on class RLC_Parallel_resonance_Circuit in module __main__:\n",
      "\n",
      "class RLC_Parallel_resonance_Circuit(builtins.object)\n",
      " |  RLC_Parallel_resonance_Circuit(resistance: float = 1.0, inductance: float = 1.0, capacitance: float = 1.0) -> None\n",
      " |  \n",
      " |  A class to represent a parallel RLC circuit.\n",
      " |  \n",
      " |  Methods defined here:\n",
      " |  \n",
      " |  __init__(self, resistance: float = 1.0, inductance: float = 1.0, capacitance: float = 1.0) -> None\n",
      " |      Initialize the parallel RLC circuit with resistance, inductance, and capacitance.\n",
      " |      \n",
      " |      Parameters:\n",
      " |          resistance : Resistance in ohms.\n",
      " |          inductance : Inductance in henries.\n",
      " |          capacitance : Capacitance in farads.\n",
      " |  \n",
      " |  __repr__(self) -> str\n",
      " |      A  string  representation of the Resistor\n",
      " |  \n",
      " |  __str__(self) -> str\n",
      " |      A  string  representation of the Resistor\n",
      " |  \n",
      " |  total_impedance(self, frequency: float) -> complex\n",
      " |      Calculate the total impedance of the RLC parallel circuit at a given frequency.\n",
      " |      \n",
      " |      Args:\n",
      " |          frequency (float): Frequency in hertz.\n",
      " |      \n",
      " |      Returns:\n",
      " |             Total impedance in ohms.\n",
      " |      Formula:\n",
      " |              Y_R = 1 / self.resistance\n",
      " |              Y_L = 1 / (1j *  2 * π * f * L)\n",
      " |              Y_C = 1j *  2 * π * f *)\n",
      " |      \"Y\" is the addmittance\n",
      " |  \n",
      " |  ----------------------------------------------------------------------\n",
      " |  Class methods defined here:\n",
      " |  \n",
      " |  standard_values() from builtins.type\n",
      " |      Create an RLC parallel circuit with standard values (1 ohm, 1 H, 1 F).\n",
      " |      Returns:\n",
      " |          RLC_Circuit: An instance of the class with standard values.\n",
      " |  \n",
      " |  ----------------------------------------------------------------------\n",
      " |  Static methods defined here:\n",
      " |  \n",
      " |  resonance_frequency(inductance3e_1: float, capacitance_1: float) -> float\n",
      " |      Calculate the resonance frequency of the RLC parallel circuit.\n",
      " |      Returns:\n",
      " |         Resonance frequency in hertz.\n",
      " |  \n",
      " |  ----------------------------------------------------------------------\n",
      " |  Data descriptors defined here:\n",
      " |  \n",
      " |  __dict__\n",
      " |      dictionary for instance variables (if defined)\n",
      " |  \n",
      " |  __weakref__\n",
      " |      list of weak references to the object (if defined)\n",
      " |  \n",
      " |  capacitance\n",
      " |      Get the capacitance in farad.\n",
      " |  \n",
      " |  inductance\n",
      " |      Get the inductance in henry.\n",
      " |  \n",
      " |  resistance\n",
      " |      Get the resistance in ohm.\n",
      "\n"
     ]
    }
   ],
   "source": [
    "help(RLC_Parallel_resonance_Circuit)"
   ]
  },
  {
   "cell_type": "code",
   "execution_count": 7,
   "id": "8b0d4957-31c4-4d83-b0bc-82d54914c51b",
   "metadata": {},
   "outputs": [
    {
     "name": "stdout",
     "output_type": "stream",
     "text": [
      "{'_resistance': 50, '_inductance': 0.1, '_capacitance': 0.001}\n",
      "{'_resistance': 80, '_inductance': 0.1, '_capacitance': 0.001}\n"
     ]
    }
   ],
   "source": [
    "print(RLC_parallel_resonance_1.__dict__)\n",
    "print(RLC_parallel_resonance_2.__dict__)"
   ]
  },
  {
   "cell_type": "code",
   "execution_count": 8,
   "id": "7d711804-0c01-4d0d-bc5b-d7a9248dd104",
   "metadata": {},
   "outputs": [
    {
     "name": "stdout",
     "output_type": "stream",
     "text": [
      "A class to represent a parallel RLC circuit.\n",
      "Method: __init__,   Docstring: \n",
      "       Initialize the parallel RLC circuit with resistance, inductance, and capacitance.\n",
      "       \n",
      "       Parameters:\n",
      "           resistance : Resistance in ohms.\n",
      "           inductance : Inductance in henries.\n",
      "           capacitance : Capacitance in farads.\n",
      "       ,   Annotations: {'resistance': <class 'float'>, 'inductance': <class 'float'>, 'capacitance': <class 'float'>, 'return': None}\n",
      "Method: total_impedance,   Docstring: \n",
      "       Calculate the total impedance of the RLC parallel circuit at a given frequency.\n",
      "       \n",
      "       Args:\n",
      "           frequency (float): Frequency in hertz.\n",
      "       \n",
      "       Returns:\n",
      "              Total impedance in ohms.\n",
      "       Formula:\n",
      "               Y_R = 1 / self.resistance\n",
      "               Y_L = 1 / (1j *  2 * π * f * L)\n",
      "               Y_C = 1j *  2 * π * f *)\n",
      "       \"Y\" is the addmittance\n",
      "       ,   Annotations: {'frequency': <class 'float'>, 'return': <class 'complex'>}\n",
      "Method: standard_values,   Docstring: \n",
      "       Create an RLC parallel circuit with standard values (1 ohm, 1 H, 1 F).\n",
      "       Returns:\n",
      "           RLC_Circuit: An instance of the class with standard values.\n",
      "       ,   Annotations: {}\n",
      "Method: resonance_frequency,   Docstring: \n",
      "       Calculate the resonance frequency of the RLC parallel circuit.\n",
      "       Returns:\n",
      "          Resonance frequency in hertz.\n",
      "       ,   Annotations: {'inductance3e_1': <class 'float'>, 'capacitance_1': <class 'float'>, 'return': <class 'float'>}\n",
      "Method: __repr__,   Docstring: A  string  representation of the Resistor,   Annotations: {'return': <class 'str'>}\n",
      "Method: __str__,   Docstring: A  string  representation of the Resistor,   Annotations: {'return': <class 'str'>}\n"
     ]
    }
   ],
   "source": [
    "print(RLC_Parallel_resonance_Circuit.__doc__)\n",
    "for method in [\n",
    "    RLC_Parallel_resonance_Circuit.__init__,\n",
    "    RLC_Parallel_resonance_Circuit.total_impedance,\n",
    "    RLC_Parallel_resonance_Circuit.standard_values,\n",
    "    RLC_Parallel_resonance_Circuit.resonance_frequency,\n",
    "    RLC_Parallel_resonance_Circuit.__repr__,\n",
    "    RLC_Parallel_resonance_Circuit.__str__,\n",
    "]:\n",
    "    if isinstance(method, property):\n",
    "        print(f\"(Method: {method.fget.__name__}),  (Docstring: {method.__doc__}),  (Annotations: {method.fget.__annotations__})\")\n",
    "    else:\n",
    "        print(f\"Method: {method.__name__},   Docstring: {method.__doc__},   Annotations: {method.__annotations__}\")"
   ]
  },
  {
   "cell_type": "code",
   "execution_count": 9,
   "id": "134b83b7-2978-420d-954f-d9962534df3f",
   "metadata": {},
   "outputs": [
    {
     "name": "stdout",
     "output_type": "stream",
     "text": [
      "RLC Parallel Circuit with resistance: 1.0 ohm, inductance: 1.0 H, capacitance: 1.0 F\n"
     ]
    },
    {
     "data": {
      "text/plain": [
       "RLC_Parallel_resonance_Circuit(resistance=1.0, inductance=1.0, capacitance=1.0)"
      ]
     },
     "execution_count": 9,
     "metadata": {},
     "output_type": "execute_result"
    }
   ],
   "source": [
    "RLC_parallel_resonance1 = RLC_Parallel_resonance_Circuit()\n",
    "print(RLC_parallel_resonance1)\n",
    "RLC_parallel_resonance1"
   ]
  },
  {
   "cell_type": "code",
   "execution_count": null,
   "id": "7b211069-247e-4c44-8e98-4a260a72c649",
   "metadata": {},
   "outputs": [],
   "source": []
  },
  {
   "cell_type": "markdown",
   "id": "8e744cff-85f2-498a-9b08-80a344831390",
   "metadata": {},
   "source": [
    "# **Name : Khayyam ud din**\n",
    "# **Reg No : 23jzele0548**\n",
    "# lab 07"
   ]
  },
  {
   "cell_type": "markdown",
   "id": "0127695a-3e64-4d26-9714-d6b923853970",
   "metadata": {},
   "source": [
    "**Problem No 01**\n",
    "**Square -> Cube**"
   ]
  },
  {
   "cell_type": "markdown",
   "id": "9b7db3ba-6069-43e0-b5fb-f59de5055213",
   "metadata": {},
   "source": [
    "*  Take the example of the square class in the last lab and inherit a cube class with its own volume and surface area instance method. \n",
    "* Create two instances of the cube class and call both the instance methods.\n"
   ]
  },
  {
   "cell_type": "code",
   "execution_count": 94,
   "id": "ce10f4a1-579e-4a9e-8588-8edc3e4ebf64",
   "metadata": {},
   "outputs": [],
   "source": [
    "class Square:\n",
    "    def __init__(self, side_length) -> None:\n",
    "        self.side_length = side_length\n",
    "    @property\n",
    "    def side_length(self) -> float:\n",
    "        return self._side_length\n",
    "    @side_length.setter\n",
    "    def side_length(self, value: float) -> None:\n",
    "        self._side_length = value\n",
    "    def area(self) -> float:\n",
    "        return self.side_length ** 2\n",
    "    @property\n",
    "    def perimeter(self) -> float:\n",
    "        return 4 * self.side_length\n",
    "    def __repr__(self) -> str:\n",
    "        return f\"{type(self).__name__}({self.side_length})\"\n",
    " a   def __str__(self) -> str:\n",
    "        return f\"Square with side length: {self.side_length}\"\n",
    "\n",
    "\n",
    "class Cube(Square):\n",
    "    def __init__(self, side_length):\n",
    "        super().__init__(side_length)\n",
    "    \n",
    "    def volume(self):\n",
    "        return  self.side_length ** 3\n",
    "    def surface_area(self):\n",
    "        return 6 * self.side_length ** 2"
   ]
  },
  {
   "cell_type": "code",
   "execution_count": 95,
   "id": "fdafede4-188c-4b37-a128-92225aacf3f7",
   "metadata": {},
   "outputs": [],
   "source": [
    "cube1 = Cube(2)"
   ]
  },
  {
   "cell_type": "code",
   "execution_count": 96,
   "id": "247956c9-6cc5-4a22-b79c-ef4a37e1407f",
   "metadata": {},
   "outputs": [
    {
     "data": {
      "text/plain": [
       "8"
      ]
     },
     "execution_count": 96,
     "metadata": {},
     "output_type": "execute_result"
    }
   ],
   "source": [
    "cube1.volume()"
   ]
  },
  {
   "cell_type": "code",
   "execution_count": 97,
   "id": "548c81f5-bad2-4fac-823d-3f636e289014",
   "metadata": {},
   "outputs": [
    {
     "data": {
      "text/plain": [
       "24"
      ]
     },
     "execution_count": 97,
     "metadata": {},
     "output_type": "execute_result"
    }
   ],
   "source": [
    "cube1.surface_area()"
   ]
  },
  {
   "cell_type": "markdown",
   "id": "eb09db23-8cb1-4501-aa88-f5b8ab4c8403",
   "metadata": {},
   "source": [
    "**Problem No  02**\n",
    "**Point2D -> Point3D**"
   ]
  },
  {
   "cell_type": "markdown",
   "id": "7de07831-7458-4eb4-af77-002f5794f778",
   "metadata": {},
   "source": [
    "* Take the example of the Point2D class in the last lab and inherit a Point 3D class with its own distance_from_origin instance methods. \n",
    "* Create two instances and call the instance methods.\n"
   ]
  },
  {
   "cell_type": "code",
   "execution_count": 8,
   "id": "359d55f3-3c93-4b73-b942-f10d5ced8533",
   "metadata": {},
   "outputs": [],
   "source": [
    "import math\n",
    "\n",
    "class Point:\n",
    "    \"\"\"\n",
    "    A class to represent a point in a 2D coordinate system.\n",
    "    \"\"\"\n",
    "    def __init__(self, x: float = 0.0, y: float = 0.0):\n",
    "        \"\"\"\n",
    "        Initializes a new point at the given coordinates.\n",
    "        \n",
    "        x: x-coordinate (default is 0.0)\n",
    "        y: y-coordinate (default is 0.0)\n",
    "        \"\"\"\n",
    "        self._x = x\n",
    "        self._y = y\n",
    "\n",
    "    @property\n",
    "    def x(self) -> float:\n",
    "        \"\"\"Gets the x-coordinate.\"\"\"\n",
    "        return self._x\n",
    "\n",
    "    @x.setter\n",
    "    def x(self, value: float) -> None:\n",
    "        \"\"\"Sets the x-coordinate.\"\"\"\n",
    "        self._x = value\n",
    "\n",
    "    @property\n",
    "    def y(self) -> float:\n",
    "        \"\"\"Gets the y-coordinate.\"\"\"\n",
    "        return self._y\n",
    "\n",
    "    @y.setter\n",
    "    def y(self, value: float) -> None:\n",
    "        \"\"\"Sets the y-coordinate.\"\"\"\n",
    "        self._y = value\n",
    "\n",
    "    def distance_to(self, other: 'Point') -> float:\n",
    "        \"\"\"\n",
    "        Calculates the distance between this point and another point.\n",
    "        \n",
    "        :param other: Another point in the 2D coordinate system.\n",
    "        :return: The distance between the two points.\n",
    "        \"\"\"\n",
    "        return math.sqrt((self.x - other.x) ** 2 + (self.y - other.y) ** 2)\n",
    "\n",
    "    def distance_from_origin(self) -> float:\n",
    "        \"\"\"\n",
    "        Calculates the distance from the origin (0, 0) to this point.\n",
    "        \n",
    "        :return: The distance from the origin to this point.\n",
    "        \"\"\"\n",
    "        return math.sqrt(self.x ** 2 + self.y ** 2)\n",
    "\n",
    "    def __repr__(self):\n",
    "        \"\"\"Return a string representation of the Point instance.\"\"\"\n",
    "        return f'{type(self).__name__} ({self.x},{self.y})'\n",
    "\n",
    "\n",
    "class Point3D(Point):\n",
    "    \"\"\"\n",
    "    A class to represent a point in a 3D coordinate system, inheriting from Point.\n",
    "    \"\"\"\n",
    "    def __init__(self, x: float = 0.0, y: float = 0.0, z: float = 0.0):\n",
    "        \"\"\"\n",
    "        Initializes a new point in a 3D coordinate system.\n",
    "        \n",
    "        x: x-coordinate (default is 0.0)\n",
    "        y: y-coordinate (default is 0.0)\n",
    "        z: z-coordinate (default is 0.0)\n",
    "        \"\"\"\n",
    "        super().__init__(x, y)\n",
    "        self._z = z\n",
    "\n",
    "    @property\n",
    "    def z(self) -> float:\n",
    "        \"\"\"Gets the z-coordinate.\"\"\"\n",
    "        return self._z\n",
    "\n",
    "    @z.setter\n",
    "    def z(self, value: float) -> None:\n",
    "        \"\"\"Sets the z-coordinate.\"\"\"\n",
    "        self._z = value\n",
    "\n",
    "    def distance_from_origin(self) -> float:\n",
    "        \"\"\"\n",
    "        Calculates the distance from the origin (0, 0, 0) to this point.\n",
    "        \n",
    "        :return: The distance from the origin to this point.\n",
    "        \"\"\"\n",
    "        return math.sqrt(self.x ** 2 + self.y ** 2 + self.z ** 2)\n",
    "\n",
    "    def distance_to(self, other: 'Point3D') -> float:\n",
    "        \"\"\"\n",
    "        Calculates the distance between this point and another 3D point.\n",
    "        \n",
    "        :param other: Another point in the 3D coordinate system.\n",
    "        :return: The distance between the two points.\n",
    "        \"\"\"\n",
    "        return math.sqrt((self.x - other.x) ** 2 + \n",
    "                         (self.y - other.y) ** 2 + \n",
    "                         (self.z - other.z) ** 2)\n",
    "\n",
    "    def __repr__(self):\n",
    "        \"\"\"Return a string representation of the Point3D instance.\"\"\"\n",
    "        return f'{type(self).__name__} ({self.x}, {self.y}, {self.z})'\n"
   ]
  },
  {
   "cell_type": "code",
   "execution_count": 9,
   "id": "293658b3-bc19-43ec-a00f-1b64a327afcc",
   "metadata": {},
   "outputs": [],
   "source": [
    "point1 = Point3D(3, 4, 5)\n",
    "point2 = Point3D(6, 8, 10)"
   ]
  },
  {
   "cell_type": "code",
   "execution_count": 10,
   "id": "5af45247-c4c2-426c-9a04-54fc3596aee2",
   "metadata": {},
   "outputs": [
    {
     "name": "stdout",
     "output_type": "stream",
     "text": [
      "Point1: Point3D (3, 4, 5), Distance from origin: 7.0710678118654755\n",
      "Point2: Point3D (6, 8, 10), Distance from origin: <bound method Point3D.distance_from_origin of Point3D (6, 8, 10)>\n",
      "Distance between Point1 and Point2: 7.0710678118654755\n"
     ]
    }
   ],
   "source": [
    "print(f\"Point1: {point1}, Distance from origin: {point1.distance_from_origin()}\")\n",
    "print(f\"Point2: {point2}, Distance from origin: {point2.distance_from_origin}\")\n",
    "print(f\"Distance between Point1 and Point2: {point1.distance_to(point2)}\")"
   ]
  },
  {
   "cell_type": "markdown",
   "id": "d9ffdefe-7cde-4805-89e2-984c291104a8",
   "metadata": {},
   "source": [
    "**Problem No 03**\n",
    "**Rectangle -> Square**"
   ]
  },
  {
   "cell_type": "markdown",
   "id": "a8f08a5b-606b-416a-aa14-151f5705b5c6",
   "metadata": {},
   "source": [
    "* Take the example of the rectangle class in the last lab and inherit a square class. \n",
    "* Create two instances of the rectangle class and call the instance methods."
   ]
  },
  {
   "cell_type": "code",
   "execution_count": 13,
   "id": "209af64c-123a-48ee-a5a8-95fca16ee28e",
   "metadata": {},
   "outputs": [],
   "source": [
    "class Rectangle:\n",
    "    \"\"\"\n",
    "    A class to represent a rectangle.\n",
    "    \"\"\"\n",
    "    def __init__(self, width: float, height: float) -> None:\n",
    "        self.width = width\n",
    "        self.height = height\n",
    "\n",
    "    @property\n",
    "    def width(self) -> float:\n",
    "        \"\"\"Gets the width of the rectangle.\"\"\"\n",
    "        return self._width\n",
    "\n",
    "    @width.setter\n",
    "    def width(self, value: float) -> None:\n",
    "        \"\"\"Sets the width of the rectangle.\"\"\"\n",
    "        self._width = value\n",
    "\n",
    "    @property\n",
    "    def height(self) -> float:\n",
    "        \"\"\"Gets the height of the rectangle.\"\"\"\n",
    "        return self._height\n",
    "\n",
    "    @height.setter\n",
    "    def height(self, value: float) -> None:\n",
    "        \"\"\"Sets the height of the rectangle.\"\"\"\n",
    "        self._height = value\n",
    "\n",
    "    @property\n",
    "    def area(self) -> float:\n",
    "        \"\"\"Calculates the area of the rectangle.\"\"\"\n",
    "        return self.width * self.height\n",
    "\n",
    "    @property\n",
    "    def perimeter(self) -> float:\n",
    "        \"\"\"Calculates the perimeter of the rectangle.\"\"\"\n",
    "        return 2 * (self.width + self.height)\n",
    "\n",
    "    def __repr__(self) -> str:\n",
    "        \"\"\"String representation of the rectangle.\"\"\"\n",
    "        return f'Rectangle(width={self.width}, height={self.height})'\n",
    "\n",
    "\n",
    "class Square(Rectangle):\n",
    "    \"\"\"\n",
    "    A class to represent a square, inheriting from Rectangle.\n",
    "    \"\"\"\n",
    "    def __init__(self, side: float) -> None:\n",
    "        super().__init__(side, side)\n",
    "\n",
    "    @property\n",
    "    def side(self) -> float:\n",
    "        \"\"\"Gets the side length of the square.\"\"\"\n",
    "        return self.width\n",
    "\n",
    "    @side.setter\n",
    "    def side(self, value: float) -> None:\n",
    "        \"\"\"Sets the side length of the square.\"\"\"\n",
    "        self.width = value\n",
    "        self.height = value\n",
    "\n",
    "    def __repr__(self) -> str:\n",
    "        \"\"\"String representation of the square.\"\"\"\n",
    "        return f'Square(side={self.side})'"
   ]
  },
  {
   "cell_type": "code",
   "execution_count": 14,
   "id": "3e6c8f0f-5110-445a-91ee-7c09f91e79fe",
   "metadata": {},
   "outputs": [],
   "source": [
    "rect1 = Rectangle(4, 6)\n",
    "rect2 = Rectangle(3, 8)"
   ]
  },
  {
   "cell_type": "code",
   "execution_count": 15,
   "id": "f1f2e4d3-03a5-48b3-aa6c-b503aa1b988b",
   "metadata": {},
   "outputs": [
    {
     "name": "stdout",
     "output_type": "stream",
     "text": [
      "Rectangle 1: Rectangle(width=4, height=6), Area: 24, Perimeter: 20\n",
      "Rectangle 2: Rectangle(width=3, height=8), Area: 24, Perimeter: 22\n"
     ]
    }
   ],
   "source": [
    "print(f\"Rectangle 1: {rect1}, Area: {rect1.area}, Perimeter: {rect1.perimeter}\")\n",
    "print(f\"Rectangle 2: {rect2}, Area: {rect2.area}, Perimeter: {rect2.perimeter}\")"
   ]
  },
  {
   "cell_type": "code",
   "execution_count": 16,
   "id": "80f78ebc-9575-447b-bbc5-e4bab544e73c",
   "metadata": {},
   "outputs": [],
   "source": [
    "square = Square(5)"
   ]
  },
  {
   "cell_type": "code",
   "execution_count": 17,
   "id": "cfebce69-551b-41a9-89db-9d687db8734e",
   "metadata": {},
   "outputs": [
    {
     "name": "stdout",
     "output_type": "stream",
     "text": [
      "Square: Square(side=5), Area: 25, Perimeter: 20\n"
     ]
    }
   ],
   "source": [
    "print(f\"Square: {square}, Area: {square.area}, Perimeter: {square.perimeter}\")"
   ]
  },
  {
   "cell_type": "markdown",
   "id": "91478f9b-b415-400e-b1fb-bd9307b2fc75",
   "metadata": {},
   "source": [
    "**Problem No 04**\n",
    "**Circle -> Shpare**"
   ]
  },
  {
   "cell_type": "markdown",
   "id": "aa47d149-73fc-4263-87fa-2a0c72b145b8",
   "metadata": {},
   "source": [
    "* Take the example of the circle class in the last lab and inherit a sphere class with its own volume and surface area instance method. \n",
    "* Create two instances of the cube class and call both the instance methods.\n"
   ]
  },
  {
   "cell_type": "code",
   "execution_count": 18,
   "id": "7b9bd33f-0952-4b98-8be5-417003fd2066",
   "metadata": {},
   "outputs": [],
   "source": [
    "import math\n",
    "\n",
    "class Circle:\n",
    "    \"\"\"\n",
    "    A class to represent a circle.\n",
    "    \"\"\"\n",
    "    def __init__(self, radius: float):\n",
    "        self.radius = radius\n",
    "\n",
    "    @property\n",
    "    def radius(self) -> float:\n",
    "        return self._radius\n",
    "\n",
    "    @radius.setter\n",
    "    def radius(self, value: float) -> None:\n",
    "        self._radius = value\n",
    "\n",
    "    def volume(self, height: float) -> float:\n",
    "        \"\"\"\n",
    "        Calculates the volume of a cylinder with the circle as its base.\n",
    "        \"\"\"\n",
    "        return self.area * height\n",
    "\n",
    "    @property\n",
    "    def area(self) -> float:\n",
    "        \"\"\"\n",
    "        Calculates the area of the circle.\n",
    "        \"\"\"\n",
    "        return math.pi * (self._radius ** 2)\n",
    "\n",
    "    @property\n",
    "    def circumference(self) -> float:\n",
    "        \"\"\"\n",
    "        Calculates the circumference of the circle.\n",
    "        \"\"\"\n",
    "        return 2 * math.pi * self._radius\n",
    "\n",
    "    @property\n",
    "    def diameter(self) -> float:\n",
    "        \"\"\"\n",
    "        Returns the diameter of the circle.\n",
    "        \"\"\"\n",
    "        return self._radius * 2\n",
    "\n",
    "    @staticmethod\n",
    "    def from_diameter(diameter: float):\n",
    "        \"\"\"\n",
    "        Creates a Circle instance from the given diameter.\n",
    "        \"\"\"\n",
    "        return Circle(diameter / 2)\n",
    "\n",
    "\n",
    "class Sphere(Circle):\n",
    "    \"\"\"\n",
    "    A class to represent a sphere, inheriting from Circle.\n",
    "    \"\"\"\n",
    "    def __init__(self, radius: float):\n",
    "        super().__init__(radius)\n",
    "\n",
    "    @property\n",
    "    def surface_area(self) -> float:\n",
    "        \"\"\"\n",
    "        Calculates the surface area of the sphere.\n",
    "        \"\"\"\n",
    "        return 4 * math.pi * (self.radius ** 2)\n",
    "\n",
    "    @property\n",
    "    def volume(self) -> float:\n",
    "        \"\"\"\n",
    "        Calculates the volume of the sphere.\n",
    "        \"\"\"\n",
    "        return (4/3) * math.pi * (self.radius ** 3)\n",
    "\n",
    "    def __repr__(self) -> str:\n",
    "        return f\"Sphere(radius={self.radius})\""
   ]
  },
  {
   "cell_type": "code",
   "execution_count": 20,
   "id": "5d8ebea8-f9d1-4515-a1ce-33e64b8be371",
   "metadata": {},
   "outputs": [],
   "source": [
    "sphere = Sphere(5)"
   ]
  },
  {
   "cell_type": "code",
   "execution_count": 21,
   "id": "35ec7b79-1362-4bef-a932-dce0595e8dd9",
   "metadata": {},
   "outputs": [
    {
     "name": "stdout",
     "output_type": "stream",
     "text": [
      "Sphere: Sphere(radius=5), Surface Area: 314.16, Volume: 523.60\n"
     ]
    }
   ],
   "source": [
    "print(f\"Sphere: {sphere}, Surface Area: {sphere.surface_area:.2f}, Volume: {sphere.volume:.2f}\")"
   ]
  },
  {
   "cell_type": "markdown",
   "id": "9f9c0ed8-55a2-4e07-a5e2-a6945afdf20b",
   "metadata": {},
   "source": [
    "**Problem No 05**\n",
    "***HR System***"
   ]
  },
  {
   "cell_type": "markdown",
   "id": "c4dc2158-4404-4ac1-b7a3-e0f4efa68e0d",
   "metadata": {},
   "source": [
    "* **The ***HR system*** needs to process payroll for the company’s employees, but there are different types of employees depending on how their payroll is calculated.**\n",
    "1) **Implement a base class, *Employee*, that handles the common interface for every employee.**\n",
    "2.\t**Administrative workers have a fixed salary, so every week they get paid the same amount.**\n",
    "* **You create a derived class, SalaryEmployee, that inherits from Employee. The class initializes with the .id and .name required by the base class, and you use *super()* to initialize the members of the base class.**\n",
    "* **.*SalaryEmployee* also requires a weekly_salary initialization parameter that represents the amount that the employee makes per week.**\n",
    "* **The class provides the required *.calculate_payroll()* method that the HR system uses. The implementation just returns the amount stored in *weekly_salary.*.**\n",
    "3.\t**The company also employs manufacturing workers who are paid by the hour, so you add *HourlyEmployee* to the HR system**\n",
    "* **You create a derived class, HourlyEmployee, that inherits from Employee. The class initializes with the .id and .name required by the base class, and you use *super()* to initialize the members of the base class.**\n",
    "* **HourlyEmployee also requires hours_worked and the hourly_rate required to calculate the payroll.**\n",
    "* **The class provides the required *.calculate_payroll()* method by returning the hours worked times the hourly rate.**\n",
    "4.\t**the company employs sales associates who are paid through a fixed salary plus a commission based on their sales, so you create a CommissionEmployee class**\n",
    "* **Derive CommissionEmployee from *SalaryEmployee* because both classes have a *weekly_salary* to consider. At the same time, you initialize *CommissionEmployee* with a commission value that’s based on the sales for the employee.**\n",
    "* **In *.calculate_payroll()*, you leverage the implementation of the base class to retrieve the fixed salary, and you add the commission value.**\n",
    "5.\t***Implementing a *PayrollSystem* class that processes payroll.***\n",
    "* **PayrollSystem implements a *.calculate_payroll()* method that takes a collection of employees and prints their *.id, .name*, and check amount using the *.calculate_payroll()* method exposed on each employee object.**"
   ]
  },
  {
   "cell_type": "code",
   "execution_count": 3,
   "id": "8a6c1064-2d45-4454-a901-ac61ff3d8a77",
   "metadata": {},
   "outputs": [],
   "source": [
    "class Payroll_system:\n",
    "    def calculate_payroll(self, employees):\n",
    "        print(\"Calculate Payroll\")\n",
    "        print(\"===========================\")\n",
    "        for employee in employees:\n",
    "            print(f\"Payroll for: {employee.id} - {employee.name}\")\n",
    "            print(f\"- Check amount: {employee.calculate_payroll()}\")\n",
    "            print()"
   ]
  },
  {
   "cell_type": "code",
   "execution_count": 38,
   "id": "f7afe821-a9b9-4429-b746-55844ebcb22b",
   "metadata": {},
   "outputs": [],
   "source": [
    "class Employee:\n",
    "    def __init__(self, id, name):\n",
    "        self.id = id\n",
    "        self.name = name"
   ]
  },
  {
   "cell_type": "code",
   "execution_count": 39,
   "id": "857caec7-f09e-4b21-a71e-307921515c81",
   "metadata": {},
   "outputs": [],
   "source": [
    "class Salary_employee(Employee):\n",
    "    def __init__(self, id, name, weekly_salary):\n",
    "        super().__init__(id, name)\n",
    "        self.weekly_salary = weekly_salary\n",
    "\n",
    "    def calculate_payroll(self):\n",
    "        return self.weekly_salary"
   ]
  },
  {
   "cell_type": "code",
   "execution_count": 40,
   "id": "1d94944d-9432-49f2-8afa-0cc9dd2cdf02",
   "metadata": {},
   "outputs": [],
   "source": [
    "class Hourly_employee(Employee):\n",
    "    def __init__(self, id, name, hours_worked, hourly_rate):\n",
    "        super().__init__(id, name)\n",
    "        self.hours_worked = hours_worked\n",
    "        self.hourly_rate = hourly_rate\n",
    "\n",
    "    def calculate_payroll(self):\n",
    "        return self.hours_worked * self.hourly_rate"
   ]
  },
  {
   "cell_type": "code",
   "execution_count": 41,
   "id": "1f081493-d5a2-497d-835e-a0d35d10d9e7",
   "metadata": {},
   "outputs": [],
   "source": [
    "class Commission_employee(Salary_employee):\n",
    "    def __init__(self, id, name, weekly_salary, commission):\n",
    "        super().__init__(id, name, weekly_salary)\n",
    "        self.commission = commission\n",
    "\n",
    "    def calculate_payroll(self):\n",
    "        fixed = super().calculate_payroll()\n",
    "        return fixed + self.commission"
   ]
  },
  {
   "cell_type": "markdown",
   "id": "1de1a178-e956-44ba-b314-77bf2a91e744",
   "metadata": {},
   "source": [
    "* Task:  creates the employees and passes them to the payroll system to process payroll"
   ]
  },
  {
   "cell_type": "code",
   "execution_count": 42,
   "id": "ba241b13-f68b-4dc7-8685-e7415711ca35",
   "metadata": {},
   "outputs": [],
   "source": [
    "salary_employee = Salary_employee(528, \"Khayyam\", 1500)\n",
    "hourly_employee = Hourly_employee(529, \"Idrees\", 40, 25)\n",
    "commission_employee = Commission_employee(545, \"Abbas\", 1000, 250)"
   ]
  },
  {
   "cell_type": "code",
   "execution_count": 43,
   "id": "42ab6057-5462-4e12-92ce-484b4b10c791",
   "metadata": {},
   "outputs": [
    {
     "name": "stdout",
     "output_type": "stream",
     "text": [
      "Calculate Payroll\n",
      "===========================\n",
      "Payroll for: 528 - Yahya Ahmad\n",
      "- Check amount: 1500\n",
      "\n",
      "Payroll for: 529 - Idrees\n",
      "- Check amount: 1000\n",
      "\n",
      "Payroll for: 545 - Abbas\n",
      "- Check amount: 1250\n",
      "\n"
     ]
    }
   ],
   "source": [
    "payroll_system = Payroll_system()\n",
    "employees = [salary_employee, hourly_employee, commission_employee]\n",
    "payroll_system.calculate_payroll(employees)"
   ]
  },
  {
   "cell_type": "markdown",
   "id": "e2991991-9752-4868-8c22-887fdce28676",
   "metadata": {},
   "source": [
    "**Problem No 06**\n",
    "***Electrical Department class***"
   ]
  },
  {
   "cell_type": "code",
   "execution_count": 57,
   "id": "f382802a-05bf-418e-8a4c-b0f506d5fa07",
   "metadata": {},
   "outputs": [],
   "source": [
    "class ElectricalEmployee:\n",
    "    def __init__(self, fName, lName, pay, department=\"Electrical Department\"):\n",
    "        self.fName = fName\n",
    "        self.lName = lName\n",
    "        self.email = f\"{self.fName.lower()}{self.lName.lower()}@uet.edu.pk\"\n",
    "        self.pay = pay\n",
    "        self.department = department\n",
    "\n",
    "    def raisePay(self, percentage):\n",
    "        self.pay += self.pay * (percentage / 100)\n",
    "\n",
    "    def __str__(self):\n",
    "        return (\n",
    "            f\"Name: {self.fName} {self.lName}\\n\"\n",
    "            f\"Email: {self.email}\\n\"\n",
    "            f\"Pay: Rs{self.pay:.2f}\\n\"\n",
    "            f\"Department: {self.department}\"\n",
    "        )"
   ]
  },
  {
   "cell_type": "code",
   "execution_count": 58,
   "id": "639f85c5-1fe2-4656-9b64-f8cefcb7848b",
   "metadata": {},
   "outputs": [],
   "source": [
    "class ElectricalAdminStaff(ElectricalEmployee):\n",
    "    def __init__(self, fName, lName, pay, team=None):\n",
    "        super().__init__(fName, lName, pay)\n",
    "        self.team = team\n",
    "        self.tasks = []\n",
    "\n",
    "    def assignTask(self, task):\n",
    "        self.tasks.append(task)\n",
    "\n",
    "    def __str__(self):\n",
    "        base_info = super().__str__()\n",
    "        team_info = f\"Team: {self.team}\" if self.team else \"Team: None\"\n",
    "        tasks_info = f\"Tasks Assigned: {', '.join(self.tasks) if self.tasks else 'No tasks assigned'}\"\n",
    "        return f\"{base_info}\\n{team_info}\\n{tasks_info}\""
   ]
  },
  {
   "cell_type": "code",
   "execution_count": 59,
   "id": "f6067f95-a34e-4879-9ebe-c9bbb1e478cd",
   "metadata": {},
   "outputs": [],
   "source": [
    "class ElectricalInstructor(ElectricalEmployee):\n",
    "    def __init__(self, fName, lName, pay, designation):\n",
    "        super().__init__(fName, lName, pay)\n",
    "        self.designation = designation\n",
    "        self.courses = []\n",
    "\n",
    "    def assignCourse(self, course):\n",
    "        self.courses.append(course)\n",
    "\n",
    "    def __str__(self):\n",
    "        base_info = super().__str__()\n",
    "        designation_info = f\"Designation: {self.designation}\"\n",
    "        courses_info = f\"Courses Assigned: {', '.join(self.courses) if self.courses else 'No courses assigned'}\"\n",
    "        return f\"{base_info}\\n{designation_info}\\n{courses_info}\""
   ]
  },
  {
   "cell_type": "code",
   "execution_count": 60,
   "id": "6a04cdcf-e6c4-4a5b-b748-62d38261cddd",
   "metadata": {},
   "outputs": [],
   "source": [
    "admin_staff = ElectricalAdminStaff(\"Muhammad\", \"Idrees\", 4000, \"Team A\")\n",
    "admin_staff.assignTask(\"Manage Electrical Maintenance\")\n",
    "admin_staff.assignTask(\"Prepare Electrical Reports\")"
   ]
  },
  {
   "cell_type": "code",
   "execution_count": 61,
   "id": "968a86ef-0fc3-46fc-aeb2-5191d41f57b4",
   "metadata": {},
   "outputs": [],
   "source": [
    "instructor = ElectricalInstructor(\"Khayyam\", \"khayyam\", 5000, \"Senior Instructor\")\n",
    "instructor.assignCourse(\"Basic Electrical Engineering\")\n",
    "instructor.assignCourse(\"Advanced Circuit Analysis\")"
   ]
  },
  {
   "cell_type": "code",
   "execution_count": 62,
   "id": "85be3f2c-045f-4556-9f40-ccaaaf93e23f",
   "metadata": {},
   "outputs": [
    {
     "name": "stdout",
     "output_type": "stream",
     "text": [
      "Admin Staff Details:\n",
      "Name: Muhammad Idrees\n",
      "Email: muhammadidrees@uet.edu.pk\n",
      "Pay: Rs4000.00\n",
      "Department: Electrical Department\n",
      "Team: Team A\n",
      "Tasks Assigned: Manage Electrical Maintenance, Prepare Electrical Reports\n"
     ]
    }
   ],
   "source": [
    "print(\"Admin Staff Details:\")\n",
    "print(admin_staff)"
   ]
  },
  {
   "cell_type": "code",
   "execution_count": 63,
   "id": "5a8e471d-c49a-4261-a610-15f4c5ad7837",
   "metadata": {},
   "outputs": [
    {
     "name": "stdout",
     "output_type": "stream",
     "text": [
      "\n",
      "Instructor Details:\n",
      "Name: Yahya Ahmad\n",
      "Email: yahyaahmad@uet.edu.pk\n",
      "Pay: Rs5000.00\n",
      "Department: Electrical Department\n",
      "Designation: Senior Instructor\n",
      "Courses Assigned: Basic Electrical Engineering, Advanced Circuit Analysis\n"
     ]
    }
   ],
   "source": [
    "print(\"\\nInstructor Details:\")\n",
    "print(instructor)"
   ]
  },
  {
   "cell_type": "markdown",
   "id": "515b77e9-9785-45b9-9a48-056b0b2b6075",
   "metadata": {},
   "source": [
    "# **Name : Khayyam ud din**\n",
    "# **Reg No : 23jzele0548**\n",
    "# lab 08"
   ]
  },
  {
   "cell_type": "markdown",
   "id": "c60aafa6-2346-433f-a287-2a056f060c35",
   "metadata": {},
   "source": [
    "**Problem No 01**\n",
    "**Rectangle -> Square -> Cube**"
   ]
  },
  {
   "cell_type": "markdown",
   "id": "250f4743-8c55-4bc1-9a53-56d133334b66",
   "metadata": {},
   "source": [
    "* Construct a **rectangle** class \n",
    "* Inherit a it by **square** class from **rectangle** class.\n",
    "* create a class Cube that inherits from **Square** and extends the functionality of **.area()** (inherited from the Rectangle class through Square) to ***calculate the surface area and volume of a Cube*** instance:\n",
    "* Create two instances of the cube class and call both the instance methods. \n"
   ]
  },
  {
   "cell_type": "code",
   "execution_count": 67,
   "id": "1be986ba-f60e-461b-bdfe-9e94097332b3",
   "metadata": {},
   "outputs": [],
   "source": [
    "class Rectangle:\n",
    "    def __init__(self, width, height):\n",
    "        self.width = width\n",
    "        self.height = height\n",
    "\n",
    "    def area(self):\n",
    "        return self.width * self.height\n",
    "\n",
    "    def __str__(self):\n",
    "        return f\"Rectangle [Width: {self.width}, Height: {self.height}, Area: {self.area()}]\""
   ]
  },
  {
   "cell_type": "code",
   "execution_count": 68,
   "id": "c78fe4ff-005a-46f6-b1bc-41592fb88d6e",
   "metadata": {},
   "outputs": [],
   "source": [
    "class Square(Rectangle):\n",
    "    def __init__(self, side):\n",
    "        super().__init__(side, side)\n",
    "\n",
    "    def __str__(self):\n",
    "        return f\"Square [Side: {self.width}, Area: {self.area()}]\""
   ]
  },
  {
   "cell_type": "code",
   "execution_count": 69,
   "id": "8eeefa48-0ee9-43fa-861b-39933904c49e",
   "metadata": {},
   "outputs": [],
   "source": [
    "class Cube(Square):\n",
    "    def __init__(self, side):\n",
    "        super().__init__(side)\n",
    "\n",
    "    def surface_area(self):\n",
    "        return 6 * super().area()\n",
    "\n",
    "    def volume(self):\n",
    "        return self.width ** 3\n",
    "\n",
    "    def __str__(self):\n",
    "        return (f\"Cube [Side: {self.width}, Surface Area: {self.surface_area()}, \"\n",
    "                f\"Volume: {self.volume()}]\")"
   ]
  },
  {
   "cell_type": "code",
   "execution_count": 70,
   "id": "1b0ab89e-5995-440e-aad5-7178e7dacfcf",
   "metadata": {},
   "outputs": [],
   "source": [
    "cube1 = Cube(3)\n",
    "cube2 = Cube(5)"
   ]
  },
  {
   "cell_type": "code",
   "execution_count": 71,
   "id": "db2656fc-d1da-4ec2-a9e4-40b8e2d86900",
   "metadata": {},
   "outputs": [
    {
     "name": "stdout",
     "output_type": "stream",
     "text": [
      "Cube 1 Details:\n",
      "Cube [Side: 3, Surface Area: 54, Volume: 27]\n",
      "\n",
      "Cube 2 Details:\n",
      "Cube [Side: 5, Surface Area: 150, Volume: 125]\n"
     ]
    }
   ],
   "source": [
    "print(\"Cube 1 Details:\")\n",
    "print(cube1)\n",
    "print(\"\\nCube 2 Details:\")\n",
    "print(cube2)"
   ]
  },
  {
   "cell_type": "markdown",
   "id": "cee25e9a-40d0-4682-9f42-ac167c1ae136",
   "metadata": {
    "jp-MarkdownHeadingCollapsed": true
   },
   "source": [
    "**Problem No 02**\n",
    "**Extent the HR System**"
   ]
  },
  {
   "cell_type": "markdown",
   "id": "a4523b4b-a951-4830-bfc3-11d64b196160",
   "metadata": {},
   "source": [
    "* Start adding the new classes to the exixting class. \n",
    "**ProductivitySystem tracks productivity based on employee roles. There are different employee roles:**\n",
    "* **Managers:** They walk around yelling at people, telling them what to do. They’re salaried employees and make more money.\n",
    "* **Secretaries:** They do all the paperwork for managers and ensure that everything gets billed and payed on time. They’re also salaried employees but make less money.\n",
    "* **Sales employees:** They make a lot of phone calls to sell products. They have a salary, but they also get commissions for sales.\n",
    "* **Factory workers:** They manufacture the products for the company. They’re paid by the hour.\n",
    "* First, you add a Manager class that derives from **SalaryEmployee**. The class exposes a **.work()* method that the productivity system will use. The method takes the **hours** that the employee worked.\n",
    "* Then you add **Secretary**, **SalesPerson**, and **FactoryWorker** and then implement the **.work()** interface, so they can be used by the productivity system\n"
   ]
  },
  {
   "cell_type": "code",
   "execution_count": 10,
   "id": "c35d13b6-b4f5-41d8-86a8-78e7a97234ee",
   "metadata": {},
   "outputs": [],
   "source": [
    "class Manager_role(Salary_employee):\n",
    "    def work(self, hours):\n",
    "        print(f\"{self.name} oversees and delegates tasks for {hours} hours.\")\n",
    "\n",
    "class Secretary_role(Salary_employee):\n",
    "    def work(self, hours):\n",
    "        print(f\"{self.name} efficiently organizes and manages documents for {hours} hours.\")\n",
    "\n",
    "class SalesPerson_role(Commission_employee):\n",
    "    def work(self, hours):\n",
    "        print(f\"{self.name} engages with clients and closes deals for {hours} hours.\")\n",
    "\n",
    "class FactoryWorker_role(Hourly_employee):\n",
    "    def work(self, hours):\n",
    "        print(f\"{self.name} diligently assembles products for {hours} hours.\")\n"
   ]
  },
  {
   "cell_type": "code",
   "execution_count": 11,
   "id": "45d5a710-e79b-4cd8-9604-344977343a5c",
   "metadata": {},
   "outputs": [],
   "source": [
    "class Productivity_system:\n",
    "    def Track(self, employees, hours):\n",
    "        print(\"Productivity System Tracking\")\n",
    "        print('-----------------------------')\n",
    "        for employee in employees:\n",
    "            employee.work(hours)\n",
    "            print()"
   ]
  },
  {
   "cell_type": "code",
   "execution_count": 12,
   "id": "07e5ef7a-31e9-4525-b0b0-145348e6edc0",
   "metadata": {},
   "outputs": [],
   "source": [
    "Manager = Manager_role(528, 'Yahya Ahmad', 3000)\n",
    "Secretary = Secretary_role(527, 'Assadullah', 1500)\n",
    "SalesPerson = SalesPerson_role(529, 'Muhammad Idrees', 23, 40)\n",
    "FactoryWorker = FactoryWorker_role(545, 'Abbas Mabood', 34, 55)"
   ]
  },
  {
   "cell_type": "code",
   "execution_count": 13,
   "id": "13360f7d-f859-481f-9641-a922d6feb567",
   "metadata": {},
   "outputs": [],
   "source": [
    "employees = [Manager, Secretary, SalesPerson, FactoryWorker]"
   ]
  },
  {
   "cell_type": "code",
   "execution_count": 14,
   "id": "40701230-1a12-423f-ac75-6e7469a7a19d",
   "metadata": {},
   "outputs": [],
   "source": [
    "productivity_system = Productivity_system()"
   ]
  },
  {
   "cell_type": "code",
   "execution_count": 15,
   "id": "6a74aa24-f34f-4464-8454-1809dc9701ff",
   "metadata": {},
   "outputs": [
    {
     "name": "stdout",
     "output_type": "stream",
     "text": [
      "Productivity System Tracking\n",
      "-----------------------------\n",
      "Yahya Ahmad oversees and delegates tasks for 44 hours.\n",
      "\n",
      "Assadullah efficiently organizes and manages documents for 44 hours.\n",
      "\n",
      "Muhammad Idrees engages with clients and closes deals for 44 hours.\n",
      "\n",
      "Abbas Mabood diligently assembles products for 44 hours.\n",
      "\n"
     ]
    }
   ],
   "source": [
    "productivity_system.Track(employees, 44)"
   ]
  },
  {
   "cell_type": "markdown",
   "id": "5c7a6380-c88c-4709-8c49-cca32e8130b8",
   "metadata": {},
   "source": [
    "# **Name : Khayyam ud din**\n",
    "# **Reg No : 23jzele0548**\n",
    "# **lab 09**"
   ]
  },
  {
   "cell_type": "markdown",
   "id": "2b1ec70d-ffe7-48ab-9130-1b25d80b3b33",
   "metadata": {},
   "source": [
    "* It turns out that sometimes temporary secretaries are hired when there’s too much paperwork to do. The TemporarySecretary class performs the role of Secretary in the context of the ProductivitySystem, but for payroll purposes, it’s an HourlyEmployee.\n",
    "\n",
    "* Derive it from both Secretary and HourlyEmployee"
   ]
  },
  {
   "cell_type": "markdown",
   "id": "5d6f3e0e-e75b-45ab-8e54-daad0fb24333",
   "metadata": {},
   "source": [
    "i. Run the Code"
   ]
  },
  {
   "cell_type": "code",
   "execution_count": 16,
   "id": "766fade1-3c3e-4402-8ced-a2078cb87fbd",
   "metadata": {},
   "outputs": [],
   "source": [
    "class TemporarySecretary(Secretary_role, Hourly_employee):\n",
    "    pass"
   ]
  },
  {
   "cell_type": "code",
   "execution_count": 17,
   "id": "41817b17-ea8f-4e44-81a1-2681f31e5bef",
   "metadata": {},
   "outputs": [
    {
     "ename": "TypeError",
     "evalue": "__init__() takes 4 positional arguments but 5 were given",
     "output_type": "error",
     "traceback": [
      "\u001b[1;31m---------------------------------------------------------------------------\u001b[0m",
      "\u001b[1;31mTypeError\u001b[0m                                 Traceback (most recent call last)",
      "Cell \u001b[1;32mIn[17], line 1\u001b[0m\n\u001b[1;32m----> 1\u001b[0m temporary_secretary \u001b[38;5;241m=\u001b[39m \u001b[43mTemporarySecretary\u001b[49m\u001b[43m(\u001b[49m\u001b[38;5;241;43m5\u001b[39;49m\u001b[43m,\u001b[49m\u001b[43m \u001b[49m\u001b[38;5;124;43m\"\u001b[39;49m\u001b[38;5;124;43mRobin Williams\u001b[39;49m\u001b[38;5;124;43m\"\u001b[39;49m\u001b[43m,\u001b[49m\u001b[43m \u001b[49m\u001b[38;5;241;43m40\u001b[39;49m\u001b[43m,\u001b[49m\u001b[43m \u001b[49m\u001b[38;5;241;43m9\u001b[39;49m\u001b[43m)\u001b[49m\n",
      "\u001b[1;31mTypeError\u001b[0m: __init__() takes 4 positional arguments but 5 were given"
     ]
    }
   ],
   "source": [
    "temporary_secretary = TemporarySecretary(5, \"Robin Williams\", 40, 9)"
   ]
  },
  {
   "cell_type": "code",
   "execution_count": 18,
   "id": "f9469782-76f9-4339-b314-ded8efb2d775",
   "metadata": {},
   "outputs": [
    {
     "data": {
      "text/plain": [
       "(__main__.TemporarySecretary,\n",
       " __main__.Secretary_role,\n",
       " __main__.Salary_employee,\n",
       " __main__.Hourly_employee,\n",
       " __main__.Employee,\n",
       " object)"
      ]
     },
     "execution_count": 18,
     "metadata": {},
     "output_type": "execute_result"
    }
   ],
   "source": [
    "TemporarySecretary.__mro__"
   ]
  },
  {
   "cell_type": "markdown",
   "id": "bf2b324e-9723-419e-b5b8-94ef64c8ecdf",
   "metadata": {},
   "source": [
    "ii. Modified the code and Run the code"
   ]
  },
  {
   "cell_type": "code",
   "execution_count": 21,
   "id": "b2ac7aae-1c45-4d27-8f62-5f96b458451b",
   "metadata": {},
   "outputs": [],
   "source": [
    "class TemporarySecretary(Hourly_employee, Secretary_role):\n",
    "    pass"
   ]
  },
  {
   "cell_type": "code",
   "execution_count": 23,
   "id": "55e47214-fe7a-4cbc-8faa-047037dc5f91",
   "metadata": {},
   "outputs": [
    {
     "ename": "TypeError",
     "evalue": "__init__() missing 1 required positional argument: 'weekly_salary'",
     "output_type": "error",
     "traceback": [
      "\u001b[1;31m---------------------------------------------------------------------------\u001b[0m",
      "\u001b[1;31mTypeError\u001b[0m                                 Traceback (most recent call last)",
      "Cell \u001b[1;32mIn[23], line 1\u001b[0m\n\u001b[1;32m----> 1\u001b[0m temporary_secretary \u001b[38;5;241m=\u001b[39m \u001b[43mTemporarySecretary\u001b[49m\u001b[43m(\u001b[49m\u001b[38;5;241;43m5\u001b[39;49m\u001b[43m,\u001b[49m\u001b[43m \u001b[49m\u001b[38;5;124;43m\"\u001b[39;49m\u001b[38;5;124;43mRobin Williams\u001b[39;49m\u001b[38;5;124;43m\"\u001b[39;49m\u001b[43m,\u001b[49m\u001b[43m \u001b[49m\u001b[38;5;241;43m40\u001b[39;49m\u001b[43m,\u001b[49m\u001b[43m \u001b[49m\u001b[38;5;241;43m9\u001b[39;49m\u001b[43m)\u001b[49m\n",
      "Cell \u001b[1;32mIn[6], line 3\u001b[0m, in \u001b[0;36mHourly_employee.__init__\u001b[1;34m(self, id, name, hours_worked, hourly_rate)\u001b[0m\n\u001b[0;32m      2\u001b[0m \u001b[38;5;28;01mdef\u001b[39;00m \u001b[38;5;21m__init__\u001b[39m(\u001b[38;5;28mself\u001b[39m, \u001b[38;5;28mid\u001b[39m, name, hours_worked, hourly_rate):\n\u001b[1;32m----> 3\u001b[0m     \u001b[38;5;28;43msuper\u001b[39;49m\u001b[43m(\u001b[49m\u001b[43m)\u001b[49m\u001b[38;5;241;43m.\u001b[39;49m\u001b[38;5;21;43m__init__\u001b[39;49m\u001b[43m(\u001b[49m\u001b[38;5;28;43mid\u001b[39;49m\u001b[43m,\u001b[49m\u001b[43m \u001b[49m\u001b[43mname\u001b[49m\u001b[43m)\u001b[49m\n\u001b[0;32m      4\u001b[0m     \u001b[38;5;28mself\u001b[39m\u001b[38;5;241m.\u001b[39mhours_worked \u001b[38;5;241m=\u001b[39m hours_worked\n\u001b[0;32m      5\u001b[0m     \u001b[38;5;28mself\u001b[39m\u001b[38;5;241m.\u001b[39mhourly_rate \u001b[38;5;241m=\u001b[39m hourly_rate\n",
      "\u001b[1;31mTypeError\u001b[0m: __init__() missing 1 required positional argument: 'weekly_salary'"
     ]
    }
   ],
   "source": [
    "temporary_secretary = TemporarySecretary(5, \"Robin Williams\", 40, 9)"
   ]
  },
  {
   "cell_type": "code",
   "execution_count": 22,
   "id": "596d5eb0-c3bb-4ff4-bf43-f8d93f80a767",
   "metadata": {},
   "outputs": [
    {
     "data": {
      "text/plain": [
       "(__main__.TemporarySecretary,\n",
       " __main__.Hourly_employee,\n",
       " __main__.Secretary_role,\n",
       " __main__.Salary_employee,\n",
       " __main__.Employee,\n",
       " object)"
      ]
     },
     "execution_count": 22,
     "metadata": {},
     "output_type": "execute_result"
    }
   ],
   "source": [
    "TemporarySecretary.__mro__"
   ]
  },
  {
   "cell_type": "markdown",
   "id": "2e6c1890-4e90-4bb4-82dd-6b8b4098333a",
   "metadata": {},
   "source": [
    "iii. Modified the code and Run the code"
   ]
  },
  {
   "cell_type": "code",
   "execution_count": 26,
   "id": "3b701a3c-81f3-47fa-a0e5-be0f6cdb4bc8",
   "metadata": {},
   "outputs": [],
   "source": [
    "class TemporarySecretary(Hourly_employee, Secretary_role):\n",
    "    def __init__(self, id, name, hours_worked, hourly_rate):\n",
    "        super().__init__(id, name, hours_worked, hourly_rate)"
   ]
  },
  {
   "cell_type": "code",
   "execution_count": 27,
   "id": "19c47dea-189c-4b70-aaca-d8e92ce6551a",
   "metadata": {},
   "outputs": [
    {
     "ename": "TypeError",
     "evalue": "__init__() missing 1 required positional argument: 'weekly_salary'",
     "output_type": "error",
     "traceback": [
      "\u001b[1;31m---------------------------------------------------------------------------\u001b[0m",
      "\u001b[1;31mTypeError\u001b[0m                                 Traceback (most recent call last)",
      "Cell \u001b[1;32mIn[27], line 1\u001b[0m\n\u001b[1;32m----> 1\u001b[0m temporary_secretary \u001b[38;5;241m=\u001b[39m \u001b[43mTemporarySecretary\u001b[49m\u001b[43m(\u001b[49m\u001b[38;5;241;43m5\u001b[39;49m\u001b[43m,\u001b[49m\u001b[43m \u001b[49m\u001b[38;5;124;43m\"\u001b[39;49m\u001b[38;5;124;43mRobin Williams\u001b[39;49m\u001b[38;5;124;43m\"\u001b[39;49m\u001b[43m,\u001b[49m\u001b[43m \u001b[49m\u001b[38;5;241;43m40\u001b[39;49m\u001b[43m,\u001b[49m\u001b[43m \u001b[49m\u001b[38;5;241;43m9\u001b[39;49m\u001b[43m)\u001b[49m\n",
      "Cell \u001b[1;32mIn[26], line 3\u001b[0m, in \u001b[0;36mTemporarySecretary.__init__\u001b[1;34m(self, id, name, hours_worked, hourly_rate)\u001b[0m\n\u001b[0;32m      2\u001b[0m \u001b[38;5;28;01mdef\u001b[39;00m \u001b[38;5;21m__init__\u001b[39m(\u001b[38;5;28mself\u001b[39m, \u001b[38;5;28mid\u001b[39m, name, hours_worked, hourly_rate):\n\u001b[1;32m----> 3\u001b[0m     \u001b[38;5;28;43msuper\u001b[39;49m\u001b[43m(\u001b[49m\u001b[43m)\u001b[49m\u001b[38;5;241;43m.\u001b[39;49m\u001b[38;5;21;43m__init__\u001b[39;49m\u001b[43m(\u001b[49m\u001b[38;5;28;43mid\u001b[39;49m\u001b[43m,\u001b[49m\u001b[43m \u001b[49m\u001b[43mname\u001b[49m\u001b[43m,\u001b[49m\u001b[43m \u001b[49m\u001b[43mhours_worked\u001b[49m\u001b[43m,\u001b[49m\u001b[43m \u001b[49m\u001b[43mhourly_rate\u001b[49m\u001b[43m)\u001b[49m\n",
      "Cell \u001b[1;32mIn[6], line 3\u001b[0m, in \u001b[0;36mHourly_employee.__init__\u001b[1;34m(self, id, name, hours_worked, hourly_rate)\u001b[0m\n\u001b[0;32m      2\u001b[0m \u001b[38;5;28;01mdef\u001b[39;00m \u001b[38;5;21m__init__\u001b[39m(\u001b[38;5;28mself\u001b[39m, \u001b[38;5;28mid\u001b[39m, name, hours_worked, hourly_rate):\n\u001b[1;32m----> 3\u001b[0m     \u001b[38;5;28;43msuper\u001b[39;49m\u001b[43m(\u001b[49m\u001b[43m)\u001b[49m\u001b[38;5;241;43m.\u001b[39;49m\u001b[38;5;21;43m__init__\u001b[39;49m\u001b[43m(\u001b[49m\u001b[38;5;28;43mid\u001b[39;49m\u001b[43m,\u001b[49m\u001b[43m \u001b[49m\u001b[43mname\u001b[49m\u001b[43m)\u001b[49m\n\u001b[0;32m      4\u001b[0m     \u001b[38;5;28mself\u001b[39m\u001b[38;5;241m.\u001b[39mhours_worked \u001b[38;5;241m=\u001b[39m hours_worked\n\u001b[0;32m      5\u001b[0m     \u001b[38;5;28mself\u001b[39m\u001b[38;5;241m.\u001b[39mhourly_rate \u001b[38;5;241m=\u001b[39m hourly_rate\n",
      "\u001b[1;31mTypeError\u001b[0m: __init__() missing 1 required positional argument: 'weekly_salary'"
     ]
    }
   ],
   "source": [
    "temporary_secretary = TemporarySecretary(5, \"Robin Williams\", 40, 9)"
   ]
  },
  {
   "cell_type": "code",
   "execution_count": 44,
   "id": "f7f38567-a252-4d67-aebd-d080320f9f0a",
   "metadata": {},
   "outputs": [
    {
     "data": {
      "text/plain": [
       "(__main__.TemporarySecretary,\n",
       " __main__.Secretary_role,\n",
       " __main__.Salary_employee,\n",
       " __main__.Hourly_employee,\n",
       " __main__.Employee,\n",
       " object)"
      ]
     },
     "execution_count": 44,
     "metadata": {},
     "output_type": "execute_result"
    }
   ],
   "source": [
    "TemporarySecretary.__mro__"
   ]
  },
  {
   "cell_type": "markdown",
   "id": "61bb19ba-4adf-428f-a7c0-70a638b19af3",
   "metadata": {},
   "source": [
    "iv. Modified the code and Run the code"
   ]
  },
  {
   "cell_type": "code",
   "execution_count": 32,
   "id": "630229da-fc4d-472f-a366-184a979aaa74",
   "metadata": {},
   "outputs": [],
   "source": [
    "class TemporarySecretary(Secretary_role, Hourly_employee):\n",
    "    def __init__(self, id, name, hours_worked, hourly_rate):\n",
    "        Hourly_employee.__init__(self, id, name, hours_worked, hourly_rate)\n"
   ]
  },
  {
   "cell_type": "code",
   "execution_count": 37,
   "id": "421f4826-e90e-46f8-ad8a-d557fadcdc2f",
   "metadata": {},
   "outputs": [
    {
     "name": "stdout",
     "output_type": "stream",
     "text": [
      "Productivity System Tracking\n",
      "-----------------------------\n",
      "Robin Williams efficiently organizes and manages documents for 40 hours.\n",
      "\n",
      "Calculate Payroll\n",
      "===========================\n",
      "Payroll for: 5 - Robin Williams\n"
     ]
    },
    {
     "ename": "AttributeError",
     "evalue": "'TemporarySecretary' object has no attribute 'weekly_salary'",
     "output_type": "error",
     "traceback": [
      "\u001b[1;31m---------------------------------------------------------------------------\u001b[0m",
      "\u001b[1;31mAttributeError\u001b[0m                            Traceback (most recent call last)",
      "Cell \u001b[1;32mIn[37], line 6\u001b[0m\n\u001b[0;32m      4\u001b[0m productivity_system\u001b[38;5;241m.\u001b[39mTrack(company_employees, \u001b[38;5;241m40\u001b[39m)\n\u001b[0;32m      5\u001b[0m payroll_system \u001b[38;5;241m=\u001b[39m Payroll_system()\n\u001b[1;32m----> 6\u001b[0m \u001b[43mpayroll_system\u001b[49m\u001b[38;5;241;43m.\u001b[39;49m\u001b[43mcalculate_payroll\u001b[49m\u001b[43m(\u001b[49m\u001b[43mcompany_employees\u001b[49m\u001b[43m)\u001b[49m\n",
      "Cell \u001b[1;32mIn[3], line 7\u001b[0m, in \u001b[0;36mPayroll_system.calculate_payroll\u001b[1;34m(self, employees)\u001b[0m\n\u001b[0;32m      5\u001b[0m \u001b[38;5;28;01mfor\u001b[39;00m employee \u001b[38;5;129;01min\u001b[39;00m employees:\n\u001b[0;32m      6\u001b[0m     \u001b[38;5;28mprint\u001b[39m(\u001b[38;5;124mf\u001b[39m\u001b[38;5;124m\"\u001b[39m\u001b[38;5;124mPayroll for: \u001b[39m\u001b[38;5;132;01m{\u001b[39;00memployee\u001b[38;5;241m.\u001b[39mid\u001b[38;5;132;01m}\u001b[39;00m\u001b[38;5;124m - \u001b[39m\u001b[38;5;132;01m{\u001b[39;00memployee\u001b[38;5;241m.\u001b[39mname\u001b[38;5;132;01m}\u001b[39;00m\u001b[38;5;124m\"\u001b[39m)\n\u001b[1;32m----> 7\u001b[0m     \u001b[38;5;28mprint\u001b[39m(\u001b[38;5;124mf\u001b[39m\u001b[38;5;124m\"\u001b[39m\u001b[38;5;124m- Check amount: \u001b[39m\u001b[38;5;132;01m{\u001b[39;00memployee\u001b[38;5;241m.\u001b[39mcalculate_payroll()\u001b[38;5;132;01m}\u001b[39;00m\u001b[38;5;124m\"\u001b[39m)\n\u001b[0;32m      8\u001b[0m     \u001b[38;5;28mprint\u001b[39m()\n",
      "Cell \u001b[1;32mIn[5], line 7\u001b[0m, in \u001b[0;36mSalary_employee.calculate_payroll\u001b[1;34m(self)\u001b[0m\n\u001b[0;32m      6\u001b[0m \u001b[38;5;28;01mdef\u001b[39;00m \u001b[38;5;21mcalculate_payroll\u001b[39m(\u001b[38;5;28mself\u001b[39m):\n\u001b[1;32m----> 7\u001b[0m     \u001b[38;5;28;01mreturn\u001b[39;00m \u001b[38;5;28;43mself\u001b[39;49m\u001b[38;5;241;43m.\u001b[39;49m\u001b[43mweekly_salary\u001b[49m\n",
      "\u001b[1;31mAttributeError\u001b[0m: 'TemporarySecretary' object has no attribute 'weekly_salary'"
     ]
    }
   ],
   "source": [
    "temporary_secretary = TemporarySecretary(5, \"Robin Williams\", 40, 9)\n",
    "company_employees = [temporary_secretary]\n",
    "productivity_system = Productivity_system()\n",
    "productivity_system.Track(company_employees, 40)\n",
    "payroll_system = Payroll_system()\n",
    "payroll_system.calculate_payroll(company_employees)\n"
   ]
  },
  {
   "cell_type": "code",
   "execution_count": 45,
   "id": "77f571be-dd86-4c15-aa75-81f72b9e4f20",
   "metadata": {},
   "outputs": [
    {
     "data": {
      "text/plain": [
       "(__main__.TemporarySecretary,\n",
       " __main__.Secretary_role,\n",
       " __main__.Salary_employee,\n",
       " __main__.Hourly_employee,\n",
       " __main__.Employee,\n",
       " object)"
      ]
     },
     "execution_count": 45,
     "metadata": {},
     "output_type": "execute_result"
    }
   ],
   "source": [
    "TemporarySecretary.__mro__"
   ]
  },
  {
   "cell_type": "markdown",
   "id": "4da34afa-c5cd-4c10-b444-ca39d18815db",
   "metadata": {},
   "source": [
    "v. Modified the code and Run the code"
   ]
  },
  {
   "cell_type": "code",
   "execution_count": 52,
   "id": "8d1d31a4-184d-4c71-84bb-cfb89f4db6c0",
   "metadata": {},
   "outputs": [],
   "source": [
    "class TemporarySecretary(Secretary_role, Hourly_employee):\n",
    "    def __init__(self, id, name, hours_worked, hourly_rate):\n",
    "        Hourly_employee.__init__(self, id, name, hours_worked, hourly_rate)\n",
    "    def calculate_payroll(self):\n",
    "        return Hourly_employee.calculate_payroll(self)"
   ]
  },
  {
   "cell_type": "code",
   "execution_count": 54,
   "id": "eebae304-783e-440b-8a60-c686da028ce5",
   "metadata": {},
   "outputs": [
    {
     "name": "stdout",
     "output_type": "stream",
     "text": [
      "Productivity System Tracking\n",
      "-----------------------------\n",
      "Robin Williams efficiently organizes and manages documents for 40 hours.\n",
      "\n",
      "Calculate Payroll\n",
      "===========================\n",
      "Payroll for: 5 - Robin Williams\n",
      "- Check amount: 360\n",
      "\n"
     ]
    }
   ],
   "source": [
    "temporary_secretary = TemporarySecretary(5, \"Robin Williams\", 40, 9)\n",
    "company_employees = [temporary_secretary]\n",
    "productivity_system = Productivity_system()\n",
    "productivity_system.Track(company_employees, 40)\n",
    "payroll_system = Payroll_system()\n",
    "payroll_system.calculate_payroll(company_employees)\n"
   ]
  },
  {
   "cell_type": "code",
   "execution_count": 55,
   "id": "958c91b6-3a8d-42e6-9dbb-a00a09ead0c8",
   "metadata": {},
   "outputs": [
    {
     "data": {
      "text/plain": [
       "(__main__.TemporarySecretary,\n",
       " __main__.Secretary_role,\n",
       " __main__.Salary_employee,\n",
       " __main__.Employee,\n",
       " __main__.Hourly_employee,\n",
       " __main__.Employee,\n",
       " object)"
      ]
     },
     "execution_count": 55,
     "metadata": {},
     "output_type": "execute_result"
    }
   ],
   "source": [
    "TemporarySecretary.__mro__"
   ]
  },
  {
   "cell_type": "code",
   "execution_count": null,
   "id": "51012327-974a-4997-8edf-5695295a8d4b",
   "metadata": {},
   "outputs": [],
   "source": []
  }
 ],
 "metadata": {
  "kernelspec": {
   "display_name": "Python 3 (ipykernel)",
   "language": "python",
   "name": "python3"
  },
  "language_info": {
   "codemirror_mode": {
    "name": "ipython",
    "version": 3
   },
   "file_extension": ".py",
   "mimetype": "text/x-python",
   "name": "python",
   "nbconvert_exporter": "python",
   "pygments_lexer": "ipython3",
   "version": "3.7.1"
  }
 },
 "nbformat": 4,
 "nbformat_minor": 5
}
